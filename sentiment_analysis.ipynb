{
 "cells": [
  {
   "cell_type": "markdown",
   "metadata": {},
   "source": [
    "# **Sentiment Analysis of Drug Reviews using LLMs**"
   ]
  },
  {
   "cell_type": "markdown",
   "metadata": {},
   "source": [
    "### Notebook Overview: Sentiment Analysis and Text Summarization Experiments with LLM APIs\n",
    "\n",
    "This notebook explores experiments conducted using various models and APIs for sentiment analysis and text summarization tasks. Key highlights include:\n",
    "\n",
    "- **BERT Sentiment Analysis:**\n",
    "- Conducted sentiment analysis using a `BERT`-based model.\n",
    "  - Optimized processing through batch processing on MPS (Metal Performance Shaders) `GPU` , significantly reducing inference time.\n",
    "\n",
    "- **Sentiment Analysis with LLM APIs:**\n",
    "  - Leveraged `Gemini API`, `OpenAI API`, and `GROQ API` for sentiment analysis.\n",
    "  - Optimized Gemini API by analyzing sentiments for 100 drug reviews in a single batch call, improving efficiency and overcoming free-tier limitations.\n",
    "\n",
    "- **Review Summarization:** \n",
    "  - Used Gemini API to generate concise summaries of drug reviews, providing aggregated insights for each drug.\n",
    "\n",
    "These experiments aim to evaluate the performance and scalability of different models and APIs for text-based healthcare analytics, demonstrating practical optimizations for handling large datasets effectively.\n"
   ]
  },
  {
   "cell_type": "code",
   "execution_count": 23,
   "metadata": {},
   "outputs": [
    {
     "data": {
      "text/html": [
       "<div>\n",
       "<style scoped>\n",
       "    .dataframe tbody tr th:only-of-type {\n",
       "        vertical-align: middle;\n",
       "    }\n",
       "\n",
       "    .dataframe tbody tr th {\n",
       "        vertical-align: top;\n",
       "    }\n",
       "\n",
       "    .dataframe thead th {\n",
       "        text-align: right;\n",
       "    }\n",
       "</style>\n",
       "<table border=\"1\" class=\"dataframe\">\n",
       "  <thead>\n",
       "    <tr style=\"text-align: right;\">\n",
       "      <th></th>\n",
       "      <th>drugName</th>\n",
       "      <th>condition</th>\n",
       "      <th>review</th>\n",
       "      <th>rating</th>\n",
       "      <th>date</th>\n",
       "      <th>usefulCount</th>\n",
       "      <th>prep_review</th>\n",
       "      <th>prep_review_token</th>\n",
       "      <th>prep_review_stpwrd</th>\n",
       "    </tr>\n",
       "  </thead>\n",
       "  <tbody>\n",
       "    <tr>\n",
       "      <th>0</th>\n",
       "      <td>Valsartan</td>\n",
       "      <td>Left Ventricular Dysfunction</td>\n",
       "      <td>\"It has no side effect, I take it in combinati...</td>\n",
       "      <td>9</td>\n",
       "      <td>2012-05-20</td>\n",
       "      <td>27</td>\n",
       "      <td>it have no side effect I take it in combinatio...</td>\n",
       "      <td>['it', 'have', 'no', 'side', 'effect', 'I', 't...</td>\n",
       "      <td>effect combination bystolic mg fish oil</td>\n",
       "    </tr>\n",
       "    <tr>\n",
       "      <th>1</th>\n",
       "      <td>Guanfacine</td>\n",
       "      <td>ADHD</td>\n",
       "      <td>\"My son is halfway through his fourth week of ...</td>\n",
       "      <td>8</td>\n",
       "      <td>2010-04-27</td>\n",
       "      <td>192</td>\n",
       "      <td>my son be halfway through his fourth week of i...</td>\n",
       "      <td>['my', 'son', 'be', 'halfway', 'through', 'his...</td>\n",
       "      <td>son halfway fourth week intuniv concerned begi...</td>\n",
       "    </tr>\n",
       "    <tr>\n",
       "      <th>2</th>\n",
       "      <td>Lybrel</td>\n",
       "      <td>Birth Control</td>\n",
       "      <td>\"I used to take another oral contraceptive, wh...</td>\n",
       "      <td>5</td>\n",
       "      <td>2009-12-14</td>\n",
       "      <td>17</td>\n",
       "      <td>I use to take another oral contraceptive which...</td>\n",
       "      <td>['I', 'use', 'to', 'take', 'another', 'oral', ...</td>\n",
       "      <td>oral contraceptive pill cycle happy light peri...</td>\n",
       "    </tr>\n",
       "    <tr>\n",
       "      <th>3</th>\n",
       "      <td>Ortho Evra</td>\n",
       "      <td>Birth Control</td>\n",
       "      <td>\"This is my first time using any form of birth...</td>\n",
       "      <td>8</td>\n",
       "      <td>2015-11-03</td>\n",
       "      <td>10</td>\n",
       "      <td>this be my first time use any form of birth co...</td>\n",
       "      <td>['this', 'be', 'my', 'first', 'time', 'use', '...</td>\n",
       "      <td>time form birth control m glad go patch month ...</td>\n",
       "    </tr>\n",
       "    <tr>\n",
       "      <th>4</th>\n",
       "      <td>Buprenorphine / naloxone</td>\n",
       "      <td>Opiate Dependence</td>\n",
       "      <td>\"Suboxone has completely turned my life around...</td>\n",
       "      <td>9</td>\n",
       "      <td>2016-11-27</td>\n",
       "      <td>37</td>\n",
       "      <td>suboxone have completely turn my life around I...</td>\n",
       "      <td>['suboxone', 'have', 'completely', 'turn', 'my...</td>\n",
       "      <td>suboxone completely turn life feel healthy m e...</td>\n",
       "    </tr>\n",
       "  </tbody>\n",
       "</table>\n",
       "</div>"
      ],
      "text/plain": [
       "                   drugName                     condition  \\\n",
       "0                 Valsartan  Left Ventricular Dysfunction   \n",
       "1                Guanfacine                          ADHD   \n",
       "2                    Lybrel                 Birth Control   \n",
       "3                Ortho Evra                 Birth Control   \n",
       "4  Buprenorphine / naloxone             Opiate Dependence   \n",
       "\n",
       "                                              review  rating        date  \\\n",
       "0  \"It has no side effect, I take it in combinati...       9  2012-05-20   \n",
       "1  \"My son is halfway through his fourth week of ...       8  2010-04-27   \n",
       "2  \"I used to take another oral contraceptive, wh...       5  2009-12-14   \n",
       "3  \"This is my first time using any form of birth...       8  2015-11-03   \n",
       "4  \"Suboxone has completely turned my life around...       9  2016-11-27   \n",
       "\n",
       "   usefulCount                                        prep_review  \\\n",
       "0           27  it have no side effect I take it in combinatio...   \n",
       "1          192  my son be halfway through his fourth week of i...   \n",
       "2           17  I use to take another oral contraceptive which...   \n",
       "3           10  this be my first time use any form of birth co...   \n",
       "4           37  suboxone have completely turn my life around I...   \n",
       "\n",
       "                                   prep_review_token  \\\n",
       "0  ['it', 'have', 'no', 'side', 'effect', 'I', 't...   \n",
       "1  ['my', 'son', 'be', 'halfway', 'through', 'his...   \n",
       "2  ['I', 'use', 'to', 'take', 'another', 'oral', ...   \n",
       "3  ['this', 'be', 'my', 'first', 'time', 'use', '...   \n",
       "4  ['suboxone', 'have', 'completely', 'turn', 'my...   \n",
       "\n",
       "                                  prep_review_stpwrd  \n",
       "0            effect combination bystolic mg fish oil  \n",
       "1  son halfway fourth week intuniv concerned begi...  \n",
       "2  oral contraceptive pill cycle happy light peri...  \n",
       "3  time form birth control m glad go patch month ...  \n",
       "4  suboxone completely turn life feel healthy m e...  "
      ]
     },
     "execution_count": 23,
     "metadata": {},
     "output_type": "execute_result"
    }
   ],
   "source": [
    "import pandas as pd \n",
    "\n",
    "df =  pd.read_csv(\"preprocessed_reviews.csv\")\n",
    "df.head(5)"
   ]
  },
  {
   "cell_type": "code",
   "execution_count": 24,
   "metadata": {},
   "outputs": [
    {
     "data": {
      "text/html": [
       "<div>\n",
       "<style scoped>\n",
       "    .dataframe tbody tr th:only-of-type {\n",
       "        vertical-align: middle;\n",
       "    }\n",
       "\n",
       "    .dataframe tbody tr th {\n",
       "        vertical-align: top;\n",
       "    }\n",
       "\n",
       "    .dataframe thead th {\n",
       "        text-align: right;\n",
       "    }\n",
       "</style>\n",
       "<table border=\"1\" class=\"dataframe\">\n",
       "  <thead>\n",
       "    <tr style=\"text-align: right;\">\n",
       "      <th></th>\n",
       "      <th>drugName</th>\n",
       "      <th>condition</th>\n",
       "      <th>review</th>\n",
       "      <th>rating</th>\n",
       "      <th>date</th>\n",
       "      <th>usefulCount</th>\n",
       "      <th>prep_review</th>\n",
       "      <th>prep_review_token</th>\n",
       "      <th>prep_review_stpwrd</th>\n",
       "    </tr>\n",
       "  </thead>\n",
       "  <tbody>\n",
       "    <tr>\n",
       "      <th>0</th>\n",
       "      <td>Valsartan</td>\n",
       "      <td>Left Ventricular Dysfunction</td>\n",
       "      <td>\"It has no side effect, I take it in combinati...</td>\n",
       "      <td>9</td>\n",
       "      <td>2012-05-20</td>\n",
       "      <td>27</td>\n",
       "      <td>it have no side effect I take it in combinatio...</td>\n",
       "      <td>['it', 'have', 'no', 'side', 'effect', 'I', 't...</td>\n",
       "      <td>effect combination bystolic mg fish oil</td>\n",
       "    </tr>\n",
       "    <tr>\n",
       "      <th>1</th>\n",
       "      <td>Guanfacine</td>\n",
       "      <td>ADHD</td>\n",
       "      <td>\"My son is halfway through his fourth week of ...</td>\n",
       "      <td>8</td>\n",
       "      <td>2010-04-27</td>\n",
       "      <td>192</td>\n",
       "      <td>my son be halfway through his fourth week of i...</td>\n",
       "      <td>['my', 'son', 'be', 'halfway', 'through', 'his...</td>\n",
       "      <td>son halfway fourth week intuniv concerned begi...</td>\n",
       "    </tr>\n",
       "    <tr>\n",
       "      <th>2</th>\n",
       "      <td>Lybrel</td>\n",
       "      <td>Birth Control</td>\n",
       "      <td>\"I used to take another oral contraceptive, wh...</td>\n",
       "      <td>5</td>\n",
       "      <td>2009-12-14</td>\n",
       "      <td>17</td>\n",
       "      <td>I use to take another oral contraceptive which...</td>\n",
       "      <td>['I', 'use', 'to', 'take', 'another', 'oral', ...</td>\n",
       "      <td>oral contraceptive pill cycle happy light peri...</td>\n",
       "    </tr>\n",
       "    <tr>\n",
       "      <th>3</th>\n",
       "      <td>Ortho Evra</td>\n",
       "      <td>Birth Control</td>\n",
       "      <td>\"This is my first time using any form of birth...</td>\n",
       "      <td>8</td>\n",
       "      <td>2015-11-03</td>\n",
       "      <td>10</td>\n",
       "      <td>this be my first time use any form of birth co...</td>\n",
       "      <td>['this', 'be', 'my', 'first', 'time', 'use', '...</td>\n",
       "      <td>time form birth control m glad go patch month ...</td>\n",
       "    </tr>\n",
       "    <tr>\n",
       "      <th>4</th>\n",
       "      <td>Buprenorphine / naloxone</td>\n",
       "      <td>Opiate Dependence</td>\n",
       "      <td>\"Suboxone has completely turned my life around...</td>\n",
       "      <td>9</td>\n",
       "      <td>2016-11-27</td>\n",
       "      <td>37</td>\n",
       "      <td>suboxone have completely turn my life around I...</td>\n",
       "      <td>['suboxone', 'have', 'completely', 'turn', 'my...</td>\n",
       "      <td>suboxone completely turn life feel healthy m e...</td>\n",
       "    </tr>\n",
       "    <tr>\n",
       "      <th>...</th>\n",
       "      <td>...</td>\n",
       "      <td>...</td>\n",
       "      <td>...</td>\n",
       "      <td>...</td>\n",
       "      <td>...</td>\n",
       "      <td>...</td>\n",
       "      <td>...</td>\n",
       "      <td>...</td>\n",
       "      <td>...</td>\n",
       "    </tr>\n",
       "    <tr>\n",
       "      <th>161292</th>\n",
       "      <td>Campral</td>\n",
       "      <td>Alcohol Dependence</td>\n",
       "      <td>\"I wrote my first report in Mid-October of 201...</td>\n",
       "      <td>10</td>\n",
       "      <td>2015-05-31</td>\n",
       "      <td>125</td>\n",
       "      <td>I write my first report in midoctober of I hav...</td>\n",
       "      <td>['I', 'write', 'my', 'first', 'report', 'in', ...</td>\n",
       "      <td>write report midoctober alcohol post reduce do...</td>\n",
       "    </tr>\n",
       "    <tr>\n",
       "      <th>161293</th>\n",
       "      <td>Metoclopramide</td>\n",
       "      <td>Nausea/Vomiting</td>\n",
       "      <td>\"I was given this in IV before surgey. I immed...</td>\n",
       "      <td>1</td>\n",
       "      <td>2011-11-01</td>\n",
       "      <td>34</td>\n",
       "      <td>I be give this in iv before surgey I immediate...</td>\n",
       "      <td>['I', 'be', 'give', 'this', 'in', 'iv', 'befor...</td>\n",
       "      <td>give iv surgey immediately anxious sit pa say ...</td>\n",
       "    </tr>\n",
       "    <tr>\n",
       "      <th>161294</th>\n",
       "      <td>Orencia</td>\n",
       "      <td>Rheumatoid Arthritis</td>\n",
       "      <td>\"Limited improvement after 4 months, developed...</td>\n",
       "      <td>2</td>\n",
       "      <td>2014-03-15</td>\n",
       "      <td>35</td>\n",
       "      <td>limit improvement after month develop bad rash...</td>\n",
       "      <td>['limit', 'improvement', 'after', 'month', 'de...</td>\n",
       "      <td>limit improvement month develop bad rash md re...</td>\n",
       "    </tr>\n",
       "    <tr>\n",
       "      <th>161295</th>\n",
       "      <td>Thyroid desiccated</td>\n",
       "      <td>Underactive Thyroid</td>\n",
       "      <td>\"I&amp;#039;ve been on thyroid medication 49 years...</td>\n",
       "      <td>10</td>\n",
       "      <td>2015-09-19</td>\n",
       "      <td>79</td>\n",
       "      <td>I ve be on thyroid medication year I spend my ...</td>\n",
       "      <td>['I', 've', 'be', 'on', 'thyroid', 'medication...</td>\n",
       "      <td>ve thyroid medication year spend synthroid t4 ...</td>\n",
       "    </tr>\n",
       "    <tr>\n",
       "      <th>161296</th>\n",
       "      <td>Lubiprostone</td>\n",
       "      <td>Constipation, Chronic</td>\n",
       "      <td>\"I&amp;#039;ve had chronic constipation all my adu...</td>\n",
       "      <td>9</td>\n",
       "      <td>2014-12-13</td>\n",
       "      <td>116</td>\n",
       "      <td>I ve have chronic constipation all my adult li...</td>\n",
       "      <td>['I', 've', 'have', 'chronic', 'constipation',...</td>\n",
       "      <td>ve chronic constipation adult life try linzess...</td>\n",
       "    </tr>\n",
       "  </tbody>\n",
       "</table>\n",
       "<p>161297 rows × 9 columns</p>\n",
       "</div>"
      ],
      "text/plain": [
       "                        drugName                     condition  \\\n",
       "0                      Valsartan  Left Ventricular Dysfunction   \n",
       "1                     Guanfacine                          ADHD   \n",
       "2                         Lybrel                 Birth Control   \n",
       "3                     Ortho Evra                 Birth Control   \n",
       "4       Buprenorphine / naloxone             Opiate Dependence   \n",
       "...                          ...                           ...   \n",
       "161292                   Campral            Alcohol Dependence   \n",
       "161293            Metoclopramide               Nausea/Vomiting   \n",
       "161294                   Orencia          Rheumatoid Arthritis   \n",
       "161295        Thyroid desiccated           Underactive Thyroid   \n",
       "161296              Lubiprostone         Constipation, Chronic   \n",
       "\n",
       "                                                   review  rating        date  \\\n",
       "0       \"It has no side effect, I take it in combinati...       9  2012-05-20   \n",
       "1       \"My son is halfway through his fourth week of ...       8  2010-04-27   \n",
       "2       \"I used to take another oral contraceptive, wh...       5  2009-12-14   \n",
       "3       \"This is my first time using any form of birth...       8  2015-11-03   \n",
       "4       \"Suboxone has completely turned my life around...       9  2016-11-27   \n",
       "...                                                   ...     ...         ...   \n",
       "161292  \"I wrote my first report in Mid-October of 201...      10  2015-05-31   \n",
       "161293  \"I was given this in IV before surgey. I immed...       1  2011-11-01   \n",
       "161294  \"Limited improvement after 4 months, developed...       2  2014-03-15   \n",
       "161295  \"I&#039;ve been on thyroid medication 49 years...      10  2015-09-19   \n",
       "161296  \"I&#039;ve had chronic constipation all my adu...       9  2014-12-13   \n",
       "\n",
       "        usefulCount                                        prep_review  \\\n",
       "0                27  it have no side effect I take it in combinatio...   \n",
       "1               192  my son be halfway through his fourth week of i...   \n",
       "2                17  I use to take another oral contraceptive which...   \n",
       "3                10  this be my first time use any form of birth co...   \n",
       "4                37  suboxone have completely turn my life around I...   \n",
       "...             ...                                                ...   \n",
       "161292          125  I write my first report in midoctober of I hav...   \n",
       "161293           34  I be give this in iv before surgey I immediate...   \n",
       "161294           35  limit improvement after month develop bad rash...   \n",
       "161295           79  I ve be on thyroid medication year I spend my ...   \n",
       "161296          116  I ve have chronic constipation all my adult li...   \n",
       "\n",
       "                                        prep_review_token  \\\n",
       "0       ['it', 'have', 'no', 'side', 'effect', 'I', 't...   \n",
       "1       ['my', 'son', 'be', 'halfway', 'through', 'his...   \n",
       "2       ['I', 'use', 'to', 'take', 'another', 'oral', ...   \n",
       "3       ['this', 'be', 'my', 'first', 'time', 'use', '...   \n",
       "4       ['suboxone', 'have', 'completely', 'turn', 'my...   \n",
       "...                                                   ...   \n",
       "161292  ['I', 'write', 'my', 'first', 'report', 'in', ...   \n",
       "161293  ['I', 'be', 'give', 'this', 'in', 'iv', 'befor...   \n",
       "161294  ['limit', 'improvement', 'after', 'month', 'de...   \n",
       "161295  ['I', 've', 'be', 'on', 'thyroid', 'medication...   \n",
       "161296  ['I', 've', 'have', 'chronic', 'constipation',...   \n",
       "\n",
       "                                       prep_review_stpwrd  \n",
       "0                 effect combination bystolic mg fish oil  \n",
       "1       son halfway fourth week intuniv concerned begi...  \n",
       "2       oral contraceptive pill cycle happy light peri...  \n",
       "3       time form birth control m glad go patch month ...  \n",
       "4       suboxone completely turn life feel healthy m e...  \n",
       "...                                                   ...  \n",
       "161292  write report midoctober alcohol post reduce do...  \n",
       "161293  give iv surgey immediately anxious sit pa say ...  \n",
       "161294  limit improvement month develop bad rash md re...  \n",
       "161295  ve thyroid medication year spend synthroid t4 ...  \n",
       "161296  ve chronic constipation adult life try linzess...  \n",
       "\n",
       "[161297 rows x 9 columns]"
      ]
     },
     "execution_count": 24,
     "metadata": {},
     "output_type": "execute_result"
    }
   ],
   "source": [
    "df"
   ]
  },
  {
   "cell_type": "markdown",
   "metadata": {},
   "source": [
    "#### Initial experiment of sentiment analysis using TextBlob\n"
   ]
  },
  {
   "cell_type": "code",
   "execution_count": 446,
   "metadata": {},
   "outputs": [],
   "source": [
    "# Just a very basic approach to sentiment analysis\n",
    "from textblob import TextBlob\n",
    "\n",
    "# Define the sentiment classification function\n",
    "def classify_sentiment(polarity):\n",
    "    if polarity > 0.1:  # Adjust threshold as needed\n",
    "        return 'pos'\n",
    "    elif polarity < -0.1:\n",
    "        return 'neg'\n",
    "    else:\n",
    "        return 'neu'\n",
    "    \n",
    "df['polarity'] = df['review'].apply(lambda x: TextBlob(x).sentiment.polarity)\n",
    "\n",
    "# Apply the classification function\n",
    "df['sentiment_textBlob'] = df['polarity'].apply(classify_sentiment)"
   ]
  },
  {
   "cell_type": "code",
   "execution_count": null,
   "metadata": {},
   "outputs": [
    {
     "data": {
      "text/html": [
       "<div>\n",
       "<style scoped>\n",
       "    .dataframe tbody tr th:only-of-type {\n",
       "        vertical-align: middle;\n",
       "    }\n",
       "\n",
       "    .dataframe tbody tr th {\n",
       "        vertical-align: top;\n",
       "    }\n",
       "\n",
       "    .dataframe thead th {\n",
       "        text-align: right;\n",
       "    }\n",
       "</style>\n",
       "<table border=\"1\" class=\"dataframe\">\n",
       "  <thead>\n",
       "    <tr style=\"text-align: right;\">\n",
       "      <th></th>\n",
       "      <th>drugName</th>\n",
       "      <th>condition</th>\n",
       "      <th>review</th>\n",
       "      <th>sentiment</th>\n",
       "    </tr>\n",
       "  </thead>\n",
       "  <tbody>\n",
       "    <tr>\n",
       "      <th>0</th>\n",
       "      <td>Valsartan</td>\n",
       "      <td>Left Ventricular Dysfunction</td>\n",
       "      <td>\"It has no side effect, I take it in combination of Bystolic 5 Mg and Fish Oil\"</td>\n",
       "      <td>neu</td>\n",
       "    </tr>\n",
       "    <tr>\n",
       "      <th>1</th>\n",
       "      <td>Guanfacine</td>\n",
       "      <td>ADHD</td>\n",
       "      <td>\"My son is halfway through his fourth week of Intuniv. We became concerned when he began this last week, when he started taking the highest dose he will be on. For two days, he could hardly get out of bed, was very cranky, and slept for nearly 8 hours on a drive home from school vacation (very unusual for him.) I called his doctor on Monday morning and she said to stick it out a few days. See how he did at school, and with getting up in the morning. The last two days have been problem free. He is MUCH more agreeable than ever. He is less emotional (a good thing), less cranky. He is remembering all the things he should. Overall his behavior is better. \\r\\nWe have tried many different medications and so far this is the most effective.\"</td>\n",
       "      <td>pos</td>\n",
       "    </tr>\n",
       "    <tr>\n",
       "      <th>2</th>\n",
       "      <td>Lybrel</td>\n",
       "      <td>Birth Control</td>\n",
       "      <td>\"I used to take another oral contraceptive, which had 21 pill cycle, and was very happy- very light periods, max 5 days, no other side effects. But it contained hormone gestodene, which is not available in US, so I switched to Lybrel, because the ingredients are similar. When my other pills ended, I started Lybrel immediately, on my first day of period, as the instructions said. And the period lasted for two weeks. When taking the second pack- same two weeks. And now, with third pack things got even worse- my third period lasted for two weeks and now it&amp;#039;s the end of the third week- I still have daily brown discharge.\\r\\nThe positive side is that I didn&amp;#039;t have any other side effects. The idea of being period free was so tempting... Alas.\"</td>\n",
       "      <td>neu</td>\n",
       "    </tr>\n",
       "    <tr>\n",
       "      <th>3</th>\n",
       "      <td>Ortho Evra</td>\n",
       "      <td>Birth Control</td>\n",
       "      <td>\"This is my first time using any form of birth control. I&amp;#039;m glad I went with the patch, I have been on it for 8 months. At first It decreased my libido but that subsided. The only downside is that it made my periods longer (5-6 days to be exact) I used to only have periods for 3-4 days max also made my cramps intense for the first two days of my period, I never had cramps before using birth control. Other than that in happy with the patch\"</td>\n",
       "      <td>pos</td>\n",
       "    </tr>\n",
       "    <tr>\n",
       "      <th>4</th>\n",
       "      <td>Buprenorphine / naloxone</td>\n",
       "      <td>Opiate Dependence</td>\n",
       "      <td>\"Suboxone has completely turned my life around.  I feel healthier, I&amp;#039;m excelling at my job and I always have money in my pocket and my savings account.  I had none of those before Suboxone and spent years abusing oxycontin.  My paycheck was already spent by the time I got it and I started resorting to scheming and stealing to fund my addiction.  All that is history.  If you&amp;#039;re ready to stop, there&amp;#039;s a good chance that suboxone will put you on the path of great life again.  I have found the side-effects to be minimal compared to oxycontin.  I&amp;#039;m actually sleeping better.   Slight constipation is about it for me.  It truly is amazing. The cost pales in comparison to what I spent on oxycontin.\"</td>\n",
       "      <td>pos</td>\n",
       "    </tr>\n",
       "    <tr>\n",
       "      <th>5</th>\n",
       "      <td>Cialis</td>\n",
       "      <td>Benign Prostatic Hyperplasia</td>\n",
       "      <td>\"2nd day on 5mg started to work with rock hard erections however experianced headache, lower bowel preassure. 3rd day erections would wake me up &amp;amp; hurt! Leg/ankles aches   severe lower bowel preassure like you need to go #2 but can&amp;#039;t! Enjoyed the initial rockhard erections but not at these side effects or $230 for months supply! I&amp;#039;m 50 &amp;amp; work out 3Xs a week. Not worth side effects!\"</td>\n",
       "      <td>neu</td>\n",
       "    </tr>\n",
       "    <tr>\n",
       "      <th>6</th>\n",
       "      <td>Levonorgestrel</td>\n",
       "      <td>Emergency Contraception</td>\n",
       "      <td>\"He pulled out, but he cummed a bit in me. I took the Plan B 26 hours later, and took a pregnancy test two weeks later - - I&amp;#039;m pregnant.\"</td>\n",
       "      <td>pos</td>\n",
       "    </tr>\n",
       "    <tr>\n",
       "      <th>7</th>\n",
       "      <td>Aripiprazole</td>\n",
       "      <td>Bipolar Disorde</td>\n",
       "      <td>\"Abilify changed my life. There is hope. I was on Zoloft and Clonidine when I first started Abilify at the age of 15.. Zoloft for depression and Clondine to manage my complete rage. My moods were out of control. I was depressed and hopeless one second and then mean, irrational, and full of rage the next. My Dr. prescribed me 2mg of Abilify and from that point on I feel like I have been cured though I know I&amp;#039;m not.. Bi-polar disorder is a constant battle. I know Abilify works for me because I have tried to get off it and lost complete control over my emotions. Went back on it and I was golden again.  I am on 5mg 2x daily. I am now 21 and better than I have ever been in the past. Only side effect is I like to eat a lot.\"</td>\n",
       "      <td>neu</td>\n",
       "    </tr>\n",
       "    <tr>\n",
       "      <th>8</th>\n",
       "      <td>Keppra</td>\n",
       "      <td>Epilepsy</td>\n",
       "      <td>\" I Ve had  nothing but problems with the Keppera : constant shaking in my arms &amp;amp; legs &amp;amp; pins &amp;amp; needles feeling in my arms &amp;amp; legs severe light headedness no appetite &amp;amp; etc.\"</td>\n",
       "      <td>pos</td>\n",
       "    </tr>\n",
       "    <tr>\n",
       "      <th>9</th>\n",
       "      <td>Ethinyl estradiol / levonorgestrel</td>\n",
       "      <td>Birth Control</td>\n",
       "      <td>\"I had been on the pill for many years. When my doctor changed my RX to chateal, it was as effective. It really did help me by completely clearing my acne, this takes about 6 months though. I did not gain extra weight, or develop any emotional health issues. I stopped taking it bc I started using a more natural method of birth control, but started to take it bc I hate that my acne came back at age 28. I really hope symptoms like depression, or weight gain do not begin to affect me as I am older now. I&amp;#039;m also naturally moody, so this may worsen things. I was in a negative mental rut today. Also I hope this doesn&amp;#039;t push me over the edge, as I believe I am depressed. Hopefully it&amp;#039;ll be just like when I was younger.\"</td>\n",
       "      <td>neu</td>\n",
       "    </tr>\n",
       "  </tbody>\n",
       "</table>\n",
       "</div>"
      ],
      "text/plain": [
       "                             drugName                     condition  \\\n",
       "0                           Valsartan  Left Ventricular Dysfunction   \n",
       "1                          Guanfacine                          ADHD   \n",
       "2                              Lybrel                 Birth Control   \n",
       "3                          Ortho Evra                 Birth Control   \n",
       "4            Buprenorphine / naloxone             Opiate Dependence   \n",
       "5                              Cialis  Benign Prostatic Hyperplasia   \n",
       "6                      Levonorgestrel       Emergency Contraception   \n",
       "7                        Aripiprazole               Bipolar Disorde   \n",
       "8                              Keppra                      Epilepsy   \n",
       "9  Ethinyl estradiol / levonorgestrel                 Birth Control   \n",
       "\n",
       "                                                                                                                                                                                                                                                                                                                                                                                                                                                                                                                                                                                                                                                                                                                                                                                  review  \\\n",
       "0                                                                                                                                                                                                                                                                                                                                                                                                                                                                                                                                                                                                                                                                                                        \"It has no side effect, I take it in combination of Bystolic 5 Mg and Fish Oil\"   \n",
       "1                \"My son is halfway through his fourth week of Intuniv. We became concerned when he began this last week, when he started taking the highest dose he will be on. For two days, he could hardly get out of bed, was very cranky, and slept for nearly 8 hours on a drive home from school vacation (very unusual for him.) I called his doctor on Monday morning and she said to stick it out a few days. See how he did at school, and with getting up in the morning. The last two days have been problem free. He is MUCH more agreeable than ever. He is less emotional (a good thing), less cranky. He is remembering all the things he should. Overall his behavior is better. \\r\\nWe have tried many different medications and so far this is the most effective.\"   \n",
       "2  \"I used to take another oral contraceptive, which had 21 pill cycle, and was very happy- very light periods, max 5 days, no other side effects. But it contained hormone gestodene, which is not available in US, so I switched to Lybrel, because the ingredients are similar. When my other pills ended, I started Lybrel immediately, on my first day of period, as the instructions said. And the period lasted for two weeks. When taking the second pack- same two weeks. And now, with third pack things got even worse- my third period lasted for two weeks and now it&#039;s the end of the third week- I still have daily brown discharge.\\r\\nThe positive side is that I didn&#039;t have any other side effects. The idea of being period free was so tempting... Alas.\"   \n",
       "3                                                                                                                                                                                                                                                                                                                       \"This is my first time using any form of birth control. I&#039;m glad I went with the patch, I have been on it for 8 months. At first It decreased my libido but that subsided. The only downside is that it made my periods longer (5-6 days to be exact) I used to only have periods for 3-4 days max also made my cramps intense for the first two days of my period, I never had cramps before using birth control. Other than that in happy with the patch\"   \n",
       "4                                        \"Suboxone has completely turned my life around.  I feel healthier, I&#039;m excelling at my job and I always have money in my pocket and my savings account.  I had none of those before Suboxone and spent years abusing oxycontin.  My paycheck was already spent by the time I got it and I started resorting to scheming and stealing to fund my addiction.  All that is history.  If you&#039;re ready to stop, there&#039;s a good chance that suboxone will put you on the path of great life again.  I have found the side-effects to be minimal compared to oxycontin.  I&#039;m actually sleeping better.   Slight constipation is about it for me.  It truly is amazing. The cost pales in comparison to what I spent on oxycontin.\"   \n",
       "5                                                                                                                                                                                                                                                                                                                                                                    \"2nd day on 5mg started to work with rock hard erections however experianced headache, lower bowel preassure. 3rd day erections would wake me up &amp; hurt! Leg/ankles aches   severe lower bowel preassure like you need to go #2 but can&#039;t! Enjoyed the initial rockhard erections but not at these side effects or $230 for months supply! I&#039;m 50 &amp; work out 3Xs a week. Not worth side effects!\"   \n",
       "6                                                                                                                                                                                                                                                                                                                                                                                                                                                                                                                                                                                                                                         \"He pulled out, but he cummed a bit in me. I took the Plan B 26 hours later, and took a pregnancy test two weeks later - - I&#039;m pregnant.\"   \n",
       "7                          \"Abilify changed my life. There is hope. I was on Zoloft and Clonidine when I first started Abilify at the age of 15.. Zoloft for depression and Clondine to manage my complete rage. My moods were out of control. I was depressed and hopeless one second and then mean, irrational, and full of rage the next. My Dr. prescribed me 2mg of Abilify and from that point on I feel like I have been cured though I know I&#039;m not.. Bi-polar disorder is a constant battle. I know Abilify works for me because I have tried to get off it and lost complete control over my emotions. Went back on it and I was golden again.  I am on 5mg 2x daily. I am now 21 and better than I have ever been in the past. Only side effect is I like to eat a lot.\"   \n",
       "8                                                                                                                                                                                                                                                                                                                                                                                                                                                                                                                                                                                      \" I Ve had  nothing but problems with the Keppera : constant shaking in my arms &amp; legs &amp; pins &amp; needles feeling in my arms &amp; legs severe light headedness no appetite &amp; etc.\"   \n",
       "9                      \"I had been on the pill for many years. When my doctor changed my RX to chateal, it was as effective. It really did help me by completely clearing my acne, this takes about 6 months though. I did not gain extra weight, or develop any emotional health issues. I stopped taking it bc I started using a more natural method of birth control, but started to take it bc I hate that my acne came back at age 28. I really hope symptoms like depression, or weight gain do not begin to affect me as I am older now. I&#039;m also naturally moody, so this may worsen things. I was in a negative mental rut today. Also I hope this doesn&#039;t push me over the edge, as I believe I am depressed. Hopefully it&#039;ll be just like when I was younger.\"   \n",
       "\n",
       "  sentiment  \n",
       "0       neu  \n",
       "1       pos  \n",
       "2       neu  \n",
       "3       pos  \n",
       "4       pos  \n",
       "5       neu  \n",
       "6       pos  \n",
       "7       neu  \n",
       "8       pos  \n",
       "9       neu  "
      ]
     },
     "execution_count": 5,
     "metadata": {},
     "output_type": "execute_result"
    }
   ],
   "source": [
    "pd.set_option('display.max_colwidth', None)\n",
    "df[[df.columns[0], df.columns[1], 'review', 'sentiment']].head(10)"
   ]
  },
  {
   "cell_type": "markdown",
   "metadata": {},
   "source": [
    "----"
   ]
  },
  {
   "cell_type": "markdown",
   "metadata": {},
   "source": [
    "### BERT sentiment analysis"
   ]
  },
  {
   "cell_type": "code",
   "execution_count": null,
   "metadata": {},
   "outputs": [
    {
     "name": "stdout",
     "output_type": "stream",
     "text": [
      "2.4.0\n"
     ]
    }
   ],
   "source": [
    "import torch\n",
    "print(torch.__version__)"
   ]
  },
  {
   "cell_type": "code",
   "execution_count": null,
   "metadata": {},
   "outputs": [
    {
     "name": "stderr",
     "output_type": "stream",
     "text": [
      "Some weights of BertForSequenceClassification were not initialized from the model checkpoint at bert-base-uncased and are newly initialized: ['classifier.bias', 'classifier.weight']\n",
      "You should probably TRAIN this model on a down-stream task to be able to use it for predictions and inference.\n"
     ]
    }
   ],
   "source": [
    "from transformers import BertForSequenceClassification, BertTokenizer\n",
    "import torch\n",
    "\n",
    "# # Load pre-trained model and tokenizer\n",
    "# model = BertForSequenceClassification.from_pretrained('bert-base-uncased', num_labels=2)\n",
    "# tokenizer = BertTokenizer.from_pretrained('bert-base-uncased')\n"
   ]
  },
  {
   "cell_type": "markdown",
   "metadata": {},
   "source": [
    "### Understanding Padding and Truncation in BERT Tokenization\n",
    "\n",
    "- **Padding**:\n",
    "  - Padding is applied to ensure that all sequences within a batch have the same length.\n",
    "  - The tokenizer pads sequences to the length of the longest sequence in the current batch.\n",
    "  - This ensures uniformity in input dimensions for batch processing.\n",
    "\n",
    "- **Truncation**:\n",
    "  - Truncation is applied to sequences that exceed a specified maximum length (usually 512 tokens for BERT).\n",
    "  - It ensures that sequences longer than the model’s maximum allowable length are cut down to fit within the limit.\n",
    "  - Truncation is crucial to prevent errors when sequences exceed the model’s input capacity.\n",
    "\n",
    "- **Combined Use**:\n",
    "  - Padding and truncation are often used together:\n",
    "    - **Padding** makes sure all sequences in a batch are of equal length.\n",
    "    - **Truncation** ensures that none of the sequences exceed the model's maximum length.\n",
    "\n",
    "**Example**: For BERT, sequences are padded to the longest sequence in the batch, but any sequence longer than 512 tokens is truncated to fit within the model's limit.\n"
   ]
  },
  {
   "cell_type": "code",
   "execution_count": null,
   "metadata": {},
   "outputs": [],
   "source": [
    "# # Tokenize input\n",
    "# inputs = tokenizer(\"The product was a complete waste of money.\", return_tensors=\"pt\")\n",
    "\n",
    "# # Make prediction\n",
    "# outputs = model(**inputs)\n",
    "# prediction = torch.argmax(outputs.logits).item()\n",
    "# Below we can use the tokenization as the part of the pipeline rather than doing it manually."
   ]
  },
  {
   "cell_type": "markdown",
   "metadata": {},
   "source": [
    "##### First performed without using batching or GPU (no optimization, more time consuming)"
   ]
  },
  {
   "cell_type": "code",
   "execution_count": null,
   "metadata": {},
   "outputs": [],
   "source": [
    "from transformers import pipeline\n",
    "\n",
    "\n",
    "# Initialize the sentiment analysis pipeline with custom tokenizer parameters\n",
    "sentiment_analysis = pipeline(\n",
    "    'sentiment-analysis', \n",
    "    model=\"distilbert-base-uncased-finetuned-sst-2-english\",\n",
    "    tokenizer=\"distilbert-base-uncased-finetuned-sst-2-english\",\n",
    "    padding=True,              # Enable padding\n",
    "    truncation=True,           # Enable truncation\n",
    "    max_length=512             # Set maximum sequence length\n",
    ")\n",
    "\n",
    "\n",
    "# # Apply the sentiment analysis pipeline to each review in the DataFrame\n",
    "# df['sentiment'],df['score'] = df['review'].apply(lambda x: pd.Series(sentiment_analysis(x)[0]['label']))\n",
    "\n"
   ]
  },
  {
   "cell_type": "code",
   "execution_count": null,
   "metadata": {},
   "outputs": [],
   "source": [
    "df[['sentiment', 'score']] = df['review'].apply(lambda x: pd.Series(sentiment_analysis(x)[0]))\n",
    "# very much time consuming, need to optimize (64 minutes)"
   ]
  },
  {
   "cell_type": "code",
   "execution_count": null,
   "metadata": {},
   "outputs": [
    {
     "data": {
      "text/html": [
       "<div>\n",
       "<style scoped>\n",
       "    .dataframe tbody tr th:only-of-type {\n",
       "        vertical-align: middle;\n",
       "    }\n",
       "\n",
       "    .dataframe tbody tr th {\n",
       "        vertical-align: top;\n",
       "    }\n",
       "\n",
       "    .dataframe thead th {\n",
       "        text-align: right;\n",
       "    }\n",
       "</style>\n",
       "<table border=\"1\" class=\"dataframe\">\n",
       "  <thead>\n",
       "    <tr style=\"text-align: right;\">\n",
       "      <th></th>\n",
       "      <th>drugName</th>\n",
       "      <th>review</th>\n",
       "      <th>sentiment</th>\n",
       "      <th>score</th>\n",
       "    </tr>\n",
       "  </thead>\n",
       "  <tbody>\n",
       "    <tr>\n",
       "      <th>15</th>\n",
       "      <td>Liraglutide</td>\n",
       "      <td>\"I have been taking Saxenda since July 2016.  I had severe nausea for about a month once I got up to the 2.6 dosage.  It has since subsided and the only side effect I notice now is the dry mouth.  I make sure to drink  2.5 litres of water a day (about 10 glasses).  This helps with the weight loss as well as the constipation.  I have been reducing my dose to find a comfortable spot where I am still losing weight but don&amp;#039;t feel like I am over medicating.  For me, 1.8 is working very well.  I also feel wearing a Fitbit has really helped.  I can track my food, water, exercise and steps - it keeps me moving more.  When this started I could barely walk the length of myself without getting winded - I have lost 58 lbs so far.\"</td>\n",
       "      <td>POSITIVE</td>\n",
       "      <td>0.659131</td>\n",
       "    </tr>\n",
       "    <tr>\n",
       "      <th>16</th>\n",
       "      <td>Trimethoprim</td>\n",
       "      <td>\"This drug worked very well for me and cleared up my UTI in a matter of 48hrs, although I was on a 7 day course of 2x200mg/daily. Unfortunately once the tablets finished the infection returned so needed a 2nd course. I&amp;#039;m currently taking a low dose at evening to keep the infection at bay while the specialists do some tests.  I normally get every side effect going and dread taking new medication in any form especially after an horrific experience with Ciorofloxacin but the only side effect I experienced with this was itchy ankles and feet on day two but that didn&amp;#039;t last into third day so I would class this as a minor side effect and insignificant. Good luck.\"</td>\n",
       "      <td>NEGATIVE</td>\n",
       "      <td>0.998607</td>\n",
       "    </tr>\n",
       "    <tr>\n",
       "      <th>17</th>\n",
       "      <td>Amitriptyline</td>\n",
       "      <td>\"I&amp;#039;ve been taking amitriptyline since January 2013 after being diagnosed with fibromyalgia. I tried cymbalta for a week and my Dr decided that since it kept me awake 24/7 that it wasn&amp;#039;t a good fit for me even though it relieved my pain. I started with 25 mg. After 2 weeks I had some breakthrough pain, so my Dr increased my dosage to 50mg and I&amp;#039;m still on that dosage today. For the first full year I was on this I never had pain and felt &amp;#039;cured&amp;#039;. As time went on, it seems to help control my pain. I do still have pain, but at a low manageable level. I take this around 7pm each evening to avoid feeling overly drowsy in the mornings. This med allows me to have a fairly normal life.\"</td>\n",
       "      <td>POSITIVE</td>\n",
       "      <td>0.500642</td>\n",
       "    </tr>\n",
       "    <tr>\n",
       "      <th>18</th>\n",
       "      <td>Lamotrigine</td>\n",
       "      <td>\"I&amp;#039;ve been on every medicine under the sun (it seems) to manage the hypomania / mania of Bipolar2. Within a few days of starting Lamictal (was on Tegretol) it was as if someone had turned a light on in my head. Is this the way &amp;quot;normal&amp;quot; people think? was one of the first things that struck me. I sleep like a log, have no irritability, almost no anger (other than what would be considered normal). I am able to focus and my creative, impulsive thoughts have decreased enough to be manageable. It&amp;#039;s a God send as I would perennially be in a state of hypo mania, which sounds great, but I was physically and emotionally exhausted. My libido is markedly lower but I wonder if that is perhaps an effect of not being hypo manic. I take 20 mg for anxiety.\"</td>\n",
       "      <td>NEGATIVE</td>\n",
       "      <td>0.994631</td>\n",
       "    </tr>\n",
       "    <tr>\n",
       "      <th>19</th>\n",
       "      <td>Nilotinib</td>\n",
       "      <td>\"I have been on Tasigna for just over 3 years now (300mg x 2 times a day) Tasigna worked for me within a few weeks I have been in remission for basically the entire 3 years. As for the side effects, I feel sick to my stomach, tired,  severe leg and arm pain, I can&amp;#039;t walk to long without needing a break, I went from working full time to not working at all because I am so tired all the time.... but hey I am in remission and alive so is all the above really a problem? Nope\"</td>\n",
       "      <td>NEGATIVE</td>\n",
       "      <td>0.968858</td>\n",
       "    </tr>\n",
       "  </tbody>\n",
       "</table>\n",
       "</div>"
      ],
      "text/plain": [
       "         drugName  \\\n",
       "15    Liraglutide   \n",
       "16   Trimethoprim   \n",
       "17  Amitriptyline   \n",
       "18    Lamotrigine   \n",
       "19      Nilotinib   \n",
       "\n",
       "                                                                                                                                                                                                                                                                                                                                                                                                                                                                                                                                                                                                                                                                                                                                                                                                review  \\\n",
       "15                                       \"I have been taking Saxenda since July 2016.  I had severe nausea for about a month once I got up to the 2.6 dosage.  It has since subsided and the only side effect I notice now is the dry mouth.  I make sure to drink  2.5 litres of water a day (about 10 glasses).  This helps with the weight loss as well as the constipation.  I have been reducing my dose to find a comfortable spot where I am still losing weight but don&#039;t feel like I am over medicating.  For me, 1.8 is working very well.  I also feel wearing a Fitbit has really helped.  I can track my food, water, exercise and steps - it keeps me moving more.  When this started I could barely walk the length of myself without getting winded - I have lost 58 lbs so far.\"   \n",
       "16                                                                                                \"This drug worked very well for me and cleared up my UTI in a matter of 48hrs, although I was on a 7 day course of 2x200mg/daily. Unfortunately once the tablets finished the infection returned so needed a 2nd course. I&#039;m currently taking a low dose at evening to keep the infection at bay while the specialists do some tests.  I normally get every side effect going and dread taking new medication in any form especially after an horrific experience with Ciorofloxacin but the only side effect I experienced with this was itchy ankles and feet on day two but that didn&#039;t last into third day so I would class this as a minor side effect and insignificant. Good luck.\"   \n",
       "17                                                             \"I&#039;ve been taking amitriptyline since January 2013 after being diagnosed with fibromyalgia. I tried cymbalta for a week and my Dr decided that since it kept me awake 24/7 that it wasn&#039;t a good fit for me even though it relieved my pain. I started with 25 mg. After 2 weeks I had some breakthrough pain, so my Dr increased my dosage to 50mg and I&#039;m still on that dosage today. For the first full year I was on this I never had pain and felt &#039;cured&#039;. As time went on, it seems to help control my pain. I do still have pain, but at a low manageable level. I take this around 7pm each evening to avoid feeling overly drowsy in the mornings. This med allows me to have a fairly normal life.\"   \n",
       "18  \"I&#039;ve been on every medicine under the sun (it seems) to manage the hypomania / mania of Bipolar2. Within a few days of starting Lamictal (was on Tegretol) it was as if someone had turned a light on in my head. Is this the way &quot;normal&quot; people think? was one of the first things that struck me. I sleep like a log, have no irritability, almost no anger (other than what would be considered normal). I am able to focus and my creative, impulsive thoughts have decreased enough to be manageable. It&#039;s a God send as I would perennially be in a state of hypo mania, which sounds great, but I was physically and emotionally exhausted. My libido is markedly lower but I wonder if that is perhaps an effect of not being hypo manic. I take 20 mg for anxiety.\"   \n",
       "19                                                                                                                                                                                                                                                                                                    \"I have been on Tasigna for just over 3 years now (300mg x 2 times a day) Tasigna worked for me within a few weeks I have been in remission for basically the entire 3 years. As for the side effects, I feel sick to my stomach, tired,  severe leg and arm pain, I can&#039;t walk to long without needing a break, I went from working full time to not working at all because I am so tired all the time.... but hey I am in remission and alive so is all the above really a problem? Nope\"   \n",
       "\n",
       "   sentiment     score  \n",
       "15  POSITIVE  0.659131  \n",
       "16  NEGATIVE  0.998607  \n",
       "17  POSITIVE  0.500642  \n",
       "18  NEGATIVE  0.994631  \n",
       "19  NEGATIVE  0.968858  "
      ]
     },
     "execution_count": 61,
     "metadata": {},
     "output_type": "execute_result"
    }
   ],
   "source": [
    "df[['drugName', 'review', 'sentiment', 'score']][15:20]"
   ]
  },
  {
   "cell_type": "code",
   "execution_count": null,
   "metadata": {},
   "outputs": [],
   "source": [
    "from datasets import Dataset\n",
    "import pandas as pd\n",
    "\n",
    "\n",
    "# Convert your pandas DataFrame to a Hugging Face Dataset\n",
    "dataset = Dataset.from_pandas(df)\n",
    "# Huigging face dataset functionality - more optimized and efficient data storage using Apache Arrow, allows us to work with large datasets which may not fit in memory"
   ]
  },
  {
   "cell_type": "code",
   "execution_count": null,
   "metadata": {},
   "outputs": [
    {
     "data": {
      "text/plain": [
       "Dataset({\n",
       "    features: ['drugName', 'condition', 'review', 'rating', 'date', 'usefulCount', 'prep_review', 'prep_review_token', 'prep_review_stpwrd'],\n",
       "    num_rows: 161297\n",
       "})"
      ]
     },
     "execution_count": 8,
     "metadata": {},
     "output_type": "execute_result"
    }
   ],
   "source": [
    "dataset"
   ]
  },
  {
   "cell_type": "markdown",
   "metadata": {},
   "source": [
    "### Understanding Batch Processing in BERT\n",
    "\n",
    "**Batch Size and Input Tensor:**\n",
    "- **Batch Size (`N`)**: The number of sequences (e.g., reviews) processed simultaneously.\n",
    "- **Sequence Length (`L`)**: The number of tokens in each sequence (up to 512 for BERT).\n",
    "- **Hidden Size (`H`)**: The dimensionality of the embeddings and hidden states inside BERT (usually 768 for BERT-base).\n",
    "\n",
    "When processing a batch of 256 reviews with BERT, the input tensor typically has the shape `[N, L, H] = [256, 512, 768]`.\n",
    "\n",
    "**Parallel Processing in BERT:**\n",
    "- **Vectorized Operations**: BERT performs matrix multiplications and other operations on all elements of the batch in parallel. Modern hardware, especially GPUs, is optimized for these large tensor operations.\n",
    "- **Layer-by-Layer Processing**: BERT processes the entire batch layer by layer, where each layer's operations are applied to all sequences in the batch simultaneously.\n",
    "- **Attention Mechanism**: BERT's attention mechanisms compute relationships between tokens in a highly parallelized manner, leveraging the batch structure to maximize computational efficiency.\n",
    "\n",
    "**Efficiency Considerations:**\n",
    "- **Memory Usage**: Larger batch sizes require more memory, as the model needs to store intermediate activations for all sequences in the batch.\n",
    "- **Computation**: While the computational load increases with batch size, parallel processing on GPUs significantly reduces the time taken compared to sequential processing.\n",
    "\n",
    "**Output Tensor:**\n",
    "- After processing, BERT outputs a tensor with shape `[N, L, H]`. For tasks like sentiment analysis, this might be reduced to `[N, num_labels]` (e.g., `[256, 2]` for binary classification), where each sequence in the batch receives a probability distribution over the possible labels.\n",
    "\n",
    "**Key Takeaway:**\n",
    "- **Batch processing** allows BERT to efficiently handle multiple sequences in parallel, making full use of modern hardware capabilities. The batch size is not limited by BERT itself but by the available memory and computational power of the hardware.\n",
    "\n",
    "This understanding helps in optimizing the processing of large datasets with BERT, balancing batch size with available resources to maximize efficiency.\n"
   ]
  },
  {
   "cell_type": "code",
   "execution_count": null,
   "metadata": {},
   "outputs": [],
   "source": [
    "import torch"
   ]
  },
  {
   "cell_type": "code",
   "execution_count": null,
   "metadata": {},
   "outputs": [
    {
     "name": "stdout",
     "output_type": "stream",
     "text": [
      "MPS (Metal) device found!\n"
     ]
    }
   ],
   "source": [
    "# Check if MPS (Metal Performance Shaders) is available (GPU Check for MacBook)\n",
    "if torch.backends.mps.is_available():\n",
    "    device = torch.device(\"mps\")\n",
    "    print(\"MPS (Metal) device found!\")\n",
    "else:\n",
    "    device = torch.device(\"cpu\")\n",
    "    print(\"MPS device not found. Using CPU.\")"
   ]
  },
  {
   "cell_type": "code",
   "execution_count": null,
   "metadata": {},
   "outputs": [],
   "source": [
    "import torch\n",
    "from transformers import AutoTokenizer, AutoModelForSequenceClassification, pipeline\n",
    "from datasets import Dataset\n",
    "from tqdm import tqdm\n",
    "import pandas as pd\n",
    "\n",
    "\n",
    "# Load the model and tokenizer\n",
    "model_name = \"distilbert-base-uncased-finetuned-sst-2-english\"\n",
    "tokenizer = AutoTokenizer.from_pretrained(model_name)\n",
    "model = AutoModelForSequenceClassification.from_pretrained(model_name).to(device)\n",
    "\n",
    "# Check for MPS and move model to MPS\n",
    "device = torch.device(\"mps\") if torch.backends.mps.is_available() else torch.device(\"cpu\")\n",
    "model.to(device)\n",
    "\n",
    "# Initialize the sentiment analysis pipeline\n",
    "# sentiment_analysis = pipeline(\n",
    "#     'sentiment-analysis', \n",
    "#     model=model,\n",
    "#     tokenizer=tokenizer,\n",
    "#     device=device\n",
    "# )\n",
    "sentiment_analysis = pipeline(\n",
    "    'sentiment-analysis', \n",
    "    model=\"distilbert-base-uncased-finetuned-sst-2-english\",\n",
    "    tokenizer=\"distilbert-base-uncased-finetuned-sst-2-english\",\n",
    "    padding=True,\n",
    "    truncation=True,\n",
    "    max_length=512, # token length allowed by BERT model\n",
    "    batch_size=256,  # Process reviews in batches of 32\n",
    "    device=0 if device == torch.device(\"mps\") else -1  # Set device=0 for MPS, -1 for CPU\n",
    "\n",
    ")\n",
    "\n",
    "\n",
    "# Convert your pandas DataFrame to a Hugging Face Dataset\n",
    "dataset = Dataset.from_pandas(df)\n",
    "\n",
    "# # Tokenize function (was trying to tokenize seperately but the tokenizer in pipeline streamlines this process automatically according to the model in use)\n",
    "# def tokenize_function(examples):\n",
    "#     return tokenizer(examples[\"review\"], padding=\"max_length\", truncation=True, max_length=512, return_tensors=\"pt\")\n",
    "\n",
    "# # Tokenize the dataset\n",
    "# tokenized_dataset = dataset.map(tokenize_function, batched=True, num_proc=1)  # num_proc=1 for M1/M2/M3 Macs\n",
    "\n"
   ]
  },
  {
   "cell_type": "code",
   "execution_count": null,
   "metadata": {},
   "outputs": [
    {
     "data": {
      "application/vnd.jupyter.widget-view+json": {
       "model_id": "7e39db9a5ac34dbcab2962f17dfd9a2d",
       "version_major": 2,
       "version_minor": 0
      },
      "text/plain": [
       "Processing:   0%|          | 0/161297 [00:00<?, ? examples/s]"
      ]
     },
     "metadata": {},
     "output_type": "display_data"
    }
   ],
   "source": [
    "# Define the function to apply the sentiment analysis in batches\n",
    "def compute_sentiment(batch):\n",
    "    with torch.no_grad(): # disable gradient computation for inference/evaluation\n",
    "        results = sentiment_analysis(batch['review'])\n",
    "    return {'sentiment': [result['label'] for result in results]}\n",
    "\n",
    "# Apply the function to the dataset\n",
    "processed_dataset = dataset.map(compute_sentiment, batched=True, batch_size=32, desc=\"Processing\")\n",
    "\n",
    "# Analysis time reduced by 50%"
   ]
  },
  {
   "cell_type": "code",
   "execution_count": null,
   "metadata": {},
   "outputs": [
    {
     "name": "stdout",
     "output_type": "stream",
     "text": [
      "Sentiment analysis complete!\n"
     ]
    },
    {
     "data": {
      "text/html": [
       "<div>\n",
       "<style scoped>\n",
       "    .dataframe tbody tr th:only-of-type {\n",
       "        vertical-align: middle;\n",
       "    }\n",
       "\n",
       "    .dataframe tbody tr th {\n",
       "        vertical-align: top;\n",
       "    }\n",
       "\n",
       "    .dataframe thead th {\n",
       "        text-align: right;\n",
       "    }\n",
       "</style>\n",
       "<table border=\"1\" class=\"dataframe\">\n",
       "  <thead>\n",
       "    <tr style=\"text-align: right;\">\n",
       "      <th></th>\n",
       "      <th>drugName</th>\n",
       "      <th>condition</th>\n",
       "      <th>review</th>\n",
       "      <th>rating</th>\n",
       "      <th>date</th>\n",
       "      <th>usefulCount</th>\n",
       "      <th>prep_review</th>\n",
       "      <th>prep_review_token</th>\n",
       "      <th>prep_review_stpwrd</th>\n",
       "      <th>sentiment</th>\n",
       "    </tr>\n",
       "  </thead>\n",
       "  <tbody>\n",
       "    <tr>\n",
       "      <th>0</th>\n",
       "      <td>Valsartan</td>\n",
       "      <td>Left Ventricular Dysfunction</td>\n",
       "      <td>\"It has no side effect, I take it in combinati...</td>\n",
       "      <td>9</td>\n",
       "      <td>2012-05-20</td>\n",
       "      <td>27</td>\n",
       "      <td>it have no side effect I take it in combinatio...</td>\n",
       "      <td>['it', 'have', 'no', 'side', 'effect', 'I', 't...</td>\n",
       "      <td>effect combination bystolic mg fish oil</td>\n",
       "      <td>NEGATIVE</td>\n",
       "    </tr>\n",
       "    <tr>\n",
       "      <th>1</th>\n",
       "      <td>Guanfacine</td>\n",
       "      <td>ADHD</td>\n",
       "      <td>\"My son is halfway through his fourth week of ...</td>\n",
       "      <td>8</td>\n",
       "      <td>2010-04-27</td>\n",
       "      <td>192</td>\n",
       "      <td>my son be halfway through his fourth week of i...</td>\n",
       "      <td>['my', 'son', 'be', 'halfway', 'through', 'his...</td>\n",
       "      <td>son halfway fourth week intuniv concerned begi...</td>\n",
       "      <td>POSITIVE</td>\n",
       "    </tr>\n",
       "    <tr>\n",
       "      <th>2</th>\n",
       "      <td>Lybrel</td>\n",
       "      <td>Birth Control</td>\n",
       "      <td>\"I used to take another oral contraceptive, wh...</td>\n",
       "      <td>5</td>\n",
       "      <td>2009-12-14</td>\n",
       "      <td>17</td>\n",
       "      <td>I use to take another oral contraceptive which...</td>\n",
       "      <td>['I', 'use', 'to', 'take', 'another', 'oral', ...</td>\n",
       "      <td>oral contraceptive pill cycle happy light peri...</td>\n",
       "      <td>NEGATIVE</td>\n",
       "    </tr>\n",
       "    <tr>\n",
       "      <th>3</th>\n",
       "      <td>Ortho Evra</td>\n",
       "      <td>Birth Control</td>\n",
       "      <td>\"This is my first time using any form of birth...</td>\n",
       "      <td>8</td>\n",
       "      <td>2015-11-03</td>\n",
       "      <td>10</td>\n",
       "      <td>this be my first time use any form of birth co...</td>\n",
       "      <td>['this', 'be', 'my', 'first', 'time', 'use', '...</td>\n",
       "      <td>time form birth control m glad go patch month ...</td>\n",
       "      <td>NEGATIVE</td>\n",
       "    </tr>\n",
       "    <tr>\n",
       "      <th>4</th>\n",
       "      <td>Buprenorphine / naloxone</td>\n",
       "      <td>Opiate Dependence</td>\n",
       "      <td>\"Suboxone has completely turned my life around...</td>\n",
       "      <td>9</td>\n",
       "      <td>2016-11-27</td>\n",
       "      <td>37</td>\n",
       "      <td>suboxone have completely turn my life around I...</td>\n",
       "      <td>['suboxone', 'have', 'completely', 'turn', 'my...</td>\n",
       "      <td>suboxone completely turn life feel healthy m e...</td>\n",
       "      <td>POSITIVE</td>\n",
       "    </tr>\n",
       "  </tbody>\n",
       "</table>\n",
       "</div>"
      ],
      "text/plain": [
       "                   drugName                     condition  \\\n",
       "0                 Valsartan  Left Ventricular Dysfunction   \n",
       "1                Guanfacine                          ADHD   \n",
       "2                    Lybrel                 Birth Control   \n",
       "3                Ortho Evra                 Birth Control   \n",
       "4  Buprenorphine / naloxone             Opiate Dependence   \n",
       "\n",
       "                                              review  rating        date  \\\n",
       "0  \"It has no side effect, I take it in combinati...       9  2012-05-20   \n",
       "1  \"My son is halfway through his fourth week of ...       8  2010-04-27   \n",
       "2  \"I used to take another oral contraceptive, wh...       5  2009-12-14   \n",
       "3  \"This is my first time using any form of birth...       8  2015-11-03   \n",
       "4  \"Suboxone has completely turned my life around...       9  2016-11-27   \n",
       "\n",
       "   usefulCount                                        prep_review  \\\n",
       "0           27  it have no side effect I take it in combinatio...   \n",
       "1          192  my son be halfway through his fourth week of i...   \n",
       "2           17  I use to take another oral contraceptive which...   \n",
       "3           10  this be my first time use any form of birth co...   \n",
       "4           37  suboxone have completely turn my life around I...   \n",
       "\n",
       "                                   prep_review_token  \\\n",
       "0  ['it', 'have', 'no', 'side', 'effect', 'I', 't...   \n",
       "1  ['my', 'son', 'be', 'halfway', 'through', 'his...   \n",
       "2  ['I', 'use', 'to', 'take', 'another', 'oral', ...   \n",
       "3  ['this', 'be', 'my', 'first', 'time', 'use', '...   \n",
       "4  ['suboxone', 'have', 'completely', 'turn', 'my...   \n",
       "\n",
       "                                  prep_review_stpwrd sentiment  \n",
       "0            effect combination bystolic mg fish oil  NEGATIVE  \n",
       "1  son halfway fourth week intuniv concerned begi...  POSITIVE  \n",
       "2  oral contraceptive pill cycle happy light peri...  NEGATIVE  \n",
       "3  time form birth control m glad go patch month ...  NEGATIVE  \n",
       "4  suboxone completely turn life feel healthy m e...  POSITIVE  "
      ]
     },
     "execution_count": 9,
     "metadata": {},
     "output_type": "execute_result"
    }
   ],
   "source": [
    "# Convert the results back to a pandas DataFrame\n",
    "results_df = processed_dataset.to_pandas()\n",
    "print(\"Sentiment analysis complete!\")\n",
    "results_df.head()\n"
   ]
  },
  {
   "cell_type": "code",
   "execution_count": null,
   "metadata": {},
   "outputs": [
    {
     "data": {
      "text/html": [
       "<div>\n",
       "<style scoped>\n",
       "    .dataframe tbody tr th:only-of-type {\n",
       "        vertical-align: middle;\n",
       "    }\n",
       "\n",
       "    .dataframe tbody tr th {\n",
       "        vertical-align: top;\n",
       "    }\n",
       "\n",
       "    .dataframe thead th {\n",
       "        text-align: right;\n",
       "    }\n",
       "</style>\n",
       "<table border=\"1\" class=\"dataframe\">\n",
       "  <thead>\n",
       "    <tr style=\"text-align: right;\">\n",
       "      <th></th>\n",
       "      <th>drugName</th>\n",
       "      <th>sentiment</th>\n",
       "    </tr>\n",
       "  </thead>\n",
       "  <tbody>\n",
       "    <tr>\n",
       "      <th>0</th>\n",
       "      <td>Valsartan</td>\n",
       "      <td>NEGATIVE</td>\n",
       "    </tr>\n",
       "    <tr>\n",
       "      <th>1</th>\n",
       "      <td>Guanfacine</td>\n",
       "      <td>POSITIVE</td>\n",
       "    </tr>\n",
       "    <tr>\n",
       "      <th>2</th>\n",
       "      <td>Lybrel</td>\n",
       "      <td>NEGATIVE</td>\n",
       "    </tr>\n",
       "    <tr>\n",
       "      <th>3</th>\n",
       "      <td>Ortho Evra</td>\n",
       "      <td>NEGATIVE</td>\n",
       "    </tr>\n",
       "    <tr>\n",
       "      <th>4</th>\n",
       "      <td>Buprenorphine / naloxone</td>\n",
       "      <td>POSITIVE</td>\n",
       "    </tr>\n",
       "    <tr>\n",
       "      <th>...</th>\n",
       "      <td>...</td>\n",
       "      <td>...</td>\n",
       "    </tr>\n",
       "    <tr>\n",
       "      <th>161292</th>\n",
       "      <td>Campral</td>\n",
       "      <td>NEGATIVE</td>\n",
       "    </tr>\n",
       "    <tr>\n",
       "      <th>161293</th>\n",
       "      <td>Metoclopramide</td>\n",
       "      <td>NEGATIVE</td>\n",
       "    </tr>\n",
       "    <tr>\n",
       "      <th>161294</th>\n",
       "      <td>Orencia</td>\n",
       "      <td>NEGATIVE</td>\n",
       "    </tr>\n",
       "    <tr>\n",
       "      <th>161295</th>\n",
       "      <td>Thyroid desiccated</td>\n",
       "      <td>POSITIVE</td>\n",
       "    </tr>\n",
       "    <tr>\n",
       "      <th>161296</th>\n",
       "      <td>Lubiprostone</td>\n",
       "      <td>POSITIVE</td>\n",
       "    </tr>\n",
       "  </tbody>\n",
       "</table>\n",
       "<p>161297 rows × 2 columns</p>\n",
       "</div>"
      ],
      "text/plain": [
       "                        drugName sentiment\n",
       "0                      Valsartan  NEGATIVE\n",
       "1                     Guanfacine  POSITIVE\n",
       "2                         Lybrel  NEGATIVE\n",
       "3                     Ortho Evra  NEGATIVE\n",
       "4       Buprenorphine / naloxone  POSITIVE\n",
       "...                          ...       ...\n",
       "161292                   Campral  NEGATIVE\n",
       "161293            Metoclopramide  NEGATIVE\n",
       "161294                   Orencia  NEGATIVE\n",
       "161295        Thyroid desiccated  POSITIVE\n",
       "161296              Lubiprostone  POSITIVE\n",
       "\n",
       "[161297 rows x 2 columns]"
      ]
     },
     "execution_count": 11,
     "metadata": {},
     "output_type": "execute_result"
    }
   ],
   "source": [
    "results_df[['drugName','sentiment']]"
   ]
  },
  {
   "cell_type": "markdown",
   "metadata": {},
   "source": []
  },
  {
   "cell_type": "markdown",
   "metadata": {},
   "source": [
    "### Comparison of performance between TextBlob and Hugging Face BERT"
   ]
  },
  {
   "cell_type": "code",
   "execution_count": null,
   "metadata": {},
   "outputs": [],
   "source": [
    "# For making the column output similar to the Bert output\n",
    "df.loc[df[\"sentiment_textBlob\"] == \"pos\", \"sentiment_textBlob\"] = \"POSITIVE\"\n"
   ]
  },
  {
   "cell_type": "code",
   "execution_count": null,
   "metadata": {},
   "outputs": [],
   "source": [
    "df.loc[df[\"sentiment_textBlob\"] == \"neg\", \"sentiment_textBlob\"] = \"NEGATIVE\"\n",
    "df.loc[df[\"sentiment_textBlob\"] == \"neu\", \"sentiment_textBlob\"] = \"NEUTRAL\""
   ]
  },
  {
   "cell_type": "code",
   "execution_count": null,
   "metadata": {},
   "outputs": [
    {
     "data": {
      "text/plain": [
       "False    104560\n",
       "True      56737\n",
       "Name: count, dtype: int64"
      ]
     },
     "execution_count": 47,
     "metadata": {},
     "output_type": "execute_result"
    }
   ],
   "source": [
    "results_df['sentiment'].eq(df['sentiment_textBlob']).value_counts()"
   ]
  },
  {
   "cell_type": "code",
   "execution_count": null,
   "metadata": {},
   "outputs": [
    {
     "data": {
      "text/plain": [
       "False    64.824516\n",
       "True     35.175484\n",
       "Name: proportion, dtype: float64"
      ]
     },
     "execution_count": 51,
     "metadata": {},
     "output_type": "execute_result"
    }
   ],
   "source": [
    "results_df['sentiment'].eq(df['sentiment_textBlob']).value_counts(normalize=True) * 100"
   ]
  },
  {
   "cell_type": "markdown",
   "metadata": {},
   "source": [
    "35% values of the senimtment column are equal to the sentiment_textBlob where 64% are not equal. Thus, there is distinctive difference between the two models sentiment output."
   ]
  },
  {
   "cell_type": "markdown",
   "metadata": {},
   "source": [
    "###  Sentiment Analysis"
   ]
  },
  {
   "cell_type": "code",
   "execution_count": null,
   "metadata": {},
   "outputs": [
    {
     "data": {
      "text/plain": [
       "sentiment\n",
       "NEGATIVE    67.970266\n",
       "POSITIVE    32.029734\n",
       "Name: proportion, dtype: float64"
      ]
     },
     "execution_count": 212,
     "metadata": {},
     "output_type": "execute_result"
    }
   ],
   "source": [
    "# Majority sentiment in the dataset\n",
    "results_df['sentiment'].value_counts(normalize=True)*100"
   ]
  },
  {
   "cell_type": "code",
   "execution_count": null,
   "metadata": {},
   "outputs": [
    {
     "data": {
      "text/plain": [
       "drugName                           sentiment\n",
       "Levonorgestrel                     NEGATIVE     0.016138\n",
       "Etonogestrel                       NEGATIVE     0.015419\n",
       "Ethinyl estradiol / norethindrone  NEGATIVE     0.013174\n",
       "Nexplanon                          NEGATIVE     0.010285\n",
       "Ethinyl estradiol / norgestimate   NEGATIVE     0.009430\n",
       "                                                  ...   \n",
       "Grifulvin V                        NEGATIVE     0.000006\n",
       "Gris-PEG                           POSITIVE     0.000006\n",
       "Guaifenesin / hydrocodone          NEGATIVE     0.000006\n",
       "                                   POSITIVE     0.000006\n",
       "A + D Cracked Skin Relief          NEGATIVE     0.000006\n",
       "Name: proportion, Length: 5691, dtype: float64"
      ]
     },
     "execution_count": 286,
     "metadata": {},
     "output_type": "execute_result"
    }
   ],
   "source": [
    "results_df[['drugName','sentiment']].value_counts(normalize=True)#.mul(100).unstack() #.fillna(0).reset_index()"
   ]
  },
  {
   "cell_type": "code",
   "execution_count": null,
   "metadata": {},
   "outputs": [
    {
     "data": {
      "text/plain": [
       "drugName                              sentiment\n",
       "A + D Cracked Skin Relief             NEGATIVE     1.000000\n",
       "A / B Otic                            POSITIVE     1.000000\n",
       "Abacavir / dolutegravir / lamivudine  NEGATIVE     0.769231\n",
       "                                      POSITIVE     0.230769\n",
       "Abacavir / lamivudine / zidovudine    POSITIVE     1.000000\n",
       "                                                     ...   \n",
       "ZzzQuil                               NEGATIVE     1.000000\n",
       "depo-subQ provera 104                 NEGATIVE     1.000000\n",
       "ella                                  NEGATIVE     0.784314\n",
       "                                      POSITIVE     0.215686\n",
       "femhrt                                NEGATIVE     1.000000\n",
       "Name: proportion, Length: 5691, dtype: float64"
      ]
     },
     "execution_count": 287,
     "metadata": {},
     "output_type": "execute_result"
    }
   ],
   "source": [
    "(results_df.groupby(\"drugName\")['sentiment']\n",
    " .value_counts(normalize=True)\n",
    "#  .mul(100) # Multiply by 100 to convert proportions to percentages\n",
    "#  .unstack()\n",
    "#  .reset_index().fillna(0)\n",
    " )"
   ]
  },
  {
   "cell_type": "code",
   "execution_count": null,
   "metadata": {},
   "outputs": [
    {
     "data": {
      "text/html": [
       "<div>\n",
       "<style scoped>\n",
       "    .dataframe tbody tr th:only-of-type {\n",
       "        vertical-align: middle;\n",
       "    }\n",
       "\n",
       "    .dataframe tbody tr th {\n",
       "        vertical-align: top;\n",
       "    }\n",
       "\n",
       "    .dataframe thead th {\n",
       "        text-align: right;\n",
       "    }\n",
       "</style>\n",
       "<table border=\"1\" class=\"dataframe\">\n",
       "  <thead>\n",
       "    <tr style=\"text-align: right;\">\n",
       "      <th></th>\n",
       "      <th>drugName</th>\n",
       "      <th>review_count</th>\n",
       "    </tr>\n",
       "  </thead>\n",
       "  <tbody>\n",
       "    <tr>\n",
       "      <th>0</th>\n",
       "      <td>A + D Cracked Skin Relief</td>\n",
       "      <td>1</td>\n",
       "    </tr>\n",
       "    <tr>\n",
       "      <th>1</th>\n",
       "      <td>A / B Otic</td>\n",
       "      <td>1</td>\n",
       "    </tr>\n",
       "    <tr>\n",
       "      <th>2</th>\n",
       "      <td>Abacavir / dolutegravir / lamivudine</td>\n",
       "      <td>52</td>\n",
       "    </tr>\n",
       "    <tr>\n",
       "      <th>3</th>\n",
       "      <td>Abacavir / lamivudine / zidovudine</td>\n",
       "      <td>1</td>\n",
       "    </tr>\n",
       "    <tr>\n",
       "      <th>4</th>\n",
       "      <td>Abatacept</td>\n",
       "      <td>19</td>\n",
       "    </tr>\n",
       "    <tr>\n",
       "      <th>...</th>\n",
       "      <td>...</td>\n",
       "      <td>...</td>\n",
       "    </tr>\n",
       "    <tr>\n",
       "      <th>3431</th>\n",
       "      <td>Zyvox</td>\n",
       "      <td>17</td>\n",
       "    </tr>\n",
       "    <tr>\n",
       "      <th>3432</th>\n",
       "      <td>ZzzQuil</td>\n",
       "      <td>2</td>\n",
       "    </tr>\n",
       "    <tr>\n",
       "      <th>3433</th>\n",
       "      <td>depo-subQ provera 104</td>\n",
       "      <td>1</td>\n",
       "    </tr>\n",
       "    <tr>\n",
       "      <th>3434</th>\n",
       "      <td>ella</td>\n",
       "      <td>51</td>\n",
       "    </tr>\n",
       "    <tr>\n",
       "      <th>3435</th>\n",
       "      <td>femhrt</td>\n",
       "      <td>3</td>\n",
       "    </tr>\n",
       "  </tbody>\n",
       "</table>\n",
       "<p>3436 rows × 2 columns</p>\n",
       "</div>"
      ],
      "text/plain": [
       "                                  drugName  review_count\n",
       "0                A + D Cracked Skin Relief             1\n",
       "1                               A / B Otic             1\n",
       "2     Abacavir / dolutegravir / lamivudine            52\n",
       "3       Abacavir / lamivudine / zidovudine             1\n",
       "4                                Abatacept            19\n",
       "...                                    ...           ...\n",
       "3431                                 Zyvox            17\n",
       "3432                               ZzzQuil             2\n",
       "3433                 depo-subQ provera 104             1\n",
       "3434                                  ella            51\n",
       "3435                                femhrt             3\n",
       "\n",
       "[3436 rows x 2 columns]"
      ]
     },
     "execution_count": 244,
     "metadata": {},
     "output_type": "execute_result"
    }
   ],
   "source": [
    "mod_df  = results_df.groupby('drugName')['sentiment'].count().rename('review_count').reset_index()\n",
    "# .value_counts(normalize=True).mul(100).reset_index()"
   ]
  },
  {
   "cell_type": "code",
   "execution_count": null,
   "metadata": {},
   "outputs": [],
   "source": [
    "top_drugs = results_df[\"drugName\"].value_counts().reset_index()\n",
    "sorted_top_drugs = top_drugs.sort_values(by =  \"count\", ascending=False)"
   ]
  },
  {
   "cell_type": "code",
   "execution_count": null,
   "metadata": {},
   "outputs": [
    {
     "data": {
      "text/html": [
       "<div>\n",
       "<style scoped>\n",
       "    .dataframe tbody tr th:only-of-type {\n",
       "        vertical-align: middle;\n",
       "    }\n",
       "\n",
       "    .dataframe tbody tr th {\n",
       "        vertical-align: top;\n",
       "    }\n",
       "\n",
       "    .dataframe thead th {\n",
       "        text-align: right;\n",
       "    }\n",
       "</style>\n",
       "<table border=\"1\" class=\"dataframe\">\n",
       "  <thead>\n",
       "    <tr style=\"text-align: right;\">\n",
       "      <th></th>\n",
       "      <th>drugName</th>\n",
       "      <th>count</th>\n",
       "    </tr>\n",
       "  </thead>\n",
       "  <tbody>\n",
       "    <tr>\n",
       "      <th>0</th>\n",
       "      <td>Levonorgestrel</td>\n",
       "      <td>3657</td>\n",
       "    </tr>\n",
       "    <tr>\n",
       "      <th>1</th>\n",
       "      <td>Etonogestrel</td>\n",
       "      <td>3336</td>\n",
       "    </tr>\n",
       "    <tr>\n",
       "      <th>2</th>\n",
       "      <td>Ethinyl estradiol / norethindrone</td>\n",
       "      <td>2850</td>\n",
       "    </tr>\n",
       "    <tr>\n",
       "      <th>3</th>\n",
       "      <td>Nexplanon</td>\n",
       "      <td>2156</td>\n",
       "    </tr>\n",
       "    <tr>\n",
       "      <th>4</th>\n",
       "      <td>Ethinyl estradiol / norgestimate</td>\n",
       "      <td>2117</td>\n",
       "    </tr>\n",
       "    <tr>\n",
       "      <th>...</th>\n",
       "      <td>...</td>\n",
       "      <td>...</td>\n",
       "    </tr>\n",
       "    <tr>\n",
       "      <th>2901</th>\n",
       "      <td>Follicle stimulating hormone</td>\n",
       "      <td>1</td>\n",
       "    </tr>\n",
       "    <tr>\n",
       "      <th>2902</th>\n",
       "      <td>Dazidox</td>\n",
       "      <td>1</td>\n",
       "    </tr>\n",
       "    <tr>\n",
       "      <th>2903</th>\n",
       "      <td>Calcium carbonate / risedronate</td>\n",
       "      <td>1</td>\n",
       "    </tr>\n",
       "    <tr>\n",
       "      <th>2904</th>\n",
       "      <td>Aquavite-E</td>\n",
       "      <td>1</td>\n",
       "    </tr>\n",
       "    <tr>\n",
       "      <th>3435</th>\n",
       "      <td>Grifulvin V</td>\n",
       "      <td>1</td>\n",
       "    </tr>\n",
       "  </tbody>\n",
       "</table>\n",
       "<p>3436 rows × 2 columns</p>\n",
       "</div>"
      ],
      "text/plain": [
       "                               drugName  count\n",
       "0                        Levonorgestrel   3657\n",
       "1                          Etonogestrel   3336\n",
       "2     Ethinyl estradiol / norethindrone   2850\n",
       "3                             Nexplanon   2156\n",
       "4      Ethinyl estradiol / norgestimate   2117\n",
       "...                                 ...    ...\n",
       "2901       Follicle stimulating hormone      1\n",
       "2902                            Dazidox      1\n",
       "2903    Calcium carbonate / risedronate      1\n",
       "2904                         Aquavite-E      1\n",
       "3435                        Grifulvin V      1\n",
       "\n",
       "[3436 rows x 2 columns]"
      ]
     },
     "execution_count": 89,
     "metadata": {},
     "output_type": "execute_result"
    }
   ],
   "source": [
    "sorted_top_drugs"
   ]
  },
  {
   "cell_type": "code",
   "execution_count": null,
   "metadata": {},
   "outputs": [],
   "source": [
    "drugs_sentiment = sorted_top_drugs['drugName'].loc[sorted_top_drugs['count'] > 10]"
   ]
  },
  {
   "cell_type": "code",
   "execution_count": null,
   "metadata": {},
   "outputs": [],
   "source": [
    "sentiment_df = results_df.loc[results_df['drugName'].isin(drugs_sentiment)]"
   ]
  },
  {
   "cell_type": "markdown",
   "metadata": {},
   "source": [
    "Before"
   ]
  },
  {
   "cell_type": "code",
   "execution_count": null,
   "metadata": {},
   "outputs": [
    {
     "data": {
      "text/html": [
       "<div>\n",
       "<style scoped>\n",
       "    .dataframe tbody tr th:only-of-type {\n",
       "        vertical-align: middle;\n",
       "    }\n",
       "\n",
       "    .dataframe tbody tr th {\n",
       "        vertical-align: top;\n",
       "    }\n",
       "\n",
       "    .dataframe thead th {\n",
       "        text-align: right;\n",
       "    }\n",
       "</style>\n",
       "<table border=\"1\" class=\"dataframe\">\n",
       "  <thead>\n",
       "    <tr style=\"text-align: right;\">\n",
       "      <th></th>\n",
       "      <th>drugName</th>\n",
       "      <th>sentiment</th>\n",
       "      <th>proportion</th>\n",
       "    </tr>\n",
       "  </thead>\n",
       "  <tbody>\n",
       "    <tr>\n",
       "      <th>0</th>\n",
       "      <td>Abacavir / dolutegravir / lamivudine</td>\n",
       "      <td>NEGATIVE</td>\n",
       "      <td>76.923077</td>\n",
       "    </tr>\n",
       "    <tr>\n",
       "      <th>1</th>\n",
       "      <td>Abacavir / dolutegravir / lamivudine</td>\n",
       "      <td>POSITIVE</td>\n",
       "      <td>23.076923</td>\n",
       "    </tr>\n",
       "    <tr>\n",
       "      <th>2</th>\n",
       "      <td>Abatacept</td>\n",
       "      <td>POSITIVE</td>\n",
       "      <td>57.894737</td>\n",
       "    </tr>\n",
       "    <tr>\n",
       "      <th>3</th>\n",
       "      <td>Abatacept</td>\n",
       "      <td>NEGATIVE</td>\n",
       "      <td>42.105263</td>\n",
       "    </tr>\n",
       "    <tr>\n",
       "      <th>4</th>\n",
       "      <td>Abilify</td>\n",
       "      <td>NEGATIVE</td>\n",
       "      <td>63.228700</td>\n",
       "    </tr>\n",
       "    <tr>\n",
       "      <th>...</th>\n",
       "      <td>...</td>\n",
       "      <td>...</td>\n",
       "      <td>...</td>\n",
       "    </tr>\n",
       "    <tr>\n",
       "      <th>2635</th>\n",
       "      <td>Zyrtec</td>\n",
       "      <td>POSITIVE</td>\n",
       "      <td>39.130435</td>\n",
       "    </tr>\n",
       "    <tr>\n",
       "      <th>2636</th>\n",
       "      <td>Zyvox</td>\n",
       "      <td>NEGATIVE</td>\n",
       "      <td>82.352941</td>\n",
       "    </tr>\n",
       "    <tr>\n",
       "      <th>2637</th>\n",
       "      <td>Zyvox</td>\n",
       "      <td>POSITIVE</td>\n",
       "      <td>17.647059</td>\n",
       "    </tr>\n",
       "    <tr>\n",
       "      <th>2638</th>\n",
       "      <td>ella</td>\n",
       "      <td>NEGATIVE</td>\n",
       "      <td>78.431373</td>\n",
       "    </tr>\n",
       "    <tr>\n",
       "      <th>2639</th>\n",
       "      <td>ella</td>\n",
       "      <td>POSITIVE</td>\n",
       "      <td>21.568627</td>\n",
       "    </tr>\n",
       "  </tbody>\n",
       "</table>\n",
       "<p>2640 rows × 3 columns</p>\n",
       "</div>"
      ],
      "text/plain": [
       "                                  drugName sentiment  proportion\n",
       "0     Abacavir / dolutegravir / lamivudine  NEGATIVE   76.923077\n",
       "1     Abacavir / dolutegravir / lamivudine  POSITIVE   23.076923\n",
       "2                                Abatacept  POSITIVE   57.894737\n",
       "3                                Abatacept  NEGATIVE   42.105263\n",
       "4                                  Abilify  NEGATIVE   63.228700\n",
       "...                                    ...       ...         ...\n",
       "2635                                Zyrtec  POSITIVE   39.130435\n",
       "2636                                 Zyvox  NEGATIVE   82.352941\n",
       "2637                                 Zyvox  POSITIVE   17.647059\n",
       "2638                                  ella  NEGATIVE   78.431373\n",
       "2639                                  ella  POSITIVE   21.568627\n",
       "\n",
       "[2640 rows x 3 columns]"
      ]
     },
     "execution_count": 170,
     "metadata": {},
     "output_type": "execute_result"
    }
   ],
   "source": [
    "(sentiment_df.groupby(\"drugName\")['sentiment']\n",
    " .value_counts(normalize=True)\n",
    " .mul(100) # Multiply by 100 to convert proportions to percentages\n",
    " .reset_index()\n",
    ")"
   ]
  },
  {
   "cell_type": "markdown",
   "metadata": {},
   "source": [
    "After unstack"
   ]
  },
  {
   "cell_type": "code",
   "execution_count": null,
   "metadata": {},
   "outputs": [
    {
     "data": {
      "text/html": [
       "<div>\n",
       "<style scoped>\n",
       "    .dataframe tbody tr th:only-of-type {\n",
       "        vertical-align: middle;\n",
       "    }\n",
       "\n",
       "    .dataframe tbody tr th {\n",
       "        vertical-align: top;\n",
       "    }\n",
       "\n",
       "    .dataframe thead th {\n",
       "        text-align: right;\n",
       "    }\n",
       "</style>\n",
       "<table border=\"1\" class=\"dataframe\">\n",
       "  <thead>\n",
       "    <tr style=\"text-align: right;\">\n",
       "      <th></th>\n",
       "      <th>drugName</th>\n",
       "      <th>NEGATIVE</th>\n",
       "      <th>POSITIVE</th>\n",
       "    </tr>\n",
       "  </thead>\n",
       "  <tbody>\n",
       "    <tr>\n",
       "      <th>0</th>\n",
       "      <td>Abacavir / dolutegravir / lamivudine</td>\n",
       "      <td>76.923077</td>\n",
       "      <td>23.076923</td>\n",
       "    </tr>\n",
       "    <tr>\n",
       "      <th>1</th>\n",
       "      <td>Abatacept</td>\n",
       "      <td>42.105263</td>\n",
       "      <td>57.894737</td>\n",
       "    </tr>\n",
       "    <tr>\n",
       "      <th>2</th>\n",
       "      <td>Abilify</td>\n",
       "      <td>63.228700</td>\n",
       "      <td>36.771300</td>\n",
       "    </tr>\n",
       "    <tr>\n",
       "      <th>3</th>\n",
       "      <td>Abreva</td>\n",
       "      <td>77.848101</td>\n",
       "      <td>22.151899</td>\n",
       "    </tr>\n",
       "    <tr>\n",
       "      <th>4</th>\n",
       "      <td>Acamprosate</td>\n",
       "      <td>50.458716</td>\n",
       "      <td>49.541284</td>\n",
       "    </tr>\n",
       "    <tr>\n",
       "      <th>...</th>\n",
       "      <td>...</td>\n",
       "      <td>...</td>\n",
       "      <td>...</td>\n",
       "    </tr>\n",
       "    <tr>\n",
       "      <th>1317</th>\n",
       "      <td>Zyprexa</td>\n",
       "      <td>66.467066</td>\n",
       "      <td>33.532934</td>\n",
       "    </tr>\n",
       "    <tr>\n",
       "      <th>1318</th>\n",
       "      <td>Zyprexa Zydis</td>\n",
       "      <td>50.000000</td>\n",
       "      <td>50.000000</td>\n",
       "    </tr>\n",
       "    <tr>\n",
       "      <th>1319</th>\n",
       "      <td>Zyrtec</td>\n",
       "      <td>60.869565</td>\n",
       "      <td>39.130435</td>\n",
       "    </tr>\n",
       "    <tr>\n",
       "      <th>1320</th>\n",
       "      <td>Zyvox</td>\n",
       "      <td>82.352941</td>\n",
       "      <td>17.647059</td>\n",
       "    </tr>\n",
       "    <tr>\n",
       "      <th>1321</th>\n",
       "      <td>ella</td>\n",
       "      <td>78.431373</td>\n",
       "      <td>21.568627</td>\n",
       "    </tr>\n",
       "  </tbody>\n",
       "</table>\n",
       "<p>1322 rows × 3 columns</p>\n",
       "</div>"
      ],
      "text/plain": [
       "                                  drugName   NEGATIVE   POSITIVE\n",
       "0     Abacavir / dolutegravir / lamivudine  76.923077  23.076923\n",
       "1                                Abatacept  42.105263  57.894737\n",
       "2                                  Abilify  63.228700  36.771300\n",
       "3                                   Abreva  77.848101  22.151899\n",
       "4                              Acamprosate  50.458716  49.541284\n",
       "...                                    ...        ...        ...\n",
       "1317                               Zyprexa  66.467066  33.532934\n",
       "1318                         Zyprexa Zydis  50.000000  50.000000\n",
       "1319                                Zyrtec  60.869565  39.130435\n",
       "1320                                 Zyvox  82.352941  17.647059\n",
       "1321                                  ella  78.431373  21.568627\n",
       "\n",
       "[1322 rows x 3 columns]"
      ]
     },
     "execution_count": 179,
     "metadata": {},
     "output_type": "execute_result"
    }
   ],
   "source": [
    "sntmt_count = (sentiment_df.groupby(\"drugName\")['sentiment']\n",
    " .value_counts(normalize=True)\n",
    " .mul(100)\n",
    " .unstack()\n",
    " .reset_index()\n",
    ")\n",
    "\n",
    "sntmt_count = sntmt_count.rename_axis(None, axis=1)\n",
    "sntmt_count\n",
    "# unstack changes the level of a MultiIndex (rows) into columns, \n",
    "# effectively pivoting the 'sentiment' index level to columns.\n",
    "# This means that for each drugName, we'll now have separate columns \n",
    "# for each sentiment value (e.g., POSITIVE, NEGATIVE) with their corresponding proportions.\n",
    "# Now its easy to analyze the senitment for each drugName."
   ]
  },
  {
   "cell_type": "code",
   "execution_count": null,
   "metadata": {},
   "outputs": [
    {
     "name": "stdout",
     "output_type": "stream",
     "text": [
      "Average positive sentiment across dataset:  32.36548212180383\n",
      "Average negative sentiment across dataset:  67.73244671971447\n"
     ]
    }
   ],
   "source": [
    "print('Average positive sentiment across dataset: ',sntmt_count['POSITIVE'].mean())\n",
    "print('Average negative sentiment across dataset: ',sntmt_count['NEGATIVE'].mean())"
   ]
  },
  {
   "cell_type": "markdown",
   "metadata": {},
   "source": [
    "The majority of sentiment in the dataset is negative."
   ]
  },
  {
   "cell_type": "code",
   "execution_count": null,
   "metadata": {},
   "outputs": [],
   "source": []
  },
  {
   "cell_type": "code",
   "execution_count": null,
   "metadata": {},
   "outputs": [
    {
     "data": {
      "application/vnd.plotly.v1+json": {
       "config": {
        "plotlyServerURL": "https://plot.ly"
       },
       "data": [
        {
         "alignmentgroup": "True",
         "hovertemplate": "drugName=%{x}<br>POSITIVE=%{y}<extra></extra>",
         "legendgroup": "",
         "marker": {
          "color": "#636efa",
          "pattern": {
           "shape": ""
          }
         },
         "name": "",
         "offsetgroup": "",
         "orientation": "v",
         "showlegend": false,
         "textposition": "auto",
         "type": "bar",
         "x": [
          "Methylin",
          "Levalbuterol",
          "Acetaminophen / phenyltoloxamine",
          "Estazolam",
          "Alosetron",
          "Methyl salicylate",
          "Midodrine",
          "Bonine",
          "Multivitamin, prenatal",
          "Sanctura",
          "Deplin",
          "Methadone Diskets",
          "Veltin",
          "Relafen",
          "Amerge",
          "Detrol",
          "Lotronex",
          "Hydrocortisone / pramoxine",
          "Urea",
          "Pennsaid",
          "Metamucil",
          "Dimenhydrinate",
          "Umeclidinium / vilanterol",
          "Anoro Ellipta",
          "Psyllium",
          "Acidophilus",
          "Xanax XR",
          "Lactobacillus acidophilus",
          "Dramamine",
          "Pramoxine",
          "Methamphetamine",
          "Bisoprolol",
          "Klonopin Wafer",
          "Almotriptan",
          "Abatacept",
          "Icosapent",
          "Donnatal",
          "Tazarotene",
          "Adderall",
          "Afrezza",
          "Somatropin",
          "Emsam",
          "Nicotrol Inhaler",
          "Roxicodone",
          "Hydrocortisone",
          "Warfarin",
          "Hydrocodone / ibuprofen",
          "Amphetamine / dextroamphetamine",
          "Ultracet",
          "Kapidex",
          "Campral",
          "L-methylfolate",
          "Suboxone",
          "Lithobid",
          "Drospirenone / estradiol",
          "Trolamine salicylate",
          "Hydrochlorothiazide / telmisartan",
          "Coumadin",
          "Talwin Nx",
          "Ventolin",
          "Adderall XR",
          "St. john's wort",
          "Norco",
          "Vardenafil",
          "Desmopressin",
          "Lorcet 10 / 650",
          "Saliva substitutes",
          "Vascepa",
          "Zipsor",
          "Insulin inhalation, rapid acting",
          "Penciclovir",
          "Xanax",
          "Desoxyn",
          "Sarafem",
          "Human papillomavirus vaccine",
          "Naloxone / pentazocine",
          "Proctofoam",
          "Amlodipine / olmesartan",
          "Atropine / hyoscyamine / phenobarbital / scopolamine",
          "Tenuate",
          "Levitra",
          "Alprazolam",
          "Fluocinolone / hydroquinone / tretinoin",
          "Buprenorphine / naloxone",
          "Ritalin",
          "Subutex",
          "Finacea",
          "Cataflam",
          "Orencia",
          "Cialis",
          "Valium",
          "Polyethylene glycol 3350",
          "Tadalafil",
          "Diazepam",
          "Methadose",
          "Oxazepam",
          "Drysol",
          "Hypercare",
          "Dextroamphetamine",
          "Azelaic acid",
          "MiraLax",
          "Provigil",
          "Methadone",
          "Klonopin",
          "Axert",
          "Selegiline",
          "Ortho-Cept",
          "Zantac",
          "Clorazepate",
          "Nicoderm CQ",
          "Demerol",
          "Xylometazoline",
          "Benzaclin",
          "Dermal filler",
          "Benzoyl peroxide / erythromycin",
          "Methenamine",
          "Desonide",
          "Commit",
          "MetroGel",
          "Cyanocobalamin",
          "Sinemet",
          "Trulance",
          "Treximet",
          "Erlotinib",
          "Kenalog-40",
          "Zohydro ER",
          "Amoxil",
          "Lortab",
          "Etodolac",
          "Sominex",
          "Percocet",
          "Fluoxetine / olanzapine",
          "Hycodan",
          "Aleve",
          "Nubain",
          "Paxil CR",
          "Tylenol PM",
          "Zyprexa Zydis",
          "Itraconazole",
          "Docusate",
          "Maxalt-MLT",
          "Patanol",
          "Ativan",
          "Epitol",
          "Acamprosate",
          "Voltaren",
          "Meperidine",
          "Aluminum chloride hexahydrate",
          "Acetaminophen / oxycodone",
          "Acanya",
          "Meridia",
          "Soma",
          "Viagra",
          "Dalfampridine",
          "Tolterodine",
          "Mycophenolate mofetil",
          "Ibuprofen",
          "Frova",
          "Arthrotec",
          "Benzoyl peroxide",
          "Acetaminophen / diphenhydramine",
          "Hyoscyamine",
          "Simponi",
          "Gardasil",
          "Betamethasone",
          "CellCept",
          "Sildenafil",
          "Lorazepam",
          "Fleet Enema",
          "Vimovo",
          "Plecanatide",
          "Lomotil",
          "Acetaminophen / hydrocodone",
          "Clonazepam",
          "Vaniqa",
          "Zofran",
          "Chlordiazepoxide",
          "Ketoprofen",
          "Sulindac",
          "Vicoprofen",
          "Nasacort",
          "Gabapentin enacarbil",
          "Acetaminophen",
          "Ciclesonide",
          "Atralin",
          "Denavir",
          "Lamictal",
          "Ketamine",
          "Naproxen / sumatriptan",
          "Tranylcypromine",
          "Cytomel",
          "Uricalm",
          "Dolophine",
          "Detrol LA",
          "Zometa",
          "Seroquel XR",
          "Golimumab",
          "Symbyax",
          "Fingolimod",
          "Naratriptan",
          "Trospium",
          "Monodox",
          "Maxalt",
          "Chlorpheniramine / hydrocodone",
          "Ranitidine",
          "Propranolol",
          "Vicodin ES",
          "Keppra XR",
          "Makena",
          "Hytrin",
          "Butalbital Compound",
          "Selenium sulfide",
          "Actiq",
          "Modafinil",
          "Alvesco",
          "Lysteda",
          "Chlorpheniramine / hydrocodone / pseudoephedrine",
          "Perphenazine",
          "Methylphenidate",
          "Soolantra",
          "Rizatriptan",
          "Voltaren Gel",
          "Clozapine",
          "Aspirin",
          "Chlorpheniramine",
          "Ixekizumab",
          "Vyvanse",
          "Dexedrine",
          "Phenergan",
          "Prozac",
          "AndroGel",
          "Zanaflex",
          "Cyproheptadine",
          "Citalopram",
          "Lisdexamfetamine",
          "Vagifem",
          "Lactulose",
          "Exalgo",
          "Adzenys XR-ODT",
          "Advil Cold and Sinus",
          "Staxyn",
          "Zoloft",
          "Librium",
          "Zubsolv",
          "Clomid",
          "Tussionex Pennkinetic",
          "Mobic",
          "Verapamil",
          "Imitrex Statdose",
          "Sulfacetamide sodium / sulfur",
          "Fanapt",
          "Endocet",
          "Triamcinolone",
          "Taltz",
          "Efudex",
          "Atropine / diphenoxylate",
          "Dofetilide",
          "Acetaminophen / tramadol",
          "Celexa",
          "Chantix",
          "Oxycodone",
          "Fluoxetine",
          "Imatinib",
          "Cambia",
          "Hydrochlorothiazide / valsartan",
          "Esomeprazole / naproxen",
          "My Way",
          "Dupilumab",
          "Vicodin",
          "Doxy 100",
          "Aspirin / butalbital / caffeine",
          "Diphenhydramine / naproxen",
          "Halcion",
          "Retin-A",
          "Avinza",
          "Famotidine",
          "Advil",
          "MS Contin",
          "Olopatadine",
          "Azor",
          "Generess Fe",
          "Imuran",
          "Concerta",
          "Diethylpropion",
          "Diclofenac",
          "Lamotrigine",
          "Lithium",
          "Claravis",
          "Accutane",
          "Emetrol",
          "Budeprion XL",
          "Isotretinoin",
          "Promethazine",
          "Carisoprodol",
          "Acetaminophen / propoxyphene",
          "Remeron",
          "Olodaterol / tiotropium",
          "Lactase",
          "Ciclopirox",
          "Clobex",
          "Loteprednol",
          "Fastin",
          "Phenylephrine",
          "Entocort EC",
          "Aczone",
          "Focalin",
          "Etanercept",
          "Diclofenac / misoprostol",
          "Varenicline",
          "Celebrex",
          "Colcrys",
          "Wellbutrin SR",
          "Opana ER",
          "Enbrel",
          "Gleevec",
          "Nefazodone",
          "Nalbuphine",
          "Epclusa",
          "Tarceva",
          "Azathioprine",
          "Fiorinal",
          "Bentyl",
          "Desyrel",
          "Loperamide",
          "Vivitrol",
          "Flector Patch",
          "Pentasa",
          "Cozaar",
          "Ampyra",
          "Dapsone",
          "Ambien",
          "Pristiq",
          "Seroquel",
          "Clobetasol",
          "Epinephrine",
          "Nature-Throid",
          "Famciclovir",
          "Horizant",
          "Chloral hydrate",
          "Veramyst",
          "Sumavel DosePro",
          "Metaxalone",
          "Fortesta",
          "Balsalazide",
          "Aspirin / butalbital / caffeine / codeine",
          "Propoxyphene",
          "Indocin",
          "Elbasvir / grazoprevir",
          "Phosphorated carbohydrate solution",
          "Ceftin",
          "Pseudoephedrine",
          "Sertraline",
          "Ondansetron",
          "OxyContin",
          "Dilaudid",
          "Rexulti",
          "Desvenlafaxine",
          "Rituximab",
          "Parnate",
          "Nucynta ER",
          "Epiduo",
          "Lexapro",
          "Beyaz",
          "Stribild",
          "Coreg",
          "Codeine",
          "Triazolam",
          "Saphris",
          "Interferon beta-1a",
          "Clindamycin / tretinoin",
          "Bupropion",
          "Iloperidone",
          "Ziana",
          "Axiron",
          "Zyrtec",
          "Ibuprofen / pseudoephedrine",
          "Prazosin",
          "Nicotine",
          "Escitalopram",
          "Mometasone",
          "Brexpiprazole",
          "Memantine",
          "Pamelor",
          "Certolizumab",
          "Xolair",
          "Oracea",
          "Restasis",
          "Oxymorphone",
          "Clomipramine",
          "Benzoyl peroxide / clindamycin",
          "Imitrex",
          "Neurontin",
          "Climara",
          "Vytorin",
          "Clotrimazole",
          "Vicks Sinex Nasal Spray (old formulation)",
          "ProAir HFA",
          "Lantus Solostar",
          "Wellbutrin",
          "Adipex-P",
          "Skelaxin",
          "Alli",
          "Hydromorphone",
          "Invega Sustenna",
          "Orthovisc",
          "Acetaminophen / aspirin / caffeine",
          "Kariva",
          "Relpax",
          "Prevacid",
          "Quetiapine",
          "Tysabri",
          "Cefuroxime",
          "Vraylar",
          "Duac",
          "Synvisc-One",
          "Milnacipran",
          "Asenapine",
          "Wellbutrin XL",
          "Tretinoin",
          "Morphine",
          "Tri-Luma",
          "Codeine / guaifenesin",
          "Nabumetone",
          "Bisoprolol / hydrochlorothiazide",
          "Kadian",
          "Tranexamic acid",
          "Efavirenz / emtricitabine / tenofovir",
          "Terazosin",
          "Piroxicam",
          "Testosterone",
          "Zolpidem",
          "Phillips' Milk of Magnesia",
          "Cholestyramine",
          "Gilenya",
          "Amrix",
          "Frovatriptan",
          "Taclonex",
          "Cabergoline",
          "Trileptal",
          "Azelastine",
          "Acetaminophen / dichloralphenazone / isometheptene mucate",
          "Amphetamine",
          "Marinol",
          "Edex",
          "Rabeprazole",
          "Roxicet",
          "Naprosyn",
          "GoLYTELY",
          "Abilify",
          "Atripla",
          "Breo Ellipta",
          "Nasonex",
          "Luvox",
          "Naltrexone",
          "Adapalene / benzoyl peroxide",
          "Ortho Evra",
          "Solodyn",
          "Natalizumab",
          "Eletriptan",
          "Fluticasone / salmeterol",
          "Albuterol / ipratropium",
          "Kenalog-10",
          "Zutripro",
          "Desogen",
          "Amnesteem",
          "Opium",
          "Fioricet with Codeine",
          "Ezetimibe / simvastatin",
          "Cheratussin AC",
          "Combigan",
          "Diovan HCT",
          "Emtricitabine / tenofovir",
          "Prasugrel",
          "Glimepiride",
          "Butorphanol",
          "Elocon",
          "Aciphex",
          "Edarbi",
          "Vigamox",
          "Allegra-D 24 Hour",
          "Tramadol",
          "Fluvoxamine",
          "Alprostadil",
          "Xyrem",
          "Pentosan polysulfate sodium",
          "Cetirizine",
          "Sucralfate",
          "Pregabalin",
          "Lorcaserin",
          "Welchol",
          "Cyclobenzaprine",
          "Humira",
          "Melatonin",
          "Evekeo",
          "Zovirax Cream",
          "Xeloda",
          "Metadate CD",
          "Propofol",
          "Angeliq",
          "Cimzia",
          "Benicar",
          "Phentermine",
          "Nuvigil",
          "Hydroxyprogesterone",
          "Eflornithine",
          "Sonata",
          "Buprenorphine",
          "Sofosbuvir / velpatasvir",
          "Aripiprazole",
          "Harvoni",
          "Elavil",
          "Oxcarbazepine",
          "Gianvi",
          "Desoximetasone",
          "Flexeril",
          "Prometrium",
          "Rituxan",
          "Olanzapine",
          "Sodium hyaluronate",
          "Ivermectin",
          "Baclofen",
          "Ultram",
          "Paroxetine",
          "Duragesic",
          "Cobicistat / elvitegravir / emtricitabine / tenofovir",
          "Eluxadoline",
          "Geodon",
          "Ortho Cyclen",
          "Atenolol",
          "Protopic",
          "Zarah",
          "Spiriva",
          "Armodafinil",
          "Savella",
          "Acetaminophen / butalbital / caffeine",
          "Loryna",
          "Celecoxib",
          "Elidel",
          "Gabapentin",
          "Differin",
          "Fluticasone / vilanterol",
          "Olmesartan",
          "Junel Fe 1.5 / 30",
          "Dronabinol",
          "Effexor XR",
          "Adalimumab",
          "Meclizine",
          "Vistaril",
          "Lansoprazole",
          "Zyban",
          "Meloxicam",
          "Sodium biphosphate / sodium phosphate",
          "Opana",
          "Hylan g-f 20",
          "Benadryl",
          "Natazia",
          "Asacol",
          "NuvaRing",
          "Dicyclomine",
          "Copper",
          "Restoril",
          "Diphenhydramine",
          "Orlistat",
          "Paxil",
          "Viibryd",
          "Magnesium hydroxide",
          "Duloxetine",
          "Zaleplon",
          "Sodium oxybate",
          "Phenazopyridine",
          "Fexofenadine",
          "Silenor",
          "Naproxen",
          "Buspirone",
          "Belviq",
          "Phendimetrazine",
          "Levora",
          "Zyprexa",
          "Amitriptyline",
          "Ethinyl estradiol / etonogestrel",
          "Zantac 150",
          "Pancrelipase",
          "Estrace Vaginal Cream",
          "Zepatier",
          "Intuniv",
          "Levoxyl",
          "Ipratropium",
          "Nitroglycerin",
          "Aliskiren",
          "Fioricet",
          "Allegra",
          "Flonase",
          "Reclast",
          "Tizanidine",
          "Supartz",
          "Femring",
          "Tetracycline",
          "Rebif",
          "Drospirenone / ethinyl estradiol / levomefolate calcium",
          "Avastin",
          "Silver sulfadiazine",
          "Midazolam",
          "Carac",
          "Muse",
          "Omega-3 polyunsaturated fatty acids",
          "Homatropine / hydrocodone",
          "Hiprex",
          "Halobetasol",
          "Conjugated estrogens / medroxyprogesterone",
          "Betamethasone / calcipotriene",
          "Tecfidera",
          "Kapvay",
          "Prograf",
          "Daytrana",
          "Diprivan",
          "Avonex",
          "Cymbalta",
          "Plan B",
          "Mirtazapine",
          "Ziprasidone",
          "Ortho Tri-Cyclen Lo",
          "Esomeprazole",
          "Aviane",
          "Omalizumab",
          "Nucynta",
          "Advair Diskus",
          "Risperdal",
          "Doxepin",
          "Latuda",
          "Sumatriptan",
          "Paliperidone",
          "Elmiron",
          "BuSpar",
          "Genvoya",
          "Yaz",
          "Vilazodone",
          "Loratadine",
          "Risperidone",
          "Nexium",
          "Toradol",
          "Guaifenesin",
          "Mesalamine",
          "Hydroxyzine",
          "Prevpac",
          "Ketorolac",
          "Zovia",
          "Viberzi",
          "Hyaluronan",
          "Armour Thyroid",
          "Amitiza",
          "Symbicort",
          "Dimethyl fumarate",
          "Focalin XR",
          "Tikosyn",
          "Tiotropium",
          "Zofran ODT",
          "Venlafaxine",
          "Lyrica",
          "Acyclovir",
          "Valacyclovir",
          "Zoledronic acid",
          "Lurasidone",
          "Plan B One-Step",
          "Drospirenone / ethinyl estradiol",
          "Dexmethylphenidate",
          "Valtrex",
          "Haldol",
          "Podofilox",
          "Lialda",
          "Ultram ER",
          "Erythromycin",
          "Clopidogrel",
          "Lysine",
          "Fluticasone",
          "Singulair",
          "Trazodone",
          "Levocetirizine",
          "Loestrin 24 Fe",
          "Clonidine",
          "Euflexxa",
          "Lidoderm",
          "Transderm-Scop",
          "Chlordiazepoxide / clidinium",
          "Lunesta",
          "Dupixent",
          "Atovaquone / proguanil",
          "Dexlansoprazole",
          "Rosuvastatin",
          "Kyleena",
          "TriNessa",
          "Nardil",
          "Ethinyl estradiol / norelgestromin",
          "Lubiprostone",
          "Seasonique",
          "Pradaxa",
          "Citric acid / magnesium oxide / sodium picosulfate",
          "Cryselle",
          "Alcaftadine",
          "Belimumab",
          "Effient",
          "Remicade",
          "Bactroban",
          "Plavix",
          "Anafranil",
          "Tasigna",
          "Flurazepam",
          "Excedrin",
          "Astepro",
          "Glucophage",
          "Tenormin",
          "Fluocinonide",
          "Viorele",
          "Lutera",
          "Albuterol",
          "Tacrolimus",
          "Methocarbamol",
          "Sprintec",
          "Ibandronate",
          "Liothyronine",
          "Xyzal",
          "ParaGard",
          "Minocycline",
          "Carbidopa / levodopa",
          "Catapres",
          "Infliximab",
          "Ledipasvir / sofosbuvir",
          "Budesonide",
          "Lamisil",
          "Cariprazine",
          "Amantadine",
          "Next Choice",
          "Nystatin",
          "Daliresp",
          "Nadolol",
          "Clomiphene",
          "Atarax",
          "Dilantin",
          "Implanon",
          "Adapalene",
          "Guanfacine",
          "Ustekinumab",
          "Mucinex D",
          "Budesonide / formoterol",
          "Sofosbuvir",
          "Mirena",
          "Desogestrel / ethinyl estradiol",
          "Bupropion / naltrexone",
          "Benadryl Allergy",
          "Lo Loestrin Fe",
          "Micardis",
          "Cyclosporine",
          "Androderm",
          "Uroxatral",
          "Cefprozil",
          "Acetaminophen / butalbital / caffeine / codeine",
          "Tessalon Perles",
          "Keflex",
          "Bevacizumab",
          "Avelox",
          "Apri",
          "Contrave",
          "Linzess",
          "Cobicistat / elvitegravir / emtricitabine / tenofovir alafenamide",
          "Testim",
          "Fexofenadine / pseudoephedrine",
          "Robaxin-750",
          "Sklice",
          "Effexor",
          "Roflumilast",
          "Tamoxifen",
          "Multivitamin",
          "Tirosint",
          "Guaifenesin / pseudoephedrine",
          "Portia",
          "Tri-Sprintec",
          "Levonorgestrel",
          "Fentanyl",
          "Scopolamine",
          "Copaxone",
          "Acetaminophen / caffeine / dihydrocodeine",
          "Protonix",
          "Immune globulin subcutaneous",
          "Xenical",
          "Oxybutynin",
          "Sutent",
          "Latanoprost",
          "Stadol",
          "Zomig",
          "Pataday",
          "Loratadine / pseudoephedrine",
          "Emtricitabine / rilpivirine / tenofovir",
          "Temazepam",
          "Doryx",
          "Lastacaft",
          "Beclomethasone",
          "Azithromycin Dose Pack",
          "Tegretol",
          "Orphenadrine",
          "Methylnaltrexone",
          "Topamax",
          "Victoza",
          "Dexilant",
          "Diflucan",
          "Trintellix",
          "Thyroid desiccated",
          "Zolmitriptan",
          "Ethinyl estradiol / norgestimate",
          "OnabotulinumtoxinA",
          "Dienogest / estradiol",
          "Botox",
          "Chlorzoxazone",
          "Saxenda",
          "Butrans",
          "Ranexa",
          "Librax",
          "Tofacitinib",
          "Ketoconazole",
          "Diamox",
          "Seasonale",
          "Levothyroxine",
          "Reclipsen",
          "Liraglutide",
          "Skyla",
          "Triumeq",
          "Malarone",
          "Bontril Slow Release",
          "Stelara",
          "Capsaicin",
          "Colesevelam",
          "Methylprednisolone",
          "Linaclotide",
          "Femara",
          "Complera",
          "Jolessa",
          "Byetta",
          "Crestor",
          "Mucinex",
          "Ocella",
          "Capecitabine",
          "Cromolyn",
          "Rivastigmine",
          "Dihydroergotamine",
          "Lasix",
          "Cartia XT",
          "Amlodipine / hydrochlorothiazide / olmesartan",
          "Alirocumab",
          "Onglyza",
          "Inderal",
          "Estradiol / norethindrone",
          "Propafenone",
          "Tapentadol",
          "Plaquenil",
          "Diltiazem",
          "Disulfiram",
          "Amoxicillin / clarithromycin / lansoprazole",
          "Taytulla",
          "Robaxin",
          "Vortioxetine",
          "Strattera",
          "Eszopiclone",
          "Silodosin",
          "Fluorouracil",
          "Amlodipine / benazepril",
          "Ciprodex",
          "Stendra",
          "Hydrochlorothiazide / losartan",
          "Rotigotine",
          "Carvedilol",
          "Metformin",
          "Ocular lubricant",
          "Phenelzine",
          "Dexamethasone",
          "Insulin detemir",
          "Correctol",
          "Leflunomide",
          "Augmentin",
          "Synthroid",
          "Jolivette",
          "Ethinyl estradiol / levonorgestrel",
          "Lyza",
          "Nebivolol",
          "Bunavail",
          "Antabuse",
          "Ethinyl estradiol / ethynodiol",
          "Phentermine / topiramate",
          "Zonisamide",
          "Spironolactone",
          "Microgestin 1 / 20",
          "Pegfilgrastim",
          "Hydroxychloroquine",
          "Furosemide",
          "Moxifloxacin",
          "Sronyx",
          "Amoxicillin",
          "Forteo",
          "Relistor",
          "Versed",
          "Claritin-D",
          "Ambien CR",
          "Fluconazole",
          "Invega",
          "Dabigatran",
          "Montelukast",
          "Camila",
          "Sovaldi",
          "Metformin / sitagliptin",
          "Docosanol",
          "Atomoxetine",
          "Nortriptyline",
          "Ranolazine",
          "Doxycycline",
          "Methotrexate",
          "Prepopik",
          "Teriparatide",
          "Ropinirole",
          "Insulin glargine",
          "Etonogestrel",
          "Magnesium citrate",
          "Ethinyl estradiol / norethindrone",
          "Ethinyl estradiol / norgestrel",
          "Estradiol",
          "Topiramate",
          "Carbamazepine",
          "Yasmin",
          "Divalproex sodium",
          "Qsymia",
          "Pravastatin",
          "Vienva",
          "Glatiramer",
          "Lantus",
          "Tri-Linyah",
          "Tegaserod",
          "Sotalol",
          "Praluent",
          "Tekturna",
          "Unisom SleepTabs",
          "Zonegran",
          "S-adenosylmethionine",
          "Darifenacin",
          "Pneumococcal 13-valent vaccine",
          "Decadron",
          "Penicillin v potassium",
          "Sunitinib",
          "Dulera",
          "Apremilast",
          "Chateal",
          "LoSeasonique",
          "Doxylamine",
          "Valsartan",
          "Phenytoin",
          "Xulane",
          "MoviPrep",
          "Omeprazole",
          "Fentanyl Transdermal System",
          "Diovan",
          "Nifedipine",
          "Colchicine",
          "Quasense",
          "Indomethacin",
          "Hydrocodone",
          "Microgestin Fe 1 / 20",
          "Rapaflo",
          "Premarin",
          "Pitavastatin",
          "Junel Fe 1 / 20",
          "Tresiba",
          "Hydromet",
          "Neupro",
          "Acetazolamide",
          "Cephalexin",
          "Alesse",
          "Tarina Fe 1 / 20",
          "Carafate",
          "Flecainide",
          "MetroGel-Vaginal",
          "Brisdelle",
          "Isosorbide mononitrate",
          "Terbinafine",
          "Ortho Micronor",
          "Lorzone",
          "Lupron Depot",
          "Nilotinib",
          "Pantoprazole",
          "Safyral",
          "Xifaxan",
          "Glipizide",
          "Acetaminophen / codeine",
          "Mononessa",
          "Zyclara",
          "Abacavir / dolutegravir / lamivudine",
          "Coal tar",
          "Diclegis",
          "Fesoterodine",
          "Invokana",
          "Janumet",
          "Caffeine",
          "Actemra",
          "Nexplanon",
          "Levetiracetam",
          "Azelastine / fluticasone",
          "Depakote",
          "Orsythia",
          "Microgestin Fe 1.5 / 30",
          "Actos",
          "Terconazole",
          "Oxymetazoline",
          "Telmisartan",
          "Tradjenta",
          "Insulin degludec",
          "Mefenamic acid",
          "Ortho Tri-Cyclen",
          "Doxylamine / pyridoxine",
          "Mirapex",
          "Xarelto",
          "Bystolic",
          "Levaquin",
          "Mupirocin",
          "Xeljanz",
          "Emollients",
          "Codeine / promethazine",
          "Epiduo Forte",
          "Uloric",
          "Abreva",
          "Prednisone",
          "Otezla",
          "Fetzima",
          "Aftera",
          "Ramelteon",
          "Leuprolide",
          "Losartan",
          "Exemestane",
          "Pramipexole",
          "Lifitegrast",
          "Aubra",
          "Levomilnacipran",
          "Goserelin",
          "Avapro",
          "Estring",
          "Prilosec",
          "Progesterone",
          "Rivaroxaban",
          "Polyethylene glycol 3350 with electrolytes",
          "Dymista",
          "ella",
          "Lotrel",
          "Arava",
          "Lioresal",
          "Desipramine",
          "Hyzaar",
          "Migranal",
          "Benlysta",
          "Tocilizumab",
          "Falmina",
          "Bactrim DS",
          "Januvia",
          "Amlodipine / valsartan",
          "Hydrochlorothiazide / triamterene",
          "Reglan",
          "Rocephin",
          "Ceftriaxone",
          "Boniva",
          "Avodart",
          "Clindamycin",
          "Tamiflu",
          "Oseltamivir",
          "Tri-Previfem",
          "Minoxidil",
          "Formoterol / mometasone",
          "Xiidra",
          "Cipro",
          "Drixoral Cold and Allergy",
          "Flomax",
          "Tinidazole",
          "Haloperidol",
          "Bactrim",
          "Metoclopramide",
          "Zithromax",
          "Ashlyna",
          "Qvar",
          "Levemir",
          "Rythmol SR",
          "Previfem",
          "Metoprolol",
          "Ibrance",
          "Blisovi Fe 1 / 20",
          "Brompheniramine / dextromethorphan / pseudoephedrine",
          "Livalo",
          "Tylenol with Codeine #3",
          "Niacin",
          "Minastrin 24 Fe",
          "Provera",
          "Vimpat",
          "Liletta",
          "Exenatide",
          "Empagliflozin",
          "Lipitor",
          "Alfuzosin",
          "Sulfasalazine",
          "Ramipril",
          "Pyridostigmine",
          "Pimecrolimus",
          "Dutasteride",
          "Conjugated estrogens",
          "Mirvaso",
          "Eucrisa",
          "Secukinumab",
          "Keppra",
          "Tegretol XR",
          "Mirabegron",
          "Valproic acid",
          "Loestrin 21 1 / 20",
          "Linezolid",
          "Benzonatate",
          "Amoxicillin / clavulanate",
          "Efinaconazole",
          "Rozerem",
          "Rifaximin",
          "VESIcare",
          "Aldara",
          "Exforge",
          "Afrin",
          "Medroxyprogesterone",
          "Toprol-XL",
          "Norethindrone",
          "Exelon",
          "Cleocin",
          "Chlorpromazine",
          "Crisaborole",
          "Trilipix",
          "Ulipristal",
          "Orap",
          "Duexis",
          "Bromocriptine",
          "Neulasta",
          "Biaxin",
          "Mydayis",
          "Acitretin",
          "Lovastatin",
          "Prevnar 13",
          "Aromasin",
          "Myrbetriq",
          "Synvisc",
          "Azithromycin",
          "Letrozole",
          "Suvorexant",
          "Amlodipine",
          "Omnicef",
          "Brimonidine",
          "Pyridium",
          "Sitagliptin",
          "Palbociclib",
          "Candesartan",
          "Vivelle-Dot",
          "Zyvox",
          "Suprep Bowel Prep Kit",
          "Camrese",
          "Bydureon",
          "Lisinopril",
          "Depo-Provera",
          "Zoladex",
          "Dulaglutide",
          "Irbesartan",
          "Tamsulosin",
          "Canagliflozin",
          "Megestrol",
          "Solifenacin",
          "Dutasteride / tamsulosin",
          "Necon 1 / 35",
          "Aldactone",
          "Blisovi 24 Fe",
          "Vancomycin",
          "Azilsartan medoxomil",
          "Omeprazole / sodium bicarbonate",
          "Belbuca",
          "Oxytrol",
          "Requip",
          "Pioglitazone",
          "Doxazosin",
          "Fenofibric acid",
          "Imiquimod",
          "Gildess Fe 1.5 / 30",
          "Morphine / naltrexone",
          "Milk of Magnesia",
          "Famotidine / ibuprofen",
          "Magnesium sulfate / potassium sulfate / sodium sulfate",
          "Anastrozole",
          "Delsym",
          "Metronidazole",
          "Arimidex",
          "Hydrochlorothiazide / lisinopril",
          "Evolocumab",
          "Denosumab",
          "Ciprofloxacin",
          "Thorazine",
          "Dulcolax Laxative",
          "Sulfamethoxazole / trimethoprim",
          "Levofloxacin",
          "Estarylla",
          "Lidocaine",
          "Caffeine / ergotamine",
          "Linagliptin",
          "Hydrochlorothiazide / olmesartan",
          "Pazopanib",
          "Ciprofloxacin / dexamethasone",
          "Cosentyx",
          "Jublia",
          "Bepreve",
          "Embeda",
          "Aggrenox",
          "Climara Pro",
          "Tindamax",
          "Enablex",
          "Jalyn",
          "Atorvastatin",
          "Finasteride",
          "Trulicity",
          "Lacosamide",
          "Depakote ER",
          "Flagyl",
          "Gildess Fe 1 / 20",
          "Avanafil",
          "Febuxostat",
          "Toviaz",
          "Fenofibrate",
          "Ezetimibe",
          "Bisacodyl",
          "Pylera",
          "Tribenzor",
          "Estradiol / levonorgestrel",
          "Amiodarone",
          "Dasatinib",
          "Onexton",
          "Tioconazole",
          "Movantik",
          "Hydrochlorothiazide",
          "Norvasc",
          "Aubagio",
          "Nora-Be",
          "Bismuth subcitrate potassium / metronidazole / tetracycline",
          "Claritin",
          "Multivitamin with minerals",
          "Fycompa",
          "SMZ-TMP DS",
          "Lupron",
          "Dexbrompheniramine / pseudoephedrine",
          "Naloxegol",
          "Dulcolax",
          "Jardiance",
          "Belsomra",
          "Teriflunomide",
          "Nortrel 1 / 35",
          "Monistat 7-Day Combination Pack",
          "Zelnorm",
          "Donepezil",
          "Primidone",
          "Prochlorperazine",
          "Vedolizumab",
          "Votrient",
          "Risedronate",
          "Senokot",
          "Prolia",
          "Nitrofurantoin",
          "Tri-Lo-Sprintec",
          "Clarithromycin",
          "Errin",
          "Dextromethorphan",
          "Nivolumab",
          "Septra DS",
          "Macrobid",
          "Allopurinol",
          "Prednisolone",
          "Senna",
          "Velivet",
          "Dapagliflozin",
          "Farxiga",
          "Eliquis",
          "Monistat 7",
          "Simvastatin",
          "Monistat 3-Day Combination Pack",
          "Afinitor",
          "Actonel",
          "Septra",
          "Yuvafem",
          "Repatha",
          "Dovonex",
          "Compazine",
          "Gemfibrozil",
          "Pimozide",
          "Bepotastine",
          "Miconazole",
          "Hysingla ER",
          "Dronedarone",
          "Tavaborole",
          "Azurette",
          "Zocor",
          "Sacubitril / valsartan",
          "Hydralazine",
          "Monistat 1-Day or Night Combination Pack",
          "Fosamax",
          "Opdivo",
          "Cefdinir",
          "Toujeo",
          "Zetia",
          "TriNessa Lo",
          "Levlen",
          "Imipramine",
          "Multaq",
          "Apriso",
          "Perampanel",
          "Macrodantin",
          "Apixaban",
          "Ditropan",
          "Zegerid",
          "Kerydin",
          "Benicar HCT",
          "Niaspan",
          "Alendronate",
          "ProAir RespiClick",
          "Aricept",
          "Brilinta",
          "Entyvio",
          "Ticagrelor"
         ],
         "xaxis": "x",
         "y": [
          81.81818181818183,
          78.57142857142857,
          72.72727272727273,
          72.72727272727273,
          72.22222222222221,
          69.23076923076923,
          69.23076923076923,
          69.23076923076923,
          67.5,
          66.66666666666666,
          66.07142857142857,
          65.21739130434783,
          64.70588235294117,
          64.70588235294117,
          64.28571428571429,
          64.28571428571429,
          64.28571428571429,
          64.28571428571429,
          63.63636363636363,
          63.63636363636363,
          63.63636363636363,
          63.33333333333333,
          62.5,
          61.53846153846154,
          61.53846153846154,
          61.53846153846154,
          60.526315789473685,
          60,
          59.25925925925925,
          58.82352941176471,
          58.333333333333336,
          58.333333333333336,
          58.333333333333336,
          57.89473684210527,
          57.89473684210527,
          57.14285714285714,
          57.14285714285714,
          57.14285714285714,
          56.71641791044776,
          56.52173913043478,
          56.25,
          56.25,
          56.25,
          56.09756097560976,
          55.88235294117647,
          55.55555555555556,
          55.55555555555556,
          55.36992840095465,
          55.00000000000001,
          55.00000000000001,
          54.94505494505495,
          54.794520547945204,
          54.647887323943664,
          54.54545454545454,
          54.54545454545454,
          54.54545454545454,
          54.54545454545454,
          54.54545454545454,
          54.54545454545454,
          54.54545454545454,
          54.385964912280706,
          54.347826086956516,
          53.84615384615385,
          53.84615384615385,
          53.84615384615385,
          53.84615384615385,
          53.84615384615385,
          53.84615384615385,
          53.84615384615385,
          53.65853658536586,
          53.125,
          53.07017543859649,
          52.94117647058824,
          52.94117647058824,
          52.94117647058824,
          52.94117647058824,
          52.94117647058824,
          52.94117647058824,
          52.94117647058824,
          52.77777777777778,
          52.77777777777778,
          52.773826458036986,
          52.63157894736842,
          52.63157894736842,
          52.56410256410257,
          52.459016393442624,
          52.38095238095239,
          52.38095238095239,
          52.38095238095239,
          52.32974910394266,
          52.22929936305732,
          52.21238938053098,
          52.20125786163522,
          52.17391304347826,
          52,
          51.724137931034484,
          51.33333333333333,
          51.26582278481012,
          51.041666666666664,
          51.02040816326531,
          50.602409638554214,
          50.442477876106196,
          50.30487804878049,
          50.231481481481474,
          50,
          50,
          50,
          50,
          50,
          50,
          50,
          50,
          50,
          50,
          50,
          50,
          50,
          50,
          50,
          50,
          50,
          50,
          50,
          50,
          50,
          50,
          50,
          50,
          50,
          50,
          50,
          50,
          50,
          50,
          50,
          50,
          50,
          50,
          50,
          50,
          50,
          50,
          50,
          50,
          49.54128440366973,
          49.43820224719101,
          48.93617021276596,
          48.91640866873065,
          48.89502762430939,
          48.888888888888886,
          48.837209302325576,
          48.739495798319325,
          48.67256637168141,
          48.64864864864865,
          48.484848484848484,
          48.38709677419355,
          48.23529411764706,
          48.148148148148145,
          48.148148148148145,
          47.82608695652174,
          47.82608695652174,
          47.61904761904761,
          47.61904761904761,
          47.368421052631575,
          47.368421052631575,
          47.368421052631575,
          47.30538922155689,
          47.086247086247084,
          47.05882352941176,
          47.05882352941176,
          47.05882352941176,
          47.05882352941176,
          46.98795180722892,
          46.931407942238266,
          46.875,
          46.72131147540984,
          46.666666666666664,
          46.666666666666664,
          46.666666666666664,
          46.666666666666664,
          46.666666666666664,
          46.666666666666664,
          46.666666666666664,
          46.666666666666664,
          46.42857142857143,
          46.42857142857143,
          46.312684365781706,
          46.15384615384615,
          46.15384615384615,
          46.15384615384615,
          46.15384615384615,
          46.15384615384615,
          46.15384615384615,
          46.15384615384615,
          46.15384615384615,
          46.03174603174603,
          46,
          45.94594594594595,
          45.83333333333333,
          45.83333333333333,
          45.83333333333333,
          45.83333333333333,
          45.714285714285715,
          45.67901234567901,
          45.614035087719294,
          45.610278372591004,
          45.45454545454545,
          45.45454545454545,
          45.45454545454545,
          45.45454545454545,
          45.45454545454545,
          45.45454545454545,
          45.45454545454545,
          45.45454545454545,
          45.45454545454545,
          45.45454545454545,
          45.45454545454545,
          45.45454545454545,
          45.17543859649123,
          45.09803921568628,
          45.09803921568628,
          45.04504504504504,
          45,
          45,
          45,
          45,
          44.93087557603687,
          44.827586206896555,
          44.776119402985074,
          44.70338983050847,
          44.642857142857146,
          44.61538461538462,
          44.565217391304344,
          44.52261306532663,
          44.46854663774403,
          44.44444444444444,
          44.44444444444444,
          44.44444444444444,
          44.44444444444444,
          44.44444444444444,
          44.44444444444444,
          44.34782608695652,
          44.303797468354425,
          44.11764705882353,
          44.11764705882353,
          44.06779661016949,
          44.047619047619044,
          43.90243902439025,
          43.75,
          43.75,
          43.75,
          43.75,
          43.63636363636363,
          43.47826086956522,
          43.47826086956522,
          43.333333333333336,
          43.333333333333336,
          43.333333333333336,
          43.17718940936864,
          43.01412872841444,
          43.00847457627119,
          42.95039164490861,
          42.857142857142854,
          42.857142857142854,
          42.857142857142854,
          42.857142857142854,
          42.857142857142854,
          42.857142857142854,
          42.857142857142854,
          42.857142857142854,
          42.857142857142854,
          42.857142857142854,
          42.857142857142854,
          42.857142857142854,
          42.857142857142854,
          42.857142857142854,
          42.857142857142854,
          42.64705882352941,
          42.5,
          42.5,
          42.45283018867924,
          42.42424242424242,
          42.42424242424242,
          42.35294117647059,
          42.32365145228216,
          42.30118443316413,
          42.19653179190752,
          42.1875,
          42.12121212121212,
          42.10526315789473,
          42.10526315789473,
          42.07547169811321,
          41.86046511627907,
          41.843971631205676,
          41.81818181818181,
          41.732283464566926,
          41.66666666666667,
          41.66666666666667,
          41.66666666666667,
          41.66666666666667,
          41.66666666666667,
          41.66666666666667,
          41.66666666666667,
          41.66666666666667,
          41.53846153846154,
          41.46341463414634,
          41.44736842105263,
          41.37931034482759,
          41.30982367758186,
          41.23711340206185,
          41.17647058823529,
          41.0958904109589,
          40.98360655737705,
          40.97222222222222,
          40.909090909090914,
          40.909090909090914,
          40.909090909090914,
          40.909090909090914,
          40.909090909090914,
          40.909090909090914,
          40.816326530612244,
          40.816326530612244,
          40.74074074074074,
          40.74074074074074,
          40.74074074074074,
          40.54054054054054,
          40.54054054054054,
          40.54054054054054,
          40.476190476190474,
          40.44117647058824,
          40.27777777777778,
          40.14598540145985,
          40.119760479041915,
          40,
          40,
          40,
          40,
          40,
          40,
          40,
          40,
          40,
          40,
          40,
          40,
          40,
          40,
          40,
          40,
          40,
          40,
          39.9264705882353,
          39.90147783251231,
          39.8936170212766,
          39.795918367346935,
          39.75903614457831,
          39.69072164948454,
          39.6551724137931,
          39.473684210526315,
          39.473684210526315,
          39.39393939393939,
          39.390756302521005,
          39.361702127659576,
          39.34426229508197,
          39.285714285714285,
          39.285714285714285,
          39.285714285714285,
          39.226519337016576,
          39.21568627450981,
          39.189189189189186,
          39.138943248532286,
          39.130434782608695,
          39.130434782608695,
          39.130434782608695,
          39.130434782608695,
          39.130434782608695,
          39.130434782608695,
          39.08045977011494,
          39.0092879256966,
          38.961038961038966,
          38.94736842105263,
          38.88888888888889,
          38.88888888888889,
          38.88888888888889,
          38.80597014925373,
          38.70967741935484,
          38.70967741935484,
          38.68613138686132,
          38.666666666666664,
          38.63636363636363,
          38.59649122807017,
          38.57142857142858,
          38.46153846153847,
          38.46153846153847,
          38.46153846153847,
          38.46153846153847,
          38.46153846153847,
          38.46153846153847,
          38.43416370106761,
          38.34355828220859,
          38.333333333333336,
          38.18181818181819,
          38.113207547169814,
          38.095238095238095,
          37.9746835443038,
          37.93103448275862,
          37.93103448275862,
          37.89473684210527,
          37.83783783783784,
          37.785800240673886,
          37.735849056603776,
          37.735849056603776,
          37.735849056603776,
          37.704918032786885,
          37.704918032786885,
          37.68115942028986,
          37.628865979381445,
          37.62376237623762,
          37.6,
          37.55656108597285,
          37.5,
          37.5,
          37.5,
          37.5,
          37.5,
          37.5,
          37.5,
          37.5,
          37.5,
          37.410071942446045,
          37.344398340248965,
          37.333333333333336,
          37.254901960784316,
          37.254901960784316,
          37.142857142857146,
          37.03703703703704,
          37.03703703703704,
          37.03703703703704,
          36.95652173913043,
          36.95652173913043,
          36.95652173913043,
          36.95652173913043,
          36.84210526315789,
          36.84210526315789,
          36.84210526315789,
          36.84210526315789,
          36.84210526315789,
          36.84210526315789,
          36.771300448430495,
          36.76470588235294,
          36.734693877551024,
          36.666666666666664,
          36.666666666666664,
          36.666666666666664,
          36.59147869674185,
          36.5296803652968,
          36.507936507936506,
          36.507936507936506,
          36.470588235294116,
          36.36363636363637,
          36.36363636363637,
          36.36363636363637,
          36.36363636363637,
          36.36363636363637,
          36.36363636363637,
          36.36363636363637,
          36.36363636363637,
          36.36363636363637,
          36.36363636363637,
          36.36363636363637,
          36.36363636363637,
          36.36363636363637,
          36.36363636363637,
          36.36363636363637,
          36.36363636363637,
          36.36363636363637,
          36.36363636363637,
          36.36363636363637,
          36.36363636363637,
          36.36363636363637,
          36.21951219512195,
          36.206896551724135,
          36.206896551724135,
          36.206896551724135,
          36.17021276595745,
          36.11111111111111,
          36.11111111111111,
          36.075949367088604,
          36.01398601398601,
          36,
          36,
          35.932203389830505,
          35.92233009708738,
          35.714285714285715,
          35.714285714285715,
          35.714285714285715,
          35.714285714285715,
          35.714285714285715,
          35.714285714285715,
          35.714285714285715,
          35.59322033898305,
          35.51523007128969,
          35.50295857988166,
          35.483870967741936,
          35.483870967741936,
          35.483870967741936,
          35.41666666666667,
          35.41666666666667,
          35.4,
          35.35353535353536,
          35.3448275862069,
          35.338345864661655,
          35.338345864661655,
          35.294117647058826,
          35.294117647058826,
          35.294117647058826,
          35.294117647058826,
          35.25179856115108,
          35.24590163934426,
          35.22727272727273,
          35.22012578616352,
          35.2112676056338,
          35.1937984496124,
          35.18518518518518,
          35.18518518518518,
          35.16483516483517,
          35.15151515151515,
          35.13513513513514,
          35.08771929824561,
          35,
          35,
          35,
          34.95145631067961,
          34.90566037735849,
          34.883720930232556,
          34.883720930232556,
          34.862385321100916,
          34.78260869565217,
          34.765998089780325,
          34.73684210526316,
          34.69387755102041,
          34.66666666666667,
          34.61538461538461,
          34.61538461538461,
          34.58646616541353,
          34.57627118644068,
          34.54545454545455,
          34.54545454545455,
          34.54545454545455,
          34.48275862068966,
          34.4,
          34.375,
          34.375,
          34.375,
          34.285714285714285,
          34.285714285714285,
          34.285714285714285,
          34.244372990353696,
          34.234234234234236,
          34.21052631578947,
          34.21052631578947,
          34.18803418803419,
          34.161490683229815,
          34.13566739606127,
          34.13333333333333,
          34,
          33.940042826552464,
          33.92857142857143,
          33.92857142857143,
          33.82352941176471,
          33.82352941176471,
          33.80281690140845,
          33.76623376623377,
          33.75796178343949,
          33.747779751332146,
          33.69565217391305,
          33.60655737704918,
          33.532934131736525,
          33.52517985611511,
          33.38582677165354,
          33.33333333333333,
          33.33333333333333,
          33.33333333333333,
          33.33333333333333,
          33.33333333333333,
          33.33333333333333,
          33.33333333333333,
          33.33333333333333,
          33.33333333333333,
          33.33333333333333,
          33.33333333333333,
          33.33333333333333,
          33.33333333333333,
          33.33333333333333,
          33.33333333333333,
          33.33333333333333,
          33.33333333333333,
          33.33333333333333,
          33.33333333333333,
          33.33333333333333,
          33.33333333333333,
          33.33333333333333,
          33.33333333333333,
          33.33333333333333,
          33.33333333333333,
          33.33333333333333,
          33.33333333333333,
          33.33333333333333,
          33.33333333333333,
          33.33333333333333,
          33.33333333333333,
          33.33333333333333,
          33.33333333333333,
          33.33333333333333,
          33.33333333333333,
          33.33333333333333,
          33.217592592592595,
          33.16831683168317,
          33.150183150183146,
          33.146067415730336,
          33.02325581395349,
          32.97872340425532,
          32.93172690763052,
          32.926829268292686,
          32.926829268292686,
          32.78688524590164,
          32.758620689655174,
          32.748538011695906,
          32.72727272727273,
          32.71375464684015,
          32.69230769230769,
          32.6530612244898,
          32.57575757575758,
          32.55813953488372,
          32.55813953488372,
          32.55269320843091,
          32.5,
          32.5,
          32.5,
          32.47863247863248,
          32.47863247863248,
          32.402234636871505,
          32.36607142857143,
          32.35294117647059,
          32.31707317073171,
          32.25806451612903,
          32.22222222222222,
          32.142857142857146,
          32.142857142857146,
          32.142857142857146,
          32.098765432098766,
          32,
          32,
          32,
          32,
          32,
          31.988188976377952,
          31.97278911564626,
          31.958762886597935,
          31.932773109243694,
          31.914893617021278,
          31.818181818181817,
          31.76470588235294,
          31.685393258426963,
          31.683168316831683,
          31.61290322580645,
          31.57894736842105,
          31.57894736842105,
          31.57894736842105,
          31.57894736842105,
          31.57894736842105,
          31.57894736842105,
          31.57894736842105,
          31.53153153153153,
          31.521739130434785,
          31.506849315068493,
          31.496062992125985,
          31.48148148148148,
          31.428571428571427,
          31.313131313131315,
          31.25,
          31.25,
          31.25,
          31.25,
          31.25,
          31.25,
          31.19266055045872,
          31.147540983606557,
          31.125827814569533,
          31.046931407942242,
          31.03448275862069,
          31.016042780748666,
          30.935251798561154,
          30.909090909090907,
          30.909090909090907,
          30.864197530864196,
          30.851063829787233,
          30.76923076923077,
          30.76923076923077,
          30.76923076923077,
          30.76923076923077,
          30.76923076923077,
          30.76923076923077,
          30.76923076923077,
          30.76923076923077,
          30.76923076923077,
          30.76923076923077,
          30.76923076923077,
          30.76923076923077,
          30.76923076923077,
          30.76923076923077,
          30.76923076923077,
          30.73170731707317,
          30.681818181818183,
          30.612244897959183,
          30.46875,
          30.451866404715126,
          30.434782608695656,
          30.434782608695656,
          30.357142857142854,
          30.35230352303523,
          30.35019455252918,
          30.303030303030305,
          30.303030303030305,
          30.275229357798167,
          30.256410256410255,
          30.18867924528302,
          30.158730158730158,
          30.158730158730158,
          30,
          30,
          30,
          30,
          30,
          30,
          30,
          30,
          29.945553539019965,
          29.943502824858758,
          29.92125984251969,
          29.87012987012987,
          29.82456140350877,
          29.72972972972973,
          29.629629629629626,
          29.549114331723025,
          29.50191570881226,
          29.47368421052631,
          29.411764705882355,
          29.411764705882355,
          29.411764705882355,
          29.411764705882355,
          29.411764705882355,
          29.411764705882355,
          29.411764705882355,
          29.411764705882355,
          29.411764705882355,
          29.411764705882355,
          29.411764705882355,
          29.411764705882355,
          29.357798165137616,
          29.347826086956523,
          29.32098765432099,
          29.268292682926827,
          29.230769230769234,
          29.166666666666668,
          29.166666666666668,
          29.166666666666668,
          29.056603773584904,
          29.03225806451613,
          29.03225806451613,
          28.947368421052634,
          28.947368421052634,
          28.87323943661972,
          28.846153846153843,
          28.8265306122449,
          28.82143833743506,
          28.761061946902654,
          28.749999999999996,
          28.57142857142857,
          28.57142857142857,
          28.57142857142857,
          28.57142857142857,
          28.57142857142857,
          28.57142857142857,
          28.57142857142857,
          28.57142857142857,
          28.57142857142857,
          28.57142857142857,
          28.57142857142857,
          28.57142857142857,
          28.57142857142857,
          28.57142857142857,
          28.57142857142857,
          28.57142857142857,
          28.57142857142857,
          28.57142857142857,
          28.57142857142857,
          28.57142857142857,
          28.57142857142857,
          28.52941176470588,
          28.488372093023255,
          28.39506172839506,
          28.35820895522388,
          28.354430379746837,
          28.30188679245283,
          28.169014084507044,
          28.153046764289087,
          28.143712574850298,
          28.125,
          28.125,
          28.125,
          28.115942028985508,
          28.037383177570092,
          28.000000000000004,
          28.000000000000004,
          28.000000000000004,
          28.000000000000004,
          28.000000000000004,
          28.000000000000004,
          27.93103448275862,
          27.927927927927925,
          27.81456953642384,
          27.791262135922327,
          27.77777777777778,
          27.77777777777778,
          27.77777777777778,
          27.77777777777778,
          27.77777777777778,
          27.77777777777778,
          27.631578947368425,
          27.596439169139465,
          27.586206896551722,
          27.500000000000004,
          27.500000000000004,
          27.450980392156865,
          27.450980392156865,
          27.419354838709676,
          27.368421052631582,
          27.27272727272727,
          27.27272727272727,
          27.27272727272727,
          27.27272727272727,
          27.27272727272727,
          27.27272727272727,
          27.27272727272727,
          27.27272727272727,
          27.27272727272727,
          27.27272727272727,
          27.27272727272727,
          27.27272727272727,
          27.149321266968325,
          27.11864406779661,
          27.11864406779661,
          27.083333333333332,
          27.083333333333332,
          27.083333333333332,
          27.027027027027028,
          27.021696252465482,
          27,
          26.993865030674847,
          26.984126984126984,
          26.984126984126984,
          26.923076923076923,
          26.923076923076923,
          26.923076923076923,
          26.923076923076923,
          26.923076923076923,
          26.865671641791046,
          26.865671641791046,
          26.82926829268293,
          26.666666666666668,
          26.666666666666668,
          26.666666666666668,
          26.666666666666668,
          26.666666666666668,
          26.627218934911244,
          26.595744680851062,
          26.5625,
          26.53601694915254,
          26.53061224489796,
          26.495726495726498,
          26.47058823529412,
          26.47058823529412,
          26.47058823529412,
          26.46239554317549,
          26.41509433962264,
          26.359832635983267,
          26.31578947368421,
          26.31578947368421,
          26.31578947368421,
          26.190476190476193,
          26.190476190476193,
          26.136363636363637,
          26.08695652173913,
          26.08695652173913,
          26.08695652173913,
          26.08695652173913,
          26.08695652173913,
          26.08695652173913,
          26,
          25.925925925925924,
          25.862068965517242,
          25.862068965517242,
          25.806451612903224,
          25.806451612903224,
          25.806451612903224,
          25.78616352201258,
          25.728155339805824,
          25.72614107883817,
          25.71428571428571,
          25.677830940988837,
          25.6198347107438,
          25.609756097560975,
          25.581395348837212,
          25.563909774436087,
          25.454545454545453,
          25.449640287769785,
          25.443786982248522,
          25.438596491228072,
          25.34246575342466,
          25.311203319502074,
          25.247524752475247,
          25.153374233128833,
          25.146198830409354,
          25.106382978723403,
          25,
          25,
          25,
          25,
          25,
          25,
          25,
          25,
          25,
          25,
          25,
          25,
          25,
          25,
          25,
          25,
          25,
          25,
          25,
          24.82758620689655,
          24.778761061946902,
          24.65753424657534,
          24.65753424657534,
          24.637681159420293,
          24.528301886792452,
          24.528301886792452,
          24.489795918367346,
          24.444444444444443,
          24.444444444444443,
          24.444444444444443,
          24.444444444444443,
          24.444444444444443,
          24.324324324324326,
          24.271844660194176,
          24.242424242424242,
          24.23469387755102,
          24.193548387096776,
          24.137931034482758,
          24.137931034482758,
          24.09090909090909,
          24,
          24,
          24,
          23.88059701492537,
          23.870967741935484,
          23.853211009174313,
          23.809523809523807,
          23.809523809523807,
          23.809523809523807,
          23.809523809523807,
          23.809523809523807,
          23.809523809523807,
          23.699421965317917,
          23.636363636363637,
          23.52941176470588,
          23.52941176470588,
          23.52941176470588,
          23.404255319148938,
          23.404255319148938,
          23.333333333333332,
          23.333333333333332,
          23.300970873786408,
          23.25581395348837,
          23.076923076923077,
          23.076923076923077,
          23.076923076923077,
          23.076923076923077,
          23.076923076923077,
          23.076923076923077,
          23.076923076923077,
          23.076923076923077,
          23.076923076923077,
          23.051948051948052,
          22.988505747126435,
          22.916666666666664,
          22.875816993464053,
          22.818791946308725,
          22.807017543859647,
          22.727272727272727,
          22.727272727272727,
          22.727272727272727,
          22.727272727272727,
          22.727272727272727,
          22.58064516129032,
          22.58064516129032,
          22.463768115942027,
          22.413793103448278,
          22.388059701492537,
          22.36842105263158,
          22.330097087378643,
          22.277227722772277,
          22.22222222222222,
          22.22222222222222,
          22.22222222222222,
          22.22222222222222,
          22.22222222222222,
          22.22222222222222,
          22.151898734177212,
          22.145328719723185,
          22.142857142857142,
          22.093023255813954,
          22.033898305084744,
          21.951219512195124,
          21.935483870967744,
          21.893491124260358,
          21.875,
          21.875,
          21.875,
          21.794871794871796,
          21.782178217821784,
          21.73913043478261,
          21.73913043478261,
          21.73913043478261,
          21.73913043478261,
          21.73913043478261,
          21.686746987951807,
          21.5962441314554,
          21.568627450980394,
          21.568627450980394,
          21.428571428571427,
          21.428571428571427,
          21.428571428571427,
          21.428571428571427,
          21.428571428571427,
          21.428571428571427,
          21.428571428571427,
          21.428571428571427,
          21.428571428571427,
          21.323529411764707,
          21.27659574468085,
          21.21212121212121,
          21.21212121212121,
          21.21212121212121,
          21.153846153846153,
          21.153846153846153,
          21.052631578947366,
          21.052631578947366,
          21.038961038961038,
          20.94240837696335,
          20.855614973262032,
          20.76923076923077,
          20.754716981132077,
          20.689655172413794,
          20.689655172413794,
          20.606060606060606,
          20.51282051282051,
          20.51282051282051,
          20.51282051282051,
          20.408163265306122,
          20.28301886792453,
          20.27972027972028,
          20.253164556962027,
          20,
          20,
          20,
          20,
          20,
          20,
          20,
          20,
          20,
          20,
          20,
          20,
          19.745222929936308,
          19.718309859154928,
          19.642857142857142,
          19.617224880382775,
          19.587628865979383,
          19.51219512195122,
          19.444444444444446,
          19.444444444444446,
          19.148936170212767,
          19.047619047619047,
          19.047619047619047,
          19.047619047619047,
          19.047619047619047,
          19.047619047619047,
          19.047619047619047,
          19.047619047619047,
          18.91891891891892,
          18.803418803418804,
          18.75,
          18.75,
          18.75,
          18.75,
          18.75,
          18.7192118226601,
          18.69158878504673,
          18.666666666666668,
          18.6046511627907,
          18.6046511627907,
          18.571428571428573,
          18.51851851851852,
          18.51851851851852,
          18.51851851851852,
          18.492462311557787,
          18.421052631578945,
          18.329466357308586,
          18.181818181818183,
          18.181818181818183,
          18.181818181818183,
          18.181818181818183,
          18.181818181818183,
          18.181818181818183,
          18.181818181818183,
          18.181818181818183,
          18.181818181818183,
          18.181818181818183,
          18.181818181818183,
          18.181818181818183,
          18.181818181818183,
          18.181818181818183,
          18.181818181818183,
          18.181818181818183,
          18.181818181818183,
          18.181818181818183,
          18.065693430656935,
          17.91044776119403,
          17.91044776119403,
          17.877094972067038,
          17.857142857142858,
          17.80821917808219,
          17.647058823529413,
          17.647058823529413,
          17.647058823529413,
          17.647058823529413,
          17.647058823529413,
          17.647058823529413,
          17.558528428093645,
          17.543859649122805,
          17.51824817518248,
          17.465753424657535,
          17.46031746031746,
          17.391304347826086,
          17.316017316017316,
          17.142857142857142,
          17.12707182320442,
          17.123287671232877,
          17.073170731707318,
          16.883116883116884,
          16.666666666666664,
          16.666666666666664,
          16.666666666666664,
          16.666666666666664,
          16.666666666666664,
          16.666666666666664,
          16.666666666666664,
          16.666666666666664,
          16.666666666666664,
          16.666666666666664,
          16.666666666666664,
          16.666666666666664,
          16.666666666666664,
          16.666666666666664,
          16.666666666666664,
          16.666666666666664,
          16.666666666666664,
          16.666666666666664,
          16.45367412140575,
          16.25,
          16.25,
          16.16052060737527,
          16.129032258064516,
          16.129032258064516,
          16.129032258064516,
          16.071428571428573,
          16.06648199445983,
          16,
          16,
          15.939278937381404,
          15.902140672782874,
          15.853658536585366,
          15.789473684210526,
          15.789473684210526,
          15.789473684210526,
          15.789473684210526,
          15.789473684210526,
          15.789473684210526,
          15.625,
          15.492957746478872,
          15.384615384615385,
          15.384615384615385,
          15.384615384615385,
          15.384615384615385,
          15.384615384615385,
          15.384615384615385,
          15.384615384615385,
          15.294117647058824,
          15.254237288135593,
          14.93212669683258,
          14.925373134328357,
          14.893617021276595,
          14.893617021276595,
          14.857142857142858,
          14.814814814814813,
          14.814814814814813,
          14.814814814814813,
          14.814814814814813,
          14.705882352941178,
          14.6,
          14.516129032258066,
          14.285714285714285,
          14.285714285714285,
          14.285714285714285,
          14.285714285714285,
          14.285714285714285,
          13.881019830028329,
          13.725490196078432,
          13.698630136986301,
          13.636363636363635,
          13.636363636363635,
          13.636363636363635,
          13.432835820895523,
          13.333333333333334,
          13.333333333333334,
          13.333333333333334,
          13.333333333333334,
          13.157894736842104,
          13.157894736842104,
          13,
          12.878787878787879,
          12.82051282051282,
          12.698412698412698,
          12.5,
          12.5,
          12.5,
          12.5,
          12.5,
          12.195121951219512,
          11.864406779661017,
          11.76470588235294,
          11.76470588235294,
          11.76470588235294,
          11.76470588235294,
          11.538461538461538,
          11.4,
          11.320754716981133,
          10.996563573883162,
          10.714285714285714,
          10.655737704918032,
          10.526315789473683,
          10.526315789473683,
          10.504201680672269,
          10.256410256410255,
          10,
          10,
          10,
          10,
          10,
          9.67741935483871,
          9.67741935483871,
          9.230769230769232,
          9.183673469387756,
          9.090909090909092,
          9.090909090909092,
          9.090909090909092,
          9.090909090909092,
          9.090909090909092,
          9.090909090909092,
          9.090909090909092,
          9.090909090909092,
          9.090909090909092,
          9.090909090909092,
          9,
          8.823529411764707,
          8.695652173913043,
          8.333333333333332,
          8.333333333333332,
          8.333333333333332,
          8.333333333333332,
          8.333333333333332,
          8.333333333333332,
          8.333333333333332,
          8.333333333333332,
          7.971014492753622,
          7.6923076923076925,
          7.6923076923076925,
          7.6923076923076925,
          7.6923076923076925,
          7.142857142857142,
          7.142857142857142,
          7.142857142857142,
          7.142857142857142,
          7.142857142857142,
          6.666666666666667,
          6.25,
          5.88235294117647,
          5.88235294117647,
          5.555555555555555,
          5.263157894736842,
          4.545454545454546,
          3.225806451612903,
          null,
          null,
          null,
          null
         ],
         "yaxis": "y"
        }
       ],
       "layout": {
        "barmode": "relative",
        "legend": {
         "tracegroupgap": 0
        },
        "margin": {
         "t": 60
        },
        "template": {
         "data": {
          "bar": [
           {
            "error_x": {
             "color": "#2a3f5f"
            },
            "error_y": {
             "color": "#2a3f5f"
            },
            "marker": {
             "line": {
              "color": "#E5ECF6",
              "width": 0.5
             },
             "pattern": {
              "fillmode": "overlay",
              "size": 10,
              "solidity": 0.2
             }
            },
            "type": "bar"
           }
          ],
          "barpolar": [
           {
            "marker": {
             "line": {
              "color": "#E5ECF6",
              "width": 0.5
             },
             "pattern": {
              "fillmode": "overlay",
              "size": 10,
              "solidity": 0.2
             }
            },
            "type": "barpolar"
           }
          ],
          "carpet": [
           {
            "aaxis": {
             "endlinecolor": "#2a3f5f",
             "gridcolor": "white",
             "linecolor": "white",
             "minorgridcolor": "white",
             "startlinecolor": "#2a3f5f"
            },
            "baxis": {
             "endlinecolor": "#2a3f5f",
             "gridcolor": "white",
             "linecolor": "white",
             "minorgridcolor": "white",
             "startlinecolor": "#2a3f5f"
            },
            "type": "carpet"
           }
          ],
          "choropleth": [
           {
            "colorbar": {
             "outlinewidth": 0,
             "ticks": ""
            },
            "type": "choropleth"
           }
          ],
          "contour": [
           {
            "colorbar": {
             "outlinewidth": 0,
             "ticks": ""
            },
            "colorscale": [
             [
              0,
              "#0d0887"
             ],
             [
              0.1111111111111111,
              "#46039f"
             ],
             [
              0.2222222222222222,
              "#7201a8"
             ],
             [
              0.3333333333333333,
              "#9c179e"
             ],
             [
              0.4444444444444444,
              "#bd3786"
             ],
             [
              0.5555555555555556,
              "#d8576b"
             ],
             [
              0.6666666666666666,
              "#ed7953"
             ],
             [
              0.7777777777777778,
              "#fb9f3a"
             ],
             [
              0.8888888888888888,
              "#fdca26"
             ],
             [
              1,
              "#f0f921"
             ]
            ],
            "type": "contour"
           }
          ],
          "contourcarpet": [
           {
            "colorbar": {
             "outlinewidth": 0,
             "ticks": ""
            },
            "type": "contourcarpet"
           }
          ],
          "heatmap": [
           {
            "colorbar": {
             "outlinewidth": 0,
             "ticks": ""
            },
            "colorscale": [
             [
              0,
              "#0d0887"
             ],
             [
              0.1111111111111111,
              "#46039f"
             ],
             [
              0.2222222222222222,
              "#7201a8"
             ],
             [
              0.3333333333333333,
              "#9c179e"
             ],
             [
              0.4444444444444444,
              "#bd3786"
             ],
             [
              0.5555555555555556,
              "#d8576b"
             ],
             [
              0.6666666666666666,
              "#ed7953"
             ],
             [
              0.7777777777777778,
              "#fb9f3a"
             ],
             [
              0.8888888888888888,
              "#fdca26"
             ],
             [
              1,
              "#f0f921"
             ]
            ],
            "type": "heatmap"
           }
          ],
          "heatmapgl": [
           {
            "colorbar": {
             "outlinewidth": 0,
             "ticks": ""
            },
            "colorscale": [
             [
              0,
              "#0d0887"
             ],
             [
              0.1111111111111111,
              "#46039f"
             ],
             [
              0.2222222222222222,
              "#7201a8"
             ],
             [
              0.3333333333333333,
              "#9c179e"
             ],
             [
              0.4444444444444444,
              "#bd3786"
             ],
             [
              0.5555555555555556,
              "#d8576b"
             ],
             [
              0.6666666666666666,
              "#ed7953"
             ],
             [
              0.7777777777777778,
              "#fb9f3a"
             ],
             [
              0.8888888888888888,
              "#fdca26"
             ],
             [
              1,
              "#f0f921"
             ]
            ],
            "type": "heatmapgl"
           }
          ],
          "histogram": [
           {
            "marker": {
             "pattern": {
              "fillmode": "overlay",
              "size": 10,
              "solidity": 0.2
             }
            },
            "type": "histogram"
           }
          ],
          "histogram2d": [
           {
            "colorbar": {
             "outlinewidth": 0,
             "ticks": ""
            },
            "colorscale": [
             [
              0,
              "#0d0887"
             ],
             [
              0.1111111111111111,
              "#46039f"
             ],
             [
              0.2222222222222222,
              "#7201a8"
             ],
             [
              0.3333333333333333,
              "#9c179e"
             ],
             [
              0.4444444444444444,
              "#bd3786"
             ],
             [
              0.5555555555555556,
              "#d8576b"
             ],
             [
              0.6666666666666666,
              "#ed7953"
             ],
             [
              0.7777777777777778,
              "#fb9f3a"
             ],
             [
              0.8888888888888888,
              "#fdca26"
             ],
             [
              1,
              "#f0f921"
             ]
            ],
            "type": "histogram2d"
           }
          ],
          "histogram2dcontour": [
           {
            "colorbar": {
             "outlinewidth": 0,
             "ticks": ""
            },
            "colorscale": [
             [
              0,
              "#0d0887"
             ],
             [
              0.1111111111111111,
              "#46039f"
             ],
             [
              0.2222222222222222,
              "#7201a8"
             ],
             [
              0.3333333333333333,
              "#9c179e"
             ],
             [
              0.4444444444444444,
              "#bd3786"
             ],
             [
              0.5555555555555556,
              "#d8576b"
             ],
             [
              0.6666666666666666,
              "#ed7953"
             ],
             [
              0.7777777777777778,
              "#fb9f3a"
             ],
             [
              0.8888888888888888,
              "#fdca26"
             ],
             [
              1,
              "#f0f921"
             ]
            ],
            "type": "histogram2dcontour"
           }
          ],
          "mesh3d": [
           {
            "colorbar": {
             "outlinewidth": 0,
             "ticks": ""
            },
            "type": "mesh3d"
           }
          ],
          "parcoords": [
           {
            "line": {
             "colorbar": {
              "outlinewidth": 0,
              "ticks": ""
             }
            },
            "type": "parcoords"
           }
          ],
          "pie": [
           {
            "automargin": true,
            "type": "pie"
           }
          ],
          "scatter": [
           {
            "fillpattern": {
             "fillmode": "overlay",
             "size": 10,
             "solidity": 0.2
            },
            "type": "scatter"
           }
          ],
          "scatter3d": [
           {
            "line": {
             "colorbar": {
              "outlinewidth": 0,
              "ticks": ""
             }
            },
            "marker": {
             "colorbar": {
              "outlinewidth": 0,
              "ticks": ""
             }
            },
            "type": "scatter3d"
           }
          ],
          "scattercarpet": [
           {
            "marker": {
             "colorbar": {
              "outlinewidth": 0,
              "ticks": ""
             }
            },
            "type": "scattercarpet"
           }
          ],
          "scattergeo": [
           {
            "marker": {
             "colorbar": {
              "outlinewidth": 0,
              "ticks": ""
             }
            },
            "type": "scattergeo"
           }
          ],
          "scattergl": [
           {
            "marker": {
             "colorbar": {
              "outlinewidth": 0,
              "ticks": ""
             }
            },
            "type": "scattergl"
           }
          ],
          "scattermapbox": [
           {
            "marker": {
             "colorbar": {
              "outlinewidth": 0,
              "ticks": ""
             }
            },
            "type": "scattermapbox"
           }
          ],
          "scatterpolar": [
           {
            "marker": {
             "colorbar": {
              "outlinewidth": 0,
              "ticks": ""
             }
            },
            "type": "scatterpolar"
           }
          ],
          "scatterpolargl": [
           {
            "marker": {
             "colorbar": {
              "outlinewidth": 0,
              "ticks": ""
             }
            },
            "type": "scatterpolargl"
           }
          ],
          "scatterternary": [
           {
            "marker": {
             "colorbar": {
              "outlinewidth": 0,
              "ticks": ""
             }
            },
            "type": "scatterternary"
           }
          ],
          "surface": [
           {
            "colorbar": {
             "outlinewidth": 0,
             "ticks": ""
            },
            "colorscale": [
             [
              0,
              "#0d0887"
             ],
             [
              0.1111111111111111,
              "#46039f"
             ],
             [
              0.2222222222222222,
              "#7201a8"
             ],
             [
              0.3333333333333333,
              "#9c179e"
             ],
             [
              0.4444444444444444,
              "#bd3786"
             ],
             [
              0.5555555555555556,
              "#d8576b"
             ],
             [
              0.6666666666666666,
              "#ed7953"
             ],
             [
              0.7777777777777778,
              "#fb9f3a"
             ],
             [
              0.8888888888888888,
              "#fdca26"
             ],
             [
              1,
              "#f0f921"
             ]
            ],
            "type": "surface"
           }
          ],
          "table": [
           {
            "cells": {
             "fill": {
              "color": "#EBF0F8"
             },
             "line": {
              "color": "white"
             }
            },
            "header": {
             "fill": {
              "color": "#C8D4E3"
             },
             "line": {
              "color": "white"
             }
            },
            "type": "table"
           }
          ]
         },
         "layout": {
          "annotationdefaults": {
           "arrowcolor": "#2a3f5f",
           "arrowhead": 0,
           "arrowwidth": 1
          },
          "autotypenumbers": "strict",
          "coloraxis": {
           "colorbar": {
            "outlinewidth": 0,
            "ticks": ""
           }
          },
          "colorscale": {
           "diverging": [
            [
             0,
             "#8e0152"
            ],
            [
             0.1,
             "#c51b7d"
            ],
            [
             0.2,
             "#de77ae"
            ],
            [
             0.3,
             "#f1b6da"
            ],
            [
             0.4,
             "#fde0ef"
            ],
            [
             0.5,
             "#f7f7f7"
            ],
            [
             0.6,
             "#e6f5d0"
            ],
            [
             0.7,
             "#b8e186"
            ],
            [
             0.8,
             "#7fbc41"
            ],
            [
             0.9,
             "#4d9221"
            ],
            [
             1,
             "#276419"
            ]
           ],
           "sequential": [
            [
             0,
             "#0d0887"
            ],
            [
             0.1111111111111111,
             "#46039f"
            ],
            [
             0.2222222222222222,
             "#7201a8"
            ],
            [
             0.3333333333333333,
             "#9c179e"
            ],
            [
             0.4444444444444444,
             "#bd3786"
            ],
            [
             0.5555555555555556,
             "#d8576b"
            ],
            [
             0.6666666666666666,
             "#ed7953"
            ],
            [
             0.7777777777777778,
             "#fb9f3a"
            ],
            [
             0.8888888888888888,
             "#fdca26"
            ],
            [
             1,
             "#f0f921"
            ]
           ],
           "sequentialminus": [
            [
             0,
             "#0d0887"
            ],
            [
             0.1111111111111111,
             "#46039f"
            ],
            [
             0.2222222222222222,
             "#7201a8"
            ],
            [
             0.3333333333333333,
             "#9c179e"
            ],
            [
             0.4444444444444444,
             "#bd3786"
            ],
            [
             0.5555555555555556,
             "#d8576b"
            ],
            [
             0.6666666666666666,
             "#ed7953"
            ],
            [
             0.7777777777777778,
             "#fb9f3a"
            ],
            [
             0.8888888888888888,
             "#fdca26"
            ],
            [
             1,
             "#f0f921"
            ]
           ]
          },
          "colorway": [
           "#636efa",
           "#EF553B",
           "#00cc96",
           "#ab63fa",
           "#FFA15A",
           "#19d3f3",
           "#FF6692",
           "#B6E880",
           "#FF97FF",
           "#FECB52"
          ],
          "font": {
           "color": "#2a3f5f"
          },
          "geo": {
           "bgcolor": "white",
           "lakecolor": "white",
           "landcolor": "#E5ECF6",
           "showlakes": true,
           "showland": true,
           "subunitcolor": "white"
          },
          "hoverlabel": {
           "align": "left"
          },
          "hovermode": "closest",
          "mapbox": {
           "style": "light"
          },
          "paper_bgcolor": "white",
          "plot_bgcolor": "#E5ECF6",
          "polar": {
           "angularaxis": {
            "gridcolor": "white",
            "linecolor": "white",
            "ticks": ""
           },
           "bgcolor": "#E5ECF6",
           "radialaxis": {
            "gridcolor": "white",
            "linecolor": "white",
            "ticks": ""
           }
          },
          "scene": {
           "xaxis": {
            "backgroundcolor": "#E5ECF6",
            "gridcolor": "white",
            "gridwidth": 2,
            "linecolor": "white",
            "showbackground": true,
            "ticks": "",
            "zerolinecolor": "white"
           },
           "yaxis": {
            "backgroundcolor": "#E5ECF6",
            "gridcolor": "white",
            "gridwidth": 2,
            "linecolor": "white",
            "showbackground": true,
            "ticks": "",
            "zerolinecolor": "white"
           },
           "zaxis": {
            "backgroundcolor": "#E5ECF6",
            "gridcolor": "white",
            "gridwidth": 2,
            "linecolor": "white",
            "showbackground": true,
            "ticks": "",
            "zerolinecolor": "white"
           }
          },
          "shapedefaults": {
           "line": {
            "color": "#2a3f5f"
           }
          },
          "ternary": {
           "aaxis": {
            "gridcolor": "white",
            "linecolor": "white",
            "ticks": ""
           },
           "baxis": {
            "gridcolor": "white",
            "linecolor": "white",
            "ticks": ""
           },
           "bgcolor": "#E5ECF6",
           "caxis": {
            "gridcolor": "white",
            "linecolor": "white",
            "ticks": ""
           }
          },
          "title": {
           "x": 0.05
          },
          "xaxis": {
           "automargin": true,
           "gridcolor": "white",
           "linecolor": "white",
           "ticks": "",
           "title": {
            "standoff": 15
           },
           "zerolinecolor": "white",
           "zerolinewidth": 2
          },
          "yaxis": {
           "automargin": true,
           "gridcolor": "white",
           "linecolor": "white",
           "ticks": "",
           "title": {
            "standoff": 15
           },
           "zerolinecolor": "white",
           "zerolinewidth": 2
          }
         }
        },
        "xaxis": {
         "anchor": "y",
         "domain": [
          0,
          1
         ],
         "title": {
          "text": "drugName"
         }
        },
        "yaxis": {
         "anchor": "x",
         "domain": [
          0,
          1
         ],
         "title": {
          "text": "POSITIVE"
         }
        }
       }
      }
     },
     "metadata": {},
     "output_type": "display_data"
    }
   ],
   "source": [
    "fig = px.bar(sntmt_count.sort_values(by='POSITIVE', ascending=False), x='drugName', y='POSITIVE'\n",
    "             )\n",
    "fig.show()"
   ]
  },
  {
   "cell_type": "code",
   "execution_count": null,
   "metadata": {},
   "outputs": [
    {
     "data": {
      "application/vnd.plotly.v1+json": {
       "config": {
        "plotlyServerURL": "https://plot.ly"
       },
       "data": [
        {
         "alignmentgroup": "True",
         "hovertemplate": "drugName=%{x}<br>NEGATIVE=%{y}<extra></extra>",
         "legendgroup": "",
         "marker": {
          "color": "#636efa",
          "pattern": {
           "shape": ""
          }
         },
         "name": "",
         "offsetgroup": "",
         "orientation": "v",
         "showlegend": false,
         "textposition": "auto",
         "type": "bar",
         "x": [
          "Aricept",
          "Entyvio",
          "Ticagrelor",
          "Brilinta",
          "ProAir RespiClick",
          "Alendronate",
          "Niaspan",
          "Benicar HCT",
          "Zegerid",
          "Kerydin",
          "Ditropan",
          "Apixaban",
          "Macrodantin",
          "Imipramine",
          "Multaq",
          "Apriso",
          "Perampanel",
          "Zetia",
          "Toujeo",
          "TriNessa Lo",
          "Levlen",
          "Cefdinir",
          "Sacubitril / valsartan",
          "Azurette",
          "Fosamax",
          "Opdivo",
          "Hydralazine",
          "Monistat 1-Day or Night Combination Pack",
          "Tavaborole",
          "Zocor",
          "Dronedarone",
          "Hysingla ER",
          "Miconazole",
          "Actonel",
          "Septra",
          "Afinitor",
          "Gemfibrozil",
          "Yuvafem",
          "Bepotastine",
          "Dovonex",
          "Repatha",
          "Pimozide",
          "Compazine",
          "Monistat 3-Day Combination Pack",
          "Simvastatin",
          "Eliquis",
          "Monistat 7",
          "Senna",
          "Farxiga",
          "Prednisolone",
          "Velivet",
          "Dapagliflozin",
          "Allopurinol",
          "Macrobid",
          "Nivolumab",
          "Septra DS",
          "Dextromethorphan",
          "Errin",
          "Clarithromycin",
          "Tri-Lo-Sprintec",
          "Nitrofurantoin",
          "Prolia",
          "Votrient",
          "Vedolizumab",
          "Risedronate",
          "Senokot",
          "Prochlorperazine",
          "Primidone",
          "Nortrel 1 / 35",
          "Teriflunomide",
          "Monistat 7-Day Combination Pack",
          "Zelnorm",
          "Donepezil",
          "Belsomra",
          "Jardiance",
          "Dulcolax",
          "Naloxegol",
          "Dexbrompheniramine / pseudoephedrine",
          "Lupron",
          "Claritin",
          "Fycompa",
          "Multivitamin with minerals",
          "SMZ-TMP DS",
          "Bismuth subcitrate potassium / metronidazole / tetracycline",
          "Aubagio",
          "Nora-Be",
          "Norvasc",
          "Hydrochlorothiazide",
          "Movantik",
          "Tioconazole",
          "Dasatinib",
          "Estradiol / levonorgestrel",
          "Amiodarone",
          "Onexton",
          "Tribenzor",
          "Pylera",
          "Bisacodyl",
          "Ezetimibe",
          "Avanafil",
          "Febuxostat",
          "Fenofibrate",
          "Toviaz",
          "Gildess Fe 1 / 20",
          "Flagyl",
          "Depakote ER",
          "Lacosamide",
          "Trulicity",
          "Finasteride",
          "Atorvastatin",
          "Jalyn",
          "Embeda",
          "Climara Pro",
          "Enablex",
          "Bepreve",
          "Tindamax",
          "Aggrenox",
          "Jublia",
          "Cosentyx",
          "Hydrochlorothiazide / olmesartan",
          "Linagliptin",
          "Pazopanib",
          "Lidocaine",
          "Ciprofloxacin / dexamethasone",
          "Caffeine / ergotamine",
          "Estarylla",
          "Levofloxacin",
          "Sulfamethoxazole / trimethoprim",
          "Dulcolax Laxative",
          "Thorazine",
          "Ciprofloxacin",
          "Denosumab",
          "Arimidex",
          "Evolocumab",
          "Hydrochlorothiazide / lisinopril",
          "Metronidazole",
          "Delsym",
          "Anastrozole",
          "Magnesium sulfate / potassium sulfate / sodium sulfate",
          "Necon 1 / 35",
          "Aldactone",
          "Dutasteride / tamsulosin",
          "Gildess Fe 1.5 / 30",
          "Belbuca",
          "Oxytrol",
          "Morphine / naltrexone",
          "Fenofibric acid",
          "Azilsartan medoxomil",
          "Milk of Magnesia",
          "Doxazosin",
          "Requip",
          "Famotidine / ibuprofen",
          "Blisovi 24 Fe",
          "Pioglitazone",
          "Omeprazole / sodium bicarbonate",
          "Vancomycin",
          "Imiquimod",
          "Solifenacin",
          "Megestrol",
          "Canagliflozin",
          "Tamsulosin",
          "Irbesartan",
          "Dulaglutide",
          "Zoladex",
          "Depo-Provera",
          "Lisinopril",
          "Bydureon",
          "Camrese",
          "Suprep Bowel Prep Kit",
          "Zyvox",
          "Pyridium",
          "Palbociclib",
          "Vivelle-Dot",
          "Candesartan",
          "Sitagliptin",
          "Brimonidine",
          "Omnicef",
          "Amlodipine",
          "Letrozole",
          "Suvorexant",
          "Azithromycin",
          "Lovastatin",
          "Exelon",
          "Acitretin",
          "Ulipristal",
          "Chlorpromazine",
          "Cleocin",
          "Trilipix",
          "Aromasin",
          "Bromocriptine",
          "Crisaborole",
          "Synvisc",
          "Duexis",
          "Neulasta",
          "Myrbetriq",
          "Mydayis",
          "Biaxin",
          "Orap",
          "Prevnar 13",
          "Norethindrone",
          "Toprol-XL",
          "Medroxyprogesterone",
          "Afrin",
          "Exforge",
          "Aldara",
          "VESIcare",
          "Rifaximin",
          "Rozerem",
          "Efinaconazole",
          "Amoxicillin / clavulanate",
          "Benzonatate",
          "Mirabegron",
          "Linezolid",
          "Tegretol XR",
          "Valproic acid",
          "Loestrin 21 1 / 20",
          "Keppra",
          "Secukinumab",
          "Eucrisa",
          "Dutasteride",
          "Mirvaso",
          "Pimecrolimus",
          "Pyridostigmine",
          "Conjugated estrogens",
          "Ramipril",
          "Sulfasalazine",
          "Alfuzosin",
          "Lipitor",
          "Empagliflozin",
          "Exenatide",
          "Liletta",
          "Vimpat",
          "Provera",
          "Minastrin 24 Fe",
          "Qvar",
          "Ibrance",
          "Brompheniramine / dextromethorphan / pseudoephedrine",
          "Livalo",
          "Niacin",
          "Rythmol SR",
          "Tylenol with Codeine #3",
          "Previfem",
          "Levemir",
          "Blisovi Fe 1 / 20",
          "Metoprolol",
          "Ashlyna",
          "Zithromax",
          "Metoclopramide",
          "Bactrim",
          "Haloperidol",
          "Flomax",
          "Tinidazole",
          "Drixoral Cold and Allergy",
          "Cipro",
          "Formoterol / mometasone",
          "Xiidra",
          "Minoxidil",
          "Tri-Previfem",
          "Oseltamivir",
          "Tamiflu",
          "Clindamycin",
          "Avodart",
          "Boniva",
          "Rocephin",
          "Ceftriaxone",
          "Amlodipine / valsartan",
          "Reglan",
          "Hydrochlorothiazide / triamterene",
          "Januvia",
          "Bactrim DS",
          "Falmina",
          "Desipramine",
          "Lioresal",
          "Migranal",
          "Hyzaar",
          "Lotrel",
          "Arava",
          "Tocilizumab",
          "Benlysta",
          "Dymista",
          "ella",
          "Polyethylene glycol 3350 with electrolytes",
          "Rivaroxaban",
          "Avapro",
          "Progesterone",
          "Goserelin",
          "Prilosec",
          "Estring",
          "Levomilnacipran",
          "Aubra",
          "Pramipexole",
          "Exemestane",
          "Lifitegrast",
          "Losartan",
          "Leuprolide",
          "Ramelteon",
          "Aftera",
          "Fetzima",
          "Otezla",
          "Prednisone",
          "Abreva",
          "Uloric",
          "Xeljanz",
          "Mupirocin",
          "Emollients",
          "Codeine / promethazine",
          "Epiduo Forte",
          "Levaquin",
          "Bystolic",
          "Xarelto",
          "Mirapex",
          "Doxylamine / pyridoxine",
          "Ortho Tri-Cyclen",
          "Insulin degludec",
          "Mefenamic acid",
          "Oxymetazoline",
          "Tradjenta",
          "Telmisartan",
          "Terconazole",
          "Actos",
          "Microgestin Fe 1.5 / 30",
          "Orsythia",
          "Depakote",
          "Azelastine / fluticasone",
          "Levetiracetam",
          "Nexplanon",
          "Zyclara",
          "Diclegis",
          "Janumet",
          "Invokana",
          "Fesoterodine",
          "Abacavir / dolutegravir / lamivudine",
          "Caffeine",
          "Coal tar",
          "Actemra",
          "Mononessa",
          "Acetaminophen / codeine",
          "Glipizide",
          "Xifaxan",
          "Pantoprazole",
          "Safyral",
          "Lorzone",
          "Lupron Depot",
          "Nilotinib",
          "Ortho Micronor",
          "Terbinafine",
          "Carafate",
          "MetroGel-Vaginal",
          "Tarina Fe 1 / 20",
          "Isosorbide mononitrate",
          "Brisdelle",
          "Flecainide",
          "Alesse",
          "Cephalexin",
          "Acetazolamide",
          "Tresiba",
          "Hydromet",
          "Neupro",
          "Junel Fe 1 / 20",
          "Pitavastatin",
          "Premarin",
          "Rapaflo",
          "Microgestin Fe 1 / 20",
          "Hydrocodone",
          "Indomethacin",
          "Quasense",
          "Fentanyl Transdermal System",
          "Omeprazole",
          "Nifedipine",
          "Colchicine",
          "Diovan",
          "MoviPrep",
          "Phenytoin",
          "Xulane",
          "Valsartan",
          "LoSeasonique",
          "Doxylamine",
          "Chateal",
          "Apremilast",
          "Praluent",
          "Penicillin v potassium",
          "S-adenosylmethionine",
          "Pravastatin",
          "Pneumococcal 13-valent vaccine",
          "Qsymia",
          "Dulera",
          "Glatiramer",
          "Sunitinib",
          "Sotalol",
          "Tegaserod",
          "Zonegran",
          "Vienva",
          "Darifenacin",
          "Unisom SleepTabs",
          "Tekturna",
          "Tri-Linyah",
          "Decadron",
          "Lantus",
          "Divalproex sodium",
          "Yasmin",
          "Carbamazepine",
          "Topiramate",
          "Estradiol",
          "Ethinyl estradiol / norgestrel",
          "Ethinyl estradiol / norethindrone",
          "Magnesium citrate",
          "Etonogestrel",
          "Insulin glargine",
          "Ropinirole",
          "Teriparatide",
          "Prepopik",
          "Methotrexate",
          "Doxycycline",
          "Ranolazine",
          "Nortriptyline",
          "Atomoxetine",
          "Docosanol",
          "Sovaldi",
          "Camila",
          "Metformin / sitagliptin",
          "Dabigatran",
          "Montelukast",
          "Invega",
          "Fluconazole",
          "Forteo",
          "Relistor",
          "Ambien CR",
          "Claritin-D",
          "Amoxicillin",
          "Versed",
          "Sronyx",
          "Furosemide",
          "Moxifloxacin",
          "Pegfilgrastim",
          "Hydroxychloroquine",
          "Microgestin 1 / 20",
          "Spironolactone",
          "Zonisamide",
          "Phentermine / topiramate",
          "Ethinyl estradiol / ethynodiol",
          "Antabuse",
          "Bunavail",
          "Nebivolol",
          "Lyza",
          "Ethinyl estradiol / levonorgestrel",
          "Jolivette",
          "Synthroid",
          "Augmentin",
          "Correctol",
          "Insulin detemir",
          "Dexamethasone",
          "Phenelzine",
          "Leflunomide",
          "Ocular lubricant",
          "Carvedilol",
          "Metformin",
          "Stendra",
          "Amlodipine / benazepril",
          "Rotigotine",
          "Hydrochlorothiazide / losartan",
          "Ciprodex",
          "Fluorouracil",
          "Silodosin",
          "Eszopiclone",
          "Strattera",
          "Vortioxetine",
          "Robaxin",
          "Amoxicillin / clarithromycin / lansoprazole",
          "Disulfiram",
          "Taytulla",
          "Diltiazem",
          "Plaquenil",
          "Tapentadol",
          "Estradiol / norethindrone",
          "Inderal",
          "Dihydroergotamine",
          "Alirocumab",
          "Cartia XT",
          "Amlodipine / hydrochlorothiazide / olmesartan",
          "Cromolyn",
          "Onglyza",
          "Lasix",
          "Propafenone",
          "Rivastigmine",
          "Capecitabine",
          "Ocella",
          "Mucinex",
          "Byetta",
          "Crestor",
          "Jolessa",
          "Complera",
          "Femara",
          "Linaclotide",
          "Methylprednisolone",
          "Stelara",
          "Capsaicin",
          "Bontril Slow Release",
          "Malarone",
          "Triumeq",
          "Colesevelam",
          "Skyla",
          "Liraglutide",
          "Reclipsen",
          "Levothyroxine",
          "Tofacitinib",
          "Diamox",
          "Ranexa",
          "Ketoconazole",
          "Librax",
          "Seasonale",
          "Butrans",
          "Saxenda",
          "Chlorzoxazone",
          "Botox",
          "Dienogest / estradiol",
          "OnabotulinumtoxinA",
          "Ethinyl estradiol / norgestimate",
          "Zolmitriptan",
          "Thyroid desiccated",
          "Trintellix",
          "Diflucan",
          "Dexilant",
          "Victoza",
          "Topamax",
          "Immune globulin subcutaneous",
          "Oxybutynin",
          "Orphenadrine",
          "Lastacaft",
          "Stadol",
          "Pataday",
          "Latanoprost",
          "Temazepam",
          "Emtricitabine / rilpivirine / tenofovir",
          "Protonix",
          "Xenical",
          "Beclomethasone",
          "Azithromycin Dose Pack",
          "Loratadine / pseudoephedrine",
          "Methylnaltrexone",
          "Zomig",
          "Tegretol",
          "Acetaminophen / caffeine / dihydrocodeine",
          "Doryx",
          "Sutent",
          "Copaxone",
          "Scopolamine",
          "Fentanyl",
          "Levonorgestrel",
          "Tri-Sprintec",
          "Portia",
          "Guaifenesin / pseudoephedrine",
          "Tirosint",
          "Multivitamin",
          "Roflumilast",
          "Tamoxifen",
          "Effexor",
          "Robaxin-750",
          "Fexofenadine / pseudoephedrine",
          "Sklice",
          "Testim",
          "Cobicistat / elvitegravir / emtricitabine / tenofovir alafenamide",
          "Linzess",
          "Contrave",
          "Apri",
          "Keflex",
          "Uroxatral",
          "Cefprozil",
          "Tessalon Perles",
          "Bevacizumab",
          "Acetaminophen / butalbital / caffeine / codeine",
          "Cyclosporine",
          "Androderm",
          "Lo Loestrin Fe",
          "Micardis",
          "Benadryl Allergy",
          "Avelox",
          "Bupropion / naltrexone",
          "Desogestrel / ethinyl estradiol",
          "Mirena",
          "Sofosbuvir",
          "Budesonide / formoterol",
          "Mucinex D",
          "Ustekinumab",
          "Guanfacine",
          "Adapalene",
          "Implanon",
          "Nystatin",
          "Next Choice",
          "Clomiphene",
          "Dilantin",
          "Atarax",
          "Nadolol",
          "Daliresp",
          "Amantadine",
          "Lamisil",
          "Cariprazine",
          "Budesonide",
          "Ledipasvir / sofosbuvir",
          "Infliximab",
          "Catapres",
          "Carbidopa / levodopa",
          "Minocycline",
          "ParaGard",
          "Xyzal",
          "Ibandronate",
          "Liothyronine",
          "Sprintec",
          "Methocarbamol",
          "Tacrolimus",
          "Albuterol",
          "Lutera",
          "Remicade",
          "Bactroban",
          "Glucophage",
          "Excedrin",
          "Belimumab",
          "Viorele",
          "Plavix",
          "Astepro",
          "Anafranil",
          "Tasigna",
          "Alcaftadine",
          "Flurazepam",
          "Fluocinonide",
          "Tenormin",
          "Effient",
          "Cryselle",
          "Citric acid / magnesium oxide / sodium picosulfate",
          "Seasonique",
          "Pradaxa",
          "Lubiprostone",
          "Ethinyl estradiol / norelgestromin",
          "Nardil",
          "TriNessa",
          "Kyleena",
          "Rosuvastatin",
          "Dexlansoprazole",
          "Transderm-Scop",
          "Atovaquone / proguanil",
          "Lunesta",
          "Lidoderm",
          "Dupixent",
          "Chlordiazepoxide / clidinium",
          "Euflexxa",
          "Clonidine",
          "Loestrin 24 Fe",
          "Levocetirizine",
          "Trazodone",
          "Singulair",
          "Fluticasone",
          "Erythromycin",
          "Lysine",
          "Haldol",
          "Lialda",
          "Clopidogrel",
          "Ultram ER",
          "Podofilox",
          "Valtrex",
          "Dexmethylphenidate",
          "Drospirenone / ethinyl estradiol",
          "Plan B One-Step",
          "Lurasidone",
          "Zoledronic acid",
          "Valacyclovir",
          "Acyclovir",
          "Lyrica",
          "Venlafaxine",
          "Zofran ODT",
          "Dimethyl fumarate",
          "Tikosyn",
          "Tiotropium",
          "Focalin XR",
          "Symbicort",
          "Armour Thyroid",
          "Amitiza",
          "Hyaluronan",
          "Viberzi",
          "Zovia",
          "Ketorolac",
          "Prevpac",
          "Hydroxyzine",
          "Mesalamine",
          "Toradol",
          "Guaifenesin",
          "Loratadine",
          "Risperidone",
          "Nexium",
          "Vilazodone",
          "Yaz",
          "Genvoya",
          "BuSpar",
          "Elmiron",
          "Paliperidone",
          "Sumatriptan",
          "Latuda",
          "Doxepin",
          "Risperdal",
          "Advair Diskus",
          "Nucynta",
          "Omalizumab",
          "Aviane",
          "Esomeprazole",
          "Ortho Tri-Cyclen Lo",
          "Ziprasidone",
          "Mirtazapine",
          "Plan B",
          "Cymbalta",
          "Allegra",
          "Diprivan",
          "Intuniv",
          "Silver sulfadiazine",
          "Midazolam",
          "Tizanidine",
          "Tecfidera",
          "Zepatier",
          "Daytrana",
          "Ipratropium",
          "Tetracycline",
          "Flonase",
          "Betamethasone / calcipotriene",
          "Muse",
          "Aliskiren",
          "Estrace Vaginal Cream",
          "Nitroglycerin",
          "Reclast",
          "Prograf",
          "Zantac 150",
          "Hiprex",
          "Avonex",
          "Halobetasol",
          "Carac",
          "Conjugated estrogens / medroxyprogesterone",
          "Levoxyl",
          "Rebif",
          "Avastin",
          "Omega-3 polyunsaturated fatty acids",
          "Homatropine / hydrocodone",
          "Femring",
          "Pancrelipase",
          "Supartz",
          "Drospirenone / ethinyl estradiol / levomefolate calcium",
          "Kapvay",
          "Fioricet",
          "Ethinyl estradiol / etonogestrel",
          "Amitriptyline",
          "Zyprexa",
          "Levora",
          "Phendimetrazine",
          "Belviq",
          "Buspirone",
          "Naproxen",
          "Silenor",
          "Phenazopyridine",
          "Fexofenadine",
          "Zaleplon",
          "Sodium oxybate",
          "Duloxetine",
          "Magnesium hydroxide",
          "Viibryd",
          "Paxil",
          "Orlistat",
          "Diphenhydramine",
          "Copper",
          "Restoril",
          "Dicyclomine",
          "NuvaRing",
          "Asacol",
          "Benadryl",
          "Natazia",
          "Sodium biphosphate / sodium phosphate",
          "Hylan g-f 20",
          "Opana",
          "Meloxicam",
          "Zyban",
          "Lansoprazole",
          "Vistaril",
          "Meclizine",
          "Adalimumab",
          "Effexor XR",
          "Dronabinol",
          "Junel Fe 1.5 / 30",
          "Olmesartan",
          "Fluticasone / vilanterol",
          "Differin",
          "Gabapentin",
          "Elidel",
          "Celecoxib",
          "Acetaminophen / butalbital / caffeine",
          "Loryna",
          "Savella",
          "Armodafinil",
          "Spiriva",
          "Protopic",
          "Zarah",
          "Atenolol",
          "Ortho Cyclen",
          "Geodon",
          "Eluxadoline",
          "Cobicistat / elvitegravir / emtricitabine / tenofovir",
          "Duragesic",
          "Paroxetine",
          "Ultram",
          "Baclofen",
          "Ivermectin",
          "Sodium hyaluronate",
          "Olanzapine",
          "Prometrium",
          "Desoximetasone",
          "Flexeril",
          "Rituxan",
          "Oxcarbazepine",
          "Gianvi",
          "Elavil",
          "Harvoni",
          "Aripiprazole",
          "Sofosbuvir / velpatasvir",
          "Buprenorphine",
          "Hydroxyprogesterone",
          "Eflornithine",
          "Sonata",
          "Nuvigil",
          "Phentermine",
          "Benicar",
          "Evekeo",
          "Propofol",
          "Zovirax Cream",
          "Angeliq",
          "Cimzia",
          "Xeloda",
          "Metadate CD",
          "Melatonin",
          "Humira",
          "Cyclobenzaprine",
          "Welchol",
          "Lorcaserin",
          "Pregabalin",
          "Cetirizine",
          "Sucralfate",
          "Pentosan polysulfate sodium",
          "Xyrem",
          "Alprostadil",
          "Fluvoxamine",
          "Tramadol",
          "Ezetimibe / simvastatin",
          "Glimepiride",
          "Elocon",
          "Combigan",
          "Prasugrel",
          "Zutripro",
          "Emtricitabine / tenofovir",
          "Vigamox",
          "Aciphex",
          "Kenalog-10",
          "Opium",
          "Cheratussin AC",
          "Desogen",
          "Edarbi",
          "Amnesteem",
          "Butorphanol",
          "Albuterol / ipratropium",
          "Fluticasone / salmeterol",
          "Allegra-D 24 Hour",
          "Fioricet with Codeine",
          "Diovan HCT",
          "Eletriptan",
          "Solodyn",
          "Natalizumab",
          "Ortho Evra",
          "Adapalene / benzoyl peroxide",
          "Nasonex",
          "Naltrexone",
          "Luvox",
          "Breo Ellipta",
          "Atripla",
          "Abilify",
          "Marinol",
          "Naprosyn",
          "Roxicet",
          "Rabeprazole",
          "Edex",
          "GoLYTELY",
          "Amphetamine",
          "Azelastine",
          "Trileptal",
          "Acetaminophen / dichloralphenazone / isometheptene mucate",
          "Taclonex",
          "Cabergoline",
          "Frovatriptan",
          "Amrix",
          "Cholestyramine",
          "Gilenya",
          "Phillips' Milk of Magnesia",
          "Zolpidem",
          "Testosterone",
          "Tranexamic acid",
          "Efavirenz / emtricitabine / tenofovir",
          "Nabumetone",
          "Terazosin",
          "Piroxicam",
          "Bisoprolol / hydrochlorothiazide",
          "Kadian",
          "Codeine / guaifenesin",
          "Tri-Luma",
          "Morphine",
          "Tretinoin",
          "Wellbutrin XL",
          "Asenapine",
          "Milnacipran",
          "Duac",
          "Synvisc-One",
          "Vraylar",
          "Tysabri",
          "Cefuroxime",
          "Quetiapine",
          "Prevacid",
          "Relpax",
          "Acetaminophen / aspirin / caffeine",
          "Kariva",
          "Orthovisc",
          "Invega Sustenna",
          "Hydromorphone",
          "Alli",
          "Skelaxin",
          "Adipex-P",
          "Wellbutrin",
          "Lantus Solostar",
          "Clotrimazole",
          "Vytorin",
          "Vicks Sinex Nasal Spray (old formulation)",
          "Climara",
          "ProAir HFA",
          "Neurontin",
          "Imitrex",
          "Benzoyl peroxide / clindamycin",
          "Clomipramine",
          "Oxymorphone",
          "Oracea",
          "Restasis",
          "Xolair",
          "Pamelor",
          "Certolizumab",
          "Memantine",
          "Brexpiprazole",
          "Mometasone",
          "Escitalopram",
          "Nicotine",
          "Iloperidone",
          "Ziana",
          "Prazosin",
          "Zyrtec",
          "Ibuprofen / pseudoephedrine",
          "Axiron",
          "Bupropion",
          "Clindamycin / tretinoin",
          "Interferon beta-1a",
          "Saphris",
          "Codeine",
          "Triazolam",
          "Coreg",
          "Stribild",
          "Beyaz",
          "Lexapro",
          "Epiduo",
          "Nucynta ER",
          "Parnate",
          "Rituximab",
          "Desvenlafaxine",
          "Rexulti",
          "Dilaudid",
          "OxyContin",
          "Ondansetron",
          "Sertraline",
          "Metaxalone",
          "Pseudoephedrine",
          "Horizant",
          "Phosphorated carbohydrate solution",
          "Elbasvir / grazoprevir",
          "Epinephrine",
          "Fortesta",
          "Propoxyphene",
          "Clobetasol",
          "Ceftin",
          "Indocin",
          "Famciclovir",
          "Veramyst",
          "Nature-Throid",
          "Chloral hydrate",
          "Sumavel DosePro",
          "Aspirin / butalbital / caffeine / codeine",
          "Balsalazide",
          "Seroquel",
          "Pristiq",
          "Ambien",
          "Dapsone",
          "Ampyra",
          "Pentasa",
          "Flector Patch",
          "Cozaar",
          "Vivitrol",
          "Desyrel",
          "Loperamide",
          "Fiorinal",
          "Bentyl",
          "Epclusa",
          "Nalbuphine",
          "Nefazodone",
          "Gleevec",
          "Tarceva",
          "Azathioprine",
          "Enbrel",
          "Opana ER",
          "Wellbutrin SR",
          "Colcrys",
          "Celebrex",
          "Varenicline",
          "Diclofenac / misoprostol",
          "Etanercept",
          "Focalin",
          "Aczone",
          "Olodaterol / tiotropium",
          "Phenylephrine",
          "Clobex",
          "Loteprednol",
          "Lactase",
          "Ciclopirox",
          "Fastin",
          "Entocort EC",
          "Remeron",
          "Acetaminophen / propoxyphene",
          "Carisoprodol",
          "Promethazine",
          "Isotretinoin",
          "Emetrol",
          "Budeprion XL",
          "Accutane",
          "Claravis",
          "Lithium",
          "Lamotrigine",
          "Diclofenac",
          "Diethylpropion",
          "Concerta",
          "Imuran",
          "Generess Fe",
          "Azor",
          "Olopatadine",
          "MS Contin",
          "Aspirin / butalbital / caffeine",
          "Advil",
          "Vicodin",
          "Imatinib",
          "Hydrochlorothiazide / valsartan",
          "My Way",
          "Diphenhydramine / naproxen",
          "Dupilumab",
          "Avinza",
          "Retin-A",
          "Esomeprazole / naproxen",
          "Cambia",
          "Famotidine",
          "Doxy 100",
          "Halcion",
          "Fluoxetine",
          "Oxycodone",
          "Chantix",
          "Celexa",
          "Dofetilide",
          "Acetaminophen / tramadol",
          "Atropine / diphenoxylate",
          "Taltz",
          "Efudex",
          "Triamcinolone",
          "Sulfacetamide sodium / sulfur",
          "Imitrex Statdose",
          "Fanapt",
          "Endocet",
          "Verapamil",
          "Mobic",
          "Tussionex Pennkinetic",
          "Clomid",
          "Zubsolv",
          "Librium",
          "Zoloft",
          "Vagifem",
          "Lactulose",
          "Exalgo",
          "Advil Cold and Sinus",
          "Adzenys XR-ODT",
          "Staxyn",
          "Lisdexamfetamine",
          "Citalopram",
          "Cyproheptadine",
          "Zanaflex",
          "AndroGel",
          "Prozac",
          "Phenergan",
          "Dexedrine",
          "Vyvanse",
          "Ixekizumab",
          "Aspirin",
          "Clozapine",
          "Chlorpheniramine",
          "Voltaren Gel",
          "Soolantra",
          "Rizatriptan",
          "Methylphenidate",
          "Actiq",
          "Lysteda",
          "Perphenazine",
          "Butalbital Compound",
          "Makena",
          "Alvesco",
          "Modafinil",
          "Keppra XR",
          "Vicodin ES",
          "Chlorpheniramine / hydrocodone / pseudoephedrine",
          "Selenium sulfide",
          "Hytrin",
          "Propranolol",
          "Ranitidine",
          "Chlorpheniramine / hydrocodone",
          "Maxalt",
          "Monodox",
          "Fingolimod",
          "Trospium",
          "Naratriptan",
          "Symbyax",
          "Golimumab",
          "Seroquel XR",
          "Ketamine",
          "Uricalm",
          "Naproxen / sumatriptan",
          "Dolophine",
          "Detrol LA",
          "Zometa",
          "Cytomel",
          "Tranylcypromine",
          "Lamictal",
          "Denavir",
          "Atralin",
          "Nasacort",
          "Acetaminophen",
          "Ciclesonide",
          "Ketoprofen",
          "Vicoprofen",
          "Gabapentin enacarbil",
          "Chlordiazepoxide",
          "Sulindac",
          "Zofran",
          "Vaniqa",
          "Clonazepam",
          "Acetaminophen / hydrocodone",
          "Fleet Enema",
          "Vimovo",
          "Plecanatide",
          "Lomotil",
          "Lorazepam",
          "Sildenafil",
          "Gardasil",
          "Betamethasone",
          "CellCept",
          "Simponi",
          "Hyoscyamine",
          "Acetaminophen / diphenhydramine",
          "Benzoyl peroxide",
          "Arthrotec",
          "Frova",
          "Ibuprofen",
          "Mycophenolate mofetil",
          "Tolterodine",
          "Dalfampridine",
          "Viagra",
          "Soma",
          "Meridia",
          "Acanya",
          "Acetaminophen / oxycodone",
          "Aluminum chloride hexahydrate",
          "Meperidine",
          "Voltaren",
          "Acamprosate",
          "Zyprexa Zydis",
          "Etodolac",
          "Zohydro ER",
          "Percocet",
          "Xylometazoline",
          "Tylenol PM",
          "Patanol",
          "Demerol",
          "Desonide",
          "Commit",
          "Ativan",
          "Erlotinib",
          "Kenalog-40",
          "Ortho-Cept",
          "Epitol",
          "Sominex",
          "Itraconazole",
          "Cyanocobalamin",
          "Amoxil",
          "Selegiline",
          "Sinemet",
          "Trulance",
          "Paxil CR",
          "Docusate",
          "MetroGel",
          "Benzoyl peroxide / erythromycin",
          "Maxalt-MLT",
          "Benzaclin",
          "Dermal filler",
          "Methenamine",
          "Lortab",
          "Nicoderm CQ",
          "Clorazepate",
          "Nubain",
          "Treximet",
          "Fluoxetine / olanzapine",
          "Aleve",
          "Hycodan",
          "Zantac",
          "Axert",
          "Klonopin",
          "Methadone",
          "Provigil",
          "MiraLax",
          "Azelaic acid",
          "Dextroamphetamine",
          "Hypercare",
          "Drysol",
          "Oxazepam",
          "Methadose",
          "Diazepam",
          "Tadalafil",
          "Polyethylene glycol 3350",
          "Valium",
          "Cialis",
          "Finacea",
          "Cataflam",
          "Orencia",
          "Subutex",
          "Ritalin",
          "Buprenorphine / naloxone",
          "Fluocinolone / hydroquinone / tretinoin",
          "Alprazolam",
          "Tenuate",
          "Levitra",
          "Naloxone / pentazocine",
          "Atropine / hyoscyamine / phenobarbital / scopolamine",
          "Desoxyn",
          "Proctofoam",
          "Amlodipine / olmesartan",
          "Human papillomavirus vaccine",
          "Sarafem",
          "Xanax",
          "Penciclovir",
          "Insulin inhalation, rapid acting",
          "Vascepa",
          "Vardenafil",
          "Desmopressin",
          "Norco",
          "Lorcet 10 / 650",
          "Zipsor",
          "Saliva substitutes",
          "St. john's wort",
          "Adderall XR",
          "Lithobid",
          "Hydrochlorothiazide / telmisartan",
          "Drospirenone / estradiol",
          "Coumadin",
          "Trolamine salicylate",
          "Ventolin",
          "Talwin Nx",
          "Suboxone",
          "L-methylfolate",
          "Campral",
          "Kapidex",
          "Ultracet",
          "Amphetamine / dextroamphetamine",
          "Hydrocodone / ibuprofen",
          "Warfarin",
          "Hydrocortisone",
          "Roxicodone",
          "Emsam",
          "Nicotrol Inhaler",
          "Somatropin",
          "Afrezza",
          "Adderall",
          "Donnatal",
          "Icosapent",
          "Tazarotene",
          "Almotriptan",
          "Abatacept",
          "Bisoprolol",
          "Methamphetamine",
          "Klonopin Wafer",
          "Pramoxine",
          "Dramamine",
          "Lactobacillus acidophilus",
          "Xanax XR",
          "Acidophilus",
          "Psyllium",
          "Anoro Ellipta",
          "Umeclidinium / vilanterol",
          "Dimenhydrinate",
          "Pennsaid",
          "Metamucil",
          "Urea",
          "Lotronex",
          "Amerge",
          "Hydrocortisone / pramoxine",
          "Detrol",
          "Veltin",
          "Relafen",
          "Methadone Diskets",
          "Deplin",
          "Sanctura",
          "Multivitamin, prenatal",
          "Methyl salicylate",
          "Midodrine",
          "Bonine",
          "Alosetron",
          "Estazolam",
          "Acetaminophen / phenyltoloxamine",
          "Levalbuterol",
          "Methylin"
         ],
         "xaxis": "x",
         "y": [
          100,
          100,
          100,
          100,
          96.7741935483871,
          95.45454545454545,
          94.73684210526315,
          94.44444444444444,
          94.11764705882352,
          94.11764705882352,
          93.75,
          93.33333333333333,
          92.85714285714286,
          92.85714285714286,
          92.85714285714286,
          92.85714285714286,
          92.85714285714286,
          92.3076923076923,
          92.3076923076923,
          92.3076923076923,
          92.3076923076923,
          92.02898550724638,
          91.66666666666666,
          91.66666666666666,
          91.66666666666666,
          91.66666666666666,
          91.66666666666666,
          91.66666666666666,
          91.66666666666666,
          91.66666666666666,
          91.30434782608695,
          91.17647058823529,
          91,
          90.9090909090909,
          90.9090909090909,
          90.9090909090909,
          90.9090909090909,
          90.9090909090909,
          90.9090909090909,
          90.9090909090909,
          90.9090909090909,
          90.9090909090909,
          90.9090909090909,
          90.81632653061224,
          90.76923076923077,
          90.32258064516128,
          90.32258064516128,
          90,
          90,
          90,
          90,
          90,
          89.74358974358975,
          89.49579831932773,
          89.47368421052632,
          89.47368421052632,
          89.34426229508196,
          89.28571428571429,
          89.00343642611683,
          88.67924528301887,
          88.6,
          88.46153846153845,
          88.23529411764706,
          88.23529411764706,
          88.23529411764706,
          88.23529411764706,
          88.13559322033898,
          87.8048780487805,
          87.5,
          87.5,
          87.5,
          87.5,
          87.5,
          87.3015873015873,
          87.17948717948718,
          87.12121212121212,
          87,
          86.8421052631579,
          86.8421052631579,
          86.66666666666667,
          86.66666666666667,
          86.66666666666667,
          86.66666666666667,
          86.56716417910447,
          86.36363636363636,
          86.36363636363636,
          86.36363636363636,
          86.3013698630137,
          86.27450980392157,
          86.11898016997166,
          85.71428571428571,
          85.71428571428571,
          85.71428571428571,
          85.71428571428571,
          85.71428571428571,
          85.48387096774194,
          85.39999999999999,
          85.29411764705883,
          85.18518518518519,
          85.18518518518519,
          85.18518518518519,
          85.18518518518519,
          85.14285714285714,
          85.1063829787234,
          85.1063829787234,
          85.07462686567165,
          85.06787330316742,
          84.7457627118644,
          84.70588235294117,
          84.61538461538461,
          84.61538461538461,
          84.61538461538461,
          84.61538461538461,
          84.61538461538461,
          84.61538461538461,
          84.61538461538461,
          84.50704225352112,
          84.375,
          84.21052631578947,
          84.21052631578947,
          84.21052631578947,
          84.21052631578947,
          84.21052631578947,
          84.21052631578947,
          84.14634146341463,
          84.09785932721712,
          84.0607210626186,
          84,
          84,
          83.93351800554017,
          83.92857142857143,
          83.87096774193549,
          83.87096774193549,
          83.87096774193549,
          83.83947939262472,
          83.75,
          83.75,
          83.54632587859425,
          83.33333333333334,
          83.33333333333334,
          83.33333333333334,
          83.33333333333334,
          83.33333333333334,
          83.33333333333334,
          83.33333333333334,
          83.33333333333334,
          83.33333333333334,
          83.33333333333334,
          83.33333333333334,
          83.33333333333334,
          83.33333333333334,
          83.33333333333334,
          83.33333333333334,
          83.33333333333334,
          83.33333333333334,
          83.33333333333334,
          83.11688311688312,
          82.92682926829268,
          82.87671232876713,
          82.87292817679558,
          82.85714285714286,
          82.68398268398268,
          82.6086956521739,
          82.53968253968253,
          82.53424657534246,
          82.48175182481752,
          82.45614035087719,
          82.44147157190636,
          82.35294117647058,
          82.35294117647058,
          82.35294117647058,
          82.35294117647058,
          82.35294117647058,
          82.35294117647058,
          82.1917808219178,
          82.14285714285714,
          82.12290502793296,
          82.08955223880598,
          82.08955223880598,
          81.93430656934306,
          81.81818181818183,
          81.81818181818183,
          81.81818181818183,
          81.81818181818183,
          81.81818181818183,
          81.81818181818183,
          81.81818181818183,
          81.81818181818183,
          81.81818181818183,
          81.81818181818183,
          81.81818181818183,
          81.81818181818183,
          81.81818181818183,
          81.81818181818183,
          81.81818181818183,
          81.81818181818183,
          81.81818181818183,
          81.81818181818183,
          81.67053364269141,
          81.57894736842105,
          81.50753768844221,
          81.48148148148148,
          81.48148148148148,
          81.48148148148148,
          81.42857142857143,
          81.3953488372093,
          81.3953488372093,
          81.33333333333333,
          81.30841121495327,
          81.2807881773399,
          81.25,
          81.25,
          81.25,
          81.25,
          81.25,
          81.19658119658119,
          81.08108108108108,
          80.95238095238095,
          80.95238095238095,
          80.95238095238095,
          80.95238095238095,
          80.95238095238095,
          80.95238095238095,
          80.95238095238095,
          80.85106382978722,
          80.55555555555556,
          80.55555555555556,
          80.48780487804879,
          80.41237113402062,
          80.38277511961722,
          80.35714285714286,
          80.28169014084507,
          80.2547770700637,
          80,
          80,
          80,
          80,
          80,
          80,
          80,
          80,
          80,
          80,
          80,
          80,
          79.74683544303798,
          79.72027972027972,
          79.71698113207547,
          79.59183673469387,
          79.48717948717949,
          79.48717948717949,
          79.48717948717949,
          79.39393939393939,
          79.3103448275862,
          79.3103448275862,
          79.24528301886792,
          79.23076923076923,
          79.14438502673798,
          79.05759162303664,
          78.96103896103897,
          78.94736842105263,
          78.94736842105263,
          78.84615384615384,
          78.84615384615384,
          78.78787878787878,
          78.78787878787878,
          78.78787878787878,
          78.72340425531915,
          78.67647058823529,
          78.57142857142857,
          78.57142857142857,
          78.57142857142857,
          78.57142857142857,
          78.57142857142857,
          78.57142857142857,
          78.57142857142857,
          78.57142857142857,
          78.57142857142857,
          78.43137254901961,
          78.43137254901961,
          78.40375586854461,
          78.3132530120482,
          78.26086956521739,
          78.26086956521739,
          78.26086956521739,
          78.26086956521739,
          78.26086956521739,
          78.21782178217822,
          78.2051282051282,
          78.125,
          78.125,
          78.125,
          78.10650887573965,
          78.06451612903226,
          78.04878048780488,
          77.96610169491525,
          77.90697674418605,
          77.85714285714286,
          77.85467128027682,
          77.84810126582279,
          77.77777777777779,
          77.77777777777779,
          77.77777777777779,
          77.77777777777779,
          77.77777777777779,
          77.77777777777779,
          77.72277227722772,
          77.66990291262135,
          77.63157894736842,
          77.61194029850746,
          77.58620689655173,
          77.53623188405797,
          77.41935483870968,
          77.41935483870968,
          77.27272727272727,
          77.27272727272727,
          77.27272727272727,
          77.27272727272727,
          77.27272727272727,
          77.19298245614034,
          77.18120805369128,
          77.12418300653596,
          77.08333333333334,
          77.01149425287356,
          76.94805194805194,
          76.92307692307693,
          76.92307692307693,
          76.92307692307693,
          76.92307692307693,
          76.92307692307693,
          76.92307692307693,
          76.92307692307693,
          76.92307692307693,
          76.92307692307693,
          76.74418604651163,
          76.69902912621359,
          76.66666666666667,
          76.66666666666667,
          76.59574468085107,
          76.59574468085107,
          76.47058823529412,
          76.47058823529412,
          76.47058823529412,
          76.36363636363637,
          76.30057803468208,
          76.19047619047619,
          76.19047619047619,
          76.19047619047619,
          76.19047619047619,
          76.19047619047619,
          76.19047619047619,
          76.14678899082568,
          76.12903225806451,
          76.11940298507463,
          76,
          76,
          76,
          75.9090909090909,
          75.86206896551724,
          75.86206896551724,
          75.80645161290323,
          75.76530612244898,
          75.75757575757575,
          75.72815533980582,
          75.67567567567568,
          75.55555555555556,
          75.55555555555556,
          75.55555555555556,
          75.55555555555556,
          75.55555555555556,
          75.51020408163265,
          75.47169811320755,
          75.47169811320755,
          75.36231884057972,
          75.34246575342466,
          75.34246575342466,
          75.22123893805309,
          75.17241379310344,
          75,
          75,
          75,
          75,
          75,
          75,
          75,
          75,
          75,
          75,
          75,
          75,
          75,
          75,
          75,
          75,
          75,
          75,
          75,
          74.8936170212766,
          74.85380116959064,
          74.84662576687117,
          74.75247524752476,
          74.68879668049793,
          74.65753424657534,
          74.56140350877193,
          74.55621301775149,
          74.55035971223022,
          74.54545454545455,
          74.43609022556392,
          74.4186046511628,
          74.39024390243902,
          74.3801652892562,
          74.32216905901117,
          74.28571428571429,
          74.27385892116183,
          74.27184466019418,
          74.21383647798741,
          74.19354838709677,
          74.19354838709677,
          74.19354838709677,
          74.13793103448276,
          74.13793103448276,
          74.07407407407408,
          74,
          73.91304347826086,
          73.91304347826086,
          73.91304347826086,
          73.91304347826086,
          73.91304347826086,
          73.91304347826086,
          73.86363636363636,
          73.80952380952381,
          73.80952380952381,
          73.68421052631578,
          73.68421052631578,
          73.68421052631578,
          73.64016736401673,
          73.58490566037736,
          73.53760445682451,
          73.52941176470588,
          73.52941176470588,
          73.52941176470588,
          73.50427350427351,
          73.46938775510205,
          73.46398305084746,
          73.4375,
          73.40425531914893,
          73.37278106508876,
          73.33333333333333,
          73.33333333333333,
          73.33333333333333,
          73.33333333333333,
          73.33333333333333,
          73.17073170731707,
          73.13432835820896,
          73.13432835820896,
          73.07692307692307,
          73.07692307692307,
          73.07692307692307,
          73.07692307692307,
          73.07692307692307,
          73.01587301587301,
          73.01587301587301,
          73.00613496932516,
          73,
          72.97830374753451,
          72.97297297297297,
          72.91666666666666,
          72.91666666666666,
          72.91666666666666,
          72.88135593220339,
          72.88135593220339,
          72.85067873303167,
          72.72727272727273,
          72.72727272727273,
          72.72727272727273,
          72.72727272727273,
          72.72727272727273,
          72.72727272727273,
          72.72727272727273,
          72.72727272727273,
          72.72727272727273,
          72.72727272727273,
          72.72727272727273,
          72.72727272727273,
          72.63157894736842,
          72.58064516129032,
          72.54901960784314,
          72.54901960784314,
          72.5,
          72.5,
          72.41379310344827,
          72.40356083086054,
          72.36842105263158,
          72.22222222222221,
          72.22222222222221,
          72.22222222222221,
          72.22222222222221,
          72.22222222222221,
          72.22222222222221,
          72.20873786407766,
          72.18543046357617,
          72.07207207207207,
          72.06896551724138,
          72,
          72,
          72,
          72,
          72,
          72,
          71.96261682242991,
          71.8840579710145,
          71.875,
          71.875,
          71.875,
          71.8562874251497,
          71.84695323571091,
          71.83098591549296,
          71.69811320754717,
          71.64556962025317,
          71.64179104477611,
          71.60493827160494,
          71.51162790697676,
          71.47058823529412,
          71.42857142857143,
          71.42857142857143,
          71.42857142857143,
          71.42857142857143,
          71.42857142857143,
          71.42857142857143,
          71.42857142857143,
          71.42857142857143,
          71.42857142857143,
          71.42857142857143,
          71.42857142857143,
          71.42857142857143,
          71.42857142857143,
          71.42857142857143,
          71.42857142857143,
          71.42857142857143,
          71.42857142857143,
          71.42857142857143,
          71.42857142857143,
          71.42857142857143,
          71.42857142857143,
          71.25,
          71.23893805309734,
          71.17856166256495,
          71.1734693877551,
          71.15384615384616,
          71.12676056338029,
          71.05263157894737,
          71.05263157894737,
          70.96774193548387,
          70.96774193548387,
          70.94339622641509,
          70.83333333333334,
          70.83333333333334,
          70.83333333333334,
          70.76923076923077,
          70.73170731707317,
          70.67901234567901,
          70.65217391304348,
          70.64220183486239,
          70.58823529411765,
          70.58823529411765,
          70.58823529411765,
          70.58823529411765,
          70.58823529411765,
          70.58823529411765,
          70.58823529411765,
          70.58823529411765,
          70.58823529411765,
          70.58823529411765,
          70.58823529411765,
          70.58823529411765,
          70.52631578947368,
          70.49808429118774,
          70.45088566827698,
          70.37037037037037,
          70.27027027027027,
          70.17543859649122,
          70.12987012987013,
          70.07874015748031,
          70.05649717514125,
          70.05444646098003,
          70,
          70,
          70,
          70,
          70,
          70,
          70,
          70,
          69.84126984126983,
          69.84126984126983,
          69.81132075471697,
          69.74358974358974,
          69.72477064220183,
          69.6969696969697,
          69.6969696969697,
          69.64980544747081,
          69.64769647696477,
          69.64285714285714,
          69.56521739130434,
          69.56521739130434,
          69.54813359528488,
          69.53125,
          69.38775510204081,
          69.31818181818183,
          69.26829268292683,
          69.23076923076923,
          69.23076923076923,
          69.23076923076923,
          69.23076923076923,
          69.23076923076923,
          69.23076923076923,
          69.23076923076923,
          69.23076923076923,
          69.23076923076923,
          69.23076923076923,
          69.23076923076923,
          69.23076923076923,
          69.23076923076923,
          69.23076923076923,
          69.23076923076923,
          69.14893617021278,
          69.1358024691358,
          69.0909090909091,
          69.0909090909091,
          69.06474820143885,
          68.98395721925134,
          68.96551724137932,
          68.95306859205776,
          68.87417218543047,
          68.85245901639344,
          68.80733944954129,
          68.75,
          68.75,
          68.75,
          68.75,
          68.75,
          68.75,
          68.68686868686868,
          68.57142857142857,
          68.51851851851852,
          68.50393700787401,
          68.4931506849315,
          68.47826086956522,
          68.46846846846847,
          68.42105263157895,
          68.42105263157895,
          68.42105263157895,
          68.42105263157895,
          68.42105263157895,
          68.42105263157895,
          68.42105263157895,
          68.38709677419355,
          68.31683168316832,
          68.31460674157303,
          68.23529411764706,
          68.18181818181817,
          68.08510638297872,
          68.0672268907563,
          68.04123711340206,
          68.02721088435374,
          68.01181102362204,
          68,
          68,
          68,
          68,
          68,
          67.90123456790124,
          67.85714285714286,
          67.85714285714286,
          67.85714285714286,
          67.77777777777779,
          67.74193548387096,
          67.6829268292683,
          67.64705882352942,
          67.63392857142857,
          67.59776536312849,
          67.52136752136752,
          67.52136752136752,
          67.5,
          67.5,
          67.5,
          67.44730679156909,
          67.44186046511628,
          67.44186046511628,
          67.42424242424242,
          67.3469387755102,
          67.3076923076923,
          67.28624535315984,
          67.27272727272727,
          67.2514619883041,
          67.24137931034483,
          67.21311475409836,
          67.07317073170732,
          67.07317073170732,
          67.06827309236948,
          67.02127659574468,
          66.97674418604652,
          66.85393258426966,
          66.84981684981685,
          66.83168316831683,
          66.7824074074074,
          66.66666666666666,
          66.66666666666666,
          66.66666666666666,
          66.66666666666666,
          66.66666666666666,
          66.66666666666666,
          66.66666666666666,
          66.66666666666666,
          66.66666666666666,
          66.66666666666666,
          66.66666666666666,
          66.66666666666666,
          66.66666666666666,
          66.66666666666666,
          66.66666666666666,
          66.66666666666666,
          66.66666666666666,
          66.66666666666666,
          66.66666666666666,
          66.66666666666666,
          66.66666666666666,
          66.66666666666666,
          66.66666666666666,
          66.66666666666666,
          66.66666666666666,
          66.66666666666666,
          66.66666666666666,
          66.66666666666666,
          66.66666666666666,
          66.66666666666666,
          66.66666666666666,
          66.66666666666666,
          66.66666666666666,
          66.66666666666666,
          66.66666666666666,
          66.66666666666666,
          66.61417322834644,
          66.4748201438849,
          66.46706586826348,
          66.39344262295081,
          66.30434782608695,
          66.25222024866785,
          66.2420382165605,
          66.23376623376623,
          66.19718309859155,
          66.17647058823529,
          66.17647058823529,
          66.07142857142857,
          66.07142857142857,
          66.05995717344754,
          66,
          65.86666666666666,
          65.86433260393873,
          65.83850931677019,
          65.8119658119658,
          65.78947368421053,
          65.78947368421053,
          65.76576576576578,
          65.7556270096463,
          65.71428571428571,
          65.71428571428571,
          65.71428571428571,
          65.625,
          65.625,
          65.625,
          65.60000000000001,
          65.51724137931035,
          65.45454545454545,
          65.45454545454545,
          65.45454545454545,
          65.42372881355932,
          65.41353383458647,
          65.38461538461539,
          65.38461538461539,
          65.33333333333333,
          65.3061224489796,
          65.26315789473685,
          65.23400191021967,
          65.21739130434783,
          65.13761467889908,
          65.11627906976744,
          65.11627906976744,
          65.09433962264151,
          65.0485436893204,
          65,
          65,
          65,
          64.91228070175438,
          64.86486486486487,
          64.84848484848484,
          64.83516483516483,
          64.81481481481481,
          64.81481481481481,
          64.8062015503876,
          64.7887323943662,
          64.77987421383648,
          64.77272727272727,
          64.75409836065575,
          64.74820143884892,
          64.70588235294117,
          64.70588235294117,
          64.70588235294117,
          64.70588235294117,
          64.66165413533834,
          64.66165413533834,
          64.65517241379311,
          64.64646464646465,
          64.60000000000001,
          64.58333333333334,
          64.58333333333334,
          64.51612903225806,
          64.51612903225806,
          64.51612903225806,
          64.49704142011834,
          64.4847699287103,
          64.40677966101694,
          64.28571428571429,
          64.28571428571429,
          64.28571428571429,
          64.28571428571429,
          64.28571428571429,
          64.28571428571429,
          64.28571428571429,
          64.07766990291263,
          64.0677966101695,
          64,
          64,
          63.98601398601399,
          63.92405063291139,
          63.888888888888886,
          63.888888888888886,
          63.829787234042556,
          63.793103448275865,
          63.793103448275865,
          63.793103448275865,
          63.78048780487805,
          63.63636363636363,
          63.63636363636363,
          63.63636363636363,
          63.63636363636363,
          63.63636363636363,
          63.63636363636363,
          63.63636363636363,
          63.63636363636363,
          63.63636363636363,
          63.63636363636363,
          63.63636363636363,
          63.63636363636363,
          63.63636363636363,
          63.63636363636363,
          63.63636363636363,
          63.63636363636363,
          63.63636363636363,
          63.63636363636363,
          63.63636363636363,
          63.63636363636363,
          63.63636363636363,
          63.52941176470588,
          63.49206349206349,
          63.49206349206349,
          63.4703196347032,
          63.40852130325815,
          63.33333333333333,
          63.33333333333333,
          63.33333333333333,
          63.26530612244898,
          63.23529411764706,
          63.22869955156951,
          63.1578947368421,
          63.1578947368421,
          63.1578947368421,
          63.1578947368421,
          63.1578947368421,
          63.1578947368421,
          63.04347826086957,
          63.04347826086957,
          63.04347826086957,
          63.04347826086957,
          62.96296296296296,
          62.96296296296296,
          62.96296296296296,
          62.857142857142854,
          62.745098039215684,
          62.745098039215684,
          62.66666666666667,
          62.655601659751035,
          62.589928057553955,
          62.5,
          62.5,
          62.5,
          62.5,
          62.5,
          62.5,
          62.5,
          62.5,
          62.5,
          62.44343891402715,
          62.4,
          62.37623762376238,
          62.371134020618555,
          62.31884057971014,
          62.295081967213115,
          62.295081967213115,
          62.264150943396224,
          62.264150943396224,
          62.264150943396224,
          62.214199759326114,
          62.16216216216216,
          62.10526315789474,
          62.06896551724138,
          62.06896551724138,
          62.0253164556962,
          61.904761904761905,
          61.886792452830186,
          61.81818181818181,
          61.66666666666667,
          61.65644171779141,
          61.56583629893239,
          61.53846153846154,
          61.53846153846154,
          61.53846153846154,
          61.53846153846154,
          61.53846153846154,
          61.53846153846154,
          61.42857142857143,
          61.40350877192983,
          61.36363636363637,
          61.33333333333333,
          61.31386861313869,
          61.29032258064516,
          61.29032258064516,
          61.19402985074627,
          61.111111111111114,
          61.111111111111114,
          61.111111111111114,
          61.05263157894737,
          61.038961038961034,
          60.99071207430341,
          60.91954022988506,
          60.86956521739131,
          60.86956521739131,
          60.86956521739131,
          60.86956521739131,
          60.86956521739131,
          60.86956521739131,
          60.861056751467714,
          60.810810810810814,
          60.78431372549019,
          60.773480662983424,
          60.71428571428571,
          60.71428571428571,
          60.71428571428571,
          60.65573770491803,
          60.63829787234043,
          60.60924369747899,
          60.60606060606061,
          60.526315789473685,
          60.526315789473685,
          60.3448275862069,
          60.30927835051546,
          60.24096385542169,
          60.204081632653065,
          60.1063829787234,
          60.09852216748769,
          60.0735294117647,
          60,
          60,
          60,
          60,
          60,
          60,
          60,
          60,
          60,
          60,
          60,
          60,
          60,
          60,
          60,
          60,
          60,
          60,
          59.88023952095808,
          59.854014598540154,
          59.72222222222222,
          59.55882352941176,
          59.523809523809526,
          59.45945945945946,
          59.45945945945946,
          59.45945945945946,
          59.25925925925925,
          59.25925925925925,
          59.25925925925925,
          59.183673469387756,
          59.183673469387756,
          59.09090909090909,
          59.09090909090909,
          59.09090909090909,
          59.09090909090909,
          59.09090909090909,
          59.09090909090909,
          59.02777777777778,
          59.01639344262295,
          58.9041095890411,
          58.82352941176471,
          58.76288659793815,
          58.69017632241813,
          58.620689655172406,
          58.55263157894737,
          58.536585365853654,
          58.46153846153847,
          58.333333333333336,
          58.333333333333336,
          58.333333333333336,
          58.333333333333336,
          58.333333333333336,
          58.333333333333336,
          58.333333333333336,
          58.333333333333336,
          58.26771653543307,
          58.18181818181818,
          58.156028368794324,
          58.139534883720934,
          57.92452830188679,
          57.89473684210527,
          57.89473684210527,
          57.878787878787875,
          57.8125,
          57.80346820809249,
          57.69881556683587,
          57.676348547717836,
          57.647058823529406,
          57.57575757575758,
          57.57575757575758,
          57.54716981132076,
          57.49999999999999,
          57.49999999999999,
          57.35294117647059,
          57.14285714285714,
          57.14285714285714,
          57.14285714285714,
          57.14285714285714,
          57.14285714285714,
          57.14285714285714,
          57.14285714285714,
          57.14285714285714,
          57.14285714285714,
          57.14285714285714,
          57.14285714285714,
          57.14285714285714,
          57.14285714285714,
          57.14285714285714,
          57.14285714285714,
          57.04960835509139,
          56.99152542372882,
          56.98587127158555,
          56.82281059063137,
          56.666666666666664,
          56.666666666666664,
          56.666666666666664,
          56.52173913043478,
          56.52173913043478,
          56.36363636363636,
          56.25,
          56.25,
          56.25,
          56.25,
          56.09756097560976,
          55.952380952380956,
          55.932203389830505,
          55.88235294117647,
          55.88235294117647,
          55.69620253164557,
          55.65217391304348,
          55.55555555555556,
          55.55555555555556,
          55.55555555555556,
          55.55555555555556,
          55.55555555555556,
          55.55555555555556,
          55.53145336225597,
          55.47738693467337,
          55.434782608695656,
          55.38461538461539,
          55.35714285714286,
          55.29661016949152,
          55.223880597014926,
          55.172413793103445,
          55.06912442396313,
          55.00000000000001,
          55.00000000000001,
          55.00000000000001,
          55.00000000000001,
          54.95495495495496,
          54.90196078431373,
          54.90196078431373,
          54.824561403508774,
          54.54545454545454,
          54.54545454545454,
          54.54545454545454,
          54.54545454545454,
          54.54545454545454,
          54.54545454545454,
          54.54545454545454,
          54.54545454545454,
          54.54545454545454,
          54.54545454545454,
          54.54545454545454,
          54.54545454545454,
          54.389721627408996,
          54.385964912280706,
          54.32098765432099,
          54.285714285714285,
          54.166666666666664,
          54.166666666666664,
          54.166666666666664,
          54.166666666666664,
          54.054054054054056,
          54,
          53.96825396825397,
          53.84615384615385,
          53.84615384615385,
          53.84615384615385,
          53.84615384615385,
          53.84615384615385,
          53.84615384615385,
          53.84615384615385,
          53.84615384615385,
          53.687315634218294,
          53.57142857142857,
          53.57142857142857,
          53.333333333333336,
          53.333333333333336,
          53.333333333333336,
          53.333333333333336,
          53.333333333333336,
          53.333333333333336,
          53.333333333333336,
          53.333333333333336,
          53.278688524590166,
          53.125,
          53.068592057761734,
          53.01204819277109,
          52.94117647058824,
          52.94117647058824,
          52.94117647058824,
          52.94117647058824,
          52.91375291375291,
          52.69461077844312,
          52.63157894736842,
          52.63157894736842,
          52.63157894736842,
          52.38095238095239,
          52.38095238095239,
          52.17391304347826,
          52.17391304347826,
          51.85185185185185,
          51.85185185185185,
          51.76470588235295,
          51.61290322580645,
          51.515151515151516,
          51.35135135135135,
          51.32743362831859,
          51.26050420168067,
          51.162790697674424,
          51.11111111111111,
          51.10497237569061,
          51.08359133126935,
          51.06382978723404,
          50.56179775280899,
          50.45871559633027,
          50,
          50,
          50,
          50,
          50,
          50,
          50,
          50,
          50,
          50,
          50,
          50,
          50,
          50,
          50,
          50,
          50,
          50,
          50,
          50,
          50,
          50,
          50,
          50,
          50,
          50,
          50,
          50,
          50,
          50,
          50,
          50,
          50,
          50,
          50,
          50,
          50,
          50,
          50,
          50,
          49.76851851851852,
          49.69512195121951,
          49.557522123893804,
          49.39759036144578,
          48.97959183673469,
          48.95833333333333,
          48.734177215189874,
          48.66666666666667,
          48.275862068965516,
          48,
          47.82608695652174,
          47.79874213836478,
          47.78761061946903,
          47.77070063694268,
          47.67025089605735,
          47.61904761904761,
          47.61904761904761,
          47.61904761904761,
          47.540983606557376,
          47.43589743589743,
          47.368421052631575,
          47.368421052631575,
          47.22617354196302,
          47.22222222222222,
          47.22222222222222,
          47.05882352941176,
          47.05882352941176,
          47.05882352941176,
          47.05882352941176,
          47.05882352941176,
          47.05882352941176,
          47.05882352941176,
          46.92982456140351,
          46.875,
          46.34146341463415,
          46.15384615384615,
          46.15384615384615,
          46.15384615384615,
          46.15384615384615,
          46.15384615384615,
          46.15384615384615,
          46.15384615384615,
          45.65217391304348,
          45.614035087719294,
          45.45454545454545,
          45.45454545454545,
          45.45454545454545,
          45.45454545454545,
          45.45454545454545,
          45.45454545454545,
          45.45454545454545,
          45.352112676056336,
          45.20547945205479,
          45.05494505494506,
          45,
          45,
          44.630071599045344,
          44.44444444444444,
          44.44444444444444,
          44.11764705882353,
          43.90243902439025,
          43.75,
          43.75,
          43.75,
          43.47826086956522,
          43.28358208955223,
          42.857142857142854,
          42.857142857142854,
          42.857142857142854,
          42.10526315789473,
          42.10526315789473,
          41.66666666666667,
          41.66666666666667,
          41.66666666666667,
          41.17647058823529,
          40.74074074074074,
          40,
          39.473684210526315,
          38.46153846153847,
          38.46153846153847,
          38.46153846153847,
          37.5,
          36.666666666666664,
          36.36363636363637,
          36.36363636363637,
          36.36363636363637,
          35.714285714285715,
          35.714285714285715,
          35.714285714285715,
          35.714285714285715,
          35.294117647058826,
          35.294117647058826,
          34.78260869565217,
          33.92857142857143,
          33.33333333333333,
          32.5,
          30.76923076923077,
          30.76923076923077,
          30.76923076923077,
          27.77777777777778,
          27.27272727272727,
          27.27272727272727,
          21.428571428571427,
          18.181818181818183
         ],
         "yaxis": "y"
        }
       ],
       "layout": {
        "barmode": "relative",
        "legend": {
         "tracegroupgap": 0
        },
        "margin": {
         "t": 60
        },
        "template": {
         "data": {
          "bar": [
           {
            "error_x": {
             "color": "#2a3f5f"
            },
            "error_y": {
             "color": "#2a3f5f"
            },
            "marker": {
             "line": {
              "color": "#E5ECF6",
              "width": 0.5
             },
             "pattern": {
              "fillmode": "overlay",
              "size": 10,
              "solidity": 0.2
             }
            },
            "type": "bar"
           }
          ],
          "barpolar": [
           {
            "marker": {
             "line": {
              "color": "#E5ECF6",
              "width": 0.5
             },
             "pattern": {
              "fillmode": "overlay",
              "size": 10,
              "solidity": 0.2
             }
            },
            "type": "barpolar"
           }
          ],
          "carpet": [
           {
            "aaxis": {
             "endlinecolor": "#2a3f5f",
             "gridcolor": "white",
             "linecolor": "white",
             "minorgridcolor": "white",
             "startlinecolor": "#2a3f5f"
            },
            "baxis": {
             "endlinecolor": "#2a3f5f",
             "gridcolor": "white",
             "linecolor": "white",
             "minorgridcolor": "white",
             "startlinecolor": "#2a3f5f"
            },
            "type": "carpet"
           }
          ],
          "choropleth": [
           {
            "colorbar": {
             "outlinewidth": 0,
             "ticks": ""
            },
            "type": "choropleth"
           }
          ],
          "contour": [
           {
            "colorbar": {
             "outlinewidth": 0,
             "ticks": ""
            },
            "colorscale": [
             [
              0,
              "#0d0887"
             ],
             [
              0.1111111111111111,
              "#46039f"
             ],
             [
              0.2222222222222222,
              "#7201a8"
             ],
             [
              0.3333333333333333,
              "#9c179e"
             ],
             [
              0.4444444444444444,
              "#bd3786"
             ],
             [
              0.5555555555555556,
              "#d8576b"
             ],
             [
              0.6666666666666666,
              "#ed7953"
             ],
             [
              0.7777777777777778,
              "#fb9f3a"
             ],
             [
              0.8888888888888888,
              "#fdca26"
             ],
             [
              1,
              "#f0f921"
             ]
            ],
            "type": "contour"
           }
          ],
          "contourcarpet": [
           {
            "colorbar": {
             "outlinewidth": 0,
             "ticks": ""
            },
            "type": "contourcarpet"
           }
          ],
          "heatmap": [
           {
            "colorbar": {
             "outlinewidth": 0,
             "ticks": ""
            },
            "colorscale": [
             [
              0,
              "#0d0887"
             ],
             [
              0.1111111111111111,
              "#46039f"
             ],
             [
              0.2222222222222222,
              "#7201a8"
             ],
             [
              0.3333333333333333,
              "#9c179e"
             ],
             [
              0.4444444444444444,
              "#bd3786"
             ],
             [
              0.5555555555555556,
              "#d8576b"
             ],
             [
              0.6666666666666666,
              "#ed7953"
             ],
             [
              0.7777777777777778,
              "#fb9f3a"
             ],
             [
              0.8888888888888888,
              "#fdca26"
             ],
             [
              1,
              "#f0f921"
             ]
            ],
            "type": "heatmap"
           }
          ],
          "heatmapgl": [
           {
            "colorbar": {
             "outlinewidth": 0,
             "ticks": ""
            },
            "colorscale": [
             [
              0,
              "#0d0887"
             ],
             [
              0.1111111111111111,
              "#46039f"
             ],
             [
              0.2222222222222222,
              "#7201a8"
             ],
             [
              0.3333333333333333,
              "#9c179e"
             ],
             [
              0.4444444444444444,
              "#bd3786"
             ],
             [
              0.5555555555555556,
              "#d8576b"
             ],
             [
              0.6666666666666666,
              "#ed7953"
             ],
             [
              0.7777777777777778,
              "#fb9f3a"
             ],
             [
              0.8888888888888888,
              "#fdca26"
             ],
             [
              1,
              "#f0f921"
             ]
            ],
            "type": "heatmapgl"
           }
          ],
          "histogram": [
           {
            "marker": {
             "pattern": {
              "fillmode": "overlay",
              "size": 10,
              "solidity": 0.2
             }
            },
            "type": "histogram"
           }
          ],
          "histogram2d": [
           {
            "colorbar": {
             "outlinewidth": 0,
             "ticks": ""
            },
            "colorscale": [
             [
              0,
              "#0d0887"
             ],
             [
              0.1111111111111111,
              "#46039f"
             ],
             [
              0.2222222222222222,
              "#7201a8"
             ],
             [
              0.3333333333333333,
              "#9c179e"
             ],
             [
              0.4444444444444444,
              "#bd3786"
             ],
             [
              0.5555555555555556,
              "#d8576b"
             ],
             [
              0.6666666666666666,
              "#ed7953"
             ],
             [
              0.7777777777777778,
              "#fb9f3a"
             ],
             [
              0.8888888888888888,
              "#fdca26"
             ],
             [
              1,
              "#f0f921"
             ]
            ],
            "type": "histogram2d"
           }
          ],
          "histogram2dcontour": [
           {
            "colorbar": {
             "outlinewidth": 0,
             "ticks": ""
            },
            "colorscale": [
             [
              0,
              "#0d0887"
             ],
             [
              0.1111111111111111,
              "#46039f"
             ],
             [
              0.2222222222222222,
              "#7201a8"
             ],
             [
              0.3333333333333333,
              "#9c179e"
             ],
             [
              0.4444444444444444,
              "#bd3786"
             ],
             [
              0.5555555555555556,
              "#d8576b"
             ],
             [
              0.6666666666666666,
              "#ed7953"
             ],
             [
              0.7777777777777778,
              "#fb9f3a"
             ],
             [
              0.8888888888888888,
              "#fdca26"
             ],
             [
              1,
              "#f0f921"
             ]
            ],
            "type": "histogram2dcontour"
           }
          ],
          "mesh3d": [
           {
            "colorbar": {
             "outlinewidth": 0,
             "ticks": ""
            },
            "type": "mesh3d"
           }
          ],
          "parcoords": [
           {
            "line": {
             "colorbar": {
              "outlinewidth": 0,
              "ticks": ""
             }
            },
            "type": "parcoords"
           }
          ],
          "pie": [
           {
            "automargin": true,
            "type": "pie"
           }
          ],
          "scatter": [
           {
            "fillpattern": {
             "fillmode": "overlay",
             "size": 10,
             "solidity": 0.2
            },
            "type": "scatter"
           }
          ],
          "scatter3d": [
           {
            "line": {
             "colorbar": {
              "outlinewidth": 0,
              "ticks": ""
             }
            },
            "marker": {
             "colorbar": {
              "outlinewidth": 0,
              "ticks": ""
             }
            },
            "type": "scatter3d"
           }
          ],
          "scattercarpet": [
           {
            "marker": {
             "colorbar": {
              "outlinewidth": 0,
              "ticks": ""
             }
            },
            "type": "scattercarpet"
           }
          ],
          "scattergeo": [
           {
            "marker": {
             "colorbar": {
              "outlinewidth": 0,
              "ticks": ""
             }
            },
            "type": "scattergeo"
           }
          ],
          "scattergl": [
           {
            "marker": {
             "colorbar": {
              "outlinewidth": 0,
              "ticks": ""
             }
            },
            "type": "scattergl"
           }
          ],
          "scattermapbox": [
           {
            "marker": {
             "colorbar": {
              "outlinewidth": 0,
              "ticks": ""
             }
            },
            "type": "scattermapbox"
           }
          ],
          "scatterpolar": [
           {
            "marker": {
             "colorbar": {
              "outlinewidth": 0,
              "ticks": ""
             }
            },
            "type": "scatterpolar"
           }
          ],
          "scatterpolargl": [
           {
            "marker": {
             "colorbar": {
              "outlinewidth": 0,
              "ticks": ""
             }
            },
            "type": "scatterpolargl"
           }
          ],
          "scatterternary": [
           {
            "marker": {
             "colorbar": {
              "outlinewidth": 0,
              "ticks": ""
             }
            },
            "type": "scatterternary"
           }
          ],
          "surface": [
           {
            "colorbar": {
             "outlinewidth": 0,
             "ticks": ""
            },
            "colorscale": [
             [
              0,
              "#0d0887"
             ],
             [
              0.1111111111111111,
              "#46039f"
             ],
             [
              0.2222222222222222,
              "#7201a8"
             ],
             [
              0.3333333333333333,
              "#9c179e"
             ],
             [
              0.4444444444444444,
              "#bd3786"
             ],
             [
              0.5555555555555556,
              "#d8576b"
             ],
             [
              0.6666666666666666,
              "#ed7953"
             ],
             [
              0.7777777777777778,
              "#fb9f3a"
             ],
             [
              0.8888888888888888,
              "#fdca26"
             ],
             [
              1,
              "#f0f921"
             ]
            ],
            "type": "surface"
           }
          ],
          "table": [
           {
            "cells": {
             "fill": {
              "color": "#EBF0F8"
             },
             "line": {
              "color": "white"
             }
            },
            "header": {
             "fill": {
              "color": "#C8D4E3"
             },
             "line": {
              "color": "white"
             }
            },
            "type": "table"
           }
          ]
         },
         "layout": {
          "annotationdefaults": {
           "arrowcolor": "#2a3f5f",
           "arrowhead": 0,
           "arrowwidth": 1
          },
          "autotypenumbers": "strict",
          "coloraxis": {
           "colorbar": {
            "outlinewidth": 0,
            "ticks": ""
           }
          },
          "colorscale": {
           "diverging": [
            [
             0,
             "#8e0152"
            ],
            [
             0.1,
             "#c51b7d"
            ],
            [
             0.2,
             "#de77ae"
            ],
            [
             0.3,
             "#f1b6da"
            ],
            [
             0.4,
             "#fde0ef"
            ],
            [
             0.5,
             "#f7f7f7"
            ],
            [
             0.6,
             "#e6f5d0"
            ],
            [
             0.7,
             "#b8e186"
            ],
            [
             0.8,
             "#7fbc41"
            ],
            [
             0.9,
             "#4d9221"
            ],
            [
             1,
             "#276419"
            ]
           ],
           "sequential": [
            [
             0,
             "#0d0887"
            ],
            [
             0.1111111111111111,
             "#46039f"
            ],
            [
             0.2222222222222222,
             "#7201a8"
            ],
            [
             0.3333333333333333,
             "#9c179e"
            ],
            [
             0.4444444444444444,
             "#bd3786"
            ],
            [
             0.5555555555555556,
             "#d8576b"
            ],
            [
             0.6666666666666666,
             "#ed7953"
            ],
            [
             0.7777777777777778,
             "#fb9f3a"
            ],
            [
             0.8888888888888888,
             "#fdca26"
            ],
            [
             1,
             "#f0f921"
            ]
           ],
           "sequentialminus": [
            [
             0,
             "#0d0887"
            ],
            [
             0.1111111111111111,
             "#46039f"
            ],
            [
             0.2222222222222222,
             "#7201a8"
            ],
            [
             0.3333333333333333,
             "#9c179e"
            ],
            [
             0.4444444444444444,
             "#bd3786"
            ],
            [
             0.5555555555555556,
             "#d8576b"
            ],
            [
             0.6666666666666666,
             "#ed7953"
            ],
            [
             0.7777777777777778,
             "#fb9f3a"
            ],
            [
             0.8888888888888888,
             "#fdca26"
            ],
            [
             1,
             "#f0f921"
            ]
           ]
          },
          "colorway": [
           "#636efa",
           "#EF553B",
           "#00cc96",
           "#ab63fa",
           "#FFA15A",
           "#19d3f3",
           "#FF6692",
           "#B6E880",
           "#FF97FF",
           "#FECB52"
          ],
          "font": {
           "color": "#2a3f5f"
          },
          "geo": {
           "bgcolor": "white",
           "lakecolor": "white",
           "landcolor": "#E5ECF6",
           "showlakes": true,
           "showland": true,
           "subunitcolor": "white"
          },
          "hoverlabel": {
           "align": "left"
          },
          "hovermode": "closest",
          "mapbox": {
           "style": "light"
          },
          "paper_bgcolor": "white",
          "plot_bgcolor": "#E5ECF6",
          "polar": {
           "angularaxis": {
            "gridcolor": "white",
            "linecolor": "white",
            "ticks": ""
           },
           "bgcolor": "#E5ECF6",
           "radialaxis": {
            "gridcolor": "white",
            "linecolor": "white",
            "ticks": ""
           }
          },
          "scene": {
           "xaxis": {
            "backgroundcolor": "#E5ECF6",
            "gridcolor": "white",
            "gridwidth": 2,
            "linecolor": "white",
            "showbackground": true,
            "ticks": "",
            "zerolinecolor": "white"
           },
           "yaxis": {
            "backgroundcolor": "#E5ECF6",
            "gridcolor": "white",
            "gridwidth": 2,
            "linecolor": "white",
            "showbackground": true,
            "ticks": "",
            "zerolinecolor": "white"
           },
           "zaxis": {
            "backgroundcolor": "#E5ECF6",
            "gridcolor": "white",
            "gridwidth": 2,
            "linecolor": "white",
            "showbackground": true,
            "ticks": "",
            "zerolinecolor": "white"
           }
          },
          "shapedefaults": {
           "line": {
            "color": "#2a3f5f"
           }
          },
          "ternary": {
           "aaxis": {
            "gridcolor": "white",
            "linecolor": "white",
            "ticks": ""
           },
           "baxis": {
            "gridcolor": "white",
            "linecolor": "white",
            "ticks": ""
           },
           "bgcolor": "#E5ECF6",
           "caxis": {
            "gridcolor": "white",
            "linecolor": "white",
            "ticks": ""
           }
          },
          "title": {
           "x": 0.05
          },
          "xaxis": {
           "automargin": true,
           "gridcolor": "white",
           "linecolor": "white",
           "ticks": "",
           "title": {
            "standoff": 15
           },
           "zerolinecolor": "white",
           "zerolinewidth": 2
          },
          "yaxis": {
           "automargin": true,
           "gridcolor": "white",
           "linecolor": "white",
           "ticks": "",
           "title": {
            "standoff": 15
           },
           "zerolinecolor": "white",
           "zerolinewidth": 2
          }
         }
        },
        "xaxis": {
         "anchor": "y",
         "domain": [
          0,
          1
         ],
         "title": {
          "text": "drugName"
         }
        },
        "yaxis": {
         "anchor": "x",
         "domain": [
          0,
          1
         ],
         "title": {
          "text": "NEGATIVE"
         }
        }
       }
      }
     },
     "metadata": {},
     "output_type": "display_data"
    }
   ],
   "source": [
    "fig = px.bar(sntmt_count.sort_values(by='NEGATIVE', ascending=False), x='drugName', y='NEGATIVE')\n",
    "fig.show()"
   ]
  },
  {
   "cell_type": "code",
   "execution_count": null,
   "metadata": {},
   "outputs": [
    {
     "data": {
      "text/html": [
       "<div>\n",
       "<style scoped>\n",
       "    .dataframe tbody tr th:only-of-type {\n",
       "        vertical-align: middle;\n",
       "    }\n",
       "\n",
       "    .dataframe tbody tr th {\n",
       "        vertical-align: top;\n",
       "    }\n",
       "\n",
       "    .dataframe thead th {\n",
       "        text-align: right;\n",
       "    }\n",
       "</style>\n",
       "<table border=\"1\" class=\"dataframe\">\n",
       "  <thead>\n",
       "    <tr style=\"text-align: right;\">\n",
       "      <th></th>\n",
       "      <th>drugName</th>\n",
       "      <th>NEGATIVE</th>\n",
       "      <th>POSITIVE</th>\n",
       "    </tr>\n",
       "  </thead>\n",
       "  <tbody>\n",
       "    <tr>\n",
       "      <th>1</th>\n",
       "      <td>Abatacept</td>\n",
       "      <td>42.105263</td>\n",
       "      <td>57.894737</td>\n",
       "    </tr>\n",
       "    <tr>\n",
       "      <th>17</th>\n",
       "      <td>Acetaminophen / phenyltoloxamine</td>\n",
       "      <td>27.272727</td>\n",
       "      <td>72.727273</td>\n",
       "    </tr>\n",
       "    <tr>\n",
       "      <th>21</th>\n",
       "      <td>Acidophilus</td>\n",
       "      <td>38.461538</td>\n",
       "      <td>61.538462</td>\n",
       "    </tr>\n",
       "    <tr>\n",
       "      <th>33</th>\n",
       "      <td>Adderall</td>\n",
       "      <td>43.283582</td>\n",
       "      <td>56.716418</td>\n",
       "    </tr>\n",
       "    <tr>\n",
       "      <th>34</th>\n",
       "      <td>Adderall XR</td>\n",
       "      <td>45.614035</td>\n",
       "      <td>54.385965</td>\n",
       "    </tr>\n",
       "    <tr>\n",
       "      <th>...</th>\n",
       "      <td>...</td>\n",
       "      <td>...</td>\n",
       "      <td>...</td>\n",
       "    </tr>\n",
       "    <tr>\n",
       "      <th>1236</th>\n",
       "      <td>Ventolin</td>\n",
       "      <td>45.454545</td>\n",
       "      <td>54.545455</td>\n",
       "    </tr>\n",
       "    <tr>\n",
       "      <th>1264</th>\n",
       "      <td>Warfarin</td>\n",
       "      <td>44.444444</td>\n",
       "      <td>55.555556</td>\n",
       "    </tr>\n",
       "    <tr>\n",
       "      <th>1269</th>\n",
       "      <td>Xanax</td>\n",
       "      <td>46.929825</td>\n",
       "      <td>53.070175</td>\n",
       "    </tr>\n",
       "    <tr>\n",
       "      <th>1270</th>\n",
       "      <td>Xanax XR</td>\n",
       "      <td>39.473684</td>\n",
       "      <td>60.526316</td>\n",
       "    </tr>\n",
       "    <tr>\n",
       "      <th>1296</th>\n",
       "      <td>Zipsor</td>\n",
       "      <td>46.153846</td>\n",
       "      <td>53.846154</td>\n",
       "    </tr>\n",
       "  </tbody>\n",
       "</table>\n",
       "<p>104 rows × 3 columns</p>\n",
       "</div>"
      ],
      "text/plain": [
       "                              drugName   NEGATIVE   POSITIVE\n",
       "1                            Abatacept  42.105263  57.894737\n",
       "17    Acetaminophen / phenyltoloxamine  27.272727  72.727273\n",
       "21                         Acidophilus  38.461538  61.538462\n",
       "33                            Adderall  43.283582  56.716418\n",
       "34                         Adderall XR  45.614035  54.385965\n",
       "...                                ...        ...        ...\n",
       "1236                          Ventolin  45.454545  54.545455\n",
       "1264                          Warfarin  44.444444  55.555556\n",
       "1269                             Xanax  46.929825  53.070175\n",
       "1270                          Xanax XR  39.473684  60.526316\n",
       "1296                            Zipsor  46.153846  53.846154\n",
       "\n",
       "[104 rows x 3 columns]"
      ]
     },
     "execution_count": 203,
     "metadata": {},
     "output_type": "execute_result"
    }
   ],
   "source": [
    "sntmt_count.loc[sntmt_count['POSITIVE'] > 50] # using where clause produces NAN when condition is not met,\n",
    "# sntmt_count.query('POSITIVE > 50') #another way\n"
   ]
  },
  {
   "cell_type": "markdown",
   "metadata": {},
   "source": [
    "**List of drugs having Majority of Negative Sentiment (> 50% each):**"
   ]
  },
  {
   "cell_type": "code",
   "execution_count": null,
   "metadata": {},
   "outputs": [
    {
     "data": {
      "text/html": [
       "<div>\n",
       "<style scoped>\n",
       "    .dataframe tbody tr th:only-of-type {\n",
       "        vertical-align: middle;\n",
       "    }\n",
       "\n",
       "    .dataframe tbody tr th {\n",
       "        vertical-align: top;\n",
       "    }\n",
       "\n",
       "    .dataframe thead th {\n",
       "        text-align: right;\n",
       "    }\n",
       "</style>\n",
       "<table border=\"1\" class=\"dataframe\">\n",
       "  <thead>\n",
       "    <tr style=\"text-align: right;\">\n",
       "      <th></th>\n",
       "      <th>drugName</th>\n",
       "      <th>NEGATIVE</th>\n",
       "      <th>POSITIVE</th>\n",
       "    </tr>\n",
       "  </thead>\n",
       "  <tbody>\n",
       "    <tr>\n",
       "      <th>0</th>\n",
       "      <td>Abacavir / dolutegravir / lamivudine</td>\n",
       "      <td>76.923077</td>\n",
       "      <td>23.076923</td>\n",
       "    </tr>\n",
       "    <tr>\n",
       "      <th>2</th>\n",
       "      <td>Abilify</td>\n",
       "      <td>63.228700</td>\n",
       "      <td>36.771300</td>\n",
       "    </tr>\n",
       "    <tr>\n",
       "      <th>3</th>\n",
       "      <td>Abreva</td>\n",
       "      <td>77.848101</td>\n",
       "      <td>22.151899</td>\n",
       "    </tr>\n",
       "    <tr>\n",
       "      <th>4</th>\n",
       "      <td>Acamprosate</td>\n",
       "      <td>50.458716</td>\n",
       "      <td>49.541284</td>\n",
       "    </tr>\n",
       "    <tr>\n",
       "      <th>5</th>\n",
       "      <td>Acanya</td>\n",
       "      <td>51.111111</td>\n",
       "      <td>48.888889</td>\n",
       "    </tr>\n",
       "    <tr>\n",
       "      <th>...</th>\n",
       "      <td>...</td>\n",
       "      <td>...</td>\n",
       "      <td>...</td>\n",
       "    </tr>\n",
       "    <tr>\n",
       "      <th>1316</th>\n",
       "      <td>Zyclara</td>\n",
       "      <td>76.923077</td>\n",
       "      <td>23.076923</td>\n",
       "    </tr>\n",
       "    <tr>\n",
       "      <th>1317</th>\n",
       "      <td>Zyprexa</td>\n",
       "      <td>66.467066</td>\n",
       "      <td>33.532934</td>\n",
       "    </tr>\n",
       "    <tr>\n",
       "      <th>1319</th>\n",
       "      <td>Zyrtec</td>\n",
       "      <td>60.869565</td>\n",
       "      <td>39.130435</td>\n",
       "    </tr>\n",
       "    <tr>\n",
       "      <th>1320</th>\n",
       "      <td>Zyvox</td>\n",
       "      <td>82.352941</td>\n",
       "      <td>17.647059</td>\n",
       "    </tr>\n",
       "    <tr>\n",
       "      <th>1321</th>\n",
       "      <td>ella</td>\n",
       "      <td>78.431373</td>\n",
       "      <td>21.568627</td>\n",
       "    </tr>\n",
       "  </tbody>\n",
       "</table>\n",
       "<p>1178 rows × 3 columns</p>\n",
       "</div>"
      ],
      "text/plain": [
       "                                  drugName   NEGATIVE   POSITIVE\n",
       "0     Abacavir / dolutegravir / lamivudine  76.923077  23.076923\n",
       "2                                  Abilify  63.228700  36.771300\n",
       "3                                   Abreva  77.848101  22.151899\n",
       "4                              Acamprosate  50.458716  49.541284\n",
       "5                                   Acanya  51.111111  48.888889\n",
       "...                                    ...        ...        ...\n",
       "1316                               Zyclara  76.923077  23.076923\n",
       "1317                               Zyprexa  66.467066  33.532934\n",
       "1319                                Zyrtec  60.869565  39.130435\n",
       "1320                                 Zyvox  82.352941  17.647059\n",
       "1321                                  ella  78.431373  21.568627\n",
       "\n",
       "[1178 rows x 3 columns]"
      ]
     },
     "execution_count": 205,
     "metadata": {},
     "output_type": "execute_result"
    }
   ],
   "source": [
    "sntmt_count.query('NEGATIVE > 50')\n",
    "#net promoter score"
   ]
  },
  {
   "cell_type": "markdown",
   "metadata": {},
   "source": [
    "**List of drugs having equal proportion of positive and negative sentiment (50% each):**"
   ]
  },
  {
   "cell_type": "code",
   "execution_count": null,
   "metadata": {},
   "outputs": [
    {
     "data": {
      "text/html": [
       "<div>\n",
       "<style scoped>\n",
       "    .dataframe tbody tr th:only-of-type {\n",
       "        vertical-align: middle;\n",
       "    }\n",
       "\n",
       "    .dataframe tbody tr th {\n",
       "        vertical-align: top;\n",
       "    }\n",
       "\n",
       "    .dataframe thead th {\n",
       "        text-align: right;\n",
       "    }\n",
       "</style>\n",
       "<table border=\"1\" class=\"dataframe\">\n",
       "  <thead>\n",
       "    <tr style=\"text-align: right;\">\n",
       "      <th></th>\n",
       "      <th>drugName</th>\n",
       "      <th>NEGATIVE</th>\n",
       "      <th>POSITIVE</th>\n",
       "    </tr>\n",
       "  </thead>\n",
       "  <tbody>\n",
       "    <tr>\n",
       "      <th>52</th>\n",
       "      <td>Aleve</td>\n",
       "      <td>50.0</td>\n",
       "      <td>50.0</td>\n",
       "    </tr>\n",
       "    <tr>\n",
       "      <th>82</th>\n",
       "      <td>Amoxil</td>\n",
       "      <td>50.0</td>\n",
       "      <td>50.0</td>\n",
       "    </tr>\n",
       "    <tr>\n",
       "      <th>115</th>\n",
       "      <td>Ativan</td>\n",
       "      <td>50.0</td>\n",
       "      <td>50.0</td>\n",
       "    </tr>\n",
       "    <tr>\n",
       "      <th>134</th>\n",
       "      <td>Axert</td>\n",
       "      <td>50.0</td>\n",
       "      <td>50.0</td>\n",
       "    </tr>\n",
       "    <tr>\n",
       "      <th>161</th>\n",
       "      <td>Benzaclin</td>\n",
       "      <td>50.0</td>\n",
       "      <td>50.0</td>\n",
       "    </tr>\n",
       "    <tr>\n",
       "      <th>165</th>\n",
       "      <td>Benzoyl peroxide / erythromycin</td>\n",
       "      <td>50.0</td>\n",
       "      <td>50.0</td>\n",
       "    </tr>\n",
       "    <tr>\n",
       "      <th>278</th>\n",
       "      <td>Clorazepate</td>\n",
       "      <td>50.0</td>\n",
       "      <td>50.0</td>\n",
       "    </tr>\n",
       "    <tr>\n",
       "      <th>291</th>\n",
       "      <td>Commit</td>\n",
       "      <td>50.0</td>\n",
       "      <td>50.0</td>\n",
       "    </tr>\n",
       "    <tr>\n",
       "      <th>309</th>\n",
       "      <td>Cyanocobalamin</td>\n",
       "      <td>50.0</td>\n",
       "      <td>50.0</td>\n",
       "    </tr>\n",
       "    <tr>\n",
       "      <th>325</th>\n",
       "      <td>Demerol</td>\n",
       "      <td>50.0</td>\n",
       "      <td>50.0</td>\n",
       "    </tr>\n",
       "    <tr>\n",
       "      <th>332</th>\n",
       "      <td>Dermal filler</td>\n",
       "      <td>50.0</td>\n",
       "      <td>50.0</td>\n",
       "    </tr>\n",
       "    <tr>\n",
       "      <th>337</th>\n",
       "      <td>Desonide</td>\n",
       "      <td>50.0</td>\n",
       "      <td>50.0</td>\n",
       "    </tr>\n",
       "    <tr>\n",
       "      <th>377</th>\n",
       "      <td>Docusate</td>\n",
       "      <td>50.0</td>\n",
       "      <td>50.0</td>\n",
       "    </tr>\n",
       "    <tr>\n",
       "      <th>444</th>\n",
       "      <td>Epitol</td>\n",
       "      <td>50.0</td>\n",
       "      <td>50.0</td>\n",
       "    </tr>\n",
       "    <tr>\n",
       "      <th>445</th>\n",
       "      <td>Erlotinib</td>\n",
       "      <td>50.0</td>\n",
       "      <td>50.0</td>\n",
       "    </tr>\n",
       "    <tr>\n",
       "      <th>467</th>\n",
       "      <td>Etodolac</td>\n",
       "      <td>50.0</td>\n",
       "      <td>50.0</td>\n",
       "    </tr>\n",
       "    <tr>\n",
       "      <th>517</th>\n",
       "      <td>Fluoxetine / olanzapine</td>\n",
       "      <td>50.0</td>\n",
       "      <td>50.0</td>\n",
       "    </tr>\n",
       "    <tr>\n",
       "      <th>566</th>\n",
       "      <td>Hycodan</td>\n",
       "      <td>50.0</td>\n",
       "      <td>50.0</td>\n",
       "    </tr>\n",
       "    <tr>\n",
       "      <th>621</th>\n",
       "      <td>Itraconazole</td>\n",
       "      <td>50.0</td>\n",
       "      <td>50.0</td>\n",
       "    </tr>\n",
       "    <tr>\n",
       "      <th>639</th>\n",
       "      <td>Kenalog-40</td>\n",
       "      <td>50.0</td>\n",
       "      <td>50.0</td>\n",
       "    </tr>\n",
       "    <tr>\n",
       "      <th>714</th>\n",
       "      <td>Lortab</td>\n",
       "      <td>50.0</td>\n",
       "      <td>50.0</td>\n",
       "    </tr>\n",
       "    <tr>\n",
       "      <th>743</th>\n",
       "      <td>Maxalt-MLT</td>\n",
       "      <td>50.0</td>\n",
       "      <td>50.0</td>\n",
       "    </tr>\n",
       "    <tr>\n",
       "      <th>763</th>\n",
       "      <td>Methenamine</td>\n",
       "      <td>50.0</td>\n",
       "      <td>50.0</td>\n",
       "    </tr>\n",
       "    <tr>\n",
       "      <th>773</th>\n",
       "      <td>MetroGel</td>\n",
       "      <td>50.0</td>\n",
       "      <td>50.0</td>\n",
       "    </tr>\n",
       "    <tr>\n",
       "      <th>849</th>\n",
       "      <td>Nicoderm CQ</td>\n",
       "      <td>50.0</td>\n",
       "      <td>50.0</td>\n",
       "    </tr>\n",
       "    <tr>\n",
       "      <th>863</th>\n",
       "      <td>Nubain</td>\n",
       "      <td>50.0</td>\n",
       "      <td>50.0</td>\n",
       "    </tr>\n",
       "    <tr>\n",
       "      <th>899</th>\n",
       "      <td>Ortho-Cept</td>\n",
       "      <td>50.0</td>\n",
       "      <td>50.0</td>\n",
       "    </tr>\n",
       "    <tr>\n",
       "      <th>920</th>\n",
       "      <td>Patanol</td>\n",
       "      <td>50.0</td>\n",
       "      <td>50.0</td>\n",
       "    </tr>\n",
       "    <tr>\n",
       "      <th>922</th>\n",
       "      <td>Paxil CR</td>\n",
       "      <td>50.0</td>\n",
       "      <td>50.0</td>\n",
       "    </tr>\n",
       "    <tr>\n",
       "      <th>931</th>\n",
       "      <td>Percocet</td>\n",
       "      <td>50.0</td>\n",
       "      <td>50.0</td>\n",
       "    </tr>\n",
       "    <tr>\n",
       "      <th>1061</th>\n",
       "      <td>Selegiline</td>\n",
       "      <td>50.0</td>\n",
       "      <td>50.0</td>\n",
       "    </tr>\n",
       "    <tr>\n",
       "      <th>1076</th>\n",
       "      <td>Sinemet</td>\n",
       "      <td>50.0</td>\n",
       "      <td>50.0</td>\n",
       "    </tr>\n",
       "    <tr>\n",
       "      <th>1091</th>\n",
       "      <td>Sominex</td>\n",
       "      <td>50.0</td>\n",
       "      <td>50.0</td>\n",
       "    </tr>\n",
       "    <tr>\n",
       "      <th>1186</th>\n",
       "      <td>Treximet</td>\n",
       "      <td>50.0</td>\n",
       "      <td>50.0</td>\n",
       "    </tr>\n",
       "    <tr>\n",
       "      <th>1203</th>\n",
       "      <td>Trulance</td>\n",
       "      <td>50.0</td>\n",
       "      <td>50.0</td>\n",
       "    </tr>\n",
       "    <tr>\n",
       "      <th>1206</th>\n",
       "      <td>Tylenol PM</td>\n",
       "      <td>50.0</td>\n",
       "      <td>50.0</td>\n",
       "    </tr>\n",
       "    <tr>\n",
       "      <th>1279</th>\n",
       "      <td>Xylometazoline</td>\n",
       "      <td>50.0</td>\n",
       "      <td>50.0</td>\n",
       "    </tr>\n",
       "    <tr>\n",
       "      <th>1287</th>\n",
       "      <td>Zantac</td>\n",
       "      <td>50.0</td>\n",
       "      <td>50.0</td>\n",
       "    </tr>\n",
       "    <tr>\n",
       "      <th>1301</th>\n",
       "      <td>Zohydro ER</td>\n",
       "      <td>50.0</td>\n",
       "      <td>50.0</td>\n",
       "    </tr>\n",
       "    <tr>\n",
       "      <th>1318</th>\n",
       "      <td>Zyprexa Zydis</td>\n",
       "      <td>50.0</td>\n",
       "      <td>50.0</td>\n",
       "    </tr>\n",
       "  </tbody>\n",
       "</table>\n",
       "</div>"
      ],
      "text/plain": [
       "                             drugName  NEGATIVE  POSITIVE\n",
       "52                              Aleve      50.0      50.0\n",
       "82                             Amoxil      50.0      50.0\n",
       "115                            Ativan      50.0      50.0\n",
       "134                             Axert      50.0      50.0\n",
       "161                         Benzaclin      50.0      50.0\n",
       "165   Benzoyl peroxide / erythromycin      50.0      50.0\n",
       "278                       Clorazepate      50.0      50.0\n",
       "291                            Commit      50.0      50.0\n",
       "309                    Cyanocobalamin      50.0      50.0\n",
       "325                           Demerol      50.0      50.0\n",
       "332                     Dermal filler      50.0      50.0\n",
       "337                          Desonide      50.0      50.0\n",
       "377                          Docusate      50.0      50.0\n",
       "444                            Epitol      50.0      50.0\n",
       "445                         Erlotinib      50.0      50.0\n",
       "467                          Etodolac      50.0      50.0\n",
       "517           Fluoxetine / olanzapine      50.0      50.0\n",
       "566                           Hycodan      50.0      50.0\n",
       "621                      Itraconazole      50.0      50.0\n",
       "639                        Kenalog-40      50.0      50.0\n",
       "714                            Lortab      50.0      50.0\n",
       "743                        Maxalt-MLT      50.0      50.0\n",
       "763                       Methenamine      50.0      50.0\n",
       "773                          MetroGel      50.0      50.0\n",
       "849                       Nicoderm CQ      50.0      50.0\n",
       "863                            Nubain      50.0      50.0\n",
       "899                        Ortho-Cept      50.0      50.0\n",
       "920                           Patanol      50.0      50.0\n",
       "922                          Paxil CR      50.0      50.0\n",
       "931                          Percocet      50.0      50.0\n",
       "1061                       Selegiline      50.0      50.0\n",
       "1076                          Sinemet      50.0      50.0\n",
       "1091                          Sominex      50.0      50.0\n",
       "1186                         Treximet      50.0      50.0\n",
       "1203                         Trulance      50.0      50.0\n",
       "1206                       Tylenol PM      50.0      50.0\n",
       "1279                   Xylometazoline      50.0      50.0\n",
       "1287                           Zantac      50.0      50.0\n",
       "1301                       Zohydro ER      50.0      50.0\n",
       "1318                    Zyprexa Zydis      50.0      50.0"
      ]
     },
     "execution_count": 206,
     "metadata": {},
     "output_type": "execute_result"
    }
   ],
   "source": [
    "sntmt_count.query('POSITIVE == 50 and NEGATIVE == 50')\n"
   ]
  },
  {
   "cell_type": "code",
   "execution_count": null,
   "metadata": {},
   "outputs": [],
   "source": []
  },
  {
   "cell_type": "code",
   "execution_count": null,
   "metadata": {},
   "outputs": [
    {
     "data": {
      "text/plain": [
       "sentiment\n",
       "NEGATIVE    10963400\n",
       "POSITIVE     5166300\n",
       "Name: count, dtype: int64"
      ]
     },
     "execution_count": 13,
     "metadata": {},
     "output_type": "execute_result"
    }
   ],
   "source": [
    "results_df['sentiment'].value_counts(normalize=False)*100"
   ]
  },
  {
   "cell_type": "code",
   "execution_count": null,
   "metadata": {},
   "outputs": [],
   "source": []
  },
  {
   "cell_type": "markdown",
   "metadata": {},
   "source": [
    "### **LLM based Sentiment Analysis** "
   ]
  },
  {
   "cell_type": "markdown",
   "metadata": {},
   "source": [
    "Experimenting with Google Gemini API"
   ]
  },
  {
   "cell_type": "code",
   "execution_count": null,
   "metadata": {},
   "outputs": [],
   "source": [
    "import google.generativeai as genai\n",
    "import pandas as pd\n",
    "\n",
    "# Configure the Gemini API with your API key\n",
    "genai.configure(api_key=GOOGLE_API_KEY)\n",
    "\n",
    "# Define the Gemini model and settings\n",
    "defaults = {\n",
    "    'model': 'models/text-bison-001',\n",
    "    'temperature': 0.5, \n",
    "    'candidate_count': 1,\n",
    "    'top_k': 40,\n",
    "    'top_p': 0.95,\n",
    "    'max_output_tokens': 1024,\n",
    "}\n",
    "\n",
    "# Define a function to get the sentiment of a review using Gemini API\n",
    "def get_sentiment(review):\n",
    "    prompt = f\"\"\"Tell me whether the following sentence's sentiment is positive, negative, or neutral.\n",
    "    Sentence: {review}\n",
    "    Sentiment: \"\"\"\n",
    "    \n",
    "    # Send the prompt to the Gemini API\n",
    "    response = genai.generate_text(\n",
    "        **defaults,\n",
    "        prompt=prompt\n",
    "    )\n",
    "    \n",
    "    # Extract the sentiment result\n",
    "    return response.result\n",
    "\n"
   ]
  },
  {
   "cell_type": "markdown",
   "metadata": {},
   "source": [
    "Test case"
   ]
  },
  {
   "cell_type": "code",
   "execution_count": null,
   "metadata": {},
   "outputs": [
    {
     "name": "stdout",
     "output_type": "stream",
     "text": [
      "                              review sentiment\n",
      "0               I love this product!  positive\n",
      "1                  This is terrible.  negative\n",
      "2  I have mixed feelings about this.   neutral\n"
     ]
    }
   ],
   "source": [
    "# Sample DataFrame with 'review' column\n",
    "test_df = pd.DataFrame({\n",
    "    'review': [\"I love this product!\", \"This is terrible.\", \"I have mixed feelings about this.\"]\n",
    "})\n",
    "\n",
    "# Apply the sentiment function to the 'review' column\n",
    "test_df['sentiment'] = test_df['review'].apply(get_sentiment)\n",
    "\n",
    "# Display the DataFrame with the sentiment results\n",
    "print(test_df)"
   ]
  },
  {
   "cell_type": "markdown",
   "metadata": {},
   "source": [
    "Utilizing on dataset"
   ]
  },
  {
   "cell_type": "code",
   "execution_count": null,
   "metadata": {},
   "outputs": [],
   "source": [
    "t_df  = df.copy()\n"
   ]
  },
  {
   "cell_type": "code",
   "execution_count": null,
   "metadata": {},
   "outputs": [
    {
     "ename": "AttributeError",
     "evalue": "'NoneType' object has no attribute 'from_call'",
     "output_type": "error",
     "traceback": [
      "\u001b[0;31m---------------------------------------------------------------------------\u001b[0m",
      "\u001b[0;31mAttributeError\u001b[0m                            Traceback (most recent call last)",
      "Cell \u001b[0;32mIn[17], line 1\u001b[0m\n\u001b[0;32m----> 1\u001b[0m t_df[\u001b[38;5;124m\"\u001b[39m\u001b[38;5;124msentiment_gemini\u001b[39m\u001b[38;5;124m\"\u001b[39m] \u001b[38;5;241m=\u001b[39m \u001b[43mt_df\u001b[49m\u001b[43m[\u001b[49m\u001b[38;5;124;43m\"\u001b[39;49m\u001b[38;5;124;43mreview\u001b[39;49m\u001b[38;5;124;43m\"\u001b[39;49m\u001b[43m]\u001b[49m\u001b[43m[\u001b[49m\u001b[43m:\u001b[49m\u001b[38;5;241;43m3\u001b[39;49m\u001b[43m]\u001b[49m\u001b[38;5;241;43m.\u001b[39;49m\u001b[43mapply\u001b[49m\u001b[43m(\u001b[49m\u001b[43mget_sentiment\u001b[49m\u001b[43m)\u001b[49m\n",
      "File \u001b[0;32m/opt/homebrew/Caskroom/miniconda/base/envs/dsproj/lib/python3.9/site-packages/pandas/core/series.py:4757\u001b[0m, in \u001b[0;36mSeries.apply\u001b[0;34m(self, func, convert_dtype, args, by_row, **kwargs)\u001b[0m\n\u001b[1;32m   4629\u001b[0m \u001b[38;5;28;01mdef\u001b[39;00m \u001b[38;5;21mapply\u001b[39m(\n\u001b[1;32m   4630\u001b[0m     \u001b[38;5;28mself\u001b[39m,\n\u001b[1;32m   4631\u001b[0m     func: AggFuncType,\n\u001b[0;32m   (...)\u001b[0m\n\u001b[1;32m   4636\u001b[0m     \u001b[38;5;241m*\u001b[39m\u001b[38;5;241m*\u001b[39mkwargs,\n\u001b[1;32m   4637\u001b[0m ) \u001b[38;5;241m-\u001b[39m\u001b[38;5;241m>\u001b[39m DataFrame \u001b[38;5;241m|\u001b[39m Series:\n\u001b[1;32m   4638\u001b[0m \u001b[38;5;250m    \u001b[39m\u001b[38;5;124;03m\"\"\"\u001b[39;00m\n\u001b[1;32m   4639\u001b[0m \u001b[38;5;124;03m    Invoke function on values of Series.\u001b[39;00m\n\u001b[1;32m   4640\u001b[0m \n\u001b[0;32m   (...)\u001b[0m\n\u001b[1;32m   4755\u001b[0m \u001b[38;5;124;03m    dtype: float64\u001b[39;00m\n\u001b[1;32m   4756\u001b[0m \u001b[38;5;124;03m    \"\"\"\u001b[39;00m\n\u001b[0;32m-> 4757\u001b[0m     \u001b[38;5;28;01mreturn\u001b[39;00m \u001b[43mSeriesApply\u001b[49m\u001b[43m(\u001b[49m\n\u001b[1;32m   4758\u001b[0m \u001b[43m        \u001b[49m\u001b[38;5;28;43mself\u001b[39;49m\u001b[43m,\u001b[49m\n\u001b[1;32m   4759\u001b[0m \u001b[43m        \u001b[49m\u001b[43mfunc\u001b[49m\u001b[43m,\u001b[49m\n\u001b[1;32m   4760\u001b[0m \u001b[43m        \u001b[49m\u001b[43mconvert_dtype\u001b[49m\u001b[38;5;241;43m=\u001b[39;49m\u001b[43mconvert_dtype\u001b[49m\u001b[43m,\u001b[49m\n\u001b[1;32m   4761\u001b[0m \u001b[43m        \u001b[49m\u001b[43mby_row\u001b[49m\u001b[38;5;241;43m=\u001b[39;49m\u001b[43mby_row\u001b[49m\u001b[43m,\u001b[49m\n\u001b[1;32m   4762\u001b[0m \u001b[43m        \u001b[49m\u001b[43margs\u001b[49m\u001b[38;5;241;43m=\u001b[39;49m\u001b[43margs\u001b[49m\u001b[43m,\u001b[49m\n\u001b[1;32m   4763\u001b[0m \u001b[43m        \u001b[49m\u001b[43mkwargs\u001b[49m\u001b[38;5;241;43m=\u001b[39;49m\u001b[43mkwargs\u001b[49m\u001b[43m,\u001b[49m\n\u001b[1;32m   4764\u001b[0m \u001b[43m    \u001b[49m\u001b[43m)\u001b[49m\u001b[38;5;241;43m.\u001b[39;49m\u001b[43mapply\u001b[49m\u001b[43m(\u001b[49m\u001b[43m)\u001b[49m\n",
      "File \u001b[0;32m/opt/homebrew/Caskroom/miniconda/base/envs/dsproj/lib/python3.9/site-packages/pandas/core/apply.py:1209\u001b[0m, in \u001b[0;36mSeriesApply.apply\u001b[0;34m(self)\u001b[0m\n\u001b[1;32m   1206\u001b[0m     \u001b[38;5;28;01mreturn\u001b[39;00m \u001b[38;5;28mself\u001b[39m\u001b[38;5;241m.\u001b[39mapply_compat()\n\u001b[1;32m   1208\u001b[0m \u001b[38;5;66;03m# self.func is Callable\u001b[39;00m\n\u001b[0;32m-> 1209\u001b[0m \u001b[38;5;28;01mreturn\u001b[39;00m \u001b[38;5;28;43mself\u001b[39;49m\u001b[38;5;241;43m.\u001b[39;49m\u001b[43mapply_standard\u001b[49m\u001b[43m(\u001b[49m\u001b[43m)\u001b[49m\n",
      "File \u001b[0;32m/opt/homebrew/Caskroom/miniconda/base/envs/dsproj/lib/python3.9/site-packages/pandas/core/apply.py:1289\u001b[0m, in \u001b[0;36mSeriesApply.apply_standard\u001b[0;34m(self)\u001b[0m\n\u001b[1;32m   1283\u001b[0m \u001b[38;5;66;03m# row-wise access\u001b[39;00m\n\u001b[1;32m   1284\u001b[0m \u001b[38;5;66;03m# apply doesn't have a `na_action` keyword and for backward compat reasons\u001b[39;00m\n\u001b[1;32m   1285\u001b[0m \u001b[38;5;66;03m# we need to give `na_action=\"ignore\"` for categorical data.\u001b[39;00m\n\u001b[1;32m   1286\u001b[0m \u001b[38;5;66;03m# TODO: remove the `na_action=\"ignore\"` when that default has been changed in\u001b[39;00m\n\u001b[1;32m   1287\u001b[0m \u001b[38;5;66;03m#  Categorical (GH51645).\u001b[39;00m\n\u001b[1;32m   1288\u001b[0m action \u001b[38;5;241m=\u001b[39m \u001b[38;5;124m\"\u001b[39m\u001b[38;5;124mignore\u001b[39m\u001b[38;5;124m\"\u001b[39m \u001b[38;5;28;01mif\u001b[39;00m \u001b[38;5;28misinstance\u001b[39m(obj\u001b[38;5;241m.\u001b[39mdtype, CategoricalDtype) \u001b[38;5;28;01melse\u001b[39;00m \u001b[38;5;28;01mNone\u001b[39;00m\n\u001b[0;32m-> 1289\u001b[0m mapped \u001b[38;5;241m=\u001b[39m \u001b[43mobj\u001b[49m\u001b[38;5;241;43m.\u001b[39;49m\u001b[43m_map_values\u001b[49m\u001b[43m(\u001b[49m\n\u001b[1;32m   1290\u001b[0m \u001b[43m    \u001b[49m\u001b[43mmapper\u001b[49m\u001b[38;5;241;43m=\u001b[39;49m\u001b[43mcurried\u001b[49m\u001b[43m,\u001b[49m\u001b[43m \u001b[49m\u001b[43mna_action\u001b[49m\u001b[38;5;241;43m=\u001b[39;49m\u001b[43maction\u001b[49m\u001b[43m,\u001b[49m\u001b[43m \u001b[49m\u001b[43mconvert\u001b[49m\u001b[38;5;241;43m=\u001b[39;49m\u001b[38;5;28;43mself\u001b[39;49m\u001b[38;5;241;43m.\u001b[39;49m\u001b[43mconvert_dtype\u001b[49m\n\u001b[1;32m   1291\u001b[0m \u001b[43m\u001b[49m\u001b[43m)\u001b[49m\n\u001b[1;32m   1293\u001b[0m \u001b[38;5;28;01mif\u001b[39;00m \u001b[38;5;28mlen\u001b[39m(mapped) \u001b[38;5;129;01mand\u001b[39;00m \u001b[38;5;28misinstance\u001b[39m(mapped[\u001b[38;5;241m0\u001b[39m], ABCSeries):\n\u001b[1;32m   1294\u001b[0m     \u001b[38;5;66;03m# GH#43986 Need to do list(mapped) in order to get treated as nested\u001b[39;00m\n\u001b[1;32m   1295\u001b[0m     \u001b[38;5;66;03m#  See also GH#25959 regarding EA support\u001b[39;00m\n\u001b[1;32m   1296\u001b[0m     \u001b[38;5;28;01mreturn\u001b[39;00m obj\u001b[38;5;241m.\u001b[39m_constructor_expanddim(\u001b[38;5;28mlist\u001b[39m(mapped), index\u001b[38;5;241m=\u001b[39mobj\u001b[38;5;241m.\u001b[39mindex)\n",
      "File \u001b[0;32m/opt/homebrew/Caskroom/miniconda/base/envs/dsproj/lib/python3.9/site-packages/pandas/core/base.py:921\u001b[0m, in \u001b[0;36mIndexOpsMixin._map_values\u001b[0;34m(self, mapper, na_action, convert)\u001b[0m\n\u001b[1;32m    918\u001b[0m \u001b[38;5;28;01mif\u001b[39;00m \u001b[38;5;28misinstance\u001b[39m(arr, ExtensionArray):\n\u001b[1;32m    919\u001b[0m     \u001b[38;5;28;01mreturn\u001b[39;00m arr\u001b[38;5;241m.\u001b[39mmap(mapper, na_action\u001b[38;5;241m=\u001b[39mna_action)\n\u001b[0;32m--> 921\u001b[0m \u001b[38;5;28;01mreturn\u001b[39;00m \u001b[43malgorithms\u001b[49m\u001b[38;5;241;43m.\u001b[39;49m\u001b[43mmap_array\u001b[49m\u001b[43m(\u001b[49m\u001b[43marr\u001b[49m\u001b[43m,\u001b[49m\u001b[43m \u001b[49m\u001b[43mmapper\u001b[49m\u001b[43m,\u001b[49m\u001b[43m \u001b[49m\u001b[43mna_action\u001b[49m\u001b[38;5;241;43m=\u001b[39;49m\u001b[43mna_action\u001b[49m\u001b[43m,\u001b[49m\u001b[43m \u001b[49m\u001b[43mconvert\u001b[49m\u001b[38;5;241;43m=\u001b[39;49m\u001b[43mconvert\u001b[49m\u001b[43m)\u001b[49m\n",
      "File \u001b[0;32m/opt/homebrew/Caskroom/miniconda/base/envs/dsproj/lib/python3.9/site-packages/pandas/core/algorithms.py:1814\u001b[0m, in \u001b[0;36mmap_array\u001b[0;34m(arr, mapper, na_action, convert)\u001b[0m\n\u001b[1;32m   1812\u001b[0m values \u001b[38;5;241m=\u001b[39m arr\u001b[38;5;241m.\u001b[39mastype(\u001b[38;5;28mobject\u001b[39m, copy\u001b[38;5;241m=\u001b[39m\u001b[38;5;28;01mFalse\u001b[39;00m)\n\u001b[1;32m   1813\u001b[0m \u001b[38;5;28;01mif\u001b[39;00m na_action \u001b[38;5;129;01mis\u001b[39;00m \u001b[38;5;28;01mNone\u001b[39;00m:\n\u001b[0;32m-> 1814\u001b[0m     \u001b[38;5;28;01mreturn\u001b[39;00m \u001b[43mlib\u001b[49m\u001b[38;5;241;43m.\u001b[39;49m\u001b[43mmap_infer\u001b[49m\u001b[43m(\u001b[49m\u001b[43mvalues\u001b[49m\u001b[43m,\u001b[49m\u001b[43m \u001b[49m\u001b[43mmapper\u001b[49m\u001b[43m,\u001b[49m\u001b[43m \u001b[49m\u001b[43mconvert\u001b[49m\u001b[38;5;241;43m=\u001b[39;49m\u001b[43mconvert\u001b[49m\u001b[43m)\u001b[49m\n\u001b[1;32m   1815\u001b[0m \u001b[38;5;28;01melse\u001b[39;00m:\n\u001b[1;32m   1816\u001b[0m     \u001b[38;5;28;01mreturn\u001b[39;00m lib\u001b[38;5;241m.\u001b[39mmap_infer_mask(\n\u001b[1;32m   1817\u001b[0m         values, mapper, mask\u001b[38;5;241m=\u001b[39misna(values)\u001b[38;5;241m.\u001b[39mview(np\u001b[38;5;241m.\u001b[39muint8), convert\u001b[38;5;241m=\u001b[39mconvert\n\u001b[1;32m   1818\u001b[0m     )\n",
      "File \u001b[0;32mlib.pyx:2926\u001b[0m, in \u001b[0;36mpandas._libs.lib.map_infer\u001b[0;34m()\u001b[0m\n",
      "Cell \u001b[0;32mIn[16], line 24\u001b[0m, in \u001b[0;36mget_sentiment\u001b[0;34m(review)\u001b[0m\n\u001b[1;32m     19\u001b[0m prompt \u001b[38;5;241m=\u001b[39m \u001b[38;5;124mf\u001b[39m\u001b[38;5;124m\"\"\"\u001b[39m\u001b[38;5;124mTell me whether the following sentence\u001b[39m\u001b[38;5;124m'\u001b[39m\u001b[38;5;124ms sentiment is positive, negative, or neutral.\u001b[39m\n\u001b[1;32m     20\u001b[0m \u001b[38;5;124mSentence: \u001b[39m\u001b[38;5;132;01m{\u001b[39;00mreview\u001b[38;5;132;01m}\u001b[39;00m\n\u001b[1;32m     21\u001b[0m \u001b[38;5;124mSentiment: \u001b[39m\u001b[38;5;124m\"\"\"\u001b[39m\n\u001b[1;32m     23\u001b[0m \u001b[38;5;66;03m# Send the prompt to the Gemini API\u001b[39;00m\n\u001b[0;32m---> 24\u001b[0m response \u001b[38;5;241m=\u001b[39m \u001b[43mgenai\u001b[49m\u001b[38;5;241;43m.\u001b[39;49m\u001b[43mgenerate_text\u001b[49m\u001b[43m(\u001b[49m\n\u001b[1;32m     25\u001b[0m \u001b[43m    \u001b[49m\u001b[38;5;241;43m*\u001b[39;49m\u001b[38;5;241;43m*\u001b[39;49m\u001b[43mdefaults\u001b[49m\u001b[43m,\u001b[49m\n\u001b[1;32m     26\u001b[0m \u001b[43m    \u001b[49m\u001b[43mprompt\u001b[49m\u001b[38;5;241;43m=\u001b[39;49m\u001b[43mprompt\u001b[49m\n\u001b[1;32m     27\u001b[0m \u001b[43m\u001b[49m\u001b[43m)\u001b[49m\n\u001b[1;32m     29\u001b[0m \u001b[38;5;66;03m# Extract the sentiment result\u001b[39;00m\n\u001b[1;32m     30\u001b[0m \u001b[38;5;28;01mreturn\u001b[39;00m response\u001b[38;5;241m.\u001b[39mresult\n",
      "File \u001b[0;32m/opt/homebrew/Caskroom/miniconda/base/envs/dsproj/lib/python3.9/site-packages/google/generativeai/text.py:205\u001b[0m, in \u001b[0;36mgenerate_text\u001b[0;34m(model, prompt, temperature, candidate_count, max_output_tokens, top_p, top_k, safety_settings, stop_sequences, client, request_options)\u001b[0m\n\u001b[1;32m    149\u001b[0m \u001b[38;5;250m\u001b[39m\u001b[38;5;124;03m\"\"\"Calls the API to generate text based on the provided prompt.\u001b[39;00m\n\u001b[1;32m    150\u001b[0m \n\u001b[1;32m    151\u001b[0m \u001b[38;5;124;03mArgs:\u001b[39;00m\n\u001b[0;32m   (...)\u001b[0m\n\u001b[1;32m    191\u001b[0m \u001b[38;5;124;03m    A `types.Completion` containing the model's text completion response.\u001b[39;00m\n\u001b[1;32m    192\u001b[0m \u001b[38;5;124;03m\"\"\"\u001b[39;00m\n\u001b[1;32m    193\u001b[0m request \u001b[38;5;241m=\u001b[39m _make_generate_text_request(\n\u001b[1;32m    194\u001b[0m     model\u001b[38;5;241m=\u001b[39mmodel,\n\u001b[1;32m    195\u001b[0m     prompt\u001b[38;5;241m=\u001b[39mprompt,\n\u001b[0;32m   (...)\u001b[0m\n\u001b[1;32m    202\u001b[0m     stop_sequences\u001b[38;5;241m=\u001b[39mstop_sequences,\n\u001b[1;32m    203\u001b[0m )\n\u001b[0;32m--> 205\u001b[0m \u001b[38;5;28;01mreturn\u001b[39;00m \u001b[43m_generate_response\u001b[49m\u001b[43m(\u001b[49m\u001b[43mclient\u001b[49m\u001b[38;5;241;43m=\u001b[39;49m\u001b[43mclient\u001b[49m\u001b[43m,\u001b[49m\u001b[43m \u001b[49m\u001b[43mrequest\u001b[49m\u001b[38;5;241;43m=\u001b[39;49m\u001b[43mrequest\u001b[49m\u001b[43m,\u001b[49m\u001b[43m \u001b[49m\u001b[43mrequest_options\u001b[49m\u001b[38;5;241;43m=\u001b[39;49m\u001b[43mrequest_options\u001b[49m\u001b[43m)\u001b[49m\n",
      "File \u001b[0;32m/opt/homebrew/Caskroom/miniconda/base/envs/dsproj/lib/python3.9/site-packages/google/generativeai/text.py:243\u001b[0m, in \u001b[0;36m_generate_response\u001b[0;34m(request, client, request_options)\u001b[0m\n\u001b[1;32m    240\u001b[0m \u001b[38;5;28;01mif\u001b[39;00m client \u001b[38;5;129;01mis\u001b[39;00m \u001b[38;5;28;01mNone\u001b[39;00m:\n\u001b[1;32m    241\u001b[0m     client \u001b[38;5;241m=\u001b[39m get_default_text_client()\n\u001b[0;32m--> 243\u001b[0m response \u001b[38;5;241m=\u001b[39m \u001b[43mclient\u001b[49m\u001b[38;5;241;43m.\u001b[39;49m\u001b[43mgenerate_text\u001b[49m\u001b[43m(\u001b[49m\u001b[43mrequest\u001b[49m\u001b[43m,\u001b[49m\u001b[43m \u001b[49m\u001b[38;5;241;43m*\u001b[39;49m\u001b[38;5;241;43m*\u001b[39;49m\u001b[43mrequest_options\u001b[49m\u001b[43m)\u001b[49m\n\u001b[1;32m    244\u001b[0m response \u001b[38;5;241m=\u001b[39m \u001b[38;5;28mtype\u001b[39m(response)\u001b[38;5;241m.\u001b[39mto_dict(response)\n\u001b[1;32m    246\u001b[0m response[\u001b[38;5;124m\"\u001b[39m\u001b[38;5;124mfilters\u001b[39m\u001b[38;5;124m\"\u001b[39m] \u001b[38;5;241m=\u001b[39m palm_safety_types\u001b[38;5;241m.\u001b[39mconvert_filters_to_enums(response[\u001b[38;5;124m\"\u001b[39m\u001b[38;5;124mfilters\u001b[39m\u001b[38;5;124m\"\u001b[39m])\n",
      "File \u001b[0;32m/opt/homebrew/Caskroom/miniconda/base/envs/dsproj/lib/python3.9/site-packages/google/ai/generativelanguage_v1beta/services/text_service/client.py:880\u001b[0m, in \u001b[0;36mTextServiceClient.generate_text\u001b[0;34m(self, request, model, prompt, temperature, candidate_count, max_output_tokens, top_p, top_k, retry, timeout, metadata)\u001b[0m\n\u001b[1;32m    877\u001b[0m \u001b[38;5;28mself\u001b[39m\u001b[38;5;241m.\u001b[39m_validate_universe_domain()\n\u001b[1;32m    879\u001b[0m \u001b[38;5;66;03m# Send the request.\u001b[39;00m\n\u001b[0;32m--> 880\u001b[0m response \u001b[38;5;241m=\u001b[39m \u001b[43mrpc\u001b[49m\u001b[43m(\u001b[49m\n\u001b[1;32m    881\u001b[0m \u001b[43m    \u001b[49m\u001b[43mrequest\u001b[49m\u001b[43m,\u001b[49m\n\u001b[1;32m    882\u001b[0m \u001b[43m    \u001b[49m\u001b[43mretry\u001b[49m\u001b[38;5;241;43m=\u001b[39;49m\u001b[43mretry\u001b[49m\u001b[43m,\u001b[49m\n\u001b[1;32m    883\u001b[0m \u001b[43m    \u001b[49m\u001b[43mtimeout\u001b[49m\u001b[38;5;241;43m=\u001b[39;49m\u001b[43mtimeout\u001b[49m\u001b[43m,\u001b[49m\n\u001b[1;32m    884\u001b[0m \u001b[43m    \u001b[49m\u001b[43mmetadata\u001b[49m\u001b[38;5;241;43m=\u001b[39;49m\u001b[43mmetadata\u001b[49m\u001b[43m,\u001b[49m\n\u001b[1;32m    885\u001b[0m \u001b[43m\u001b[49m\u001b[43m)\u001b[49m\n\u001b[1;32m    887\u001b[0m \u001b[38;5;66;03m# Done; return the response.\u001b[39;00m\n\u001b[1;32m    888\u001b[0m \u001b[38;5;28;01mreturn\u001b[39;00m response\n",
      "File \u001b[0;32m/opt/homebrew/Caskroom/miniconda/base/envs/dsproj/lib/python3.9/site-packages/google/api_core/gapic_v1/method.py:131\u001b[0m, in \u001b[0;36m_GapicCallable.__call__\u001b[0;34m(self, timeout, retry, compression, *args, **kwargs)\u001b[0m\n\u001b[1;32m    128\u001b[0m \u001b[38;5;28;01mif\u001b[39;00m \u001b[38;5;28mself\u001b[39m\u001b[38;5;241m.\u001b[39m_compression \u001b[38;5;129;01mis\u001b[39;00m \u001b[38;5;129;01mnot\u001b[39;00m \u001b[38;5;28;01mNone\u001b[39;00m:\n\u001b[1;32m    129\u001b[0m     kwargs[\u001b[38;5;124m\"\u001b[39m\u001b[38;5;124mcompression\u001b[39m\u001b[38;5;124m\"\u001b[39m] \u001b[38;5;241m=\u001b[39m compression\n\u001b[0;32m--> 131\u001b[0m \u001b[38;5;28;01mreturn\u001b[39;00m \u001b[43mwrapped_func\u001b[49m\u001b[43m(\u001b[49m\u001b[38;5;241;43m*\u001b[39;49m\u001b[43margs\u001b[49m\u001b[43m,\u001b[49m\u001b[43m \u001b[49m\u001b[38;5;241;43m*\u001b[39;49m\u001b[38;5;241;43m*\u001b[39;49m\u001b[43mkwargs\u001b[49m\u001b[43m)\u001b[49m\n",
      "File \u001b[0;32m/opt/homebrew/Caskroom/miniconda/base/envs/dsproj/lib/python3.9/site-packages/google/api_core/retry/retry_unary.py:293\u001b[0m, in \u001b[0;36mRetry.__call__.<locals>.retry_wrapped_func\u001b[0;34m(*args, **kwargs)\u001b[0m\n\u001b[1;32m    289\u001b[0m target \u001b[38;5;241m=\u001b[39m functools\u001b[38;5;241m.\u001b[39mpartial(func, \u001b[38;5;241m*\u001b[39margs, \u001b[38;5;241m*\u001b[39m\u001b[38;5;241m*\u001b[39mkwargs)\n\u001b[1;32m    290\u001b[0m sleep_generator \u001b[38;5;241m=\u001b[39m exponential_sleep_generator(\n\u001b[1;32m    291\u001b[0m     \u001b[38;5;28mself\u001b[39m\u001b[38;5;241m.\u001b[39m_initial, \u001b[38;5;28mself\u001b[39m\u001b[38;5;241m.\u001b[39m_maximum, multiplier\u001b[38;5;241m=\u001b[39m\u001b[38;5;28mself\u001b[39m\u001b[38;5;241m.\u001b[39m_multiplier\n\u001b[1;32m    292\u001b[0m )\n\u001b[0;32m--> 293\u001b[0m \u001b[38;5;28;01mreturn\u001b[39;00m \u001b[43mretry_target\u001b[49m\u001b[43m(\u001b[49m\n\u001b[1;32m    294\u001b[0m \u001b[43m    \u001b[49m\u001b[43mtarget\u001b[49m\u001b[43m,\u001b[49m\n\u001b[1;32m    295\u001b[0m \u001b[43m    \u001b[49m\u001b[38;5;28;43mself\u001b[39;49m\u001b[38;5;241;43m.\u001b[39;49m\u001b[43m_predicate\u001b[49m\u001b[43m,\u001b[49m\n\u001b[1;32m    296\u001b[0m \u001b[43m    \u001b[49m\u001b[43msleep_generator\u001b[49m\u001b[43m,\u001b[49m\n\u001b[1;32m    297\u001b[0m \u001b[43m    \u001b[49m\u001b[43mtimeout\u001b[49m\u001b[38;5;241;43m=\u001b[39;49m\u001b[38;5;28;43mself\u001b[39;49m\u001b[38;5;241;43m.\u001b[39;49m\u001b[43m_timeout\u001b[49m\u001b[43m,\u001b[49m\n\u001b[1;32m    298\u001b[0m \u001b[43m    \u001b[49m\u001b[43mon_error\u001b[49m\u001b[38;5;241;43m=\u001b[39;49m\u001b[43mon_error\u001b[49m\u001b[43m,\u001b[49m\n\u001b[1;32m    299\u001b[0m \u001b[43m\u001b[49m\u001b[43m)\u001b[49m\n",
      "File \u001b[0;32m/opt/homebrew/Caskroom/miniconda/base/envs/dsproj/lib/python3.9/site-packages/google/api_core/retry/retry_unary.py:153\u001b[0m, in \u001b[0;36mretry_target\u001b[0;34m(target, predicate, sleep_generator, timeout, on_error, exception_factory, **kwargs)\u001b[0m\n\u001b[1;32m    149\u001b[0m \u001b[38;5;66;03m# pylint: disable=broad-except\u001b[39;00m\n\u001b[1;32m    150\u001b[0m \u001b[38;5;66;03m# This function explicitly must deal with broad exceptions.\u001b[39;00m\n\u001b[1;32m    151\u001b[0m \u001b[38;5;28;01mexcept\u001b[39;00m \u001b[38;5;167;01mException\u001b[39;00m \u001b[38;5;28;01mas\u001b[39;00m exc:\n\u001b[1;32m    152\u001b[0m     \u001b[38;5;66;03m# defer to shared logic for handling errors\u001b[39;00m\n\u001b[0;32m--> 153\u001b[0m     \u001b[43m_retry_error_helper\u001b[49m\u001b[43m(\u001b[49m\n\u001b[1;32m    154\u001b[0m \u001b[43m        \u001b[49m\u001b[43mexc\u001b[49m\u001b[43m,\u001b[49m\n\u001b[1;32m    155\u001b[0m \u001b[43m        \u001b[49m\u001b[43mdeadline\u001b[49m\u001b[43m,\u001b[49m\n\u001b[1;32m    156\u001b[0m \u001b[43m        \u001b[49m\u001b[43msleep\u001b[49m\u001b[43m,\u001b[49m\n\u001b[1;32m    157\u001b[0m \u001b[43m        \u001b[49m\u001b[43merror_list\u001b[49m\u001b[43m,\u001b[49m\n\u001b[1;32m    158\u001b[0m \u001b[43m        \u001b[49m\u001b[43mpredicate\u001b[49m\u001b[43m,\u001b[49m\n\u001b[1;32m    159\u001b[0m \u001b[43m        \u001b[49m\u001b[43mon_error\u001b[49m\u001b[43m,\u001b[49m\n\u001b[1;32m    160\u001b[0m \u001b[43m        \u001b[49m\u001b[43mexception_factory\u001b[49m\u001b[43m,\u001b[49m\n\u001b[1;32m    161\u001b[0m \u001b[43m        \u001b[49m\u001b[43mtimeout\u001b[49m\u001b[43m,\u001b[49m\n\u001b[1;32m    162\u001b[0m \u001b[43m    \u001b[49m\u001b[43m)\u001b[49m\n\u001b[1;32m    163\u001b[0m     \u001b[38;5;66;03m# if exception not raised, sleep before next attempt\u001b[39;00m\n\u001b[1;32m    164\u001b[0m     time\u001b[38;5;241m.\u001b[39msleep(sleep)\n",
      "File \u001b[0;32m/opt/homebrew/Caskroom/miniconda/base/envs/dsproj/lib/python3.9/site-packages/google/api_core/retry/retry_base.py:212\u001b[0m, in \u001b[0;36m_retry_error_helper\u001b[0;34m(exc, deadline, next_sleep, error_list, predicate_fn, on_error_fn, exc_factory_fn, original_timeout)\u001b[0m\n\u001b[1;32m    206\u001b[0m \u001b[38;5;28;01mif\u001b[39;00m \u001b[38;5;129;01mnot\u001b[39;00m predicate_fn(exc):\n\u001b[1;32m    207\u001b[0m     final_exc, source_exc \u001b[38;5;241m=\u001b[39m exc_factory_fn(\n\u001b[1;32m    208\u001b[0m         error_list,\n\u001b[1;32m    209\u001b[0m         RetryFailureReason\u001b[38;5;241m.\u001b[39mNON_RETRYABLE_ERROR,\n\u001b[1;32m    210\u001b[0m         original_timeout,\n\u001b[1;32m    211\u001b[0m     )\n\u001b[0;32m--> 212\u001b[0m     \u001b[38;5;28;01mraise\u001b[39;00m final_exc \u001b[38;5;28;01mfrom\u001b[39;00m \u001b[38;5;21;01msource_exc\u001b[39;00m\n\u001b[1;32m    213\u001b[0m \u001b[38;5;28;01mif\u001b[39;00m on_error_fn \u001b[38;5;129;01mis\u001b[39;00m \u001b[38;5;129;01mnot\u001b[39;00m \u001b[38;5;28;01mNone\u001b[39;00m:\n\u001b[1;32m    214\u001b[0m     on_error_fn(exc)\n",
      "File \u001b[0;32m/opt/homebrew/Caskroom/miniconda/base/envs/dsproj/lib/python3.9/site-packages/google/api_core/retry/retry_unary.py:144\u001b[0m, in \u001b[0;36mretry_target\u001b[0;34m(target, predicate, sleep_generator, timeout, on_error, exception_factory, **kwargs)\u001b[0m\n\u001b[1;32m    142\u001b[0m \u001b[38;5;28;01mfor\u001b[39;00m sleep \u001b[38;5;129;01min\u001b[39;00m sleep_generator:\n\u001b[1;32m    143\u001b[0m     \u001b[38;5;28;01mtry\u001b[39;00m:\n\u001b[0;32m--> 144\u001b[0m         result \u001b[38;5;241m=\u001b[39m \u001b[43mtarget\u001b[49m\u001b[43m(\u001b[49m\u001b[43m)\u001b[49m\n\u001b[1;32m    145\u001b[0m         \u001b[38;5;28;01mif\u001b[39;00m inspect\u001b[38;5;241m.\u001b[39misawaitable(result):\n\u001b[1;32m    146\u001b[0m             warnings\u001b[38;5;241m.\u001b[39mwarn(_ASYNC_RETRY_WARNING)\n",
      "File \u001b[0;32m/opt/homebrew/Caskroom/miniconda/base/envs/dsproj/lib/python3.9/site-packages/google/api_core/timeout.py:120\u001b[0m, in \u001b[0;36mTimeToDeadlineTimeout.__call__.<locals>.func_with_timeout\u001b[0;34m(*args, **kwargs)\u001b[0m\n\u001b[1;32m    117\u001b[0m     \u001b[38;5;66;03m# Avoid setting negative timeout\u001b[39;00m\n\u001b[1;32m    118\u001b[0m     kwargs[\u001b[38;5;124m\"\u001b[39m\u001b[38;5;124mtimeout\u001b[39m\u001b[38;5;124m\"\u001b[39m] \u001b[38;5;241m=\u001b[39m \u001b[38;5;28mmax\u001b[39m(\u001b[38;5;241m0\u001b[39m, \u001b[38;5;28mself\u001b[39m\u001b[38;5;241m.\u001b[39m_timeout \u001b[38;5;241m-\u001b[39m time_since_first_attempt)\n\u001b[0;32m--> 120\u001b[0m \u001b[38;5;28;01mreturn\u001b[39;00m \u001b[43mfunc\u001b[49m\u001b[43m(\u001b[49m\u001b[38;5;241;43m*\u001b[39;49m\u001b[43margs\u001b[49m\u001b[43m,\u001b[49m\u001b[43m \u001b[49m\u001b[38;5;241;43m*\u001b[39;49m\u001b[38;5;241;43m*\u001b[39;49m\u001b[43mkwargs\u001b[49m\u001b[43m)\u001b[49m\n",
      "File \u001b[0;32m/opt/homebrew/Caskroom/miniconda/base/envs/dsproj/lib/python3.9/site-packages/google/api_core/grpc_helpers.py:78\u001b[0m, in \u001b[0;36m_wrap_unary_errors.<locals>.error_remapped_callable\u001b[0;34m(*args, **kwargs)\u001b[0m\n\u001b[1;32m     76\u001b[0m     \u001b[38;5;28;01mreturn\u001b[39;00m callable_(\u001b[38;5;241m*\u001b[39margs, \u001b[38;5;241m*\u001b[39m\u001b[38;5;241m*\u001b[39mkwargs)\n\u001b[1;32m     77\u001b[0m \u001b[38;5;28;01mexcept\u001b[39;00m grpc\u001b[38;5;241m.\u001b[39mRpcError \u001b[38;5;28;01mas\u001b[39;00m exc:\n\u001b[0;32m---> 78\u001b[0m     \u001b[38;5;28;01mraise\u001b[39;00m \u001b[43mexceptions\u001b[49m\u001b[38;5;241;43m.\u001b[39;49m\u001b[43mfrom_grpc_error\u001b[49m\u001b[43m(\u001b[49m\u001b[43mexc\u001b[49m\u001b[43m)\u001b[49m \u001b[38;5;28;01mfrom\u001b[39;00m \u001b[38;5;21;01mexc\u001b[39;00m\n",
      "File \u001b[0;32m/opt/homebrew/Caskroom/miniconda/base/envs/dsproj/lib/python3.9/site-packages/google/api_core/exceptions.py:616\u001b[0m, in \u001b[0;36mfrom_grpc_error\u001b[0;34m(rpc_exc)\u001b[0m\n\u001b[1;32m    611\u001b[0m \u001b[38;5;66;03m# NOTE(lidiz) All gRPC error shares the parent class grpc.RpcError.\u001b[39;00m\n\u001b[1;32m    612\u001b[0m \u001b[38;5;66;03m# However, check for grpc.RpcError breaks backward compatibility.\u001b[39;00m\n\u001b[1;32m    613\u001b[0m \u001b[38;5;28;01mif\u001b[39;00m (\n\u001b[1;32m    614\u001b[0m     grpc \u001b[38;5;129;01mis\u001b[39;00m \u001b[38;5;129;01mnot\u001b[39;00m \u001b[38;5;28;01mNone\u001b[39;00m \u001b[38;5;129;01mand\u001b[39;00m \u001b[38;5;28misinstance\u001b[39m(rpc_exc, grpc\u001b[38;5;241m.\u001b[39mCall)\n\u001b[1;32m    615\u001b[0m ) \u001b[38;5;129;01mor\u001b[39;00m _is_informative_grpc_error(rpc_exc):\n\u001b[0;32m--> 616\u001b[0m     details, err_info \u001b[38;5;241m=\u001b[39m \u001b[43m_parse_grpc_error_details\u001b[49m\u001b[43m(\u001b[49m\u001b[43mrpc_exc\u001b[49m\u001b[43m)\u001b[49m\n\u001b[1;32m    617\u001b[0m     \u001b[38;5;28;01mreturn\u001b[39;00m from_grpc_status(\n\u001b[1;32m    618\u001b[0m         rpc_exc\u001b[38;5;241m.\u001b[39mcode(),\n\u001b[1;32m    619\u001b[0m         rpc_exc\u001b[38;5;241m.\u001b[39mdetails(),\n\u001b[0;32m   (...)\u001b[0m\n\u001b[1;32m    623\u001b[0m         error_info\u001b[38;5;241m=\u001b[39merr_info,\n\u001b[1;32m    624\u001b[0m     )\n\u001b[1;32m    625\u001b[0m \u001b[38;5;28;01melse\u001b[39;00m:\n",
      "File \u001b[0;32m/opt/homebrew/Caskroom/miniconda/base/envs/dsproj/lib/python3.9/site-packages/google/api_core/exceptions.py:564\u001b[0m, in \u001b[0;36m_parse_grpc_error_details\u001b[0;34m(rpc_exc)\u001b[0m\n\u001b[1;32m    562\u001b[0m \u001b[38;5;28;01mdef\u001b[39;00m \u001b[38;5;21m_parse_grpc_error_details\u001b[39m(rpc_exc):\n\u001b[1;32m    563\u001b[0m     \u001b[38;5;28;01mtry\u001b[39;00m:\n\u001b[0;32m--> 564\u001b[0m         status \u001b[38;5;241m=\u001b[39m \u001b[43mrpc_status\u001b[49m\u001b[38;5;241;43m.\u001b[39;49m\u001b[43mfrom_call\u001b[49m(rpc_exc)\n\u001b[1;32m    565\u001b[0m     \u001b[38;5;28;01mexcept\u001b[39;00m \u001b[38;5;167;01mNotImplementedError\u001b[39;00m:  \u001b[38;5;66;03m# workaround\u001b[39;00m\n\u001b[1;32m    566\u001b[0m         \u001b[38;5;28;01mreturn\u001b[39;00m [], \u001b[38;5;28;01mNone\u001b[39;00m\n",
      "\u001b[0;31mAttributeError\u001b[0m: 'NoneType' object has no attribute 'from_call'"
     ]
    }
   ],
   "source": [
    "t_df[\"sentiment_gemini\"] = t_df[\"review\"][:3].apply(get_sentiment)"
   ]
  },
  {
   "cell_type": "code",
   "execution_count": null,
   "metadata": {},
   "outputs": [
    {
     "data": {
      "text/plain": [
       "0        None\n",
       "1    positive\n",
       "2        None\n",
       "Name: sentiment_gemini, dtype: object"
      ]
     },
     "execution_count": 38,
     "metadata": {},
     "output_type": "execute_result"
    }
   ],
   "source": [
    "t_df[\"sentiment_gemini\"][:3]"
   ]
  },
  {
   "cell_type": "markdown",
   "metadata": {},
   "source": [
    "Retry with Gemini API"
   ]
  },
  {
   "cell_type": "markdown",
   "metadata": {},
   "source": [
    "**Testing with Gemini API**"
   ]
  },
  {
   "cell_type": "code",
   "execution_count": null,
   "metadata": {},
   "outputs": [],
   "source": [
    "import pandas as pd\n",
    "# Dummy DataFrame\n",
    "g_df = pd.DataFrame({'review': ['This movie was amazing!', 'I hated this book.', 'Not bad, but not great.']})"
   ]
  },
  {
   "cell_type": "markdown",
   "metadata": {},
   "source": [
    "Using Gemini API: system instruction to steer behaviour of model. It initializes the model with your preferred context for the prompt-repsonse behaviour. \"Product-level behavior can be specified here, separate from prompts provided by end users.\" - Google Docs"
   ]
  },
  {
   "cell_type": "code",
   "execution_count": null,
   "metadata": {},
   "outputs": [
    {
     "name": "stdout",
     "output_type": "stream",
     "text": [
      "                    review    sentiment\n",
      "0  This movie was amazing!  Positive \\n\n",
      "1       I hated this book.  Negative \\n\n",
      "2  Not bad, but not great.   Neutral \\n\n"
     ]
    }
   ],
   "source": [
    "model=genai.GenerativeModel(\n",
    "  model_name=\"gemini-1.5-flash\",\n",
    "  system_instruction=\"You are customer review sentiment analyzer. You reply with positive, negative or neutral.\") #system instructions to steer behaviour of model\n",
    "\n",
    "# You are customer review sentiment analyzer for medical drugs review. You reply with positive, negative or neutral.\n",
    "# Define a function to get the sentiment of a review using Gemini API\n",
    "def get_sentiment(review):\n",
    "    \n",
    "    # Send the prompt to the Gemini API\n",
    "    response = model.generate_content(review)\n",
    "    \n",
    "    # Extract the sentiment result\n",
    "    return response.text\n",
    "\n",
    "# Apply the function to the 'review' column\n",
    "g_df['sentiment'] = g_df['review'].apply(get_sentiment)\n",
    "\n",
    "# Print the updated DataFrame\n",
    "print(g_df)"
   ]
  },
  {
   "cell_type": "markdown",
   "metadata": {},
   "source": [
    "The above results depict the accurate performance of the testing with Gemini API"
   ]
  },
  {
   "cell_type": "markdown",
   "metadata": {},
   "source": [
    "Now further testing on dataset"
   ]
  },
  {
   "cell_type": "code",
   "execution_count": null,
   "metadata": {},
   "outputs": [
    {
     "data": {
      "text/html": [
       "<div>\n",
       "<style scoped>\n",
       "    .dataframe tbody tr th:only-of-type {\n",
       "        vertical-align: middle;\n",
       "    }\n",
       "\n",
       "    .dataframe tbody tr th {\n",
       "        vertical-align: top;\n",
       "    }\n",
       "\n",
       "    .dataframe thead th {\n",
       "        text-align: right;\n",
       "    }\n",
       "</style>\n",
       "<table border=\"1\" class=\"dataframe\">\n",
       "  <thead>\n",
       "    <tr style=\"text-align: right;\">\n",
       "      <th></th>\n",
       "      <th>drugName</th>\n",
       "      <th>condition</th>\n",
       "      <th>review</th>\n",
       "      <th>rating</th>\n",
       "      <th>date</th>\n",
       "      <th>usefulCount</th>\n",
       "      <th>prep_review</th>\n",
       "      <th>prep_review_token</th>\n",
       "      <th>prep_review_stpwrd</th>\n",
       "    </tr>\n",
       "  </thead>\n",
       "  <tbody>\n",
       "    <tr>\n",
       "      <th>0</th>\n",
       "      <td>Valsartan</td>\n",
       "      <td>Left Ventricular Dysfunction</td>\n",
       "      <td>\"It has no side effect, I take it in combinati...</td>\n",
       "      <td>9</td>\n",
       "      <td>2012-05-20</td>\n",
       "      <td>27</td>\n",
       "      <td>it have no side effect I take it in combinatio...</td>\n",
       "      <td>['it', 'have', 'no', 'side', 'effect', 'I', 't...</td>\n",
       "      <td>effect combination bystolic mg fish oil</td>\n",
       "    </tr>\n",
       "    <tr>\n",
       "      <th>1</th>\n",
       "      <td>Guanfacine</td>\n",
       "      <td>ADHD</td>\n",
       "      <td>\"My son is halfway through his fourth week of ...</td>\n",
       "      <td>8</td>\n",
       "      <td>2010-04-27</td>\n",
       "      <td>192</td>\n",
       "      <td>my son be halfway through his fourth week of i...</td>\n",
       "      <td>['my', 'son', 'be', 'halfway', 'through', 'his...</td>\n",
       "      <td>son halfway fourth week intuniv concerned begi...</td>\n",
       "    </tr>\n",
       "    <tr>\n",
       "      <th>2</th>\n",
       "      <td>Lybrel</td>\n",
       "      <td>Birth Control</td>\n",
       "      <td>\"I used to take another oral contraceptive, wh...</td>\n",
       "      <td>5</td>\n",
       "      <td>2009-12-14</td>\n",
       "      <td>17</td>\n",
       "      <td>I use to take another oral contraceptive which...</td>\n",
       "      <td>['I', 'use', 'to', 'take', 'another', 'oral', ...</td>\n",
       "      <td>oral contraceptive pill cycle happy light peri...</td>\n",
       "    </tr>\n",
       "    <tr>\n",
       "      <th>3</th>\n",
       "      <td>Ortho Evra</td>\n",
       "      <td>Birth Control</td>\n",
       "      <td>\"This is my first time using any form of birth...</td>\n",
       "      <td>8</td>\n",
       "      <td>2015-11-03</td>\n",
       "      <td>10</td>\n",
       "      <td>this be my first time use any form of birth co...</td>\n",
       "      <td>['this', 'be', 'my', 'first', 'time', 'use', '...</td>\n",
       "      <td>time form birth control m glad go patch month ...</td>\n",
       "    </tr>\n",
       "    <tr>\n",
       "      <th>4</th>\n",
       "      <td>Buprenorphine / naloxone</td>\n",
       "      <td>Opiate Dependence</td>\n",
       "      <td>\"Suboxone has completely turned my life around...</td>\n",
       "      <td>9</td>\n",
       "      <td>2016-11-27</td>\n",
       "      <td>37</td>\n",
       "      <td>suboxone have completely turn my life around I...</td>\n",
       "      <td>['suboxone', 'have', 'completely', 'turn', 'my...</td>\n",
       "      <td>suboxone completely turn life feel healthy m e...</td>\n",
       "    </tr>\n",
       "  </tbody>\n",
       "</table>\n",
       "</div>"
      ],
      "text/plain": [
       "                   drugName                     condition  \\\n",
       "0                 Valsartan  Left Ventricular Dysfunction   \n",
       "1                Guanfacine                          ADHD   \n",
       "2                    Lybrel                 Birth Control   \n",
       "3                Ortho Evra                 Birth Control   \n",
       "4  Buprenorphine / naloxone             Opiate Dependence   \n",
       "\n",
       "                                              review  rating        date  \\\n",
       "0  \"It has no side effect, I take it in combinati...       9  2012-05-20   \n",
       "1  \"My son is halfway through his fourth week of ...       8  2010-04-27   \n",
       "2  \"I used to take another oral contraceptive, wh...       5  2009-12-14   \n",
       "3  \"This is my first time using any form of birth...       8  2015-11-03   \n",
       "4  \"Suboxone has completely turned my life around...       9  2016-11-27   \n",
       "\n",
       "   usefulCount                                        prep_review  \\\n",
       "0           27  it have no side effect I take it in combinatio...   \n",
       "1          192  my son be halfway through his fourth week of i...   \n",
       "2           17  I use to take another oral contraceptive which...   \n",
       "3           10  this be my first time use any form of birth co...   \n",
       "4           37  suboxone have completely turn my life around I...   \n",
       "\n",
       "                                   prep_review_token  \\\n",
       "0  ['it', 'have', 'no', 'side', 'effect', 'I', 't...   \n",
       "1  ['my', 'son', 'be', 'halfway', 'through', 'his...   \n",
       "2  ['I', 'use', 'to', 'take', 'another', 'oral', ...   \n",
       "3  ['this', 'be', 'my', 'first', 'time', 'use', '...   \n",
       "4  ['suboxone', 'have', 'completely', 'turn', 'my...   \n",
       "\n",
       "                                  prep_review_stpwrd  \n",
       "0            effect combination bystolic mg fish oil  \n",
       "1  son halfway fourth week intuniv concerned begi...  \n",
       "2  oral contraceptive pill cycle happy light peri...  \n",
       "3  time form birth control m glad go patch month ...  \n",
       "4  suboxone completely turn life feel healthy m e...  "
      ]
     },
     "execution_count": 26,
     "metadata": {},
     "output_type": "execute_result"
    }
   ],
   "source": [
    "# Checking out copied dataframe\n",
    "t_df[:5]"
   ]
  },
  {
   "cell_type": "code",
   "execution_count": null,
   "metadata": {},
   "outputs": [],
   "source": [
    "model=genai.GenerativeModel(\n",
    "  model_name=\"gemini-1.5-flash\",\n",
    "  system_instruction=\"You are customer review sentiment analyzer for medical drugs review. You reply only with Positve, Negative or Neutral.\") #system instructions to steer behaviour of model\n",
    "\n",
    "# import enum\n",
    "# Define a function to get the sentiment of a review using Gemini API\n",
    "def get_sentiment(review):\n",
    "    \n",
    "    # Send the prompt to the Gemini API\n",
    "    response = model.generate_content(review,\n",
    "                                     safety_settings=[\n",
    "    {\"category\": \"HARM_CATEGORY_DANGEROUS_CONTENT\", \"threshold\": \"BLOCK_NONE\"},\n",
    "    {\"category\": \"HARM_CATEGORY_SEXUALLY_EXPLICIT\", \"threshold\": \"BLOCK_NONE\"},\n",
    "    {\"category\": \"HARM_CATEGORY_HATE_SPEECH\", \"threshold\": \"BLOCK_NONE\"},\n",
    "    {\"category\": \"HARM_CATEGORY_HARASSMENT\", \"threshold\": \"BLOCK_NONE\"} #safety settings turned off as the review does have sex-related content.\n",
    "],\n",
    "\n",
    "                                      generation_config=genai.GenerationConfig(\n",
    "        response_mime_type=\"text/x.enum\",\n",
    "        response_schema={\n",
    "            \"type\": \"STRING\",\n",
    "            \"enum\": [\"Positve\", \"Negative\", \"Neutral\"], # using enum for structured output as google docs\n",
    "           }\n",
    "        )\n",
    "    )\n",
    "\n",
    "    \n",
    "    # Extract the sentiment result\n",
    "    return response.text"
   ]
  },
  {
   "cell_type": "markdown",
   "metadata": {},
   "source": [
    "Lets first test the model on 10 reviews of the dataset"
   ]
  },
  {
   "cell_type": "code",
   "execution_count": null,
   "metadata": {},
   "outputs": [
    {
     "data": {
      "text/html": [
       "<div>\n",
       "<style scoped>\n",
       "    .dataframe tbody tr th:only-of-type {\n",
       "        vertical-align: middle;\n",
       "    }\n",
       "\n",
       "    .dataframe tbody tr th {\n",
       "        vertical-align: top;\n",
       "    }\n",
       "\n",
       "    .dataframe thead th {\n",
       "        text-align: right;\n",
       "    }\n",
       "</style>\n",
       "<table border=\"1\" class=\"dataframe\">\n",
       "  <thead>\n",
       "    <tr style=\"text-align: right;\">\n",
       "      <th></th>\n",
       "      <th>drugName</th>\n",
       "      <th>condition</th>\n",
       "      <th>review</th>\n",
       "      <th>rating</th>\n",
       "      <th>date</th>\n",
       "      <th>usefulCount</th>\n",
       "      <th>prep_review</th>\n",
       "      <th>prep_review_token</th>\n",
       "      <th>prep_review_stpwrd</th>\n",
       "      <th>sentiment</th>\n",
       "    </tr>\n",
       "  </thead>\n",
       "  <tbody>\n",
       "    <tr>\n",
       "      <th>0</th>\n",
       "      <td>Valsartan</td>\n",
       "      <td>Left Ventricular Dysfunction</td>\n",
       "      <td>\"It has no side effect, I take it in combinati...</td>\n",
       "      <td>9</td>\n",
       "      <td>2012-05-20</td>\n",
       "      <td>27</td>\n",
       "      <td>it have no side effect I take it in combinatio...</td>\n",
       "      <td>['it', 'have', 'no', 'side', 'effect', 'I', 't...</td>\n",
       "      <td>effect combination bystolic mg fish oil</td>\n",
       "      <td>Neutral</td>\n",
       "    </tr>\n",
       "    <tr>\n",
       "      <th>1</th>\n",
       "      <td>Guanfacine</td>\n",
       "      <td>ADHD</td>\n",
       "      <td>\"My son is halfway through his fourth week of ...</td>\n",
       "      <td>8</td>\n",
       "      <td>2010-04-27</td>\n",
       "      <td>192</td>\n",
       "      <td>my son be halfway through his fourth week of i...</td>\n",
       "      <td>['my', 'son', 'be', 'halfway', 'through', 'his...</td>\n",
       "      <td>son halfway fourth week intuniv concerned begi...</td>\n",
       "      <td>Neutral</td>\n",
       "    </tr>\n",
       "    <tr>\n",
       "      <th>2</th>\n",
       "      <td>Lybrel</td>\n",
       "      <td>Birth Control</td>\n",
       "      <td>\"I used to take another oral contraceptive, wh...</td>\n",
       "      <td>5</td>\n",
       "      <td>2009-12-14</td>\n",
       "      <td>17</td>\n",
       "      <td>I use to take another oral contraceptive which...</td>\n",
       "      <td>['I', 'use', 'to', 'take', 'another', 'oral', ...</td>\n",
       "      <td>oral contraceptive pill cycle happy light peri...</td>\n",
       "      <td>Negative</td>\n",
       "    </tr>\n",
       "    <tr>\n",
       "      <th>3</th>\n",
       "      <td>Ortho Evra</td>\n",
       "      <td>Birth Control</td>\n",
       "      <td>\"This is my first time using any form of birth...</td>\n",
       "      <td>8</td>\n",
       "      <td>2015-11-03</td>\n",
       "      <td>10</td>\n",
       "      <td>this be my first time use any form of birth co...</td>\n",
       "      <td>['this', 'be', 'my', 'first', 'time', 'use', '...</td>\n",
       "      <td>time form birth control m glad go patch month ...</td>\n",
       "      <td>Neutral</td>\n",
       "    </tr>\n",
       "    <tr>\n",
       "      <th>4</th>\n",
       "      <td>Buprenorphine / naloxone</td>\n",
       "      <td>Opiate Dependence</td>\n",
       "      <td>\"Suboxone has completely turned my life around...</td>\n",
       "      <td>9</td>\n",
       "      <td>2016-11-27</td>\n",
       "      <td>37</td>\n",
       "      <td>suboxone have completely turn my life around I...</td>\n",
       "      <td>['suboxone', 'have', 'completely', 'turn', 'my...</td>\n",
       "      <td>suboxone completely turn life feel healthy m e...</td>\n",
       "      <td>Positve</td>\n",
       "    </tr>\n",
       "    <tr>\n",
       "      <th>5</th>\n",
       "      <td>Cialis</td>\n",
       "      <td>Benign Prostatic Hyperplasia</td>\n",
       "      <td>\"2nd day on 5mg started to work with rock hard...</td>\n",
       "      <td>2</td>\n",
       "      <td>2015-11-28</td>\n",
       "      <td>43</td>\n",
       "      <td>2nd day on 5 mg start to work with rock hard e...</td>\n",
       "      <td>['2nd', 'day', 'on', '5', 'mg', 'start', 'to',...</td>\n",
       "      <td>2nd day 5 mg start work rock hard erection exp...</td>\n",
       "      <td>Negative</td>\n",
       "    </tr>\n",
       "    <tr>\n",
       "      <th>6</th>\n",
       "      <td>Levonorgestrel</td>\n",
       "      <td>Emergency Contraception</td>\n",
       "      <td>\"He pulled out, but he cummed a bit in me. I t...</td>\n",
       "      <td>1</td>\n",
       "      <td>2017-03-07</td>\n",
       "      <td>5</td>\n",
       "      <td>he pull out but he cumme a bit in I I take the...</td>\n",
       "      <td>['he', 'pull', 'out', 'but', 'he', 'cumme', 'a...</td>\n",
       "      <td>pull cumme bit take plan b hour later take pre...</td>\n",
       "      <td>Negative</td>\n",
       "    </tr>\n",
       "    <tr>\n",
       "      <th>7</th>\n",
       "      <td>Aripiprazole</td>\n",
       "      <td>Bipolar Disorde</td>\n",
       "      <td>\"Abilify changed my life. There is hope. I was...</td>\n",
       "      <td>10</td>\n",
       "      <td>2015-03-14</td>\n",
       "      <td>32</td>\n",
       "      <td>abilify change my life there be hope I be on z...</td>\n",
       "      <td>['abilify', 'change', 'my', 'life', 'there', '...</td>\n",
       "      <td>abilify change life hope zoloft clonidine star...</td>\n",
       "      <td>Positve</td>\n",
       "    </tr>\n",
       "    <tr>\n",
       "      <th>8</th>\n",
       "      <td>Keppra</td>\n",
       "      <td>Epilepsy</td>\n",
       "      <td>\" I Ve had  nothing but problems with the Kepp...</td>\n",
       "      <td>1</td>\n",
       "      <td>2016-08-09</td>\n",
       "      <td>11</td>\n",
       "      <td>I ve have nothing but problem with the keppera...</td>\n",
       "      <td>['I', 've', 'have', 'nothing', 'but', 'problem...</td>\n",
       "      <td>ve problem keppera constant shake arm amp leg ...</td>\n",
       "      <td>Negative</td>\n",
       "    </tr>\n",
       "    <tr>\n",
       "      <th>9</th>\n",
       "      <td>Ethinyl estradiol / levonorgestrel</td>\n",
       "      <td>Birth Control</td>\n",
       "      <td>\"I had been on the pill for many years. When m...</td>\n",
       "      <td>8</td>\n",
       "      <td>2016-12-08</td>\n",
       "      <td>1</td>\n",
       "      <td>I have be on the pill for many year when my do...</td>\n",
       "      <td>['I', 'have', 'be', 'on', 'the', 'pill', 'for'...</td>\n",
       "      <td>pill year doctor change rx chateal effective h...</td>\n",
       "      <td>Negative</td>\n",
       "    </tr>\n",
       "  </tbody>\n",
       "</table>\n",
       "</div>"
      ],
      "text/plain": [
       "                             drugName                     condition  \\\n",
       "0                           Valsartan  Left Ventricular Dysfunction   \n",
       "1                          Guanfacine                          ADHD   \n",
       "2                              Lybrel                 Birth Control   \n",
       "3                          Ortho Evra                 Birth Control   \n",
       "4            Buprenorphine / naloxone             Opiate Dependence   \n",
       "5                              Cialis  Benign Prostatic Hyperplasia   \n",
       "6                      Levonorgestrel       Emergency Contraception   \n",
       "7                        Aripiprazole               Bipolar Disorde   \n",
       "8                              Keppra                      Epilepsy   \n",
       "9  Ethinyl estradiol / levonorgestrel                 Birth Control   \n",
       "\n",
       "                                              review  rating        date  \\\n",
       "0  \"It has no side effect, I take it in combinati...       9  2012-05-20   \n",
       "1  \"My son is halfway through his fourth week of ...       8  2010-04-27   \n",
       "2  \"I used to take another oral contraceptive, wh...       5  2009-12-14   \n",
       "3  \"This is my first time using any form of birth...       8  2015-11-03   \n",
       "4  \"Suboxone has completely turned my life around...       9  2016-11-27   \n",
       "5  \"2nd day on 5mg started to work with rock hard...       2  2015-11-28   \n",
       "6  \"He pulled out, but he cummed a bit in me. I t...       1  2017-03-07   \n",
       "7  \"Abilify changed my life. There is hope. I was...      10  2015-03-14   \n",
       "8  \" I Ve had  nothing but problems with the Kepp...       1  2016-08-09   \n",
       "9  \"I had been on the pill for many years. When m...       8  2016-12-08   \n",
       "\n",
       "   usefulCount                                        prep_review  \\\n",
       "0           27  it have no side effect I take it in combinatio...   \n",
       "1          192  my son be halfway through his fourth week of i...   \n",
       "2           17  I use to take another oral contraceptive which...   \n",
       "3           10  this be my first time use any form of birth co...   \n",
       "4           37  suboxone have completely turn my life around I...   \n",
       "5           43  2nd day on 5 mg start to work with rock hard e...   \n",
       "6            5  he pull out but he cumme a bit in I I take the...   \n",
       "7           32  abilify change my life there be hope I be on z...   \n",
       "8           11  I ve have nothing but problem with the keppera...   \n",
       "9            1  I have be on the pill for many year when my do...   \n",
       "\n",
       "                                   prep_review_token  \\\n",
       "0  ['it', 'have', 'no', 'side', 'effect', 'I', 't...   \n",
       "1  ['my', 'son', 'be', 'halfway', 'through', 'his...   \n",
       "2  ['I', 'use', 'to', 'take', 'another', 'oral', ...   \n",
       "3  ['this', 'be', 'my', 'first', 'time', 'use', '...   \n",
       "4  ['suboxone', 'have', 'completely', 'turn', 'my...   \n",
       "5  ['2nd', 'day', 'on', '5', 'mg', 'start', 'to',...   \n",
       "6  ['he', 'pull', 'out', 'but', 'he', 'cumme', 'a...   \n",
       "7  ['abilify', 'change', 'my', 'life', 'there', '...   \n",
       "8  ['I', 've', 'have', 'nothing', 'but', 'problem...   \n",
       "9  ['I', 'have', 'be', 'on', 'the', 'pill', 'for'...   \n",
       "\n",
       "                                  prep_review_stpwrd sentiment  \n",
       "0            effect combination bystolic mg fish oil   Neutral  \n",
       "1  son halfway fourth week intuniv concerned begi...   Neutral  \n",
       "2  oral contraceptive pill cycle happy light peri...  Negative  \n",
       "3  time form birth control m glad go patch month ...   Neutral  \n",
       "4  suboxone completely turn life feel healthy m e...   Positve  \n",
       "5  2nd day 5 mg start work rock hard erection exp...  Negative  \n",
       "6  pull cumme bit take plan b hour later take pre...  Negative  \n",
       "7  abilify change life hope zoloft clonidine star...   Positve  \n",
       "8  ve problem keppera constant shake arm amp leg ...  Negative  \n",
       "9  pill year doctor change rx chateal effective h...  Negative  "
      ]
     },
     "execution_count": 65,
     "metadata": {},
     "output_type": "execute_result"
    }
   ],
   "source": [
    "# Apply the function to the 'review' column\n",
    "t_df['sentiment'] = t_df['review'][:].apply(get_sentiment)\n",
    "\n",
    "# Print the updated DataFrame\n",
    "t_df[:10]"
   ]
  },
  {
   "cell_type": "code",
   "execution_count": null,
   "metadata": {},
   "outputs": [
    {
     "data": {
      "text/plain": [
       "'Negative'"
      ]
     },
     "execution_count": 66,
     "metadata": {},
     "output_type": "execute_result"
    }
   ],
   "source": [
    "t_df[\"sentiment\"].iloc[5]"
   ]
  },
  {
   "cell_type": "code",
   "execution_count": null,
   "metadata": {},
   "outputs": [
    {
     "data": {
      "text/plain": [
       "(161297, 10)"
      ]
     },
     "execution_count": 34,
     "metadata": {},
     "output_type": "execute_result"
    }
   ],
   "source": [
    "t_df.shape"
   ]
  },
  {
   "cell_type": "markdown",
   "metadata": {},
   "source": [
    "Now applying the model on large number of rows testing the api call limit"
   ]
  },
  {
   "cell_type": "code",
   "execution_count": null,
   "metadata": {},
   "outputs": [],
   "source": [
    "# Apply the function to the 'review' column\n",
    "t_df['sentiment'] = t_df['review'][:500].apply(get_sentiment)\n",
    "\n",
    "# Print the updated DataFrame\n",
    "t_df[:500] # can't call api error message"
   ]
  },
  {
   "cell_type": "markdown",
   "metadata": {},
   "source": [
    "Getting an *error* as the `API call free version` is `limited` in the `Requests per Minute`. But the experiment on the small scale of data showcases promising capabilities of the model/experimentation."
   ]
  },
  {
   "cell_type": "markdown",
   "metadata": {},
   "source": [
    "#### Text Summarization Experiment"
   ]
  },
  {
   "cell_type": "markdown",
   "metadata": {},
   "source": [
    "Now lets conduct experiment on summarising the reviews for each drug using gemini.\n"
   ]
  },
  {
   "cell_type": "markdown",
   "metadata": {},
   "source": [
    "As we know the usage limitation Gemini API, we will experiment on a smaller scale of data, i,e, using 1 or 2 drugNames."
   ]
  },
  {
   "cell_type": "code",
   "execution_count": null,
   "metadata": {},
   "outputs": [],
   "source": [
    "s_df = df.copy() # sample dataframe for summarization experiment"
   ]
  },
  {
   "cell_type": "code",
   "execution_count": null,
   "metadata": {},
   "outputs": [],
   "source": [
    "# drug_counts = s_df[\"drugName\"].value_counts()\n",
    "\n",
    "# # Use boolean indexing with map to filter out drug names with a count of 100 or more\n",
    "# s_df[s_df[\"drugName\"].map(drug_counts) ==100]\n",
    "# s_df.groupby(\"drugName\").filter(lambda x: len(x) == 100)"
   ]
  },
  {
   "cell_type": "code",
   "execution_count": null,
   "metadata": {},
   "outputs": [],
   "source": [
    "# # Get the value counts for each drugName\n",
    "# drug_counts = s_df[\"drugName\"].value_counts()\n",
    "\n",
    "# # Filter drug names based on their occurrence being less than 100\n",
    "# filtered_drug_names = drug_counts[drug_counts == 100].index"
   ]
  },
  {
   "cell_type": "code",
   "execution_count": null,
   "metadata": {},
   "outputs": [
    {
     "data": {
      "text/plain": [
       "drugName                         condition                \n",
       "Effexor XR                       Anxiety                      99\n",
       "Bystolic                         High Blood Pressure          99\n",
       "Euflexxa                         Osteoarthritis               98\n",
       "Paxil                            Depression                   98\n",
       "Monistat 3-Day Combination Pack  Vaginal Yeast Infection      98\n",
       "                                                              ..\n",
       "Keytruda                         Melanoma                      1\n",
       "                                 Non-Small Cell Lung Cance     1\n",
       "Kineret                          Schnitzler Syndrome           1\n",
       "Kionex                           Hyperkalemia                  1\n",
       "femhrt                           Postmenopausal Symptoms       1\n",
       "Name: count, Length: 8176, dtype: int64"
      ]
     },
     "execution_count": 202,
     "metadata": {},
     "output_type": "execute_result"
    }
   ],
   "source": [
    "# s_df.loc[ \n",
    "s_df[[\"drugName\", 'condition']].value_counts()[s_df[[\"drugName\", 'condition']].value_counts() < 100] #] #[[\"drugName\", \"condition\"]].\n",
    "\n",
    "# Lets select Paxil and depression for analysis"
   ]
  },
  {
   "cell_type": "code",
   "execution_count": null,
   "metadata": {},
   "outputs": [],
   "source": [
    "# filter_df = s_df.groupby(\"drugName\").filter(lambda x: len(x) == 100)"
   ]
  },
  {
   "cell_type": "code",
   "execution_count": null,
   "metadata": {},
   "outputs": [],
   "source": [
    "# filter_df = filter_df.drop(columns=['date', 'prep_review', 'prep_review_token', 'prep_review_stpwrd'])"
   ]
  },
  {
   "cell_type": "code",
   "execution_count": null,
   "metadata": {},
   "outputs": [],
   "source": [
    "# n_drug = filter_df.loc[filter_df['drugName'].isin(['Naloxegol'])] # or filter_df[filter_df['drugName'] == 'Naloxegol']\n",
    "# n_drug"
   ]
  },
  {
   "cell_type": "code",
   "execution_count": null,
   "metadata": {},
   "outputs": [
    {
     "data": {
      "text/html": [
       "<div>\n",
       "<style scoped>\n",
       "    .dataframe tbody tr th:only-of-type {\n",
       "        vertical-align: middle;\n",
       "    }\n",
       "\n",
       "    .dataframe tbody tr th {\n",
       "        vertical-align: top;\n",
       "    }\n",
       "\n",
       "    .dataframe thead th {\n",
       "        text-align: right;\n",
       "    }\n",
       "</style>\n",
       "<table border=\"1\" class=\"dataframe\">\n",
       "  <thead>\n",
       "    <tr style=\"text-align: right;\">\n",
       "      <th></th>\n",
       "      <th>drugName</th>\n",
       "      <th>condition</th>\n",
       "      <th>review</th>\n",
       "      <th>rating</th>\n",
       "      <th>usefulCount</th>\n",
       "    </tr>\n",
       "  </thead>\n",
       "  <tbody>\n",
       "    <tr>\n",
       "      <th>1236</th>\n",
       "      <td>Paxil</td>\n",
       "      <td>Depression</td>\n",
       "      <td>\"Paxil does help with depression, anxiety and ...</td>\n",
       "      <td>8</td>\n",
       "      <td>13</td>\n",
       "    </tr>\n",
       "    <tr>\n",
       "      <th>1656</th>\n",
       "      <td>Paxil</td>\n",
       "      <td>Depression</td>\n",
       "      <td>\"Significant weight gain experienced within a ...</td>\n",
       "      <td>4</td>\n",
       "      <td>26</td>\n",
       "    </tr>\n",
       "    <tr>\n",
       "      <th>2655</th>\n",
       "      <td>Paxil</td>\n",
       "      <td>Depression</td>\n",
       "      <td>\"I have taken Paxil for about 6 months. I have...</td>\n",
       "      <td>8</td>\n",
       "      <td>27</td>\n",
       "    </tr>\n",
       "    <tr>\n",
       "      <th>6357</th>\n",
       "      <td>Paxil</td>\n",
       "      <td>Depression</td>\n",
       "      <td>\"Paxil saved my life.  I was depressed and cou...</td>\n",
       "      <td>8</td>\n",
       "      <td>56</td>\n",
       "    </tr>\n",
       "    <tr>\n",
       "      <th>10721</th>\n",
       "      <td>Paxil</td>\n",
       "      <td>Depression</td>\n",
       "      <td>\"My depression is weird, mostly due to taperin...</td>\n",
       "      <td>7</td>\n",
       "      <td>14</td>\n",
       "    </tr>\n",
       "    <tr>\n",
       "      <th>...</th>\n",
       "      <td>...</td>\n",
       "      <td>...</td>\n",
       "      <td>...</td>\n",
       "      <td>...</td>\n",
       "      <td>...</td>\n",
       "    </tr>\n",
       "    <tr>\n",
       "      <th>153434</th>\n",
       "      <td>Paxil</td>\n",
       "      <td>Depression</td>\n",
       "      <td>\"The good:\\r\\n\\r\\n- Improved motivation\\r\\n- M...</td>\n",
       "      <td>5</td>\n",
       "      <td>17</td>\n",
       "    </tr>\n",
       "    <tr>\n",
       "      <th>155431</th>\n",
       "      <td>Paxil</td>\n",
       "      <td>Depression</td>\n",
       "      <td>\"I&amp;#039;ve been on Paxil for two months now an...</td>\n",
       "      <td>8</td>\n",
       "      <td>40</td>\n",
       "    </tr>\n",
       "    <tr>\n",
       "      <th>156530</th>\n",
       "      <td>Paxil</td>\n",
       "      <td>Depression</td>\n",
       "      <td>\"Took this med for a month at 20mg and I was o...</td>\n",
       "      <td>10</td>\n",
       "      <td>65</td>\n",
       "    </tr>\n",
       "    <tr>\n",
       "      <th>160239</th>\n",
       "      <td>Paxil</td>\n",
       "      <td>Depression</td>\n",
       "      <td>\"When I started Paxil 7 months ago I was clini...</td>\n",
       "      <td>10</td>\n",
       "      <td>108</td>\n",
       "    </tr>\n",
       "    <tr>\n",
       "      <th>160824</th>\n",
       "      <td>Paxil</td>\n",
       "      <td>Depression</td>\n",
       "      <td>\"It makes me tired\"</td>\n",
       "      <td>8</td>\n",
       "      <td>16</td>\n",
       "    </tr>\n",
       "  </tbody>\n",
       "</table>\n",
       "<p>98 rows × 5 columns</p>\n",
       "</div>"
      ],
      "text/plain": [
       "       drugName   condition  \\\n",
       "1236      Paxil  Depression   \n",
       "1656      Paxil  Depression   \n",
       "2655      Paxil  Depression   \n",
       "6357      Paxil  Depression   \n",
       "10721     Paxil  Depression   \n",
       "...         ...         ...   \n",
       "153434    Paxil  Depression   \n",
       "155431    Paxil  Depression   \n",
       "156530    Paxil  Depression   \n",
       "160239    Paxil  Depression   \n",
       "160824    Paxil  Depression   \n",
       "\n",
       "                                                   review  rating  usefulCount  \n",
       "1236    \"Paxil does help with depression, anxiety and ...       8           13  \n",
       "1656    \"Significant weight gain experienced within a ...       4           26  \n",
       "2655    \"I have taken Paxil for about 6 months. I have...       8           27  \n",
       "6357    \"Paxil saved my life.  I was depressed and cou...       8           56  \n",
       "10721   \"My depression is weird, mostly due to taperin...       7           14  \n",
       "...                                                   ...     ...          ...  \n",
       "153434  \"The good:\\r\\n\\r\\n- Improved motivation\\r\\n- M...       5           17  \n",
       "155431  \"I&#039;ve been on Paxil for two months now an...       8           40  \n",
       "156530  \"Took this med for a month at 20mg and I was o...      10           65  \n",
       "160239  \"When I started Paxil 7 months ago I was clini...      10          108  \n",
       "160824                                \"It makes me tired\"       8           16  \n",
       "\n",
       "[98 rows x 5 columns]"
      ]
     },
     "execution_count": 211,
     "metadata": {},
     "output_type": "execute_result"
    }
   ],
   "source": [
    "p_drug = s_df[(s_df['drugName'] == 'Paxil') & (s_df['condition'] == 'Depression')]\n",
    "\n",
    "p_drug = p_drug.drop(columns=['date', 'prep_review', 'prep_review_token', 'prep_review_stpwrd'])\n",
    "p_drug"
   ]
  },
  {
   "cell_type": "code",
   "execution_count": null,
   "metadata": {},
   "outputs": [
    {
     "data": {
      "text/plain": [
       "mean      6.938776\n",
       "median    8.000000\n",
       "Name: rating, dtype: float64"
      ]
     },
     "execution_count": 215,
     "metadata": {},
     "output_type": "execute_result"
    }
   ],
   "source": [
    "p_drug['rating'].agg([\"mean\", \"median\"])\n"
   ]
  },
  {
   "cell_type": "code",
   "execution_count": null,
   "metadata": {},
   "outputs": [],
   "source": [
    "review_text =' '.join(p_drug['review'])"
   ]
  },
  {
   "cell_type": "code",
   "execution_count": null,
   "metadata": {},
   "outputs": [
    {
     "data": {
      "text/plain": [
       "'\"Paxil does help with depression, anxiety and obsessive compulsive disorder. It makes you lose weight but the weight comes back fast when you stop taking it.\" \"Significant weight gain experienced within a few months.  VERY tough on the libido. Extremely difficult to get off this medication without significant side effects - dizziness, nausea. I was taking Celexa before and would definitely go back. For the purposes of banishing depression/anxiety, it worked, but not without side effects that make me want to stop taking it each day.\" \"I have taken Paxil for about 6 months. I have not had any weight gain as I had previously with other medications.  I feel emotionally much more stable and the side effects have been minimal.  I still feel tired occasionally and have some trouble with my short term-memory but my overall quality of life seems to be better and although I still feel mildly blue at times the feeling is not as intense and doesn&#039;t linger for weeks.\\r\\n\\r\\nHappy with the medicine.\" \"Paxil saved my life.  I was depressed and could not climb out.  Tried Effexor but it made my heart beat rapidly and made me really nervous.  Paxil has been amazing.  I feel like a regular person.  I have highs and lows, but the lows aren&#039;t as low as they used to be... and they only occur when there is a real reason to be sad.  The Bad: the withdrawal symptoms are horrible!  I didn&#039;t try to get off Paxil, but I forgot it once on a vacation trip.  Got very light headed, dizzy, and I had the &quot;zaps.&quot;  It was like being shocked at random moments.  I&#039;ll probably never get off Paxil... but it is worth it.  My quality of life improved in the last 3 years and it is worth any long term effect this drug has on me.\" \"My depression is weird, mostly due to tapering off of and recovering from benzodiazepine dependency. I have awful anhedonia and have been watching my life crumble in slow motion over the past year. I know I needed to do something. \\r\\n\\r\\nThe Paxil is a stopgap solution but so far I&#039;m starting to climb my way out. I can&#039;t really attest to side effects. The worst I guess is a dry mouth and fuzzy thinking, but honestly, I&#039;ve been depressed for so long, I can&#039;t say my thinking has been that great to begin with. I was afraid it would lower my libido and I&#039;d have anorgasmia, but so far no.\\r\\n\\r\\nMy logic is thusly, I may end up losing my job because of &quot;personal problems&quot;. Won&#039;t it be nice if I can actually handle such an eventuality instead of giving up?\" \"I&#039;v been taking Paxil for almost a year now for depression and anxiety.  I used to have panic attacks almost everyday.  After being on Paxil for a few months I stopped having any panic attacks.  The only problem I have is that I sleep too much and seem to have gained some weight.  If I forget to take my medication I start crying a lot.  Overall I feel normal while taking Paxil.  I still cry and feel sad sometime but not in excess.\" \"This medication is better than any of the other SSRI I&#039;ve tried so far. It has given me very few side effects that slowly diminished. Paxil is better, it does give you a calming effect that helps me relax, and I don&#039;t feel empty. \" \"I didn&#039;t like paxil AT ALL! This really made me feel like crap, and made my anxiety depression and really dark thoughts worse, trying to get off of it was also rough.\" \"My doctor started me on Paxil when I was 6 months pregnant. It made me emotionally numb. I kept taking it for about 3 years because the side effects of missing a dose were unbearable. I had to have the dose increased and eventually was on the highest dose and Xanax was added. I gained weight, was always tired, had a decreased sex drive and I couldn&#039;t cry when I needed to. I attempted to stop taking it 5 times before I was successful. I had horrible withdrawals for two months... sensitivity to light, nausea, a jolting sensation through my head and arms and uncontrollable crying. It was worth it. I am now taking Zoloft and finally feel normal. I lost the weight I gained while I was on Paxil and I cry when I need to.\" \"Thanx to Paxil I&#039;m still here to type this comment, it saved my life. I was started on 20mg but had to go up to 40mg (max dose) for about 3 years after which I was slowly dropped down to 20mg, then right down to 10mg, which I was on for awhile then down to 5mg and eventually went off the medication. The times I did miss my dosage it was usually the second day when the zaps started along with the feeling of vertigo. The half life of this medicine is very short about 3 days that&#039;s why people feel withdrawal symptoms so quickly but I&#039;ve found quite tolerable for the good it has done for me. A wonderful medication!\" \"This drug made me feel super high. I felt like I was on meth, couldn&#039;t sleep and felt to intoxicated to drive. Quit after a few days.\" \"I began taking Paxil &#039;by choice&#039; 15 years ago; when my panic and anxiety was out of control. I didn&#039;t realize I had always suffered from depression until I took this medicine.The very fist day I took the 20 mgs. I felt a calmness like never before.The first couple of weeks or so I felt a little zoned out; perhaps more depressed seeming. Looking back I think my depression was left on its own. It took a couple of weeks to improve that but it did. I was on it for 2 years before weaning off due to weight gain and thinking I was better. I fell back into severe depression and panic. Went back on it, tried to wean again. Same response. A third time put me in the hospital. 7 years later I still have to take meds but nothing has helped since paxil.\" \"paxil helps me quite a bit\" \"I have been taking this for 6 -7 months. It works good for me but when I miss 1 or 2 days my mood it&#039;s really high. I will fight or yell, but when I take it to cool down it works. I was 147lbs when I started it and now I&#039;m 127lbs. I have lost a lot and I&#039;m happy. I eat a lot but when I do eat its just a little. Sometime I even forget to drink or eat anything on this pill but I like it as long as I take it everyday I&#039;m happy.\" \"Paxil CR has been the most effective treatment of both my anxiety disorder and depession. Lexapro just made me much much worse - suicidal in fact with chest pain and edema. I have found I am alert and well balanced on Paxil CR w/out the side effects some encounter. 100% happy to be back on it.\" \"I took Paxil 20mg for 8 years. It is excellent for depression, anxiety and social anxiety. I completely lost all anxiety, shyness and experienced relaxed euphoria. I excelled at work and dealing with people. However it is very sedating, I would drink coffee all day while on it. I look back on those 8 years and it all seems like a blur.  Sleep very deeply and a lot but at least I was happy. I&#039;m now in my mid thirties and was recently switched to Celexa because I started finding it difficult to achieve orgasm on Paxil.  Bad decision...I now experience anxiety from the moment I wake up, shortness of breath, agoraphobia, terrible and obsessive thoughts, and racing thoughts and a feeling that I am going crazy. I&#039;m going back on Paxil.\" \"I&#039;ve only been on Paxil for about two weeks, but I can already tell a significant difference. I&#039;m feeling much more optimistic, and much more motivated than I was before going on the medication. That being said, my sex drive has dropped and I also have trouble urinating sometimes.\" \"Surprisingly this is the only SSRI I have been able to tolerate at low doses with beneficial responses and minimal side effects.\\r\\n\\r\\nTaking 20 mg and it&#039;s doing well at 1 year to minimize depression and panic attacks, though I tried going to 30 and became insomniac, down to 20 again, no problem.  No sexual side effects at this low dose. \\r\\n\\r\\nNo major weight gain, though I am a bit concerned about diabetes, A1C is climbing despite (or as a result of) my efforts - not sure if the Paxil is behind that too.\" \"I absolutely HATED this medication.\\r\\r\\n I have been struggling with panic attacks and major depression since I was younger. I was put on this medication for about a year and my panic attacks were not so often. The downsides of medication\\r\\r\\nIs that I felt little to no emotion, And had ZERO sex drive.\" \"I&#039;ve taken 40 mg of paxil for anxiety and depression for 14 years and it was life changing. Slowly it hasn&#039;t been as effectIve and recently I felt as though I hadn&#039;t been taking anything at all. Now I&#039;m back to where I was before paxil and feeling like an emotional mess. My Dr just increased my paxil to 50 mg and then if that doesn&#039;t work, she may have me try something else. I&#039;m wondering if anyone else has experienced this?\" \"Nothing worked for my anxiety attacks except Paxil; my quality of life improved significantly with this.\" \"Overall I&#039;d say it worked for a bit. Not sure if I should have had my dosage increased when the side effects started back up, or if it was because I messed up my scheduling for taking it. It put my anxiety through the roof. More anxiety than I&#039;d ever had naturally. I got it mostly for depression/possible bipolar, and it worked for the most part until the side effects kicked in, save for the random swells of depression that wouldn&#039;t last for more than two hours but felt so much worse than the stable depression I&#039;ve had for years. I&#039;d recommend it for someone who&#039;s better at keeping appointments than I am.\" \"I was severely depressed before deciding to try this medication. I recently graduated (May 10) with my second B.S.  I am also a mother. I knew before that I wasn&#039;t happy like I should be.  I never ever was proud of my accomplishments, it was difficult for me to do daily tasks and play with my daughter.  I was never happy. When I graduated with my bio degree, I sunk really low, the weight above my head felt like a building was being held on top of me.  A friend suggested depression. I decided to talk to my doctor about it and we gave Paxil a try.  I felt better almost immediately.  Within 1 week I can honestly say the weight was gone and I felt better than I have in a REALLY long time. It has changed my life! Highly recommend!\" \"This is my 2nd bout of depression. I am in early 60&#039;s and had my first bout about 10 years ago. Paxil has been the most effective anti-depressant for me. Major live with side effect is sexual - great erections but hard to ejaculate. Otherwise Paxil does excellent job of controlling my depression. Each episode for me last about 6 months of treatment. Don&#039;t forget to taper off according to doctors advice.\" \"I had taken Paxil when I was younger and it worked wonders with my depression and social disorder. However, this time around it is different, but still better with than without. My husband has been on it for close to 5 years. He used to be so angry all the time about everything, this helped him. It helped us because I am a person who does not do well with yelling and arguing. He did try to stop a few months back and it was terrible because his aggressiveness and irritability was off the wall, scarey. His mood swings came on quick and he realized he was better off staying on the Paxil. We are both on 40 mg a day. \" \"Before I was on Paxil,I just felt sad all the time. I felt like crying a lot,I could hardly get through work, I had a loss of interest in activities, I lacked energy, plus most of the other symptoms for major depression (except for thoughts of suicide), I had..and this went on for almost a few years until I finally had enough and sought out the help of a doctor. The doctor prescribed Paxil 20mg once a day, and I swear I have never felt better in my life. I feel like I finally have my life back, and I don&#039;t feel sad all the time. Most importantly,I feel like myself again\" \"My doctor weaned me off of Paxil a few weeks ago as it wasn&#039;t working. Three days after the last dose was the start of the two worst weeks of my life. It included migraines, nausea, decreased vision, when I turned my head or moved my eyes there was a whooshing sound in my head accompanied by extreme dizziness. Then there were  the bouts of crying for no apparent reason. In summary I would call this poison not medicine.\" \"This was a good drug for the first couple of years of taking it. Unfortunately, I did not consult my doctor before I stopped taking it.  Huge mistake!  I highly recommend seeing your doctor before you stop taking this. DO NOT quit cold turkey like I did.  I felt like I was going insane, had mood swings were horrible and couldn&#039;t sleep. \" \"I was on Paxil when I was 15. I think for about a year it was okay because of the numbness but soon you start feeling horrible because you have no feelings at all. You can&#039;t cry or nothing. I don&#039;t think its a good medicine for depression. I think it&#039;s better for social anxiety since there is no feeling at all. The other worst part was the weight gain. \" \"While this medicine may not be for everyone, it&#039;s helped me immensely. I was diagnosed with generalized anxiety disorder and depression. I was having intense mood swings where I&#039;d alternate between being so anxious I couldn&#039;t sleep for days and then so depressed I couldn&#039;t get myself out of bed in the morning. I felt like I didn&#039;t matter anymore and that I could stay in bed all day since no one would realize I wasn&#039;t there. I started out on 10mg of Paxil for 4 days before increasing to 20mg. After a few weeks the effects started to wear off and I fell into a deep depression, so my dosage increased to 30mg a day. I take it before bed, and all my insomnia problems have gone away. It&#039;s done wonders for me. I have my life back.\" \"I was on Paxil for a month.  I noticed a significant difference the first two weeks and then went back to my usual, on edge self, after that.  Now, I&#039;m trying Celexa.  I know I need to take something. I&#039;m just not sure which one it is. My doctor brought up Viibryd at my doctor&#039;s visit. \" \"I strongly recommend  Paxil 20 mg for depression  this drug has uplifted my mood, and truly suppressed my appetite I have been on it for two weeks and loss four pounds already. The one side effect that I have experience  is excessive yarning.  Once the dose was adjusted the symptoms has stop.\" \"After reaching a plateau on Prozac, my doctor switched me to Paxil.  My dosage was increased several times, but I felt great while I was on it.  After about 18 months, I decided to quit taking it.  The effects of trying to quit this drug on your own are horrible:  extreme nausea and dizziness, headaches, inability to eat, all of which rapidly increased.  After 2 weeks, I had to resume taking it.  After speaking with at least three different doctors and many pharmacists, they advised me it would take at least a month to wean off the Paxil and onto a new anti-depressant.  It was a rough transition, but I am so glad to no longer be taking this medication.  I wish I had never started in the first place and hated feeling addicted to it.\" \"Worked great for my depression, at a low dose, for many years.  They started me on a high dose and it made me very anxious.  Unfortunately after being on Paxil for about 6 years it lost its effectiveness within a week.  I still haven&#039;t found a replacement for this.\" \"A miracle drug for me after taking this med it gave.me the courage and strength to get up and do things it made me see things in a different way..ive been off and on with this med for four years now its the only antidepressant that works for me my anxiety completely went away and i feel like i can go threw with thing called life..\" \"Even through this medicine helps you to get over with some issues that you struggle in your everyday life, it doesn&#039;t really help you at all in terms of your depressive thoughts and depression itself.\" \"Every person&#039;s experience may be different. I took Paxil for 14 years. SIGNIFICANT weight gain (over 100 pounds, before I realized it was the medication). In some people it suppresses the brain&#039;s ability to tell when one is full, so one feels hungry all the time. Left me void of emotions of any kind, more like just feeling completely numb. Weaning myself off of Paxil was very difficult - flu-like symptoms, clouded thinking, blurred vision, among other things. It was the first antidepressant that I had ever taken, so I didn&#039;t know that I wasn&#039;t supposed to feel numb. I&#039;m sure it&#039;s a wonderful medicine for some people but it didn&#039;t work well for me.\" \"I have been on Paxil for 19 years, the side effects are becoming too much to bare so recently I attempted to wean from it, I became so physically ill and mentally disturbed I had to be hospitalized and put back up a dose to stop the withdrawals, now I have to take the liquid for to slowly wean off, it is worse then heroin withdrawal and methadone withdrawal both which I have over come cold turkey. I cannot get off this medication and it is sad because I want to have children but pregnancy is a no no while on Paxil, I&#039;m 34 I&#039;ve been on it since I was 15, I was put on it and never told anything about the addictiveness and withdrawals or any of the problems associated with it, it was a bandaid solution that has become a life long addiction\" \"Very good medication I took and in 3 days my mood improved also I found my self being more social , joking around alot more but it also made me very hyper in extremely talkative now im on the road to recovery\" \"I&#039;ve been taking paroxetine for a week. I haven&#039;t felt like thus in years! I feel like myself again! The first few days I experienced nausea and dizzy spells and dry mouth. But now the only side effect is dry mouth. This is a Miracle drug!\" \"I have chronic mild depression and have been on Paroxetine for 5 years and it has the least side effects. Tried Prozac, Effexor, Wellbrutin and Lexapro.  With Lexapro and Wellbrutrin, I had horrible insomnia, I was up all night. With Paroxetine (Paxil) I sleep like a baby.\" \"This drug has been out there a long time, but it&#039;s tried and true.  I&#039;ve evened out my ups and downs and don&#039;t have as bad of temper as I did before starting Paxil.  I&#039;ve taken it for 4 years on the advice of my Gastro doctor.  My daughter says that she has REALLY noticed a difference and I feel much better.  I just wish I had found it earlier in life.  No side effects unless I forget a dose and then I get a little achy.\" \"It has been incredibly helpful with depression, muscle tension, PMS, and premenopause and decreased migraines. I take 25mg extended release.\" \"I have always felt like something was wrong for as long as I can remember.  I think my depression is just normal to me and I&#039;ve probably been depressed for many years without even knowing, just a feeling that something isn&#039;t right.   A failed relationship a while back, heightened my realisation that something is wrong and the pain of losing someone close was like a final straw for me.  I guess it might be true that everyone comes into your life for a reason, even if it is only meant to be for a short time.  \\r\\n\\r\\nAfter countless months and days googling and doing tests online, trying to figure out what might be wrong with me, I finally got the courage to go see my doctor.  After a few visits, he prescribed me Paxil and thinks this might help get me on the right track.  You see my depression isn&#039;t the usual in that I try to go about my daily life as normal as I can, it&#039;s called walking or smiling depression.  Behind it all though, I&#039;m crippled with self doubt, negative thoughts, anxiety and constant feeling of sadness.  I feel guilty a lot, distance myself from my family and friends regularly and sometimes feel so down I cry for what seems like no reason at all.  I put on brave face to people and go about daily life as best I can, but behind the mask I am suffering.  I never really felt like I fit in and it&#039;s like I have to try to act to be happy in every day situations.  It&#039;s hard to describe, but it&#039;s almost like I&#039;m standing behind my shadow.  I always look at other people and wonder what it&#039;s like to be just happy.\\r\\n\\r\\n I could never bring myself to telling anyone how I really felt, I guess it&#039;s only the last year or so that I became more aware and really accepting that something isn&#039;t right.  It&#039;s been so long that I have felt this way, I really don&#039;t know what normal is anymore.  I have lost 2 girlfriends  largely due to my low self esteem and low confidence finally taking its toll on the relationship, it&#039;s like I just expected them to leave, who would want to stay with a loser like me is how I portrayed myself to them.. That&#039;s probably the hardest pill to swallow through all this.  I know if I was mentally stronger, I could have held on to something good.\\r\\n\\r\\nI know I have it in me to go change my life around.  Everybody sees it in me, but I feel trapped in my own body and mind.  I have a lot of trouble concentrating and I seem to always be so indecisive about what action to take.\\r\\n\\r\\nI guess I&#039;m wondering what I can expect from taking Paxil.  I know I&#039;m the only one who can physically make changes, but can I expect to regain some self confidence and motivation, energy etc? I really don&#039;t know what to expect from this drug and am apprehensive about what it can actually do for me.  I guess part of me just wants to try do everything by myself, but I really don&#039;t want to waste another second of my life.  I feel like I haven&#039;t properly lived for at least the last 5 years of my life.  Thank you for reading.\" \"After coming off Prozac and starting this medication, I gave it about 3 weeks. Worst antidepressant I&#039;ve ever tried. No other antidepressant EVER affected me this way.\" \"After about one week I was out and active. Engaging with others again and doing much better at work. I also do not have the desire to sleep all day. I have lost weight also due to increased exercise and a minimal loss of appetite. Side effects are minimal, but sex is impossible. I take Paxil 40mg once a day and Xanax 1mg twice. I am a new person! I tried Prozac, Effexor, Seroquel and Lamictal with few benefits. Paxil is by far the best medicine I have ever tried. I am nervous however when I read about the horrible side effects of missed doses and stopping Paxil. \" \"I tried Zoloft for depression and it made me hyper.  Paxil works.  I have used it two times during my life when I was depressed and self-help was not working.  It worked great for depression and I didn&#039;t have many side effects EXCEPT that I cannot achieve orgasm while taking this medication.  Nada.  I have a wonderful husband and I am used to a good sex life.  Paxil kills it.  As soon as I&#039;m off the drug for a week, everything comes back.  I hate losing sex but I hate being depressed more.  In the end, that is the choice for me.\" \"When my doctor asked me how I felt my Paxil 20mg was working (after being in Wellbutrin unsuccessfully for two  years) I could only explain it as &quot;someone finally washed both sides of the windows&quot;. Other medicines (Zoloft) helped with some anxiety but left me still depressed. Still others (Celexa) helped with the depression but the anxiety was left uncontrolled. I finally feel like I am back on track to take control of my life. I am pretty sure some dosage adjustments still need to be done, but I am amazed at the past four months on Paxil and what a difference it has made. The minor OCD I was experiencing is gone, the anxiety is a minimum and the depression no longer rules every day. I wish I would have done this for myself and my family years ago.\" \"Got headaches and felt tired constantly so I switched to Prozac.\" \"Before taking Paxil, I was on several different antidepressants which didn&#039;t work. At one point I had to be hospitalized, but since being on Paxil I am no longer depressed. Only side effect that I have experienced is dry mouth. It has been 17 years that I have been symptom free!\" \"Been taking Paxil 40mg since November 2007, works absolutely fine. Treated my major depression without any complications, did not affect my sex life, at first its hard to have an orgasm, but over time, its as fast as you want them. Medication however did cause some minor hair thinning and hair loss in my front head area, treating it with Minoxidil 2.5mg once a day. Otherwise medication works absolutely great for major depression mostly. Doctors have advised that its hard to get off this medication on your own, do not attempt to discontinue the medication on your own once you&#039;ve been on it for a long period, consult with your doctor.\" \"On it&#039;s own Wellbutrin SR 300mg/day didn&#039;t really do much for me. We then added Paxil 20mg and Klonopin 2mg along with the Wellbutrin and I have to say, this is a great combination. The Wellbutrin counteracts the sexual side-effects that go along with Paxil.  Wellbutrin by itelf is okay but in combination with Paxil and Klonopin, helped immensely.  Highly recommend. My mood is consistenly good, lots of energy. I feel social and light-hearted again. No side effects and I feel great.\" \"I was prescribed Paxil for anxiety &amp; depression when I was 13. Initially, it did all it was promised with few side affects. Over the years it seemed to lose it&#039;s effectiveness, but I was afraid to come off it for fear I would be worse off. Finally started the process of weaning myself off it when multiple reports came out saying it was DANGEROUS and had multiple long term effects on teenagers. I had been taking it for nearly a decade. The withdrawals were the worst thing I have experienced in my life. Thought I was dying. My face and limbs didn&#039;t feel real. The &quot;zaps&quot;. I was nonfunctional, and this lasted months. Please use extreme caution and have someone closely monitor you when you decide to wean off this medication.\" \"I wonder if anyone can relate to my experience with Paxil. During about 17 years of severe depression and anxiety, no medication (I&#039;ve tried them all) seemed to help and the ones that did, brought along unbearable side effects. ECT didn&#039;t help either. Paxil is the only pill that really works for me, but it makes me slightly manic. Combining it with a mood stabiliser works perfect %u2013 but only for 6 months. After that, it&#039;s depression all over again. After waiting for another 6 months, I can start using Paxil in combination with a mood stabiliser again, with good results that always only lasts for 6 months. This 6 months on/6 months off has become a very predictable pattern over the years. \" \"First off I just want to say, please don&#039;t be alarmed/afraid when you read that your going to gain a tremendous amount of weight while taking Paxil. Not saying by any means anybody is lying nor the information they provide about this medicine is false. Everybody is different and will receive different results. I almost contacted my physician right away, in demands I obtain a different medication after hearing about the weight gain, however, I gave it a fair chance. I did NOT want to a eat a thing while on Paxil and my friends already noticed I&#039;ve dropped a significant amount of weight. Please don&#039;t avoid this medication because of freight about weight gain because it might very well not happen! My social anxiety also vanished.\" \"Have taken Paxil 10mg/daily for the last 9 yrs off and on. I have very few side effects. I do get the dry mouth and hot flashes the first month of starting and hot flashes after missing a couple of doses. The side effects are different for everyone, I actually lose weight on Paxil because without it I am a nervous eater. Paxil does help with my concentration and memory. I tend to worry about all the &quot;what-if&#039;s?&quot; which clogs up my mind. Paxil helps me put things in prospective, I don&#039;t sweat all the small while I take it. Works well for me.\" \"I never expected to feel normal again.  This medication has helped me function, wake up everyday and appreciate each day.  It enabled me to excel at work.\" \"I had been placed on depression pill upon depression pill and I seemed to be on an emotional roller coaster, then I was put on 20 mg Paxil. I have been on it now for almost four years and it has helped me through some down times. I was able to get through it the past years and am so grateful for it.\" \"I started Paxil in 2000, I was depressed, I stopped drinking vodka, no desire.. I was not cured instantly but have never wanted a &#039;drink&#039; since April 2000. I recently started talk therapy, and have been satisfied thus far. It is really letting all the wires connect better. Life will always be a challenge..BEST...January 2010.\" \"My husband had prostate cancer and had to have it removed. It was done in a new method where they did not have to cut nerves or uretha.  No chemo or bags for urine,  he still enjoyed sex although it was trying even with the blue pill.  A year later he started having some  panic attacks and would start crying over small things. He has always been A very outgoing person and vert talkative and joked with everyone. He retired very abruptly in a year.  I kept working for another 5 yrs.  I was noticing a change but I let it go.  If he wanted something he bought it.  If he wanted to do something he did it. If he didn&#039;t want to do something, he didnt.  He wanted a 40,ooo pickup.he bought it.  He&#039;s always loved to play poker.  I hate this man now.\" \"I rate Paxil as a 10.  It worked almost immediately with me to relieve my symptoms and the only side effect is that it makes me sleepy/tired, which isn&#039;t a problem to me as I am retired (my doctor suggested that I can change the time that I take it, from morning to evening and I am considering doing that, especially if I decide to go back to work again).\" \"Suicidal, depressed and anxious for 9 years, finally decided I could not handle it on my own anymore and decided to seek help. My doctor prescribed me Paxil and 20 minutes after I took it I no longer wanted to kill myself (this feeling was often, all day everyday almost).  It&#039;s now been 3 days and still going good. There are however side effects, loss of appetite (not good I&#039;m too thin already), blurred vision (very difficult for an artist), insomnia, impossible to reach ejaculation, also have experienced some increased anxiety.\\r\\n\\r\\nDespite these side affects im faced with a choice, accept the side effects or continue to live my life feeling sad and lonely.\" \"I&#039;ve now been on Paroxetine for about 10 years, for severe, chronic depression. I was on Prozac for roughly 15 years before it appeared to lose its effectiveness, so I was prescribed this instead. My initial dose was 40mg daily. It was initially extremely effective as an anti-depressant, and I went from being hospitalized for a week every year for my own safety, to 6 years without a hospitalization. Just a &#039;blip&#039; in mood every year instead of a crash. However, I&#039;m now on 80mg, and the side-effects at this dose are appalling - chronic insomnia, 100lb weight gain, constant tiredness, muscle aches, migraines, memory loss, zero libido and all-round apathy. Attempting to drop my dosage results in uncontrollable weeping, numbness and terror.\" \"Paxil works consistently to alleviate my lifelong depression. I did have to bump up levels after the first 6 months of treatment. I have tried to stop treatment twice now but eventually overwhelming depression returns, particularly initiated by allergy seasons. So now ,  I  will just take it for life or until the doctor and I decide otherwise. I am statistically at an elevated risk of reoccuring depression so I just take the medicine. Weight gain is a problem but at least that doesn&#039;t depress me.\" \"Just started this medication about 5 days ago. The thing with me, I&#039;ve lived a pretty happy life til about 3 years ago.  It has gotten worse over time. I&#039;ve got a medical condition known as Nerofibromatosis. I have a inoperable brain tumor. I recently lost my job cause I couldn&#039;t work because of the pain and short temper I have. I lost my gf about 3 years ago. I would always think someone was out to get me. I would strike out for no reason. Just recently I started having suicidal thoughts and just wanted to give up on life. I would  cry for no reason.  I just wanted to end. Since taking this. It has kinda helped. I get sleepy real quick. I take at night and sleep all night. Hopfully it will continue to help\" \"\\r\\nIn few words  - Life changing\\r\\nAll negative thoughts change to positive ones\\r\\nAnd that is a life changing pill\\r\\nI was born depressed really ,with a wierd point of veiw, very critic of everybody, now I am a happy ordinary guy with a beautifull family\\r\\nSomething I could not have achieved with out paxil, I take one every day for 23 years\\r\\nThe effects goes out just after a glass of wine , so be carefull , quiting the pill in a fast way will cause  &quot; rage&quot; yes , you would not recognized your self kind of rage so be carefull.\\r\\nYou ar\" \"I have been on Paxil now for about 10 years. My dosage was 20 milligrams for a long time. Within the last two months I was feeling emotionless. I finally went to my doctor today and described my feelings to her. She changed my dosage to 40 milligrams. I feel better already! If it wasn&#039;t for Paxil I would be a basket case like I was before I went on it. I no longer have panic attacks and very little anxiety now. For those who are having a bad experience with Paxil...don&#039;t give up. You may need a different dosage or an entirely different antidepressant. Mental fragility is nothing to take lightly. Keep asking for help until you get it. Good luck to all of you.\" \"This was the only medicine I could take and didn&#039;t have a care or worry in the world.\" \"I&#039;m 21 years of age and up to now, I&#039;ve been taking 20 mg for the past 9 months. Since I was 16 or so I&#039;ve suffered from, at least in the beginning what some may call &#039;smiling&#039; depression, and what followed was chronic depression in my 20s. At 17-18 years of age I  participated in cognitive behavioural therapy (coping mechanisms). \\r\\nI suffered frequent panic / anxiety attacks, suicidal thoughts, etc.\\r\\n19-21 went to college. Chronic depression hit hard and they put me on 20 mg Paxil. I have never felt better in my life. Usually it is difficult to realise when one is in such a state, and now that I can see things &quot;clearly&quot;, I&#039;ve excelled in school and in other social conditions. \\r\\nIn Europe, the Gov&#039;t produces Paxil without a brand name. Cheap.\" \"I have been on Paxil CR for many years with good results. I started at 12.5 Mg and over time have been increased to 25Mg. In the last yr I have found myself depressed 3 or more days a week even though I take my pill religiously every day. In the last few months the 3 days have turned into 5 to 6 and now it doesn&#039;t seem to work at all. I was told by my pharmacist that Glaxo had begun production on a generic CR so I agreed to try it. &quot; Wrong Move&quot;. I resumed the brand name immediately but I noticed that the generic looks identical to the brand. I may be a skeptic but could Glaxo be bottling generics in label bottles to maximize profits?\" \"Bad thoughts.  Worsening depression gained 35 lbs in 6 months.  Liver enzymes slightly off.  I feel like a cow. I stopped taking it and am taking lexapro but still gaining weight. I have always been thin.\" \"While paroxetine tended to keep my depression at bay; I wasn&#039;t functioning at a good level emotionally.\\r\\nWas on 20mg for approximately 4years, then 40mg for 3 months. When dosage was upped, I had major depressive episode (pretty much stayed in bed for 3 weeks) and realized that I had experiencing basically a &quot;flat aspect&quot; for quite some time. Also gained 20 lbs (105 to 125) in the 3 months on the 40mg. Horrible brain zaps if I missed a dose (20 or 40). Went back to 20mg for a week and have switched to Effexor (37.5/7days, then will be on 75mg daily).\\r\\nMild zings and zaps for past few days as I&#039;ve switched to the Effexor; was expecting a MUCH more horrendous transition as my zaps were extremely strong in the past.\" \"Everyone&#039;s experience is different. I was prescribed paxil 20mg for depression /social anxiety. I have been taking it for over a month.  I was incredibly afraid to take it but now that I have been taking it I&#039;m really happy I did. This is the best I have been mentally my entire life. I read a lot of negative things on the internet, but that was not my experience. I have more clarity now. I LOST WEIGHT! I&#039;m happy waking up. I sleep amazing. I feel like I don&#039;t even have depression anymore. It has helped some with anxiety. I did have negative side effects for the first week, but that passed quickly. If you&#039;re like me you looked up things on the internet and got scared. Please listen to your doctor and not the whiney people on the internet.\" \"After going through a hurtful breakup and loosing my job I fell into darkness, life lost intrerest. I decided to try antidepressants. Doc prescribed Paxil. I read the reviews, most say it helps after taking it for awhile. Yesterday I took it at night. I couldn&#039;t sleep at all, after 3 hours I started to feel very weak, my head was heavy, I had an urge to stretch my whole body, lost appetite, but I did feel happier. Because it affects your serotonin, I started to think about my relationship more. All day I couldn&#039;t get out of bed, felt very weak, couldn&#039;t even walk, sleepy but can&#039;t sleep. Horrific feeling. Although I hear it helps eventually, I don&#039;t think it&#039;s worth the side effects. Bad experience.\" \"I started to take Paxil 12years ago. I was getting depressed because of my panic disorder. I have been on Xanax for many many years and my doctor added Paxil. 30mg a day in the morning. I have never had a side effect not even weight gain and I know this can cause weight gain. It works great for me for my depression and my panic attacks. Would highly recommend this drug. I am a skinny person anyway, because of my panic but I never had any side effects. Good luck all.\" \"I don&#039;t know why anyone would prescribe Seroxat for depression. I was given this for anxiety and depression and while it does help my anxiety to some extent, it doesn&#039;t work as an &#039;antidepressant&#039; and actually gives me suicidal tendencies and for that reason I would recommend not taking it for depression. I take 40mg and plan to stop taking Seroxat and choosing something safer and more effective.\" \"I&#039;ve been on this for a couple months now it has helped but one issue all I do is sleep.\" \"I began taking Paxil in addition to Celexa two years ago when I was 16. It is not bad--no stomach aches, weight gain, or horrible headaches--but I have noticed the total disappearance of my sex drive. Totally gone. This might be because of the Celexa as well. Not sure. I was taking 40mg Celexa, 20mg Paxil, 1 mg Ativan, and occasionally trazodone or doxepine to sleep, for a while and when I cut my dosage in half over the summer, I was a mess. Constant migraines and irritability. So I suggest that if you use Paxil, be careful to come off it slowly.\" \"This was for my MDD,BPD, and OCD, I hated this. Sick all the time. If I didn&#039;t eat, meds made me sick. If I did, they&#039;d screw with my stomach. Everything was worse. Black and white is an understatement. I was significantly worse on these meds than without. Withdrawals were terrible. The only good thing was that insurance covered a lot of it.\" \"Caused me to have very bad headaches. Light sensitivity. Dizziness.\" \"I took Paxil for about 4 years. It was truly a life saver from the horrible depression I suffer from. However, after about 4 years it quit working, and my doc moved me to Bupropion. Paxil was terrible about causing me to randomly fall asleep. I had to pull off the road and nap MANY times. Also, almost no sex life while taking it. \" \"I have been taking Paxil for 15 years now and it does the job most of the time.  I still have bouts of depression when things in my life go sideways.  The worst part is the weight gain and the lack of sex drive.  It is a tough choice but without Paxil I was suicidal.  It is a part of my life now.\" \"I have Bipolar 1 Disorder. Paxil is great! Mainly used for Depression also PTSD and anxiety. I take 40 mg a day for last 4 or so years. Caution do not abruptly stop Paxil if you&#039;ve been on it for 2 months or more. Severe body shocks happen during withdrawal. They feel like electrical impulses throughout the body. My brain gets &quot;heavy&quot; and &quot;dizzy&quot; and I can&#039;t stop it or concentrate on anything. I have gone off Paxil and have been to the ER for withdrawal. The shocks are the worst and unbearable for me. 4 days without Paxil I begin to get these &quot;shocks&quot; I take my Paxil daily, try not to skip doses and I recommend you do the same. Doctors have told me it is one of the worst withdrawals comparable to heroin withdrawals. Taper Taper Taper!\" \"I used Paxil twice for depression and mood swings while on chemo therapy.\\r\\nBoth times I only used half the min dose (5mg/day) and it did help considerably reduce anxiety and depression associated with being on extended chemotherapy.\\r\\nIt also controlled anger and road-rage associated with chemo therapy. Recently I tried Paxil a third time in preparation for another round of chemo - and Paxil made me feel lousy after a few weeks taking it.  I stopped and switched to Celexa. Both previous times when Paxil did work I made the serious mistake of stopping it abruptly. I had to go back on it and gradually reduce the dosage by splitting pills over two weeks.  I&#039;d give Paxil a rating of 10 had I not had problems with it this time.\" \"I have been taking 10-mg of Paxil for over 20 years and began taking it after surgical menopause in my late 30&#039;s. Having dealt with depression/anxiety on and off since I was young, this really transformed my life. My career was very demanding and I was able to have a successful career until retirement a few years ago. I am a professional who worked under very strenuous circumstances and without this medication could probably not have done so.  I did not gain weight but have been an exerciser most of my adult life which, incidentally, also helps a great deal with depression. Everyone is different and so is their reaction to medications. This is why it is so important to have a Dr. who continues to follow you.\" \"It worked great for 12 years. Than I decided to stop taking it and deal with some emotional issues. Bad idea. Incredibly difficult to get off of. Nausea for a month and after that I was dizzy for another month. Fell into a horrible depression, saw and felt the gates of hell. Ironically, I&#039;m now taking 3 drugs to deal with my depression, lexapro, lamictal, and seroquel. Dealing with my emotional issues, but I definitley would do things differently if had to do it over.\" \"I personally WILL NEVER recommend Paxil to ANYONE. It literally ruined my life. At first, I felt that it was ok. But, quickly and suddenly, I started gaining weight. ALOT of weight. Literally, my pants fit one week and did not fix the next week. And that wasn&#039;t all. I was feeling much worse. I was very manic. So depressed that I could not get out of bed. My life was work, eat, and sleep. I had no motivation and I started fixating on thoughts of suicide. It wasn&#039;t until the unexplained rapid weight gain that I started to ask myself what had changed in my routine. That&#039;s when I realized that Paxil was the newest addition to my life and I began doing research.  I&#039;ve been off of it for about 2 months and I still can&#039;t lose the weight.\" \"I have been taking Paxil for over 1 year. I tried Prozac, did not like it, made me feel out of control. I tried Celexa still felt depression. I take 20 mg of Paxil every night before bedtime since I feel this medicine makes me sleepy and relaxed. I usually sleep very good. I don&#039;t have that weird feeling of anxiety anymore. I feel relaxed and can see life in a realistic prospective. My mood is good not bad or great but okay. I cry only a few times a month specially during my PMS time, so I really think this is good medicine for me. I can go on everyday with little negative thoughts and usually can block them out and change my thoughts. So yes I like it, I do feel a bit numb at times so I will seek doctor&#039;s advice, but overall it is has been a great experience.\" \"I was prescribed Paxil for depression/anxiety and it caused me to become shaky. My hands would shake, I would bounce my legs while sitting but the worst was the blurry vision! These side effects lasted about ten days after stopping the medication. \" \"Paxil was the first antidepressant I was put on when I was first diagnosed with depression roughly a year and a half ago. While it did stop the suicidal thoughts, the side effects were just not worth it for me. It made me tired ALL THE TIME. And not just kind of sleepy. It was more like I could get a full nights rest, wake up, and not half an hour later feel so exhausted that if I laid down on the ground I could take a nap right there. It also took away my ability to orgasm. I&#039;m a 21 y/o (20 at the time) college girl who is a pretty sexually open person. So to say I was not down to never have another orgasm while on it would be a huge understatement. Did work, but not worth the side effects.\" \"In the sea of negative reviews which I read before starting Paxil, I saw few positive ones even though I know that there are many, many people for whom this drug has worked wonders.  I am one of those people.  Diagnosed with severe depression and generalized anxiety disorder, my doctor started me on 10mg/day and despite minor, minor nausea for the initial 2 weeks, I have not had side effects.  My anxiety and depression were vastly improved within that 2-4 week window and I began to feel like my old self.  I have experienced no discernible effects on my sex drive,  which is a big negative side effect for many reviewers.  This drug seems to have been tailor-made for me, I am thankful for its availability, and hope this review helps someone!\" \"I have tried EFFEXOR, ZOLOFT, PROZAC, CELEXA, CYMBALTA and PAXIL was the best. I only take 5 mg once daily in the morning and am good all the day ! Really !\" \"Started off with a low dosage about  18 months ago now I am on 60 mg a day.  Feeling a lot better now..\" \"The good:\\r\\n\\r\\n- Improved motivation\\r\\n- More stable moods, fewer deep lows\\r\\n- Improved self-confidence \\r\\n- Decreased anxiety\\r\\n\\r\\nThe bad:\\r\\n\\r\\n- (during the first few weeks) Insomnia\\r\\n- (during the first few weeks) Drowsiness\\r\\n- (transient) Vivid bad dreams\\r\\n- Difficulty reaching orgasm\\r\\n- Forgetfulness\\r\\n- Emotional blunting\" \"I&#039;ve been on Paxil for two months now and have seen significant improvement in my mood (no longer crying for no reason) and decreased feelings of anxiety. No side effects.  The medication has also helped me deal with my PTSD. I&#039;m able to breath and make good decisions  in situations that would otherwise be triggering.  After years of attempting to fix myself and deal with my problems on my own, I finally asked my doctor (with analysis by a counselor) for help. Paxil is just the right thing for me.  I still don&#039;t like the idea of being on medication, but the benefits are too great.\" \"Took this med for a month at 20mg and I was one of those who began to notice positive effects overnight. It improved my mood exponentially and since I&#039;ve never had a sex drive (from depression) I actually gained one while on Paxil. Sex was much more pleasurable. Unfortunately I thought I could find a med that was even BETTER, so was put on Cymbalta and Abilify, but have had miniscule improvements. Tomorrow I&#039;m going to start back up on the Paxil.\" \"When I started Paxil 7 months ago I was clinically depressed. I had panic attacks that would come several times a day and my body was always tense. I had Obsessive Compulsive Disorder. I was wrecked after an emotional trauma. My brain was on overdrive. Within the first 2 months on Paxil I kept a journal blogging symptoms and changes and after a while I realized I stopped writing altogether. I would always write when I was sad. The medicine kept being more effective as time went on but I eventually got a dose upage from 20mg to 30mg. I have never felt so happy, ever.\" \"It makes me tired\"'"
      ]
     },
     "execution_count": 217,
     "metadata": {},
     "output_type": "execute_result"
    }
   ],
   "source": [
    "review_text"
   ]
  },
  {
   "cell_type": "code",
   "execution_count": null,
   "metadata": {},
   "outputs": [],
   "source": [
    "model=genai.GenerativeModel(\n",
    "  model_name=\"gemini-1.5-flash\",\n",
    "  system_instruction=\"You are customer review summariser for medical drugs review. You will provide a concise objective summary about customer overall experience from the corpus of customer reviews.\") #system instructions to steer behaviour of model\n",
    "\n",
    "# import enum\n",
    "# Define a function to get the sentiment of a review using Gemini API\n",
    "def get_summary(review):\n",
    "    \n",
    "    # Send the prompt to the Gemini API\n",
    "    response = model.generate_content(review,\n",
    "                                     safety_settings=[\n",
    "    {\"category\": \"HARM_CATEGORY_DANGEROUS_CONTENT\", \"threshold\": \"BLOCK_NONE\"},\n",
    "    {\"category\": \"HARM_CATEGORY_SEXUALLY_EXPLICIT\", \"threshold\": \"BLOCK_NONE\"},\n",
    "    {\"category\": \"HARM_CATEGORY_HATE_SPEECH\", \"threshold\": \"BLOCK_NONE\"},\n",
    "    {\"category\": \"HARM_CATEGORY_HARASSMENT\", \"threshold\": \"BLOCK_NONE\"} #safety settings turned off as the review does have sex-related content.\n",
    "]\n",
    "# ,\n",
    "\n",
    "#                                       generation_config=genai.GenerationConfig(\n",
    "#         response_mime_type=\"text/x.enum\",\n",
    "#         response_schema={\n",
    "#             \"type\": \"STRING\",\n",
    "#             \"enum\": [\"Positve\", \"Negative\", \"Neutral\"], # using enum for structured output as google docs\n",
    "#            }\n",
    "#         )\n",
    "    )\n",
    "\n",
    "    \n",
    "    # Extract the sentiment result\n",
    "    return response.text"
   ]
  },
  {
   "cell_type": "code",
   "execution_count": null,
   "metadata": {},
   "outputs": [],
   "source": [
    "summary  = get_summary(review_text)"
   ]
  },
  {
   "cell_type": "code",
   "execution_count": null,
   "metadata": {},
   "outputs": [
    {
     "name": "stdout",
     "output_type": "stream",
     "text": [
      "Paxil is generally effective in treating depression, anxiety and obsessive-compulsive disorder. Many users reported significant improvement in their mood and anxiety levels after taking Paxil. However, the medication can cause side effects such as weight gain, decreased libido, and sleepiness. Some users also reported experiencing withdrawal symptoms when trying to stop taking Paxil. It is important to consult with a doctor before taking Paxil, as it may not be suitable for everyone.\n",
      "\n"
     ]
    }
   ],
   "source": [
    "print(summary)"
   ]
  },
  {
   "cell_type": "code",
   "execution_count": null,
   "metadata": {},
   "outputs": [
    {
     "name": "stdout",
     "output_type": "stream",
     "text": [
      "('Paxil is generally effective in treating depression, anxiety and '\n",
      " 'obsessive-compulsive disorder. Many users reported significant improvement '\n",
      " 'in their mood and anxiety levels after taking Paxil. However, the medication '\n",
      " 'can cause side effects such as weight gain, decreased libido, and '\n",
      " 'sleepiness. Some users also reported experiencing withdrawal symptoms when '\n",
      " 'trying to stop taking Paxil. It is important to consult with a doctor before '\n",
      " 'taking Paxil, as it may not be suitable for everyone.\\n')\n"
     ]
    }
   ],
   "source": [
    "import pprint\n",
    "\n",
    "pprint.pprint(summary)"
   ]
  },
  {
   "cell_type": "markdown",
   "metadata": {},
   "source": [
    "Text Summarization Results: (For Paxil and Depression)\n",
    "\n",
    "*Paxil is generally effective in treating depression, anxiety and obsessive-compulsive disorder. Many users reported significant improvement in their mood and anxiety levels after taking Paxil. However, the medication can cause side effects such as weight gain, decreased libido, and sleepiness. Some users also reported experiencing withdrawal symptoms when trying to stop taking Paxil. It is important to consult with a doctor before taking Paxil, as it may not be suitable for everyone.*"
   ]
  },
  {
   "cell_type": "markdown",
   "metadata": {},
   "source": [
    "### **Lets try Batch processing:**"
   ]
  },
  {
   "cell_type": "code",
   "execution_count": null,
   "metadata": {},
   "outputs": [],
   "source": [
    "def gen_func(itera,n):\n",
    "    m = len(itera)\n",
    "    for i in range(0, m, n):\n",
    "        yield itera[i:i+n]\n"
   ]
  },
  {
   "cell_type": "code",
   "execution_count": null,
   "metadata": {},
   "outputs": [
    {
     "name": "stdout",
     "output_type": "stream",
     "text": [
      "[0, 1, 2, 3, 4, 5, 6, 7]\n",
      "[8, 9, 10, 11, 12, 13, 14, 15]\n",
      "[16, 17, 18, 19, 20, 21, 22, 23]\n",
      "[24, 25, 26, 27, 28, 29, 30, 31]\n",
      "[32, 33, 34, 35, 36, 37, 38, 39]\n",
      "[40, 41, 42, 43, 44, 45, 46, 47]\n",
      "[48, 49, 50]\n"
     ]
    }
   ],
   "source": [
    "l = [i for i in range(51)]\n",
    "for i in gen_func(l, 8):\n",
    "    print(i)"
   ]
  },
  {
   "cell_type": "code",
   "execution_count": null,
   "metadata": {},
   "outputs": [
    {
     "data": {
      "text/html": [
       "<div>\n",
       "<style scoped>\n",
       "    .dataframe tbody tr th:only-of-type {\n",
       "        vertical-align: middle;\n",
       "    }\n",
       "\n",
       "    .dataframe tbody tr th {\n",
       "        vertical-align: top;\n",
       "    }\n",
       "\n",
       "    .dataframe thead th {\n",
       "        text-align: right;\n",
       "    }\n",
       "</style>\n",
       "<table border=\"1\" class=\"dataframe\">\n",
       "  <thead>\n",
       "    <tr style=\"text-align: right;\">\n",
       "      <th></th>\n",
       "      <th>drugName</th>\n",
       "      <th>condition</th>\n",
       "      <th>review</th>\n",
       "      <th>rating</th>\n",
       "    </tr>\n",
       "  </thead>\n",
       "  <tbody>\n",
       "    <tr>\n",
       "      <th>0</th>\n",
       "      <td>Valsartan</td>\n",
       "      <td>Left Ventricular Dysfunction</td>\n",
       "      <td>\"It has no side effect, I take it in combinati...</td>\n",
       "      <td>9</td>\n",
       "    </tr>\n",
       "    <tr>\n",
       "      <th>1</th>\n",
       "      <td>Guanfacine</td>\n",
       "      <td>ADHD</td>\n",
       "      <td>\"My son is halfway through his fourth week of ...</td>\n",
       "      <td>8</td>\n",
       "    </tr>\n",
       "    <tr>\n",
       "      <th>2</th>\n",
       "      <td>Lybrel</td>\n",
       "      <td>Birth Control</td>\n",
       "      <td>\"I used to take another oral contraceptive, wh...</td>\n",
       "      <td>5</td>\n",
       "    </tr>\n",
       "    <tr>\n",
       "      <th>3</th>\n",
       "      <td>Ortho Evra</td>\n",
       "      <td>Birth Control</td>\n",
       "      <td>\"This is my first time using any form of birth...</td>\n",
       "      <td>8</td>\n",
       "    </tr>\n",
       "    <tr>\n",
       "      <th>4</th>\n",
       "      <td>Buprenorphine / naloxone</td>\n",
       "      <td>Opiate Dependence</td>\n",
       "      <td>\"Suboxone has completely turned my life around...</td>\n",
       "      <td>9</td>\n",
       "    </tr>\n",
       "    <tr>\n",
       "      <th>...</th>\n",
       "      <td>...</td>\n",
       "      <td>...</td>\n",
       "      <td>...</td>\n",
       "      <td>...</td>\n",
       "    </tr>\n",
       "    <tr>\n",
       "      <th>995</th>\n",
       "      <td>Duac</td>\n",
       "      <td>Acne</td>\n",
       "      <td>\"The product is working so well for my athleti...</td>\n",
       "      <td>8</td>\n",
       "    </tr>\n",
       "    <tr>\n",
       "      <th>996</th>\n",
       "      <td>Liothyronine</td>\n",
       "      <td>Underactive Thyroid</td>\n",
       "      <td>\"as a supplement to levothyroxine it has been ...</td>\n",
       "      <td>10</td>\n",
       "    </tr>\n",
       "    <tr>\n",
       "      <th>997</th>\n",
       "      <td>Dextromethorphan</td>\n",
       "      <td>Cough</td>\n",
       "      <td>\"This worked great for my husband until he gav...</td>\n",
       "      <td>1</td>\n",
       "    </tr>\n",
       "    <tr>\n",
       "      <th>998</th>\n",
       "      <td>Dapsone</td>\n",
       "      <td>Acne</td>\n",
       "      <td>\"I have tried almost everything under the sun ...</td>\n",
       "      <td>10</td>\n",
       "    </tr>\n",
       "    <tr>\n",
       "      <th>999</th>\n",
       "      <td>Levothyroxine</td>\n",
       "      <td>Underactive Thyroid</td>\n",
       "      <td>\"My thyroid test showed it to be under active,...</td>\n",
       "      <td>6</td>\n",
       "    </tr>\n",
       "  </tbody>\n",
       "</table>\n",
       "<p>1000 rows × 4 columns</p>\n",
       "</div>"
      ],
      "text/plain": [
       "                     drugName                     condition  \\\n",
       "0                   Valsartan  Left Ventricular Dysfunction   \n",
       "1                  Guanfacine                          ADHD   \n",
       "2                      Lybrel                 Birth Control   \n",
       "3                  Ortho Evra                 Birth Control   \n",
       "4    Buprenorphine / naloxone             Opiate Dependence   \n",
       "..                        ...                           ...   \n",
       "995                      Duac                          Acne   \n",
       "996              Liothyronine           Underactive Thyroid   \n",
       "997          Dextromethorphan                         Cough   \n",
       "998                   Dapsone                          Acne   \n",
       "999             Levothyroxine           Underactive Thyroid   \n",
       "\n",
       "                                                review  rating  \n",
       "0    \"It has no side effect, I take it in combinati...       9  \n",
       "1    \"My son is halfway through his fourth week of ...       8  \n",
       "2    \"I used to take another oral contraceptive, wh...       5  \n",
       "3    \"This is my first time using any form of birth...       8  \n",
       "4    \"Suboxone has completely turned my life around...       9  \n",
       "..                                                 ...     ...  \n",
       "995  \"The product is working so well for my athleti...       8  \n",
       "996  \"as a supplement to levothyroxine it has been ...      10  \n",
       "997  \"This worked great for my husband until he gav...       1  \n",
       "998  \"I have tried almost everything under the sun ...      10  \n",
       "999  \"My thyroid test showed it to be under active,...       6  \n",
       "\n",
       "[1000 rows x 4 columns]"
      ]
     },
     "execution_count": 343,
     "metadata": {},
     "output_type": "execute_result"
    }
   ],
   "source": [
    "b_df = df.iloc[:1000,:4].copy() # doubt on why to use copy, as copy creates a different object and any change within the \n",
    "# two wont be reflected in other. Rest if not then both are\n",
    "# basically same objects and get affected by change of value in any one. This is because you're working with a view, not a copy.\n",
    "b_df"
   ]
  },
  {
   "cell_type": "markdown",
   "metadata": {},
   "source": [
    "---"
   ]
  },
  {
   "cell_type": "markdown",
   "metadata": {},
   "source": [
    "##### Series of experiment for batch processing:"
   ]
  },
  {
   "cell_type": "code",
   "execution_count": null,
   "metadata": {},
   "outputs": [],
   "source": [
    "model=genai.GenerativeModel(\n",
    "  model_name=\"gemini-1.5-flash\",\n",
    "  system_instruction=\"You are customer review sentiment analyzer for medical drugs reviews. You reply only with Positve, Negative or Neutral. Analyze the sentiment of each of the following drug reviews in the list seperated by /n\") #system instructions to steer behaviour of model\n",
    "\n",
    "# import enum\n",
    "# Define a function to get the sentiment of a review using Gemini API\n",
    "def get_sentiment(review):\n",
    "    \n",
    "    # Send the prompt to the Gemini API\n",
    "    response = model.generate_content(review,\n",
    "                                     safety_settings=[\n",
    "    {\"category\": \"HARM_CATEGORY_DANGEROUS_CONTENT\", \"threshold\": \"BLOCK_NONE\"},\n",
    "    {\"category\": \"HARM_CATEGORY_SEXUALLY_EXPLICIT\", \"threshold\": \"BLOCK_NONE\"},\n",
    "    {\"category\": \"HARM_CATEGORY_HATE_SPEECH\", \"threshold\": \"BLOCK_NONE\"},\n",
    "    {\"category\": \"HARM_CATEGORY_HARASSMENT\", \"threshold\": \"BLOCK_NONE\"} #safety settings turned off as the review does have sex-related content.\n",
    "],\n",
    "\n",
    "        generation_config=genai.GenerationConfig(\n",
    "            response_mime_type=\"application/json\",\n",
    "            response_schema={\n",
    "                \"type\": \"array\",\n",
    "                \"items\": {\n",
    "                    \"type\": \"object\",\n",
    "                    \"properties\": {\n",
    "                        \"review_number\": {\"type\": \"integer\"},\n",
    "                        \"sentiment\": {\n",
    "                            \"type\": \"string\",\n",
    "                            \"enum\": [\"Positive\", \"Negative\", \"Neutral\"]\n",
    "                        }\n",
    "                    },\n",
    "                    \"required\": [\"review_number\", \"sentiment\"]\n",
    "                }\n",
    "            }\n",
    "        )\n",
    "    )\n",
    "\n",
    "    \n",
    "    # Extract the sentiment result\n",
    "    # return response.text\n",
    "    result = json.loads(response.text)\n",
    "    return {item['review_number']: item['sentiment'] for item in result}"
   ]
  },
  {
   "cell_type": "code",
   "execution_count": 375,
   "metadata": {},
   "outputs": [],
   "source": [
    "test_review = b_df['review'][:100].to_list()\n",
    "# get_sentiment(test_review )"
   ]
  },
  {
   "cell_type": "code",
   "execution_count": 415,
   "metadata": {},
   "outputs": [
    {
     "name": "stdout",
     "output_type": "stream",
     "text": [
      "Raw response from API: [\"Positive\",\"Positive\",\"Positive\",\"Negative\",\"Negative\",\"Positive\",\"Positive\",\"Positive\",\"Negative\",\"Positive\"] \n",
      "Length of input reviews: 100\n",
      "Length of output sentiments: 10\n"
     ]
    }
   ],
   "source": [
    "import json\n",
    "# import genai\n",
    "\n",
    "# Initialize the GenerativeModel with updated system instructions\n",
    "model = genai.GenerativeModel(\n",
    "    model_name=\"gemini-1.5-flash\",\n",
    "    system_instruction=(\n",
    "        \"You are a customer review sentiment analyzer for medical drugs reviews. \"\n",
    "        \"You will receive multiple reviews given in a list. \"\n",
    "        \"For each review in the list, respond with its sentiment: Positive, Negative, or Neutral. \"\n",
    "        \"Return the sentiments as a JSON array in the same order as the reviews.\"\n",
    "    )\n",
    ")\n",
    "\n",
    "# Define a function to get the sentiment of multiple reviews using Gemini API in a single batch\n",
    "def get_batch_sentiments(reviews):\n",
    "    # Format the reviews as a single string separated by line breaks\n",
    "    # batch_prompt = \"\\n\\n\".join(reviews)\n",
    "    \n",
    "    # Send the batch prompt to the Gemini API\n",
    "    response = model.generate_content(\n",
    "        reviews,\n",
    "        safety_settings=[\n",
    "            {\"category\": \"HARM_CATEGORY_DANGEROUS_CONTENT\", \"threshold\": \"BLOCK_NONE\"},\n",
    "            {\"category\": \"HARM_CATEGORY_SEXUALLY_EXPLICIT\", \"threshold\": \"BLOCK_NONE\"},\n",
    "            {\"category\": \"HARM_CATEGORY_HATE_SPEECH\", \"threshold\": \"BLOCK_NONE\"},\n",
    "            {\"category\": \"HARM_CATEGORY_HARASSMENT\", \"threshold\": \"BLOCK_NONE\"}  # Safety settings turned off as the review does have sex-related content.\n",
    "        ],\n",
    "        generation_config=genai.GenerationConfig(\n",
    "            response_mime_type=\"application/json\",  # Expecting JSON array response with sentiments\n",
    "            response_schema={\n",
    "                \"type\": \"ARRAY\",  # Indicates we're expecting an array of results\n",
    "                \"items\": {\n",
    "                    \"type\": \"STRING\",\n",
    "                    \"enum\": [\"Positive\", \"Negative\", \"Neutral\"]  # Using enum for structured output\n",
    "                }\n",
    "            }\n",
    "        )\n",
    "    )\n",
    "    \n",
    "    # Debugging: Print the raw response\n",
    "    print(\"Raw response from API:\", response.text)\n",
    "    \n",
    "    # Extract and return the list of sentiments\n",
    "    try:\n",
    "        sentiments = json.loads(response.text)  # Parsing JSON response\n",
    "        if not isinstance(sentiments, list):\n",
    "            raise ValueError(\"The API response is not a list.\")\n",
    "        return sentiments\n",
    "    except json.JSONDecodeError as e:\n",
    "        print(f\"JSON decoding failed: {e}\")\n",
    "        return []\n",
    "    except ValueError as ve:\n",
    "        print(f\"Unexpected response format: {ve}\")\n",
    "        return []\n",
    "\n",
    "# # Example list of reviews for batch processing\n",
    "# test_reviews = [\n",
    "#     \"This drug helped me a lot with my condition, no side effects experienced.\",\n",
    "#     \"Terrible experience! The medication made my symptoms worse.\",\n",
    "#     \"No significant change after taking the drug for a month.\",\n",
    "#     # Add more reviews as needed\n",
    "# ]\n",
    "\n",
    "# Get the batch sentiments\n",
    "batch_sentiments = get_batch_sentiments(test_review[40:50])\n",
    "\n",
    "# # Print the results\n",
    "# for idx, (review, sentiment) in enumerate(zip(test_review, batch_sentiments), 1):\n",
    "#     print(f\"Review {idx}: {review}\\nSentiment: {sentiment}\\n\")\n",
    "\n",
    "# Debugging: Check lengths\n",
    "print(f\"Length of input reviews: {len(test_review)}\")\n",
    "print(f\"Length of output sentiments: {len(batch_sentiments)}\")\n"
   ]
  },
  {
   "cell_type": "markdown",
   "metadata": {},
   "source": [
    "**Results:**\n",
    "The above experiment results in unreliable results for batch processing, as we can observe the difference in the input and output of sentiments. (100 inputs we receive 10 output sentiments, we need to strategize to enforce expected consistent and reliable output). "
   ]
  },
  {
   "cell_type": "markdown",
   "metadata": {},
   "source": [
    "**Exp:** Now changing the input as a list of reviews seperated by /n making it specific for the model to interpret each review to output respective sentiment. Also using enforced JSON output format parameter to restrict the output."
   ]
  },
  {
   "cell_type": "code",
   "execution_count": 411,
   "metadata": {},
   "outputs": [],
   "source": [
    "# Initialize the GenerativeModel with the desired model and system instructions\n",
    "model = genai.GenerativeModel(\n",
    "    model_name=\"gemini-1.5-flash\",\n",
    "    system_instruction=\"You are a customer review sentiment analyzer for medical drugs review. You reply only with Positive, Negative, or Neutral.\"\n",
    ")\n",
    "\n",
    "# Define a function to get the sentiment of multiple reviews using Gemini API in a single batch\n",
    "def get_batch_sentiments(reviews):\n",
    "    # Combine all reviews into a single prompt, separated by new lines or another delimiter if required\n",
    "    batch_prompt = \"\\n\".join(reviews)  # Assuming each review is treated separately within the prompt\n",
    "    \n",
    "    # Send the batch prompt to the Gemini API\n",
    "    response = model.generate_content(\n",
    "        batch_prompt,\n",
    "        safety_settings=[\n",
    "            {\"category\": \"HARM_CATEGORY_DANGEROUS_CONTENT\", \"threshold\": \"BLOCK_NONE\"},\n",
    "            {\"category\": \"HARM_CATEGORY_SEXUALLY_EXPLICIT\", \"threshold\": \"BLOCK_NONE\"},\n",
    "            {\"category\": \"HARM_CATEGORY_HATE_SPEECH\", \"threshold\": \"BLOCK_NONE\"},\n",
    "            {\"category\": \"HARM_CATEGORY_HARASSMENT\", \"threshold\": \"BLOCK_NONE\"}  # Safety settings turned off as the review does have sex-related content.\n",
    "        ],\n",
    "        generation_config=genai.GenerationConfig(\n",
    "            response_mime_type=\"application/json\",  # Expecting JSON array response with sentiments\n",
    "            response_schema={\n",
    "                \"type\": \"ARRAY\",  # Indicates we're expecting an array of results\n",
    "                \"items\": {\n",
    "                    \"type\": \"STRING\",\n",
    "                    \"enum\": [\"Positive\", \"Negative\", \"Neutral\"]  # Using enum for structured output\n",
    "                }\n",
    "            }\n",
    "        )\n",
    "    )\n",
    "    \n",
    "    # Extract and return the list of sentiments\n",
    "    # Assuming response.text contains a JSON array of sentiments\n",
    "    sentiments = json.loads(response.text)  # Parsing JSON response\n",
    "    return sentiments\n",
    "\n",
    "# List of reviews for batch processing\n",
    "# t_reviews = [\n",
    "#     \"This drug helped me a lot with my condition, no side effects experienced.\",\n",
    "#     \"Terrible experience! The medication made my symptoms worse.\",\n",
    "#     \"No significant change after taking the drug for a month.\"\n",
    "# ]\n",
    "\n",
    "# Get the batch sentiments\n",
    "batch_sentiments = get_batch_sentiments(test_review)\n",
    "\n",
    "# # Print the results\n",
    "# for review, sentiment in zip(test_review, batch_sentiments):\n",
    "#     print(f\"Review: {review}\\nSentiment: {sentiment}\\n\")\n"
   ]
  },
  {
   "cell_type": "code",
   "execution_count": 385,
   "metadata": {},
   "outputs": [
    {
     "name": "stdout",
     "output_type": "stream",
     "text": [
      "100\n",
      "78\n"
     ]
    }
   ],
   "source": [
    "print(len(test_review))\n",
    "print(len(batch_sentiments))    # print(r)"
   ]
  },
  {
   "cell_type": "markdown",
   "metadata": {},
   "source": [
    "**Results:**\n",
    "\n",
    "The above experiment still showcases the misinterpretation of the input by the model in batch processing failing to generate the required output sentiments.\n",
    "We need to strategize to enforce output in a more formatted manner. "
   ]
  },
  {
   "cell_type": "markdown",
   "metadata": {},
   "source": [
    "**Exp:** Now we use a strategy using separators ('\\n') and local indexing for each review. Ensuring the API correctly interprets large batches of reviews.\n",
    "- This approach ensures accurate interpretation of input by the API and consistent output."
   ]
  },
  {
   "cell_type": "code",
   "execution_count": 427,
   "metadata": {},
   "outputs": [
    {
     "name": "stderr",
     "output_type": "stream",
     "text": [
      "100%|██████████| 1/1 [00:05<00:00,  5.37s/it]"
     ]
    },
    {
     "name": "stdout",
     "output_type": "stream",
     "text": [
      "100\n"
     ]
    },
    {
     "name": "stderr",
     "output_type": "stream",
     "text": [
      "\n"
     ]
    }
   ],
   "source": [
    "import pandas as pd\n",
    "# import genai\n",
    "from tqdm import tqdm\n",
    "\n",
    "# Assuming you've already set up the Gemini model as before\n",
    "model = genai.GenerativeModel(\n",
    "    model_name=\"gemini-1.5-flash\",\n",
    "    system_instruction=(\"You are a customer review sentiment analyzer for medical drug reviews. \"\n",
    "                        \"Analyze the sentiment of each review and classify it as Positive, Negative, or Neutral. \"\n",
    "                        \"Provide your response as a JSON array where each element contains a review number and its sentiment.\")\n",
    ")\n",
    "\n",
    "def get_sentiments_batch(reviews, batch_size=100):\n",
    "    all_sentiments = {}\n",
    "    \n",
    "    for i in tqdm(range(0, len(reviews), batch_size)):\n",
    "        batch = reviews[i:i+batch_size]\n",
    "        formatted_reviews = \"\\n\".join([f\"{j+1}. {review}\" for j, review in enumerate(batch)])\n",
    "        \n",
    "        prompt = f\"Analyze the sentiment of each of the following drug reviews:\\n\\n{formatted_reviews}\"\n",
    "\n",
    "        response = model.generate_content(\n",
    "            prompt,\n",
    "            safety_settings=[\n",
    "                {\"category\": \"HARM_CATEGORY_DANGEROUS_CONTENT\", \"threshold\": \"BLOCK_NONE\"},\n",
    "                {\"category\": \"HARM_CATEGORY_SEXUALLY_EXPLICIT\", \"threshold\": \"BLOCK_NONE\"},\n",
    "                {\"category\": \"HARM_CATEGORY_HATE_SPEECH\", \"threshold\": \"BLOCK_NONE\"},\n",
    "                {\"category\": \"HARM_CATEGORY_HARASSMENT\", \"threshold\": \"BLOCK_NONE\"}\n",
    "            ],\n",
    "            generation_config=genai.GenerationConfig(\n",
    "                response_mime_type=\"application/json\",\n",
    "                response_schema={\n",
    "                    \"type\": \"array\",\n",
    "                    \"items\": {\n",
    "                        \"type\": \"object\",\n",
    "                        \"properties\": {\n",
    "                            \"review_number\": {\"type\": \"integer\"},\n",
    "                            \"sentiment\": {\n",
    "                                \"type\": \"string\",\n",
    "                                \"enum\": [\"Positive\", \"Negative\", \"Neutral\"]\n",
    "                            }\n",
    "                        },\n",
    "                        \"required\": [\"review_number\", \"sentiment\"]\n",
    "                    }\n",
    "                }\n",
    "            )\n",
    "        )\n",
    "\n",
    "        try:\n",
    "            result = json.loads(response.text)\n",
    "            for item in result:\n",
    "                all_sentiments[i + item['review_number'] - 1] = item['sentiment']\n",
    "        except json.JSONDecodeError:\n",
    "            print(f\"Error parsing JSON response for batch starting at index {i}. Raw response:\")\n",
    "            print(response.text)\n",
    "\n",
    "    return all_sentiments\n",
    "\n",
    "# Assuming your original dataframe is called 'df' and has a 'review' column\n",
    "# reviews = df['review'].tolist()\n",
    "\n",
    "# Get sentiments for all reviews\n",
    "sentiments = get_sentiments_batch(test_review)\n",
    "print(len(sentiments))\n",
    "# Create a new 'sentiment' column in the original dataframe\n",
    "# df['sentiment'] = df.index.map(sentiments)\n",
    "\n",
    "# Display the updated dataframe\n",
    "# print(df)"
   ]
  },
  {
   "cell_type": "markdown",
   "metadata": {},
   "source": [
    "**This optimization improved the reliability and accuracy of sentiment analysis results. As now llm is able to take into account each review passed in the batch with the help of local indexing, and return a sentiment associated with the index value of the review, thus fixing the issue of missing reviews/sentiments and unreliable results.**"
   ]
  },
  {
   "cell_type": "markdown",
   "metadata": {},
   "source": [
    "---"
   ]
  },
  {
   "cell_type": "markdown",
   "metadata": {},
   "source": [
    "**Successful Experiment:**"
   ]
  },
  {
   "cell_type": "markdown",
   "metadata": {},
   "source": [
    "For 1000 rows dataframe"
   ]
  },
  {
   "cell_type": "code",
   "execution_count": 447,
   "metadata": {},
   "outputs": [
    {
     "name": "stderr",
     "output_type": "stream",
     "text": [
      "100%|██████████| 10/10 [00:53<00:00,  5.36s/it]"
     ]
    },
    {
     "name": "stdout",
     "output_type": "stream",
     "text": [
      "Number of processed sentiments: 1000\n"
     ]
    },
    {
     "name": "stderr",
     "output_type": "stream",
     "text": [
      "\n"
     ]
    }
   ],
   "source": [
    "import pandas as pd\n",
    "import json\n",
    "from tqdm import tqdm\n",
    "\n",
    "\n",
    "model = genai.GenerativeModel(\n",
    "    model_name=\"gemini-1.5-flash\",\n",
    "    system_instruction=(\n",
    "        \"You are a customer review sentiment analyzer for medical drug reviews. \"\n",
    "        \"Analyze the sentiment of each review and classify it as Positive, Negative, or Neutral. \"\n",
    "        \"Provide your response as a JSON array where each element contains a review number and its sentiment.\"\n",
    "    )\n",
    ")\n",
    "\n",
    "def get_sentiments_batch(reviews, batch_size=100):\n",
    "    all_sentiments = {}\n",
    "    \n",
    "    for i in tqdm(range(0, len(reviews), batch_size)):\n",
    "        batch = reviews[i:i+batch_size]\n",
    "        \n",
    "        # Formatting reviews with numbering for batch prompt\n",
    "        formatted_reviews = \"\\n\".join([f\"{j + 1}. {review}\" for j, review in enumerate(batch)]) #local indexing will input 1. review, 2.review so same will be the output, thus\n",
    "        prompt = f\"Analyze the sentiment of each of the following drug reviews:\\n\\n{formatted_reviews}\" # we need to adjust idx further after output to match the mainlist.\n",
    "\n",
    "        # Send batch prompt to Gemini API\n",
    "        response = model.generate_content(\n",
    "            prompt,\n",
    "            safety_settings=[\n",
    "                {\"category\": \"HARM_CATEGORY_DANGEROUS_CONTENT\", \"threshold\": \"BLOCK_NONE\"},\n",
    "                {\"category\": \"HARM_CATEGORY_SEXUALLY_EXPLICIT\", \"threshold\": \"BLOCK_NONE\"},\n",
    "                {\"category\": \"HARM_CATEGORY_HATE_SPEECH\", \"threshold\": \"BLOCK_NONE\"},\n",
    "                {\"category\": \"HARM_CATEGORY_HARASSMENT\", \"threshold\": \"BLOCK_NONE\"}\n",
    "            ],\n",
    "            generation_config=genai.GenerationConfig(\n",
    "                response_mime_type=\"application/json\",\n",
    "                response_schema={\n",
    "                    \"type\": \"array\",\n",
    "                    \"items\": {\n",
    "                        \"type\": \"object\",\n",
    "                        \"properties\": {\n",
    "                            \"review_number\": {\"type\": \"integer\"},\n",
    "                            \"sentiment\": {\n",
    "                                \"type\": \"string\",\n",
    "                                \"enum\": [\"Positive\", \"Negative\", \"Neutral\"]\n",
    "                            }\n",
    "                        },\n",
    "                        \"required\": [\"review_number\", \"sentiment\"]\n",
    "                    }\n",
    "                }\n",
    "            )\n",
    "        )\n",
    "\n",
    "        try:\n",
    "            # Parse the JSON response\n",
    "            result = json.loads(response.text)\n",
    "            \n",
    "            # Ensure result is a list and iterate over it\n",
    "            # Calculate the absolute index in the main list of reviews.\n",
    "# The variable 'i' represents the starting index of the current batch in the overall list of reviews.\n",
    "# 'item['review_number']' is the local index of the review within the batch, starting from 1.\n",
    "# We subtract 1 to adjust for 0-based indexing, since the main list of reviews is indexed from 0.\n",
    "# Therefore, the formula 'i + item['review_number'] - 1' converts the local index of the review in the batch\n",
    "# to the corresponding index in the main list, ensuring we correctly map each review sentiment back to its\n",
    "# original position in the full list of reviews.\n",
    "            if isinstance(result, list):\n",
    "                for item in result:\n",
    "                    # Calculate the absolute index in all_sentiments\n",
    "                    absolute_index = i + item['review_number'] - 1\n",
    "                    all_sentiments[absolute_index] = item['sentiment']\n",
    "            else:\n",
    "                print(f\"Unexpected response format for batch starting at index {i}.\")\n",
    "                print(f\"Raw response: {response.text}\")\n",
    "        \n",
    "        except json.JSONDecodeError:\n",
    "            print(f\"Error parsing JSON response for batch starting at index {i}. Raw response:\")\n",
    "            print(response.text)\n",
    "        except KeyError:\n",
    "            print(f\"Unexpected keys in response for batch starting at index {i}. Expected keys: 'review_number' and 'sentiment'.\")\n",
    "            print(f\"Raw response: {response.text}\")\n",
    "\n",
    "    return all_sentiments\n",
    "\n",
    "# Assuming your original dataframe is called 'df' and has a 'review' column\n",
    "reviews = b_df['review'].tolist()\n",
    "\n",
    "# Example: Get sentiments for all reviews\n",
    "sentiments = get_sentiments_batch(b_df['review'].to_list())\n",
    "print(f\"Number of processed sentiments: {len(sentiments)}\")\n",
    "# Create a new 'sentiment' column in the original dataframe\n",
    "b_df['sentiment'] = b_df.index.map(sentiments)\n",
    "\n",
    "# For debugging, print out any missing reviews\n",
    "missing_reviews = [idx for idx in range(len(test_review)) if idx not in sentiments]\n",
    "if missing_reviews:\n",
    "    print(f\"Missing sentiments for the following review indices: {missing_reviews}\")\n"
   ]
  },
  {
   "cell_type": "code",
   "execution_count": 449,
   "metadata": {},
   "outputs": [
    {
     "data": {
      "text/html": [
       "<div>\n",
       "<style scoped>\n",
       "    .dataframe tbody tr th:only-of-type {\n",
       "        vertical-align: middle;\n",
       "    }\n",
       "\n",
       "    .dataframe tbody tr th {\n",
       "        vertical-align: top;\n",
       "    }\n",
       "\n",
       "    .dataframe thead th {\n",
       "        text-align: right;\n",
       "    }\n",
       "</style>\n",
       "<table border=\"1\" class=\"dataframe\">\n",
       "  <thead>\n",
       "    <tr style=\"text-align: right;\">\n",
       "      <th></th>\n",
       "      <th>drugName</th>\n",
       "      <th>condition</th>\n",
       "      <th>review</th>\n",
       "      <th>rating</th>\n",
       "      <th>sentiment</th>\n",
       "    </tr>\n",
       "  </thead>\n",
       "  <tbody>\n",
       "    <tr>\n",
       "      <th>0</th>\n",
       "      <td>Valsartan</td>\n",
       "      <td>Left Ventricular Dysfunction</td>\n",
       "      <td>\"It has no side effect, I take it in combinati...</td>\n",
       "      <td>9</td>\n",
       "      <td>Neutral</td>\n",
       "    </tr>\n",
       "    <tr>\n",
       "      <th>1</th>\n",
       "      <td>Guanfacine</td>\n",
       "      <td>ADHD</td>\n",
       "      <td>\"My son is halfway through his fourth week of ...</td>\n",
       "      <td>8</td>\n",
       "      <td>Positive</td>\n",
       "    </tr>\n",
       "    <tr>\n",
       "      <th>2</th>\n",
       "      <td>Lybrel</td>\n",
       "      <td>Birth Control</td>\n",
       "      <td>\"I used to take another oral contraceptive, wh...</td>\n",
       "      <td>5</td>\n",
       "      <td>Negative</td>\n",
       "    </tr>\n",
       "    <tr>\n",
       "      <th>3</th>\n",
       "      <td>Ortho Evra</td>\n",
       "      <td>Birth Control</td>\n",
       "      <td>\"This is my first time using any form of birth...</td>\n",
       "      <td>8</td>\n",
       "      <td>Neutral</td>\n",
       "    </tr>\n",
       "    <tr>\n",
       "      <th>4</th>\n",
       "      <td>Buprenorphine / naloxone</td>\n",
       "      <td>Opiate Dependence</td>\n",
       "      <td>\"Suboxone has completely turned my life around...</td>\n",
       "      <td>9</td>\n",
       "      <td>Positive</td>\n",
       "    </tr>\n",
       "    <tr>\n",
       "      <th>...</th>\n",
       "      <td>...</td>\n",
       "      <td>...</td>\n",
       "      <td>...</td>\n",
       "      <td>...</td>\n",
       "      <td>...</td>\n",
       "    </tr>\n",
       "    <tr>\n",
       "      <th>995</th>\n",
       "      <td>Duac</td>\n",
       "      <td>Acne</td>\n",
       "      <td>\"The product is working so well for my athleti...</td>\n",
       "      <td>8</td>\n",
       "      <td>Positive</td>\n",
       "    </tr>\n",
       "    <tr>\n",
       "      <th>996</th>\n",
       "      <td>Liothyronine</td>\n",
       "      <td>Underactive Thyroid</td>\n",
       "      <td>\"as a supplement to levothyroxine it has been ...</td>\n",
       "      <td>10</td>\n",
       "      <td>Positive</td>\n",
       "    </tr>\n",
       "    <tr>\n",
       "      <th>997</th>\n",
       "      <td>Dextromethorphan</td>\n",
       "      <td>Cough</td>\n",
       "      <td>\"This worked great for my husband until he gav...</td>\n",
       "      <td>1</td>\n",
       "      <td>Negative</td>\n",
       "    </tr>\n",
       "    <tr>\n",
       "      <th>998</th>\n",
       "      <td>Dapsone</td>\n",
       "      <td>Acne</td>\n",
       "      <td>\"I have tried almost everything under the sun ...</td>\n",
       "      <td>10</td>\n",
       "      <td>Positive</td>\n",
       "    </tr>\n",
       "    <tr>\n",
       "      <th>999</th>\n",
       "      <td>Levothyroxine</td>\n",
       "      <td>Underactive Thyroid</td>\n",
       "      <td>\"My thyroid test showed it to be under active,...</td>\n",
       "      <td>6</td>\n",
       "      <td>Neutral</td>\n",
       "    </tr>\n",
       "  </tbody>\n",
       "</table>\n",
       "<p>1000 rows × 5 columns</p>\n",
       "</div>"
      ],
      "text/plain": [
       "                     drugName                     condition  \\\n",
       "0                   Valsartan  Left Ventricular Dysfunction   \n",
       "1                  Guanfacine                          ADHD   \n",
       "2                      Lybrel                 Birth Control   \n",
       "3                  Ortho Evra                 Birth Control   \n",
       "4    Buprenorphine / naloxone             Opiate Dependence   \n",
       "..                        ...                           ...   \n",
       "995                      Duac                          Acne   \n",
       "996              Liothyronine           Underactive Thyroid   \n",
       "997          Dextromethorphan                         Cough   \n",
       "998                   Dapsone                          Acne   \n",
       "999             Levothyroxine           Underactive Thyroid   \n",
       "\n",
       "                                                review  rating sentiment  \n",
       "0    \"It has no side effect, I take it in combinati...       9   Neutral  \n",
       "1    \"My son is halfway through his fourth week of ...       8  Positive  \n",
       "2    \"I used to take another oral contraceptive, wh...       5  Negative  \n",
       "3    \"This is my first time using any form of birth...       8   Neutral  \n",
       "4    \"Suboxone has completely turned my life around...       9  Positive  \n",
       "..                                                 ...     ...       ...  \n",
       "995  \"The product is working so well for my athleti...       8  Positive  \n",
       "996  \"as a supplement to levothyroxine it has been ...      10  Positive  \n",
       "997  \"This worked great for my husband until he gav...       1  Negative  \n",
       "998  \"I have tried almost everything under the sun ...      10  Positive  \n",
       "999  \"My thyroid test showed it to be under active,...       6   Neutral  \n",
       "\n",
       "[1000 rows x 5 columns]"
      ]
     },
     "execution_count": 449,
     "metadata": {},
     "output_type": "execute_result"
    }
   ],
   "source": [
    "b_df"
   ]
  },
  {
   "cell_type": "markdown",
   "metadata": {},
   "source": [
    "For 10,000 rows dataframe"
   ]
  },
  {
   "cell_type": "code",
   "execution_count": 450,
   "metadata": {},
   "outputs": [
    {
     "data": {
      "text/html": [
       "<div>\n",
       "<style scoped>\n",
       "    .dataframe tbody tr th:only-of-type {\n",
       "        vertical-align: middle;\n",
       "    }\n",
       "\n",
       "    .dataframe tbody tr th {\n",
       "        vertical-align: top;\n",
       "    }\n",
       "\n",
       "    .dataframe thead th {\n",
       "        text-align: right;\n",
       "    }\n",
       "</style>\n",
       "<table border=\"1\" class=\"dataframe\">\n",
       "  <thead>\n",
       "    <tr style=\"text-align: right;\">\n",
       "      <th></th>\n",
       "      <th>drugName</th>\n",
       "      <th>condition</th>\n",
       "      <th>review</th>\n",
       "      <th>rating</th>\n",
       "    </tr>\n",
       "  </thead>\n",
       "  <tbody>\n",
       "    <tr>\n",
       "      <th>0</th>\n",
       "      <td>Valsartan</td>\n",
       "      <td>Left Ventricular Dysfunction</td>\n",
       "      <td>\"It has no side effect, I take it in combinati...</td>\n",
       "      <td>9</td>\n",
       "    </tr>\n",
       "    <tr>\n",
       "      <th>1</th>\n",
       "      <td>Guanfacine</td>\n",
       "      <td>ADHD</td>\n",
       "      <td>\"My son is halfway through his fourth week of ...</td>\n",
       "      <td>8</td>\n",
       "    </tr>\n",
       "    <tr>\n",
       "      <th>2</th>\n",
       "      <td>Lybrel</td>\n",
       "      <td>Birth Control</td>\n",
       "      <td>\"I used to take another oral contraceptive, wh...</td>\n",
       "      <td>5</td>\n",
       "    </tr>\n",
       "    <tr>\n",
       "      <th>3</th>\n",
       "      <td>Ortho Evra</td>\n",
       "      <td>Birth Control</td>\n",
       "      <td>\"This is my first time using any form of birth...</td>\n",
       "      <td>8</td>\n",
       "    </tr>\n",
       "    <tr>\n",
       "      <th>4</th>\n",
       "      <td>Buprenorphine / naloxone</td>\n",
       "      <td>Opiate Dependence</td>\n",
       "      <td>\"Suboxone has completely turned my life around...</td>\n",
       "      <td>9</td>\n",
       "    </tr>\n",
       "    <tr>\n",
       "      <th>...</th>\n",
       "      <td>...</td>\n",
       "      <td>...</td>\n",
       "      <td>...</td>\n",
       "      <td>...</td>\n",
       "    </tr>\n",
       "    <tr>\n",
       "      <th>9995</th>\n",
       "      <td>Etonogestrel</td>\n",
       "      <td>Birth Control</td>\n",
       "      <td>\"Where do I begin, I have been on Nexplanon fo...</td>\n",
       "      <td>6</td>\n",
       "    </tr>\n",
       "    <tr>\n",
       "      <th>9996</th>\n",
       "      <td>Dienogest / estradiol</td>\n",
       "      <td>Birth Control</td>\n",
       "      <td>\"Natazia made me moody (teary-eyed for no reas...</td>\n",
       "      <td>2</td>\n",
       "    </tr>\n",
       "    <tr>\n",
       "      <th>9997</th>\n",
       "      <td>Tioconazole</td>\n",
       "      <td>Vaginal Yeast Infection</td>\n",
       "      <td>\"HORRIBLE, HORRIBLE EXPERIENCE with this drug....</td>\n",
       "      <td>1</td>\n",
       "    </tr>\n",
       "    <tr>\n",
       "      <th>9998</th>\n",
       "      <td>Solodyn</td>\n",
       "      <td>Acne</td>\n",
       "      <td>\"I started taking solodyn 80mg for a month aft...</td>\n",
       "      <td>4</td>\n",
       "    </tr>\n",
       "    <tr>\n",
       "      <th>9999</th>\n",
       "      <td>Levonorgestrel</td>\n",
       "      <td>Emergency Contraception</td>\n",
       "      <td>\"Okay, So if your on here freaking out like I ...</td>\n",
       "      <td>10</td>\n",
       "    </tr>\n",
       "  </tbody>\n",
       "</table>\n",
       "<p>10000 rows × 4 columns</p>\n",
       "</div>"
      ],
      "text/plain": [
       "                      drugName                     condition  \\\n",
       "0                    Valsartan  Left Ventricular Dysfunction   \n",
       "1                   Guanfacine                          ADHD   \n",
       "2                       Lybrel                 Birth Control   \n",
       "3                   Ortho Evra                 Birth Control   \n",
       "4     Buprenorphine / naloxone             Opiate Dependence   \n",
       "...                        ...                           ...   \n",
       "9995              Etonogestrel                 Birth Control   \n",
       "9996     Dienogest / estradiol                 Birth Control   \n",
       "9997               Tioconazole       Vaginal Yeast Infection   \n",
       "9998                   Solodyn                          Acne   \n",
       "9999            Levonorgestrel       Emergency Contraception   \n",
       "\n",
       "                                                 review  rating  \n",
       "0     \"It has no side effect, I take it in combinati...       9  \n",
       "1     \"My son is halfway through his fourth week of ...       8  \n",
       "2     \"I used to take another oral contraceptive, wh...       5  \n",
       "3     \"This is my first time using any form of birth...       8  \n",
       "4     \"Suboxone has completely turned my life around...       9  \n",
       "...                                                 ...     ...  \n",
       "9995  \"Where do I begin, I have been on Nexplanon fo...       6  \n",
       "9996  \"Natazia made me moody (teary-eyed for no reas...       2  \n",
       "9997  \"HORRIBLE, HORRIBLE EXPERIENCE with this drug....       1  \n",
       "9998  \"I started taking solodyn 80mg for a month aft...       4  \n",
       "9999  \"Okay, So if your on here freaking out like I ...      10  \n",
       "\n",
       "[10000 rows x 4 columns]"
      ]
     },
     "execution_count": 450,
     "metadata": {},
     "output_type": "execute_result"
    }
   ],
   "source": [
    "b_10k_df =  df.iloc[:10000,:4].copy()\n",
    "b_10k_df"
   ]
  },
  {
   "cell_type": "code",
   "execution_count": 454,
   "metadata": {},
   "outputs": [
    {
     "name": "stderr",
     "output_type": "stream",
     "text": [
      "100%|██████████| 100/100 [08:54<00:00,  5.35s/it]"
     ]
    },
    {
     "name": "stdout",
     "output_type": "stream",
     "text": [
      "Number of processed sentiments: 10000\n"
     ]
    },
    {
     "name": "stderr",
     "output_type": "stream",
     "text": [
      "\n"
     ]
    }
   ],
   "source": [
    "reviews_10k = b_10k_df['review'].tolist()\n",
    "\n",
    "# Example: Get sentiments for all reviews\n",
    "sentiments = get_sentiments_batch(reviews_10k)\n",
    "print(f\"Number of processed sentiments: {len(sentiments)}\")\n",
    "# Create a new 'sentiment' column in the original dataframe\n",
    "b_10k_df['sentiment'] = b_10k_df.index.map(sentiments)"
   ]
  },
  {
   "cell_type": "code",
   "execution_count": 455,
   "metadata": {},
   "outputs": [
    {
     "data": {
      "text/html": [
       "<div>\n",
       "<style scoped>\n",
       "    .dataframe tbody tr th:only-of-type {\n",
       "        vertical-align: middle;\n",
       "    }\n",
       "\n",
       "    .dataframe tbody tr th {\n",
       "        vertical-align: top;\n",
       "    }\n",
       "\n",
       "    .dataframe thead th {\n",
       "        text-align: right;\n",
       "    }\n",
       "</style>\n",
       "<table border=\"1\" class=\"dataframe\">\n",
       "  <thead>\n",
       "    <tr style=\"text-align: right;\">\n",
       "      <th></th>\n",
       "      <th>drugName</th>\n",
       "      <th>condition</th>\n",
       "      <th>review</th>\n",
       "      <th>rating</th>\n",
       "      <th>sentiment</th>\n",
       "    </tr>\n",
       "  </thead>\n",
       "  <tbody>\n",
       "    <tr>\n",
       "      <th>0</th>\n",
       "      <td>Valsartan</td>\n",
       "      <td>Left Ventricular Dysfunction</td>\n",
       "      <td>\"It has no side effect, I take it in combinati...</td>\n",
       "      <td>9</td>\n",
       "      <td>Neutral</td>\n",
       "    </tr>\n",
       "    <tr>\n",
       "      <th>1</th>\n",
       "      <td>Guanfacine</td>\n",
       "      <td>ADHD</td>\n",
       "      <td>\"My son is halfway through his fourth week of ...</td>\n",
       "      <td>8</td>\n",
       "      <td>Positive</td>\n",
       "    </tr>\n",
       "    <tr>\n",
       "      <th>2</th>\n",
       "      <td>Lybrel</td>\n",
       "      <td>Birth Control</td>\n",
       "      <td>\"I used to take another oral contraceptive, wh...</td>\n",
       "      <td>5</td>\n",
       "      <td>Negative</td>\n",
       "    </tr>\n",
       "    <tr>\n",
       "      <th>3</th>\n",
       "      <td>Ortho Evra</td>\n",
       "      <td>Birth Control</td>\n",
       "      <td>\"This is my first time using any form of birth...</td>\n",
       "      <td>8</td>\n",
       "      <td>Neutral</td>\n",
       "    </tr>\n",
       "    <tr>\n",
       "      <th>4</th>\n",
       "      <td>Buprenorphine / naloxone</td>\n",
       "      <td>Opiate Dependence</td>\n",
       "      <td>\"Suboxone has completely turned my life around...</td>\n",
       "      <td>9</td>\n",
       "      <td>Positive</td>\n",
       "    </tr>\n",
       "    <tr>\n",
       "      <th>...</th>\n",
       "      <td>...</td>\n",
       "      <td>...</td>\n",
       "      <td>...</td>\n",
       "      <td>...</td>\n",
       "      <td>...</td>\n",
       "    </tr>\n",
       "    <tr>\n",
       "      <th>9995</th>\n",
       "      <td>Etonogestrel</td>\n",
       "      <td>Birth Control</td>\n",
       "      <td>\"Where do I begin, I have been on Nexplanon fo...</td>\n",
       "      <td>6</td>\n",
       "      <td>Neutral</td>\n",
       "    </tr>\n",
       "    <tr>\n",
       "      <th>9996</th>\n",
       "      <td>Dienogest / estradiol</td>\n",
       "      <td>Birth Control</td>\n",
       "      <td>\"Natazia made me moody (teary-eyed for no reas...</td>\n",
       "      <td>2</td>\n",
       "      <td>Negative</td>\n",
       "    </tr>\n",
       "    <tr>\n",
       "      <th>9997</th>\n",
       "      <td>Tioconazole</td>\n",
       "      <td>Vaginal Yeast Infection</td>\n",
       "      <td>\"HORRIBLE, HORRIBLE EXPERIENCE with this drug....</td>\n",
       "      <td>1</td>\n",
       "      <td>Negative</td>\n",
       "    </tr>\n",
       "    <tr>\n",
       "      <th>9998</th>\n",
       "      <td>Solodyn</td>\n",
       "      <td>Acne</td>\n",
       "      <td>\"I started taking solodyn 80mg for a month aft...</td>\n",
       "      <td>4</td>\n",
       "      <td>Negative</td>\n",
       "    </tr>\n",
       "    <tr>\n",
       "      <th>9999</th>\n",
       "      <td>Levonorgestrel</td>\n",
       "      <td>Emergency Contraception</td>\n",
       "      <td>\"Okay, So if your on here freaking out like I ...</td>\n",
       "      <td>10</td>\n",
       "      <td>Positive</td>\n",
       "    </tr>\n",
       "  </tbody>\n",
       "</table>\n",
       "<p>10000 rows × 5 columns</p>\n",
       "</div>"
      ],
      "text/plain": [
       "                      drugName                     condition  \\\n",
       "0                    Valsartan  Left Ventricular Dysfunction   \n",
       "1                   Guanfacine                          ADHD   \n",
       "2                       Lybrel                 Birth Control   \n",
       "3                   Ortho Evra                 Birth Control   \n",
       "4     Buprenorphine / naloxone             Opiate Dependence   \n",
       "...                        ...                           ...   \n",
       "9995              Etonogestrel                 Birth Control   \n",
       "9996     Dienogest / estradiol                 Birth Control   \n",
       "9997               Tioconazole       Vaginal Yeast Infection   \n",
       "9998                   Solodyn                          Acne   \n",
       "9999            Levonorgestrel       Emergency Contraception   \n",
       "\n",
       "                                                 review  rating sentiment  \n",
       "0     \"It has no side effect, I take it in combinati...       9   Neutral  \n",
       "1     \"My son is halfway through his fourth week of ...       8  Positive  \n",
       "2     \"I used to take another oral contraceptive, wh...       5  Negative  \n",
       "3     \"This is my first time using any form of birth...       8   Neutral  \n",
       "4     \"Suboxone has completely turned my life around...       9  Positive  \n",
       "...                                                 ...     ...       ...  \n",
       "9995  \"Where do I begin, I have been on Nexplanon fo...       6   Neutral  \n",
       "9996  \"Natazia made me moody (teary-eyed for no reas...       2  Negative  \n",
       "9997  \"HORRIBLE, HORRIBLE EXPERIENCE with this drug....       1  Negative  \n",
       "9998  \"I started taking solodyn 80mg for a month aft...       4  Negative  \n",
       "9999  \"Okay, So if your on here freaking out like I ...      10  Positive  \n",
       "\n",
       "[10000 rows x 5 columns]"
      ]
     },
     "execution_count": 455,
     "metadata": {},
     "output_type": "execute_result"
    }
   ],
   "source": [
    "b_10k_df"
   ]
  },
  {
   "cell_type": "markdown",
   "metadata": {},
   "source": [
    "For 50,000 rows"
   ]
  },
  {
   "cell_type": "code",
   "execution_count": 456,
   "metadata": {},
   "outputs": [
    {
     "data": {
      "text/html": [
       "<div>\n",
       "<style scoped>\n",
       "    .dataframe tbody tr th:only-of-type {\n",
       "        vertical-align: middle;\n",
       "    }\n",
       "\n",
       "    .dataframe tbody tr th {\n",
       "        vertical-align: top;\n",
       "    }\n",
       "\n",
       "    .dataframe thead th {\n",
       "        text-align: right;\n",
       "    }\n",
       "</style>\n",
       "<table border=\"1\" class=\"dataframe\">\n",
       "  <thead>\n",
       "    <tr style=\"text-align: right;\">\n",
       "      <th></th>\n",
       "      <th>drugName</th>\n",
       "      <th>condition</th>\n",
       "      <th>review</th>\n",
       "      <th>rating</th>\n",
       "    </tr>\n",
       "  </thead>\n",
       "  <tbody>\n",
       "    <tr>\n",
       "      <th>0</th>\n",
       "      <td>Valsartan</td>\n",
       "      <td>Left Ventricular Dysfunction</td>\n",
       "      <td>\"It has no side effect, I take it in combinati...</td>\n",
       "      <td>9</td>\n",
       "    </tr>\n",
       "    <tr>\n",
       "      <th>1</th>\n",
       "      <td>Guanfacine</td>\n",
       "      <td>ADHD</td>\n",
       "      <td>\"My son is halfway through his fourth week of ...</td>\n",
       "      <td>8</td>\n",
       "    </tr>\n",
       "    <tr>\n",
       "      <th>2</th>\n",
       "      <td>Lybrel</td>\n",
       "      <td>Birth Control</td>\n",
       "      <td>\"I used to take another oral contraceptive, wh...</td>\n",
       "      <td>5</td>\n",
       "    </tr>\n",
       "    <tr>\n",
       "      <th>3</th>\n",
       "      <td>Ortho Evra</td>\n",
       "      <td>Birth Control</td>\n",
       "      <td>\"This is my first time using any form of birth...</td>\n",
       "      <td>8</td>\n",
       "    </tr>\n",
       "    <tr>\n",
       "      <th>4</th>\n",
       "      <td>Buprenorphine / naloxone</td>\n",
       "      <td>Opiate Dependence</td>\n",
       "      <td>\"Suboxone has completely turned my life around...</td>\n",
       "      <td>9</td>\n",
       "    </tr>\n",
       "    <tr>\n",
       "      <th>...</th>\n",
       "      <td>...</td>\n",
       "      <td>...</td>\n",
       "      <td>...</td>\n",
       "      <td>...</td>\n",
       "    </tr>\n",
       "    <tr>\n",
       "      <th>49995</th>\n",
       "      <td>Esomeprazole</td>\n",
       "      <td>Barrett's Esophagus</td>\n",
       "      <td>\"Used Nexium for over 14 years. You need to st...</td>\n",
       "      <td>6</td>\n",
       "    </tr>\n",
       "    <tr>\n",
       "      <th>49996</th>\n",
       "      <td>Diprivan</td>\n",
       "      <td>Anesthesia</td>\n",
       "      <td>\"I had my first screening colonoscopy with pro...</td>\n",
       "      <td>10</td>\n",
       "    </tr>\n",
       "    <tr>\n",
       "      <th>49997</th>\n",
       "      <td>Magnesium sulfate / potassium sulfate / sodium...</td>\n",
       "      <td>Bowel Preparation</td>\n",
       "      <td>\"THIS is the most vile, disgusting, putrid thi...</td>\n",
       "      <td>10</td>\n",
       "    </tr>\n",
       "    <tr>\n",
       "      <th>49998</th>\n",
       "      <td>Abilify</td>\n",
       "      <td>Bipolar Disorde</td>\n",
       "      <td>\"I have been taking Abilify for nearly two yea...</td>\n",
       "      <td>10</td>\n",
       "    </tr>\n",
       "    <tr>\n",
       "      <th>49999</th>\n",
       "      <td>Prozac</td>\n",
       "      <td>Obsessive Compulsive Disorde</td>\n",
       "      <td>\"I love it! It helped my anxiety, depression a...</td>\n",
       "      <td>10</td>\n",
       "    </tr>\n",
       "  </tbody>\n",
       "</table>\n",
       "<p>50000 rows × 4 columns</p>\n",
       "</div>"
      ],
      "text/plain": [
       "                                                drugName  \\\n",
       "0                                              Valsartan   \n",
       "1                                             Guanfacine   \n",
       "2                                                 Lybrel   \n",
       "3                                             Ortho Evra   \n",
       "4                               Buprenorphine / naloxone   \n",
       "...                                                  ...   \n",
       "49995                                       Esomeprazole   \n",
       "49996                                           Diprivan   \n",
       "49997  Magnesium sulfate / potassium sulfate / sodium...   \n",
       "49998                                            Abilify   \n",
       "49999                                             Prozac   \n",
       "\n",
       "                          condition  \\\n",
       "0      Left Ventricular Dysfunction   \n",
       "1                              ADHD   \n",
       "2                     Birth Control   \n",
       "3                     Birth Control   \n",
       "4                 Opiate Dependence   \n",
       "...                             ...   \n",
       "49995           Barrett's Esophagus   \n",
       "49996                    Anesthesia   \n",
       "49997             Bowel Preparation   \n",
       "49998               Bipolar Disorde   \n",
       "49999  Obsessive Compulsive Disorde   \n",
       "\n",
       "                                                  review  rating  \n",
       "0      \"It has no side effect, I take it in combinati...       9  \n",
       "1      \"My son is halfway through his fourth week of ...       8  \n",
       "2      \"I used to take another oral contraceptive, wh...       5  \n",
       "3      \"This is my first time using any form of birth...       8  \n",
       "4      \"Suboxone has completely turned my life around...       9  \n",
       "...                                                  ...     ...  \n",
       "49995  \"Used Nexium for over 14 years. You need to st...       6  \n",
       "49996  \"I had my first screening colonoscopy with pro...      10  \n",
       "49997  \"THIS is the most vile, disgusting, putrid thi...      10  \n",
       "49998  \"I have been taking Abilify for nearly two yea...      10  \n",
       "49999  \"I love it! It helped my anxiety, depression a...      10  \n",
       "\n",
       "[50000 rows x 4 columns]"
      ]
     },
     "execution_count": 456,
     "metadata": {},
     "output_type": "execute_result"
    }
   ],
   "source": [
    "b_50k_df =  df.iloc[:50000,:4].copy()\n",
    "b_50k_df"
   ]
  },
  {
   "cell_type": "code",
   "execution_count": 457,
   "metadata": {},
   "outputs": [
    {
     "name": "stderr",
     "output_type": "stream",
     "text": [
      "100%|██████████| 500/500 [44:45<00:00,  5.37s/it]"
     ]
    },
    {
     "name": "stdout",
     "output_type": "stream",
     "text": [
      "Number of processed sentiments: 50000\n"
     ]
    },
    {
     "name": "stderr",
     "output_type": "stream",
     "text": [
      "\n"
     ]
    }
   ],
   "source": [
    "reviews_50k = b_50k_df['review'].tolist()\n",
    "\n",
    "# Example: Get sentiments for all reviews\n",
    "sentiments = get_sentiments_batch(reviews_50k)\n",
    "print(f\"Number of processed sentiments: {len(sentiments)}\")\n",
    "# Create a new 'sentiment' column in the original dataframe\n",
    "b_50k_df['sentiment'] = b_50k_df.index.map(sentiments)"
   ]
  },
  {
   "cell_type": "markdown",
   "metadata": {},
   "source": [
    "Scalability Testing\n",
    "\n",
    "-  Conducted experiments with varying dataset sizes:\n",
    "-  Initially tested with 1,000 reviews (batch size = 100)\n",
    "-  Successfully scaled up to process 50,000 reviews (batch size = 1000 in a\n",
    "single API call)\n",
    "\n",
    "API Limitation Mitigation\n",
    "-  The batch processing approach effectively mitigated free API tier limitations\n",
    "-  Achieved significant efficiency gains by processing thousands of reviews in one\n",
    "API call"
   ]
  },
  {
   "cell_type": "markdown",
   "metadata": {},
   "source": [
    "----"
   ]
  },
  {
   "cell_type": "markdown",
   "metadata": {},
   "source": [
    "Local LLM Experiment:"
   ]
  },
  {
   "cell_type": "code",
   "execution_count": null,
   "metadata": {},
   "outputs": [],
   "source": [
    "from transformers import AutoTokenizer, AutoModelForSequenceClassification, pipeline\n",
    "\n",
    "# Load a LLaMA model for sentiment analysis (replace with an appropriate LLaMA model)\n",
    "model_name = \"meta-llama/Llama-2-7b-chat-hf\"  # Example LLaMA model from Hugging Face\n",
    "tokenizer = AutoTokenizer.from_pretrained(model_name)\n",
    "model = AutoModelForSequenceClassification.from_pretrained(model_name)\n",
    "\n",
    "# Initialize the sentiment analysis pipeline\n",
    "sentiment_pipeline = pipeline(\"sentiment-analysis\", model=model, tokenizer=tokenizer)\n",
    "\n",
    "# Example text for sentiment analysis\n",
    "example_review = \"I really love this product, it's amazing!\"\n",
    "result = sentiment_pipeline(example_review)\n",
    "\n",
    "# Display the sentiment\n",
    "print(result)\n"
   ]
  },
  {
   "cell_type": "code",
   "execution_count": null,
   "metadata": {},
   "outputs": [],
   "source": [
    "from transformers import pipeline\n",
    "\n",
    "# Load the DistilGPT-2 model using Hugging Face\n",
    "sentiment_pipeline = pipeline(\"text-classification\", model=\"distilgpt2\")\n",
    "\n",
    "# Example sentence for sentiment analysis\n",
    "text = \"I love using this product! It has been amazing so far.\"\n",
    "\n",
    "# Run sentiment analysis\n",
    "result = sentiment_pipeline(text)\n",
    "print(result)\n"
   ]
  },
  {
   "cell_type": "code",
   "execution_count": 7,
   "metadata": {},
   "outputs": [],
   "source": [
    "test_df =  df.copy()"
   ]
  },
  {
   "cell_type": "code",
   "execution_count": null,
   "metadata": {},
   "outputs": [],
   "source": [
    "from transformers import GPT2Tokenizer, GPT2ForSequenceClassification\n",
    "import torch\n",
    "\n",
    "tokenizer = GPT2Tokenizer.from_pretrained('distilgpt2')\n",
    "model = GPT2ForSequenceClassification.from_pretrained('distilgpt2', num_labels=2)\n",
    "\n",
    "# Add padding token to tokenizer\n",
    "tokenizer.pad_token = tokenizer.eos_token"
   ]
  },
  {
   "cell_type": "code",
   "execution_count": 13,
   "metadata": {},
   "outputs": [],
   "source": [
    "def analyze_sentiment_with_gpt(review):\n",
    "    prompt = f\"Classify the sentiment of this review as Positive or Negative:\\nReview: {review}\\nSentiment: \"\n",
    "    inputs = tokenizer(prompt, return_tensors=\"pt\")\n",
    "    outputs = model.generate(inputs['input_ids'], max_length=50)\n",
    "    generated_text = tokenizer.decode(outputs[0], skip_special_tokens=True)\n",
    "    \n",
    "    # Extracting the sentiment from the generated text\n",
    "    if \"Positive\" in generated_text:\n",
    "        return \"Positive\"\n",
    "    elif \"Negative\" in generated_text:\n",
    "        return \"Negative\"\n",
    "    else:\n",
    "        return \"Neutral\"\n"
   ]
  },
  {
   "cell_type": "code",
   "execution_count": null,
   "metadata": {},
   "outputs": [],
   "source": [
    "import pandas as pd\n",
    "\n",
    "# Apply the GPT-based sentiment analysis function\n",
    "test_df['sentiment'][:2] = test_df['review'][:2].apply(analyze_sentiment_with_gpt)\n",
    "\n",
    "\n"
   ]
  },
  {
   "cell_type": "code",
   "execution_count": 9,
   "metadata": {},
   "outputs": [],
   "source": [
    "def preprocess_text(text):\n",
    "    inputs = tokenizer(text, padding=True, truncation=True, return_tensors=\"pt\")\n",
    "    return inputs\n",
    "\n",
    "# Apply preprocessing to your review column\n",
    "test_df['processed_reviews'] = test_df['review'][:5].apply(preprocess_text)"
   ]
  },
  {
   "cell_type": "code",
   "execution_count": null,
   "metadata": {},
   "outputs": [],
   "source": [
    "test_df['processed_reviews'][:5]"
   ]
  },
  {
   "cell_type": "code",
   "execution_count": null,
   "metadata": {},
   "outputs": [],
   "source": [
    "def analyze_sentiment(inputs):\n",
    "    with torch.no_grad():\n",
    "        outputs = model(**inputs)\n",
    "        logits = outputs.logits\n",
    "        predicted_class = torch.argmax(logits, dim=1).item()\n",
    "    return \"Positive\" if predicted_class == 1 else \"Negative\"\n",
    "\n",
    "# Apply sentiment analysis to processed reviews\n",
    "test_df['sentiment'] = test_df['processed_reviews'].apply(analyze_sentiment)"
   ]
  },
  {
   "cell_type": "markdown",
   "metadata": {},
   "source": [
    "----"
   ]
  },
  {
   "cell_type": "markdown",
   "metadata": {},
   "source": [
    "**OpenAI LLM Experiment:** Failed due to limitation of free tier.\n"
   ]
  },
  {
   "cell_type": "code",
   "execution_count": null,
   "metadata": {},
   "outputs": [],
   "source": [
    "import openai\n",
    "\n",
    "\n",
    "openai.api_key = \"########\"\n",
    "\n",
    "def get_sentiment_openai(review):\n",
    "\n",
    "    prompt = f\"Analyze the sentiment of the following customer review:\\n\\n\\\"{review}\\\"\\n\\nIs the sentiment Positive, Negative, or Neutral?\"\n",
    "\n",
    "    # Send the prompt to the OpenAI API\n",
    "    response = openai.ChatCompletion.create(\n",
    "        model=\"gpt-4\", \n",
    "        messages=[\n",
    "            {\"role\": \"system\", \"content\": \"You are a sentiment analysis assistant.\"},\n",
    "            {\"role\": \"user\", \"content\": prompt}\n",
    "        ],\n",
    "        temperature=0  # Set to 0 for deterministic results\n",
    "    )\n",
    "    \n",
    "    # Extract and return the sentiment result\n",
    "    sentiment = response['choices'][0]['message']['content'].strip()\n",
    "    return sentiment\n",
    "\n",
    "\n",
    "review = \"This drug helped me a lot with my condition, no side effects experienced.\"\n",
    "sentiment = get_sentiment_openai(review)\n",
    "print(f\"Review: {review}\\nSentiment: {sentiment}\")\n"
   ]
  },
  {
   "cell_type": "markdown",
   "metadata": {},
   "source": [
    "### **Groq API**"
   ]
  },
  {
   "cell_type": "code",
   "execution_count": 458,
   "metadata": {},
   "outputs": [
    {
     "name": "stderr",
     "output_type": "stream",
     "text": [
      "python(1879) MallocStackLogging: can't turn off malloc stack logging because it was not enabled.\n",
      "huggingface/tokenizers: The current process just got forked, after parallelism has already been used. Disabling parallelism to avoid deadlocks...\n",
      "To disable this warning, you can either:\n",
      "\t- Avoid using `tokenizers` before the fork if possible\n",
      "\t- Explicitly set the environment variable TOKENIZERS_PARALLELISM=(true | false)\n"
     ]
    },
    {
     "name": "stdout",
     "output_type": "stream",
     "text": [
      "Collecting groq\n",
      "  Downloading groq-0.11.0-py3-none-any.whl.metadata (13 kB)\n",
      "Requirement already satisfied: anyio<5,>=3.5.0 in /opt/homebrew/Caskroom/miniconda/base/envs/dsproj/lib/python3.9/site-packages (from groq) (4.4.0)\n",
      "Requirement already satisfied: distro<2,>=1.7.0 in /opt/homebrew/Caskroom/miniconda/base/envs/dsproj/lib/python3.9/site-packages (from groq) (1.9.0)\n",
      "Requirement already satisfied: httpx<1,>=0.23.0 in /opt/homebrew/Caskroom/miniconda/base/envs/dsproj/lib/python3.9/site-packages (from groq) (0.27.0)\n",
      "Requirement already satisfied: pydantic<3,>=1.9.0 in /opt/homebrew/Caskroom/miniconda/base/envs/dsproj/lib/python3.9/site-packages (from groq) (2.5.3)\n",
      "Requirement already satisfied: sniffio in /opt/homebrew/Caskroom/miniconda/base/envs/dsproj/lib/python3.9/site-packages (from groq) (1.3.1)\n",
      "Requirement already satisfied: typing-extensions<5,>=4.7 in /opt/homebrew/Caskroom/miniconda/base/envs/dsproj/lib/python3.9/site-packages (from groq) (4.12.2)\n",
      "Requirement already satisfied: idna>=2.8 in /opt/homebrew/Caskroom/miniconda/base/envs/dsproj/lib/python3.9/site-packages (from anyio<5,>=3.5.0->groq) (3.7)\n",
      "Requirement already satisfied: exceptiongroup>=1.0.2 in /opt/homebrew/Caskroom/miniconda/base/envs/dsproj/lib/python3.9/site-packages (from anyio<5,>=3.5.0->groq) (1.2.0)\n",
      "Requirement already satisfied: certifi in /opt/homebrew/Caskroom/miniconda/base/envs/dsproj/lib/python3.9/site-packages (from httpx<1,>=0.23.0->groq) (2024.7.4)\n",
      "Requirement already satisfied: httpcore==1.* in /opt/homebrew/Caskroom/miniconda/base/envs/dsproj/lib/python3.9/site-packages (from httpx<1,>=0.23.0->groq) (1.0.5)\n",
      "Requirement already satisfied: h11<0.15,>=0.13 in /opt/homebrew/Caskroom/miniconda/base/envs/dsproj/lib/python3.9/site-packages (from httpcore==1.*->httpx<1,>=0.23.0->groq) (0.14.0)\n",
      "Requirement already satisfied: annotated-types>=0.4.0 in /opt/homebrew/Caskroom/miniconda/base/envs/dsproj/lib/python3.9/site-packages (from pydantic<3,>=1.9.0->groq) (0.6.0)\n",
      "Requirement already satisfied: pydantic-core==2.14.6 in /opt/homebrew/Caskroom/miniconda/base/envs/dsproj/lib/python3.9/site-packages (from pydantic<3,>=1.9.0->groq) (2.14.6)\n",
      "Downloading groq-0.11.0-py3-none-any.whl (106 kB)\n",
      "\u001b[2K   \u001b[90m━━━━━━━━━━━━━━━━━━━━━━━━━━━━━━━━━━━━━━━━\u001b[0m \u001b[32m106.5/106.5 kB\u001b[0m \u001b[31m1.9 MB/s\u001b[0m eta \u001b[36m0:00:00\u001b[0m \u001b[36m0:00:01\u001b[0m\n",
      "\u001b[?25hInstalling collected packages: groq\n",
      "Successfully installed groq-0.11.0\n"
     ]
    }
   ],
   "source": [
    "! pip install groq"
   ]
  },
  {
   "cell_type": "markdown",
   "metadata": {},
   "source": [
    "API key: ************************"
   ]
  },
  {
   "cell_type": "code",
   "execution_count": 7,
   "metadata": {},
   "outputs": [
    {
     "name": "stdout",
     "output_type": "stream",
     "text": [
      "/opt/homebrew/Caskroom/miniconda/base/envs/dsproj/bin:/Users/yatharth/.nvm/versions/node/v22.4.1/bin:/opt/homebrew/Caskroom/miniconda/base/envs/dsproj/bin:/opt/homebrew/Caskroom/miniconda/base/condabin:/opt/homebrew/bin:/opt/homebrew/sbin:/usr/local/bin:/System/Cryptexes/App/usr/bin:/usr/bin:/bin:/usr/sbin:/sbin:/var/run/com.apple.security.cryptexd/codex.system/bootstrap/usr/local/bin:/var/run/com.apple.security.cryptexd/codex.system/bootstrap/usr/bin:/var/run/com.apple.security.cryptexd/codex.system/bootstrap/usr/appleinternal/bin\n"
     ]
    }
   ],
   "source": [
    "import os\n",
    "print(os.environ[\"PATH\"])"
   ]
  },
  {
   "cell_type": "code",
   "execution_count": 8,
   "metadata": {},
   "outputs": [
    {
     "data": {
      "text/plain": [
       "True"
      ]
     },
     "execution_count": 8,
     "metadata": {},
     "output_type": "execute_result"
    }
   ],
   "source": [
    "from dotenv import load_dotenv\n",
    "\n",
    "load_dotenv()"
   ]
  },
  {
   "cell_type": "markdown",
   "metadata": {},
   "source": [
    "Example working of Groq API testing:"
   ]
  },
  {
   "cell_type": "code",
   "execution_count": 9,
   "metadata": {},
   "outputs": [
    {
     "name": "stdout",
     "output_type": "stream",
     "text": [
      "Fast language models, also known as Efficient Language Models, have gained significant attention in recent years due to their numerous applications and benefits. Here are some of the key reasons why they are important:\n",
      "\n",
      "1. **Scalability**: Fast language models can process large volumes of text data quickly, making them ideal for applications where speed and efficiency are crucial, such as natural language processing (NLP) and machine learning tasks.\n",
      "2. **Real-time Processing**: With the ability to process text data in real-time, fast language models can be used in applications like chatbots, voice assistants, and social media analytics, where instant responses are necessary.\n",
      "3. **Improved Performance**: By leveraging powerful computing architectures and optimized algorithms, fast language models can achieve better performance and accuracy compared to traditional language models, even with limited computational resources.\n",
      "4. **Cost-Effective**: Fast language models require less computational power and memory compared to traditional language models, making them more cost-effective and energy-efficient.\n",
      "5. **Faster Training and Inference**: The ability to train and inference efficiently enables faster development and deployment of language-based applications, reducing the time-to-market and increasing the competitive edge.\n",
      "6. **Enabling New Applications**: Fast language models can be used in emerging applications like:\n",
      "\t* Natural Language Generation (NLG) for content creation and messaging\n",
      "\t* Question Answering (QA) systems for knowledge retrieval\n",
      "\t* Sentiment Analysis and Opinion Mining for insights and market research\n",
      "7. **Human-Machine Interaction**: Fast language models can be used to improve human-machine interaction, enabling more natural and intuitive communication between humans and computers.\n",
      "8. **Low-Resource Languages**: Fast language models can be particularly beneficial for low-resource languages, where there is limited data and computational resources available, making it challenging to train traditional language models.\n",
      "9. **Cross-Lingual Transfer**: Fast language models can facilitate cross-lingual transfer of knowledge, enabling better performance on low-resource languages and domains.\n",
      "10. **Foster Collaboration**: Fast language models can bring together researchers, developers, and practitioners from different disciplines, promoting collaboration and innovation in NLP and AI research.\n",
      "\n",
      "In summary, fast language models have the potential to revolutionize the field of NLP, enabling faster, more accurate, and more efficient processing of natural language data. Their importance lies in their ability to improve performance, reduce costs, and unlock new applications, ultimately making language-based interactions more effective and efficient.\n"
     ]
    }
   ],
   "source": [
    "import os\n",
    "\n",
    "from groq import Groq\n",
    "\n",
    "client = Groq(\n",
    "    api_key=os.environ.get(\"GROQ_API_KEY\"),\n",
    ")\n",
    "\n",
    "chat_completion = client.chat.completions.create(\n",
    "    messages=[\n",
    "        # Set an optional system message. This sets the behavior of the\n",
    "        # assistant and can be used to provide specific instructions for\n",
    "        # how it should behave throughout the conversation.\n",
    "        {\n",
    "            \"role\": \"system\",\n",
    "            \"content\": \"you are a helpful assistant.\"\n",
    "        },\n",
    "        # Set a user message for the assistant to respond to.\n",
    "        {\n",
    "            \"role\": \"user\",\n",
    "            \"content\": \"Explain the importance of fast language models\",\n",
    "        }\n",
    "    ],\n",
    "    model=\"llama3-8b-8192\",\n",
    ")\n",
    "\n",
    "print(chat_completion.choices[0].message.content)"
   ]
  },
  {
   "cell_type": "markdown",
   "metadata": {},
   "source": [
    "Experiment: Initial implementation of Groq API for sentiment analysis on drug reviews."
   ]
  },
  {
   "cell_type": "code",
   "execution_count": 10,
   "metadata": {},
   "outputs": [
    {
     "name": "stdout",
     "output_type": "stream",
     "text": [
      "Review: This drug helped me a lot with my condition, no side effects experienced.\n",
      "Sentiment: Positive\n"
     ]
    }
   ],
   "source": [
    "from groq import Groq\n",
    "\n",
    "client = Groq(\n",
    "    api_key=os.environ.get(\"GROQ_API_KEY\"),\n",
    ")\n",
    "\n",
    "def groq_sentiment(review):\n",
    "\n",
    "    chat_completion = client.chat.completions.create(\n",
    "        messages=[\n",
    "            # Set an optional system message. This sets the behavior of the\n",
    "            # assistant and can be used to provide specific instructions for\n",
    "            # how it should behave throughout the conversation.\n",
    "            {\n",
    "                \"role\": \"system\",\n",
    "                \"content\":  \"You are customer review sentiment analyzer for medical drugs review. You reply only with Positve, Negative or Neutral.\"\n",
    "            },\n",
    "            \n",
    "            # Set a user message for the assistant to respond to.\n",
    "            {\n",
    "                \"role\": \"user\",\n",
    "                \"content\": \"Give the sentiment of the following review: \" + review,\n",
    "            }\n",
    "        ],\n",
    "        model=\"llama3-8b-8192\",\n",
    "    )\n",
    "\n",
    "    return chat_completion.choices[0].message.content\n",
    "\n",
    "# Example usage\n",
    "review = \"This drug helped me a lot with my condition, no side effects experienced.\"\n",
    "sentiment = groq_sentiment(review)\n",
    "print(f\"Review: {review}\\nSentiment: {sentiment}\")\n"
   ]
  },
  {
   "cell_type": "code",
   "execution_count": 11,
   "metadata": {},
   "outputs": [
    {
     "name": "stdout",
     "output_type": "stream",
     "text": [
      "Review: This drug helped me a lot with my condition, no side effects experienced.\n",
      "Sentiment: Positive\n",
      "\n",
      "Review: Terrible experience! The medication made my symptoms worse.\n",
      "Sentiment: Negative\n",
      "\n",
      "Review: No significant change after taking the drug for a month.\n",
      "Sentiment: Negative\n",
      "\n"
     ]
    }
   ],
   "source": [
    "groq_test_reviews = [\n",
    "    \"This drug helped me a lot with my condition, no side effects experienced.\",\n",
    "    \"Terrible experience! The medication made my symptoms worse.\",\n",
    "    \"No significant change after taking the drug for a month.\"\n",
    "]\n",
    "\n",
    "for r in groq_test_reviews:\n",
    "    sentiment = groq_sentiment(r)\n",
    "    print(f\"Review: {r}\\nSentiment: {sentiment}\\n\")"
   ]
  },
  {
   "cell_type": "markdown",
   "metadata": {},
   "source": [
    "Further, we try to improvise the prompt for sentiment analysis."
   ]
  },
  {
   "cell_type": "code",
   "execution_count": 12,
   "metadata": {},
   "outputs": [
    {
     "name": "stdout",
     "output_type": "stream",
     "text": [
      "Review: This drug helped me a lot with my condition, no side effects experienced.\n",
      "Sentiment: Positive\n"
     ]
    }
   ],
   "source": [
    "import os\n",
    "from groq import Groq\n",
    "\n",
    "# Initialize Groq client with API key\n",
    "client = Groq(api_key=os.environ.get(\"GROQ_API_KEY\"))\n",
    "\n",
    "# Function for sentiment analysis of a single review\n",
    "def groq_sentiment(review):\n",
    "    # Define the prompt for sentiment analysis\n",
    "    prompt = f\"Analyze the sentiment of the following customer review:\\n\\n\\\"{review}\\\"\\n\\nIs the sentiment Positive, Negative, or Neutral?\" #Improvised prompt\n",
    "\n",
    "    try:\n",
    "        # Create chat completion request\n",
    "        chat_completion = client.chat.completions.create(\n",
    "            messages=[\n",
    "                {\n",
    "                    \"role\": \"system\",\n",
    "                    \"content\": \"You are a customer review sentiment analyzer for medical drug reviews. You reply only with Positive, Negative, or Neutral.\"\n",
    "                },\n",
    "                {\n",
    "                    \"role\": \"user\",\n",
    "                    \"content\": prompt\n",
    "                }\n",
    "            ],\n",
    "            model=\"llama3-8b-8192\",  # Specify model\n",
    "        )\n",
    "\n",
    "        # Extract and return the sentiment from the API response\n",
    "        sentiment = chat_completion.choices[0].message.content.strip()\n",
    "        return sentiment\n",
    "\n",
    "    except Exception as e:\n",
    "        # Handle and log errors\n",
    "        print(f\"Error during sentiment analysis: {e}\")\n",
    "        return \"Error\"\n",
    "\n",
    "# Example usage\n",
    "review = \"This drug helped me a lot with my condition, no side effects experienced.\"\n",
    "sentiment = groq_sentiment(review)\n",
    "print(f\"Review: {review}\\nSentiment: {sentiment}\")\n"
   ]
  },
  {
   "cell_type": "code",
   "execution_count": 14,
   "metadata": {},
   "outputs": [
    {
     "name": "stdout",
     "output_type": "stream",
     "text": [
      "Review: This drug helped me a lot with my condition, no side effects experienced.\n",
      "Sentiment: Positive\n",
      "\n",
      "Review: Terrible experience! The medication made my symptoms worse.\n",
      "Sentiment: Negative\n",
      "\n",
      "Review: No significant change after taking the drug for a month.\n",
      "Sentiment: Neutral\n",
      "\n"
     ]
    }
   ],
   "source": [
    "for r in groq_test_reviews:\n",
    "    sentiment = groq_sentiment(r)\n",
    "    print(f\"Review: {r}\\nSentiment: {sentiment}\\n\")"
   ]
  },
  {
   "cell_type": "code",
   "execution_count": 39,
   "metadata": {},
   "outputs": [
    {
     "name": "stdout",
     "output_type": "stream",
     "text": [
      "Review: This drug helped me a lot with my condition, no side effects experienced.\n",
      "Sentiment: positive\n",
      "Confidence Score: 0.98\n"
     ]
    }
   ],
   "source": [
    "import json\n",
    "import re\n",
    "# Function for sentiment analysis of a single review with JSON response\n",
    "def groq_sentiment(review):\n",
    "    # Define the prompt to instruct the API to return sentiment in JSON format\n",
    "    prompt = (\n",
    "        f\"Analyze the sentiment of the following customer review and provide the response in JSON format:\\n\\n\\\"{review}\\\"\\n\\n\"\n",
    "        \"The JSON schema should include:\\n\"\n",
    "        \"{\\n\"\n",
    "        \"  \\\"sentiment_analysis\\\": {\\n\"\n",
    "        \"    \\\"sentiment\\\": \\\"string (positive, negative, neutral, mixed)\\\",\\n\"  #Adding the mixed sentiment for nuanced analysis (fine grained analysis)\n",
    "        \"    \\\"confidence_score\\\": \\\"number (0-1)\\\"\\n\"\n",
    "        \"  }\\n\"\n",
    "        \"}\"\n",
    "    )\n",
    "\n",
    "    try:\n",
    "        # Create chat completion request\n",
    "        chat_completion = client.chat.completions.create(\n",
    "            messages=[\n",
    "                {\n",
    "                    \"role\": \"system\",\n",
    "                    \"content\": \"You are a data analyst API capable of sentiment analysis that responds in JSON.\"\n",
    "                },\n",
    "                {\n",
    "                    \"role\": \"user\",\n",
    "                    \"content\": prompt\n",
    "                }\n",
    "            ],\n",
    "            model=\"llama3-8b-8192\",  # Specify the model\n",
    "        )\n",
    "\n",
    "        # Extract the JSON response\n",
    "        response_content = chat_completion.choices[0].message.content.strip()\n",
    "        # print(response_content)\n",
    "\n",
    "\n",
    "        # Use a regular expression to extract the JSON portion\n",
    "        json_match = re.search(r'\\{.*\\}', response_content, re.DOTALL)\n",
    "\n",
    "        if json_match:\n",
    "            # Extract the JSON part from the response\n",
    "            json_string = json_match.group(0)\n",
    "\n",
    "            # Parse the JSON response\n",
    "            result = json.loads(json_string)\n",
    "            sentiment = result['sentiment_analysis']['sentiment']\n",
    "            confidence_score = result['sentiment_analysis']['confidence_score']\n",
    "            return sentiment, confidence_score\n",
    "        else:\n",
    "            print(f\"Failed to extract JSON from response. Raw response: {response_content}\")\n",
    "            return \"Error\", 0.0\n",
    "\n",
    "    except json.JSONDecodeError as json_error:\n",
    "        # Handle JSON parsing error\n",
    "        print(f\"Error parsing JSON response: {json_error}\")\n",
    "        print(f\"Raw response content: {response_content}\")\n",
    "        return \"Error\", 0.0\n",
    "\n",
    "    except Exception as e:\n",
    "        # Handle other errors\n",
    "        print(f\"Error during sentiment analysis: {e}\")\n",
    "        return \"Error\", 0.0\n",
    "\n",
    "# Example usage\n",
    "review = \"This drug helped me a lot with my condition, no side effects experienced.\"\n",
    "sentiment, confidence_score = groq_sentiment(review)\n",
    "print(f\"Review: {review}\\nSentiment: {sentiment}\\nConfidence Score: {confidence_score}\")"
   ]
  },
  {
   "cell_type": "code",
   "execution_count": 40,
   "metadata": {},
   "outputs": [
    {
     "name": "stdout",
     "output_type": "stream",
     "text": [
      "Review: This drug helped me a lot with my condition, no side effects experienced.\n",
      "Sentiment: ('positive', 0.9)\n",
      "\n",
      "Review: Terrible experience! The medication made my symptoms worse.\n",
      "Sentiment: ('negative', 0.87)\n",
      "\n",
      "Review: No significant change after taking the drug for a month.\n",
      "Sentiment: ('negative', 0.85)\n",
      "\n"
     ]
    }
   ],
   "source": [
    "for r in groq_test_reviews:\n",
    "    sentiment = groq_sentiment(r)\n",
    "    print(f\"Review: {r}\\nSentiment: {sentiment}\\n\")"
   ]
  },
  {
   "cell_type": "code",
   "execution_count": 41,
   "metadata": {},
   "outputs": [],
   "source": [
    "groq_df =  df.copy()"
   ]
  },
  {
   "cell_type": "code",
   "execution_count": 42,
   "metadata": {},
   "outputs": [],
   "source": [
    "groq_df[\"sentiment\"]  = groq_df[\"review\"][:20].apply(groq_sentiment)"
   ]
  },
  {
   "cell_type": "code",
   "execution_count": 44,
   "metadata": {},
   "outputs": [
    {
     "name": "stdout",
     "output_type": "stream",
     "text": [
      "                                                                                                                                                                                                                                                                                                                                                                                                                                                                                                                                                                                                                                                                                                                                                                                                                  review  \\\n",
      "0   \"It has no side effect, I take it in combination of Bystolic 5 Mg and Fish Oil\"                                                                                                                                                                                                                                                                                                                                                                                                                                                                                                                                                                                                                                                                                                                                        \n",
      "1   \"My son is halfway through his fourth week of Intuniv. We became concerned when he began this last week, when he started taking the highest dose he will be on. For two days, he could hardly get out of bed, was very cranky, and slept for nearly 8 hours on a drive home from school vacation (very unusual for him.) I called his doctor on Monday morning and she said to stick it out a few days. See how he did at school, and with getting up in the morning. The last two days have been problem free. He is MUCH more agreeable than ever. He is less emotional (a good thing), less cranky. He is remembering all the things he should. Overall his behavior is better. \\r\\nWe have tried many different medications and so far this is the most effective.\"                                                \n",
      "2   \"I used to take another oral contraceptive, which had 21 pill cycle, and was very happy- very light periods, max 5 days, no other side effects. But it contained hormone gestodene, which is not available in US, so I switched to Lybrel, because the ingredients are similar. When my other pills ended, I started Lybrel immediately, on my first day of period, as the instructions said. And the period lasted for two weeks. When taking the second pack- same two weeks. And now, with third pack things got even worse- my third period lasted for two weeks and now it&#039;s the end of the third week- I still have daily brown discharge.\\r\\nThe positive side is that I didn&#039;t have any other side effects. The idea of being period free was so tempting... Alas.\"                                  \n",
      "3   \"This is my first time using any form of birth control. I&#039;m glad I went with the patch, I have been on it for 8 months. At first It decreased my libido but that subsided. The only downside is that it made my periods longer (5-6 days to be exact) I used to only have periods for 3-4 days max also made my cramps intense for the first two days of my period, I never had cramps before using birth control. Other than that in happy with the patch\"                                                                                                                                                                                                                                                                                                                                                       \n",
      "4   \"Suboxone has completely turned my life around.  I feel healthier, I&#039;m excelling at my job and I always have money in my pocket and my savings account.  I had none of those before Suboxone and spent years abusing oxycontin.  My paycheck was already spent by the time I got it and I started resorting to scheming and stealing to fund my addiction.  All that is history.  If you&#039;re ready to stop, there&#039;s a good chance that suboxone will put you on the path of great life again.  I have found the side-effects to be minimal compared to oxycontin.  I&#039;m actually sleeping better.   Slight constipation is about it for me.  It truly is amazing. The cost pales in comparison to what I spent on oxycontin.\"                                                                        \n",
      "5   \"2nd day on 5mg started to work with rock hard erections however experianced headache, lower bowel preassure. 3rd day erections would wake me up &amp; hurt! Leg/ankles aches   severe lower bowel preassure like you need to go #2 but can&#039;t! Enjoyed the initial rockhard erections but not at these side effects or $230 for months supply! I&#039;m 50 &amp; work out 3Xs a week. Not worth side effects!\"                                                                                                                                                                                                                                                                                                                                                                                                    \n",
      "6   \"He pulled out, but he cummed a bit in me. I took the Plan B 26 hours later, and took a pregnancy test two weeks later - - I&#039;m pregnant.\"                                                                                                                                                                                                                                                                                                                                                                                                                                                                                                                                                                                                                                                                         \n",
      "7   \"Abilify changed my life. There is hope. I was on Zoloft and Clonidine when I first started Abilify at the age of 15.. Zoloft for depression and Clondine to manage my complete rage. My moods were out of control. I was depressed and hopeless one second and then mean, irrational, and full of rage the next. My Dr. prescribed me 2mg of Abilify and from that point on I feel like I have been cured though I know I&#039;m not.. Bi-polar disorder is a constant battle. I know Abilify works for me because I have tried to get off it and lost complete control over my emotions. Went back on it and I was golden again.  I am on 5mg 2x daily. I am now 21 and better than I have ever been in the past. Only side effect is I like to eat a lot.\"                                                          \n",
      "8   \" I Ve had  nothing but problems with the Keppera : constant shaking in my arms &amp; legs &amp; pins &amp; needles feeling in my arms &amp; legs severe light headedness no appetite &amp; etc.\"                                                                                                                                                                                                                                                                                                                                                                                                                                                                                                                                                                                                                      \n",
      "9   \"I had been on the pill for many years. When my doctor changed my RX to chateal, it was as effective. It really did help me by completely clearing my acne, this takes about 6 months though. I did not gain extra weight, or develop any emotional health issues. I stopped taking it bc I started using a more natural method of birth control, but started to take it bc I hate that my acne came back at age 28. I really hope symptoms like depression, or weight gain do not begin to affect me as I am older now. I&#039;m also naturally moody, so this may worsen things. I was in a negative mental rut today. Also I hope this doesn&#039;t push me over the edge, as I believe I am depressed. Hopefully it&#039;ll be just like when I was younger.\"                                                      \n",
      "10  \"I have been on this medication almost two weeks, started out on 25mg and working my way up to 100mg, currently at 50mg. No headaches at all so far and I was having 2-3 crippling migraines a week. I have lost 5.2lbs so far but note I am really paying close attention to what I am eating, I have a lot of weight to lose and if weight loss is a side effect I want to help it along as much as I can.  Now, other side effects, they are there the word recall issues exist, the memory issues, the worst of it seems to be the vision disturbances, there have been times I have just not driven because I&#039;m sure it would not have been safe. The good news is it seems to be wearing off...I have tons of energy and I am in a great mood.\"                                                             \n",
      "11  \"I have taken anti-depressants for years, with some improvement but mostly moderate to severe side affects, which makes me go off them.\\r\\n\\r\\nI only take Cymbalta now mostly for pain.\\r\\n\\r\\nWhen I began Deplin, I noticed a major improvement overnight. More energy, better disposition, and no sinking to the low lows of major depression. I have been taking it for about 3 months now and feel like a normal person for the first time ever. Best thing, no side effects.\"                                                                                                                                                                                                                                                                                                                                   \n",
      "12  \"I had Crohn&#039;s with a resection 30 years ago and have been mostly in remission since.  Have recently had a bad flare and narrowing at the anastomosis and need to be on medication, but haven&#039;t found one that I can handle.  Asacol gave me such serious body aching and fatigue that I could not function.  Pentasa immediately gave me heart palpitations and arrhythmias so I had to discontinue it.\"                                                                                                                                                                                                                                                                                                                                                                                                    \n",
      "13  \"Have a little bit of a lingering cough from a cold. Not giving me much trouble except keeps me up at night. I heard this was good so I took so I could get some sleep. Helped tremendously with the cough but then I was having bad stomach cramps and diarrhea. I hadn&#039;t eaten anything that should have upset my stomach and it didn&#039;t really feel like a &quot;bug&quot; so I looked up side effects for Delsym.  Now I wish I had done that first because I probably wouldn&#039;t have taken it. So, while it worked for my cough I still didn&#039;t get any sleep due to the stomach issues.\"                                                                                                                                                                                                        \n",
      "14  \"Started Nexplanon 2 months ago because I have a minimal amount of contraception&#039;s I can take due to my inability to take the hormone that is used in most birth controls. I&#039;m trying to give it time because it is one of my only options right now. But honestly if I had options I&#039;d get it removed.\\r\\nI&#039;ve never had acne problems in my life, and immediately broke out after getting it implanted. Sex drive is completely gone, and I used to have sex with my boyfriend a few days a week, now its completely forced and not even fun for me anymore. I mean I&#039;m on birth control because I like having sex but don&#039;t want to get pregnant, why take a birth control that takes away sex? Very unhappy and hope that I get it back with time or I&#039;m getting it removed.\"   \n",
      "15  \"I have been taking Saxenda since July 2016.  I had severe nausea for about a month once I got up to the 2.6 dosage.  It has since subsided and the only side effect I notice now is the dry mouth.  I make sure to drink  2.5 litres of water a day (about 10 glasses).  This helps with the weight loss as well as the constipation.  I have been reducing my dose to find a comfortable spot where I am still losing weight but don&#039;t feel like I am over medicating.  For me, 1.8 is working very well.  I also feel wearing a Fitbit has really helped.  I can track my food, water, exercise and steps - it keeps me moving more.  When this started I could barely walk the length of myself without getting winded - I have lost 58 lbs so far.\"                                                          \n",
      "16  \"This drug worked very well for me and cleared up my UTI in a matter of 48hrs, although I was on a 7 day course of 2x200mg/daily. Unfortunately once the tablets finished the infection returned so needed a 2nd course. I&#039;m currently taking a low dose at evening to keep the infection at bay while the specialists do some tests.  I normally get every side effect going and dread taking new medication in any form especially after an horrific experience with Ciorofloxacin but the only side effect I experienced with this was itchy ankles and feet on day two but that didn&#039;t last into third day so I would class this as a minor side effect and insignificant. Good luck.\"                                                                                                                   \n",
      "17  \"I&#039;ve been taking amitriptyline since January 2013 after being diagnosed with fibromyalgia. I tried cymbalta for a week and my Dr decided that since it kept me awake 24/7 that it wasn&#039;t a good fit for me even though it relieved my pain. I started with 25 mg. After 2 weeks I had some breakthrough pain, so my Dr increased my dosage to 50mg and I&#039;m still on that dosage today. For the first full year I was on this I never had pain and felt &#039;cured&#039;. As time went on, it seems to help control my pain. I do still have pain, but at a low manageable level. I take this around 7pm each evening to avoid feeling overly drowsy in the mornings. This med allows me to have a fairly normal life.\"                                                                                \n",
      "18  \"I&#039;ve been on every medicine under the sun (it seems) to manage the hypomania / mania of Bipolar2. Within a few days of starting Lamictal (was on Tegretol) it was as if someone had turned a light on in my head. Is this the way &quot;normal&quot; people think? was one of the first things that struck me. I sleep like a log, have no irritability, almost no anger (other than what would be considered normal). I am able to focus and my creative, impulsive thoughts have decreased enough to be manageable. It&#039;s a God send as I would perennially be in a state of hypo mania, which sounds great, but I was physically and emotionally exhausted. My libido is markedly lower but I wonder if that is perhaps an effect of not being hypo manic. I take 20 mg for anxiety.\"                     \n",
      "19  \"I have been on Tasigna for just over 3 years now (300mg x 2 times a day) Tasigna worked for me within a few weeks I have been in remission for basically the entire 3 years. As for the side effects, I feel sick to my stomach, tired,  severe leg and arm pain, I can&#039;t walk to long without needing a break, I went from working full time to not working at all because I am so tired all the time.... but hey I am in remission and alive so is all the above really a problem? Nope\"                                                                                                                                                                                                                                                                                                                       \n",
      "\n",
      "           sentiment  \n",
      "0   (positive, 0.9)   \n",
      "1   (positive, 0.85)  \n",
      "2   (negative, 0.8)   \n",
      "3   (Neutral, 0.68)   \n",
      "4   (positive, 0.95)  \n",
      "5   (negative, 0.9)   \n",
      "6   (negative, 0.7)   \n",
      "7   (positive, 0.9)   \n",
      "8   (negative, 0.85)  \n",
      "9   (mixed, 0.65)     \n",
      "10  (positive, 0.85)  \n",
      "11  (positive, 0.8)   \n",
      "12  (negative, 0.85)  \n",
      "13  (mixed, 0.7)      \n",
      "14  (negative, 0.95)  \n",
      "15  (positive, 0.85)  \n",
      "16  (mixed, 0.65)     \n",
      "17  (positive, 0.85)  \n",
      "18  (positive, 0.85)  \n",
      "19  (mixed, 0.7)      \n"
     ]
    }
   ],
   "source": [
    "import pprint\n",
    "pd.set_option('display.max_colwidth', 0)\n",
    "pprint.pprint(groq_df[['review','sentiment']][:20])"
   ]
  },
  {
   "cell_type": "markdown",
   "metadata": {},
   "source": [
    "Great! The above implementaion of th Groq API is working as expected. And also provided more nuanced and reliable results in termns of more detaield classification and confidence score."
   ]
  },
  {
   "cell_type": "markdown",
   "metadata": {},
   "source": [
    "1. Groq API Integration\n",
    "-  Successfully set up and tested the Groq API using the Llama (llama3-8b-8192)\n",
    "model for sentiment analysis\n",
    "- Implemented initial code to analyze individual reviews\n",
    "2. JSON Output Enforcement\n",
    "-  Implemented the response_format={\"type\": \"json_object\"} parameter to ensure\n",
    "structured API responses\n",
    "-  This enhancement improves the consistency and parsability of our sentiment\n",
    "analysis results\n",
    "3. Confidence Score Implementation\n",
    "-  Added confidence score functionality to our sentiment analysis requests\n",
    "-  This feature provides a measure of certainty for each sentiment classification,\n",
    "enhancing the reliability of our results\n",
    "\n",
    "4. Mixed Sentiment Class Addition\n",
    "-  Following discussions with Rimoun, incorporated a \"mixed\" sentiment class\n",
    "- This addition allows for more fine-grained analysis, capturing nuanced opinions\n",
    "in drug reviews"
   ]
  },
  {
   "cell_type": "markdown",
   "metadata": {},
   "source": []
  },
  {
   "cell_type": "markdown",
   "metadata": {},
   "source": [
    "### Groq API: Batch Processing"
   ]
  },
  {
   "cell_type": "code",
   "execution_count": 66,
   "metadata": {},
   "outputs": [],
   "source": [
    "import os\n",
    "import json\n",
    "from tqdm import tqdm\n",
    "from groq import Groq\n",
    "\n",
    "def get_sentiments_batch_groq(reviews, batch_size=10):\n",
    "    all_sentiments = {}\n",
    "    \n",
    "    for i in tqdm(range(0, len(reviews), batch_size)):\n",
    "        batch = reviews[i:i + batch_size]\n",
    "        \n",
    "        # Format the reviews for the batch, numbering each review\n",
    "        formatted_reviews = \"\\n\".join([f\"{j + 1}. {review}\" for j, review in enumerate(batch)])\n",
    "        \n",
    "        # Define the prompt with clear instructions for JSON response\n",
    "        prompt = (\n",
    "            f\"Analyze the sentiment of each of the following customer reviews and provide the response in JSON format:\\n\\n{formatted_reviews}\\n\\n\"\n",
    "            \"The JSON schema should include:\\n\"\n",
    "            \"{\\n\"\n",
    "            \"  \\\"review_number\\\": \\\"integer\\\",\\n\"\n",
    "            \"  \\\"sentiment_analysis\\\": {\\n\"\n",
    "            \"    \\\"sentiment\\\": \\\"string (positive, negative, neutral)\\\",\\n\"\n",
    "            \"    \\\"confidence_score\\\": \\\"number (0-1)\\\"\\n\"\n",
    "            \"  }\\n\"\n",
    "            \"}\"\n",
    "        )\n",
    "\n",
    "        try:\n",
    "            # Send batch prompt to Groq API\n",
    "            chat_completion = client.chat.completions.create(\n",
    "                messages=[\n",
    "                    {\n",
    "                        \"role\": \"system\",\n",
    "                        \"content\": \"You are a customer review sentiment analyzer. Please analyze each review and return the results in JSON format.\"\n",
    "                    },\n",
    "                    {\n",
    "                        \"role\": \"user\",\n",
    "                        \"content\": prompt\n",
    "                    }\n",
    "                ],\n",
    "                model=\"llama3-8b-8192\" ,\n",
    "                 # Enforce the response format to be JSON\n",
    "                response_format={\"type\": \"json_object\"} # Specify the model\n",
    "            )\n",
    "\n",
    "            # Parse the API response\n",
    "            response_content = chat_completion.choices[0].message.content.strip()\n",
    "            # Use a regular expression to extract the JSON portion\n",
    "            json_match = re.search(r'\\{.*\\}', response_content, re.DOTALL)\n",
    "            result = json.loads(json_match.group(0))\n",
    "\n",
    "            if isinstance(result, list):\n",
    "                for item in result:\n",
    "                    absolute_index = i + item['review_number'] - 1\n",
    "                    all_sentiments[absolute_index] = {\n",
    "                        'sentiment': item['sentiment_analysis']['sentiment'],\n",
    "                        'confidence_score': item['sentiment_analysis']['confidence_score']\n",
    "                    }\n",
    "            else:\n",
    "                print(f\"Unexpected response format for batch starting at index {i}.\")\n",
    "                print(f\"Raw response: {response_content}\")\n",
    "\n",
    "        except json.JSONDecodeError as json_error:\n",
    "            print(f\"Error parsing JSON response for batch starting at index {i}. Raw response content: {response_content}\")\n",
    "            print(f\"JSON error: {json_error}\")\n",
    "        except Exception as e:\n",
    "            print(f\"Error during sentiment analysis for batch starting at index {i}: {e}\")\n",
    "\n",
    "    return all_sentiments\n"
   ]
  },
  {
   "cell_type": "code",
   "execution_count": 48,
   "metadata": {},
   "outputs": [
    {
     "ename": "NameError",
     "evalue": "name 'get_sentiments_batch_groq' is not defined",
     "output_type": "error",
     "traceback": [
      "\u001b[0;31m---------------------------------------------------------------------------\u001b[0m",
      "\u001b[0;31mNameError\u001b[0m                                 Traceback (most recent call last)",
      "Cell \u001b[0;32mIn[48], line 2\u001b[0m\n\u001b[1;32m      1\u001b[0m \u001b[38;5;66;03m# Example: Get sentiments for all reviews\u001b[39;00m\n\u001b[0;32m----> 2\u001b[0m sentiments \u001b[38;5;241m=\u001b[39m \u001b[43mget_sentiments_batch_groq\u001b[49m(reviews)\n\u001b[1;32m      3\u001b[0m \u001b[38;5;28mprint\u001b[39m(\u001b[38;5;124mf\u001b[39m\u001b[38;5;124m\"\u001b[39m\u001b[38;5;124mNumber of processed sentiments: \u001b[39m\u001b[38;5;132;01m{\u001b[39;00m\u001b[38;5;28mlen\u001b[39m(sentiments)\u001b[38;5;132;01m}\u001b[39;00m\u001b[38;5;124m\"\u001b[39m)\n\u001b[1;32m      5\u001b[0m \u001b[38;5;66;03m# Create a new 'sentiment' column in the original dataframe\u001b[39;00m\n",
      "\u001b[0;31mNameError\u001b[0m: name 'get_sentiments_batch_groq' is not defined"
     ]
    }
   ],
   "source": [
    "# Example: Get sentiments for all reviews\n",
    "sentiments = get_sentiments_batch_groq(reviews)\n",
    "print(f\"Number of processed sentiments: {len(sentiments)}\")\n",
    "\n",
    "# Create a new 'sentiment' column in the original dataframe\n",
    "df['sentiment'] = df.index.map(sentiments)\n",
    "\n",
    "# For debugging, print out any missing reviews\n",
    "missing_reviews = [idx for idx in range(len(reviews)) if idx not in sentiments]\n",
    "if missing_reviews:\n",
    "    print(f\"Missing sentiments for the following review indices: {missing_reviews}\")"
   ]
  },
  {
   "cell_type": "code",
   "execution_count": 47,
   "metadata": {},
   "outputs": [
    {
     "data": {
      "text/plain": [
       "Index(['drugName', 'condition', 'review', 'rating'], dtype='object')"
      ]
     },
     "execution_count": 47,
     "metadata": {},
     "output_type": "execute_result"
    }
   ],
   "source": [
    "groq_df_b  = df.iloc[:,:4].copy()\n",
    "groq_df_b.columns"
   ]
  },
  {
   "cell_type": "code",
   "execution_count": 53,
   "metadata": {},
   "outputs": [
    {
     "name": "stderr",
     "output_type": "stream",
     "text": [
      " 10%|█         | 1/10 [00:00<00:06,  1.30it/s]"
     ]
    },
    {
     "name": "stdout",
     "output_type": "stream",
     "text": [
      "Error during sentiment analysis for batch starting at index 0: Error code: 400 - {'error': {'message': 'Please reduce the length of the messages or completion.', 'type': 'invalid_request_error', 'param': 'messages', 'code': 'context_length_exceeded'}}\n"
     ]
    },
    {
     "name": "stderr",
     "output_type": "stream",
     "text": [
      " 20%|██        | 2/10 [00:00<00:03,  2.26it/s]"
     ]
    },
    {
     "name": "stdout",
     "output_type": "stream",
     "text": [
      "Error during sentiment analysis for batch starting at index 100: Error code: 400 - {'error': {'message': 'Please reduce the length of the messages or completion.', 'type': 'invalid_request_error', 'param': 'messages', 'code': 'context_length_exceeded'}}\n"
     ]
    },
    {
     "name": "stderr",
     "output_type": "stream",
     "text": [
      " 30%|███       | 3/10 [00:01<00:02,  2.98it/s]"
     ]
    },
    {
     "name": "stdout",
     "output_type": "stream",
     "text": [
      "Error during sentiment analysis for batch starting at index 200: Error code: 400 - {'error': {'message': 'Please reduce the length of the messages or completion.', 'type': 'invalid_request_error', 'param': 'messages', 'code': 'context_length_exceeded'}}\n"
     ]
    },
    {
     "name": "stderr",
     "output_type": "stream",
     "text": [
      " 40%|████      | 4/10 [00:01<00:01,  3.05it/s]"
     ]
    },
    {
     "name": "stdout",
     "output_type": "stream",
     "text": [
      "Error during sentiment analysis for batch starting at index 300: Error code: 400 - {'error': {'message': 'Please reduce the length of the messages or completion.', 'type': 'invalid_request_error', 'param': 'messages', 'code': 'context_length_exceeded'}}\n"
     ]
    },
    {
     "name": "stderr",
     "output_type": "stream",
     "text": [
      " 50%|█████     | 5/10 [00:01<00:01,  3.36it/s]"
     ]
    },
    {
     "name": "stdout",
     "output_type": "stream",
     "text": [
      "Error during sentiment analysis for batch starting at index 400: Error code: 400 - {'error': {'message': 'Please reduce the length of the messages or completion.', 'type': 'invalid_request_error', 'param': 'messages', 'code': 'context_length_exceeded'}}\n"
     ]
    },
    {
     "name": "stderr",
     "output_type": "stream",
     "text": [
      " 60%|██████    | 6/10 [00:01<00:01,  3.64it/s]"
     ]
    },
    {
     "name": "stdout",
     "output_type": "stream",
     "text": [
      "Error during sentiment analysis for batch starting at index 500: Error code: 400 - {'error': {'message': 'Please reduce the length of the messages or completion.', 'type': 'invalid_request_error', 'param': 'messages', 'code': 'context_length_exceeded'}}\n"
     ]
    },
    {
     "name": "stderr",
     "output_type": "stream",
     "text": [
      " 80%|████████  | 8/10 [00:02<00:00,  4.09it/s]"
     ]
    },
    {
     "name": "stdout",
     "output_type": "stream",
     "text": [
      "Error during sentiment analysis for batch starting at index 600: Error code: 400 - {'error': {'message': 'Please reduce the length of the messages or completion.', 'type': 'invalid_request_error', 'param': 'messages', 'code': 'context_length_exceeded'}}\n",
      "Error during sentiment analysis for batch starting at index 700: Error code: 400 - {'error': {'message': 'Please reduce the length of the messages or completion.', 'type': 'invalid_request_error', 'param': 'messages', 'code': 'context_length_exceeded'}}\n"
     ]
    },
    {
     "name": "stderr",
     "output_type": "stream",
     "text": [
      " 90%|█████████ | 9/10 [00:02<00:00,  3.23it/s]"
     ]
    },
    {
     "name": "stdout",
     "output_type": "stream",
     "text": [
      "Error during sentiment analysis for batch starting at index 800: Error code: 400 - {'error': {'message': 'Please reduce the length of the messages or completion.', 'type': 'invalid_request_error', 'param': 'messages', 'code': 'context_length_exceeded'}}\n"
     ]
    },
    {
     "name": "stderr",
     "output_type": "stream",
     "text": [
      "100%|██████████| 10/10 [00:03<00:00,  3.20it/s]"
     ]
    },
    {
     "name": "stdout",
     "output_type": "stream",
     "text": [
      "Error during sentiment analysis for batch starting at index 900: Error code: 400 - {'error': {'message': 'Please reduce the length of the messages or completion.', 'type': 'invalid_request_error', 'param': 'messages', 'code': 'context_length_exceeded'}}\n",
      "Number of processed sentiments: 0\n"
     ]
    },
    {
     "name": "stderr",
     "output_type": "stream",
     "text": [
      "\n"
     ]
    },
    {
     "ename": "NameError",
     "evalue": "name 'reviews' is not defined",
     "output_type": "error",
     "traceback": [
      "\u001b[0;31m---------------------------------------------------------------------------\u001b[0m",
      "\u001b[0;31mNameError\u001b[0m                                 Traceback (most recent call last)",
      "Cell \u001b[0;32mIn[53], line 9\u001b[0m\n\u001b[1;32m      6\u001b[0m df[\u001b[38;5;124m'\u001b[39m\u001b[38;5;124msentiment\u001b[39m\u001b[38;5;124m'\u001b[39m] \u001b[38;5;241m=\u001b[39m df\u001b[38;5;241m.\u001b[39mindex\u001b[38;5;241m.\u001b[39mmap(sentiments)\n\u001b[1;32m      8\u001b[0m \u001b[38;5;66;03m# For debugging, print out any missing reviews\u001b[39;00m\n\u001b[0;32m----> 9\u001b[0m missing_reviews \u001b[38;5;241m=\u001b[39m [idx \u001b[38;5;28;01mfor\u001b[39;00m idx \u001b[38;5;129;01min\u001b[39;00m \u001b[38;5;28mrange\u001b[39m(\u001b[38;5;28mlen\u001b[39m(\u001b[43mreviews\u001b[49m)) \u001b[38;5;28;01mif\u001b[39;00m idx \u001b[38;5;129;01mnot\u001b[39;00m \u001b[38;5;129;01min\u001b[39;00m sentiments]\n\u001b[1;32m     10\u001b[0m \u001b[38;5;28;01mif\u001b[39;00m missing_reviews:\n\u001b[1;32m     11\u001b[0m     \u001b[38;5;28mprint\u001b[39m(\u001b[38;5;124mf\u001b[39m\u001b[38;5;124m\"\u001b[39m\u001b[38;5;124mMissing sentiments for the following review indices: \u001b[39m\u001b[38;5;132;01m{\u001b[39;00mmissing_reviews\u001b[38;5;132;01m}\u001b[39;00m\u001b[38;5;124m\"\u001b[39m)\n",
      "\u001b[0;31mNameError\u001b[0m: name 'reviews' is not defined"
     ]
    }
   ],
   "source": [
    "reviews_1k_groq = groq_df_b['review'][:1000].tolist() \n",
    "sentiments = get_sentiments_batch_groq(reviews_1k_groq)\n",
    "print(f\"Number of processed sentiments: {len(sentiments)}\")\n",
    "\n",
    "# Create a new 'sentiment' column in the original dataframe\n",
    "df['sentiment'] = df.index.map(sentiments)\n",
    "\n",
    "# For debugging, print out any missing reviews\n",
    "missing_reviews = [idx for idx in range(len(reviews_1k_groq)) if idx not in sentiments]\n",
    "if missing_reviews:\n",
    "    print(f\"Missing sentiments for the following review indices: {missing_reviews}\")"
   ]
  },
  {
   "cell_type": "markdown",
   "metadata": {},
   "source": [
    "Received error on running the batch size as 100. As it exceeds the contect length of API."
   ]
  },
  {
   "cell_type": "markdown",
   "metadata": {},
   "source": [
    "Now further trying batch zize as 10:"
   ]
  },
  {
   "cell_type": "code",
   "execution_count": 68,
   "metadata": {},
   "outputs": [],
   "source": [
    "import os\n",
    "import json\n",
    "import re\n",
    "from tqdm import tqdm\n",
    "from groq import Groq\n",
    "\n",
    "# Initialize Groq client with API key\n",
    "# client = Groq(api_key=os.environ.get(\"GROQ_API_KEY\"))\n",
    "\n",
    "# Function for batch sentiment analysis\n",
    "def get_sentiments_batch_groq(reviews, batch_size=10):\n",
    "    all_sentiments = {}\n",
    "    \n",
    "    # Process the reviews in batches\n",
    "    for i in tqdm(range(0, len(reviews), batch_size)):\n",
    "        batch = reviews[i:i + batch_size]\n",
    "        \n",
    "        # Formatting reviews with numbering for batch prompt\n",
    "        formatted_reviews = \"\\n\".join([f\"{j + 1}. {review}\" for j, review in enumerate(batch)])\n",
    "        \n",
    "        # Define the prompt with clear instructions for JSON response\n",
    "        prompt = (\n",
    "            f\"Analyze the sentiment of each of the following customer reviews and provide the response in JSON format:\\n\\n{formatted_reviews}\\n\\n\"\n",
    "            \"The JSON schema should include:\\n\"\n",
    "            \"{\\n\"\n",
    "            \"  \\\"review_number\\\": \\\"integer\\\",\\n\"\n",
    "            \"  \\\"sentiment_analysis\\\": {\\n\"\n",
    "            \"    \\\"sentiment\\\": \\\"string (positive, negative, neutral)\\\",\\n\"\n",
    "            \"    \\\"confidence_score\\\": \\\"number (0-1)\\\"\\n\"\n",
    "            \"  }\\n\"\n",
    "            \"}\"\n",
    "        )\n",
    "\n",
    "        try:\n",
    "            # Send batch prompt to Groq API\n",
    "            chat_completion = client.chat.completions.create(\n",
    "                messages=[\n",
    "                    {\n",
    "                        \"role\": \"system\",\n",
    "                        \"content\": \"You are a customer review sentiment analyzer. Please analyze each review and return the results in JSON format.\"\n",
    "                    },\n",
    "                    {\n",
    "                        \"role\": \"user\",\n",
    "                        \"content\": prompt\n",
    "                    }\n",
    "                ],\n",
    "                model=\"llama3-8b-8192\",\n",
    "                 # Enforce the response format to be JSON\n",
    "                response_format={\"type\": \"json_object\"}\n",
    "            )\n",
    "\n",
    "            # Extract the raw response content\n",
    "            response_content = chat_completion.choices[0].message.content.strip()\n",
    "\n",
    "            # Use a regular expression to extract the JSON portion\n",
    "            json_match = re.search(r'\\{.*\\}', response_content, re.DOTALL)\n",
    "            \n",
    "            if json_match:\n",
    "                # Extract the JSON part from the response\n",
    "                json_string = json_match.group(0)\n",
    "\n",
    "                # Parse the JSON response\n",
    "                result = json.loads(json_string)\n",
    "\n",
    "                if isinstance(result, list):\n",
    "                    for item in result:\n",
    "                        # Calculate the absolute index in the main list of reviews.\n",
    "                        absolute_index = i + item['review_number'] - 1  # Adjust for 0-based indexing\n",
    "                        all_sentiments[absolute_index] = {\n",
    "                            'sentiment': item['sentiment_analysis']['sentiment'],\n",
    "                            'confidence_score': item['sentiment_analysis']['confidence_score']\n",
    "                        }\n",
    "                else:\n",
    "                    print(f\"Unexpected response format for batch starting at index {i}.\")\n",
    "                    print(f\"Raw response: {response_content}\")\n",
    "            else:\n",
    "                print(f\"Failed to extract JSON from response. Raw response: {response_content}\")\n",
    "\n",
    "        except json.JSONDecodeError as json_error:\n",
    "            print(f\"Error parsing JSON response for batch starting at index {i}. Raw response content: {response_content}\")\n",
    "            print(f\"JSON error: {json_error}\")\n",
    "        except Exception as e:\n",
    "            print(f\"Error during sentiment analysis for batch starting at index {i}: {e}\")\n",
    "\n",
    "    return all_sentiments\n",
    "\n",
    "# # Assuming your original dataframe is called 'df' and has a 'review' column\n",
    "# reviews = df['review'].tolist()\n",
    "\n",
    "# # Example: Get sentiments for all reviews\n",
    "# sentiments = get_sentiments_batch_groq(reviews)\n",
    "# print(f\"Number of processed sentiments: {len(sentiments)}\")\n",
    "\n",
    "# # Create a new 'sentiment' column in the original dataframe\n",
    "# df['sentiment'] = df.index.map(sentiments)\n",
    "\n",
    "# # For debugging, print out any missing reviews\n",
    "# missing_reviews = [idx for idx in range(len(reviews)) if idx not in sentiments]\n",
    "# if missing_reviews:\n",
    "#     print(f\"Missing sentiments for the following review indices: {missing_reviews}\")\n"
   ]
  },
  {
   "cell_type": "code",
   "execution_count": null,
   "metadata": {},
   "outputs": [],
   "source": [
    "reviews_1k_groq = groq_df_b['review'][:1000].tolist() \n",
    "sentiments = get_sentiments_batch_groq(reviews_1k_groq)\n",
    "print(f\"Number of processed sentiments: {len(sentiments)}\")\n",
    "\n",
    "# Create a new 'sentiment' column in the original dataframe\n",
    "df['sentiment'] = df.index.map(sentiments)\n",
    "\n",
    "# For debugging, print out any missing reviews\n",
    "missing_reviews = [idx for idx in range(len(reviews_1k_groq)) if idx not in sentiments]\n",
    "if missing_reviews:\n",
    "    print(f\"Missing sentiments for the following review indices: {missing_reviews}\")"
   ]
  },
  {
   "cell_type": "code",
   "execution_count": 72,
   "metadata": {},
   "outputs": [
    {
     "name": "stderr",
     "output_type": "stream",
     "text": [
      "  0%|          | 1/200 [00:00<01:35,  2.08it/s]"
     ]
    },
    {
     "name": "stdout",
     "output_type": "stream",
     "text": [
      "Error during sentiment analysis for batch starting at index 0: Error code: 400 - {'error': {'message': \"Failed to generate JSON. Please adjust your prompt. See 'failed_generation' for more details.\", 'type': 'invalid_request_error', 'code': 'json_validate_failed', 'failed_generation': '{\\n   \"review_number\": 1,\\n   \"sentiment_analysis\": {\\n      \"sentiment\": \"positive\",\\n      \"confidence_score\": 0.8\\n   }\\n}\\n{\\n   \"review_number\": 2,\\n   \"sentiment_analysis\": {\\n      \"sentiment\": \"positive\",\\n      \"confidence_score\": 0.9\\n   }\\n}\\n{\\n   \"review_number\": 3,\\n   \"sentiment_analysis\": {\\n      \"sentiment\": \"negative\",\\n      \"confidence_score\": 0.7\\n   }\\n}\\n{\\n   \"review_number\": 4,\\n   \"sentiment_analysis\": {\\n      \"sentiment\": \"neutral\",\\n      \"confidence_score\": 0.5\\n   }\\n}\\n{\\n   \"review_number\": 5,\\n   \"sentiment_analysis\": {\\n      \"sentiment\": \"positive\",\\n      \"confidence_score\": 0.9\\n   }\\n}'}}\n"
     ]
    },
    {
     "name": "stderr",
     "output_type": "stream",
     "text": [
      "  2%|▏         | 3/200 [00:06<07:16,  2.21s/it]"
     ]
    },
    {
     "name": "stdout",
     "output_type": "stream",
     "text": [
      "Error during sentiment analysis for batch starting at index 10: Error code: 400 - {'error': {'message': \"Failed to generate JSON. Please adjust your prompt. See 'failed_generation' for more details.\", 'type': 'invalid_request_error', 'code': 'json_validate_failed', 'failed_generation': '{\\n   \"review_number\": 1,\\n   \"sentiment_analysis\": {\\n      \"sentiment\": \"positive\",\\n      \"confidence_score\": 0.8\\n   }\\n}\\n\\n{\\n   \"review_number\": 2,\\n   \"sentiment_analysis\": {\\n      \"sentiment\": \"positive\",\\n      \"confidence_score\": 0.9\\n   }\\n}\\n\\n{\\n   \"review_number\": 3,\\n   \"sentiment_analysis\": {\\n      \"sentiment\": \"negative\",\\n      \"confidence_score\": 0.7\\n   }\\n}\\n\\n{\\n   \"review_number\": 4,\\n   \"sentiment_analysis\": {\\n      \"sentiment\": \"negative\",\\n      \"confidence_score\": 0.6\\n   }\\n}\\n\\n{\\n   \"review_number\": 5,\\n   \"sentiment_analysis\": {\\n      \"sentiment\": \"negative\",\\n      \"confidence_score\": 0.9\\n   }\\n}'}}\n"
     ]
    },
    {
     "name": "stderr",
     "output_type": "stream",
     "text": [
      "  3%|▎         | 6/200 [00:14<08:46,  2.71s/it]"
     ]
    },
    {
     "name": "stdout",
     "output_type": "stream",
     "text": [
      "Error during sentiment analysis for batch starting at index 25: Error code: 400 - {'error': {'message': \"Failed to generate JSON. Please adjust your prompt. See 'failed_generation' for more details.\", 'type': 'invalid_request_error', 'code': 'json_validate_failed', 'failed_generation': '{\\n   \"review_number\": 1,\\n   \"sentiment_analysis\": {\\n      \"sentiment\": \"negative\",\\n      \"confidence_score\": 0.8\\n   }\\n},\\n{\\n   \"review_number\": 2,\\n   \"sentiment_analysis\": {\\n      \"sentiment\": \"positive\",\\n      \"confidence_score\": 0.9\\n   }\\n},\\n{\\n   \"review_number\": 3,\\n   \"sentiment_analysis\": {\\n      \"sentiment\": \"positive\",\\n      \"confidence_score\": 0.8\\n   }\\n},\\n{\\n   \"review_number\": 4,\\n   \"sentiment_analysis\": {\\n      \"sentiment\": \"neutral\",\\n      \"confidence_score\": 0.5\\n   }\\n},\\n{\\n   \"review_number\": 5,\\n   \"sentiment_analysis\": {\\n      \"sentiment\": \"negative\",\\n      \"confidence_score\": 0.7\\n   }\\n}'}}\n"
     ]
    },
    {
     "name": "stderr",
     "output_type": "stream",
     "text": [
      "  4%|▍         | 9/200 [00:22<08:25,  2.65s/it]"
     ]
    },
    {
     "name": "stdout",
     "output_type": "stream",
     "text": [
      "Error during sentiment analysis for batch starting at index 40: Error code: 400 - {'error': {'message': \"Failed to generate JSON. Please adjust your prompt. See 'failed_generation' for more details.\", 'type': 'invalid_request_error', 'code': 'json_validate_failed', 'failed_generation': '{\\n   \"review_number\": 1,\\n   \"sentiment_analysis\": {\\n      \"sentiment\": \"positive\",\\n      \"confidence_score\": 0.9\\n   }\\n},\\n{\\n   \"review_number\": 2,\\n   \"sentiment_analysis\": {\\n      \"sentiment\": \"positive\",\\n      \"confidence_score\": 0.85\\n   }\\n},\\n{\\n   \"review_number\": 3,\\n   \"sentiment_analysis\": {\\n      \"sentiment\": \"positive\",\\n      \"confidence_score\": 0.95\\n   }\\n},\\n{\\n   \"review_number\": 4,\\n   \"sentiment_analysis\": {\\n      \"sentiment\": \"negative\",\\n      \"confidence_score\": 0.7\\n   }\\n},\\n{\\n   \"review_number\": 5,\\n   \"sentiment_analysis\": {\\n      \"sentiment\": \"negative\",\\n      \"confidence_score\": 0.9\\n   }\\n}'}}\n"
     ]
    },
    {
     "name": "stderr",
     "output_type": "stream",
     "text": [
      "  5%|▌         | 10/200 [00:24<08:13,  2.60s/it]"
     ]
    },
    {
     "name": "stdout",
     "output_type": "stream",
     "text": [
      "Error during sentiment analysis for batch starting at index 45: Error code: 400 - {'error': {'message': \"Failed to generate JSON. Please adjust your prompt. See 'failed_generation' for more details.\", 'type': 'invalid_request_error', 'code': 'json_validate_failed', 'failed_generation': '{\\n   \"review_number\": 1,\\n   \"sentiment_analysis\": {\\n      \"sentiment\": \"positive\",\\n      \"confidence_score\": 0.85\\n   }\\n},\\n{\\n   \"review_number\": 2,\\n   \"sentiment_analysis\": {\\n      \"sentiment\": \"positive\",\\n      \"confidence_score\": 0.75\\n   }\\n},\\n{\\n   \"review_number\": 3,\\n   \"sentiment_analysis\": {\\n      \"sentiment\": \"positive\",\\n      \"confidence_score\": 0.9\\n   }\\n},\\n{\\n   \"review_number\": 4,\\n   \"sentiment_analysis\": {\\n      \"sentiment\": \"negative\",\\n      \"confidence_score\": 0.6\\n   }\\n},\\n{\\n   \"review_number\": 5,\\n   \"sentiment_analysis\": {\\n      \"sentiment\": \"positive\",\\n      \"confidence_score\": 0.95\\n   }\\n}'}}\n"
     ]
    },
    {
     "name": "stderr",
     "output_type": "stream",
     "text": [
      "  9%|▉         | 18/200 [00:45<07:50,  2.58s/it]"
     ]
    },
    {
     "name": "stdout",
     "output_type": "stream",
     "text": [
      "Error during sentiment analysis for batch starting at index 85: Error code: 400 - {'error': {'message': \"Failed to generate JSON. Please adjust your prompt. See 'failed_generation' for more details.\", 'type': 'invalid_request_error', 'code': 'json_validate_failed', 'failed_generation': '{\\n   \"review_number\": 1,\\n   \"sentiment_analysis\": {\\n      \"sentiment\": \"negative\",\\n      \"confidence_score\": 0.8\\n   }\\n},\\n{\\n   \"review_number\": 2,\\n   \"sentiment_analysis\": {\\n      \"sentiment\": \"positive\",\\n      \"confidence_score\": 0.95\\n   }\\n},\\n{\\n   \"review_number\": 3,\\n   \"sentiment_analysis\": {\\n      \"sentiment\": \"positive\",\\n      \"confidence_score\": 0.7\\n   }\\n},\\n{\\n   \"review_number\": 4,\\n   \"sentiment_analysis\": {\\n      \"sentiment\": \"positive\",\\n      \"confidence_score\": 0.9\\n   }\\n},\\n{\\n   \"review_number\": 5,\\n   \"sentiment_analysis\": {\\n      \"sentiment\": \"positive\",\\n      \"confidence_score\": 0.85\\n   }\\n}'}}\n"
     ]
    },
    {
     "name": "stderr",
     "output_type": "stream",
     "text": [
      " 12%|█▏        | 24/200 [01:01<07:45,  2.64s/it]"
     ]
    },
    {
     "name": "stdout",
     "output_type": "stream",
     "text": [
      "Error during sentiment analysis for batch starting at index 115: Error code: 400 - {'error': {'message': \"Failed to generate JSON. Please adjust your prompt. See 'failed_generation' for more details.\", 'type': 'invalid_request_error', 'code': 'json_validate_failed', 'failed_generation': '{\\n   \"review_number\": 1,\\n   \"sentiment_analysis\": {\\n      \"sentiment\": \"positive\",\\n      \"confidence_score\": 0.8\\n   }\\n},\\n{\\n   \"review_number\": 2,\\n   \"sentiment_analysis\": {\\n      \"sentiment\": \"neutral\",\\n      \"confidence_score\": 0.5\\n   }\\n},\\n{\\n   \"review_number\": 3,\\n   \"sentiment_analysis\": {\\n      \"sentiment\": \"positive\",\\n      \"confidence_score\": 0.9\\n   }\\n},\\n{\\n   \"review_number\": 4,\\n   \"sentiment_analysis\": {\\n      \"sentiment\": \"negative\",\\n      \"confidence_score\": 0.7\\n   }\\n},\\n{\\n   \"review_number\": 5,\\n   \"sentiment_analysis\": {\\n      \"sentiment\": \"negative\",\\n      \"confidence_score\": 0.9\\n   }\\n}'}}\n"
     ]
    },
    {
     "name": "stderr",
     "output_type": "stream",
     "text": [
      " 15%|█▌        | 30/200 [01:17<07:18,  2.58s/it]"
     ]
    },
    {
     "name": "stdout",
     "output_type": "stream",
     "text": [
      "Error during sentiment analysis for batch starting at index 145: Error code: 400 - {'error': {'message': \"Failed to generate JSON. Please adjust your prompt. See 'failed_generation' for more details.\", 'type': 'invalid_request_error', 'code': 'json_validate_failed', 'failed_generation': '{\\n   \"review_number\": 1,\\n   \"sentiment_analysis\": {\\n      \"sentiment\": \"positive\",\\n      \"confidence_score\": 0.9\\n   }\\n},\\n{\\n   \"review_number\": 2,\\n   \"sentiment_analysis\": {\\n      \"sentiment\": \"positive\",\\n      \"confidence_score\": 0.7\\n   }\\n},\\n{\\n   \"review_number\": 3,\\n   \"sentiment_analysis\": {\\n      \"sentiment\": \"positive\",\\n      \"confidence_score\": 0.8\\n   }\\n},\\n{\\n   \"review_number\": 4,\\n   \"sentiment_analysis\": {\\n      \"sentiment\": \"positive\",\\n      \"confidence_score\": 0.9\\n   }\\n},\\n{\\n   \"review_number\": 5,\\n   \"sentiment_analysis\": {\\n      \"sentiment\": \"negative\",\\n      \"confidence_score\": 0.4\\n   }\\n}'}}\n"
     ]
    },
    {
     "name": "stderr",
     "output_type": "stream",
     "text": [
      " 16%|█▌        | 31/200 [01:19<07:11,  2.55s/it]"
     ]
    },
    {
     "name": "stdout",
     "output_type": "stream",
     "text": [
      "Error during sentiment analysis for batch starting at index 150: Error code: 400 - {'error': {'message': \"Failed to generate JSON. Please adjust your prompt. See 'failed_generation' for more details.\", 'type': 'invalid_request_error', 'code': 'json_validate_failed', 'failed_generation': '{\\n   \"review_number\":\"1\",\\n   \"sentiment_analysis\": {\\n      \"sentiment\":\"negative\",\\n      \"confidence_score\":0.9\\n   }\\n}\\n\\n{\\n   \"review_number\":\"2\",\\n   \"sentiment_analysis\": {\\n      \"sentiment\":\"negative\",\\n      \"confidence_score\":0.8\\n   }\\n}\\n\\n{\\n   \"review_number\":\"3\",\\n   \"sentiment_analysis\": {\\n      \"sentiment\":\"negative\",\\n      \"confidence_score\":0.7\\n   }\\n}\\n\\n{\\n   \"review_number\":\"4\",\\n   \"sentiment_analysis\": {\\n      \"sentiment\":\"neutral\",\\n      \"confidence_score\":0.5\\n   }\\n}\\n\\n{\\n   \"review_number\":\"5\",\\n   \"sentiment_analysis\": {\\n      \"sentiment\":\"negative\",\\n      \"confidence_score\":0.9\\n   }\\n}'}}\n"
     ]
    },
    {
     "name": "stderr",
     "output_type": "stream",
     "text": [
      " 16%|█▌        | 31/200 [01:20<07:20,  2.61s/it]\n"
     ]
    },
    {
     "ename": "KeyboardInterrupt",
     "evalue": "",
     "output_type": "error",
     "traceback": [
      "\u001b[0;31m---------------------------------------------------------------------------\u001b[0m",
      "\u001b[0;31mHTTPStatusError\u001b[0m                           Traceback (most recent call last)",
      "File \u001b[0;32m/opt/homebrew/Caskroom/miniconda/base/envs/dsproj/lib/python3.9/site-packages/groq/_base_client.py:1018\u001b[0m, in \u001b[0;36mSyncAPIClient._request\u001b[0;34m(self, cast_to, options, remaining_retries, stream, stream_cls)\u001b[0m\n\u001b[1;32m   1017\u001b[0m \u001b[38;5;28;01mtry\u001b[39;00m:\n\u001b[0;32m-> 1018\u001b[0m     \u001b[43mresponse\u001b[49m\u001b[38;5;241;43m.\u001b[39;49m\u001b[43mraise_for_status\u001b[49m\u001b[43m(\u001b[49m\u001b[43m)\u001b[49m\n\u001b[1;32m   1019\u001b[0m \u001b[38;5;28;01mexcept\u001b[39;00m httpx\u001b[38;5;241m.\u001b[39mHTTPStatusError \u001b[38;5;28;01mas\u001b[39;00m err:  \u001b[38;5;66;03m# thrown on 4xx and 5xx status code\u001b[39;00m\n",
      "File \u001b[0;32m/opt/homebrew/Caskroom/miniconda/base/envs/dsproj/lib/python3.9/site-packages/httpx/_models.py:761\u001b[0m, in \u001b[0;36mResponse.raise_for_status\u001b[0;34m(self)\u001b[0m\n\u001b[1;32m    760\u001b[0m message \u001b[38;5;241m=\u001b[39m message\u001b[38;5;241m.\u001b[39mformat(\u001b[38;5;28mself\u001b[39m, error_type\u001b[38;5;241m=\u001b[39merror_type)\n\u001b[0;32m--> 761\u001b[0m \u001b[38;5;28;01mraise\u001b[39;00m HTTPStatusError(message, request\u001b[38;5;241m=\u001b[39mrequest, response\u001b[38;5;241m=\u001b[39m\u001b[38;5;28mself\u001b[39m)\n",
      "\u001b[0;31mHTTPStatusError\u001b[0m: Client error '429 Too Many Requests' for url 'https://api.groq.com/openai/v1/chat/completions'\nFor more information check: https://developer.mozilla.org/en-US/docs/Web/HTTP/Status/429",
      "\nDuring handling of the above exception, another exception occurred:\n",
      "\u001b[0;31mKeyboardInterrupt\u001b[0m                         Traceback (most recent call last)",
      "Cell \u001b[0;32mIn[72], line 81\u001b[0m\n\u001b[1;32m     78\u001b[0m     \u001b[38;5;28;01mreturn\u001b[39;00m all_sentiments\n\u001b[1;32m     80\u001b[0m reviews_1k_groq \u001b[38;5;241m=\u001b[39m groq_df_b[\u001b[38;5;124m'\u001b[39m\u001b[38;5;124mreview\u001b[39m\u001b[38;5;124m'\u001b[39m][:\u001b[38;5;241m1000\u001b[39m]\u001b[38;5;241m.\u001b[39mtolist() \n\u001b[0;32m---> 81\u001b[0m sentiments \u001b[38;5;241m=\u001b[39m \u001b[43mget_sentiments_batch_groq\u001b[49m\u001b[43m(\u001b[49m\u001b[43mreviews_1k_groq\u001b[49m\u001b[43m)\u001b[49m\n\u001b[1;32m     82\u001b[0m \u001b[38;5;28mprint\u001b[39m(\u001b[38;5;124mf\u001b[39m\u001b[38;5;124m\"\u001b[39m\u001b[38;5;124mNumber of processed sentiments: \u001b[39m\u001b[38;5;132;01m{\u001b[39;00m\u001b[38;5;28mlen\u001b[39m(sentiments)\u001b[38;5;132;01m}\u001b[39;00m\u001b[38;5;124m\"\u001b[39m)\n\u001b[1;32m     84\u001b[0m \u001b[38;5;66;03m# Create a new 'sentiment' column in the original dataframe\u001b[39;00m\n",
      "Cell \u001b[0;32mIn[72], line 35\u001b[0m, in \u001b[0;36mget_sentiments_batch_groq\u001b[0;34m(reviews, batch_size)\u001b[0m\n\u001b[1;32m     21\u001b[0m prompt \u001b[38;5;241m=\u001b[39m (\n\u001b[1;32m     22\u001b[0m     \u001b[38;5;124mf\u001b[39m\u001b[38;5;124m\"\u001b[39m\u001b[38;5;124mAnalyze the sentiment of each of the following customer reviews and provide the response in JSON format:\u001b[39m\u001b[38;5;130;01m\\n\u001b[39;00m\u001b[38;5;130;01m\\n\u001b[39;00m\u001b[38;5;132;01m{\u001b[39;00mformatted_reviews\u001b[38;5;132;01m}\u001b[39;00m\u001b[38;5;130;01m\\n\u001b[39;00m\u001b[38;5;130;01m\\n\u001b[39;00m\u001b[38;5;124m\"\u001b[39m\n\u001b[1;32m     23\u001b[0m     \u001b[38;5;124m\"\u001b[39m\u001b[38;5;124mThe JSON schema should include:\u001b[39m\u001b[38;5;130;01m\\n\u001b[39;00m\u001b[38;5;124m\"\u001b[39m\n\u001b[0;32m   (...)\u001b[0m\n\u001b[1;32m     30\u001b[0m     \u001b[38;5;124m\"\u001b[39m\u001b[38;5;124m}\u001b[39m\u001b[38;5;124m\"\u001b[39m\n\u001b[1;32m     31\u001b[0m )\n\u001b[1;32m     33\u001b[0m \u001b[38;5;28;01mtry\u001b[39;00m:\n\u001b[1;32m     34\u001b[0m     \u001b[38;5;66;03m# Send batch prompt to Groq API\u001b[39;00m\n\u001b[0;32m---> 35\u001b[0m     chat_completion \u001b[38;5;241m=\u001b[39m \u001b[43mclient\u001b[49m\u001b[38;5;241;43m.\u001b[39;49m\u001b[43mchat\u001b[49m\u001b[38;5;241;43m.\u001b[39;49m\u001b[43mcompletions\u001b[49m\u001b[38;5;241;43m.\u001b[39;49m\u001b[43mcreate\u001b[49m\u001b[43m(\u001b[49m\n\u001b[1;32m     36\u001b[0m \u001b[43m        \u001b[49m\u001b[43mmessages\u001b[49m\u001b[38;5;241;43m=\u001b[39;49m\u001b[43m[\u001b[49m\n\u001b[1;32m     37\u001b[0m \u001b[43m            \u001b[49m\u001b[43m{\u001b[49m\n\u001b[1;32m     38\u001b[0m \u001b[43m                \u001b[49m\u001b[38;5;124;43m\"\u001b[39;49m\u001b[38;5;124;43mrole\u001b[39;49m\u001b[38;5;124;43m\"\u001b[39;49m\u001b[43m:\u001b[49m\u001b[43m \u001b[49m\u001b[38;5;124;43m\"\u001b[39;49m\u001b[38;5;124;43msystem\u001b[39;49m\u001b[38;5;124;43m\"\u001b[39;49m\u001b[43m,\u001b[49m\n\u001b[1;32m     39\u001b[0m \u001b[43m                \u001b[49m\u001b[38;5;124;43m\"\u001b[39;49m\u001b[38;5;124;43mcontent\u001b[39;49m\u001b[38;5;124;43m\"\u001b[39;49m\u001b[43m:\u001b[49m\u001b[43m \u001b[49m\u001b[38;5;124;43m\"\u001b[39;49m\u001b[38;5;124;43mYou are a customer review sentiment analyzer. Please analyze each review and return the results in JSON format.\u001b[39;49m\u001b[38;5;124;43m\"\u001b[39;49m\n\u001b[1;32m     40\u001b[0m \u001b[43m            \u001b[49m\u001b[43m}\u001b[49m\u001b[43m,\u001b[49m\n\u001b[1;32m     41\u001b[0m \u001b[43m            \u001b[49m\u001b[43m{\u001b[49m\n\u001b[1;32m     42\u001b[0m \u001b[43m                \u001b[49m\u001b[38;5;124;43m\"\u001b[39;49m\u001b[38;5;124;43mrole\u001b[39;49m\u001b[38;5;124;43m\"\u001b[39;49m\u001b[43m:\u001b[49m\u001b[43m \u001b[49m\u001b[38;5;124;43m\"\u001b[39;49m\u001b[38;5;124;43muser\u001b[39;49m\u001b[38;5;124;43m\"\u001b[39;49m\u001b[43m,\u001b[49m\n\u001b[1;32m     43\u001b[0m \u001b[43m                \u001b[49m\u001b[38;5;124;43m\"\u001b[39;49m\u001b[38;5;124;43mcontent\u001b[39;49m\u001b[38;5;124;43m\"\u001b[39;49m\u001b[43m:\u001b[49m\u001b[43m \u001b[49m\u001b[43mprompt\u001b[49m\n\u001b[1;32m     44\u001b[0m \u001b[43m            \u001b[49m\u001b[43m}\u001b[49m\n\u001b[1;32m     45\u001b[0m \u001b[43m        \u001b[49m\u001b[43m]\u001b[49m\u001b[43m,\u001b[49m\n\u001b[1;32m     46\u001b[0m \u001b[43m        \u001b[49m\u001b[43mmodel\u001b[49m\u001b[38;5;241;43m=\u001b[39;49m\u001b[38;5;124;43m\"\u001b[39;49m\u001b[38;5;124;43mllama3-8b-8192\u001b[39;49m\u001b[38;5;124;43m\"\u001b[39;49m\u001b[43m,\u001b[49m\n\u001b[1;32m     47\u001b[0m \u001b[43m        \u001b[49m\u001b[38;5;66;43;03m# Enforce the response format to be JSON\u001b[39;49;00m\n\u001b[1;32m     48\u001b[0m \u001b[43m        \u001b[49m\u001b[43mresponse_format\u001b[49m\u001b[38;5;241;43m=\u001b[39;49m\u001b[43m{\u001b[49m\u001b[38;5;124;43m\"\u001b[39;49m\u001b[38;5;124;43mtype\u001b[39;49m\u001b[38;5;124;43m\"\u001b[39;49m\u001b[43m:\u001b[49m\u001b[43m \u001b[49m\u001b[38;5;124;43m\"\u001b[39;49m\u001b[38;5;124;43mjson_object\u001b[39;49m\u001b[38;5;124;43m\"\u001b[39;49m\u001b[43m}\u001b[49m\n\u001b[1;32m     49\u001b[0m \u001b[43m    \u001b[49m\u001b[43m)\u001b[49m\n\u001b[1;32m     51\u001b[0m     \u001b[38;5;66;03m# Extract the raw response content\u001b[39;00m\n\u001b[1;32m     52\u001b[0m     response_content \u001b[38;5;241m=\u001b[39m chat_completion\u001b[38;5;241m.\u001b[39mchoices[\u001b[38;5;241m0\u001b[39m]\u001b[38;5;241m.\u001b[39mmessage\u001b[38;5;241m.\u001b[39mcontent\u001b[38;5;241m.\u001b[39mstrip()\n",
      "File \u001b[0;32m/opt/homebrew/Caskroom/miniconda/base/envs/dsproj/lib/python3.9/site-packages/groq/resources/chat/completions.py:287\u001b[0m, in \u001b[0;36mCompletions.create\u001b[0;34m(self, messages, model, frequency_penalty, function_call, functions, logit_bias, logprobs, max_tokens, n, parallel_tool_calls, presence_penalty, response_format, seed, stop, stream, temperature, tool_choice, tools, top_logprobs, top_p, user, extra_headers, extra_query, extra_body, timeout)\u001b[0m\n\u001b[1;32m    146\u001b[0m \u001b[38;5;28;01mdef\u001b[39;00m \u001b[38;5;21mcreate\u001b[39m(\n\u001b[1;32m    147\u001b[0m     \u001b[38;5;28mself\u001b[39m,\n\u001b[1;32m    148\u001b[0m     \u001b[38;5;241m*\u001b[39m,\n\u001b[0;32m   (...)\u001b[0m\n\u001b[1;32m    175\u001b[0m     timeout: \u001b[38;5;28mfloat\u001b[39m \u001b[38;5;241m|\u001b[39m httpx\u001b[38;5;241m.\u001b[39mTimeout \u001b[38;5;241m|\u001b[39m \u001b[38;5;28;01mNone\u001b[39;00m \u001b[38;5;241m|\u001b[39m NotGiven \u001b[38;5;241m=\u001b[39m NOT_GIVEN,\n\u001b[1;32m    176\u001b[0m ) \u001b[38;5;241m-\u001b[39m\u001b[38;5;241m>\u001b[39m ChatCompletion \u001b[38;5;241m|\u001b[39m Stream[ChatCompletionChunk]:\n\u001b[1;32m    177\u001b[0m \u001b[38;5;250m    \u001b[39m\u001b[38;5;124;03m\"\"\"\u001b[39;00m\n\u001b[1;32m    178\u001b[0m \u001b[38;5;124;03m    Creates a model response for the given chat conversation.\u001b[39;00m\n\u001b[1;32m    179\u001b[0m \n\u001b[0;32m   (...)\u001b[0m\n\u001b[1;32m    285\u001b[0m \u001b[38;5;124;03m      timeout: Override the client-level default timeout for this request, in seconds\u001b[39;00m\n\u001b[1;32m    286\u001b[0m \u001b[38;5;124;03m    \"\"\"\u001b[39;00m\n\u001b[0;32m--> 287\u001b[0m     \u001b[38;5;28;01mreturn\u001b[39;00m \u001b[38;5;28;43mself\u001b[39;49m\u001b[38;5;241;43m.\u001b[39;49m\u001b[43m_post\u001b[49m\u001b[43m(\u001b[49m\n\u001b[1;32m    288\u001b[0m \u001b[43m        \u001b[49m\u001b[38;5;124;43m\"\u001b[39;49m\u001b[38;5;124;43m/openai/v1/chat/completions\u001b[39;49m\u001b[38;5;124;43m\"\u001b[39;49m\u001b[43m,\u001b[49m\n\u001b[1;32m    289\u001b[0m \u001b[43m        \u001b[49m\u001b[43mbody\u001b[49m\u001b[38;5;241;43m=\u001b[39;49m\u001b[43mmaybe_transform\u001b[49m\u001b[43m(\u001b[49m\n\u001b[1;32m    290\u001b[0m \u001b[43m            \u001b[49m\u001b[43m{\u001b[49m\n\u001b[1;32m    291\u001b[0m \u001b[43m                \u001b[49m\u001b[38;5;124;43m\"\u001b[39;49m\u001b[38;5;124;43mmessages\u001b[39;49m\u001b[38;5;124;43m\"\u001b[39;49m\u001b[43m:\u001b[49m\u001b[43m \u001b[49m\u001b[43mmessages\u001b[49m\u001b[43m,\u001b[49m\n\u001b[1;32m    292\u001b[0m \u001b[43m                \u001b[49m\u001b[38;5;124;43m\"\u001b[39;49m\u001b[38;5;124;43mmodel\u001b[39;49m\u001b[38;5;124;43m\"\u001b[39;49m\u001b[43m:\u001b[49m\u001b[43m \u001b[49m\u001b[43mmodel\u001b[49m\u001b[43m,\u001b[49m\n\u001b[1;32m    293\u001b[0m \u001b[43m                \u001b[49m\u001b[38;5;124;43m\"\u001b[39;49m\u001b[38;5;124;43mfrequency_penalty\u001b[39;49m\u001b[38;5;124;43m\"\u001b[39;49m\u001b[43m:\u001b[49m\u001b[43m \u001b[49m\u001b[43mfrequency_penalty\u001b[49m\u001b[43m,\u001b[49m\n\u001b[1;32m    294\u001b[0m \u001b[43m                \u001b[49m\u001b[38;5;124;43m\"\u001b[39;49m\u001b[38;5;124;43mfunction_call\u001b[39;49m\u001b[38;5;124;43m\"\u001b[39;49m\u001b[43m:\u001b[49m\u001b[43m \u001b[49m\u001b[43mfunction_call\u001b[49m\u001b[43m,\u001b[49m\n\u001b[1;32m    295\u001b[0m \u001b[43m                \u001b[49m\u001b[38;5;124;43m\"\u001b[39;49m\u001b[38;5;124;43mfunctions\u001b[39;49m\u001b[38;5;124;43m\"\u001b[39;49m\u001b[43m:\u001b[49m\u001b[43m \u001b[49m\u001b[43mfunctions\u001b[49m\u001b[43m,\u001b[49m\n\u001b[1;32m    296\u001b[0m \u001b[43m                \u001b[49m\u001b[38;5;124;43m\"\u001b[39;49m\u001b[38;5;124;43mlogit_bias\u001b[39;49m\u001b[38;5;124;43m\"\u001b[39;49m\u001b[43m:\u001b[49m\u001b[43m \u001b[49m\u001b[43mlogit_bias\u001b[49m\u001b[43m,\u001b[49m\n\u001b[1;32m    297\u001b[0m \u001b[43m                \u001b[49m\u001b[38;5;124;43m\"\u001b[39;49m\u001b[38;5;124;43mlogprobs\u001b[39;49m\u001b[38;5;124;43m\"\u001b[39;49m\u001b[43m:\u001b[49m\u001b[43m \u001b[49m\u001b[43mlogprobs\u001b[49m\u001b[43m,\u001b[49m\n\u001b[1;32m    298\u001b[0m \u001b[43m                \u001b[49m\u001b[38;5;124;43m\"\u001b[39;49m\u001b[38;5;124;43mmax_tokens\u001b[39;49m\u001b[38;5;124;43m\"\u001b[39;49m\u001b[43m:\u001b[49m\u001b[43m \u001b[49m\u001b[43mmax_tokens\u001b[49m\u001b[43m,\u001b[49m\n\u001b[1;32m    299\u001b[0m \u001b[43m                \u001b[49m\u001b[38;5;124;43m\"\u001b[39;49m\u001b[38;5;124;43mn\u001b[39;49m\u001b[38;5;124;43m\"\u001b[39;49m\u001b[43m:\u001b[49m\u001b[43m \u001b[49m\u001b[43mn\u001b[49m\u001b[43m,\u001b[49m\n\u001b[1;32m    300\u001b[0m \u001b[43m                \u001b[49m\u001b[38;5;124;43m\"\u001b[39;49m\u001b[38;5;124;43mparallel_tool_calls\u001b[39;49m\u001b[38;5;124;43m\"\u001b[39;49m\u001b[43m:\u001b[49m\u001b[43m \u001b[49m\u001b[43mparallel_tool_calls\u001b[49m\u001b[43m,\u001b[49m\n\u001b[1;32m    301\u001b[0m \u001b[43m                \u001b[49m\u001b[38;5;124;43m\"\u001b[39;49m\u001b[38;5;124;43mpresence_penalty\u001b[39;49m\u001b[38;5;124;43m\"\u001b[39;49m\u001b[43m:\u001b[49m\u001b[43m \u001b[49m\u001b[43mpresence_penalty\u001b[49m\u001b[43m,\u001b[49m\n\u001b[1;32m    302\u001b[0m \u001b[43m                \u001b[49m\u001b[38;5;124;43m\"\u001b[39;49m\u001b[38;5;124;43mresponse_format\u001b[39;49m\u001b[38;5;124;43m\"\u001b[39;49m\u001b[43m:\u001b[49m\u001b[43m \u001b[49m\u001b[43mresponse_format\u001b[49m\u001b[43m,\u001b[49m\n\u001b[1;32m    303\u001b[0m \u001b[43m                \u001b[49m\u001b[38;5;124;43m\"\u001b[39;49m\u001b[38;5;124;43mseed\u001b[39;49m\u001b[38;5;124;43m\"\u001b[39;49m\u001b[43m:\u001b[49m\u001b[43m \u001b[49m\u001b[43mseed\u001b[49m\u001b[43m,\u001b[49m\n\u001b[1;32m    304\u001b[0m \u001b[43m                \u001b[49m\u001b[38;5;124;43m\"\u001b[39;49m\u001b[38;5;124;43mstop\u001b[39;49m\u001b[38;5;124;43m\"\u001b[39;49m\u001b[43m:\u001b[49m\u001b[43m \u001b[49m\u001b[43mstop\u001b[49m\u001b[43m,\u001b[49m\n\u001b[1;32m    305\u001b[0m \u001b[43m                \u001b[49m\u001b[38;5;124;43m\"\u001b[39;49m\u001b[38;5;124;43mstream\u001b[39;49m\u001b[38;5;124;43m\"\u001b[39;49m\u001b[43m:\u001b[49m\u001b[43m \u001b[49m\u001b[43mstream\u001b[49m\u001b[43m,\u001b[49m\n\u001b[1;32m    306\u001b[0m \u001b[43m                \u001b[49m\u001b[38;5;124;43m\"\u001b[39;49m\u001b[38;5;124;43mtemperature\u001b[39;49m\u001b[38;5;124;43m\"\u001b[39;49m\u001b[43m:\u001b[49m\u001b[43m \u001b[49m\u001b[43mtemperature\u001b[49m\u001b[43m,\u001b[49m\n\u001b[1;32m    307\u001b[0m \u001b[43m                \u001b[49m\u001b[38;5;124;43m\"\u001b[39;49m\u001b[38;5;124;43mtool_choice\u001b[39;49m\u001b[38;5;124;43m\"\u001b[39;49m\u001b[43m:\u001b[49m\u001b[43m \u001b[49m\u001b[43mtool_choice\u001b[49m\u001b[43m,\u001b[49m\n\u001b[1;32m    308\u001b[0m \u001b[43m                \u001b[49m\u001b[38;5;124;43m\"\u001b[39;49m\u001b[38;5;124;43mtools\u001b[39;49m\u001b[38;5;124;43m\"\u001b[39;49m\u001b[43m:\u001b[49m\u001b[43m \u001b[49m\u001b[43mtools\u001b[49m\u001b[43m,\u001b[49m\n\u001b[1;32m    309\u001b[0m \u001b[43m                \u001b[49m\u001b[38;5;124;43m\"\u001b[39;49m\u001b[38;5;124;43mtop_logprobs\u001b[39;49m\u001b[38;5;124;43m\"\u001b[39;49m\u001b[43m:\u001b[49m\u001b[43m \u001b[49m\u001b[43mtop_logprobs\u001b[49m\u001b[43m,\u001b[49m\n\u001b[1;32m    310\u001b[0m \u001b[43m                \u001b[49m\u001b[38;5;124;43m\"\u001b[39;49m\u001b[38;5;124;43mtop_p\u001b[39;49m\u001b[38;5;124;43m\"\u001b[39;49m\u001b[43m:\u001b[49m\u001b[43m \u001b[49m\u001b[43mtop_p\u001b[49m\u001b[43m,\u001b[49m\n\u001b[1;32m    311\u001b[0m \u001b[43m                \u001b[49m\u001b[38;5;124;43m\"\u001b[39;49m\u001b[38;5;124;43muser\u001b[39;49m\u001b[38;5;124;43m\"\u001b[39;49m\u001b[43m:\u001b[49m\u001b[43m \u001b[49m\u001b[43muser\u001b[49m\u001b[43m,\u001b[49m\n\u001b[1;32m    312\u001b[0m \u001b[43m            \u001b[49m\u001b[43m}\u001b[49m\u001b[43m,\u001b[49m\n\u001b[1;32m    313\u001b[0m \u001b[43m            \u001b[49m\u001b[43mcompletion_create_params\u001b[49m\u001b[38;5;241;43m.\u001b[39;49m\u001b[43mCompletionCreateParams\u001b[49m\u001b[43m,\u001b[49m\n\u001b[1;32m    314\u001b[0m \u001b[43m        \u001b[49m\u001b[43m)\u001b[49m\u001b[43m,\u001b[49m\n\u001b[1;32m    315\u001b[0m \u001b[43m        \u001b[49m\u001b[43moptions\u001b[49m\u001b[38;5;241;43m=\u001b[39;49m\u001b[43mmake_request_options\u001b[49m\u001b[43m(\u001b[49m\n\u001b[1;32m    316\u001b[0m \u001b[43m            \u001b[49m\u001b[43mextra_headers\u001b[49m\u001b[38;5;241;43m=\u001b[39;49m\u001b[43mextra_headers\u001b[49m\u001b[43m,\u001b[49m\u001b[43m \u001b[49m\u001b[43mextra_query\u001b[49m\u001b[38;5;241;43m=\u001b[39;49m\u001b[43mextra_query\u001b[49m\u001b[43m,\u001b[49m\u001b[43m \u001b[49m\u001b[43mextra_body\u001b[49m\u001b[38;5;241;43m=\u001b[39;49m\u001b[43mextra_body\u001b[49m\u001b[43m,\u001b[49m\u001b[43m \u001b[49m\u001b[43mtimeout\u001b[49m\u001b[38;5;241;43m=\u001b[39;49m\u001b[43mtimeout\u001b[49m\n\u001b[1;32m    317\u001b[0m \u001b[43m        \u001b[49m\u001b[43m)\u001b[49m\u001b[43m,\u001b[49m\n\u001b[1;32m    318\u001b[0m \u001b[43m        \u001b[49m\u001b[43mcast_to\u001b[49m\u001b[38;5;241;43m=\u001b[39;49m\u001b[43mChatCompletion\u001b[49m\u001b[43m,\u001b[49m\n\u001b[1;32m    319\u001b[0m \u001b[43m        \u001b[49m\u001b[43mstream\u001b[49m\u001b[38;5;241;43m=\u001b[39;49m\u001b[43mstream\u001b[49m\u001b[43m \u001b[49m\u001b[38;5;129;43;01mor\u001b[39;49;00m\u001b[43m \u001b[49m\u001b[38;5;28;43;01mFalse\u001b[39;49;00m\u001b[43m,\u001b[49m\n\u001b[1;32m    320\u001b[0m \u001b[43m        \u001b[49m\u001b[43mstream_cls\u001b[49m\u001b[38;5;241;43m=\u001b[39;49m\u001b[43mStream\u001b[49m\u001b[43m[\u001b[49m\u001b[43mChatCompletionChunk\u001b[49m\u001b[43m]\u001b[49m\u001b[43m,\u001b[49m\n\u001b[1;32m    321\u001b[0m \u001b[43m    \u001b[49m\u001b[43m)\u001b[49m\n",
      "File \u001b[0;32m/opt/homebrew/Caskroom/miniconda/base/envs/dsproj/lib/python3.9/site-packages/groq/_base_client.py:1244\u001b[0m, in \u001b[0;36mSyncAPIClient.post\u001b[0;34m(self, path, cast_to, body, options, files, stream, stream_cls)\u001b[0m\n\u001b[1;32m   1230\u001b[0m \u001b[38;5;28;01mdef\u001b[39;00m \u001b[38;5;21mpost\u001b[39m(\n\u001b[1;32m   1231\u001b[0m     \u001b[38;5;28mself\u001b[39m,\n\u001b[1;32m   1232\u001b[0m     path: \u001b[38;5;28mstr\u001b[39m,\n\u001b[0;32m   (...)\u001b[0m\n\u001b[1;32m   1239\u001b[0m     stream_cls: \u001b[38;5;28mtype\u001b[39m[_StreamT] \u001b[38;5;241m|\u001b[39m \u001b[38;5;28;01mNone\u001b[39;00m \u001b[38;5;241m=\u001b[39m \u001b[38;5;28;01mNone\u001b[39;00m,\n\u001b[1;32m   1240\u001b[0m ) \u001b[38;5;241m-\u001b[39m\u001b[38;5;241m>\u001b[39m ResponseT \u001b[38;5;241m|\u001b[39m _StreamT:\n\u001b[1;32m   1241\u001b[0m     opts \u001b[38;5;241m=\u001b[39m FinalRequestOptions\u001b[38;5;241m.\u001b[39mconstruct(\n\u001b[1;32m   1242\u001b[0m         method\u001b[38;5;241m=\u001b[39m\u001b[38;5;124m\"\u001b[39m\u001b[38;5;124mpost\u001b[39m\u001b[38;5;124m\"\u001b[39m, url\u001b[38;5;241m=\u001b[39mpath, json_data\u001b[38;5;241m=\u001b[39mbody, files\u001b[38;5;241m=\u001b[39mto_httpx_files(files), \u001b[38;5;241m*\u001b[39m\u001b[38;5;241m*\u001b[39moptions\n\u001b[1;32m   1243\u001b[0m     )\n\u001b[0;32m-> 1244\u001b[0m     \u001b[38;5;28;01mreturn\u001b[39;00m cast(ResponseT, \u001b[38;5;28;43mself\u001b[39;49m\u001b[38;5;241;43m.\u001b[39;49m\u001b[43mrequest\u001b[49m\u001b[43m(\u001b[49m\u001b[43mcast_to\u001b[49m\u001b[43m,\u001b[49m\u001b[43m \u001b[49m\u001b[43mopts\u001b[49m\u001b[43m,\u001b[49m\u001b[43m \u001b[49m\u001b[43mstream\u001b[49m\u001b[38;5;241;43m=\u001b[39;49m\u001b[43mstream\u001b[49m\u001b[43m,\u001b[49m\u001b[43m \u001b[49m\u001b[43mstream_cls\u001b[49m\u001b[38;5;241;43m=\u001b[39;49m\u001b[43mstream_cls\u001b[49m\u001b[43m)\u001b[49m)\n",
      "File \u001b[0;32m/opt/homebrew/Caskroom/miniconda/base/envs/dsproj/lib/python3.9/site-packages/groq/_base_client.py:936\u001b[0m, in \u001b[0;36mSyncAPIClient.request\u001b[0;34m(self, cast_to, options, remaining_retries, stream, stream_cls)\u001b[0m\n\u001b[1;32m    927\u001b[0m \u001b[38;5;28;01mdef\u001b[39;00m \u001b[38;5;21mrequest\u001b[39m(\n\u001b[1;32m    928\u001b[0m     \u001b[38;5;28mself\u001b[39m,\n\u001b[1;32m    929\u001b[0m     cast_to: Type[ResponseT],\n\u001b[0;32m   (...)\u001b[0m\n\u001b[1;32m    934\u001b[0m     stream_cls: \u001b[38;5;28mtype\u001b[39m[_StreamT] \u001b[38;5;241m|\u001b[39m \u001b[38;5;28;01mNone\u001b[39;00m \u001b[38;5;241m=\u001b[39m \u001b[38;5;28;01mNone\u001b[39;00m,\n\u001b[1;32m    935\u001b[0m ) \u001b[38;5;241m-\u001b[39m\u001b[38;5;241m>\u001b[39m ResponseT \u001b[38;5;241m|\u001b[39m _StreamT:\n\u001b[0;32m--> 936\u001b[0m     \u001b[38;5;28;01mreturn\u001b[39;00m \u001b[38;5;28;43mself\u001b[39;49m\u001b[38;5;241;43m.\u001b[39;49m\u001b[43m_request\u001b[49m\u001b[43m(\u001b[49m\n\u001b[1;32m    937\u001b[0m \u001b[43m        \u001b[49m\u001b[43mcast_to\u001b[49m\u001b[38;5;241;43m=\u001b[39;49m\u001b[43mcast_to\u001b[49m\u001b[43m,\u001b[49m\n\u001b[1;32m    938\u001b[0m \u001b[43m        \u001b[49m\u001b[43moptions\u001b[49m\u001b[38;5;241;43m=\u001b[39;49m\u001b[43moptions\u001b[49m\u001b[43m,\u001b[49m\n\u001b[1;32m    939\u001b[0m \u001b[43m        \u001b[49m\u001b[43mstream\u001b[49m\u001b[38;5;241;43m=\u001b[39;49m\u001b[43mstream\u001b[49m\u001b[43m,\u001b[49m\n\u001b[1;32m    940\u001b[0m \u001b[43m        \u001b[49m\u001b[43mstream_cls\u001b[49m\u001b[38;5;241;43m=\u001b[39;49m\u001b[43mstream_cls\u001b[49m\u001b[43m,\u001b[49m\n\u001b[1;32m    941\u001b[0m \u001b[43m        \u001b[49m\u001b[43mremaining_retries\u001b[49m\u001b[38;5;241;43m=\u001b[39;49m\u001b[43mremaining_retries\u001b[49m\u001b[43m,\u001b[49m\n\u001b[1;32m    942\u001b[0m \u001b[43m    \u001b[49m\u001b[43m)\u001b[49m\n",
      "File \u001b[0;32m/opt/homebrew/Caskroom/miniconda/base/envs/dsproj/lib/python3.9/site-packages/groq/_base_client.py:1024\u001b[0m, in \u001b[0;36mSyncAPIClient._request\u001b[0;34m(self, cast_to, options, remaining_retries, stream, stream_cls)\u001b[0m\n\u001b[1;32m   1022\u001b[0m \u001b[38;5;28;01mif\u001b[39;00m retries \u001b[38;5;241m>\u001b[39m \u001b[38;5;241m0\u001b[39m \u001b[38;5;129;01mand\u001b[39;00m \u001b[38;5;28mself\u001b[39m\u001b[38;5;241m.\u001b[39m_should_retry(err\u001b[38;5;241m.\u001b[39mresponse):\n\u001b[1;32m   1023\u001b[0m     err\u001b[38;5;241m.\u001b[39mresponse\u001b[38;5;241m.\u001b[39mclose()\n\u001b[0;32m-> 1024\u001b[0m     \u001b[38;5;28;01mreturn\u001b[39;00m \u001b[38;5;28;43mself\u001b[39;49m\u001b[38;5;241;43m.\u001b[39;49m\u001b[43m_retry_request\u001b[49m\u001b[43m(\u001b[49m\n\u001b[1;32m   1025\u001b[0m \u001b[43m        \u001b[49m\u001b[43minput_options\u001b[49m\u001b[43m,\u001b[49m\n\u001b[1;32m   1026\u001b[0m \u001b[43m        \u001b[49m\u001b[43mcast_to\u001b[49m\u001b[43m,\u001b[49m\n\u001b[1;32m   1027\u001b[0m \u001b[43m        \u001b[49m\u001b[43mretries\u001b[49m\u001b[43m,\u001b[49m\n\u001b[1;32m   1028\u001b[0m \u001b[43m        \u001b[49m\u001b[43merr\u001b[49m\u001b[38;5;241;43m.\u001b[39;49m\u001b[43mresponse\u001b[49m\u001b[38;5;241;43m.\u001b[39;49m\u001b[43mheaders\u001b[49m\u001b[43m,\u001b[49m\n\u001b[1;32m   1029\u001b[0m \u001b[43m        \u001b[49m\u001b[43mstream\u001b[49m\u001b[38;5;241;43m=\u001b[39;49m\u001b[43mstream\u001b[49m\u001b[43m,\u001b[49m\n\u001b[1;32m   1030\u001b[0m \u001b[43m        \u001b[49m\u001b[43mstream_cls\u001b[49m\u001b[38;5;241;43m=\u001b[39;49m\u001b[43mstream_cls\u001b[49m\u001b[43m,\u001b[49m\n\u001b[1;32m   1031\u001b[0m \u001b[43m    \u001b[49m\u001b[43m)\u001b[49m\n\u001b[1;32m   1033\u001b[0m \u001b[38;5;66;03m# If the response is streamed then we need to explicitly read the response\u001b[39;00m\n\u001b[1;32m   1034\u001b[0m \u001b[38;5;66;03m# to completion before attempting to access the response text.\u001b[39;00m\n\u001b[1;32m   1035\u001b[0m \u001b[38;5;28;01mif\u001b[39;00m \u001b[38;5;129;01mnot\u001b[39;00m err\u001b[38;5;241m.\u001b[39mresponse\u001b[38;5;241m.\u001b[39mis_closed:\n",
      "File \u001b[0;32m/opt/homebrew/Caskroom/miniconda/base/envs/dsproj/lib/python3.9/site-packages/groq/_base_client.py:1071\u001b[0m, in \u001b[0;36mSyncAPIClient._retry_request\u001b[0;34m(self, options, cast_to, remaining_retries, response_headers, stream, stream_cls)\u001b[0m\n\u001b[1;32m   1067\u001b[0m log\u001b[38;5;241m.\u001b[39minfo(\u001b[38;5;124m\"\u001b[39m\u001b[38;5;124mRetrying request to \u001b[39m\u001b[38;5;132;01m%s\u001b[39;00m\u001b[38;5;124m in \u001b[39m\u001b[38;5;132;01m%f\u001b[39;00m\u001b[38;5;124m seconds\u001b[39m\u001b[38;5;124m\"\u001b[39m, options\u001b[38;5;241m.\u001b[39murl, timeout)\n\u001b[1;32m   1069\u001b[0m \u001b[38;5;66;03m# In a synchronous context we are blocking the entire thread. Up to the library user to run the client in a\u001b[39;00m\n\u001b[1;32m   1070\u001b[0m \u001b[38;5;66;03m# different thread if necessary.\u001b[39;00m\n\u001b[0;32m-> 1071\u001b[0m \u001b[43mtime\u001b[49m\u001b[38;5;241;43m.\u001b[39;49m\u001b[43msleep\u001b[49m\u001b[43m(\u001b[49m\u001b[43mtimeout\u001b[49m\u001b[43m)\u001b[49m\n\u001b[1;32m   1073\u001b[0m \u001b[38;5;28;01mreturn\u001b[39;00m \u001b[38;5;28mself\u001b[39m\u001b[38;5;241m.\u001b[39m_request(\n\u001b[1;32m   1074\u001b[0m     options\u001b[38;5;241m=\u001b[39moptions,\n\u001b[1;32m   1075\u001b[0m     cast_to\u001b[38;5;241m=\u001b[39mcast_to,\n\u001b[0;32m   (...)\u001b[0m\n\u001b[1;32m   1078\u001b[0m     stream_cls\u001b[38;5;241m=\u001b[39mstream_cls,\n\u001b[1;32m   1079\u001b[0m )\n",
      "\u001b[0;31mKeyboardInterrupt\u001b[0m: "
     ]
    }
   ],
   "source": [
    "import os\n",
    "import json\n",
    "from tqdm import tqdm\n",
    "from groq import Groq\n",
    "\n",
    "# Initialize Groq client with API key\n",
    "# client = Groq(api_key=os.environ.get(\"GROQ_API_KEY\"))\n",
    "\n",
    "# Function for batch sentiment analysis\n",
    "def get_sentiments_batch_groq(reviews, batch_size=5):\n",
    "    all_sentiments = {}\n",
    "    \n",
    "    # Process the reviews in batches\n",
    "    for i in tqdm(range(0, len(reviews), batch_size)):\n",
    "        batch = reviews[i:i + batch_size]\n",
    "        \n",
    "        # Formatting reviews with numbering for batch prompt\n",
    "        formatted_reviews = \"\\n\".join([f\"{j + 1}. {review}\" for j, review in enumerate(batch)])\n",
    "        \n",
    "        # Define the prompt with clear instructions for JSON response\n",
    "        prompt = (\n",
    "            f\"Analyze the sentiment of each of the following customer reviews and provide the response in JSON format:\\n\\n{formatted_reviews}\\n\\n\"\n",
    "            \"The JSON schema should include:\\n\"\n",
    "            \"{\\n\"\n",
    "            \"  \\\"review_number\\\": \\\"integer\\\",\\n\"\n",
    "            \"  \\\"sentiment_analysis\\\": {\\n\"\n",
    "            \"    \\\"sentiment\\\": \\\"string (positive, negative, neutral)\\\",\\n\"\n",
    "            \"    \\\"confidence_score\\\": \\\"number (0-1)\\\"\\n\"\n",
    "            \"  }\\n\"\n",
    "            \"}\"\n",
    "        )\n",
    "\n",
    "        try:\n",
    "            # Send batch prompt to Groq API\n",
    "            chat_completion = client.chat.completions.create(\n",
    "                messages=[\n",
    "                    {\n",
    "                        \"role\": \"system\",\n",
    "                        \"content\": \"You are a customer review sentiment analyzer. Please analyze each review and return the results in JSON format.\"\n",
    "                    },\n",
    "                    {\n",
    "                        \"role\": \"user\",\n",
    "                        \"content\": prompt\n",
    "                    }\n",
    "                ],\n",
    "                model=\"llama3-8b-8192\",\n",
    "                # Enforce the response format to be JSON\n",
    "                response_format={\"type\": \"json_object\"}\n",
    "            )\n",
    "\n",
    "            # Extract the raw response content\n",
    "            response_content = chat_completion.choices[0].message.content.strip()\n",
    "\n",
    "            # Parse the response, expecting it to be a JSON object with a \"reviews\" key\n",
    "            result = json.loads(response_content)\n",
    "\n",
    "            # Extract the list of reviews from the \"reviews\" key\n",
    "            reviews_list = result.get(\"reviews\", [])\n",
    "\n",
    "            if isinstance(reviews_list, list):\n",
    "                for item in reviews_list:\n",
    "                    # Calculate the absolute index in the main list of reviews.\n",
    "                    absolute_index = i + item['review_number'] - 1  # Adjust for 0-based indexing\n",
    "                    all_sentiments[absolute_index] = {\n",
    "                        'sentiment': item['sentiment_analysis']['sentiment'],\n",
    "                        'confidence_score': item['sentiment_analysis']['confidence_score']\n",
    "                    }\n",
    "            else:\n",
    "                print(f\"Unexpected response format for batch starting at index {i}.\")\n",
    "                print(f\"Raw response: {response_content}\")\n",
    "\n",
    "        except json.JSONDecodeError as json_error:\n",
    "            print(f\"Error parsing JSON response for batch starting at index {i}. Raw response content: {response_content}\")\n",
    "            print(f\"JSON error: {json_error}\")\n",
    "        except Exception as e:\n",
    "            print(f\"Error during sentiment analysis for batch starting at index {i}: {e}\")\n",
    "\n",
    "    return all_sentiments\n",
    "\n",
    "reviews_1k_groq = groq_df_b['review'][:1000].tolist() \n",
    "sentiments = get_sentiments_batch_groq(reviews_1k_groq)\n",
    "print(f\"Number of processed sentiments: {len(sentiments)}\")\n",
    "\n",
    "# Create a new 'sentiment' column in the original dataframe\n",
    "df['sentiment'] = df.index.map(sentiments)\n",
    "\n",
    "# For debugging, print out any missing reviews\n",
    "missing_reviews = [idx for idx in range(len(reviews_1k_groq)) if idx not in sentiments]\n",
    "if missing_reviews:\n",
    "    print(f\"Missing sentiments for the following review indices: {missing_reviews}\")"
   ]
  },
  {
   "cell_type": "code",
   "execution_count": 78,
   "metadata": {},
   "outputs": [
    {
     "name": "stderr",
     "output_type": "stream",
     "text": [
      "  0%|          | 0/100 [00:00<?, ?it/s]"
     ]
    },
    {
     "name": "stderr",
     "output_type": "stream",
     "text": [
      "  2%|▏         | 2/100 [00:00<00:41,  2.37it/s]"
     ]
    },
    {
     "name": "stdout",
     "output_type": "stream",
     "text": [
      "Error during sentiment analysis for batch starting at index 0: 'sentiment_analysis'\n",
      "Error during sentiment analysis for batch starting at index 10: Error code: 429 - {'error': {'message': 'Rate limit reached for model `llama3-8b-8192` in organization `org_01j9m95282e27t3n1tb7c5d96z` on : Limit 500000, Used 500063, Requested 1704. Please try again in 5m5.5032s. Visit https://console.groq.com/docs/rate-limits for more information.', 'type': '', 'code': 'rate_limit_exceeded'}}\n"
     ]
    },
    {
     "name": "stderr",
     "output_type": "stream",
     "text": [
      "  4%|▍         | 4/100 [00:01<00:21,  4.57it/s]"
     ]
    },
    {
     "name": "stdout",
     "output_type": "stream",
     "text": [
      "Error during sentiment analysis for batch starting at index 20: Error code: 429 - {'error': {'message': 'Rate limit reached for model `llama3-8b-8192` in organization `org_01j9m95282e27t3n1tb7c5d96z` on : Limit 500000, Used 500063, Requested 1565. Please try again in 4m41.365s. Visit https://console.groq.com/docs/rate-limits for more information.', 'type': '', 'code': 'rate_limit_exceeded'}}\n",
      "Error during sentiment analysis for batch starting at index 30: Error code: 429 - {'error': {'message': 'Rate limit reached for model `llama3-8b-8192` in organization `org_01j9m95282e27t3n1tb7c5d96z` on : Limit 500000, Used 500062, Requested 794. Please try again in 2m28.0192s. Visit https://console.groq.com/docs/rate-limits for more information.', 'type': '', 'code': 'rate_limit_exceeded'}}\n"
     ]
    },
    {
     "name": "stderr",
     "output_type": "stream",
     "text": [
      "  6%|▌         | 6/100 [00:01<00:25,  3.76it/s]"
     ]
    },
    {
     "name": "stdout",
     "output_type": "stream",
     "text": [
      "Error during sentiment analysis for batch starting at index 40: Error code: 429 - {'error': {'message': 'Rate limit reached for model `llama3-8b-8192` in organization `org_01j9m95282e27t3n1tb7c5d96z` on : Limit 500000, Used 500061, Requested 1083. Please try again in 3m17.8494s. Visit https://console.groq.com/docs/rate-limits for more information.', 'type': '', 'code': 'rate_limit_exceeded'}}\n",
      "Error during sentiment analysis for batch starting at index 50: Error code: 429 - {'error': {'message': 'Rate limit reached for model `llama3-8b-8192` in organization `org_01j9m95282e27t3n1tb7c5d96z` on : Limit 500000, Used 500058, Requested 1548. Please try again in 4m37.6284s. Visit https://console.groq.com/docs/rate-limits for more information.', 'type': '', 'code': 'rate_limit_exceeded'}}\n"
     ]
    },
    {
     "name": "stderr",
     "output_type": "stream",
     "text": [
      "  8%|▊         | 8/100 [00:02<00:17,  5.16it/s]"
     ]
    },
    {
     "name": "stdout",
     "output_type": "stream",
     "text": [
      "Error during sentiment analysis for batch starting at index 60: Error code: 429 - {'error': {'message': 'Rate limit reached for model `llama3-8b-8192` in organization `org_01j9m95282e27t3n1tb7c5d96z` on : Limit 500000, Used 500057, Requested 1277. Please try again in 3m50.6316s. Visit https://console.groq.com/docs/rate-limits for more information.', 'type': '', 'code': 'rate_limit_exceeded'}}\n",
      "Error during sentiment analysis for batch starting at index 70: Error code: 429 - {'error': {'message': 'Rate limit reached for model `llama3-8b-8192` in organization `org_01j9m95282e27t3n1tb7c5d96z` on : Limit 500000, Used 500057, Requested 1165. Please try again in 3m31.167s. Visit https://console.groq.com/docs/rate-limits for more information.', 'type': '', 'code': 'rate_limit_exceeded'}}\n"
     ]
    },
    {
     "name": "stderr",
     "output_type": "stream",
     "text": [
      " 10%|█         | 10/100 [00:02<00:13,  6.69it/s]"
     ]
    },
    {
     "name": "stdout",
     "output_type": "stream",
     "text": [
      "Error during sentiment analysis for batch starting at index 80: Error code: 429 - {'error': {'message': 'Rate limit reached for model `llama3-8b-8192` in organization `org_01j9m95282e27t3n1tb7c5d96z` on : Limit 500000, Used 500056, Requested 1415. Please try again in 4m14.25s. Visit https://console.groq.com/docs/rate-limits for more information.', 'type': '', 'code': 'rate_limit_exceeded'}}\n",
      "Error during sentiment analysis for batch starting at index 90: Error code: 429 - {'error': {'message': 'Rate limit reached for model `llama3-8b-8192` in organization `org_01j9m95282e27t3n1tb7c5d96z` on : Limit 500000, Used 500055, Requested 1704. Please try again in 5m4.086199999s. Visit https://console.groq.com/docs/rate-limits for more information.', 'type': '', 'code': 'rate_limit_exceeded'}}\n"
     ]
    },
    {
     "name": "stderr",
     "output_type": "stream",
     "text": [
      " 12%|█▏        | 12/100 [00:02<00:11,  7.68it/s]"
     ]
    },
    {
     "name": "stdout",
     "output_type": "stream",
     "text": [
      "Error during sentiment analysis for batch starting at index 100: Error code: 429 - {'error': {'message': 'Rate limit reached for model `llama3-8b-8192` in organization `org_01j9m95282e27t3n1tb7c5d96z` on : Limit 500000, Used 500055, Requested 1151. Please try again in 3m28.405799999s. Visit https://console.groq.com/docs/rate-limits for more information.', 'type': '', 'code': 'rate_limit_exceeded'}}\n",
      "Error during sentiment analysis for batch starting at index 110: Error code: 429 - {'error': {'message': 'Rate limit reached for model `llama3-8b-8192` in organization `org_01j9m95282e27t3n1tb7c5d96z` on : Limit 500000, Used 500054, Requested 1316. Please try again in 3m56.8108s. Visit https://console.groq.com/docs/rate-limits for more information.', 'type': '', 'code': 'rate_limit_exceeded'}}\n"
     ]
    },
    {
     "name": "stderr",
     "output_type": "stream",
     "text": [
      " 14%|█▍        | 14/100 [00:02<00:11,  7.79it/s]"
     ]
    },
    {
     "name": "stdout",
     "output_type": "stream",
     "text": [
      "Error during sentiment analysis for batch starting at index 120: Error code: 429 - {'error': {'message': 'Rate limit reached for model `llama3-8b-8192` in organization `org_01j9m95282e27t3n1tb7c5d96z` on : Limit 500000, Used 500053, Requested 1506. Please try again in 4m29.536799999s. Visit https://console.groq.com/docs/rate-limits for more information.', 'type': '', 'code': 'rate_limit_exceeded'}}\n",
      "Error during sentiment analysis for batch starting at index 130: Error code: 429 - {'error': {'message': 'Rate limit reached for model `llama3-8b-8192` in organization `org_01j9m95282e27t3n1tb7c5d96z` on : Limit 500000, Used 500053, Requested 1473. Please try again in 4m23.704399999s. Visit https://console.groq.com/docs/rate-limits for more information.', 'type': '', 'code': 'rate_limit_exceeded'}}\n"
     ]
    },
    {
     "name": "stderr",
     "output_type": "stream",
     "text": [
      " 16%|█▌        | 16/100 [00:03<00:10,  8.30it/s]"
     ]
    },
    {
     "name": "stdout",
     "output_type": "stream",
     "text": [
      "Error during sentiment analysis for batch starting at index 140: Error code: 429 - {'error': {'message': 'Rate limit reached for model `llama3-8b-8192` in organization `org_01j9m95282e27t3n1tb7c5d96z` on : Limit 500000, Used 500052, Requested 1158. Please try again in 3m29.1494s. Visit https://console.groq.com/docs/rate-limits for more information.', 'type': '', 'code': 'rate_limit_exceeded'}}\n",
      "Error during sentiment analysis for batch starting at index 150: Error code: 429 - {'error': {'message': 'Rate limit reached for model `llama3-8b-8192` in organization `org_01j9m95282e27t3n1tb7c5d96z` on : Limit 500000, Used 500051, Requested 1389. Please try again in 4m8.9562s. Visit https://console.groq.com/docs/rate-limits for more information.', 'type': '', 'code': 'rate_limit_exceeded'}}\n"
     ]
    },
    {
     "name": "stderr",
     "output_type": "stream",
     "text": [
      " 18%|█▊        | 18/100 [00:03<00:10,  7.47it/s]"
     ]
    },
    {
     "name": "stdout",
     "output_type": "stream",
     "text": [
      "Error during sentiment analysis for batch starting at index 160: Error code: 429 - {'error': {'message': 'Rate limit reached for model `llama3-8b-8192` in organization `org_01j9m95282e27t3n1tb7c5d96z` on : Limit 500000, Used 500051, Requested 1325. Please try again in 3m57.773s. Visit https://console.groq.com/docs/rate-limits for more information.', 'type': '', 'code': 'rate_limit_exceeded'}}\n",
      "Error during sentiment analysis for batch starting at index 170: Error code: 429 - {'error': {'message': 'Rate limit reached for model `llama3-8b-8192` in organization `org_01j9m95282e27t3n1tb7c5d96z` on : Limit 500000, Used 500050, Requested 1191. Please try again in 3m34.5138s. Visit https://console.groq.com/docs/rate-limits for more information.', 'type': '', 'code': 'rate_limit_exceeded'}}\n"
     ]
    },
    {
     "name": "stderr",
     "output_type": "stream",
     "text": [
      " 20%|██        | 20/100 [00:03<00:09,  8.43it/s]"
     ]
    },
    {
     "name": "stdout",
     "output_type": "stream",
     "text": [
      "Error during sentiment analysis for batch starting at index 180: Error code: 429 - {'error': {'message': 'Rate limit reached for model `llama3-8b-8192` in organization `org_01j9m95282e27t3n1tb7c5d96z` on : Limit 500000, Used 500049, Requested 1139. Please try again in 3m25.3582s. Visit https://console.groq.com/docs/rate-limits for more information.', 'type': '', 'code': 'rate_limit_exceeded'}}\n",
      "Error during sentiment analysis for batch starting at index 190: Error code: 429 - {'error': {'message': 'Rate limit reached for model `llama3-8b-8192` in organization `org_01j9m95282e27t3n1tb7c5d96z` on : Limit 500000, Used 500048, Requested 1508. Please try again in 4m29.0204s. Visit https://console.groq.com/docs/rate-limits for more information.', 'type': '', 'code': 'rate_limit_exceeded'}}\n"
     ]
    },
    {
     "name": "stderr",
     "output_type": "stream",
     "text": [
      " 21%|██        | 21/100 [00:03<00:09,  8.28it/s]"
     ]
    },
    {
     "name": "stdout",
     "output_type": "stream",
     "text": [
      "Error during sentiment analysis for batch starting at index 200: Error code: 429 - {'error': {'message': 'Rate limit reached for model `llama3-8b-8192` in organization `org_01j9m95282e27t3n1tb7c5d96z` on : Limit 500000, Used 500048, Requested 1248. Please try again in 3m43.966399999s. Visit https://console.groq.com/docs/rate-limits for more information.', 'type': '', 'code': 'rate_limit_exceeded'}}\n"
     ]
    },
    {
     "name": "stderr",
     "output_type": "stream",
     "text": [
      " 23%|██▎       | 23/100 [00:04<00:11,  6.68it/s]"
     ]
    },
    {
     "name": "stdout",
     "output_type": "stream",
     "text": [
      "Error during sentiment analysis for batch starting at index 210: Error code: 429 - {'error': {'message': 'Rate limit reached for model `llama3-8b-8192` in organization `org_01j9m95282e27t3n1tb7c5d96z` on : Limit 500000, Used 500046, Requested 1176. Please try again in 3m31.3158s. Visit https://console.groq.com/docs/rate-limits for more information.', 'type': '', 'code': 'rate_limit_exceeded'}}\n",
      "Error during sentiment analysis for batch starting at index 220: Error code: 429 - {'error': {'message': 'Rate limit reached for model `llama3-8b-8192` in organization `org_01j9m95282e27t3n1tb7c5d96z` on : Limit 500000, Used 500046, Requested 994. Please try again in 2m59.713199999s. Visit https://console.groq.com/docs/rate-limits for more information.', 'type': '', 'code': 'rate_limit_exceeded'}}\n"
     ]
    },
    {
     "name": "stderr",
     "output_type": "stream",
     "text": [
      " 25%|██▌       | 25/100 [00:04<00:10,  7.44it/s]"
     ]
    },
    {
     "name": "stdout",
     "output_type": "stream",
     "text": [
      "Error during sentiment analysis for batch starting at index 230: Error code: 429 - {'error': {'message': 'Rate limit reached for model `llama3-8b-8192` in organization `org_01j9m95282e27t3n1tb7c5d96z` on : Limit 500000, Used 500045, Requested 893. Please try again in 2m42.1524s. Visit https://console.groq.com/docs/rate-limits for more information.', 'type': '', 'code': 'rate_limit_exceeded'}}\n",
      "Error during sentiment analysis for batch starting at index 240: Error code: 429 - {'error': {'message': 'Rate limit reached for model `llama3-8b-8192` in organization `org_01j9m95282e27t3n1tb7c5d96z` on : Limit 500000, Used 500044, Requested 1149. Please try again in 3m26.2582s. Visit https://console.groq.com/docs/rate-limits for more information.', 'type': '', 'code': 'rate_limit_exceeded'}}\n"
     ]
    },
    {
     "name": "stderr",
     "output_type": "stream",
     "text": [
      " 27%|██▋       | 27/100 [00:04<00:09,  7.63it/s]"
     ]
    },
    {
     "name": "stdout",
     "output_type": "stream",
     "text": [
      "Error during sentiment analysis for batch starting at index 250: Error code: 429 - {'error': {'message': 'Rate limit reached for model `llama3-8b-8192` in organization `org_01j9m95282e27t3n1tb7c5d96z` on : Limit 500000, Used 500043, Requested 1309. Please try again in 3m53.791199999s. Visit https://console.groq.com/docs/rate-limits for more information.', 'type': '', 'code': 'rate_limit_exceeded'}}\n",
      "Error during sentiment analysis for batch starting at index 260: Error code: 429 - {'error': {'message': 'Rate limit reached for model `llama3-8b-8192` in organization `org_01j9m95282e27t3n1tb7c5d96z` on : Limit 500000, Used 500043, Requested 1406. Please try again in 4m10.4208s. Visit https://console.groq.com/docs/rate-limits for more information.', 'type': '', 'code': 'rate_limit_exceeded'}}\n"
     ]
    },
    {
     "name": "stderr",
     "output_type": "stream",
     "text": [
      " 29%|██▉       | 29/100 [00:04<00:08,  7.95it/s]"
     ]
    },
    {
     "name": "stdout",
     "output_type": "stream",
     "text": [
      "Error during sentiment analysis for batch starting at index 270: Error code: 429 - {'error': {'message': 'Rate limit reached for model `llama3-8b-8192` in organization `org_01j9m95282e27t3n1tb7c5d96z` on : Limit 500000, Used 500042, Requested 1405. Please try again in 4m10.125999999s. Visit https://console.groq.com/docs/rate-limits for more information.', 'type': '', 'code': 'rate_limit_exceeded'}}\n",
      "Error during sentiment analysis for batch starting at index 280: Error code: 429 - {'error': {'message': 'Rate limit reached for model `llama3-8b-8192` in organization `org_01j9m95282e27t3n1tb7c5d96z` on : Limit 500000, Used 500041, Requested 928. Please try again in 2m47.577399999s. Visit https://console.groq.com/docs/rate-limits for more information.', 'type': '', 'code': 'rate_limit_exceeded'}}\n"
     ]
    },
    {
     "name": "stderr",
     "output_type": "stream",
     "text": [
      " 31%|███       | 31/100 [00:05<00:09,  7.17it/s]"
     ]
    },
    {
     "name": "stdout",
     "output_type": "stream",
     "text": [
      "Error during sentiment analysis for batch starting at index 290: Error code: 429 - {'error': {'message': 'Rate limit reached for model `llama3-8b-8192` in organization `org_01j9m95282e27t3n1tb7c5d96z` on : Limit 500000, Used 500041, Requested 1218. Please try again in 3m37.571399999s. Visit https://console.groq.com/docs/rate-limits for more information.', 'type': '', 'code': 'rate_limit_exceeded'}}\n",
      "Error during sentiment analysis for batch starting at index 300: Error code: 429 - {'error': {'message': 'Rate limit reached for model `llama3-8b-8192` in organization `org_01j9m95282e27t3n1tb7c5d96z` on : Limit 500000, Used 500040, Requested 1273. Please try again in 3m46.898399999s. Visit https://console.groq.com/docs/rate-limits for more information.', 'type': '', 'code': 'rate_limit_exceeded'}}\n"
     ]
    },
    {
     "name": "stderr",
     "output_type": "stream",
     "text": [
      " 33%|███▎      | 33/100 [00:05<00:08,  7.81it/s]"
     ]
    },
    {
     "name": "stdout",
     "output_type": "stream",
     "text": [
      "Error during sentiment analysis for batch starting at index 310: Error code: 429 - {'error': {'message': 'Rate limit reached for model `llama3-8b-8192` in organization `org_01j9m95282e27t3n1tb7c5d96z` on : Limit 500000, Used 500039, Requested 1335. Please try again in 3m57.494999999s. Visit https://console.groq.com/docs/rate-limits for more information.', 'type': '', 'code': 'rate_limit_exceeded'}}\n",
      "Error during sentiment analysis for batch starting at index 320: Error code: 429 - {'error': {'message': 'Rate limit reached for model `llama3-8b-8192` in organization `org_01j9m95282e27t3n1tb7c5d96z` on : Limit 500000, Used 500038, Requested 1426. Please try again in 4m13.1028s. Visit https://console.groq.com/docs/rate-limits for more information.', 'type': '', 'code': 'rate_limit_exceeded'}}\n"
     ]
    },
    {
     "name": "stderr",
     "output_type": "stream",
     "text": [
      " 35%|███▌      | 35/100 [00:05<00:07,  8.17it/s]"
     ]
    },
    {
     "name": "stdout",
     "output_type": "stream",
     "text": [
      "Error during sentiment analysis for batch starting at index 330: Error code: 429 - {'error': {'message': 'Rate limit reached for model `llama3-8b-8192` in organization `org_01j9m95282e27t3n1tb7c5d96z` on : Limit 500000, Used 500037, Requested 1120. Please try again in 3m20.102s. Visit https://console.groq.com/docs/rate-limits for more information.', 'type': '', 'code': 'rate_limit_exceeded'}}\n",
      "Error during sentiment analysis for batch starting at index 340: Error code: 429 - {'error': {'message': 'Rate limit reached for model `llama3-8b-8192` in organization `org_01j9m95282e27t3n1tb7c5d96z` on : Limit 500000, Used 500037, Requested 1396. Please try again in 4m7.6808s. Visit https://console.groq.com/docs/rate-limits for more information.', 'type': '', 'code': 'rate_limit_exceeded'}}\n"
     ]
    },
    {
     "name": "stderr",
     "output_type": "stream",
     "text": [
      " 37%|███▋      | 37/100 [00:05<00:07,  8.61it/s]"
     ]
    },
    {
     "name": "stdout",
     "output_type": "stream",
     "text": [
      "Error during sentiment analysis for batch starting at index 350: Error code: 429 - {'error': {'message': 'Rate limit reached for model `llama3-8b-8192` in organization `org_01j9m95282e27t3n1tb7c5d96z` on : Limit 500000, Used 500036, Requested 1393. Please try again in 4m7.0494s. Visit https://console.groq.com/docs/rate-limits for more information.', 'type': '', 'code': 'rate_limit_exceeded'}}\n",
      "Error during sentiment analysis for batch starting at index 360: Error code: 429 - {'error': {'message': 'Rate limit reached for model `llama3-8b-8192` in organization `org_01j9m95282e27t3n1tb7c5d96z` on : Limit 500000, Used 500036, Requested 1164. Please try again in 3m27.3732s. Visit https://console.groq.com/docs/rate-limits for more information.', 'type': '', 'code': 'rate_limit_exceeded'}}\n"
     ]
    },
    {
     "name": "stderr",
     "output_type": "stream",
     "text": [
      " 39%|███▉      | 39/100 [00:06<00:06,  9.10it/s]"
     ]
    },
    {
     "name": "stdout",
     "output_type": "stream",
     "text": [
      "Error during sentiment analysis for batch starting at index 370: Error code: 429 - {'error': {'message': 'Rate limit reached for model `llama3-8b-8192` in organization `org_01j9m95282e27t3n1tb7c5d96z` on : Limit 500000, Used 500035, Requested 1071. Please try again in 3m11.2028s. Visit https://console.groq.com/docs/rate-limits for more information.', 'type': '', 'code': 'rate_limit_exceeded'}}\n",
      "Error during sentiment analysis for batch starting at index 380: Error code: 429 - {'error': {'message': 'Rate limit reached for model `llama3-8b-8192` in organization `org_01j9m95282e27t3n1tb7c5d96z` on : Limit 500000, Used 500034, Requested 1472. Please try again in 4m20.3876s. Visit https://console.groq.com/docs/rate-limits for more information.', 'type': '', 'code': 'rate_limit_exceeded'}}\n"
     ]
    },
    {
     "name": "stderr",
     "output_type": "stream",
     "text": [
      " 41%|████      | 41/100 [00:06<00:06,  9.29it/s]"
     ]
    },
    {
     "name": "stdout",
     "output_type": "stream",
     "text": [
      "Error during sentiment analysis for batch starting at index 390: Error code: 429 - {'error': {'message': 'Rate limit reached for model `llama3-8b-8192` in organization `org_01j9m95282e27t3n1tb7c5d96z` on : Limit 500000, Used 500034, Requested 1061. Please try again in 3m9.2588s. Visit https://console.groq.com/docs/rate-limits for more information.', 'type': '', 'code': 'rate_limit_exceeded'}}\n",
      "Error during sentiment analysis for batch starting at index 400: Error code: 429 - {'error': {'message': 'Rate limit reached for model `llama3-8b-8192` in organization `org_01j9m95282e27t3n1tb7c5d96z` on : Limit 500000, Used 500033, Requested 974. Please try again in 2m54.1222s. Visit https://console.groq.com/docs/rate-limits for more information.', 'type': '', 'code': 'rate_limit_exceeded'}}\n"
     ]
    },
    {
     "name": "stderr",
     "output_type": "stream",
     "text": [
      " 43%|████▎     | 43/100 [00:06<00:06,  8.87it/s]"
     ]
    },
    {
     "name": "stdout",
     "output_type": "stream",
     "text": [
      "Error during sentiment analysis for batch starting at index 410: Error code: 429 - {'error': {'message': 'Rate limit reached for model `llama3-8b-8192` in organization `org_01j9m95282e27t3n1tb7c5d96z` on : Limit 500000, Used 500033, Requested 1305. Please try again in 3m51.211s. Visit https://console.groq.com/docs/rate-limits for more information.', 'type': '', 'code': 'rate_limit_exceeded'}}\n",
      "Error during sentiment analysis for batch starting at index 420: Error code: 429 - {'error': {'message': 'Rate limit reached for model `llama3-8b-8192` in organization `org_01j9m95282e27t3n1tb7c5d96z` on : Limit 500000, Used 500032, Requested 1295. Please try again in 3m49.353s. Visit https://console.groq.com/docs/rate-limits for more information.', 'type': '', 'code': 'rate_limit_exceeded'}}\n"
     ]
    },
    {
     "name": "stderr",
     "output_type": "stream",
     "text": [
      " 45%|████▌     | 45/100 [00:06<00:07,  7.36it/s]"
     ]
    },
    {
     "name": "stdout",
     "output_type": "stream",
     "text": [
      "Error during sentiment analysis for batch starting at index 430: Error code: 429 - {'error': {'message': 'Rate limit reached for model `llama3-8b-8192` in organization `org_01j9m95282e27t3n1tb7c5d96z` on : Limit 500000, Used 500031, Requested 1477. Please try again in 4m20.6196s. Visit https://console.groq.com/docs/rate-limits for more information.', 'type': '', 'code': 'rate_limit_exceeded'}}\n",
      "Error during sentiment analysis for batch starting at index 440: Error code: 429 - {'error': {'message': 'Rate limit reached for model `llama3-8b-8192` in organization `org_01j9m95282e27t3n1tb7c5d96z` on : Limit 500000, Used 500030, Requested 1035. Please try again in 3m4.099s. Visit https://console.groq.com/docs/rate-limits for more information.', 'type': '', 'code': 'rate_limit_exceeded'}}\n"
     ]
    },
    {
     "name": "stderr",
     "output_type": "stream",
     "text": [
      " 47%|████▋     | 47/100 [00:07<00:06,  8.14it/s]"
     ]
    },
    {
     "name": "stdout",
     "output_type": "stream",
     "text": [
      "Error during sentiment analysis for batch starting at index 450: Error code: 429 - {'error': {'message': 'Rate limit reached for model `llama3-8b-8192` in organization `org_01j9m95282e27t3n1tb7c5d96z` on : Limit 500000, Used 500029, Requested 1020. Please try again in 3m1.394999999s. Visit https://console.groq.com/docs/rate-limits for more information.', 'type': '', 'code': 'rate_limit_exceeded'}}\n",
      "Error during sentiment analysis for batch starting at index 460: Error code: 429 - {'error': {'message': 'Rate limit reached for model `llama3-8b-8192` in organization `org_01j9m95282e27t3n1tb7c5d96z` on : Limit 500000, Used 500029, Requested 1357. Please try again in 3m59.5146s. Visit https://console.groq.com/docs/rate-limits for more information.', 'type': '', 'code': 'rate_limit_exceeded'}}\n"
     ]
    },
    {
     "name": "stderr",
     "output_type": "stream",
     "text": [
      " 49%|████▉     | 49/100 [00:07<00:05,  8.62it/s]"
     ]
    },
    {
     "name": "stdout",
     "output_type": "stream",
     "text": [
      "Error during sentiment analysis for batch starting at index 470: Error code: 429 - {'error': {'message': 'Rate limit reached for model `llama3-8b-8192` in organization `org_01j9m95282e27t3n1tb7c5d96z` on : Limit 500000, Used 500028, Requested 990. Please try again in 2m55.989s. Visit https://console.groq.com/docs/rate-limits for more information.', 'type': '', 'code': 'rate_limit_exceeded'}}\n",
      "Error during sentiment analysis for batch starting at index 480: Error code: 429 - {'error': {'message': 'Rate limit reached for model `llama3-8b-8192` in organization `org_01j9m95282e27t3n1tb7c5d96z` on : Limit 500000, Used 500027, Requested 1121. Please try again in 3m18.5178s. Visit https://console.groq.com/docs/rate-limits for more information.', 'type': '', 'code': 'rate_limit_exceeded'}}\n"
     ]
    },
    {
     "name": "stderr",
     "output_type": "stream",
     "text": [
      " 51%|█████     | 51/100 [00:07<00:05,  8.99it/s]"
     ]
    },
    {
     "name": "stdout",
     "output_type": "stream",
     "text": [
      "Error during sentiment analysis for batch starting at index 490: Error code: 429 - {'error': {'message': 'Rate limit reached for model `llama3-8b-8192` in organization `org_01j9m95282e27t3n1tb7c5d96z` on : Limit 500000, Used 500027, Requested 1486. Please try again in 4m21.478799999s. Visit https://console.groq.com/docs/rate-limits for more information.', 'type': '', 'code': 'rate_limit_exceeded'}}\n",
      "Error during sentiment analysis for batch starting at index 500: Error code: 429 - {'error': {'message': 'Rate limit reached for model `llama3-8b-8192` in organization `org_01j9m95282e27t3n1tb7c5d96z` on : Limit 500000, Used 500026, Requested 1470. Please try again in 4m18.606999999s. Visit https://console.groq.com/docs/rate-limits for more information.', 'type': '', 'code': 'rate_limit_exceeded'}}\n"
     ]
    },
    {
     "name": "stderr",
     "output_type": "stream",
     "text": [
      " 53%|█████▎    | 53/100 [00:07<00:07,  6.59it/s]"
     ]
    },
    {
     "name": "stdout",
     "output_type": "stream",
     "text": [
      "Error during sentiment analysis for batch starting at index 510: Error code: 429 - {'error': {'message': 'Rate limit reached for model `llama3-8b-8192` in organization `org_01j9m95282e27t3n1tb7c5d96z` on : Limit 500000, Used 500025, Requested 1141. Please try again in 3m21.6388s. Visit https://console.groq.com/docs/rate-limits for more information.', 'type': '', 'code': 'rate_limit_exceeded'}}\n",
      "Error during sentiment analysis for batch starting at index 520: Error code: 429 - {'error': {'message': 'Rate limit reached for model `llama3-8b-8192` in organization `org_01j9m95282e27t3n1tb7c5d96z` on : Limit 500000, Used 500024, Requested 1224. Please try again in 3m35.7002s. Visit https://console.groq.com/docs/rate-limits for more information.', 'type': '', 'code': 'rate_limit_exceeded'}}\n"
     ]
    },
    {
     "name": "stderr",
     "output_type": "stream",
     "text": [
      " 54%|█████▍    | 54/100 [00:07<00:06,  7.31it/s]"
     ]
    },
    {
     "name": "stdout",
     "output_type": "stream",
     "text": [
      "Error during sentiment analysis for batch starting at index 530: Error code: 429 - {'error': {'message': 'Rate limit reached for model `llama3-8b-8192` in organization `org_01j9m95282e27t3n1tb7c5d96z` on : Limit 500000, Used 500023, Requested 1330. Please try again in 3m53.904999999s. Visit https://console.groq.com/docs/rate-limits for more information.', 'type': '', 'code': 'rate_limit_exceeded'}}\n",
      "Error during sentiment analysis for batch starting at index 540: Error code: 429 - {'error': {'message': 'Rate limit reached for model `llama3-8b-8192` in organization `org_01j9m95282e27t3n1tb7c5d96z` on : Limit 500000, Used 500023, Requested 1540. Please try again in 4m30.096s. Visit https://console.groq.com/docs/rate-limits for more information.', 'type': '', 'code': 'rate_limit_exceeded'}}\n"
     ]
    },
    {
     "name": "stderr",
     "output_type": "stream",
     "text": [
      " 57%|█████▋    | 57/100 [00:08<00:05,  7.85it/s]"
     ]
    },
    {
     "name": "stdout",
     "output_type": "stream",
     "text": [
      "Error during sentiment analysis for batch starting at index 550: Error code: 429 - {'error': {'message': 'Rate limit reached for model `llama3-8b-8192` in organization `org_01j9m95282e27t3n1tb7c5d96z` on : Limit 500000, Used 500022, Requested 1078. Please try again in 3m10.1254s. Visit https://console.groq.com/docs/rate-limits for more information.', 'type': '', 'code': 'rate_limit_exceeded'}}\n",
      "Error during sentiment analysis for batch starting at index 560: Error code: 429 - {'error': {'message': 'Rate limit reached for model `llama3-8b-8192` in organization `org_01j9m95282e27t3n1tb7c5d96z` on : Limit 500000, Used 500021, Requested 1453. Please try again in 4m14.8124s. Visit https://console.groq.com/docs/rate-limits for more information.', 'type': '', 'code': 'rate_limit_exceeded'}}\n"
     ]
    },
    {
     "name": "stderr",
     "output_type": "stream",
     "text": [
      " 59%|█████▉    | 59/100 [00:08<00:04,  8.23it/s]"
     ]
    },
    {
     "name": "stdout",
     "output_type": "stream",
     "text": [
      "Error during sentiment analysis for batch starting at index 570: Error code: 429 - {'error': {'message': 'Rate limit reached for model `llama3-8b-8192` in organization `org_01j9m95282e27t3n1tb7c5d96z` on : Limit 500000, Used 500020, Requested 1404. Please try again in 4m6.2252s. Visit https://console.groq.com/docs/rate-limits for more information.', 'type': '', 'code': 'rate_limit_exceeded'}}\n",
      "Error during sentiment analysis for batch starting at index 580: Error code: 429 - {'error': {'message': 'Rate limit reached for model `llama3-8b-8192` in organization `org_01j9m95282e27t3n1tb7c5d96z` on : Limit 500000, Used 500020, Requested 991. Please try again in 2m54.7378s. Visit https://console.groq.com/docs/rate-limits for more information.', 'type': '', 'code': 'rate_limit_exceeded'}}\n"
     ]
    },
    {
     "name": "stderr",
     "output_type": "stream",
     "text": [
      " 61%|██████    | 61/100 [00:08<00:04,  8.82it/s]"
     ]
    },
    {
     "name": "stdout",
     "output_type": "stream",
     "text": [
      "Error during sentiment analysis for batch starting at index 590: Error code: 429 - {'error': {'message': 'Rate limit reached for model `llama3-8b-8192` in organization `org_01j9m95282e27t3n1tb7c5d96z` on : Limit 500000, Used 500019, Requested 1190. Please try again in 3m29.027s. Visit https://console.groq.com/docs/rate-limits for more information.', 'type': '', 'code': 'rate_limit_exceeded'}}\n",
      "Error during sentiment analysis for batch starting at index 600: Error code: 429 - {'error': {'message': 'Rate limit reached for model `llama3-8b-8192` in organization `org_01j9m95282e27t3n1tb7c5d96z` on : Limit 500000, Used 500019, Requested 1031. Please try again in 3m1.443799999s. Visit https://console.groq.com/docs/rate-limits for more information.', 'type': '', 'code': 'rate_limit_exceeded'}}\n"
     ]
    },
    {
     "name": "stderr",
     "output_type": "stream",
     "text": [
      " 63%|██████▎   | 63/100 [00:08<00:04,  8.85it/s]"
     ]
    },
    {
     "name": "stdout",
     "output_type": "stream",
     "text": [
      "Error during sentiment analysis for batch starting at index 610: Error code: 429 - {'error': {'message': 'Rate limit reached for model `llama3-8b-8192` in organization `org_01j9m95282e27t3n1tb7c5d96z` on : Limit 500000, Used 500018, Requested 1361. Please try again in 3m58.353799999s. Visit https://console.groq.com/docs/rate-limits for more information.', 'type': '', 'code': 'rate_limit_exceeded'}}\n",
      "Error during sentiment analysis for batch starting at index 620: Error code: 429 - {'error': {'message': 'Rate limit reached for model `llama3-8b-8192` in organization `org_01j9m95282e27t3n1tb7c5d96z` on : Limit 500000, Used 500017, Requested 1122. Please try again in 3m16.9476s. Visit https://console.groq.com/docs/rate-limits for more information.', 'type': '', 'code': 'rate_limit_exceeded'}}\n"
     ]
    },
    {
     "name": "stderr",
     "output_type": "stream",
     "text": [
      " 65%|██████▌   | 65/100 [00:09<00:04,  7.39it/s]"
     ]
    },
    {
     "name": "stdout",
     "output_type": "stream",
     "text": [
      "Error during sentiment analysis for batch starting at index 630: Error code: 429 - {'error': {'message': 'Rate limit reached for model `llama3-8b-8192` in organization `org_01j9m95282e27t3n1tb7c5d96z` on : Limit 500000, Used 500016, Requested 1737. Please try again in 5m3.0626s. Visit https://console.groq.com/docs/rate-limits for more information.', 'type': '', 'code': 'rate_limit_exceeded'}}\n",
      "Error during sentiment analysis for batch starting at index 640: Error code: 429 - {'error': {'message': 'Rate limit reached for model `llama3-8b-8192` in organization `org_01j9m95282e27t3n1tb7c5d96z` on : Limit 500000, Used 500015, Requested 1438. Please try again in 4m11.2374s. Visit https://console.groq.com/docs/rate-limits for more information.', 'type': '', 'code': 'rate_limit_exceeded'}}\n"
     ]
    },
    {
     "name": "stderr",
     "output_type": "stream",
     "text": [
      " 67%|██████▋   | 67/100 [00:09<00:03,  8.35it/s]"
     ]
    },
    {
     "name": "stdout",
     "output_type": "stream",
     "text": [
      "Error during sentiment analysis for batch starting at index 650: Error code: 429 - {'error': {'message': 'Rate limit reached for model `llama3-8b-8192` in organization `org_01j9m95282e27t3n1tb7c5d96z` on : Limit 500000, Used 500015, Requested 1144. Please try again in 3m20.3342s. Visit https://console.groq.com/docs/rate-limits for more information.', 'type': '', 'code': 'rate_limit_exceeded'}}\n",
      "Error during sentiment analysis for batch starting at index 660: Error code: 429 - {'error': {'message': 'Rate limit reached for model `llama3-8b-8192` in organization `org_01j9m95282e27t3n1tb7c5d96z` on : Limit 500000, Used 500014, Requested 1115. Please try again in 3m15.215999999s. Visit https://console.groq.com/docs/rate-limits for more information.', 'type': '', 'code': 'rate_limit_exceeded'}}\n"
     ]
    },
    {
     "name": "stderr",
     "output_type": "stream",
     "text": [
      " 69%|██████▉   | 69/100 [00:09<00:03,  8.75it/s]"
     ]
    },
    {
     "name": "stdout",
     "output_type": "stream",
     "text": [
      "Error during sentiment analysis for batch starting at index 670: Error code: 429 - {'error': {'message': 'Rate limit reached for model `llama3-8b-8192` in organization `org_01j9m95282e27t3n1tb7c5d96z` on : Limit 500000, Used 500014, Requested 1400. Please try again in 4m4.350999999s. Visit https://console.groq.com/docs/rate-limits for more information.', 'type': '', 'code': 'rate_limit_exceeded'}}\n",
      "Error during sentiment analysis for batch starting at index 680: Error code: 429 - {'error': {'message': 'Rate limit reached for model `llama3-8b-8192` in organization `org_01j9m95282e27t3n1tb7c5d96z` on : Limit 500000, Used 500013, Requested 1118. Please try again in 3m15.516399999s. Visit https://console.groq.com/docs/rate-limits for more information.', 'type': '', 'code': 'rate_limit_exceeded'}}\n"
     ]
    },
    {
     "name": "stderr",
     "output_type": "stream",
     "text": [
      " 71%|███████   | 71/100 [00:09<00:03,  8.85it/s]"
     ]
    },
    {
     "name": "stdout",
     "output_type": "stream",
     "text": [
      "Error during sentiment analysis for batch starting at index 690: Error code: 429 - {'error': {'message': 'Rate limit reached for model `llama3-8b-8192` in organization `org_01j9m95282e27t3n1tb7c5d96z` on : Limit 500000, Used 500012, Requested 1511. Please try again in 4m23.3278s. Visit https://console.groq.com/docs/rate-limits for more information.', 'type': '', 'code': 'rate_limit_exceeded'}}\n",
      "Error during sentiment analysis for batch starting at index 700: Error code: 429 - {'error': {'message': 'Rate limit reached for model `llama3-8b-8192` in organization `org_01j9m95282e27t3n1tb7c5d96z` on : Limit 500000, Used 500012, Requested 1327. Please try again in 3m51.4186s. Visit https://console.groq.com/docs/rate-limits for more information.', 'type': '', 'code': 'rate_limit_exceeded'}}\n"
     ]
    },
    {
     "name": "stderr",
     "output_type": "stream",
     "text": [
      " 73%|███████▎  | 73/100 [00:10<00:03,  8.14it/s]"
     ]
    },
    {
     "name": "stdout",
     "output_type": "stream",
     "text": [
      "Error during sentiment analysis for batch starting at index 710: Error code: 429 - {'error': {'message': 'Rate limit reached for model `llama3-8b-8192` in organization `org_01j9m95282e27t3n1tb7c5d96z` on : Limit 500000, Used 500011, Requested 961. Please try again in 2m48.068799999s. Visit https://console.groq.com/docs/rate-limits for more information.', 'type': '', 'code': 'rate_limit_exceeded'}}\n",
      "Error during sentiment analysis for batch starting at index 720: Error code: 429 - {'error': {'message': 'Rate limit reached for model `llama3-8b-8192` in organization `org_01j9m95282e27t3n1tb7c5d96z` on : Limit 500000, Used 500010, Requested 1327. Please try again in 3m51.158599999s. Visit https://console.groq.com/docs/rate-limits for more information.', 'type': '', 'code': 'rate_limit_exceeded'}}\n"
     ]
    },
    {
     "name": "stderr",
     "output_type": "stream",
     "text": [
      " 75%|███████▌  | 75/100 [00:10<00:02,  8.50it/s]"
     ]
    },
    {
     "name": "stdout",
     "output_type": "stream",
     "text": [
      "Error during sentiment analysis for batch starting at index 730: Error code: 429 - {'error': {'message': 'Rate limit reached for model `llama3-8b-8192` in organization `org_01j9m95282e27t3n1tb7c5d96z` on : Limit 500000, Used 500010, Requested 1260. Please try again in 3m39.468s. Visit https://console.groq.com/docs/rate-limits for more information.', 'type': '', 'code': 'rate_limit_exceeded'}}\n",
      "Error during sentiment analysis for batch starting at index 740: Error code: 429 - {'error': {'message': 'Rate limit reached for model `llama3-8b-8192` in organization `org_01j9m95282e27t3n1tb7c5d96z` on : Limit 500000, Used 500009, Requested 1153. Please try again in 3m20.8644s. Visit https://console.groq.com/docs/rate-limits for more information.', 'type': '', 'code': 'rate_limit_exceeded'}}\n"
     ]
    },
    {
     "name": "stderr",
     "output_type": "stream",
     "text": [
      " 77%|███████▋  | 77/100 [00:10<00:02,  9.07it/s]"
     ]
    },
    {
     "name": "stdout",
     "output_type": "stream",
     "text": [
      "Error during sentiment analysis for batch starting at index 750: Error code: 429 - {'error': {'message': 'Rate limit reached for model `llama3-8b-8192` in organization `org_01j9m95282e27t3n1tb7c5d96z` on : Limit 500000, Used 500008, Requested 1284. Please try again in 3m43.3942s. Visit https://console.groq.com/docs/rate-limits for more information.', 'type': '', 'code': 'rate_limit_exceeded'}}\n",
      "Error during sentiment analysis for batch starting at index 760: Error code: 429 - {'error': {'message': 'Rate limit reached for model `llama3-8b-8192` in organization `org_01j9m95282e27t3n1tb7c5d96z` on : Limit 500000, Used 500008, Requested 1194. Please try again in 3m27.7412s. Visit https://console.groq.com/docs/rate-limits for more information.', 'type': '', 'code': 'rate_limit_exceeded'}}\n"
     ]
    },
    {
     "name": "stderr",
     "output_type": "stream",
     "text": [
      " 78%|███████▊  | 78/100 [00:10<00:02,  9.13it/s]"
     ]
    },
    {
     "name": "stdout",
     "output_type": "stream",
     "text": [
      "Error during sentiment analysis for batch starting at index 770: Error code: 429 - {'error': {'message': 'Rate limit reached for model `llama3-8b-8192` in organization `org_01j9m95282e27t3n1tb7c5d96z` on : Limit 500000, Used 500007, Requested 1177. Please try again in 3m24.6966s. Visit https://console.groq.com/docs/rate-limits for more information.', 'type': '', 'code': 'rate_limit_exceeded'}}\n"
     ]
    },
    {
     "name": "stderr",
     "output_type": "stream",
     "text": [
      " 80%|████████  | 80/100 [00:11<00:03,  6.38it/s]"
     ]
    },
    {
     "name": "stdout",
     "output_type": "stream",
     "text": [
      "Error during sentiment analysis for batch starting at index 780: Error code: 429 - {'error': {'message': 'Rate limit reached for model `llama3-8b-8192` in organization `org_01j9m95282e27t3n1tb7c5d96z` on : Limit 500000, Used 500005, Requested 1184. Please try again in 3m25.5832s. Visit https://console.groq.com/docs/rate-limits for more information.', 'type': '', 'code': 'rate_limit_exceeded'}}\n",
      "Error during sentiment analysis for batch starting at index 790: Error code: 429 - {'error': {'message': 'Rate limit reached for model `llama3-8b-8192` in organization `org_01j9m95282e27t3n1tb7c5d96z` on : Limit 500000, Used 500005, Requested 1008. Please try again in 2m55.053399999s. Visit https://console.groq.com/docs/rate-limits for more information.', 'type': '', 'code': 'rate_limit_exceeded'}}\n"
     ]
    },
    {
     "name": "stderr",
     "output_type": "stream",
     "text": [
      " 82%|████████▏ | 82/100 [00:11<00:02,  7.73it/s]"
     ]
    },
    {
     "name": "stdout",
     "output_type": "stream",
     "text": [
      "Error during sentiment analysis for batch starting at index 800: Error code: 429 - {'error': {'message': 'Rate limit reached for model `llama3-8b-8192` in organization `org_01j9m95282e27t3n1tb7c5d96z` on : Limit 500000, Used 500004, Requested 1382. Please try again in 3m59.5796s. Visit https://console.groq.com/docs/rate-limits for more information.', 'type': '', 'code': 'rate_limit_exceeded'}}\n",
      "Error during sentiment analysis for batch starting at index 810: Error code: 429 - {'error': {'message': 'Rate limit reached for model `llama3-8b-8192` in organization `org_01j9m95282e27t3n1tb7c5d96z` on : Limit 500000, Used 500003, Requested 1071. Please try again in 3m5.7348s. Visit https://console.groq.com/docs/rate-limits for more information.', 'type': '', 'code': 'rate_limit_exceeded'}}\n"
     ]
    },
    {
     "name": "stderr",
     "output_type": "stream",
     "text": [
      " 84%|████████▍ | 84/100 [00:11<00:02,  7.25it/s]"
     ]
    },
    {
     "name": "stdout",
     "output_type": "stream",
     "text": [
      "Error during sentiment analysis for batch starting at index 820: Error code: 429 - {'error': {'message': 'Rate limit reached for model `llama3-8b-8192` in organization `org_01j9m95282e27t3n1tb7c5d96z` on : Limit 500000, Used 500003, Requested 1086. Please try again in 3m8.2198s. Visit https://console.groq.com/docs/rate-limits for more information.', 'type': '', 'code': 'rate_limit_exceeded'}}\n",
      "Error during sentiment analysis for batch starting at index 830: Error code: 429 - {'error': {'message': 'Rate limit reached for model `llama3-8b-8192` in organization `org_01j9m95282e27t3n1tb7c5d96z` on : Limit 500000, Used 500002, Requested 1354. Please try again in 3m54.4302s. Visit https://console.groq.com/docs/rate-limits for more information.', 'type': '', 'code': 'rate_limit_exceeded'}}\n"
     ]
    },
    {
     "name": "stderr",
     "output_type": "stream",
     "text": [
      "\n"
     ]
    },
    {
     "ename": "KeyboardInterrupt",
     "evalue": "",
     "output_type": "error",
     "traceback": [
      "\u001b[0;31m---------------------------------------------------------------------------\u001b[0m",
      "\u001b[0;31mKeyboardInterrupt\u001b[0m                         Traceback (most recent call last)",
      "Cell \u001b[0;32mIn[78], line 80\u001b[0m\n\u001b[1;32m     77\u001b[0m     \u001b[38;5;28;01mreturn\u001b[39;00m all_sentiments\n\u001b[1;32m     79\u001b[0m reviews_1k_groq \u001b[38;5;241m=\u001b[39m groq_df_b[\u001b[38;5;124m'\u001b[39m\u001b[38;5;124mreview\u001b[39m\u001b[38;5;124m'\u001b[39m][:\u001b[38;5;241m1000\u001b[39m]\u001b[38;5;241m.\u001b[39mtolist() \n\u001b[0;32m---> 80\u001b[0m sentiments \u001b[38;5;241m=\u001b[39m \u001b[43mget_sentiments_batch_groq\u001b[49m\u001b[43m(\u001b[49m\u001b[43mreviews_1k_groq\u001b[49m\u001b[43m)\u001b[49m\n\u001b[1;32m     81\u001b[0m \u001b[38;5;28mprint\u001b[39m(\u001b[38;5;124mf\u001b[39m\u001b[38;5;124m\"\u001b[39m\u001b[38;5;124mNumber of processed sentiments: \u001b[39m\u001b[38;5;132;01m{\u001b[39;00m\u001b[38;5;28mlen\u001b[39m(sentiments)\u001b[38;5;132;01m}\u001b[39;00m\u001b[38;5;124m\"\u001b[39m)\n\u001b[1;32m     83\u001b[0m \u001b[38;5;66;03m# Create a new 'sentiment' column in the original dataframe\u001b[39;00m\n",
      "Cell \u001b[0;32mIn[78], line 35\u001b[0m, in \u001b[0;36mget_sentiments_batch_groq\u001b[0;34m(reviews, batch_size)\u001b[0m\n\u001b[1;32m     29\u001b[0m user_prompt \u001b[38;5;241m=\u001b[39m (\n\u001b[1;32m     30\u001b[0m     \u001b[38;5;124mf\u001b[39m\u001b[38;5;124m\"\u001b[39m\u001b[38;5;124mHere are the reviews to analyze:\u001b[39m\u001b[38;5;130;01m\\n\u001b[39;00m\u001b[38;5;130;01m\\n\u001b[39;00m\u001b[38;5;132;01m{\u001b[39;00mformatted_reviews\u001b[38;5;132;01m}\u001b[39;00m\u001b[38;5;124m\"\u001b[39m\n\u001b[1;32m     31\u001b[0m )\n\u001b[1;32m     33\u001b[0m \u001b[38;5;28;01mtry\u001b[39;00m:\n\u001b[1;32m     34\u001b[0m     \u001b[38;5;66;03m# Send batch prompt to Groq API\u001b[39;00m\n\u001b[0;32m---> 35\u001b[0m     chat_completion \u001b[38;5;241m=\u001b[39m \u001b[43mclient\u001b[49m\u001b[38;5;241;43m.\u001b[39;49m\u001b[43mchat\u001b[49m\u001b[38;5;241;43m.\u001b[39;49m\u001b[43mcompletions\u001b[49m\u001b[38;5;241;43m.\u001b[39;49m\u001b[43mcreate\u001b[49m\u001b[43m(\u001b[49m\n\u001b[1;32m     36\u001b[0m \u001b[43m        \u001b[49m\u001b[43mmessages\u001b[49m\u001b[38;5;241;43m=\u001b[39;49m\u001b[43m[\u001b[49m\n\u001b[1;32m     37\u001b[0m \u001b[43m            \u001b[49m\u001b[43m{\u001b[49m\n\u001b[1;32m     38\u001b[0m \u001b[43m                \u001b[49m\u001b[38;5;124;43m\"\u001b[39;49m\u001b[38;5;124;43mrole\u001b[39;49m\u001b[38;5;124;43m\"\u001b[39;49m\u001b[43m:\u001b[49m\u001b[43m \u001b[49m\u001b[38;5;124;43m\"\u001b[39;49m\u001b[38;5;124;43msystem\u001b[39;49m\u001b[38;5;124;43m\"\u001b[39;49m\u001b[43m,\u001b[49m\n\u001b[1;32m     39\u001b[0m \u001b[43m                \u001b[49m\u001b[38;5;124;43m\"\u001b[39;49m\u001b[38;5;124;43mcontent\u001b[39;49m\u001b[38;5;124;43m\"\u001b[39;49m\u001b[43m:\u001b[49m\u001b[43m \u001b[49m\u001b[43msystem_prompt\u001b[49m\u001b[43m  \u001b[49m\u001b[38;5;66;43;03m# System message describes the JSON structure\u001b[39;49;00m\n\u001b[1;32m     40\u001b[0m \u001b[43m            \u001b[49m\u001b[43m}\u001b[49m\u001b[43m,\u001b[49m\n\u001b[1;32m     41\u001b[0m \u001b[43m            \u001b[49m\u001b[43m{\u001b[49m\n\u001b[1;32m     42\u001b[0m \u001b[43m                \u001b[49m\u001b[38;5;124;43m\"\u001b[39;49m\u001b[38;5;124;43mrole\u001b[39;49m\u001b[38;5;124;43m\"\u001b[39;49m\u001b[43m:\u001b[49m\u001b[43m \u001b[49m\u001b[38;5;124;43m\"\u001b[39;49m\u001b[38;5;124;43muser\u001b[39;49m\u001b[38;5;124;43m\"\u001b[39;49m\u001b[43m,\u001b[49m\n\u001b[1;32m     43\u001b[0m \u001b[43m                \u001b[49m\u001b[38;5;124;43m\"\u001b[39;49m\u001b[38;5;124;43mcontent\u001b[39;49m\u001b[38;5;124;43m\"\u001b[39;49m\u001b[43m:\u001b[49m\u001b[43m \u001b[49m\u001b[43muser_prompt\u001b[49m\n\u001b[1;32m     44\u001b[0m \u001b[43m            \u001b[49m\u001b[43m}\u001b[49m\n\u001b[1;32m     45\u001b[0m \u001b[43m        \u001b[49m\u001b[43m]\u001b[49m\u001b[43m,\u001b[49m\n\u001b[1;32m     46\u001b[0m \u001b[43m        \u001b[49m\u001b[43mmodel\u001b[49m\u001b[38;5;241;43m=\u001b[39;49m\u001b[38;5;124;43m\"\u001b[39;49m\u001b[38;5;124;43mllama3-8b-8192\u001b[39;49m\u001b[38;5;124;43m\"\u001b[39;49m\u001b[43m,\u001b[49m\u001b[43m \u001b[49m\u001b[38;5;66;43;03m# Switch to Mixtral, which is better for JSON\u001b[39;49;00m\n\u001b[1;32m     47\u001b[0m \u001b[43m        \u001b[49m\u001b[38;5;66;43;03m# Enforce the response format to be JSON\u001b[39;49;00m\n\u001b[1;32m     48\u001b[0m \u001b[43m        \u001b[49m\u001b[43mresponse_format\u001b[49m\u001b[38;5;241;43m=\u001b[39;49m\u001b[43m{\u001b[49m\u001b[38;5;124;43m\"\u001b[39;49m\u001b[38;5;124;43mtype\u001b[39;49m\u001b[38;5;124;43m\"\u001b[39;49m\u001b[43m:\u001b[49m\u001b[43m \u001b[49m\u001b[38;5;124;43m\"\u001b[39;49m\u001b[38;5;124;43mjson_object\u001b[39;49m\u001b[38;5;124;43m\"\u001b[39;49m\u001b[43m}\u001b[49m\n\u001b[1;32m     49\u001b[0m \u001b[43m    \u001b[49m\u001b[43m)\u001b[49m\n\u001b[1;32m     51\u001b[0m     \u001b[38;5;66;03m# Extract the raw response content\u001b[39;00m\n\u001b[1;32m     52\u001b[0m     response_content \u001b[38;5;241m=\u001b[39m chat_completion\u001b[38;5;241m.\u001b[39mchoices[\u001b[38;5;241m0\u001b[39m]\u001b[38;5;241m.\u001b[39mmessage\u001b[38;5;241m.\u001b[39mcontent\u001b[38;5;241m.\u001b[39mstrip()\n",
      "File \u001b[0;32m/opt/homebrew/Caskroom/miniconda/base/envs/dsproj/lib/python3.9/site-packages/groq/resources/chat/completions.py:287\u001b[0m, in \u001b[0;36mCompletions.create\u001b[0;34m(self, messages, model, frequency_penalty, function_call, functions, logit_bias, logprobs, max_tokens, n, parallel_tool_calls, presence_penalty, response_format, seed, stop, stream, temperature, tool_choice, tools, top_logprobs, top_p, user, extra_headers, extra_query, extra_body, timeout)\u001b[0m\n\u001b[1;32m    146\u001b[0m \u001b[38;5;28;01mdef\u001b[39;00m \u001b[38;5;21mcreate\u001b[39m(\n\u001b[1;32m    147\u001b[0m     \u001b[38;5;28mself\u001b[39m,\n\u001b[1;32m    148\u001b[0m     \u001b[38;5;241m*\u001b[39m,\n\u001b[0;32m   (...)\u001b[0m\n\u001b[1;32m    175\u001b[0m     timeout: \u001b[38;5;28mfloat\u001b[39m \u001b[38;5;241m|\u001b[39m httpx\u001b[38;5;241m.\u001b[39mTimeout \u001b[38;5;241m|\u001b[39m \u001b[38;5;28;01mNone\u001b[39;00m \u001b[38;5;241m|\u001b[39m NotGiven \u001b[38;5;241m=\u001b[39m NOT_GIVEN,\n\u001b[1;32m    176\u001b[0m ) \u001b[38;5;241m-\u001b[39m\u001b[38;5;241m>\u001b[39m ChatCompletion \u001b[38;5;241m|\u001b[39m Stream[ChatCompletionChunk]:\n\u001b[1;32m    177\u001b[0m \u001b[38;5;250m    \u001b[39m\u001b[38;5;124;03m\"\"\"\u001b[39;00m\n\u001b[1;32m    178\u001b[0m \u001b[38;5;124;03m    Creates a model response for the given chat conversation.\u001b[39;00m\n\u001b[1;32m    179\u001b[0m \n\u001b[0;32m   (...)\u001b[0m\n\u001b[1;32m    285\u001b[0m \u001b[38;5;124;03m      timeout: Override the client-level default timeout for this request, in seconds\u001b[39;00m\n\u001b[1;32m    286\u001b[0m \u001b[38;5;124;03m    \"\"\"\u001b[39;00m\n\u001b[0;32m--> 287\u001b[0m     \u001b[38;5;28;01mreturn\u001b[39;00m \u001b[38;5;28;43mself\u001b[39;49m\u001b[38;5;241;43m.\u001b[39;49m\u001b[43m_post\u001b[49m\u001b[43m(\u001b[49m\n\u001b[1;32m    288\u001b[0m \u001b[43m        \u001b[49m\u001b[38;5;124;43m\"\u001b[39;49m\u001b[38;5;124;43m/openai/v1/chat/completions\u001b[39;49m\u001b[38;5;124;43m\"\u001b[39;49m\u001b[43m,\u001b[49m\n\u001b[1;32m    289\u001b[0m \u001b[43m        \u001b[49m\u001b[43mbody\u001b[49m\u001b[38;5;241;43m=\u001b[39;49m\u001b[43mmaybe_transform\u001b[49m\u001b[43m(\u001b[49m\n\u001b[1;32m    290\u001b[0m \u001b[43m            \u001b[49m\u001b[43m{\u001b[49m\n\u001b[1;32m    291\u001b[0m \u001b[43m                \u001b[49m\u001b[38;5;124;43m\"\u001b[39;49m\u001b[38;5;124;43mmessages\u001b[39;49m\u001b[38;5;124;43m\"\u001b[39;49m\u001b[43m:\u001b[49m\u001b[43m \u001b[49m\u001b[43mmessages\u001b[49m\u001b[43m,\u001b[49m\n\u001b[1;32m    292\u001b[0m \u001b[43m                \u001b[49m\u001b[38;5;124;43m\"\u001b[39;49m\u001b[38;5;124;43mmodel\u001b[39;49m\u001b[38;5;124;43m\"\u001b[39;49m\u001b[43m:\u001b[49m\u001b[43m \u001b[49m\u001b[43mmodel\u001b[49m\u001b[43m,\u001b[49m\n\u001b[1;32m    293\u001b[0m \u001b[43m                \u001b[49m\u001b[38;5;124;43m\"\u001b[39;49m\u001b[38;5;124;43mfrequency_penalty\u001b[39;49m\u001b[38;5;124;43m\"\u001b[39;49m\u001b[43m:\u001b[49m\u001b[43m \u001b[49m\u001b[43mfrequency_penalty\u001b[49m\u001b[43m,\u001b[49m\n\u001b[1;32m    294\u001b[0m \u001b[43m                \u001b[49m\u001b[38;5;124;43m\"\u001b[39;49m\u001b[38;5;124;43mfunction_call\u001b[39;49m\u001b[38;5;124;43m\"\u001b[39;49m\u001b[43m:\u001b[49m\u001b[43m \u001b[49m\u001b[43mfunction_call\u001b[49m\u001b[43m,\u001b[49m\n\u001b[1;32m    295\u001b[0m \u001b[43m                \u001b[49m\u001b[38;5;124;43m\"\u001b[39;49m\u001b[38;5;124;43mfunctions\u001b[39;49m\u001b[38;5;124;43m\"\u001b[39;49m\u001b[43m:\u001b[49m\u001b[43m \u001b[49m\u001b[43mfunctions\u001b[49m\u001b[43m,\u001b[49m\n\u001b[1;32m    296\u001b[0m \u001b[43m                \u001b[49m\u001b[38;5;124;43m\"\u001b[39;49m\u001b[38;5;124;43mlogit_bias\u001b[39;49m\u001b[38;5;124;43m\"\u001b[39;49m\u001b[43m:\u001b[49m\u001b[43m \u001b[49m\u001b[43mlogit_bias\u001b[49m\u001b[43m,\u001b[49m\n\u001b[1;32m    297\u001b[0m \u001b[43m                \u001b[49m\u001b[38;5;124;43m\"\u001b[39;49m\u001b[38;5;124;43mlogprobs\u001b[39;49m\u001b[38;5;124;43m\"\u001b[39;49m\u001b[43m:\u001b[49m\u001b[43m \u001b[49m\u001b[43mlogprobs\u001b[49m\u001b[43m,\u001b[49m\n\u001b[1;32m    298\u001b[0m \u001b[43m                \u001b[49m\u001b[38;5;124;43m\"\u001b[39;49m\u001b[38;5;124;43mmax_tokens\u001b[39;49m\u001b[38;5;124;43m\"\u001b[39;49m\u001b[43m:\u001b[49m\u001b[43m \u001b[49m\u001b[43mmax_tokens\u001b[49m\u001b[43m,\u001b[49m\n\u001b[1;32m    299\u001b[0m \u001b[43m                \u001b[49m\u001b[38;5;124;43m\"\u001b[39;49m\u001b[38;5;124;43mn\u001b[39;49m\u001b[38;5;124;43m\"\u001b[39;49m\u001b[43m:\u001b[49m\u001b[43m \u001b[49m\u001b[43mn\u001b[49m\u001b[43m,\u001b[49m\n\u001b[1;32m    300\u001b[0m \u001b[43m                \u001b[49m\u001b[38;5;124;43m\"\u001b[39;49m\u001b[38;5;124;43mparallel_tool_calls\u001b[39;49m\u001b[38;5;124;43m\"\u001b[39;49m\u001b[43m:\u001b[49m\u001b[43m \u001b[49m\u001b[43mparallel_tool_calls\u001b[49m\u001b[43m,\u001b[49m\n\u001b[1;32m    301\u001b[0m \u001b[43m                \u001b[49m\u001b[38;5;124;43m\"\u001b[39;49m\u001b[38;5;124;43mpresence_penalty\u001b[39;49m\u001b[38;5;124;43m\"\u001b[39;49m\u001b[43m:\u001b[49m\u001b[43m \u001b[49m\u001b[43mpresence_penalty\u001b[49m\u001b[43m,\u001b[49m\n\u001b[1;32m    302\u001b[0m \u001b[43m                \u001b[49m\u001b[38;5;124;43m\"\u001b[39;49m\u001b[38;5;124;43mresponse_format\u001b[39;49m\u001b[38;5;124;43m\"\u001b[39;49m\u001b[43m:\u001b[49m\u001b[43m \u001b[49m\u001b[43mresponse_format\u001b[49m\u001b[43m,\u001b[49m\n\u001b[1;32m    303\u001b[0m \u001b[43m                \u001b[49m\u001b[38;5;124;43m\"\u001b[39;49m\u001b[38;5;124;43mseed\u001b[39;49m\u001b[38;5;124;43m\"\u001b[39;49m\u001b[43m:\u001b[49m\u001b[43m \u001b[49m\u001b[43mseed\u001b[49m\u001b[43m,\u001b[49m\n\u001b[1;32m    304\u001b[0m \u001b[43m                \u001b[49m\u001b[38;5;124;43m\"\u001b[39;49m\u001b[38;5;124;43mstop\u001b[39;49m\u001b[38;5;124;43m\"\u001b[39;49m\u001b[43m:\u001b[49m\u001b[43m \u001b[49m\u001b[43mstop\u001b[49m\u001b[43m,\u001b[49m\n\u001b[1;32m    305\u001b[0m \u001b[43m                \u001b[49m\u001b[38;5;124;43m\"\u001b[39;49m\u001b[38;5;124;43mstream\u001b[39;49m\u001b[38;5;124;43m\"\u001b[39;49m\u001b[43m:\u001b[49m\u001b[43m \u001b[49m\u001b[43mstream\u001b[49m\u001b[43m,\u001b[49m\n\u001b[1;32m    306\u001b[0m \u001b[43m                \u001b[49m\u001b[38;5;124;43m\"\u001b[39;49m\u001b[38;5;124;43mtemperature\u001b[39;49m\u001b[38;5;124;43m\"\u001b[39;49m\u001b[43m:\u001b[49m\u001b[43m \u001b[49m\u001b[43mtemperature\u001b[49m\u001b[43m,\u001b[49m\n\u001b[1;32m    307\u001b[0m \u001b[43m                \u001b[49m\u001b[38;5;124;43m\"\u001b[39;49m\u001b[38;5;124;43mtool_choice\u001b[39;49m\u001b[38;5;124;43m\"\u001b[39;49m\u001b[43m:\u001b[49m\u001b[43m \u001b[49m\u001b[43mtool_choice\u001b[49m\u001b[43m,\u001b[49m\n\u001b[1;32m    308\u001b[0m \u001b[43m                \u001b[49m\u001b[38;5;124;43m\"\u001b[39;49m\u001b[38;5;124;43mtools\u001b[39;49m\u001b[38;5;124;43m\"\u001b[39;49m\u001b[43m:\u001b[49m\u001b[43m \u001b[49m\u001b[43mtools\u001b[49m\u001b[43m,\u001b[49m\n\u001b[1;32m    309\u001b[0m \u001b[43m                \u001b[49m\u001b[38;5;124;43m\"\u001b[39;49m\u001b[38;5;124;43mtop_logprobs\u001b[39;49m\u001b[38;5;124;43m\"\u001b[39;49m\u001b[43m:\u001b[49m\u001b[43m \u001b[49m\u001b[43mtop_logprobs\u001b[49m\u001b[43m,\u001b[49m\n\u001b[1;32m    310\u001b[0m \u001b[43m                \u001b[49m\u001b[38;5;124;43m\"\u001b[39;49m\u001b[38;5;124;43mtop_p\u001b[39;49m\u001b[38;5;124;43m\"\u001b[39;49m\u001b[43m:\u001b[49m\u001b[43m \u001b[49m\u001b[43mtop_p\u001b[49m\u001b[43m,\u001b[49m\n\u001b[1;32m    311\u001b[0m \u001b[43m                \u001b[49m\u001b[38;5;124;43m\"\u001b[39;49m\u001b[38;5;124;43muser\u001b[39;49m\u001b[38;5;124;43m\"\u001b[39;49m\u001b[43m:\u001b[49m\u001b[43m \u001b[49m\u001b[43muser\u001b[49m\u001b[43m,\u001b[49m\n\u001b[1;32m    312\u001b[0m \u001b[43m            \u001b[49m\u001b[43m}\u001b[49m\u001b[43m,\u001b[49m\n\u001b[1;32m    313\u001b[0m \u001b[43m            \u001b[49m\u001b[43mcompletion_create_params\u001b[49m\u001b[38;5;241;43m.\u001b[39;49m\u001b[43mCompletionCreateParams\u001b[49m\u001b[43m,\u001b[49m\n\u001b[1;32m    314\u001b[0m \u001b[43m        \u001b[49m\u001b[43m)\u001b[49m\u001b[43m,\u001b[49m\n\u001b[1;32m    315\u001b[0m \u001b[43m        \u001b[49m\u001b[43moptions\u001b[49m\u001b[38;5;241;43m=\u001b[39;49m\u001b[43mmake_request_options\u001b[49m\u001b[43m(\u001b[49m\n\u001b[1;32m    316\u001b[0m \u001b[43m            \u001b[49m\u001b[43mextra_headers\u001b[49m\u001b[38;5;241;43m=\u001b[39;49m\u001b[43mextra_headers\u001b[49m\u001b[43m,\u001b[49m\u001b[43m \u001b[49m\u001b[43mextra_query\u001b[49m\u001b[38;5;241;43m=\u001b[39;49m\u001b[43mextra_query\u001b[49m\u001b[43m,\u001b[49m\u001b[43m \u001b[49m\u001b[43mextra_body\u001b[49m\u001b[38;5;241;43m=\u001b[39;49m\u001b[43mextra_body\u001b[49m\u001b[43m,\u001b[49m\u001b[43m \u001b[49m\u001b[43mtimeout\u001b[49m\u001b[38;5;241;43m=\u001b[39;49m\u001b[43mtimeout\u001b[49m\n\u001b[1;32m    317\u001b[0m \u001b[43m        \u001b[49m\u001b[43m)\u001b[49m\u001b[43m,\u001b[49m\n\u001b[1;32m    318\u001b[0m \u001b[43m        \u001b[49m\u001b[43mcast_to\u001b[49m\u001b[38;5;241;43m=\u001b[39;49m\u001b[43mChatCompletion\u001b[49m\u001b[43m,\u001b[49m\n\u001b[1;32m    319\u001b[0m \u001b[43m        \u001b[49m\u001b[43mstream\u001b[49m\u001b[38;5;241;43m=\u001b[39;49m\u001b[43mstream\u001b[49m\u001b[43m \u001b[49m\u001b[38;5;129;43;01mor\u001b[39;49;00m\u001b[43m \u001b[49m\u001b[38;5;28;43;01mFalse\u001b[39;49;00m\u001b[43m,\u001b[49m\n\u001b[1;32m    320\u001b[0m \u001b[43m        \u001b[49m\u001b[43mstream_cls\u001b[49m\u001b[38;5;241;43m=\u001b[39;49m\u001b[43mStream\u001b[49m\u001b[43m[\u001b[49m\u001b[43mChatCompletionChunk\u001b[49m\u001b[43m]\u001b[49m\u001b[43m,\u001b[49m\n\u001b[1;32m    321\u001b[0m \u001b[43m    \u001b[49m\u001b[43m)\u001b[49m\n",
      "File \u001b[0;32m/opt/homebrew/Caskroom/miniconda/base/envs/dsproj/lib/python3.9/site-packages/groq/_base_client.py:1244\u001b[0m, in \u001b[0;36mSyncAPIClient.post\u001b[0;34m(self, path, cast_to, body, options, files, stream, stream_cls)\u001b[0m\n\u001b[1;32m   1230\u001b[0m \u001b[38;5;28;01mdef\u001b[39;00m \u001b[38;5;21mpost\u001b[39m(\n\u001b[1;32m   1231\u001b[0m     \u001b[38;5;28mself\u001b[39m,\n\u001b[1;32m   1232\u001b[0m     path: \u001b[38;5;28mstr\u001b[39m,\n\u001b[0;32m   (...)\u001b[0m\n\u001b[1;32m   1239\u001b[0m     stream_cls: \u001b[38;5;28mtype\u001b[39m[_StreamT] \u001b[38;5;241m|\u001b[39m \u001b[38;5;28;01mNone\u001b[39;00m \u001b[38;5;241m=\u001b[39m \u001b[38;5;28;01mNone\u001b[39;00m,\n\u001b[1;32m   1240\u001b[0m ) \u001b[38;5;241m-\u001b[39m\u001b[38;5;241m>\u001b[39m ResponseT \u001b[38;5;241m|\u001b[39m _StreamT:\n\u001b[1;32m   1241\u001b[0m     opts \u001b[38;5;241m=\u001b[39m FinalRequestOptions\u001b[38;5;241m.\u001b[39mconstruct(\n\u001b[1;32m   1242\u001b[0m         method\u001b[38;5;241m=\u001b[39m\u001b[38;5;124m\"\u001b[39m\u001b[38;5;124mpost\u001b[39m\u001b[38;5;124m\"\u001b[39m, url\u001b[38;5;241m=\u001b[39mpath, json_data\u001b[38;5;241m=\u001b[39mbody, files\u001b[38;5;241m=\u001b[39mto_httpx_files(files), \u001b[38;5;241m*\u001b[39m\u001b[38;5;241m*\u001b[39moptions\n\u001b[1;32m   1243\u001b[0m     )\n\u001b[0;32m-> 1244\u001b[0m     \u001b[38;5;28;01mreturn\u001b[39;00m cast(ResponseT, \u001b[38;5;28;43mself\u001b[39;49m\u001b[38;5;241;43m.\u001b[39;49m\u001b[43mrequest\u001b[49m\u001b[43m(\u001b[49m\u001b[43mcast_to\u001b[49m\u001b[43m,\u001b[49m\u001b[43m \u001b[49m\u001b[43mopts\u001b[49m\u001b[43m,\u001b[49m\u001b[43m \u001b[49m\u001b[43mstream\u001b[49m\u001b[38;5;241;43m=\u001b[39;49m\u001b[43mstream\u001b[49m\u001b[43m,\u001b[49m\u001b[43m \u001b[49m\u001b[43mstream_cls\u001b[49m\u001b[38;5;241;43m=\u001b[39;49m\u001b[43mstream_cls\u001b[49m\u001b[43m)\u001b[49m)\n",
      "File \u001b[0;32m/opt/homebrew/Caskroom/miniconda/base/envs/dsproj/lib/python3.9/site-packages/groq/_base_client.py:936\u001b[0m, in \u001b[0;36mSyncAPIClient.request\u001b[0;34m(self, cast_to, options, remaining_retries, stream, stream_cls)\u001b[0m\n\u001b[1;32m    927\u001b[0m \u001b[38;5;28;01mdef\u001b[39;00m \u001b[38;5;21mrequest\u001b[39m(\n\u001b[1;32m    928\u001b[0m     \u001b[38;5;28mself\u001b[39m,\n\u001b[1;32m    929\u001b[0m     cast_to: Type[ResponseT],\n\u001b[0;32m   (...)\u001b[0m\n\u001b[1;32m    934\u001b[0m     stream_cls: \u001b[38;5;28mtype\u001b[39m[_StreamT] \u001b[38;5;241m|\u001b[39m \u001b[38;5;28;01mNone\u001b[39;00m \u001b[38;5;241m=\u001b[39m \u001b[38;5;28;01mNone\u001b[39;00m,\n\u001b[1;32m    935\u001b[0m ) \u001b[38;5;241m-\u001b[39m\u001b[38;5;241m>\u001b[39m ResponseT \u001b[38;5;241m|\u001b[39m _StreamT:\n\u001b[0;32m--> 936\u001b[0m     \u001b[38;5;28;01mreturn\u001b[39;00m \u001b[38;5;28;43mself\u001b[39;49m\u001b[38;5;241;43m.\u001b[39;49m\u001b[43m_request\u001b[49m\u001b[43m(\u001b[49m\n\u001b[1;32m    937\u001b[0m \u001b[43m        \u001b[49m\u001b[43mcast_to\u001b[49m\u001b[38;5;241;43m=\u001b[39;49m\u001b[43mcast_to\u001b[49m\u001b[43m,\u001b[49m\n\u001b[1;32m    938\u001b[0m \u001b[43m        \u001b[49m\u001b[43moptions\u001b[49m\u001b[38;5;241;43m=\u001b[39;49m\u001b[43moptions\u001b[49m\u001b[43m,\u001b[49m\n\u001b[1;32m    939\u001b[0m \u001b[43m        \u001b[49m\u001b[43mstream\u001b[49m\u001b[38;5;241;43m=\u001b[39;49m\u001b[43mstream\u001b[49m\u001b[43m,\u001b[49m\n\u001b[1;32m    940\u001b[0m \u001b[43m        \u001b[49m\u001b[43mstream_cls\u001b[49m\u001b[38;5;241;43m=\u001b[39;49m\u001b[43mstream_cls\u001b[49m\u001b[43m,\u001b[49m\n\u001b[1;32m    941\u001b[0m \u001b[43m        \u001b[49m\u001b[43mremaining_retries\u001b[49m\u001b[38;5;241;43m=\u001b[39;49m\u001b[43mremaining_retries\u001b[49m\u001b[43m,\u001b[49m\n\u001b[1;32m    942\u001b[0m \u001b[43m    \u001b[49m\u001b[43m)\u001b[49m\n",
      "File \u001b[0;32m/opt/homebrew/Caskroom/miniconda/base/envs/dsproj/lib/python3.9/site-packages/groq/_base_client.py:972\u001b[0m, in \u001b[0;36mSyncAPIClient._request\u001b[0;34m(self, cast_to, options, remaining_retries, stream, stream_cls)\u001b[0m\n\u001b[1;32m    969\u001b[0m log\u001b[38;5;241m.\u001b[39mdebug(\u001b[38;5;124m\"\u001b[39m\u001b[38;5;124mSending HTTP Request: \u001b[39m\u001b[38;5;132;01m%s\u001b[39;00m\u001b[38;5;124m \u001b[39m\u001b[38;5;132;01m%s\u001b[39;00m\u001b[38;5;124m\"\u001b[39m, request\u001b[38;5;241m.\u001b[39mmethod, request\u001b[38;5;241m.\u001b[39murl)\n\u001b[1;32m    971\u001b[0m \u001b[38;5;28;01mtry\u001b[39;00m:\n\u001b[0;32m--> 972\u001b[0m     response \u001b[38;5;241m=\u001b[39m \u001b[38;5;28;43mself\u001b[39;49m\u001b[38;5;241;43m.\u001b[39;49m\u001b[43m_client\u001b[49m\u001b[38;5;241;43m.\u001b[39;49m\u001b[43msend\u001b[49m\u001b[43m(\u001b[49m\n\u001b[1;32m    973\u001b[0m \u001b[43m        \u001b[49m\u001b[43mrequest\u001b[49m\u001b[43m,\u001b[49m\n\u001b[1;32m    974\u001b[0m \u001b[43m        \u001b[49m\u001b[43mstream\u001b[49m\u001b[38;5;241;43m=\u001b[39;49m\u001b[43mstream\u001b[49m\u001b[43m \u001b[49m\u001b[38;5;129;43;01mor\u001b[39;49;00m\u001b[43m \u001b[49m\u001b[38;5;28;43mself\u001b[39;49m\u001b[38;5;241;43m.\u001b[39;49m\u001b[43m_should_stream_response_body\u001b[49m\u001b[43m(\u001b[49m\u001b[43mrequest\u001b[49m\u001b[38;5;241;43m=\u001b[39;49m\u001b[43mrequest\u001b[49m\u001b[43m)\u001b[49m\u001b[43m,\u001b[49m\n\u001b[1;32m    975\u001b[0m \u001b[43m        \u001b[49m\u001b[38;5;241;43m*\u001b[39;49m\u001b[38;5;241;43m*\u001b[39;49m\u001b[43mkwargs\u001b[49m\u001b[43m,\u001b[49m\n\u001b[1;32m    976\u001b[0m \u001b[43m    \u001b[49m\u001b[43m)\u001b[49m\n\u001b[1;32m    977\u001b[0m \u001b[38;5;28;01mexcept\u001b[39;00m httpx\u001b[38;5;241m.\u001b[39mTimeoutException \u001b[38;5;28;01mas\u001b[39;00m err:\n\u001b[1;32m    978\u001b[0m     log\u001b[38;5;241m.\u001b[39mdebug(\u001b[38;5;124m\"\u001b[39m\u001b[38;5;124mEncountered httpx.TimeoutException\u001b[39m\u001b[38;5;124m\"\u001b[39m, exc_info\u001b[38;5;241m=\u001b[39m\u001b[38;5;28;01mTrue\u001b[39;00m)\n",
      "File \u001b[0;32m/opt/homebrew/Caskroom/miniconda/base/envs/dsproj/lib/python3.9/site-packages/httpx/_client.py:914\u001b[0m, in \u001b[0;36mClient.send\u001b[0;34m(self, request, stream, auth, follow_redirects)\u001b[0m\n\u001b[1;32m    906\u001b[0m follow_redirects \u001b[38;5;241m=\u001b[39m (\n\u001b[1;32m    907\u001b[0m     \u001b[38;5;28mself\u001b[39m\u001b[38;5;241m.\u001b[39mfollow_redirects\n\u001b[1;32m    908\u001b[0m     \u001b[38;5;28;01mif\u001b[39;00m \u001b[38;5;28misinstance\u001b[39m(follow_redirects, UseClientDefault)\n\u001b[1;32m    909\u001b[0m     \u001b[38;5;28;01melse\u001b[39;00m follow_redirects\n\u001b[1;32m    910\u001b[0m )\n\u001b[1;32m    912\u001b[0m auth \u001b[38;5;241m=\u001b[39m \u001b[38;5;28mself\u001b[39m\u001b[38;5;241m.\u001b[39m_build_request_auth(request, auth)\n\u001b[0;32m--> 914\u001b[0m response \u001b[38;5;241m=\u001b[39m \u001b[38;5;28;43mself\u001b[39;49m\u001b[38;5;241;43m.\u001b[39;49m\u001b[43m_send_handling_auth\u001b[49m\u001b[43m(\u001b[49m\n\u001b[1;32m    915\u001b[0m \u001b[43m    \u001b[49m\u001b[43mrequest\u001b[49m\u001b[43m,\u001b[49m\n\u001b[1;32m    916\u001b[0m \u001b[43m    \u001b[49m\u001b[43mauth\u001b[49m\u001b[38;5;241;43m=\u001b[39;49m\u001b[43mauth\u001b[49m\u001b[43m,\u001b[49m\n\u001b[1;32m    917\u001b[0m \u001b[43m    \u001b[49m\u001b[43mfollow_redirects\u001b[49m\u001b[38;5;241;43m=\u001b[39;49m\u001b[43mfollow_redirects\u001b[49m\u001b[43m,\u001b[49m\n\u001b[1;32m    918\u001b[0m \u001b[43m    \u001b[49m\u001b[43mhistory\u001b[49m\u001b[38;5;241;43m=\u001b[39;49m\u001b[43m[\u001b[49m\u001b[43m]\u001b[49m\u001b[43m,\u001b[49m\n\u001b[1;32m    919\u001b[0m \u001b[43m\u001b[49m\u001b[43m)\u001b[49m\n\u001b[1;32m    920\u001b[0m \u001b[38;5;28;01mtry\u001b[39;00m:\n\u001b[1;32m    921\u001b[0m     \u001b[38;5;28;01mif\u001b[39;00m \u001b[38;5;129;01mnot\u001b[39;00m stream:\n",
      "File \u001b[0;32m/opt/homebrew/Caskroom/miniconda/base/envs/dsproj/lib/python3.9/site-packages/httpx/_client.py:942\u001b[0m, in \u001b[0;36mClient._send_handling_auth\u001b[0;34m(self, request, auth, follow_redirects, history)\u001b[0m\n\u001b[1;32m    939\u001b[0m request \u001b[38;5;241m=\u001b[39m \u001b[38;5;28mnext\u001b[39m(auth_flow)\n\u001b[1;32m    941\u001b[0m \u001b[38;5;28;01mwhile\u001b[39;00m \u001b[38;5;28;01mTrue\u001b[39;00m:\n\u001b[0;32m--> 942\u001b[0m     response \u001b[38;5;241m=\u001b[39m \u001b[38;5;28;43mself\u001b[39;49m\u001b[38;5;241;43m.\u001b[39;49m\u001b[43m_send_handling_redirects\u001b[49m\u001b[43m(\u001b[49m\n\u001b[1;32m    943\u001b[0m \u001b[43m        \u001b[49m\u001b[43mrequest\u001b[49m\u001b[43m,\u001b[49m\n\u001b[1;32m    944\u001b[0m \u001b[43m        \u001b[49m\u001b[43mfollow_redirects\u001b[49m\u001b[38;5;241;43m=\u001b[39;49m\u001b[43mfollow_redirects\u001b[49m\u001b[43m,\u001b[49m\n\u001b[1;32m    945\u001b[0m \u001b[43m        \u001b[49m\u001b[43mhistory\u001b[49m\u001b[38;5;241;43m=\u001b[39;49m\u001b[43mhistory\u001b[49m\u001b[43m,\u001b[49m\n\u001b[1;32m    946\u001b[0m \u001b[43m    \u001b[49m\u001b[43m)\u001b[49m\n\u001b[1;32m    947\u001b[0m     \u001b[38;5;28;01mtry\u001b[39;00m:\n\u001b[1;32m    948\u001b[0m         \u001b[38;5;28;01mtry\u001b[39;00m:\n",
      "File \u001b[0;32m/opt/homebrew/Caskroom/miniconda/base/envs/dsproj/lib/python3.9/site-packages/httpx/_client.py:979\u001b[0m, in \u001b[0;36mClient._send_handling_redirects\u001b[0;34m(self, request, follow_redirects, history)\u001b[0m\n\u001b[1;32m    976\u001b[0m \u001b[38;5;28;01mfor\u001b[39;00m hook \u001b[38;5;129;01min\u001b[39;00m \u001b[38;5;28mself\u001b[39m\u001b[38;5;241m.\u001b[39m_event_hooks[\u001b[38;5;124m\"\u001b[39m\u001b[38;5;124mrequest\u001b[39m\u001b[38;5;124m\"\u001b[39m]:\n\u001b[1;32m    977\u001b[0m     hook(request)\n\u001b[0;32m--> 979\u001b[0m response \u001b[38;5;241m=\u001b[39m \u001b[38;5;28;43mself\u001b[39;49m\u001b[38;5;241;43m.\u001b[39;49m\u001b[43m_send_single_request\u001b[49m\u001b[43m(\u001b[49m\u001b[43mrequest\u001b[49m\u001b[43m)\u001b[49m\n\u001b[1;32m    980\u001b[0m \u001b[38;5;28;01mtry\u001b[39;00m:\n\u001b[1;32m    981\u001b[0m     \u001b[38;5;28;01mfor\u001b[39;00m hook \u001b[38;5;129;01min\u001b[39;00m \u001b[38;5;28mself\u001b[39m\u001b[38;5;241m.\u001b[39m_event_hooks[\u001b[38;5;124m\"\u001b[39m\u001b[38;5;124mresponse\u001b[39m\u001b[38;5;124m\"\u001b[39m]:\n",
      "File \u001b[0;32m/opt/homebrew/Caskroom/miniconda/base/envs/dsproj/lib/python3.9/site-packages/httpx/_client.py:1015\u001b[0m, in \u001b[0;36mClient._send_single_request\u001b[0;34m(self, request)\u001b[0m\n\u001b[1;32m   1010\u001b[0m     \u001b[38;5;28;01mraise\u001b[39;00m \u001b[38;5;167;01mRuntimeError\u001b[39;00m(\n\u001b[1;32m   1011\u001b[0m         \u001b[38;5;124m\"\u001b[39m\u001b[38;5;124mAttempted to send an async request with a sync Client instance.\u001b[39m\u001b[38;5;124m\"\u001b[39m\n\u001b[1;32m   1012\u001b[0m     )\n\u001b[1;32m   1014\u001b[0m \u001b[38;5;28;01mwith\u001b[39;00m request_context(request\u001b[38;5;241m=\u001b[39mrequest):\n\u001b[0;32m-> 1015\u001b[0m     response \u001b[38;5;241m=\u001b[39m \u001b[43mtransport\u001b[49m\u001b[38;5;241;43m.\u001b[39;49m\u001b[43mhandle_request\u001b[49m\u001b[43m(\u001b[49m\u001b[43mrequest\u001b[49m\u001b[43m)\u001b[49m\n\u001b[1;32m   1017\u001b[0m \u001b[38;5;28;01massert\u001b[39;00m \u001b[38;5;28misinstance\u001b[39m(response\u001b[38;5;241m.\u001b[39mstream, SyncByteStream)\n\u001b[1;32m   1019\u001b[0m response\u001b[38;5;241m.\u001b[39mrequest \u001b[38;5;241m=\u001b[39m request\n",
      "File \u001b[0;32m/opt/homebrew/Caskroom/miniconda/base/envs/dsproj/lib/python3.9/site-packages/httpx/_transports/default.py:233\u001b[0m, in \u001b[0;36mHTTPTransport.handle_request\u001b[0;34m(self, request)\u001b[0m\n\u001b[1;32m    220\u001b[0m req \u001b[38;5;241m=\u001b[39m httpcore\u001b[38;5;241m.\u001b[39mRequest(\n\u001b[1;32m    221\u001b[0m     method\u001b[38;5;241m=\u001b[39mrequest\u001b[38;5;241m.\u001b[39mmethod,\n\u001b[1;32m    222\u001b[0m     url\u001b[38;5;241m=\u001b[39mhttpcore\u001b[38;5;241m.\u001b[39mURL(\n\u001b[0;32m   (...)\u001b[0m\n\u001b[1;32m    230\u001b[0m     extensions\u001b[38;5;241m=\u001b[39mrequest\u001b[38;5;241m.\u001b[39mextensions,\n\u001b[1;32m    231\u001b[0m )\n\u001b[1;32m    232\u001b[0m \u001b[38;5;28;01mwith\u001b[39;00m map_httpcore_exceptions():\n\u001b[0;32m--> 233\u001b[0m     resp \u001b[38;5;241m=\u001b[39m \u001b[38;5;28;43mself\u001b[39;49m\u001b[38;5;241;43m.\u001b[39;49m\u001b[43m_pool\u001b[49m\u001b[38;5;241;43m.\u001b[39;49m\u001b[43mhandle_request\u001b[49m\u001b[43m(\u001b[49m\u001b[43mreq\u001b[49m\u001b[43m)\u001b[49m\n\u001b[1;32m    235\u001b[0m \u001b[38;5;28;01massert\u001b[39;00m \u001b[38;5;28misinstance\u001b[39m(resp\u001b[38;5;241m.\u001b[39mstream, typing\u001b[38;5;241m.\u001b[39mIterable)\n\u001b[1;32m    237\u001b[0m \u001b[38;5;28;01mreturn\u001b[39;00m Response(\n\u001b[1;32m    238\u001b[0m     status_code\u001b[38;5;241m=\u001b[39mresp\u001b[38;5;241m.\u001b[39mstatus,\n\u001b[1;32m    239\u001b[0m     headers\u001b[38;5;241m=\u001b[39mresp\u001b[38;5;241m.\u001b[39mheaders,\n\u001b[1;32m    240\u001b[0m     stream\u001b[38;5;241m=\u001b[39mResponseStream(resp\u001b[38;5;241m.\u001b[39mstream),\n\u001b[1;32m    241\u001b[0m     extensions\u001b[38;5;241m=\u001b[39mresp\u001b[38;5;241m.\u001b[39mextensions,\n\u001b[1;32m    242\u001b[0m )\n",
      "File \u001b[0;32m/opt/homebrew/Caskroom/miniconda/base/envs/dsproj/lib/python3.9/site-packages/httpcore/_sync/connection_pool.py:216\u001b[0m, in \u001b[0;36mConnectionPool.handle_request\u001b[0;34m(self, request)\u001b[0m\n\u001b[1;32m    213\u001b[0m         closing \u001b[38;5;241m=\u001b[39m \u001b[38;5;28mself\u001b[39m\u001b[38;5;241m.\u001b[39m_assign_requests_to_connections()\n\u001b[1;32m    215\u001b[0m     \u001b[38;5;28mself\u001b[39m\u001b[38;5;241m.\u001b[39m_close_connections(closing)\n\u001b[0;32m--> 216\u001b[0m     \u001b[38;5;28;01mraise\u001b[39;00m exc \u001b[38;5;28;01mfrom\u001b[39;00m \u001b[38;5;28;01mNone\u001b[39;00m\n\u001b[1;32m    218\u001b[0m \u001b[38;5;66;03m# Return the response. Note that in this case we still have to manage\u001b[39;00m\n\u001b[1;32m    219\u001b[0m \u001b[38;5;66;03m# the point at which the response is closed.\u001b[39;00m\n\u001b[1;32m    220\u001b[0m \u001b[38;5;28;01massert\u001b[39;00m \u001b[38;5;28misinstance\u001b[39m(response\u001b[38;5;241m.\u001b[39mstream, Iterable)\n",
      "File \u001b[0;32m/opt/homebrew/Caskroom/miniconda/base/envs/dsproj/lib/python3.9/site-packages/httpcore/_sync/connection_pool.py:196\u001b[0m, in \u001b[0;36mConnectionPool.handle_request\u001b[0;34m(self, request)\u001b[0m\n\u001b[1;32m    192\u001b[0m connection \u001b[38;5;241m=\u001b[39m pool_request\u001b[38;5;241m.\u001b[39mwait_for_connection(timeout\u001b[38;5;241m=\u001b[39mtimeout)\n\u001b[1;32m    194\u001b[0m \u001b[38;5;28;01mtry\u001b[39;00m:\n\u001b[1;32m    195\u001b[0m     \u001b[38;5;66;03m# Send the request on the assigned connection.\u001b[39;00m\n\u001b[0;32m--> 196\u001b[0m     response \u001b[38;5;241m=\u001b[39m \u001b[43mconnection\u001b[49m\u001b[38;5;241;43m.\u001b[39;49m\u001b[43mhandle_request\u001b[49m\u001b[43m(\u001b[49m\n\u001b[1;32m    197\u001b[0m \u001b[43m        \u001b[49m\u001b[43mpool_request\u001b[49m\u001b[38;5;241;43m.\u001b[39;49m\u001b[43mrequest\u001b[49m\n\u001b[1;32m    198\u001b[0m \u001b[43m    \u001b[49m\u001b[43m)\u001b[49m\n\u001b[1;32m    199\u001b[0m \u001b[38;5;28;01mexcept\u001b[39;00m ConnectionNotAvailable:\n\u001b[1;32m    200\u001b[0m     \u001b[38;5;66;03m# In some cases a connection may initially be available to\u001b[39;00m\n\u001b[1;32m    201\u001b[0m     \u001b[38;5;66;03m# handle a request, but then become unavailable.\u001b[39;00m\n\u001b[1;32m    202\u001b[0m     \u001b[38;5;66;03m#\u001b[39;00m\n\u001b[1;32m    203\u001b[0m     \u001b[38;5;66;03m# In this case we clear the connection and try again.\u001b[39;00m\n\u001b[1;32m    204\u001b[0m     pool_request\u001b[38;5;241m.\u001b[39mclear_connection()\n",
      "File \u001b[0;32m/opt/homebrew/Caskroom/miniconda/base/envs/dsproj/lib/python3.9/site-packages/httpcore/_sync/connection.py:101\u001b[0m, in \u001b[0;36mHTTPConnection.handle_request\u001b[0;34m(self, request)\u001b[0m\n\u001b[1;32m     98\u001b[0m     \u001b[38;5;28mself\u001b[39m\u001b[38;5;241m.\u001b[39m_connect_failed \u001b[38;5;241m=\u001b[39m \u001b[38;5;28;01mTrue\u001b[39;00m\n\u001b[1;32m     99\u001b[0m     \u001b[38;5;28;01mraise\u001b[39;00m exc\n\u001b[0;32m--> 101\u001b[0m \u001b[38;5;28;01mreturn\u001b[39;00m \u001b[38;5;28;43mself\u001b[39;49m\u001b[38;5;241;43m.\u001b[39;49m\u001b[43m_connection\u001b[49m\u001b[38;5;241;43m.\u001b[39;49m\u001b[43mhandle_request\u001b[49m\u001b[43m(\u001b[49m\u001b[43mrequest\u001b[49m\u001b[43m)\u001b[49m\n",
      "File \u001b[0;32m/opt/homebrew/Caskroom/miniconda/base/envs/dsproj/lib/python3.9/site-packages/httpcore/_sync/http11.py:143\u001b[0m, in \u001b[0;36mHTTP11Connection.handle_request\u001b[0;34m(self, request)\u001b[0m\n\u001b[1;32m    141\u001b[0m     \u001b[38;5;28;01mwith\u001b[39;00m Trace(\u001b[38;5;124m\"\u001b[39m\u001b[38;5;124mresponse_closed\u001b[39m\u001b[38;5;124m\"\u001b[39m, logger, request) \u001b[38;5;28;01mas\u001b[39;00m trace:\n\u001b[1;32m    142\u001b[0m         \u001b[38;5;28mself\u001b[39m\u001b[38;5;241m.\u001b[39m_response_closed()\n\u001b[0;32m--> 143\u001b[0m \u001b[38;5;28;01mraise\u001b[39;00m exc\n",
      "File \u001b[0;32m/opt/homebrew/Caskroom/miniconda/base/envs/dsproj/lib/python3.9/site-packages/httpcore/_sync/http11.py:113\u001b[0m, in \u001b[0;36mHTTP11Connection.handle_request\u001b[0;34m(self, request)\u001b[0m\n\u001b[1;32m    102\u001b[0m     \u001b[38;5;28;01mpass\u001b[39;00m\n\u001b[1;32m    104\u001b[0m \u001b[38;5;28;01mwith\u001b[39;00m Trace(\n\u001b[1;32m    105\u001b[0m     \u001b[38;5;124m\"\u001b[39m\u001b[38;5;124mreceive_response_headers\u001b[39m\u001b[38;5;124m\"\u001b[39m, logger, request, kwargs\n\u001b[1;32m    106\u001b[0m ) \u001b[38;5;28;01mas\u001b[39;00m trace:\n\u001b[1;32m    107\u001b[0m     (\n\u001b[1;32m    108\u001b[0m         http_version,\n\u001b[1;32m    109\u001b[0m         status,\n\u001b[1;32m    110\u001b[0m         reason_phrase,\n\u001b[1;32m    111\u001b[0m         headers,\n\u001b[1;32m    112\u001b[0m         trailing_data,\n\u001b[0;32m--> 113\u001b[0m     ) \u001b[38;5;241m=\u001b[39m \u001b[38;5;28;43mself\u001b[39;49m\u001b[38;5;241;43m.\u001b[39;49m\u001b[43m_receive_response_headers\u001b[49m\u001b[43m(\u001b[49m\u001b[38;5;241;43m*\u001b[39;49m\u001b[38;5;241;43m*\u001b[39;49m\u001b[43mkwargs\u001b[49m\u001b[43m)\u001b[49m\n\u001b[1;32m    114\u001b[0m     trace\u001b[38;5;241m.\u001b[39mreturn_value \u001b[38;5;241m=\u001b[39m (\n\u001b[1;32m    115\u001b[0m         http_version,\n\u001b[1;32m    116\u001b[0m         status,\n\u001b[1;32m    117\u001b[0m         reason_phrase,\n\u001b[1;32m    118\u001b[0m         headers,\n\u001b[1;32m    119\u001b[0m     )\n\u001b[1;32m    121\u001b[0m network_stream \u001b[38;5;241m=\u001b[39m \u001b[38;5;28mself\u001b[39m\u001b[38;5;241m.\u001b[39m_network_stream\n",
      "File \u001b[0;32m/opt/homebrew/Caskroom/miniconda/base/envs/dsproj/lib/python3.9/site-packages/httpcore/_sync/http11.py:186\u001b[0m, in \u001b[0;36mHTTP11Connection._receive_response_headers\u001b[0;34m(self, request)\u001b[0m\n\u001b[1;32m    183\u001b[0m timeout \u001b[38;5;241m=\u001b[39m timeouts\u001b[38;5;241m.\u001b[39mget(\u001b[38;5;124m\"\u001b[39m\u001b[38;5;124mread\u001b[39m\u001b[38;5;124m\"\u001b[39m, \u001b[38;5;28;01mNone\u001b[39;00m)\n\u001b[1;32m    185\u001b[0m \u001b[38;5;28;01mwhile\u001b[39;00m \u001b[38;5;28;01mTrue\u001b[39;00m:\n\u001b[0;32m--> 186\u001b[0m     event \u001b[38;5;241m=\u001b[39m \u001b[38;5;28;43mself\u001b[39;49m\u001b[38;5;241;43m.\u001b[39;49m\u001b[43m_receive_event\u001b[49m\u001b[43m(\u001b[49m\u001b[43mtimeout\u001b[49m\u001b[38;5;241;43m=\u001b[39;49m\u001b[43mtimeout\u001b[49m\u001b[43m)\u001b[49m\n\u001b[1;32m    187\u001b[0m     \u001b[38;5;28;01mif\u001b[39;00m \u001b[38;5;28misinstance\u001b[39m(event, h11\u001b[38;5;241m.\u001b[39mResponse):\n\u001b[1;32m    188\u001b[0m         \u001b[38;5;28;01mbreak\u001b[39;00m\n",
      "File \u001b[0;32m/opt/homebrew/Caskroom/miniconda/base/envs/dsproj/lib/python3.9/site-packages/httpcore/_sync/http11.py:224\u001b[0m, in \u001b[0;36mHTTP11Connection._receive_event\u001b[0;34m(self, timeout)\u001b[0m\n\u001b[1;32m    221\u001b[0m     event \u001b[38;5;241m=\u001b[39m \u001b[38;5;28mself\u001b[39m\u001b[38;5;241m.\u001b[39m_h11_state\u001b[38;5;241m.\u001b[39mnext_event()\n\u001b[1;32m    223\u001b[0m \u001b[38;5;28;01mif\u001b[39;00m event \u001b[38;5;129;01mis\u001b[39;00m h11\u001b[38;5;241m.\u001b[39mNEED_DATA:\n\u001b[0;32m--> 224\u001b[0m     data \u001b[38;5;241m=\u001b[39m \u001b[38;5;28;43mself\u001b[39;49m\u001b[38;5;241;43m.\u001b[39;49m\u001b[43m_network_stream\u001b[49m\u001b[38;5;241;43m.\u001b[39;49m\u001b[43mread\u001b[49m\u001b[43m(\u001b[49m\n\u001b[1;32m    225\u001b[0m \u001b[43m        \u001b[49m\u001b[38;5;28;43mself\u001b[39;49m\u001b[38;5;241;43m.\u001b[39;49m\u001b[43mREAD_NUM_BYTES\u001b[49m\u001b[43m,\u001b[49m\u001b[43m \u001b[49m\u001b[43mtimeout\u001b[49m\u001b[38;5;241;43m=\u001b[39;49m\u001b[43mtimeout\u001b[49m\n\u001b[1;32m    226\u001b[0m \u001b[43m    \u001b[49m\u001b[43m)\u001b[49m\n\u001b[1;32m    228\u001b[0m     \u001b[38;5;66;03m# If we feed this case through h11 we'll raise an exception like:\u001b[39;00m\n\u001b[1;32m    229\u001b[0m     \u001b[38;5;66;03m#\u001b[39;00m\n\u001b[1;32m    230\u001b[0m     \u001b[38;5;66;03m#     httpcore.RemoteProtocolError: can't handle event type\u001b[39;00m\n\u001b[0;32m   (...)\u001b[0m\n\u001b[1;32m    234\u001b[0m     \u001b[38;5;66;03m# perspective. Instead we handle this case distinctly and treat\u001b[39;00m\n\u001b[1;32m    235\u001b[0m     \u001b[38;5;66;03m# it as a ConnectError.\u001b[39;00m\n\u001b[1;32m    236\u001b[0m     \u001b[38;5;28;01mif\u001b[39;00m data \u001b[38;5;241m==\u001b[39m \u001b[38;5;124mb\u001b[39m\u001b[38;5;124m\"\u001b[39m\u001b[38;5;124m\"\u001b[39m \u001b[38;5;129;01mand\u001b[39;00m \u001b[38;5;28mself\u001b[39m\u001b[38;5;241m.\u001b[39m_h11_state\u001b[38;5;241m.\u001b[39mtheir_state \u001b[38;5;241m==\u001b[39m h11\u001b[38;5;241m.\u001b[39mSEND_RESPONSE:\n",
      "File \u001b[0;32m/opt/homebrew/Caskroom/miniconda/base/envs/dsproj/lib/python3.9/site-packages/httpcore/_backends/sync.py:126\u001b[0m, in \u001b[0;36mSyncStream.read\u001b[0;34m(self, max_bytes, timeout)\u001b[0m\n\u001b[1;32m    124\u001b[0m \u001b[38;5;28;01mwith\u001b[39;00m map_exceptions(exc_map):\n\u001b[1;32m    125\u001b[0m     \u001b[38;5;28mself\u001b[39m\u001b[38;5;241m.\u001b[39m_sock\u001b[38;5;241m.\u001b[39msettimeout(timeout)\n\u001b[0;32m--> 126\u001b[0m     \u001b[38;5;28;01mreturn\u001b[39;00m \u001b[38;5;28;43mself\u001b[39;49m\u001b[38;5;241;43m.\u001b[39;49m\u001b[43m_sock\u001b[49m\u001b[38;5;241;43m.\u001b[39;49m\u001b[43mrecv\u001b[49m\u001b[43m(\u001b[49m\u001b[43mmax_bytes\u001b[49m\u001b[43m)\u001b[49m\n",
      "File \u001b[0;32m/opt/homebrew/Caskroom/miniconda/base/envs/dsproj/lib/python3.9/ssl.py:1260\u001b[0m, in \u001b[0;36mSSLSocket.recv\u001b[0;34m(self, buflen, flags)\u001b[0m\n\u001b[1;32m   1256\u001b[0m     \u001b[38;5;28;01mif\u001b[39;00m flags \u001b[38;5;241m!=\u001b[39m \u001b[38;5;241m0\u001b[39m:\n\u001b[1;32m   1257\u001b[0m         \u001b[38;5;28;01mraise\u001b[39;00m \u001b[38;5;167;01mValueError\u001b[39;00m(\n\u001b[1;32m   1258\u001b[0m             \u001b[38;5;124m\"\u001b[39m\u001b[38;5;124mnon-zero flags not allowed in calls to recv() on \u001b[39m\u001b[38;5;132;01m%s\u001b[39;00m\u001b[38;5;124m\"\u001b[39m \u001b[38;5;241m%\u001b[39m\n\u001b[1;32m   1259\u001b[0m             \u001b[38;5;28mself\u001b[39m\u001b[38;5;241m.\u001b[39m\u001b[38;5;18m__class__\u001b[39m)\n\u001b[0;32m-> 1260\u001b[0m     \u001b[38;5;28;01mreturn\u001b[39;00m \u001b[38;5;28;43mself\u001b[39;49m\u001b[38;5;241;43m.\u001b[39;49m\u001b[43mread\u001b[49m\u001b[43m(\u001b[49m\u001b[43mbuflen\u001b[49m\u001b[43m)\u001b[49m\n\u001b[1;32m   1261\u001b[0m \u001b[38;5;28;01melse\u001b[39;00m:\n\u001b[1;32m   1262\u001b[0m     \u001b[38;5;28;01mreturn\u001b[39;00m \u001b[38;5;28msuper\u001b[39m()\u001b[38;5;241m.\u001b[39mrecv(buflen, flags)\n",
      "File \u001b[0;32m/opt/homebrew/Caskroom/miniconda/base/envs/dsproj/lib/python3.9/ssl.py:1135\u001b[0m, in \u001b[0;36mSSLSocket.read\u001b[0;34m(self, len, buffer)\u001b[0m\n\u001b[1;32m   1133\u001b[0m         \u001b[38;5;28;01mreturn\u001b[39;00m \u001b[38;5;28mself\u001b[39m\u001b[38;5;241m.\u001b[39m_sslobj\u001b[38;5;241m.\u001b[39mread(\u001b[38;5;28mlen\u001b[39m, buffer)\n\u001b[1;32m   1134\u001b[0m     \u001b[38;5;28;01melse\u001b[39;00m:\n\u001b[0;32m-> 1135\u001b[0m         \u001b[38;5;28;01mreturn\u001b[39;00m \u001b[38;5;28;43mself\u001b[39;49m\u001b[38;5;241;43m.\u001b[39;49m\u001b[43m_sslobj\u001b[49m\u001b[38;5;241;43m.\u001b[39;49m\u001b[43mread\u001b[49m\u001b[43m(\u001b[49m\u001b[38;5;28;43mlen\u001b[39;49m\u001b[43m)\u001b[49m\n\u001b[1;32m   1136\u001b[0m \u001b[38;5;28;01mexcept\u001b[39;00m SSLError \u001b[38;5;28;01mas\u001b[39;00m x:\n\u001b[1;32m   1137\u001b[0m     \u001b[38;5;28;01mif\u001b[39;00m x\u001b[38;5;241m.\u001b[39margs[\u001b[38;5;241m0\u001b[39m] \u001b[38;5;241m==\u001b[39m SSL_ERROR_EOF \u001b[38;5;129;01mand\u001b[39;00m \u001b[38;5;28mself\u001b[39m\u001b[38;5;241m.\u001b[39msuppress_ragged_eofs:\n",
      "\u001b[0;31mKeyboardInterrupt\u001b[0m: "
     ]
    }
   ],
   "source": [
    "import os\n",
    "import json\n",
    "from tqdm import tqdm\n",
    "from groq import Groq\n",
    "\n",
    "# Initialize Groq client with API key\n",
    "client = Groq(api_key=os.environ.get(\"GROQ_API_KEY\"))\n",
    "\n",
    "# Function for batch sentiment analysis\n",
    "def get_sentiments_batch_groq(reviews, batch_size=10):  # Reduced batch size to avoid token/output size limits\n",
    "    all_sentiments = {}\n",
    "    \n",
    "    # Process the reviews in batches\n",
    "    for i in tqdm(range(0, len(reviews), batch_size)):\n",
    "        batch = reviews[i:i + batch_size]\n",
    "        \n",
    "        # Formatting reviews with numbering for batch prompt\n",
    "        formatted_reviews = \"\\n\".join([f\"{j + 1}. {review}\" for j, review in enumerate(batch)])\n",
    "        \n",
    "        # Define the system prompt with clear instructions for JSON response\n",
    "        system_prompt = (\n",
    "            \"You are a sentiment analyzer for customer reviews. \"\n",
    "            \"Analyze the sentiment of each review provided and return the results in valid JSON format. \"\n",
    "            \"The JSON should be an array where each object contains 'review_number', 'sentiment', and 'confidence_score'. \"\n",
    "            \"Each review should have a sentiment of 'positive', 'negative', or 'neutral', and a confidence score between 0 and 1.\"\n",
    "        )\n",
    "\n",
    "        # Define the user prompt with the list of reviews\n",
    "        user_prompt = (\n",
    "            f\"Here are the reviews to analyze:\\n\\n{formatted_reviews}\"\n",
    "        )\n",
    "\n",
    "        try:\n",
    "            # Send batch prompt to Groq API\n",
    "            chat_completion = client.chat.completions.create(\n",
    "                messages=[\n",
    "                    {\n",
    "                        \"role\": \"system\",\n",
    "                        \"content\": system_prompt  # System message describes the JSON structure\n",
    "                    },\n",
    "                    {\n",
    "                        \"role\": \"user\",\n",
    "                        \"content\": user_prompt\n",
    "                    }\n",
    "                ],\n",
    "                model=\"llama3-8b-8192\", # Switch to Mixtral, which is better for JSON\n",
    "                # Enforce the response format to be JSON\n",
    "                response_format={\"type\": \"json_object\"}\n",
    "            )\n",
    "\n",
    "            # Extract the raw response content\n",
    "            response_content = chat_completion.choices[0].message.content.strip()\n",
    "\n",
    "            # Parse the response, expecting it to be a JSON array\n",
    "            result = json.loads(response_content)\n",
    "            # Extract the list of reviews from the \"reviews\" key\n",
    "            reviews_list = result.get(\"reviews\", [])\n",
    "\n",
    "            if isinstance(reviews_list, list):\n",
    "                for item in reviews_list:\n",
    "                    # Calculate the absolute index in the main list of reviews.\n",
    "                    absolute_index = i + item['review_number'] - 1  # Adjust for 0-based indexing\n",
    "                    all_sentiments[absolute_index] = {\n",
    "                        'sentiment': item['sentiment_analysis']['sentiment'],\n",
    "                        'confidence_score': item['sentiment_analysis']['confidence_score']\n",
    "                    }\n",
    "            else:\n",
    "                print(f\"Unexpected response format for batch starting at index {i}.\")\n",
    "                print(f\"Raw response: {response_content}\")\n",
    "\n",
    "        except json.JSONDecodeError as json_error:\n",
    "            print(f\"Error parsing JSON response for batch starting at index {i}. Raw response content: {response_content}\")\n",
    "            print(f\"JSON error: {json_error}\")\n",
    "        except Exception as e:\n",
    "            print(f\"Error during sentiment analysis for batch starting at index {i}: {e}\")\n",
    "\n",
    "    return all_sentiments\n",
    "\n",
    "reviews_1k_groq = groq_df_b['review'][:1000].tolist() \n",
    "sentiments = get_sentiments_batch_groq(reviews_1k_groq)\n",
    "print(f\"Number of processed sentiments: {len(sentiments)}\")\n",
    "\n",
    "# Create a new 'sentiment' column in the original dataframe\n",
    "df['sentiment'] = df.index.map(sentiments)\n",
    "\n",
    "# For debugging, print out any missing reviews\n",
    "missing_reviews = [idx for idx in range(len(reviews_1k_groq)) if idx not in sentiments]\n",
    "if missing_reviews:\n",
    "    print(f\"Missing sentiments for the following review indices: {missing_reviews}\")"
   ]
  },
  {
   "cell_type": "code",
   "execution_count": 75,
   "metadata": {},
   "outputs": [
    {
     "name": "stderr",
     "output_type": "stream",
     "text": [
      "  3%|▎         | 11/334 [00:09<04:21,  1.24it/s]"
     ]
    },
    {
     "name": "stdout",
     "output_type": "stream",
     "text": [
      "Error during sentiment analysis for batch starting at index 30: Error code: 400 - {'error': {'message': \"Failed to generate JSON. Please adjust your prompt. See 'failed_generation' for more details.\", 'type': 'invalid_request_error', 'code': 'json_validate_failed', 'failed_generation': '{\\n   \"review_number\": 1,\\n   \"sentiment_analysis\": {\\n      \"sentiment\": \"positive\",\\n      \"confidence_score\": 0.8\\n   }\\n},\\n{\\n   \"review_number\": 2,\\n   \"sentiment_analysis\": {\\n      \"sentiment\": \"positive\",\\n      \"confidence_score\": 0.6\\n   }\\n},\\n{\\n   \"review_number\": 3,\\n   \"sentiment_analysis\": {\\n      \"sentiment\": \"positive\",\\n      \"confidence_score\": 0.7\\n   }\\n}'}}\n"
     ]
    },
    {
     "name": "stderr",
     "output_type": "stream",
     "text": [
      "  4%|▍         | 13/334 [00:10<03:05,  1.73it/s]"
     ]
    },
    {
     "name": "stdout",
     "output_type": "stream",
     "text": [
      "Error during sentiment analysis for batch starting at index 36: Error code: 400 - {'error': {'message': \"Failed to generate JSON. Please adjust your prompt. See 'failed_generation' for more details.\", 'type': 'invalid_request_error', 'code': 'json_validate_failed', 'failed_generation': '{\\n   \"review_number\": 1,\\n   \"sentiment_analysis\": {\\n      \"sentiment\": \"negative\",\\n      \"confidence_score\": 0.95\\n   }\\n},\\n{\\n   \"review_number\": 2,\\n   \"sentiment_analysis\": {\\n      \"sentiment\": \"positive\",\\n      \"confidence_score\": 0.85\\n   }\\n},\\n{\\n   \"review_number\": 3,\\n   \"sentiment_analysis\": {\\n      \"sentiment\": \"negative\",\\n      \"confidence_score\": 0.9\\n   }\\n}'}}\n"
     ]
    },
    {
     "name": "stderr",
     "output_type": "stream",
     "text": [
      "  5%|▍         | 16/334 [00:11<02:32,  2.08it/s]"
     ]
    },
    {
     "name": "stdout",
     "output_type": "stream",
     "text": [
      "Error during sentiment analysis for batch starting at index 45: Error code: 400 - {'error': {'message': \"Failed to generate JSON. Please adjust your prompt. See 'failed_generation' for more details.\", 'type': 'invalid_request_error', 'code': 'json_validate_failed', 'failed_generation': '{\\n   \"review_number\": 1,\\n   \"sentiment_analysis\": {\\n      \"sentiment\": \"positive\",\\n      \"confidence_score\": \"0.95\"\\n   }\\n},\\n{\\n   \"review_number\": 2,\\n   \"sentiment_analysis\": {\\n      \"sentiment\": \"positive\",\\n      \"confidence_score\": \"0.87\"\\n   }\\n},\\n{\\n   \"review_number\": 3,\\n   \"sentiment_analysis\": {\\n      \"sentiment\": \"positive\",\\n      \"confidence_score\": \"0.92\"\\n   }\\n}'}}\n"
     ]
    },
    {
     "name": "stderr",
     "output_type": "stream",
     "text": [
      "  5%|▌         | 17/334 [00:14<05:51,  1.11s/it]"
     ]
    },
    {
     "name": "stdout",
     "output_type": "stream",
     "text": [
      "Error during sentiment analysis for batch starting at index 48: Error code: 400 - {'error': {'message': \"Failed to generate JSON. Please adjust your prompt. See 'failed_generation' for more details.\", 'type': 'invalid_request_error', 'code': 'json_validate_failed', 'failed_generation': '{\\n   \"review_number\": 1,\\n   \"sentiment_analysis\": {\\n      \"sentiment\": \"negative\",\\n      \"confidence_score\": 0.8\\n   }\\n},\\n{\\n   \"review_number\": 2,\\n   \"sentiment_analysis\": {\\n      \"sentiment\": \"positive\",\\n      \"confidence_score\": 0.95\\n   }\\n},\\n{\\n   \"review_number\": 3,\\n   \"sentiment_analysis\": {\\n      \"sentiment\": \"neutral\",\\n      \"confidence_score\": 0.5\\n   }\\n}'}}\n"
     ]
    },
    {
     "name": "stderr",
     "output_type": "stream",
     "text": [
      "  7%|▋         | 22/334 [00:27<11:58,  2.30s/it]"
     ]
    },
    {
     "name": "stdout",
     "output_type": "stream",
     "text": [
      "Error during sentiment analysis for batch starting at index 63: Error code: 400 - {'error': {'message': \"Failed to generate JSON. Please adjust your prompt. See 'failed_generation' for more details.\", 'type': 'invalid_request_error', 'code': 'json_validate_failed', 'failed_generation': '{\\n   \"review_number\": 1,\\n   \"sentiment_analysis\": {\\n      \"sentiment\": \"negative\",\\n      \"confidence_score\": 0.85\\n   }\\n},\\n{\\n   \"review_number\": 2,\\n   \"sentiment_analysis\": {\\n      \"sentiment\": \"negative\",\\n      \"confidence_score\": 0.9\\n   }\\n},\\n{\\n   \"review_number\": 3,\\n   \"sentiment_analysis\": {\\n      \"sentiment\": \"neutral\",\\n      \"confidence_score\": 0.65\\n   }\\n}'}}\n"
     ]
    },
    {
     "name": "stderr",
     "output_type": "stream",
     "text": [
      "  9%|▊         | 29/334 [00:46<14:13,  2.80s/it]"
     ]
    },
    {
     "name": "stdout",
     "output_type": "stream",
     "text": [
      "Error during sentiment analysis for batch starting at index 84: Error code: 400 - {'error': {'message': \"Failed to generate JSON. Please adjust your prompt. See 'failed_generation' for more details.\", 'type': 'invalid_request_error', 'code': 'json_validate_failed', 'failed_generation': '{\\n   \"review_number\": 1,\\n   \"sentiment_analysis\": {\\n      \"sentiment\": \"positive\",\\n      \"confidence_score\": 0.9\\n   }\\n},\\n{\\n   \"review_number\": 2,\\n   \"sentiment_analysis\": {\\n      \"sentiment\": \"negative\",\\n      \"confidence_score\": 0.8\\n   }\\n},\\n{\\n   \"review_number\": 3,\\n   \"sentiment_analysis\": {\\n      \"sentiment\": \"positive\",\\n      \"confidence_score\": 0.7\\n   }\\n}\\n'}}\n"
     ]
    },
    {
     "name": "stderr",
     "output_type": "stream",
     "text": [
      " 11%|█         | 36/334 [01:04<12:44,  2.56s/it]"
     ]
    },
    {
     "name": "stdout",
     "output_type": "stream",
     "text": [
      "Error during sentiment analysis for batch starting at index 105: Error code: 400 - {'error': {'message': \"Failed to generate JSON. Please adjust your prompt. See 'failed_generation' for more details.\", 'type': 'invalid_request_error', 'code': 'json_validate_failed', 'failed_generation': '{\\n   \"review_number\": 1,\\n   \"sentiment_analysis\": {\\n      \"sentiment\": \"neutral\",\\n      \"confidence_score\": 0.5\\n   }\\n},\\n{\\n   \"review_number\": 2,\\n   \"sentiment_analysis\": {\\n      \"sentiment\": \"positive\",\\n      \"confidence_score\": 0.8\\n   }\\n},\\n{\\n   \"review_number\": 3,\\n   \"sentiment_analysis\": {\\n      \"sentiment\": \"neutral\",\\n      \"confidence_score\": 0.6\\n   }\\n}'}}\n"
     ]
    },
    {
     "name": "stderr",
     "output_type": "stream",
     "text": [
      " 11%|█         | 37/334 [01:06<12:35,  2.54s/it]"
     ]
    },
    {
     "name": "stdout",
     "output_type": "stream",
     "text": [
      "Error during sentiment analysis for batch starting at index 108: Error code: 400 - {'error': {'message': \"Failed to generate JSON. Please adjust your prompt. See 'failed_generation' for more details.\", 'type': 'invalid_request_error', 'code': 'json_validate_failed', 'failed_generation': '{\\n   \"review_number\": 1,\\n   \"sentiment_analysis\": {\\n      \"sentiment\": \"neutral\",\\n      \"confidence_score\": 0.55\\n   }\\n},\\n{\\n   \"review_number\": 2,\\n   \"sentiment_analysis\": {\\n      \"sentiment\": \"positive\",\\n      \"confidence_score\": 0.9\\n   }\\n},\\n{\\n   \"review_number\": 3,\\n   \"sentiment_analysis\": {\\n      \"sentiment\": \"positive\",\\n      \"confidence_score\": 0.95\\n   }\\n}\\n'}}\n"
     ]
    },
    {
     "name": "stderr",
     "output_type": "stream",
     "text": [
      " 12%|█▏        | 39/334 [01:11<12:23,  2.52s/it]"
     ]
    },
    {
     "name": "stdout",
     "output_type": "stream",
     "text": [
      "Error during sentiment analysis for batch starting at index 114: Error code: 400 - {'error': {'message': \"Failed to generate JSON. Please adjust your prompt. See 'failed_generation' for more details.\", 'type': 'invalid_request_error', 'code': 'json_validate_failed', 'failed_generation': '{\\n   \"review_number\": 1,\\n   \"sentiment_analysis\": {\\n      \"sentiment\": \"positive\",\\n      \"confidence_score\": 0.95\\n   }\\n},\\n{\\n   \"review_number\": 2,\\n   \"sentiment_analysis\": {\\n      \"sentiment\": \"positive\",\\n      \"confidence_score\": 0.98\\n   }\\n},\\n{\\n   \"review_number\": 3,\\n   \"sentiment_analysis\": {\\n      \"sentiment\": \"neutral\",\\n      \"confidence_score\": 0.75\\n   }\\n}'}}\n"
     ]
    },
    {
     "name": "stderr",
     "output_type": "stream",
     "text": [
      " 12%|█▏        | 40/334 [01:14<12:14,  2.50s/it]"
     ]
    },
    {
     "name": "stdout",
     "output_type": "stream",
     "text": [
      "Error during sentiment analysis for batch starting at index 117: Error code: 400 - {'error': {'message': \"Failed to generate JSON. Please adjust your prompt. See 'failed_generation' for more details.\", 'type': 'invalid_request_error', 'code': 'json_validate_failed', 'failed_generation': '{\\n   \"review_number\": 1,\\n   \"sentiment_analysis\": {\\n      \"sentiment\": \"positive\",\\n      \"confidence_score\": 0.83\\n   }\\n},\\n{\\n   \"review_number\": 2,\\n   \"sentiment_analysis\": {\\n      \"sentiment\": \"negative\",\\n      \"confidence_score\": 0.92\\n   }\\n},\\n{\\n   \"review_number\": 3,\\n   \"sentiment_analysis\": {\\n      \"sentiment\": \"negative\",\\n      \"confidence_score\": 0.95\\n   }\\n}'}}\n"
     ]
    },
    {
     "name": "stderr",
     "output_type": "stream",
     "text": [
      " 15%|█▍        | 50/334 [01:39<11:57,  2.53s/it]"
     ]
    },
    {
     "name": "stdout",
     "output_type": "stream",
     "text": [
      "Error during sentiment analysis for batch starting at index 147: Error code: 400 - {'error': {'message': \"Failed to generate JSON. Please adjust your prompt. See 'failed_generation' for more details.\", 'type': 'invalid_request_error', 'code': 'json_validate_failed', 'failed_generation': '{\\n   \"review_number\": 1,\\n   \"sentiment_analysis\": {\\n      \"sentiment\": \"positive\",\\n      \"confidence_score\": 0.8\\n   }\\n},\\n{\\n   \"review_number\": 2,\\n   \"sentiment_analysis\": {\\n      \"sentiment\": \"neutral\",\\n      \"confidence_score\": 0.9\\n   }\\n},\\n{\\n   \"review_number\": 3,\\n   \"sentiment_analysis\": {\\n      \"sentiment\": \"negative\",\\n      \"confidence_score\": 0.7\\n   }\\n}'}}\n"
     ]
    },
    {
     "name": "stderr",
     "output_type": "stream",
     "text": [
      " 16%|█▌        | 54/334 [01:50<12:07,  2.60s/it]"
     ]
    },
    {
     "name": "stdout",
     "output_type": "stream",
     "text": [
      "Error during sentiment analysis for batch starting at index 159: Error code: 400 - {'error': {'message': \"Failed to generate JSON. Please adjust your prompt. See 'failed_generation' for more details.\", 'type': 'invalid_request_error', 'code': 'json_validate_failed', 'failed_generation': '{\\n   \"review_number\": 1,\\n   \"sentiment_analysis\": {\\n      \"sentiment\": \"positive\",\\n      \"confidence_score\": 0.9\\n   }\\n},\\n{\\n   \"review_number\": 2,\\n   \"sentiment_analysis\": {\\n      \"sentiment\": \"positive\",\\n      \"confidence_score\": 0.8\\n   }\\n},\\n{\\n   \"review_number\": 3,\\n   \"sentiment_analysis\": {\\n      \"sentiment\": \"positive\",\\n      \"confidence_score\": 0.9\\n   }\\n}'}}\n"
     ]
    },
    {
     "name": "stderr",
     "output_type": "stream",
     "text": [
      " 16%|█▋        | 55/334 [01:52<11:55,  2.57s/it]"
     ]
    },
    {
     "name": "stdout",
     "output_type": "stream",
     "text": [
      "Error during sentiment analysis for batch starting at index 162: Error code: 400 - {'error': {'message': \"Failed to generate JSON. Please adjust your prompt. See 'failed_generation' for more details.\", 'type': 'invalid_request_error', 'code': 'json_validate_failed', 'failed_generation': '{\\n   \"review_number\": 1,\\n   \"sentiment_analysis\": {\\n      \"sentiment\": \"positive\",\\n      \"confidence_score\": 0.8\\n   }\\n},\\n{\\n   \"review_number\": 2,\\n   \"sentiment_analysis\": {\\n      \"sentiment\": \"positive\",\\n      \"confidence_score\": 0.95\\n   }\\n},\\n{\\n   \"review_number\": 3,\\n   \"sentiment_analysis\": {\\n      \"sentiment\": \"positive\",\\n      \"confidence_score\": 0.7\\n   }\\n}'}}\n"
     ]
    },
    {
     "name": "stderr",
     "output_type": "stream",
     "text": [
      " 18%|█▊        | 60/334 [02:05<11:38,  2.55s/it]"
     ]
    },
    {
     "name": "stdout",
     "output_type": "stream",
     "text": [
      "Error during sentiment analysis for batch starting at index 177: Error code: 400 - {'error': {'message': \"Failed to generate JSON. Please adjust your prompt. See 'failed_generation' for more details.\", 'type': 'invalid_request_error', 'code': 'json_validate_failed', 'failed_generation': '{\\n   \"review_number\": 1,\\n   \"sentiment_analysis\": {\\n      \"sentiment\": \"mixed\",\\n      \"confidence_score\": 0.6\\n   }\\n},\\n{\\n   \"review_number\": 2,\\n   \"sentiment_analysis\": {\\n      \"sentiment\": \"neutral\",\\n      \"confidence_score\": 0.5\\n   }\\n},\\n{\\n   \"review_number\": 3,\\n   \"sentiment_analysis\": {\\n      \"sentiment\": \"negative\",\\n      \"confidence_score\": 0.8\\n   }\\n}'}}\n"
     ]
    },
    {
     "name": "stderr",
     "output_type": "stream",
     "text": [
      " 18%|█▊        | 61/334 [02:08<11:40,  2.57s/it]"
     ]
    },
    {
     "name": "stdout",
     "output_type": "stream",
     "text": [
      "Error during sentiment analysis for batch starting at index 180: Error code: 400 - {'error': {'message': \"Failed to generate JSON. Please adjust your prompt. See 'failed_generation' for more details.\", 'type': 'invalid_request_error', 'code': 'json_validate_failed', 'failed_generation': '{\\n   \"review_number\":1,\\n   \"sentiment_analysis\":{\\n      \"sentiment\":\"positive\",\\n      \"confidence_score\":0.9\\n   }\\n},\\n{\\n   \"review_number\":2,\\n   \"sentiment_analysis\":{\\n      \"sentiment\":\"positive\",\\n      \"confidence_score\":0.7\\n   }\\n},\\n{\\n   \"review_number\":3,\\n   \"sentiment_analysis\":{\\n      \"sentiment\":\"negative\",\\n      \"confidence_score\":0.9\\n   }\\n}\\n'}}\n"
     ]
    },
    {
     "name": "stderr",
     "output_type": "stream",
     "text": [
      " 19%|█▊        | 62/334 [02:10<11:31,  2.54s/it]"
     ]
    },
    {
     "name": "stdout",
     "output_type": "stream",
     "text": [
      "Error during sentiment analysis for batch starting at index 183: Error code: 400 - {'error': {'message': \"Failed to generate JSON. Please adjust your prompt. See 'failed_generation' for more details.\", 'type': 'invalid_request_error', 'code': 'json_validate_failed', 'failed_generation': '{\\n   \"review_number\": 1,\\n   \"sentiment_analysis\": {\\n      \"sentiment\": \"negative\",\\n      \"confidence_score\": 0.7\\n   }\\n},\\n{\\n   \"review_number\": 2,\\n   \"sentiment_analysis\": {\\n      \"sentiment\": \"positive\",\\n      \"confidence_score\": 0.9\\n   }\\n},\\n{\\n   \"review_number\": 3,\\n   \"sentiment_analysis\": {\\n      \"sentiment\": \"positive\",\\n      \"confidence_score\": 0.8\\n   }\\n}'}}\n"
     ]
    },
    {
     "name": "stderr",
     "output_type": "stream",
     "text": [
      " 20%|██        | 67/334 [02:23<11:27,  2.57s/it]"
     ]
    },
    {
     "name": "stdout",
     "output_type": "stream",
     "text": [
      "Error during sentiment analysis for batch starting at index 198: Error code: 400 - {'error': {'message': \"Failed to generate JSON. Please adjust your prompt. See 'failed_generation' for more details.\", 'type': 'invalid_request_error', 'code': 'json_validate_failed', 'failed_generation': '{\\n   \"review_number\": 1,\\n   \"sentiment_analysis\": {\\n      \"sentiment\": \"negative\",\\n      \"confidence_score\": 0.8\\n   }\\n},\\n{\\n   \"review_number\": 2,\\n   \"sentiment_analysis\": {\\n      \"sentiment\": \"neutral\",\\n      \"confidence_score\": 0.5\\n   }\\n},\\n{\\n   \"review_number\": 3,\\n   \"sentiment_analysis\": {\\n      \"sentiment\": \"negative\",\\n      \"confidence_score\": 0.9\\n   }\\n}'}}\n"
     ]
    },
    {
     "name": "stderr",
     "output_type": "stream",
     "text": [
      " 20%|██        | 68/334 [02:26<11:24,  2.57s/it]"
     ]
    },
    {
     "name": "stdout",
     "output_type": "stream",
     "text": [
      "Error during sentiment analysis for batch starting at index 201: Error code: 400 - {'error': {'message': \"Failed to generate JSON. Please adjust your prompt. See 'failed_generation' for more details.\", 'type': 'invalid_request_error', 'code': 'json_validate_failed', 'failed_generation': '{\\n   \"review_number\":1,\\n   \"sentiment_analysis\":{\\n      \"sentiment\":\"positive\",\\n      \"confidence_score\":0.8\\n   }\\n},\\n{\\n   \"review_number\":2,\\n   \"sentiment_analysis\":{\\n      \"sentiment\":\"negative\",\\n      \"confidence_score\":0.95\\n   }\\n},\\n{\\n   \"review_number\":3,\\n   \"sentiment_analysis\":{\\n      \"sentiment\":\"neutral\",\\n      \"confidence_score\":0.55\\n   }\\n}'}}\n"
     ]
    },
    {
     "name": "stderr",
     "output_type": "stream",
     "text": [
      " 22%|██▏       | 72/334 [02:37<11:54,  2.73s/it]"
     ]
    },
    {
     "name": "stdout",
     "output_type": "stream",
     "text": [
      "Error during sentiment analysis for batch starting at index 213: Error code: 400 - {'error': {'message': \"Failed to generate JSON. Please adjust your prompt. See 'failed_generation' for more details.\", 'type': 'invalid_request_error', 'code': 'json_validate_failed', 'failed_generation': '{\\n   \"review_number\": 1,\\n   \"sentiment_analysis\": {\\n      \"sentiment\": \"positive\",\\n      \"confidence_score\": 1.0\\n   }\\n},\\n{\\n   \"review_number\": 2,\\n   \"sentiment_analysis\": {\\n      \"sentiment\": \"positive\",\\n      \"confidence_score\": 1.0\\n   }\\n},\\n{\\n   \"review_number\": 3,\\n   \"sentiment_analysis\": {\\n      \"sentiment\": \"positive\",\\n      \"confidence_score\": 0.86\\n   }\\n}'}}\n"
     ]
    },
    {
     "name": "stderr",
     "output_type": "stream",
     "text": [
      " 22%|██▏       | 74/334 [02:42<11:51,  2.74s/it]"
     ]
    },
    {
     "name": "stdout",
     "output_type": "stream",
     "text": [
      "Error during sentiment analysis for batch starting at index 219: Error code: 400 - {'error': {'message': \"Failed to generate JSON. Please adjust your prompt. See 'failed_generation' for more details.\", 'type': 'invalid_request_error', 'code': 'json_validate_failed', 'failed_generation': '{\\n   \"review_number\": 1,\\n   \"sentiment_analysis\": {\\n      \"sentiment\": \"negative\",\\n      \"confidence_score\": 0.9\\n   }\\n},\\n{\\n   \"review_number\": 2,\\n   \"sentiment_analysis\": {\\n      \"sentiment\": \"positive\",\\n      \"confidence_score\": 1.0\\n   }\\n},\\n{\\n   \"review_number\": 3,\\n   \"sentiment_analysis\": {\\n      \"sentiment\": \"negative\",\\n      \"confidence_score\": 0.85\\n   }\\n}'}}\n"
     ]
    },
    {
     "name": "stderr",
     "output_type": "stream",
     "text": [
      " 23%|██▎       | 77/334 [02:50<11:19,  2.65s/it]"
     ]
    },
    {
     "name": "stdout",
     "output_type": "stream",
     "text": [
      "Error during sentiment analysis for batch starting at index 228: Error code: 400 - {'error': {'message': \"Failed to generate JSON. Please adjust your prompt. See 'failed_generation' for more details.\", 'type': 'invalid_request_error', 'code': 'json_validate_failed', 'failed_generation': '{\\n   \"review_number\": 1,\\n   \"sentiment_analysis\": {\\n      \"sentiment\": \"positive\",\\n      \"confidence_score\": 0.9\\n   }\\n},\\n{\\n   \"review_number\": 2,\\n   \"sentiment_analysis\": {\\n      \"sentiment\": \"positive\",\\n      \"confidence_score\": 0.8\\n   }\\n},\\n{\\n   \"review_number\": 3,\\n   \"sentiment_analysis\": {\\n      \"sentiment\": \"positive\",\\n      \"confidence_score\": 0.7\\n   }\\n}'}}\n"
     ]
    },
    {
     "name": "stderr",
     "output_type": "stream",
     "text": [
      " 25%|██▌       | 85/334 [03:10<10:47,  2.60s/it]"
     ]
    },
    {
     "name": "stdout",
     "output_type": "stream",
     "text": [
      "Error during sentiment analysis for batch starting at index 252: Error code: 400 - {'error': {'message': \"Failed to generate JSON. Please adjust your prompt. See 'failed_generation' for more details.\", 'type': 'invalid_request_error', 'code': 'json_validate_failed', 'failed_generation': '{\\n   \"review_number\": 1,\\n   \"sentiment_analysis\": {\\n      \"sentiment\": \"positive\",\\n      \"confidence_score\": 0.9\\n   }\\n},\\n{\\n   \"review_number\": 2,\\n   \"sentiment_analysis\": {\\n      \"sentiment\": \"neutral\",\\n      \"confidence_score\": 0.7\\n   }\\n},\\n{\\n   \"review_number\": 3,\\n   \"sentiment_analysis\": {\\n      \"sentiment\": \"positive\",\\n      \"confidence_score\": 0.8\\n   }\\n}'}}\n"
     ]
    },
    {
     "name": "stderr",
     "output_type": "stream",
     "text": [
      " 27%|██▋       | 89/334 [03:20<10:19,  2.53s/it]"
     ]
    },
    {
     "name": "stdout",
     "output_type": "stream",
     "text": [
      "Error during sentiment analysis for batch starting at index 264: Error code: 400 - {'error': {'message': \"Failed to generate JSON. Please adjust your prompt. See 'failed_generation' for more details.\", 'type': 'invalid_request_error', 'code': 'json_validate_failed', 'failed_generation': '{\\n   \"review_number\": 1,\\n   \"sentiment_analysis\": {\\n      \"sentiment\": \"negative\",\\n      \"confidence_score\": 0.95\\n   }\\n},\\n{\\n   \"review_number\": 2,\\n   \"sentiment_analysis\": {\\n      \"sentiment\": \"positive\",\\n      \"confidence_score\": 0.8\\n   }\\n},\\n{\\n   \"review_number\": 3,\\n   \"sentiment_analysis\": {\\n      \"sentiment\": \"neutral\",\\n      \"confidence_score\": 0.5\\n   }\\n}'}}\n"
     ]
    },
    {
     "name": "stderr",
     "output_type": "stream",
     "text": [
      " 29%|██▊       | 96/334 [03:38<09:59,  2.52s/it]"
     ]
    },
    {
     "name": "stdout",
     "output_type": "stream",
     "text": [
      "Error during sentiment analysis for batch starting at index 285: Error code: 400 - {'error': {'message': \"Failed to generate JSON. Please adjust your prompt. See 'failed_generation' for more details.\", 'type': 'invalid_request_error', 'code': 'json_validate_failed', 'failed_generation': '{\\n   \"review_number\":1,\\n   \"sentiment_analysis\":{\\n      \"sentiment\":\"positive\",\\n      \"confidence_score\":0.8\\n   }\\n},\\n{\\n   \"review_number\":2,\\n   \"sentiment_analysis\":{\\n      \"sentiment\":\"mixed\",\\n      \"confidence_score\":0.4\\n   }\\n},\\n{\\n   \"review_number\":3,\\n   \"sentiment_analysis\":{\\n      \"sentiment\":\"positive\",\\n      \"confidence_score\":0.9\\n   }\\n}\\n'}}\n"
     ]
    },
    {
     "name": "stderr",
     "output_type": "stream",
     "text": [
      " 29%|██▉       | 97/334 [03:40<09:48,  2.48s/it]"
     ]
    },
    {
     "name": "stdout",
     "output_type": "stream",
     "text": [
      "Error during sentiment analysis for batch starting at index 288: Error code: 400 - {'error': {'message': \"Failed to generate JSON. Please adjust your prompt. See 'failed_generation' for more details.\", 'type': 'invalid_request_error', 'code': 'json_validate_failed', 'failed_generation': '{\\n   \"review_number\": 1,\\n   \"sentiment_analysis\": {\\n      \"sentiment\": \"positive\",\\n      \"confidence_score\": 0.95\\n   }\\n},\\n{\\n   \"review_number\": 2,\\n   \"sentiment_analysis\": {\\n      \"sentiment\": \"negative\",\\n      \"confidence_score\": 0.85\\n   }\\n},\\n{\\n   \"review_number\": 3,\\n   \"sentiment_analysis\": {\\n      \"sentiment\": \"neutral\",\\n      \"confidence_score\": 0.6\\n   }\\n}'}}\n"
     ]
    },
    {
     "name": "stderr",
     "output_type": "stream",
     "text": [
      " 30%|██▉       | 99/334 [03:45<09:42,  2.48s/it]"
     ]
    },
    {
     "name": "stdout",
     "output_type": "stream",
     "text": [
      "Error during sentiment analysis for batch starting at index 294: Error code: 400 - {'error': {'message': \"Failed to generate JSON. Please adjust your prompt. See 'failed_generation' for more details.\", 'type': 'invalid_request_error', 'code': 'json_validate_failed', 'failed_generation': '{\\n   \"review_number\": 1,\\n   \"sentiment_analysis\": {\\n      \"sentiment\": \"positive\",\\n      \"confidence_score\": 0.8\\n   }\\n},\\n{\\n   \"review_number\": 2,\\n   \"sentiment_analysis\": {\\n      \"sentiment\": \"negative\",\\n      \"confidence_score\": 0.9\\n   }\\n},\\n{\\n   \"review_number\": 3,\\n   \"sentiment_analysis\": {\\n      \"sentiment\": \"mixed\",\\n      \"confidence_score\": 0.7\\n   }\\n}'}}\n"
     ]
    },
    {
     "name": "stderr",
     "output_type": "stream",
     "text": [
      " 31%|███       | 103/334 [03:55<09:35,  2.49s/it]"
     ]
    },
    {
     "name": "stdout",
     "output_type": "stream",
     "text": [
      "Error during sentiment analysis for batch starting at index 306: Error code: 400 - {'error': {'message': \"Failed to generate JSON. Please adjust your prompt. See 'failed_generation' for more details.\", 'type': 'invalid_request_error', 'code': 'json_validate_failed', 'failed_generation': '{\\n   \"review_number\": 1,\\n   \"sentiment_analysis\": {\\n      \"sentiment\": \"negative\",\\n      \"confidence_score\": 0.8\\n   }\\n},\\n{\\n   \"review_number\": 2,\\n   \"sentiment_analysis\": {\\n      \"sentiment\": \"mixed\",\\n      \"confidence_score\": 0.6\\n   }\\n},\\n{\\n   \"review_number\": 3,\\n   \"sentiment_analysis\": {\\n      \"sentiment\": \"positive\",\\n      \"confidence_score\": 0.9\\n   }\\n}'}}\n"
     ]
    },
    {
     "name": "stderr",
     "output_type": "stream",
     "text": [
      " 32%|███▏      | 106/334 [04:03<09:30,  2.50s/it]"
     ]
    },
    {
     "name": "stdout",
     "output_type": "stream",
     "text": [
      "Error during sentiment analysis for batch starting at index 315: Error code: 400 - {'error': {'message': \"Failed to generate JSON. Please adjust your prompt. See 'failed_generation' for more details.\", 'type': 'invalid_request_error', 'code': 'json_validate_failed', 'failed_generation': '{\\n   \"review_number\": 1,\\n   \"sentiment_analysis\": {\\n      \"sentiment\": \"positive\",\\n      \"confidence_score\": 0.8\\n   }\\n},\\n{\\n   \"review_number\": 2,\\n   \"sentiment_analysis\": {\\n      \"sentiment\": \"negative\",\\n      \"confidence_score\": 0.9\\n   }\\n},\\n{\\n   \"review_number\": 3,\\n   \"sentiment_analysis\": {\\n      \"sentiment\": \"negative\",\\n      \"confidence_score\": 0.7\\n   }\\n}'}}\n"
     ]
    },
    {
     "name": "stderr",
     "output_type": "stream",
     "text": [
      " 33%|███▎      | 110/334 [04:13<09:27,  2.54s/it]"
     ]
    },
    {
     "name": "stdout",
     "output_type": "stream",
     "text": [
      "Error during sentiment analysis for batch starting at index 327: Error code: 400 - {'error': {'message': \"Failed to generate JSON. Please adjust your prompt. See 'failed_generation' for more details.\", 'type': 'invalid_request_error', 'code': 'json_validate_failed', 'failed_generation': '{\\n   \"review_number\": 1,\\n   \"sentiment_analysis\": {\\n      \"sentiment\": \"positive\",\\n      \"confidence_score\": 0.8\\n   }\\n},\\n{\\n   \"review_number\": 2,\\n   \"sentiment_analysis\": {\\n      \"sentiment\": \"positive\",\\n      \"confidence_score\": 1.0\\n   }\\n},\\n{\\n   \"review_number\": 3,\\n   \"sentiment_analysis\": {\\n      \"sentiment\": \"positive\",\\n      \"confidence_score\": 0.9\\n   }\\n}'}}\n"
     ]
    },
    {
     "name": "stderr",
     "output_type": "stream",
     "text": [
      " 35%|███▍      | 116/334 [04:28<08:59,  2.48s/it]"
     ]
    },
    {
     "name": "stdout",
     "output_type": "stream",
     "text": [
      "Error during sentiment analysis for batch starting at index 345: Error code: 400 - {'error': {'message': \"Failed to generate JSON. Please adjust your prompt. See 'failed_generation' for more details.\", 'type': 'invalid_request_error', 'code': 'json_validate_failed', 'failed_generation': '{\\n   \"review_number\": 1,\\n   \"sentiment_analysis\": {\\n      \"sentiment\": \"negative\",\\n      \"confidence_score\": 0.8\\n   }\\n},\\n{\\n   \"review_number\": 2,\\n   \"sentiment_analysis\": {\\n      \"sentiment\": \"neutral\",\\n      \"confidence_score\": 0.5\\n   }\\n},\\n{\\n   \"review_number\": 3,\\n   \"sentiment_analysis\": {\\n      \"sentiment\": \"negative\",\\n      \"confidence_score\": 0.9\\n   }\\n}'}}\n"
     ]
    },
    {
     "name": "stderr",
     "output_type": "stream",
     "text": [
      " 35%|███▌      | 117/334 [04:30<08:56,  2.47s/it]"
     ]
    },
    {
     "name": "stdout",
     "output_type": "stream",
     "text": [
      "Error during sentiment analysis for batch starting at index 348: Error code: 400 - {'error': {'message': \"Failed to generate JSON. Please adjust your prompt. See 'failed_generation' for more details.\", 'type': 'invalid_request_error', 'code': 'json_validate_failed', 'failed_generation': '{\\n   \"review_number\": 1,\\n   \"sentiment_analysis\": {\\n      \"sentiment\": \"negative\",\\n      \"confidence_score\": 0.8\\n   }\\n},\\n{\\n   \"review_number\": 2,\\n   \"sentiment_analysis\": {\\n      \"sentiment\": \"positive\",\\n      \"confidence_score\": 0.9\\n   }\\n},\\n{\\n   \"review_number\": 3,\\n   \"sentiment_analysis\": {\\n      \"sentiment\": \"positive\",\\n      \"confidence_score\": 0.95\\n   }\\n}'}}\n"
     ]
    },
    {
     "name": "stderr",
     "output_type": "stream",
     "text": [
      " 36%|███▌      | 121/334 [04:40<08:54,  2.51s/it]"
     ]
    },
    {
     "name": "stdout",
     "output_type": "stream",
     "text": [
      "Error during sentiment analysis for batch starting at index 360: Error code: 400 - {'error': {'message': \"Failed to generate JSON. Please adjust your prompt. See 'failed_generation' for more details.\", 'type': 'invalid_request_error', 'code': 'json_validate_failed', 'failed_generation': '{\\n   \"review_number\": 1,\\n   \"sentiment_analysis\": {\\n      \"sentiment\": \"positive\",\\n      \"confidence_score\": 0.8\\n   }\\n},\\n{\\n   \"review_number\": 2,\\n   \"sentiment_analysis\": {\\n      \"sentiment\": \"positive\",\\n      \"confidence_score\": 0.9\\n   }\\n},\\n{\\n   \"review_number\": 3,\\n   \"sentiment_analysis\": {\\n      \"sentiment\": \"positive\",\\n      \"confidence_score\": 0.95\\n   }\\n}'}}\n"
     ]
    },
    {
     "name": "stderr",
     "output_type": "stream",
     "text": [
      " 37%|███▋      | 122/334 [04:42<08:48,  2.49s/it]"
     ]
    },
    {
     "name": "stdout",
     "output_type": "stream",
     "text": [
      "Error during sentiment analysis for batch starting at index 363: Error code: 400 - {'error': {'message': \"Failed to generate JSON. Please adjust your prompt. See 'failed_generation' for more details.\", 'type': 'invalid_request_error', 'code': 'json_validate_failed', 'failed_generation': '{\\n   \"review_number\": 1,\\n   \"sentiment_analysis\": {\\n      \"sentiment\": \"positive\",\\n      \"confidence_score\": 0.8\\n   }\\n},\\n{\\n   \"review_number\": 2,\\n   \"sentiment_analysis\": {\\n      \"sentiment\": \"positive\",\\n      \"confidence_score\": 0.9\\n   }\\n},\\n{\\n   \"review_number\": 3,\\n   \"sentiment_analysis\": {\\n      \"sentiment\": \"positive\",\\n      \"confidence_score\": 0.9\\n   }\\n}'}}\n"
     ]
    },
    {
     "name": "stderr",
     "output_type": "stream",
     "text": [
      " 37%|███▋      | 125/334 [04:48<06:10,  1.77s/it]"
     ]
    },
    {
     "name": "stdout",
     "output_type": "stream",
     "text": [
      "Error during sentiment analysis for batch starting at index 372: Error code: 429 - {'error': {'message': 'Rate limit reached for model `llama3-8b-8192` in organization `org_01j9m95282e27t3n1tb7c5d96z` on : Limit 500000, Used 499877, Requested 514. Please try again in 1m7.5186s. Visit https://console.groq.com/docs/rate-limits for more information.', 'type': '', 'code': 'rate_limit_exceeded'}}\n"
     ]
    },
    {
     "name": "stderr",
     "output_type": "stream",
     "text": [
      " 38%|███▊      | 128/334 [05:18<17:49,  5.19s/it]"
     ]
    },
    {
     "name": "stdout",
     "output_type": "stream",
     "text": [
      "Error during sentiment analysis for batch starting at index 378: Error code: 429 - {'error': {'message': 'Rate limit reached for model `llama3-8b-8192` in organization `org_01j9m95282e27t3n1tb7c5d96z` on : Limit 500000, Used 500120, Requested 598. Please try again in 2m4.187999999s. Visit https://console.groq.com/docs/rate-limits for more information.', 'type': '', 'code': 'rate_limit_exceeded'}}\n",
      "Error during sentiment analysis for batch starting at index 381: Error code: 429 - {'error': {'message': 'Rate limit reached for model `llama3-8b-8192` in organization `org_01j9m95282e27t3n1tb7c5d96z` on : Limit 500000, Used 500119, Requested 524. Please try again in 1m51.272799999s. Visit https://console.groq.com/docs/rate-limits for more information.', 'type': '', 'code': 'rate_limit_exceeded'}}\n"
     ]
    },
    {
     "name": "stderr",
     "output_type": "stream",
     "text": [
      " 39%|███▉      | 130/334 [05:19<08:51,  2.61s/it]"
     ]
    },
    {
     "name": "stdout",
     "output_type": "stream",
     "text": [
      "Error during sentiment analysis for batch starting at index 384: Error code: 429 - {'error': {'message': 'Rate limit reached for model `llama3-8b-8192` in organization `org_01j9m95282e27t3n1tb7c5d96z` on : Limit 500000, Used 500118, Requested 500. Please try again in 1m46.9436s. Visit https://console.groq.com/docs/rate-limits for more information.', 'type': '', 'code': 'rate_limit_exceeded'}}\n",
      "Error during sentiment analysis for batch starting at index 387: Error code: 429 - {'error': {'message': 'Rate limit reached for model `llama3-8b-8192` in organization `org_01j9m95282e27t3n1tb7c5d96z` on : Limit 500000, Used 500118, Requested 654. Please try again in 2m13.420799999s. Visit https://console.groq.com/docs/rate-limits for more information.', 'type': '', 'code': 'rate_limit_exceeded'}}\n"
     ]
    },
    {
     "name": "stderr",
     "output_type": "stream",
     "text": [
      " 40%|███▉      | 132/334 [05:19<04:29,  1.33s/it]"
     ]
    },
    {
     "name": "stdout",
     "output_type": "stream",
     "text": [
      "Error during sentiment analysis for batch starting at index 390: Error code: 429 - {'error': {'message': 'Rate limit reached for model `llama3-8b-8192` in organization `org_01j9m95282e27t3n1tb7c5d96z` on : Limit 500000, Used 500117, Requested 515. Please try again in 1m49.2956s. Visit https://console.groq.com/docs/rate-limits for more information.', 'type': '', 'code': 'rate_limit_exceeded'}}\n",
      "Error during sentiment analysis for batch starting at index 393: Error code: 429 - {'error': {'message': 'Rate limit reached for model `llama3-8b-8192` in organization `org_01j9m95282e27t3n1tb7c5d96z` on : Limit 500000, Used 500116, Requested 387. Please try again in 1m27.0692s. Visit https://console.groq.com/docs/rate-limits for more information.', 'type': '', 'code': 'rate_limit_exceeded'}}\n"
     ]
    },
    {
     "name": "stderr",
     "output_type": "stream",
     "text": [
      " 40%|████      | 134/334 [05:19<02:22,  1.41it/s]"
     ]
    },
    {
     "name": "stdout",
     "output_type": "stream",
     "text": [
      "Error during sentiment analysis for batch starting at index 396: Error code: 429 - {'error': {'message': 'Rate limit reached for model `llama3-8b-8192` in organization `org_01j9m95282e27t3n1tb7c5d96z` on : Limit 500000, Used 500116, Requested 362. Please try again in 1m22.645199999s. Visit https://console.groq.com/docs/rate-limits for more information.', 'type': '', 'code': 'rate_limit_exceeded'}}\n",
      "Error during sentiment analysis for batch starting at index 399: Error code: 429 - {'error': {'message': 'Rate limit reached for model `llama3-8b-8192` in organization `org_01j9m95282e27t3n1tb7c5d96z` on : Limit 500000, Used 500115, Requested 515. Please try again in 1m48.9636s. Visit https://console.groq.com/docs/rate-limits for more information.', 'type': '', 'code': 'rate_limit_exceeded'}}\n"
     ]
    },
    {
     "name": "stderr",
     "output_type": "stream",
     "text": [
      " 41%|████      | 136/334 [05:19<01:23,  2.38it/s]"
     ]
    },
    {
     "name": "stdout",
     "output_type": "stream",
     "text": [
      "Error during sentiment analysis for batch starting at index 402: Error code: 429 - {'error': {'message': 'Rate limit reached for model `llama3-8b-8192` in organization `org_01j9m95282e27t3n1tb7c5d96z` on : Limit 500000, Used 500114, Requested 289. Please try again in 1m9.7988s. Visit https://console.groq.com/docs/rate-limits for more information.', 'type': '', 'code': 'rate_limit_exceeded'}}\n",
      "Error during sentiment analysis for batch starting at index 405: Error code: 429 - {'error': {'message': 'Rate limit reached for model `llama3-8b-8192` in organization `org_01j9m95282e27t3n1tb7c5d96z` on : Limit 500000, Used 500114, Requested 445. Please try again in 1m36.6006s. Visit https://console.groq.com/docs/rate-limits for more information.', 'type': '', 'code': 'rate_limit_exceeded'}}\n"
     ]
    },
    {
     "name": "stderr",
     "output_type": "stream",
     "text": [
      " 41%|████      | 137/334 [05:20<01:05,  3.02it/s]"
     ]
    },
    {
     "name": "stdout",
     "output_type": "stream",
     "text": [
      "Error during sentiment analysis for batch starting at index 408: Error code: 429 - {'error': {'message': 'Rate limit reached for model `llama3-8b-8192` in organization `org_01j9m95282e27t3n1tb7c5d96z` on : Limit 500000, Used 500113, Requested 390. Please try again in 1m26.9696s. Visit https://console.groq.com/docs/rate-limits for more information.', 'type': '', 'code': 'rate_limit_exceeded'}}\n"
     ]
    },
    {
     "name": "stderr",
     "output_type": "stream",
     "text": [
      " 42%|████▏     | 139/334 [05:20<00:48,  3.99it/s]"
     ]
    },
    {
     "name": "stdout",
     "output_type": "stream",
     "text": [
      "Error during sentiment analysis for batch starting at index 411: Error code: 429 - {'error': {'message': 'Rate limit reached for model `llama3-8b-8192` in organization `org_01j9m95282e27t3n1tb7c5d96z` on : Limit 500000, Used 500112, Requested 513. Please try again in 1m48.003999999s. Visit https://console.groq.com/docs/rate-limits for more information.', 'type': '', 'code': 'rate_limit_exceeded'}}\n",
      "Error during sentiment analysis for batch starting at index 414: Error code: 429 - {'error': {'message': 'Rate limit reached for model `llama3-8b-8192` in organization `org_01j9m95282e27t3n1tb7c5d96z` on : Limit 500000, Used 500111, Requested 494. Please try again in 1m44.5758s. Visit https://console.groq.com/docs/rate-limits for more information.', 'type': '', 'code': 'rate_limit_exceeded'}}\n"
     ]
    },
    {
     "name": "stderr",
     "output_type": "stream",
     "text": [
      " 42%|████▏     | 141/334 [05:20<00:35,  5.47it/s]"
     ]
    },
    {
     "name": "stdout",
     "output_type": "stream",
     "text": [
      "Error during sentiment analysis for batch starting at index 417: Error code: 429 - {'error': {'message': 'Rate limit reached for model `llama3-8b-8192` in organization `org_01j9m95282e27t3n1tb7c5d96z` on : Limit 500000, Used 500110, Requested 560. Please try again in 1m55.8736s. Visit https://console.groq.com/docs/rate-limits for more information.', 'type': '', 'code': 'rate_limit_exceeded'}}\n",
      "Error during sentiment analysis for batch starting at index 420: Error code: 429 - {'error': {'message': 'Rate limit reached for model `llama3-8b-8192` in organization `org_01j9m95282e27t3n1tb7c5d96z` on : Limit 500000, Used 500109, Requested 355. Please try again in 1m20.3256s. Visit https://console.groq.com/docs/rate-limits for more information.', 'type': '', 'code': 'rate_limit_exceeded'}}\n"
     ]
    },
    {
     "name": "stderr",
     "output_type": "stream",
     "text": [
      " 43%|████▎     | 143/334 [05:20<00:27,  6.88it/s]"
     ]
    },
    {
     "name": "stdout",
     "output_type": "stream",
     "text": [
      "Error during sentiment analysis for batch starting at index 423: Error code: 429 - {'error': {'message': 'Rate limit reached for model `llama3-8b-8192` in organization `org_01j9m95282e27t3n1tb7c5d96z` on : Limit 500000, Used 500109, Requested 488. Please try again in 1m43.198s. Visit https://console.groq.com/docs/rate-limits for more information.', 'type': '', 'code': 'rate_limit_exceeded'}}\n",
      "Error during sentiment analysis for batch starting at index 426: Error code: 429 - {'error': {'message': 'Rate limit reached for model `llama3-8b-8192` in organization `org_01j9m95282e27t3n1tb7c5d96z` on : Limit 500000, Used 500108, Requested 590. Please try again in 2m0.711599999s. Visit https://console.groq.com/docs/rate-limits for more information.', 'type': '', 'code': 'rate_limit_exceeded'}}\n"
     ]
    },
    {
     "name": "stderr",
     "output_type": "stream",
     "text": [
      " 43%|████▎     | 145/334 [05:21<00:27,  6.90it/s]"
     ]
    },
    {
     "name": "stdout",
     "output_type": "stream",
     "text": [
      "Error during sentiment analysis for batch starting at index 429: Error code: 429 - {'error': {'message': 'Rate limit reached for model `llama3-8b-8192` in organization `org_01j9m95282e27t3n1tb7c5d96z` on : Limit 500000, Used 500107, Requested 584. Please try again in 1m59.5508s. Visit https://console.groq.com/docs/rate-limits for more information.', 'type': '', 'code': 'rate_limit_exceeded'}}\n",
      "Error during sentiment analysis for batch starting at index 432: Error code: 429 - {'error': {'message': 'Rate limit reached for model `llama3-8b-8192` in organization `org_01j9m95282e27t3n1tb7c5d96z` on : Limit 500000, Used 500106, Requested 620. Please try again in 2m5.6196s. Visit https://console.groq.com/docs/rate-limits for more information.', 'type': '', 'code': 'rate_limit_exceeded'}}\n"
     ]
    },
    {
     "name": "stderr",
     "output_type": "stream",
     "text": [
      " 44%|████▍     | 147/334 [05:21<00:24,  7.61it/s]"
     ]
    },
    {
     "name": "stdout",
     "output_type": "stream",
     "text": [
      "Error during sentiment analysis for batch starting at index 435: Error code: 429 - {'error': {'message': 'Rate limit reached for model `llama3-8b-8192` in organization `org_01j9m95282e27t3n1tb7c5d96z` on : Limit 500000, Used 500106, Requested 584. Please try again in 1m59.2778s. Visit https://console.groq.com/docs/rate-limits for more information.', 'type': '', 'code': 'rate_limit_exceeded'}}\n",
      "Error during sentiment analysis for batch starting at index 438: Error code: 429 - {'error': {'message': 'Rate limit reached for model `llama3-8b-8192` in organization `org_01j9m95282e27t3n1tb7c5d96z` on : Limit 500000, Used 500105, Requested 365. Please try again in 1m21.3126s. Visit https://console.groq.com/docs/rate-limits for more information.', 'type': '', 'code': 'rate_limit_exceeded'}}\n"
     ]
    },
    {
     "name": "stderr",
     "output_type": "stream",
     "text": [
      " 45%|████▍     | 149/334 [05:21<00:22,  8.29it/s]"
     ]
    },
    {
     "name": "stdout",
     "output_type": "stream",
     "text": [
      "Error during sentiment analysis for batch starting at index 441: Error code: 429 - {'error': {'message': 'Rate limit reached for model `llama3-8b-8192` in organization `org_01j9m95282e27t3n1tb7c5d96z` on : Limit 500000, Used 500104, Requested 398. Please try again in 1m26.905s. Visit https://console.groq.com/docs/rate-limits for more information.', 'type': '', 'code': 'rate_limit_exceeded'}}\n",
      "Error during sentiment analysis for batch starting at index 444: Error code: 429 - {'error': {'message': 'Rate limit reached for model `llama3-8b-8192` in organization `org_01j9m95282e27t3n1tb7c5d96z` on : Limit 500000, Used 500104, Requested 459. Please try again in 1m37.3398s. Visit https://console.groq.com/docs/rate-limits for more information.', 'type': '', 'code': 'rate_limit_exceeded'}}\n"
     ]
    },
    {
     "name": "stderr",
     "output_type": "stream",
     "text": [
      " 45%|████▌     | 151/334 [05:21<00:21,  8.67it/s]"
     ]
    },
    {
     "name": "stdout",
     "output_type": "stream",
     "text": [
      "Error during sentiment analysis for batch starting at index 447: Error code: 429 - {'error': {'message': 'Rate limit reached for model `llama3-8b-8192` in organization `org_01j9m95282e27t3n1tb7c5d96z` on : Limit 500000, Used 500103, Requested 493. Please try again in 1m43.1s. Visit https://console.groq.com/docs/rate-limits for more information.', 'type': '', 'code': 'rate_limit_exceeded'}}\n",
      "Error during sentiment analysis for batch starting at index 450: Error code: 429 - {'error': {'message': 'Rate limit reached for model `llama3-8b-8192` in organization `org_01j9m95282e27t3n1tb7c5d96z` on : Limit 500000, Used 500102, Requested 514. Please try again in 1m46.616799999s. Visit https://console.groq.com/docs/rate-limits for more information.', 'type': '', 'code': 'rate_limit_exceeded'}}\n"
     ]
    },
    {
     "name": "stderr",
     "output_type": "stream",
     "text": [
      " 46%|████▌     | 153/334 [05:22<00:21,  8.62it/s]"
     ]
    },
    {
     "name": "stdout",
     "output_type": "stream",
     "text": [
      "Error during sentiment analysis for batch starting at index 453: Error code: 429 - {'error': {'message': 'Rate limit reached for model `llama3-8b-8192` in organization `org_01j9m95282e27t3n1tb7c5d96z` on : Limit 500000, Used 500102, Requested 512. Please try again in 1m46.1502s. Visit https://console.groq.com/docs/rate-limits for more information.', 'type': '', 'code': 'rate_limit_exceeded'}}\n",
      "Error during sentiment analysis for batch starting at index 456: Error code: 429 - {'error': {'message': 'Rate limit reached for model `llama3-8b-8192` in organization `org_01j9m95282e27t3n1tb7c5d96z` on : Limit 500000, Used 500101, Requested 297. Please try again in 1m8.8782s. Visit https://console.groq.com/docs/rate-limits for more information.', 'type': '', 'code': 'rate_limit_exceeded'}}\n"
     ]
    },
    {
     "name": "stderr",
     "output_type": "stream",
     "text": [
      " 46%|████▋     | 155/334 [05:22<00:20,  8.54it/s]"
     ]
    },
    {
     "name": "stdout",
     "output_type": "stream",
     "text": [
      "Error during sentiment analysis for batch starting at index 459: Error code: 429 - {'error': {'message': 'Rate limit reached for model `llama3-8b-8192` in organization `org_01j9m95282e27t3n1tb7c5d96z` on : Limit 500000, Used 500100, Requested 314. Please try again in 1m11.7088s. Visit https://console.groq.com/docs/rate-limits for more information.', 'type': '', 'code': 'rate_limit_exceeded'}}\n",
      "Error during sentiment analysis for batch starting at index 462: Error code: 429 - {'error': {'message': 'Rate limit reached for model `llama3-8b-8192` in organization `org_01j9m95282e27t3n1tb7c5d96z` on : Limit 500000, Used 500100, Requested 659. Please try again in 2m11.201799999s. Visit https://console.groq.com/docs/rate-limits for more information.', 'type': '', 'code': 'rate_limit_exceeded'}}\n"
     ]
    },
    {
     "name": "stderr",
     "output_type": "stream",
     "text": [
      " 47%|████▋     | 156/334 [05:22<00:20,  8.50it/s]"
     ]
    },
    {
     "name": "stdout",
     "output_type": "stream",
     "text": [
      "Error during sentiment analysis for batch starting at index 465: Error code: 429 - {'error': {'message': 'Rate limit reached for model `llama3-8b-8192` in organization `org_01j9m95282e27t3n1tb7c5d96z` on : Limit 500000, Used 500099, Requested 424. Please try again in 1m30.4758s. Visit https://console.groq.com/docs/rate-limits for more information.', 'type': '', 'code': 'rate_limit_exceeded'}}\n"
     ]
    },
    {
     "name": "stderr",
     "output_type": "stream",
     "text": [
      " 47%|████▋     | 158/334 [05:22<00:25,  6.83it/s]"
     ]
    },
    {
     "name": "stdout",
     "output_type": "stream",
     "text": [
      "Error during sentiment analysis for batch starting at index 468: Error code: 429 - {'error': {'message': 'Rate limit reached for model `llama3-8b-8192` in organization `org_01j9m95282e27t3n1tb7c5d96z` on : Limit 500000, Used 500098, Requested 537. Please try again in 1m49.7302s. Visit https://console.groq.com/docs/rate-limits for more information.', 'type': '', 'code': 'rate_limit_exceeded'}}\n",
      "Error during sentiment analysis for batch starting at index 471: Error code: 429 - {'error': {'message': 'Rate limit reached for model `llama3-8b-8192` in organization `org_01j9m95282e27t3n1tb7c5d96z` on : Limit 500000, Used 500097, Requested 456. Please try again in 1m35.6244s. Visit https://console.groq.com/docs/rate-limits for more information.', 'type': '', 'code': 'rate_limit_exceeded'}}\n"
     ]
    },
    {
     "name": "stderr",
     "output_type": "stream",
     "text": [
      " 48%|████▊     | 160/334 [05:23<00:25,  6.86it/s]"
     ]
    },
    {
     "name": "stdout",
     "output_type": "stream",
     "text": [
      "Error during sentiment analysis for batch starting at index 474: Error code: 429 - {'error': {'message': 'Rate limit reached for model `llama3-8b-8192` in organization `org_01j9m95282e27t3n1tb7c5d96z` on : Limit 500000, Used 500096, Requested 317. Please try again in 1m11.4692s. Visit https://console.groq.com/docs/rate-limits for more information.', 'type': '', 'code': 'rate_limit_exceeded'}}\n",
      "Error during sentiment analysis for batch starting at index 477: Error code: 429 - {'error': {'message': 'Rate limit reached for model `llama3-8b-8192` in organization `org_01j9m95282e27t3n1tb7c5d96z` on : Limit 500000, Used 500095, Requested 467. Please try again in 1m37.2402s. Visit https://console.groq.com/docs/rate-limits for more information.', 'type': '', 'code': 'rate_limit_exceeded'}}\n"
     ]
    },
    {
     "name": "stderr",
     "output_type": "stream",
     "text": [
      " 49%|████▊     | 162/334 [05:23<00:21,  7.84it/s]"
     ]
    },
    {
     "name": "stdout",
     "output_type": "stream",
     "text": [
      "Error during sentiment analysis for batch starting at index 480: Error code: 429 - {'error': {'message': 'Rate limit reached for model `llama3-8b-8192` in organization `org_01j9m95282e27t3n1tb7c5d96z` on : Limit 500000, Used 500095, Requested 560. Please try again in 1m53.2016s. Visit https://console.groq.com/docs/rate-limits for more information.', 'type': '', 'code': 'rate_limit_exceeded'}}\n",
      "Error during sentiment analysis for batch starting at index 483: Error code: 429 - {'error': {'message': 'Rate limit reached for model `llama3-8b-8192` in organization `org_01j9m95282e27t3n1tb7c5d96z` on : Limit 500000, Used 500094, Requested 502. Please try again in 1m43.0682s. Visit https://console.groq.com/docs/rate-limits for more information.', 'type': '', 'code': 'rate_limit_exceeded'}}\n"
     ]
    },
    {
     "name": "stderr",
     "output_type": "stream",
     "text": [
      " 49%|████▉     | 164/334 [05:23<00:20,  8.15it/s]"
     ]
    },
    {
     "name": "stdout",
     "output_type": "stream",
     "text": [
      "Error during sentiment analysis for batch starting at index 486: Error code: 429 - {'error': {'message': 'Rate limit reached for model `llama3-8b-8192` in organization `org_01j9m95282e27t3n1tb7c5d96z` on : Limit 500000, Used 500093, Requested 354. Please try again in 1m17.3898s. Visit https://console.groq.com/docs/rate-limits for more information.', 'type': '', 'code': 'rate_limit_exceeded'}}\n",
      "Error during sentiment analysis for batch starting at index 489: Error code: 429 - {'error': {'message': 'Rate limit reached for model `llama3-8b-8192` in organization `org_01j9m95282e27t3n1tb7c5d96z` on : Limit 500000, Used 500093, Requested 575. Please try again in 1m55.4506s. Visit https://console.groq.com/docs/rate-limits for more information.', 'type': '', 'code': 'rate_limit_exceeded'}}\n"
     ]
    },
    {
     "name": "stderr",
     "output_type": "stream",
     "text": [
      " 50%|████▉     | 166/334 [05:23<00:19,  8.79it/s]"
     ]
    },
    {
     "name": "stdout",
     "output_type": "stream",
     "text": [
      "Error during sentiment analysis for batch starting at index 492: Error code: 429 - {'error': {'message': 'Rate limit reached for model `llama3-8b-8192` in organization `org_01j9m95282e27t3n1tb7c5d96z` on : Limit 500000, Used 500092, Requested 478. Please try again in 1m38.579s. Visit https://console.groq.com/docs/rate-limits for more information.', 'type': '', 'code': 'rate_limit_exceeded'}}\n",
      "Error during sentiment analysis for batch starting at index 495: Error code: 429 - {'error': {'message': 'Rate limit reached for model `llama3-8b-8192` in organization `org_01j9m95282e27t3n1tb7c5d96z` on : Limit 500000, Used 500091, Requested 526. Please try again in 1m46.7704s. Visit https://console.groq.com/docs/rate-limits for more information.', 'type': '', 'code': 'rate_limit_exceeded'}}\n"
     ]
    },
    {
     "name": "stderr",
     "output_type": "stream",
     "text": [
      " 50%|█████     | 168/334 [05:23<00:18,  8.83it/s]"
     ]
    },
    {
     "name": "stdout",
     "output_type": "stream",
     "text": [
      "Error during sentiment analysis for batch starting at index 498: Error code: 429 - {'error': {'message': 'Rate limit reached for model `llama3-8b-8192` in organization `org_01j9m95282e27t3n1tb7c5d96z` on : Limit 500000, Used 500091, Requested 449. Please try again in 1m33.3428s. Visit https://console.groq.com/docs/rate-limits for more information.', 'type': '', 'code': 'rate_limit_exceeded'}}\n",
      "Error during sentiment analysis for batch starting at index 501: Error code: 429 - {'error': {'message': 'Rate limit reached for model `llama3-8b-8192` in organization `org_01j9m95282e27t3n1tb7c5d96z` on : Limit 500000, Used 500090, Requested 637. Please try again in 2m5.7222s. Visit https://console.groq.com/docs/rate-limits for more information.', 'type': '', 'code': 'rate_limit_exceeded'}}\n"
     ]
    },
    {
     "name": "stderr",
     "output_type": "stream",
     "text": [
      " 51%|█████     | 170/334 [05:24<00:17,  9.20it/s]"
     ]
    },
    {
     "name": "stdout",
     "output_type": "stream",
     "text": [
      "Error during sentiment analysis for batch starting at index 504: Error code: 429 - {'error': {'message': 'Rate limit reached for model `llama3-8b-8192` in organization `org_01j9m95282e27t3n1tb7c5d96z` on : Limit 500000, Used 500089, Requested 628. Please try again in 2m4.061s. Visit https://console.groq.com/docs/rate-limits for more information.', 'type': '', 'code': 'rate_limit_exceeded'}}\n",
      "Error during sentiment analysis for batch starting at index 507: Error code: 429 - {'error': {'message': 'Rate limit reached for model `llama3-8b-8192` in organization `org_01j9m95282e27t3n1tb7c5d96z` on : Limit 500000, Used 500089, Requested 495. Please try again in 1m40.9766s. Visit https://console.groq.com/docs/rate-limits for more information.', 'type': '', 'code': 'rate_limit_exceeded'}}\n"
     ]
    },
    {
     "name": "stderr",
     "output_type": "stream",
     "text": [
      " 51%|█████▏    | 172/334 [05:24<00:21,  7.58it/s]"
     ]
    },
    {
     "name": "stdout",
     "output_type": "stream",
     "text": [
      "Error during sentiment analysis for batch starting at index 510: Error code: 429 - {'error': {'message': 'Rate limit reached for model `llama3-8b-8192` in organization `org_01j9m95282e27t3n1tb7c5d96z` on : Limit 500000, Used 500088, Requested 538. Please try again in 1m48.243s. Visit https://console.groq.com/docs/rate-limits for more information.', 'type': '', 'code': 'rate_limit_exceeded'}}\n",
      "Error during sentiment analysis for batch starting at index 513: Error code: 429 - {'error': {'message': 'Rate limit reached for model `llama3-8b-8192` in organization `org_01j9m95282e27t3n1tb7c5d96z` on : Limit 500000, Used 500087, Requested 519. Please try again in 1m44.841799999s. Visit https://console.groq.com/docs/rate-limits for more information.', 'type': '', 'code': 'rate_limit_exceeded'}}\n"
     ]
    },
    {
     "name": "stderr",
     "output_type": "stream",
     "text": [
      " 52%|█████▏    | 174/334 [05:24<00:20,  7.95it/s]"
     ]
    },
    {
     "name": "stdout",
     "output_type": "stream",
     "text": [
      "Error during sentiment analysis for batch starting at index 516: Error code: 429 - {'error': {'message': 'Rate limit reached for model `llama3-8b-8192` in organization `org_01j9m95282e27t3n1tb7c5d96z` on : Limit 500000, Used 500086, Requested 371. Please try again in 1m19.1014s. Visit https://console.groq.com/docs/rate-limits for more information.', 'type': '', 'code': 'rate_limit_exceeded'}}\n",
      "Error during sentiment analysis for batch starting at index 519: Error code: 429 - {'error': {'message': 'Rate limit reached for model `llama3-8b-8192` in organization `org_01j9m95282e27t3n1tb7c5d96z` on : Limit 500000, Used 500086, Requested 498. Please try again in 1m40.939s. Visit https://console.groq.com/docs/rate-limits for more information.', 'type': '', 'code': 'rate_limit_exceeded'}}\n"
     ]
    },
    {
     "name": "stderr",
     "output_type": "stream",
     "text": [
      " 53%|█████▎    | 176/334 [05:25<00:21,  7.28it/s]"
     ]
    },
    {
     "name": "stdout",
     "output_type": "stream",
     "text": [
      "Error during sentiment analysis for batch starting at index 522: Error code: 429 - {'error': {'message': 'Rate limit reached for model `llama3-8b-8192` in organization `org_01j9m95282e27t3n1tb7c5d96z` on : Limit 500000, Used 500085, Requested 475. Please try again in 1m36.7726s. Visit https://console.groq.com/docs/rate-limits for more information.', 'type': '', 'code': 'rate_limit_exceeded'}}\n",
      "Error during sentiment analysis for batch starting at index 525: Error code: 429 - {'error': {'message': 'Rate limit reached for model `llama3-8b-8192` in organization `org_01j9m95282e27t3n1tb7c5d96z` on : Limit 500000, Used 500084, Requested 463. Please try again in 1m34.582s. Visit https://console.groq.com/docs/rate-limits for more information.', 'type': '', 'code': 'rate_limit_exceeded'}}\n"
     ]
    },
    {
     "name": "stderr",
     "output_type": "stream",
     "text": [
      " 53%|█████▎    | 178/334 [05:25<00:20,  7.53it/s]"
     ]
    },
    {
     "name": "stdout",
     "output_type": "stream",
     "text": [
      "Error during sentiment analysis for batch starting at index 528: Error code: 429 - {'error': {'message': 'Rate limit reached for model `llama3-8b-8192` in organization `org_01j9m95282e27t3n1tb7c5d96z` on : Limit 500000, Used 500083, Requested 443. Please try again in 1m31.003s. Visit https://console.groq.com/docs/rate-limits for more information.', 'type': '', 'code': 'rate_limit_exceeded'}}\n",
      "Error during sentiment analysis for batch starting at index 531: Error code: 429 - {'error': {'message': 'Rate limit reached for model `llama3-8b-8192` in organization `org_01j9m95282e27t3n1tb7c5d96z` on : Limit 500000, Used 500082, Requested 592. Please try again in 1m56.6152s. Visit https://console.groq.com/docs/rate-limits for more information.', 'type': '', 'code': 'rate_limit_exceeded'}}\n"
     ]
    },
    {
     "name": "stderr",
     "output_type": "stream",
     "text": [
      " 54%|█████▍    | 180/334 [05:25<00:19,  7.94it/s]"
     ]
    },
    {
     "name": "stdout",
     "output_type": "stream",
     "text": [
      "Error during sentiment analysis for batch starting at index 534: Error code: 429 - {'error': {'message': 'Rate limit reached for model `llama3-8b-8192` in organization `org_01j9m95282e27t3n1tb7c5d96z` on : Limit 500000, Used 500082, Requested 416. Please try again in 1m26.0754s. Visit https://console.groq.com/docs/rate-limits for more information.', 'type': '', 'code': 'rate_limit_exceeded'}}\n",
      "Error during sentiment analysis for batch starting at index 537: Error code: 429 - {'error': {'message': 'Rate limit reached for model `llama3-8b-8192` in organization `org_01j9m95282e27t3n1tb7c5d96z` on : Limit 500000, Used 500081, Requested 509. Please try again in 1m42.0298s. Visit https://console.groq.com/docs/rate-limits for more information.', 'type': '', 'code': 'rate_limit_exceeded'}}\n"
     ]
    },
    {
     "name": "stderr",
     "output_type": "stream",
     "text": [
      " 54%|█████▍    | 182/334 [05:25<00:18,  8.26it/s]"
     ]
    },
    {
     "name": "stdout",
     "output_type": "stream",
     "text": [
      "Error during sentiment analysis for batch starting at index 540: Error code: 429 - {'error': {'message': 'Rate limit reached for model `llama3-8b-8192` in organization `org_01j9m95282e27t3n1tb7c5d96z` on : Limit 500000, Used 500080, Requested 449. Please try again in 1m31.5508s. Visit https://console.groq.com/docs/rate-limits for more information.', 'type': '', 'code': 'rate_limit_exceeded'}}\n",
      "Error during sentiment analysis for batch starting at index 543: Error code: 429 - {'error': {'message': 'Rate limit reached for model `llama3-8b-8192` in organization `org_01j9m95282e27t3n1tb7c5d96z` on : Limit 500000, Used 500080, Requested 575. Please try again in 1m53.2076s. Visit https://console.groq.com/docs/rate-limits for more information.', 'type': '', 'code': 'rate_limit_exceeded'}}\n"
     ]
    },
    {
     "name": "stderr",
     "output_type": "stream",
     "text": [
      " 55%|█████▌    | 184/334 [05:26<00:18,  8.16it/s]"
     ]
    },
    {
     "name": "stdout",
     "output_type": "stream",
     "text": [
      "Error during sentiment analysis for batch starting at index 546: Error code: 429 - {'error': {'message': 'Rate limit reached for model `llama3-8b-8192` in organization `org_01j9m95282e27t3n1tb7c5d96z` on : Limit 500000, Used 500079, Requested 695. Please try again in 2m13.832599999s. Visit https://console.groq.com/docs/rate-limits for more information.', 'type': '', 'code': 'rate_limit_exceeded'}}\n",
      "Error during sentiment analysis for batch starting at index 549: Error code: 429 - {'error': {'message': 'Rate limit reached for model `llama3-8b-8192` in organization `org_01j9m95282e27t3n1tb7c5d96z` on : Limit 500000, Used 500078, Requested 473. Please try again in 1m35.345s. Visit https://console.groq.com/docs/rate-limits for more information.', 'type': '', 'code': 'rate_limit_exceeded'}}\n"
     ]
    },
    {
     "name": "stderr",
     "output_type": "stream",
     "text": [
      " 56%|█████▌    | 186/334 [05:26<00:17,  8.46it/s]"
     ]
    },
    {
     "name": "stdout",
     "output_type": "stream",
     "text": [
      "Error during sentiment analysis for batch starting at index 552: Error code: 429 - {'error': {'message': 'Rate limit reached for model `llama3-8b-8192` in organization `org_01j9m95282e27t3n1tb7c5d96z` on : Limit 500000, Used 500078, Requested 416. Please try again in 1m25.3794s. Visit https://console.groq.com/docs/rate-limits for more information.', 'type': '', 'code': 'rate_limit_exceeded'}}\n",
      "Error during sentiment analysis for batch starting at index 555: Error code: 429 - {'error': {'message': 'Rate limit reached for model `llama3-8b-8192` in organization `org_01j9m95282e27t3n1tb7c5d96z` on : Limit 500000, Used 500077, Requested 425. Please try again in 1m26.8136s. Visit https://console.groq.com/docs/rate-limits for more information.', 'type': '', 'code': 'rate_limit_exceeded'}}\n"
     ]
    },
    {
     "name": "stderr",
     "output_type": "stream",
     "text": [
      " 56%|█████▋    | 188/334 [05:26<00:17,  8.51it/s]"
     ]
    },
    {
     "name": "stdout",
     "output_type": "stream",
     "text": [
      "Error during sentiment analysis for batch starting at index 558: Error code: 429 - {'error': {'message': 'Rate limit reached for model `llama3-8b-8192` in organization `org_01j9m95282e27t3n1tb7c5d96z` on : Limit 500000, Used 500076, Requested 470. Please try again in 1m34.465599999s. Visit https://console.groq.com/docs/rate-limits for more information.', 'type': '', 'code': 'rate_limit_exceeded'}}\n",
      "Error during sentiment analysis for batch starting at index 561: Error code: 429 - {'error': {'message': 'Rate limit reached for model `llama3-8b-8192` in organization `org_01j9m95282e27t3n1tb7c5d96z` on : Limit 500000, Used 500076, Requested 548. Please try again in 1m47.831s. Visit https://console.groq.com/docs/rate-limits for more information.', 'type': '', 'code': 'rate_limit_exceeded'}}\n"
     ]
    },
    {
     "name": "stderr",
     "output_type": "stream",
     "text": [
      " 57%|█████▋    | 190/334 [05:26<00:15,  9.03it/s]"
     ]
    },
    {
     "name": "stdout",
     "output_type": "stream",
     "text": [
      "Error during sentiment analysis for batch starting at index 564: Error code: 429 - {'error': {'message': 'Rate limit reached for model `llama3-8b-8192` in organization `org_01j9m95282e27t3n1tb7c5d96z` on : Limit 500000, Used 500075, Requested 631. Please try again in 2m2.0744s. Visit https://console.groq.com/docs/rate-limits for more information.', 'type': '', 'code': 'rate_limit_exceeded'}}\n",
      "Error during sentiment analysis for batch starting at index 567: Error code: 429 - {'error': {'message': 'Rate limit reached for model `llama3-8b-8192` in organization `org_01j9m95282e27t3n1tb7c5d96z` on : Limit 500000, Used 500074, Requested 517. Please try again in 1m42.2692s. Visit https://console.groq.com/docs/rate-limits for more information.', 'type': '', 'code': 'rate_limit_exceeded'}}\n"
     ]
    },
    {
     "name": "stderr",
     "output_type": "stream",
     "text": [
      " 57%|█████▋    | 192/334 [05:26<00:16,  8.54it/s]"
     ]
    },
    {
     "name": "stdout",
     "output_type": "stream",
     "text": [
      "Error during sentiment analysis for batch starting at index 570: Error code: 429 - {'error': {'message': 'Rate limit reached for model `llama3-8b-8192` in organization `org_01j9m95282e27t3n1tb7c5d96z` on : Limit 500000, Used 500074, Requested 538. Please try again in 1m45.772s. Visit https://console.groq.com/docs/rate-limits for more information.', 'type': '', 'code': 'rate_limit_exceeded'}}\n",
      "Error during sentiment analysis for batch starting at index 573: Error code: 429 - {'error': {'message': 'Rate limit reached for model `llama3-8b-8192` in organization `org_01j9m95282e27t3n1tb7c5d96z` on : Limit 500000, Used 500073, Requested 516. Please try again in 1m41.8464s. Visit https://console.groq.com/docs/rate-limits for more information.', 'type': '', 'code': 'rate_limit_exceeded'}}\n"
     ]
    },
    {
     "name": "stderr",
     "output_type": "stream",
     "text": [
      " 58%|█████▊    | 194/334 [05:27<00:16,  8.51it/s]"
     ]
    },
    {
     "name": "stdout",
     "output_type": "stream",
     "text": [
      "Error during sentiment analysis for batch starting at index 576: Error code: 429 - {'error': {'message': 'Rate limit reached for model `llama3-8b-8192` in organization `org_01j9m95282e27t3n1tb7c5d96z` on : Limit 500000, Used 500072, Requested 488. Please try again in 1m36.885s. Visit https://console.groq.com/docs/rate-limits for more information.', 'type': '', 'code': 'rate_limit_exceeded'}}\n",
      "Error during sentiment analysis for batch starting at index 579: Error code: 429 - {'error': {'message': 'Rate limit reached for model `llama3-8b-8192` in organization `org_01j9m95282e27t3n1tb7c5d96z` on : Limit 500000, Used 500072, Requested 539. Please try again in 1m45.587799999s. Visit https://console.groq.com/docs/rate-limits for more information.', 'type': '', 'code': 'rate_limit_exceeded'}}\n"
     ]
    },
    {
     "name": "stderr",
     "output_type": "stream",
     "text": [
      " 59%|█████▊    | 196/334 [05:27<00:16,  8.62it/s]"
     ]
    },
    {
     "name": "stdout",
     "output_type": "stream",
     "text": [
      "Error during sentiment analysis for batch starting at index 582: Error code: 429 - {'error': {'message': 'Rate limit reached for model `llama3-8b-8192` in organization `org_01j9m95282e27t3n1tb7c5d96z` on : Limit 500000, Used 500071, Requested 401. Please try again in 1m21.6274s. Visit https://console.groq.com/docs/rate-limits for more information.', 'type': '', 'code': 'rate_limit_exceeded'}}\n",
      "Error during sentiment analysis for batch starting at index 585: Error code: 429 - {'error': {'message': 'Rate limit reached for model `llama3-8b-8192` in organization `org_01j9m95282e27t3n1tb7c5d96z` on : Limit 500000, Used 500070, Requested 504. Please try again in 1m39.3188s. Visit https://console.groq.com/docs/rate-limits for more information.', 'type': '', 'code': 'rate_limit_exceeded'}}\n"
     ]
    },
    {
     "name": "stderr",
     "output_type": "stream",
     "text": [
      " 59%|█████▉    | 198/334 [05:27<00:16,  8.19it/s]"
     ]
    },
    {
     "name": "stdout",
     "output_type": "stream",
     "text": [
      "Error during sentiment analysis for batch starting at index 588: Error code: 429 - {'error': {'message': 'Rate limit reached for model `llama3-8b-8192` in organization `org_01j9m95282e27t3n1tb7c5d96z` on : Limit 500000, Used 500070, Requested 309. Please try again in 1m5.493799999s. Visit https://console.groq.com/docs/rate-limits for more information.', 'type': '', 'code': 'rate_limit_exceeded'}}\n",
      "Error during sentiment analysis for batch starting at index 591: Error code: 429 - {'error': {'message': 'Rate limit reached for model `llama3-8b-8192` in organization `org_01j9m95282e27t3n1tb7c5d96z` on : Limit 500000, Used 500069, Requested 509. Please try again in 1m39.9228s. Visit https://console.groq.com/docs/rate-limits for more information.', 'type': '', 'code': 'rate_limit_exceeded'}}\n"
     ]
    },
    {
     "name": "stderr",
     "output_type": "stream",
     "text": [
      " 60%|█████▉    | 200/334 [05:27<00:16,  8.11it/s]"
     ]
    },
    {
     "name": "stdout",
     "output_type": "stream",
     "text": [
      "Error during sentiment analysis for batch starting at index 594: Error code: 429 - {'error': {'message': 'Rate limit reached for model `llama3-8b-8192` in organization `org_01j9m95282e27t3n1tb7c5d96z` on : Limit 500000, Used 500068, Requested 489. Please try again in 1m36.344799999s. Visit https://console.groq.com/docs/rate-limits for more information.', 'type': '', 'code': 'rate_limit_exceeded'}}\n",
      "Error during sentiment analysis for batch starting at index 597: Error code: 429 - {'error': {'message': 'Rate limit reached for model `llama3-8b-8192` in organization `org_01j9m95282e27t3n1tb7c5d96z` on : Limit 500000, Used 500067, Requested 420. Please try again in 1m24.2906s. Visit https://console.groq.com/docs/rate-limits for more information.', 'type': '', 'code': 'rate_limit_exceeded'}}\n"
     ]
    },
    {
     "name": "stderr",
     "output_type": "stream",
     "text": [
      " 60%|██████    | 202/334 [05:28<00:15,  8.51it/s]"
     ]
    },
    {
     "name": "stdout",
     "output_type": "stream",
     "text": [
      "Error during sentiment analysis for batch starting at index 600: Error code: 429 - {'error': {'message': 'Rate limit reached for model `llama3-8b-8192` in organization `org_01j9m95282e27t3n1tb7c5d96z` on : Limit 500000, Used 500067, Requested 501. Please try again in 1m38.1784s. Visit https://console.groq.com/docs/rate-limits for more information.', 'type': '', 'code': 'rate_limit_exceeded'}}\n",
      "Error during sentiment analysis for batch starting at index 603: Error code: 429 - {'error': {'message': 'Rate limit reached for model `llama3-8b-8192` in organization `org_01j9m95282e27t3n1tb7c5d96z` on : Limit 500000, Used 500066, Requested 360. Please try again in 1m13.7016s. Visit https://console.groq.com/docs/rate-limits for more information.', 'type': '', 'code': 'rate_limit_exceeded'}}\n"
     ]
    },
    {
     "name": "stderr",
     "output_type": "stream",
     "text": [
      " 61%|██████    | 204/334 [05:28<00:15,  8.22it/s]"
     ]
    },
    {
     "name": "stdout",
     "output_type": "stream",
     "text": [
      "Error during sentiment analysis for batch starting at index 606: Error code: 429 - {'error': {'message': 'Rate limit reached for model `llama3-8b-8192` in organization `org_01j9m95282e27t3n1tb7c5d96z` on : Limit 500000, Used 500065, Requested 349. Please try again in 1m11.6648s. Visit https://console.groq.com/docs/rate-limits for more information.', 'type': '', 'code': 'rate_limit_exceeded'}}\n",
      "Error during sentiment analysis for batch starting at index 609: Error code: 429 - {'error': {'message': 'Rate limit reached for model `llama3-8b-8192` in organization `org_01j9m95282e27t3n1tb7c5d96z` on : Limit 500000, Used 500065, Requested 546. Please try again in 1m45.5854s. Visit https://console.groq.com/docs/rate-limits for more information.', 'type': '', 'code': 'rate_limit_exceeded'}}\n"
     ]
    },
    {
     "name": "stderr",
     "output_type": "stream",
     "text": [
      " 62%|██████▏   | 206/334 [05:28<00:15,  8.09it/s]"
     ]
    },
    {
     "name": "stdout",
     "output_type": "stream",
     "text": [
      "Error during sentiment analysis for batch starting at index 612: Error code: 429 - {'error': {'message': 'Rate limit reached for model `llama3-8b-8192` in organization `org_01j9m95282e27t3n1tb7c5d96z` on : Limit 500000, Used 500064, Requested 472. Please try again in 1m32.6942s. Visit https://console.groq.com/docs/rate-limits for more information.', 'type': '', 'code': 'rate_limit_exceeded'}}\n",
      "Error during sentiment analysis for batch starting at index 615: Error code: 429 - {'error': {'message': 'Rate limit reached for model `llama3-8b-8192` in organization `org_01j9m95282e27t3n1tb7c5d96z` on : Limit 500000, Used 500063, Requested 662. Please try again in 2m5.3842s. Visit https://console.groq.com/docs/rate-limits for more information.', 'type': '', 'code': 'rate_limit_exceeded'}}\n"
     ]
    },
    {
     "name": "stderr",
     "output_type": "stream",
     "text": [
      " 62%|██████▏   | 207/334 [05:28<00:14,  8.56it/s]"
     ]
    },
    {
     "name": "stdout",
     "output_type": "stream",
     "text": [
      "Error during sentiment analysis for batch starting at index 618: Error code: 429 - {'error': {'message': 'Rate limit reached for model `llama3-8b-8192` in organization `org_01j9m95282e27t3n1tb7c5d96z` on : Limit 500000, Used 500063, Requested 411. Please try again in 1m21.9104s. Visit https://console.groq.com/docs/rate-limits for more information.', 'type': '', 'code': 'rate_limit_exceeded'}}\n",
      "Error during sentiment analysis for batch starting at index 621: Error code: 429 - {'error': {'message': 'Rate limit reached for model `llama3-8b-8192` in organization `org_01j9m95282e27t3n1tb7c5d96z` on : Limit 500000, Used 500062, Requested 391. Please try again in 1m18.3564s. Visit https://console.groq.com/docs/rate-limits for more information.', 'type': '', 'code': 'rate_limit_exceeded'}}\n"
     ]
    },
    {
     "name": "stderr",
     "output_type": "stream",
     "text": [
      " 63%|██████▎   | 210/334 [05:29<00:13,  9.12it/s]"
     ]
    },
    {
     "name": "stdout",
     "output_type": "stream",
     "text": [
      "Error during sentiment analysis for batch starting at index 624: Error code: 429 - {'error': {'message': 'Rate limit reached for model `llama3-8b-8192` in organization `org_01j9m95282e27t3n1tb7c5d96z` on : Limit 500000, Used 500061, Requested 485. Please try again in 1m34.493599999s. Visit https://console.groq.com/docs/rate-limits for more information.', 'type': '', 'code': 'rate_limit_exceeded'}}\n",
      "Error during sentiment analysis for batch starting at index 627: Error code: 429 - {'error': {'message': 'Rate limit reached for model `llama3-8b-8192` in organization `org_01j9m95282e27t3n1tb7c5d96z` on : Limit 500000, Used 500061, Requested 466. Please try again in 1m31.1044s. Visit https://console.groq.com/docs/rate-limits for more information.', 'type': '', 'code': 'rate_limit_exceeded'}}\n"
     ]
    },
    {
     "name": "stderr",
     "output_type": "stream",
     "text": [
      " 63%|██████▎   | 212/334 [05:29<00:13,  8.72it/s]"
     ]
    },
    {
     "name": "stdout",
     "output_type": "stream",
     "text": [
      "Error during sentiment analysis for batch starting at index 630: Error code: 429 - {'error': {'message': 'Rate limit reached for model `llama3-8b-8192` in organization `org_01j9m95282e27t3n1tb7c5d96z` on : Limit 500000, Used 500060, Requested 672. Please try again in 2m6.5862s. Visit https://console.groq.com/docs/rate-limits for more information.', 'type': '', 'code': 'rate_limit_exceeded'}}\n",
      "Error during sentiment analysis for batch starting at index 633: Error code: 429 - {'error': {'message': 'Rate limit reached for model `llama3-8b-8192` in organization `org_01j9m95282e27t3n1tb7c5d96z` on : Limit 500000, Used 500059, Requested 604. Please try again in 1m54.712799999s. Visit https://console.groq.com/docs/rate-limits for more information.', 'type': '', 'code': 'rate_limit_exceeded'}}\n"
     ]
    },
    {
     "name": "stderr",
     "output_type": "stream",
     "text": [
      " 64%|██████▍   | 214/334 [05:29<00:14,  8.20it/s]"
     ]
    },
    {
     "name": "stdout",
     "output_type": "stream",
     "text": [
      "Error during sentiment analysis for batch starting at index 636: Error code: 429 - {'error': {'message': 'Rate limit reached for model `llama3-8b-8192` in organization `org_01j9m95282e27t3n1tb7c5d96z` on : Limit 500000, Used 500058, Requested 638. Please try again in 2m0.432s. Visit https://console.groq.com/docs/rate-limits for more information.', 'type': '', 'code': 'rate_limit_exceeded'}}\n",
      "Error during sentiment analysis for batch starting at index 639: Error code: 429 - {'error': {'message': 'Rate limit reached for model `llama3-8b-8192` in organization `org_01j9m95282e27t3n1tb7c5d96z` on : Limit 500000, Used 500058, Requested 660. Please try again in 2m4.1216s. Visit https://console.groq.com/docs/rate-limits for more information.', 'type': '', 'code': 'rate_limit_exceeded'}}\n"
     ]
    },
    {
     "name": "stderr",
     "output_type": "stream",
     "text": [
      " 65%|██████▍   | 216/334 [05:29<00:14,  7.89it/s]"
     ]
    },
    {
     "name": "stdout",
     "output_type": "stream",
     "text": [
      "Error during sentiment analysis for batch starting at index 642: Error code: 429 - {'error': {'message': 'Rate limit reached for model `llama3-8b-8192` in organization `org_01j9m95282e27t3n1tb7c5d96z` on : Limit 500000, Used 500057, Requested 421. Please try again in 1m22.7184s. Visit https://console.groq.com/docs/rate-limits for more information.', 'type': '', 'code': 'rate_limit_exceeded'}}\n",
      "Error during sentiment analysis for batch starting at index 645: Error code: 429 - {'error': {'message': 'Rate limit reached for model `llama3-8b-8192` in organization `org_01j9m95282e27t3n1tb7c5d96z` on : Limit 500000, Used 500056, Requested 615. Please try again in 1m56.089599999s. Visit https://console.groq.com/docs/rate-limits for more information.', 'type': '', 'code': 'rate_limit_exceeded'}}\n"
     ]
    },
    {
     "name": "stderr",
     "output_type": "stream",
     "text": [
      " 65%|██████▌   | 218/334 [05:30<00:14,  7.76it/s]"
     ]
    },
    {
     "name": "stdout",
     "output_type": "stream",
     "text": [
      "Error during sentiment analysis for batch starting at index 648: Error code: 429 - {'error': {'message': 'Rate limit reached for model `llama3-8b-8192` in organization `org_01j9m95282e27t3n1tb7c5d96z` on : Limit 500000, Used 500056, Requested 476. Please try again in 1m31.935399999s. Visit https://console.groq.com/docs/rate-limits for more information.', 'type': '', 'code': 'rate_limit_exceeded'}}\n",
      "Error during sentiment analysis for batch starting at index 651: Error code: 429 - {'error': {'message': 'Rate limit reached for model `llama3-8b-8192` in organization `org_01j9m95282e27t3n1tb7c5d96z` on : Limit 500000, Used 500055, Requested 417. Please try again in 1m21.6152s. Visit https://console.groq.com/docs/rate-limits for more information.', 'type': '', 'code': 'rate_limit_exceeded'}}\n"
     ]
    },
    {
     "name": "stderr",
     "output_type": "stream",
     "text": [
      " 66%|██████▌   | 220/334 [05:30<00:13,  8.25it/s]"
     ]
    },
    {
     "name": "stdout",
     "output_type": "stream",
     "text": [
      "Error during sentiment analysis for batch starting at index 654: Error code: 429 - {'error': {'message': 'Rate limit reached for model `llama3-8b-8192` in organization `org_01j9m95282e27t3n1tb7c5d96z` on : Limit 500000, Used 500054, Requested 438. Please try again in 1m25.127s. Visit https://console.groq.com/docs/rate-limits for more information.', 'type': '', 'code': 'rate_limit_exceeded'}}\n",
      "Error during sentiment analysis for batch starting at index 657: Error code: 429 - {'error': {'message': 'Rate limit reached for model `llama3-8b-8192` in organization `org_01j9m95282e27t3n1tb7c5d96z` on : Limit 500000, Used 500054, Requested 507. Please try again in 1m36.945199999s. Visit https://console.groq.com/docs/rate-limits for more information.', 'type': '', 'code': 'rate_limit_exceeded'}}\n"
     ]
    },
    {
     "name": "stderr",
     "output_type": "stream",
     "text": [
      " 66%|██████▌   | 221/334 [05:30<00:13,  8.39it/s]"
     ]
    },
    {
     "name": "stdout",
     "output_type": "stream",
     "text": [
      "Error during sentiment analysis for batch starting at index 660: Error code: 429 - {'error': {'message': 'Rate limit reached for model `llama3-8b-8192` in organization `org_01j9m95282e27t3n1tb7c5d96z` on : Limit 500000, Used 500053, Requested 463. Please try again in 1m29.217999999s. Visit https://console.groq.com/docs/rate-limits for more information.', 'type': '', 'code': 'rate_limit_exceeded'}}\n"
     ]
    },
    {
     "name": "stderr",
     "output_type": "stream",
     "text": [
      " 67%|██████▋   | 223/334 [05:30<00:15,  6.95it/s]"
     ]
    },
    {
     "name": "stdout",
     "output_type": "stream",
     "text": [
      "Error during sentiment analysis for batch starting at index 663: Error code: 429 - {'error': {'message': 'Rate limit reached for model `llama3-8b-8192` in organization `org_01j9m95282e27t3n1tb7c5d96z` on : Limit 500000, Used 500052, Requested 540. Please try again in 1m42.393599999s. Visit https://console.groq.com/docs/rate-limits for more information.', 'type': '', 'code': 'rate_limit_exceeded'}}\n",
      "Error during sentiment analysis for batch starting at index 666: Error code: 429 - {'error': {'message': 'Rate limit reached for model `llama3-8b-8192` in organization `org_01j9m95282e27t3n1tb7c5d96z` on : Limit 500000, Used 500051, Requested 310. Please try again in 1m2.4286s. Visit https://console.groq.com/docs/rate-limits for more information.', 'type': '', 'code': 'rate_limit_exceeded'}}\n"
     ]
    },
    {
     "name": "stderr",
     "output_type": "stream",
     "text": [
      " 67%|██████▋   | 224/334 [05:30<00:16,  6.76it/s]"
     ]
    },
    {
     "name": "stdout",
     "output_type": "stream",
     "text": [
      "Error during sentiment analysis for batch starting at index 669: Error code: 429 - {'error': {'message': 'Rate limit reached for model `llama3-8b-8192` in organization `org_01j9m95282e27t3n1tb7c5d96z` on : Limit 500000, Used 500050, Requested 496. Please try again in 1m34.412399999s. Visit https://console.groq.com/docs/rate-limits for more information.', 'type': '', 'code': 'rate_limit_exceeded'}}\n"
     ]
    },
    {
     "name": "stderr",
     "output_type": "stream",
     "text": [
      " 68%|██████▊   | 226/334 [05:31<00:21,  4.94it/s]"
     ]
    },
    {
     "name": "stdout",
     "output_type": "stream",
     "text": [
      "Error during sentiment analysis for batch starting at index 672: Error code: 429 - {'error': {'message': 'Rate limit reached for model `llama3-8b-8192` in organization `org_01j9m95282e27t3n1tb7c5d96z` on : Limit 500000, Used 500048, Requested 725. Please try again in 2m13.5846s. Visit https://console.groq.com/docs/rate-limits for more information.', 'type': '', 'code': 'rate_limit_exceeded'}}\n",
      "Error during sentiment analysis for batch starting at index 675: Error code: 429 - {'error': {'message': 'Rate limit reached for model `llama3-8b-8192` in organization `org_01j9m95282e27t3n1tb7c5d96z` on : Limit 500000, Used 500047, Requested 400. Please try again in 1m17.2786s. Visit https://console.groq.com/docs/rate-limits for more information.', 'type': '', 'code': 'rate_limit_exceeded'}}\n"
     ]
    },
    {
     "name": "stderr",
     "output_type": "stream",
     "text": [
      " 68%|██████▊   | 228/334 [05:31<00:16,  6.30it/s]"
     ]
    },
    {
     "name": "stdout",
     "output_type": "stream",
     "text": [
      "Error during sentiment analysis for batch starting at index 678: Error code: 429 - {'error': {'message': 'Rate limit reached for model `llama3-8b-8192` in organization `org_01j9m95282e27t3n1tb7c5d96z` on : Limit 500000, Used 500046, Requested 454. Please try again in 1m26.486799999s. Visit https://console.groq.com/docs/rate-limits for more information.', 'type': '', 'code': 'rate_limit_exceeded'}}\n",
      "Error during sentiment analysis for batch starting at index 681: Error code: 429 - {'error': {'message': 'Rate limit reached for model `llama3-8b-8192` in organization `org_01j9m95282e27t3n1tb7c5d96z` on : Limit 500000, Used 500045, Requested 453. Please try again in 1m26.193s. Visit https://console.groq.com/docs/rate-limits for more information.', 'type': '', 'code': 'rate_limit_exceeded'}}\n"
     ]
    },
    {
     "name": "stderr",
     "output_type": "stream",
     "text": [
      " 69%|██████▉   | 230/334 [05:31<00:14,  7.00it/s]"
     ]
    },
    {
     "name": "stdout",
     "output_type": "stream",
     "text": [
      "Error during sentiment analysis for batch starting at index 684: Error code: 429 - {'error': {'message': 'Rate limit reached for model `llama3-8b-8192` in organization `org_01j9m95282e27t3n1tb7c5d96z` on : Limit 500000, Used 500044, Requested 355. Please try again in 1m9.104599999s. Visit https://console.groq.com/docs/rate-limits for more information.', 'type': '', 'code': 'rate_limit_exceeded'}}\n",
      "Error during sentiment analysis for batch starting at index 687: Error code: 429 - {'error': {'message': 'Rate limit reached for model `llama3-8b-8192` in organization `org_01j9m95282e27t3n1tb7c5d96z` on : Limit 500000, Used 500044, Requested 567. Please try again in 1m45.6282s. Visit https://console.groq.com/docs/rate-limits for more information.', 'type': '', 'code': 'rate_limit_exceeded'}}\n"
     ]
    },
    {
     "name": "stderr",
     "output_type": "stream",
     "text": [
      " 69%|██████▉   | 232/334 [05:32<00:12,  7.90it/s]"
     ]
    },
    {
     "name": "stdout",
     "output_type": "stream",
     "text": [
      "Error during sentiment analysis for batch starting at index 690: Error code: 429 - {'error': {'message': 'Rate limit reached for model `llama3-8b-8192` in organization `org_01j9m95282e27t3n1tb7c5d96z` on : Limit 500000, Used 500043, Requested 542. Please try again in 1m41.1912s. Visit https://console.groq.com/docs/rate-limits for more information.', 'type': '', 'code': 'rate_limit_exceeded'}}\n",
      "Error during sentiment analysis for batch starting at index 693: Error code: 429 - {'error': {'message': 'Rate limit reached for model `llama3-8b-8192` in organization `org_01j9m95282e27t3n1tb7c5d96z` on : Limit 500000, Used 500042, Requested 556. Please try again in 1m43.5044s. Visit https://console.groq.com/docs/rate-limits for more information.', 'type': '', 'code': 'rate_limit_exceeded'}}\n"
     ]
    },
    {
     "name": "stderr",
     "output_type": "stream",
     "text": [
      " 70%|███████   | 234/334 [05:32<00:12,  8.13it/s]"
     ]
    },
    {
     "name": "stdout",
     "output_type": "stream",
     "text": [
      "Error during sentiment analysis for batch starting at index 696: Error code: 429 - {'error': {'message': 'Rate limit reached for model `llama3-8b-8192` in organization `org_01j9m95282e27t3n1tb7c5d96z` on : Limit 500000, Used 500042, Requested 547. Please try again in 1m41.839199999s. Visit https://console.groq.com/docs/rate-limits for more information.', 'type': '', 'code': 'rate_limit_exceeded'}}\n",
      "Error during sentiment analysis for batch starting at index 699: Error code: 429 - {'error': {'message': 'Rate limit reached for model `llama3-8b-8192` in organization `org_01j9m95282e27t3n1tb7c5d96z` on : Limit 500000, Used 500041, Requested 493. Please try again in 1m32.391s. Visit https://console.groq.com/docs/rate-limits for more information.', 'type': '', 'code': 'rate_limit_exceeded'}}\n"
     ]
    },
    {
     "name": "stderr",
     "output_type": "stream",
     "text": [
      " 71%|███████   | 236/334 [05:32<00:11,  8.53it/s]"
     ]
    },
    {
     "name": "stdout",
     "output_type": "stream",
     "text": [
      "Error during sentiment analysis for batch starting at index 702: Error code: 429 - {'error': {'message': 'Rate limit reached for model `llama3-8b-8192` in organization `org_01j9m95282e27t3n1tb7c5d96z` on : Limit 500000, Used 500040, Requested 638. Please try again in 1m57.326s. Visit https://console.groq.com/docs/rate-limits for more information.', 'type': '', 'code': 'rate_limit_exceeded'}}\n",
      "Error during sentiment analysis for batch starting at index 705: Error code: 429 - {'error': {'message': 'Rate limit reached for model `llama3-8b-8192` in organization `org_01j9m95282e27t3n1tb7c5d96z` on : Limit 500000, Used 500040, Requested 531. Please try again in 1m38.7224s. Visit https://console.groq.com/docs/rate-limits for more information.', 'type': '', 'code': 'rate_limit_exceeded'}}\n"
     ]
    },
    {
     "name": "stderr",
     "output_type": "stream",
     "text": [
      " 71%|███████▏  | 238/334 [05:32<00:13,  7.36it/s]"
     ]
    },
    {
     "name": "stdout",
     "output_type": "stream",
     "text": [
      "Error during sentiment analysis for batch starting at index 708: Error code: 429 - {'error': {'message': 'Rate limit reached for model `llama3-8b-8192` in organization `org_01j9m95282e27t3n1tb7c5d96z` on : Limit 500000, Used 500039, Requested 378. Please try again in 1m12.158999999s. Visit https://console.groq.com/docs/rate-limits for more information.', 'type': '', 'code': 'rate_limit_exceeded'}}\n",
      "Error during sentiment analysis for batch starting at index 711: Error code: 429 - {'error': {'message': 'Rate limit reached for model `llama3-8b-8192` in organization `org_01j9m95282e27t3n1tb7c5d96z` on : Limit 500000, Used 500038, Requested 384. Please try again in 1m13.0178s. Visit https://console.groq.com/docs/rate-limits for more information.', 'type': '', 'code': 'rate_limit_exceeded'}}\n"
     ]
    },
    {
     "name": "stderr",
     "output_type": "stream",
     "text": [
      " 72%|███████▏  | 240/334 [05:33<00:12,  7.82it/s]"
     ]
    },
    {
     "name": "stdout",
     "output_type": "stream",
     "text": [
      "Error during sentiment analysis for batch starting at index 714: Error code: 429 - {'error': {'message': 'Rate limit reached for model `llama3-8b-8192` in organization `org_01j9m95282e27t3n1tb7c5d96z` on : Limit 500000, Used 500037, Requested 486. Please try again in 1m30.5304s. Visit https://console.groq.com/docs/rate-limits for more information.', 'type': '', 'code': 'rate_limit_exceeded'}}\n",
      "Error during sentiment analysis for batch starting at index 717: Error code: 429 - {'error': {'message': 'Rate limit reached for model `llama3-8b-8192` in organization `org_01j9m95282e27t3n1tb7c5d96z` on : Limit 500000, Used 500037, Requested 375. Please try again in 1m11.2166s. Visit https://console.groq.com/docs/rate-limits for more information.', 'type': '', 'code': 'rate_limit_exceeded'}}\n"
     ]
    },
    {
     "name": "stderr",
     "output_type": "stream",
     "text": [
      " 72%|███████▏  | 242/334 [05:33<00:11,  7.73it/s]"
     ]
    },
    {
     "name": "stdout",
     "output_type": "stream",
     "text": [
      "Error during sentiment analysis for batch starting at index 720: Error code: 429 - {'error': {'message': 'Rate limit reached for model `llama3-8b-8192` in organization `org_01j9m95282e27t3n1tb7c5d96z` on : Limit 500000, Used 500036, Requested 576. Please try again in 1m45.798399999s. Visit https://console.groq.com/docs/rate-limits for more information.', 'type': '', 'code': 'rate_limit_exceeded'}}\n",
      "Error during sentiment analysis for batch starting at index 723: Error code: 429 - {'error': {'message': 'Rate limit reached for model `llama3-8b-8192` in organization `org_01j9m95282e27t3n1tb7c5d96z` on : Limit 500000, Used 500035, Requested 557. Please try again in 1m42.398199999s. Visit https://console.groq.com/docs/rate-limits for more information.', 'type': '', 'code': 'rate_limit_exceeded'}}\n"
     ]
    },
    {
     "name": "stderr",
     "output_type": "stream",
     "text": [
      " 73%|███████▎  | 244/334 [05:33<00:11,  8.05it/s]"
     ]
    },
    {
     "name": "stdout",
     "output_type": "stream",
     "text": [
      "Error during sentiment analysis for batch starting at index 726: Error code: 429 - {'error': {'message': 'Rate limit reached for model `llama3-8b-8192` in organization `org_01j9m95282e27t3n1tb7c5d96z` on : Limit 500000, Used 500034, Requested 460. Please try again in 1m25.5276s. Visit https://console.groq.com/docs/rate-limits for more information.', 'type': '', 'code': 'rate_limit_exceeded'}}\n",
      "Error during sentiment analysis for batch starting at index 729: Error code: 429 - {'error': {'message': 'Rate limit reached for model `llama3-8b-8192` in organization `org_01j9m95282e27t3n1tb7c5d96z` on : Limit 500000, Used 500034, Requested 550. Please try again in 1m40.9526s. Visit https://console.groq.com/docs/rate-limits for more information.', 'type': '', 'code': 'rate_limit_exceeded'}}\n"
     ]
    },
    {
     "name": "stderr",
     "output_type": "stream",
     "text": [
      " 74%|███████▎  | 246/334 [05:33<00:10,  8.49it/s]"
     ]
    },
    {
     "name": "stdout",
     "output_type": "stream",
     "text": [
      "Error during sentiment analysis for batch starting at index 732: Error code: 429 - {'error': {'message': 'Rate limit reached for model `llama3-8b-8192` in organization `org_01j9m95282e27t3n1tb7c5d96z` on : Limit 500000, Used 500033, Requested 405. Please try again in 1m15.7776s. Visit https://console.groq.com/docs/rate-limits for more information.', 'type': '', 'code': 'rate_limit_exceeded'}}\n",
      "Error during sentiment analysis for batch starting at index 735: Error code: 429 - {'error': {'message': 'Rate limit reached for model `llama3-8b-8192` in organization `org_01j9m95282e27t3n1tb7c5d96z` on : Limit 500000, Used 500032, Requested 451. Please try again in 1m23.6254s. Visit https://console.groq.com/docs/rate-limits for more information.', 'type': '', 'code': 'rate_limit_exceeded'}}\n"
     ]
    },
    {
     "name": "stderr",
     "output_type": "stream",
     "text": [
      " 74%|███████▍  | 248/334 [05:34<00:09,  8.96it/s]"
     ]
    },
    {
     "name": "stdout",
     "output_type": "stream",
     "text": [
      "Error during sentiment analysis for batch starting at index 738: Error code: 429 - {'error': {'message': 'Rate limit reached for model `llama3-8b-8192` in organization `org_01j9m95282e27t3n1tb7c5d96z` on : Limit 500000, Used 500032, Requested 584. Please try again in 1m46.4948s. Visit https://console.groq.com/docs/rate-limits for more information.', 'type': '', 'code': 'rate_limit_exceeded'}}\n",
      "Error during sentiment analysis for batch starting at index 741: Error code: 429 - {'error': {'message': 'Rate limit reached for model `llama3-8b-8192` in organization `org_01j9m95282e27t3n1tb7c5d96z` on : Limit 500000, Used 500031, Requested 403. Please try again in 1m15.114s. Visit https://console.groq.com/docs/rate-limits for more information.', 'type': '', 'code': 'rate_limit_exceeded'}}\n"
     ]
    },
    {
     "name": "stderr",
     "output_type": "stream",
     "text": [
      " 75%|███████▍  | 250/334 [05:34<00:09,  9.22it/s]"
     ]
    },
    {
     "name": "stdout",
     "output_type": "stream",
     "text": [
      "Error during sentiment analysis for batch starting at index 744: Error code: 429 - {'error': {'message': 'Rate limit reached for model `llama3-8b-8192` in organization `org_01j9m95282e27t3n1tb7c5d96z` on : Limit 500000, Used 500031, Requested 335. Please try again in 1m3.258599999s. Visit https://console.groq.com/docs/rate-limits for more information.', 'type': '', 'code': 'rate_limit_exceeded'}}\n",
      "Error during sentiment analysis for batch starting at index 747: Error code: 429 - {'error': {'message': 'Rate limit reached for model `llama3-8b-8192` in organization `org_01j9m95282e27t3n1tb7c5d96z` on : Limit 500000, Used 500030, Requested 547. Please try again in 1m39.7862s. Visit https://console.groq.com/docs/rate-limits for more information.', 'type': '', 'code': 'rate_limit_exceeded'}}\n"
     ]
    },
    {
     "name": "stderr",
     "output_type": "stream",
     "text": [
      " 75%|███████▌  | 252/334 [05:34<00:09,  8.26it/s]"
     ]
    },
    {
     "name": "stdout",
     "output_type": "stream",
     "text": [
      "Error during sentiment analysis for batch starting at index 750: Error code: 429 - {'error': {'message': 'Rate limit reached for model `llama3-8b-8192` in organization `org_01j9m95282e27t3n1tb7c5d96z` on : Limit 500000, Used 500029, Requested 408. Please try again in 1m15.643999999s. Visit https://console.groq.com/docs/rate-limits for more information.', 'type': '', 'code': 'rate_limit_exceeded'}}\n",
      "Error during sentiment analysis for batch starting at index 753: Error code: 429 - {'error': {'message': 'Rate limit reached for model `llama3-8b-8192` in organization `org_01j9m95282e27t3n1tb7c5d96z` on : Limit 500000, Used 500028, Requested 438. Please try again in 1m20.69s. Visit https://console.groq.com/docs/rate-limits for more information.', 'type': '', 'code': 'rate_limit_exceeded'}}\n"
     ]
    },
    {
     "name": "stderr",
     "output_type": "stream",
     "text": [
      " 76%|███████▌  | 254/334 [05:34<00:09,  8.45it/s]"
     ]
    },
    {
     "name": "stdout",
     "output_type": "stream",
     "text": [
      "Error during sentiment analysis for batch starting at index 756: Error code: 429 - {'error': {'message': 'Rate limit reached for model `llama3-8b-8192` in organization `org_01j9m95282e27t3n1tb7c5d96z` on : Limit 500000, Used 500028, Requested 650. Please try again in 1m57.192599999s. Visit https://console.groq.com/docs/rate-limits for more information.', 'type': '', 'code': 'rate_limit_exceeded'}}\n",
      "Error during sentiment analysis for batch starting at index 759: Error code: 429 - {'error': {'message': 'Rate limit reached for model `llama3-8b-8192` in organization `org_01j9m95282e27t3n1tb7c5d96z` on : Limit 500000, Used 500027, Requested 434. Please try again in 1m19.7628s. Visit https://console.groq.com/docs/rate-limits for more information.', 'type': '', 'code': 'rate_limit_exceeded'}}\n"
     ]
    },
    {
     "name": "stderr",
     "output_type": "stream",
     "text": [
      " 77%|███████▋  | 256/334 [05:35<00:08,  8.78it/s]"
     ]
    },
    {
     "name": "stdout",
     "output_type": "stream",
     "text": [
      "Error during sentiment analysis for batch starting at index 762: Error code: 429 - {'error': {'message': 'Rate limit reached for model `llama3-8b-8192` in organization `org_01j9m95282e27t3n1tb7c5d96z` on : Limit 500000, Used 500026, Requested 595. Please try again in 1m47.4786s. Visit https://console.groq.com/docs/rate-limits for more information.', 'type': '', 'code': 'rate_limit_exceeded'}}\n",
      "Error during sentiment analysis for batch starting at index 765: Error code: 429 - {'error': {'message': 'Rate limit reached for model `llama3-8b-8192` in organization `org_01j9m95282e27t3n1tb7c5d96z` on : Limit 500000, Used 500026, Requested 401. Please try again in 1m13.8474s. Visit https://console.groq.com/docs/rate-limits for more information.', 'type': '', 'code': 'rate_limit_exceeded'}}\n"
     ]
    },
    {
     "name": "stderr",
     "output_type": "stream",
     "text": [
      " 77%|███████▋  | 258/334 [05:35<00:08,  8.55it/s]"
     ]
    },
    {
     "name": "stdout",
     "output_type": "stream",
     "text": [
      "Error during sentiment analysis for batch starting at index 768: Error code: 429 - {'error': {'message': 'Rate limit reached for model `llama3-8b-8192` in organization `org_01j9m95282e27t3n1tb7c5d96z` on : Limit 500000, Used 500025, Requested 390. Please try again in 1m11.8346s. Visit https://console.groq.com/docs/rate-limits for more information.', 'type': '', 'code': 'rate_limit_exceeded'}}\n",
      "Error during sentiment analysis for batch starting at index 771: Error code: 429 - {'error': {'message': 'Rate limit reached for model `llama3-8b-8192` in organization `org_01j9m95282e27t3n1tb7c5d96z` on : Limit 500000, Used 500024, Requested 528. Please try again in 1m35.555s. Visit https://console.groq.com/docs/rate-limits for more information.', 'type': '', 'code': 'rate_limit_exceeded'}}\n"
     ]
    },
    {
     "name": "stderr",
     "output_type": "stream",
     "text": [
      " 78%|███████▊  | 260/334 [05:35<00:08,  8.52it/s]"
     ]
    },
    {
     "name": "stdout",
     "output_type": "stream",
     "text": [
      "Error during sentiment analysis for batch starting at index 774: Error code: 429 - {'error': {'message': 'Rate limit reached for model `llama3-8b-8192` in organization `org_01j9m95282e27t3n1tb7c5d96z` on : Limit 500000, Used 500024, Requested 538. Please try again in 1m37.140999999s. Visit https://console.groq.com/docs/rate-limits for more information.', 'type': '', 'code': 'rate_limit_exceeded'}}\n",
      "Error during sentiment analysis for batch starting at index 777: Error code: 429 - {'error': {'message': 'Rate limit reached for model `llama3-8b-8192` in organization `org_01j9m95282e27t3n1tb7c5d96z` on : Limit 500000, Used 500023, Requested 401. Please try again in 1m13.3604s. Visit https://console.groq.com/docs/rate-limits for more information.', 'type': '', 'code': 'rate_limit_exceeded'}}\n"
     ]
    },
    {
     "name": "stderr",
     "output_type": "stream",
     "text": [
      " 78%|███████▊  | 262/334 [05:35<00:08,  8.51it/s]"
     ]
    },
    {
     "name": "stdout",
     "output_type": "stream",
     "text": [
      "Error during sentiment analysis for batch starting at index 780: Error code: 429 - {'error': {'message': 'Rate limit reached for model `llama3-8b-8192` in organization `org_01j9m95282e27t3n1tb7c5d96z` on : Limit 500000, Used 500022, Requested 455. Please try again in 1m22.5686s. Visit https://console.groq.com/docs/rate-limits for more information.', 'type': '', 'code': 'rate_limit_exceeded'}}\n",
      "Error during sentiment analysis for batch starting at index 783: Error code: 429 - {'error': {'message': 'Rate limit reached for model `llama3-8b-8192` in organization `org_01j9m95282e27t3n1tb7c5d96z` on : Limit 500000, Used 500022, Requested 483. Please try again in 1m27.297999999s. Visit https://console.groq.com/docs/rate-limits for more information.', 'type': '', 'code': 'rate_limit_exceeded'}}\n"
     ]
    },
    {
     "name": "stderr",
     "output_type": "stream",
     "text": [
      " 79%|███████▉  | 264/334 [05:36<00:07,  8.91it/s]"
     ]
    },
    {
     "name": "stdout",
     "output_type": "stream",
     "text": [
      "Error during sentiment analysis for batch starting at index 786: Error code: 429 - {'error': {'message': 'Rate limit reached for model `llama3-8b-8192` in organization `org_01j9m95282e27t3n1tb7c5d96z` on : Limit 500000, Used 500021, Requested 398. Please try again in 1m12.503s. Visit https://console.groq.com/docs/rate-limits for more information.', 'type': '', 'code': 'rate_limit_exceeded'}}\n",
      "Error during sentiment analysis for batch starting at index 789: Error code: 429 - {'error': {'message': 'Rate limit reached for model `llama3-8b-8192` in organization `org_01j9m95282e27t3n1tb7c5d96z` on : Limit 500000, Used 500020, Requested 419. Please try again in 1m16.0198s. Visit https://console.groq.com/docs/rate-limits for more information.', 'type': '', 'code': 'rate_limit_exceeded'}}\n"
     ]
    },
    {
     "name": "stderr",
     "output_type": "stream",
     "text": [
      " 80%|███████▉  | 266/334 [05:36<00:07,  8.81it/s]"
     ]
    },
    {
     "name": "stdout",
     "output_type": "stream",
     "text": [
      "Error during sentiment analysis for batch starting at index 792: Error code: 429 - {'error': {'message': 'Rate limit reached for model `llama3-8b-8192` in organization `org_01j9m95282e27t3n1tb7c5d96z` on : Limit 500000, Used 500020, Requested 461. Please try again in 1m23.1614s. Visit https://console.groq.com/docs/rate-limits for more information.', 'type': '', 'code': 'rate_limit_exceeded'}}\n",
      "Error during sentiment analysis for batch starting at index 795: Error code: 429 - {'error': {'message': 'Rate limit reached for model `llama3-8b-8192` in organization `org_01j9m95282e27t3n1tb7c5d96z` on : Limit 500000, Used 500019, Requested 525. Please try again in 1m34.104599999s. Visit https://console.groq.com/docs/rate-limits for more information.', 'type': '', 'code': 'rate_limit_exceeded'}}\n"
     ]
    },
    {
     "name": "stderr",
     "output_type": "stream",
     "text": [
      " 80%|████████  | 268/334 [05:36<00:07,  8.91it/s]"
     ]
    },
    {
     "name": "stdout",
     "output_type": "stream",
     "text": [
      "Error during sentiment analysis for batch starting at index 798: Error code: 429 - {'error': {'message': 'Rate limit reached for model `llama3-8b-8192` in organization `org_01j9m95282e27t3n1tb7c5d96z` on : Limit 500000, Used 500018, Requested 445. Please try again in 1m20.1646s. Visit https://console.groq.com/docs/rate-limits for more information.', 'type': '', 'code': 'rate_limit_exceeded'}}\n",
      "Error during sentiment analysis for batch starting at index 801: Error code: 429 - {'error': {'message': 'Rate limit reached for model `llama3-8b-8192` in organization `org_01j9m95282e27t3n1tb7c5d96z` on : Limit 500000, Used 500018, Requested 630. Please try again in 1m52.0246s. Visit https://console.groq.com/docs/rate-limits for more information.', 'type': '', 'code': 'rate_limit_exceeded'}}\n"
     ]
    },
    {
     "name": "stderr",
     "output_type": "stream",
     "text": [
      " 81%|████████  | 270/334 [06:29<11:54, 11.17s/it]"
     ]
    },
    {
     "name": "stdout",
     "output_type": "stream",
     "text": [
      "Error during sentiment analysis for batch starting at index 807: Error code: 429 - {'error': {'message': 'Rate limit reached for model `llama3-8b-8192` in organization `org_01j9m95282e27t3n1tb7c5d96z` on : Limit 500000, Used 500118, Requested 609. Please try again in 2m5.686399999s. Visit https://console.groq.com/docs/rate-limits for more information.', 'type': '', 'code': 'rate_limit_exceeded'}}\n"
     ]
    },
    {
     "name": "stderr",
     "output_type": "stream",
     "text": [
      " 81%|████████  | 271/334 [06:29<08:22,  7.97s/it]"
     ]
    },
    {
     "name": "stdout",
     "output_type": "stream",
     "text": [
      "Error during sentiment analysis for batch starting at index 810: Error code: 429 - {'error': {'message': 'Rate limit reached for model `llama3-8b-8192` in organization `org_01j9m95282e27t3n1tb7c5d96z` on : Limit 500000, Used 500115, Requested 444. Please try again in 1m36.6704s. Visit https://console.groq.com/docs/rate-limits for more information.', 'type': '', 'code': 'rate_limit_exceeded'}}\n"
     ]
    },
    {
     "name": "stderr",
     "output_type": "stream",
     "text": [
      " 82%|████████▏ | 273/334 [06:30<04:03,  3.99s/it]"
     ]
    },
    {
     "name": "stdout",
     "output_type": "stream",
     "text": [
      "Error during sentiment analysis for batch starting at index 813: Error code: 429 - {'error': {'message': 'Rate limit reached for model `llama3-8b-8192` in organization `org_01j9m95282e27t3n1tb7c5d96z` on : Limit 500000, Used 500114, Requested 355. Please try again in 1m21.1752s. Visit https://console.groq.com/docs/rate-limits for more information.', 'type': '', 'code': 'rate_limit_exceeded'}}\n",
      "Error during sentiment analysis for batch starting at index 816: Error code: 429 - {'error': {'message': 'Rate limit reached for model `llama3-8b-8192` in organization `org_01j9m95282e27t3n1tb7c5d96z` on : Limit 500000, Used 500113, Requested 503. Please try again in 1m46.5146s. Visit https://console.groq.com/docs/rate-limits for more information.', 'type': '', 'code': 'rate_limit_exceeded'}}\n"
     ]
    },
    {
     "name": "stderr",
     "output_type": "stream",
     "text": [
      " 82%|████████▏ | 275/334 [06:30<02:01,  2.05s/it]"
     ]
    },
    {
     "name": "stdout",
     "output_type": "stream",
     "text": [
      "Error during sentiment analysis for batch starting at index 819: Error code: 429 - {'error': {'message': 'Rate limit reached for model `llama3-8b-8192` in organization `org_01j9m95282e27t3n1tb7c5d96z` on : Limit 500000, Used 500112, Requested 466. Please try again in 1m39.932s. Visit https://console.groq.com/docs/rate-limits for more information.', 'type': '', 'code': 'rate_limit_exceeded'}}\n",
      "Error during sentiment analysis for batch starting at index 822: Error code: 429 - {'error': {'message': 'Rate limit reached for model `llama3-8b-8192` in organization `org_01j9m95282e27t3n1tb7c5d96z` on : Limit 500000, Used 500111, Requested 516. Please try again in 1m48.407s. Visit https://console.groq.com/docs/rate-limits for more information.', 'type': '', 'code': 'rate_limit_exceeded'}}\n"
     ]
    },
    {
     "name": "stderr",
     "output_type": "stream",
     "text": [
      " 83%|████████▎ | 277/334 [06:30<01:01,  1.08s/it]"
     ]
    },
    {
     "name": "stdout",
     "output_type": "stream",
     "text": [
      "Error during sentiment analysis for batch starting at index 825: Error code: 429 - {'error': {'message': 'Rate limit reached for model `llama3-8b-8192` in organization `org_01j9m95282e27t3n1tb7c5d96z` on : Limit 500000, Used 500109, Requested 454. Please try again in 1m37.4334s. Visit https://console.groq.com/docs/rate-limits for more information.', 'type': '', 'code': 'rate_limit_exceeded'}}\n",
      "Error during sentiment analysis for batch starting at index 828: Error code: 429 - {'error': {'message': 'Rate limit reached for model `llama3-8b-8192` in organization `org_01j9m95282e27t3n1tb7c5d96z` on : Limit 500000, Used 500109, Requested 240. Please try again in 1m0.343199999s. Visit https://console.groq.com/docs/rate-limits for more information.', 'type': '', 'code': 'rate_limit_exceeded'}}\n"
     ]
    },
    {
     "name": "stderr",
     "output_type": "stream",
     "text": [
      " 84%|████████▎ | 279/334 [06:31<00:34,  1.59it/s]"
     ]
    },
    {
     "name": "stdout",
     "output_type": "stream",
     "text": [
      "Error during sentiment analysis for batch starting at index 831: Error code: 429 - {'error': {'message': 'Rate limit reached for model `llama3-8b-8192` in organization `org_01j9m95282e27t3n1tb7c5d96z` on : Limit 500000, Used 500108, Requested 365. Please try again in 1m21.7592s. Visit https://console.groq.com/docs/rate-limits for more information.', 'type': '', 'code': 'rate_limit_exceeded'}}\n",
      "Error during sentiment analysis for batch starting at index 834: Error code: 429 - {'error': {'message': 'Rate limit reached for model `llama3-8b-8192` in organization `org_01j9m95282e27t3n1tb7c5d96z` on : Limit 500000, Used 500107, Requested 708. Please try again in 2m20.8726s. Visit https://console.groq.com/docs/rate-limits for more information.', 'type': '', 'code': 'rate_limit_exceeded'}}\n"
     ]
    },
    {
     "name": "stderr",
     "output_type": "stream",
     "text": [
      " 84%|████████▍ | 280/334 [06:31<00:25,  2.11it/s]"
     ]
    },
    {
     "name": "stdout",
     "output_type": "stream",
     "text": [
      "Error during sentiment analysis for batch starting at index 837: Error code: 429 - {'error': {'message': 'Rate limit reached for model `llama3-8b-8192` in organization `org_01j9m95282e27t3n1tb7c5d96z` on : Limit 500000, Used 500106, Requested 588. Please try again in 1m59.9746s. Visit https://console.groq.com/docs/rate-limits for more information.', 'type': '', 'code': 'rate_limit_exceeded'}}\n"
     ]
    },
    {
     "name": "stderr",
     "output_type": "stream",
     "text": [
      " 84%|████████▍ | 282/334 [06:31<00:17,  2.97it/s]"
     ]
    },
    {
     "name": "stdout",
     "output_type": "stream",
     "text": [
      "Error during sentiment analysis for batch starting at index 840: Error code: 429 - {'error': {'message': 'Rate limit reached for model `llama3-8b-8192` in organization `org_01j9m95282e27t3n1tb7c5d96z` on : Limit 500000, Used 500105, Requested 403. Please try again in 1m27.8316s. Visit https://console.groq.com/docs/rate-limits for more information.', 'type': '', 'code': 'rate_limit_exceeded'}}\n",
      "Error during sentiment analysis for batch starting at index 843: Error code: 429 - {'error': {'message': 'Rate limit reached for model `llama3-8b-8192` in organization `org_01j9m95282e27t3n1tb7c5d96z` on : Limit 500000, Used 500104, Requested 392. Please try again in 1m25.7228s. Visit https://console.groq.com/docs/rate-limits for more information.', 'type': '', 'code': 'rate_limit_exceeded'}}\n"
     ]
    },
    {
     "name": "stderr",
     "output_type": "stream",
     "text": [
      " 85%|████████▌ | 284/334 [06:32<00:11,  4.39it/s]"
     ]
    },
    {
     "name": "stdout",
     "output_type": "stream",
     "text": [
      "Error during sentiment analysis for batch starting at index 846: Error code: 429 - {'error': {'message': 'Rate limit reached for model `llama3-8b-8192` in organization `org_01j9m95282e27t3n1tb7c5d96z` on : Limit 500000, Used 500103, Requested 399. Please try again in 1m26.7794s. Visit https://console.groq.com/docs/rate-limits for more information.', 'type': '', 'code': 'rate_limit_exceeded'}}\n",
      "Error during sentiment analysis for batch starting at index 849: Error code: 429 - {'error': {'message': 'Rate limit reached for model `llama3-8b-8192` in organization `org_01j9m95282e27t3n1tb7c5d96z` on : Limit 500000, Used 500102, Requested 381. Please try again in 1m23.544999999s. Visit https://console.groq.com/docs/rate-limits for more information.', 'type': '', 'code': 'rate_limit_exceeded'}}\n"
     ]
    },
    {
     "name": "stderr",
     "output_type": "stream",
     "text": [
      " 86%|████████▌ | 286/334 [06:32<00:09,  4.83it/s]"
     ]
    },
    {
     "name": "stdout",
     "output_type": "stream",
     "text": [
      "Error during sentiment analysis for batch starting at index 852: Error code: 429 - {'error': {'message': 'Rate limit reached for model `llama3-8b-8192` in organization `org_01j9m95282e27t3n1tb7c5d96z` on : Limit 500000, Used 500101, Requested 408. Please try again in 1m28.021599999s. Visit https://console.groq.com/docs/rate-limits for more information.', 'type': '', 'code': 'rate_limit_exceeded'}}\n",
      "Error during sentiment analysis for batch starting at index 855: Error code: 429 - {'error': {'message': 'Rate limit reached for model `llama3-8b-8192` in organization `org_01j9m95282e27t3n1tb7c5d96z` on : Limit 500000, Used 500100, Requested 662. Please try again in 2m11.7268s. Visit https://console.groq.com/docs/rate-limits for more information.', 'type': '', 'code': 'rate_limit_exceeded'}}\n"
     ]
    },
    {
     "name": "stderr",
     "output_type": "stream",
     "text": [
      " 86%|████████▌ | 288/334 [06:32<00:07,  6.13it/s]"
     ]
    },
    {
     "name": "stdout",
     "output_type": "stream",
     "text": [
      "Error during sentiment analysis for batch starting at index 858: Error code: 429 - {'error': {'message': 'Rate limit reached for model `llama3-8b-8192` in organization `org_01j9m95282e27t3n1tb7c5d96z` on : Limit 500000, Used 500099, Requested 459. Please try again in 1m36.5414s. Visit https://console.groq.com/docs/rate-limits for more information.', 'type': '', 'code': 'rate_limit_exceeded'}}\n",
      "Error during sentiment analysis for batch starting at index 861: Error code: 429 - {'error': {'message': 'Rate limit reached for model `llama3-8b-8192` in organization `org_01j9m95282e27t3n1tb7c5d96z` on : Limit 500000, Used 500098, Requested 570. Please try again in 1m55.6002s. Visit https://console.groq.com/docs/rate-limits for more information.', 'type': '', 'code': 'rate_limit_exceeded'}}\n"
     ]
    },
    {
     "name": "stderr",
     "output_type": "stream",
     "text": [
      " 87%|████████▋ | 290/334 [06:32<00:06,  6.39it/s]"
     ]
    },
    {
     "name": "stdout",
     "output_type": "stream",
     "text": [
      "Error during sentiment analysis for batch starting at index 864: Error code: 429 - {'error': {'message': 'Rate limit reached for model `llama3-8b-8192` in organization `org_01j9m95282e27t3n1tb7c5d96z` on : Limit 500000, Used 500098, Requested 496. Please try again in 1m42.693s. Visit https://console.groq.com/docs/rate-limits for more information.', 'type': '', 'code': 'rate_limit_exceeded'}}\n",
      "Error during sentiment analysis for batch starting at index 867: Error code: 429 - {'error': {'message': 'Rate limit reached for model `llama3-8b-8192` in organization `org_01j9m95282e27t3n1tb7c5d96z` on : Limit 500000, Used 500097, Requested 670. Please try again in 2m12.5822s. Visit https://console.groq.com/docs/rate-limits for more information.', 'type': '', 'code': 'rate_limit_exceeded'}}\n"
     ]
    },
    {
     "name": "stderr",
     "output_type": "stream",
     "text": [
      " 87%|████████▋ | 292/334 [06:33<00:05,  7.15it/s]"
     ]
    },
    {
     "name": "stdout",
     "output_type": "stream",
     "text": [
      "Error during sentiment analysis for batch starting at index 870: Error code: 429 - {'error': {'message': 'Rate limit reached for model `llama3-8b-8192` in organization `org_01j9m95282e27t3n1tb7c5d96z` on : Limit 500000, Used 500096, Requested 603. Please try again in 2m0.8736s. Visit https://console.groq.com/docs/rate-limits for more information.', 'type': '', 'code': 'rate_limit_exceeded'}}\n",
      "Error during sentiment analysis for batch starting at index 873: Error code: 429 - {'error': {'message': 'Rate limit reached for model `llama3-8b-8192` in organization `org_01j9m95282e27t3n1tb7c5d96z` on : Limit 500000, Used 500095, Requested 391. Please try again in 1m24.121s. Visit https://console.groq.com/docs/rate-limits for more information.', 'type': '', 'code': 'rate_limit_exceeded'}}\n"
     ]
    },
    {
     "name": "stderr",
     "output_type": "stream",
     "text": [
      " 88%|████████▊ | 294/334 [06:33<00:05,  7.16it/s]"
     ]
    },
    {
     "name": "stdout",
     "output_type": "stream",
     "text": [
      "Error during sentiment analysis for batch starting at index 876: Error code: 429 - {'error': {'message': 'Rate limit reached for model `llama3-8b-8192` in organization `org_01j9m95282e27t3n1tb7c5d96z` on : Limit 500000, Used 500095, Requested 519. Please try again in 1m46.1274s. Visit https://console.groq.com/docs/rate-limits for more information.', 'type': '', 'code': 'rate_limit_exceeded'}}\n",
      "Error during sentiment analysis for batch starting at index 879: Error code: 429 - {'error': {'message': 'Rate limit reached for model `llama3-8b-8192` in organization `org_01j9m95282e27t3n1tb7c5d96z` on : Limit 500000, Used 500094, Requested 432. Please try again in 1m30.914799999s. Visit https://console.groq.com/docs/rate-limits for more information.', 'type': '', 'code': 'rate_limit_exceeded'}}\n"
     ]
    },
    {
     "name": "stderr",
     "output_type": "stream",
     "text": [
      " 89%|████████▊ | 296/334 [06:33<00:05,  6.84it/s]"
     ]
    },
    {
     "name": "stdout",
     "output_type": "stream",
     "text": [
      "Error during sentiment analysis for batch starting at index 882: Error code: 429 - {'error': {'message': 'Rate limit reached for model `llama3-8b-8192` in organization `org_01j9m95282e27t3n1tb7c5d96z` on : Limit 500000, Used 500093, Requested 561. Please try again in 1m53.068s. Visit https://console.groq.com/docs/rate-limits for more information.', 'type': '', 'code': 'rate_limit_exceeded'}}\n",
      "Error during sentiment analysis for batch starting at index 885: Error code: 429 - {'error': {'message': 'Rate limit reached for model `llama3-8b-8192` in organization `org_01j9m95282e27t3n1tb7c5d96z` on : Limit 500000, Used 500092, Requested 587. Please try again in 1m57.3728s. Visit https://console.groq.com/docs/rate-limits for more information.', 'type': '', 'code': 'rate_limit_exceeded'}}\n"
     ]
    },
    {
     "name": "stderr",
     "output_type": "stream",
     "text": [
      " 89%|████████▉ | 298/334 [06:34<00:05,  6.84it/s]"
     ]
    },
    {
     "name": "stdout",
     "output_type": "stream",
     "text": [
      "Error during sentiment analysis for batch starting at index 888: Error code: 429 - {'error': {'message': 'Rate limit reached for model `llama3-8b-8192` in organization `org_01j9m95282e27t3n1tb7c5d96z` on : Limit 500000, Used 500091, Requested 430. Please try again in 1m30.0432s. Visit https://console.groq.com/docs/rate-limits for more information.', 'type': '', 'code': 'rate_limit_exceeded'}}\n",
      "Error during sentiment analysis for batch starting at index 891: Error code: 429 - {'error': {'message': 'Rate limit reached for model `llama3-8b-8192` in organization `org_01j9m95282e27t3n1tb7c5d96z` on : Limit 500000, Used 500090, Requested 370. Please try again in 1m19.5702s. Visit https://console.groq.com/docs/rate-limits for more information.', 'type': '', 'code': 'rate_limit_exceeded'}}\n"
     ]
    },
    {
     "name": "stderr",
     "output_type": "stream",
     "text": [
      " 90%|████████▉ | 300/334 [06:34<00:05,  6.63it/s]"
     ]
    },
    {
     "name": "stdout",
     "output_type": "stream",
     "text": [
      "Error during sentiment analysis for batch starting at index 894: Error code: 429 - {'error': {'message': 'Rate limit reached for model `llama3-8b-8192` in organization `org_01j9m95282e27t3n1tb7c5d96z` on : Limit 500000, Used 500089, Requested 465. Please try again in 1m35.8822s. Visit https://console.groq.com/docs/rate-limits for more information.', 'type': '', 'code': 'rate_limit_exceeded'}}\n",
      "Error during sentiment analysis for batch starting at index 897: Error code: 429 - {'error': {'message': 'Rate limit reached for model `llama3-8b-8192` in organization `org_01j9m95282e27t3n1tb7c5d96z` on : Limit 500000, Used 500088, Requested 379. Please try again in 1m20.8474s. Visit https://console.groq.com/docs/rate-limits for more information.', 'type': '', 'code': 'rate_limit_exceeded'}}\n"
     ]
    },
    {
     "name": "stderr",
     "output_type": "stream",
     "text": [
      " 90%|█████████ | 302/334 [06:34<00:04,  7.61it/s]"
     ]
    },
    {
     "name": "stdout",
     "output_type": "stream",
     "text": [
      "Error during sentiment analysis for batch starting at index 900: Error code: 429 - {'error': {'message': 'Rate limit reached for model `llama3-8b-8192` in organization `org_01j9m95282e27t3n1tb7c5d96z` on : Limit 500000, Used 500088, Requested 349. Please try again in 1m15.5324s. Visit https://console.groq.com/docs/rate-limits for more information.', 'type': '', 'code': 'rate_limit_exceeded'}}\n",
      "Error during sentiment analysis for batch starting at index 903: Error code: 429 - {'error': {'message': 'Rate limit reached for model `llama3-8b-8192` in organization `org_01j9m95282e27t3n1tb7c5d96z` on : Limit 500000, Used 500087, Requested 474. Please try again in 1m37.0174s. Visit https://console.groq.com/docs/rate-limits for more information.', 'type': '', 'code': 'rate_limit_exceeded'}}\n"
     ]
    },
    {
     "name": "stderr",
     "output_type": "stream",
     "text": [
      " 91%|█████████ | 304/334 [06:34<00:04,  6.78it/s]"
     ]
    },
    {
     "name": "stdout",
     "output_type": "stream",
     "text": [
      "Error during sentiment analysis for batch starting at index 906: Error code: 429 - {'error': {'message': 'Rate limit reached for model `llama3-8b-8192` in organization `org_01j9m95282e27t3n1tb7c5d96z` on : Limit 500000, Used 500086, Requested 670. Please try again in 2m10.7732s. Visit https://console.groq.com/docs/rate-limits for more information.', 'type': '', 'code': 'rate_limit_exceeded'}}\n",
      "Error during sentiment analysis for batch starting at index 909: Error code: 429 - {'error': {'message': 'Rate limit reached for model `llama3-8b-8192` in organization `org_01j9m95282e27t3n1tb7c5d96z` on : Limit 500000, Used 500086, Requested 460. Please try again in 1m34.369199999s. Visit https://console.groq.com/docs/rate-limits for more information.', 'type': '', 'code': 'rate_limit_exceeded'}}\n"
     ]
    },
    {
     "name": "stderr",
     "output_type": "stream",
     "text": [
      " 92%|█████████▏| 306/334 [06:35<00:04,  5.86it/s]"
     ]
    },
    {
     "name": "stdout",
     "output_type": "stream",
     "text": [
      "Error during sentiment analysis for batch starting at index 912: Error code: 429 - {'error': {'message': 'Rate limit reached for model `llama3-8b-8192` in organization `org_01j9m95282e27t3n1tb7c5d96z` on : Limit 500000, Used 500083, Requested 284. Please try again in 1m3.5694s. Visit https://console.groq.com/docs/rate-limits for more information.', 'type': '', 'code': 'rate_limit_exceeded'}}\n",
      "Error during sentiment analysis for batch starting at index 915: Error code: 429 - {'error': {'message': 'Rate limit reached for model `llama3-8b-8192` in organization `org_01j9m95282e27t3n1tb7c5d96z` on : Limit 500000, Used 500083, Requested 467. Please try again in 1m35.0668s. Visit https://console.groq.com/docs/rate-limits for more information.', 'type': '', 'code': 'rate_limit_exceeded'}}\n"
     ]
    },
    {
     "name": "stderr",
     "output_type": "stream",
     "text": [
      " 92%|█████████▏| 308/334 [06:35<00:04,  6.43it/s]"
     ]
    },
    {
     "name": "stdout",
     "output_type": "stream",
     "text": [
      "Error during sentiment analysis for batch starting at index 918: Error code: 429 - {'error': {'message': 'Rate limit reached for model `llama3-8b-8192` in organization `org_01j9m95282e27t3n1tb7c5d96z` on : Limit 500000, Used 500082, Requested 660. Please try again in 2m8.229199999s. Visit https://console.groq.com/docs/rate-limits for more information.', 'type': '', 'code': 'rate_limit_exceeded'}}\n",
      "Error during sentiment analysis for batch starting at index 921: Error code: 429 - {'error': {'message': 'Rate limit reached for model `llama3-8b-8192` in organization `org_01j9m95282e27t3n1tb7c5d96z` on : Limit 500000, Used 500081, Requested 488. Please try again in 1m38.4006s. Visit https://console.groq.com/docs/rate-limits for more information.', 'type': '', 'code': 'rate_limit_exceeded'}}\n"
     ]
    },
    {
     "name": "stderr",
     "output_type": "stream",
     "text": [
      " 93%|█████████▎| 310/334 [06:36<00:03,  6.25it/s]"
     ]
    },
    {
     "name": "stdout",
     "output_type": "stream",
     "text": [
      "Error during sentiment analysis for batch starting at index 924: Error code: 429 - {'error': {'message': 'Rate limit reached for model `llama3-8b-8192` in organization `org_01j9m95282e27t3n1tb7c5d96z` on : Limit 500000, Used 500080, Requested 424. Please try again in 1m27.2194s. Visit https://console.groq.com/docs/rate-limits for more information.', 'type': '', 'code': 'rate_limit_exceeded'}}\n",
      "Error during sentiment analysis for batch starting at index 927: Error code: 429 - {'error': {'message': 'Rate limit reached for model `llama3-8b-8192` in organization `org_01j9m95282e27t3n1tb7c5d96z` on : Limit 500000, Used 500080, Requested 396. Please try again in 1m22.261s. Visit https://console.groq.com/docs/rate-limits for more information.', 'type': '', 'code': 'rate_limit_exceeded'}}\n"
     ]
    },
    {
     "name": "stderr",
     "output_type": "stream",
     "text": [
      " 93%|█████████▎| 311/334 [06:36<00:03,  6.80it/s]"
     ]
    },
    {
     "name": "stdout",
     "output_type": "stream",
     "text": [
      "Error during sentiment analysis for batch starting at index 930: Error code: 429 - {'error': {'message': 'Rate limit reached for model `llama3-8b-8192` in organization `org_01j9m95282e27t3n1tb7c5d96z` on : Limit 500000, Used 500078, Requested 634. Please try again in 2m3.1914s. Visit https://console.groq.com/docs/rate-limits for more information.', 'type': '', 'code': 'rate_limit_exceeded'}}\n"
     ]
    },
    {
     "name": "stderr",
     "output_type": "stream",
     "text": [
      " 94%|█████████▎| 313/334 [06:36<00:04,  5.05it/s]"
     ]
    },
    {
     "name": "stdout",
     "output_type": "stream",
     "text": [
      "Error during sentiment analysis for batch starting at index 933: Error code: 429 - {'error': {'message': 'Rate limit reached for model `llama3-8b-8192` in organization `org_01j9m95282e27t3n1tb7c5d96z` on : Limit 500000, Used 500078, Requested 446. Please try again in 1m30.582s. Visit https://console.groq.com/docs/rate-limits for more information.', 'type': '', 'code': 'rate_limit_exceeded'}}\n",
      "Error during sentiment analysis for batch starting at index 936: Error code: 429 - {'error': {'message': 'Rate limit reached for model `llama3-8b-8192` in organization `org_01j9m95282e27t3n1tb7c5d96z` on : Limit 500000, Used 500075, Requested 540. Please try again in 1m46.3982s. Visit https://console.groq.com/docs/rate-limits for more information.', 'type': '', 'code': 'rate_limit_exceeded'}}\n"
     ]
    },
    {
     "name": "stderr",
     "output_type": "stream",
     "text": [
      " 94%|█████████▍| 315/334 [06:36<00:03,  6.00it/s]"
     ]
    },
    {
     "name": "stdout",
     "output_type": "stream",
     "text": [
      "Error during sentiment analysis for batch starting at index 939: Error code: 429 - {'error': {'message': 'Rate limit reached for model `llama3-8b-8192` in organization `org_01j9m95282e27t3n1tb7c5d96z` on : Limit 500000, Used 500074, Requested 478. Please try again in 1m35.5546s. Visit https://console.groq.com/docs/rate-limits for more information.', 'type': '', 'code': 'rate_limit_exceeded'}}\n",
      "Error during sentiment analysis for batch starting at index 942: Error code: 429 - {'error': {'message': 'Rate limit reached for model `llama3-8b-8192` in organization `org_01j9m95282e27t3n1tb7c5d96z` on : Limit 500000, Used 500074, Requested 621. Please try again in 2m0.107s. Visit https://console.groq.com/docs/rate-limits for more information.', 'type': '', 'code': 'rate_limit_exceeded'}}\n"
     ]
    },
    {
     "name": "stderr",
     "output_type": "stream",
     "text": [
      " 95%|█████████▍| 317/334 [06:37<00:03,  5.41it/s]"
     ]
    },
    {
     "name": "stdout",
     "output_type": "stream",
     "text": [
      "Error during sentiment analysis for batch starting at index 945: Error code: 429 - {'error': {'message': 'Rate limit reached for model `llama3-8b-8192` in organization `org_01j9m95282e27t3n1tb7c5d96z` on : Limit 500000, Used 500072, Requested 510. Please try again in 1m40.6062s. Visit https://console.groq.com/docs/rate-limits for more information.', 'type': '', 'code': 'rate_limit_exceeded'}}\n",
      "Error during sentiment analysis for batch starting at index 948: Error code: 429 - {'error': {'message': 'Rate limit reached for model `llama3-8b-8192` in organization `org_01j9m95282e27t3n1tb7c5d96z` on : Limit 500000, Used 500071, Requested 442. Please try again in 1m28.7428s. Visit https://console.groq.com/docs/rate-limits for more information.', 'type': '', 'code': 'rate_limit_exceeded'}}\n"
     ]
    },
    {
     "name": "stderr",
     "output_type": "stream",
     "text": [
      " 96%|█████████▌| 319/334 [06:37<00:02,  6.15it/s]"
     ]
    },
    {
     "name": "stdout",
     "output_type": "stream",
     "text": [
      "Error during sentiment analysis for batch starting at index 951: Error code: 429 - {'error': {'message': 'Rate limit reached for model `llama3-8b-8192` in organization `org_01j9m95282e27t3n1tb7c5d96z` on : Limit 500000, Used 500070, Requested 416. Please try again in 1m24.128s. Visit https://console.groq.com/docs/rate-limits for more information.', 'type': '', 'code': 'rate_limit_exceeded'}}\n",
      "Error during sentiment analysis for batch starting at index 954: Error code: 429 - {'error': {'message': 'Rate limit reached for model `llama3-8b-8192` in organization `org_01j9m95282e27t3n1tb7c5d96z` on : Limit 500000, Used 500069, Requested 338. Please try again in 1m10.4736s. Visit https://console.groq.com/docs/rate-limits for more information.', 'type': '', 'code': 'rate_limit_exceeded'}}\n"
     ]
    },
    {
     "name": "stderr",
     "output_type": "stream",
     "text": [
      " 96%|█████████▌| 321/334 [06:38<00:02,  5.67it/s]"
     ]
    },
    {
     "name": "stdout",
     "output_type": "stream",
     "text": [
      "Error during sentiment analysis for batch starting at index 957: Error code: 429 - {'error': {'message': 'Rate limit reached for model `llama3-8b-8192` in organization `org_01j9m95282e27t3n1tb7c5d96z` on : Limit 500000, Used 500069, Requested 444. Please try again in 1m28.6614s. Visit https://console.groq.com/docs/rate-limits for more information.', 'type': '', 'code': 'rate_limit_exceeded'}}\n",
      "Error during sentiment analysis for batch starting at index 960: Error code: 429 - {'error': {'message': 'Rate limit reached for model `llama3-8b-8192` in organization `org_01j9m95282e27t3n1tb7c5d96z` on : Limit 500000, Used 500067, Requested 638. Please try again in 2m1.8996s. Visit https://console.groq.com/docs/rate-limits for more information.', 'type': '', 'code': 'rate_limit_exceeded'}}\n"
     ]
    },
    {
     "name": "stderr",
     "output_type": "stream",
     "text": [
      " 96%|█████████▋| 322/334 [06:38<00:01,  6.28it/s]"
     ]
    },
    {
     "name": "stdout",
     "output_type": "stream",
     "text": [
      "Error during sentiment analysis for batch starting at index 963: Error code: 429 - {'error': {'message': 'Rate limit reached for model `llama3-8b-8192` in organization `org_01j9m95282e27t3n1tb7c5d96z` on : Limit 500000, Used 500066, Requested 573. Please try again in 1m50.5486s. Visit https://console.groq.com/docs/rate-limits for more information.', 'type': '', 'code': 'rate_limit_exceeded'}}\n"
     ]
    },
    {
     "name": "stderr",
     "output_type": "stream",
     "text": [
      " 97%|█████████▋| 324/334 [06:38<00:01,  5.59it/s]"
     ]
    },
    {
     "name": "stdout",
     "output_type": "stream",
     "text": [
      "Error during sentiment analysis for batch starting at index 966: Error code: 429 - {'error': {'message': 'Rate limit reached for model `llama3-8b-8192` in organization `org_01j9m95282e27t3n1tb7c5d96z` on : Limit 500000, Used 500065, Requested 453. Please try again in 1m29.6746s. Visit https://console.groq.com/docs/rate-limits for more information.', 'type': '', 'code': 'rate_limit_exceeded'}}\n",
      "Error during sentiment analysis for batch starting at index 969: Error code: 429 - {'error': {'message': 'Rate limit reached for model `llama3-8b-8192` in organization `org_01j9m95282e27t3n1tb7c5d96z` on : Limit 500000, Used 500064, Requested 404. Please try again in 1m21.0264s. Visit https://console.groq.com/docs/rate-limits for more information.', 'type': '', 'code': 'rate_limit_exceeded'}}\n"
     ]
    },
    {
     "name": "stderr",
     "output_type": "stream",
     "text": [
      " 97%|█████████▋| 325/334 [06:38<00:01,  6.40it/s]"
     ]
    },
    {
     "name": "stdout",
     "output_type": "stream",
     "text": [
      "Error during sentiment analysis for batch starting at index 972: Error code: 429 - {'error': {'message': 'Rate limit reached for model `llama3-8b-8192` in organization `org_01j9m95282e27t3n1tb7c5d96z` on : Limit 500000, Used 500063, Requested 371. Please try again in 1m15.139s. Visit https://console.groq.com/docs/rate-limits for more information.', 'type': '', 'code': 'rate_limit_exceeded'}}\n"
     ]
    },
    {
     "name": "stderr",
     "output_type": "stream",
     "text": [
      " 98%|█████████▊| 327/334 [06:39<00:01,  5.70it/s]"
     ]
    },
    {
     "name": "stdout",
     "output_type": "stream",
     "text": [
      "Error during sentiment analysis for batch starting at index 975: Error code: 429 - {'error': {'message': 'Rate limit reached for model `llama3-8b-8192` in organization `org_01j9m95282e27t3n1tb7c5d96z` on : Limit 500000, Used 500063, Requested 471. Please try again in 1m32.297s. Visit https://console.groq.com/docs/rate-limits for more information.', 'type': '', 'code': 'rate_limit_exceeded'}}\n",
      "Error during sentiment analysis for batch starting at index 978: Error code: 429 - {'error': {'message': 'Rate limit reached for model `llama3-8b-8192` in organization `org_01j9m95282e27t3n1tb7c5d96z` on : Limit 500000, Used 500061, Requested 498. Please try again in 1m36.6716s. Visit https://console.groq.com/docs/rate-limits for more information.', 'type': '', 'code': 'rate_limit_exceeded'}}\n"
     ]
    },
    {
     "name": "stderr",
     "output_type": "stream",
     "text": [
      " 98%|█████████▊| 328/334 [06:39<00:00,  6.36it/s]"
     ]
    },
    {
     "name": "stdout",
     "output_type": "stream",
     "text": [
      "Error during sentiment analysis for batch starting at index 981: Error code: 429 - {'error': {'message': 'Rate limit reached for model `llama3-8b-8192` in organization `org_01j9m95282e27t3n1tb7c5d96z` on : Limit 500000, Used 500060, Requested 539. Please try again in 1m43.637399999s. Visit https://console.groq.com/docs/rate-limits for more information.', 'type': '', 'code': 'rate_limit_exceeded'}}\n"
     ]
    },
    {
     "name": "stderr",
     "output_type": "stream",
     "text": [
      " 99%|█████████▊| 329/334 [06:39<00:00,  5.46it/s]"
     ]
    },
    {
     "name": "stdout",
     "output_type": "stream",
     "text": [
      "Error during sentiment analysis for batch starting at index 984: Error code: 429 - {'error': {'message': 'Rate limit reached for model `llama3-8b-8192` in organization `org_01j9m95282e27t3n1tb7c5d96z` on : Limit 500000, Used 500060, Requested 540. Please try again in 1m43.7052s. Visit https://console.groq.com/docs/rate-limits for more information.', 'type': '', 'code': 'rate_limit_exceeded'}}\n"
     ]
    },
    {
     "name": "stderr",
     "output_type": "stream",
     "text": [
      " 99%|█████████▉| 331/334 [07:33<00:34, 11.38s/it]"
     ]
    },
    {
     "name": "stdout",
     "output_type": "stream",
     "text": [
      "Error during sentiment analysis for batch starting at index 987: Error code: 400 - {'error': {'message': \"Failed to generate JSON. Please adjust your prompt. See 'failed_generation' for more details.\", 'type': 'invalid_request_error', 'code': 'json_validate_failed', 'failed_generation': '{\\n   \"review_number\": 1,\\n   \"sentiment_analysis\": {\\n      \"sentiment\": \"positive\",\\n      \"confidence_score\": 0.90\\n   }\\n},\\n{\\n   \"review_number\": 2,\\n   \"sentiment_analysis\": {\\n      \"sentiment\": \"positive\",\\n      \"confidence_score\": 0.70\\n   }\\n},\\n{\\n   \"review_number\": 3,\\n   \"sentiment_analysis\": {\\n      \"sentiment\": \"positive\",\\n      \"confidence_score\": 0.80\\n   }\\n}'}}\n",
      "Error during sentiment analysis for batch starting at index 990: Error code: 429 - {'error': {'message': 'Rate limit reached for model `llama3-8b-8192` in organization `org_01j9m95282e27t3n1tb7c5d96z` on : Limit 500000, Used 499749, Requested 603. Please try again in 1m0.7506s. Visit https://console.groq.com/docs/rate-limits for more information.', 'type': '', 'code': 'rate_limit_exceeded'}}\n"
     ]
    },
    {
     "name": "stderr",
     "output_type": "stream",
     "text": [
      "100%|█████████▉| 333/334 [07:59<00:11, 11.18s/it]"
     ]
    },
    {
     "name": "stdout",
     "output_type": "stream",
     "text": [
      "Error during sentiment analysis for batch starting at index 996: Error code: 429 - {'error': {'message': 'Rate limit reached for model `llama3-8b-8192` in organization `org_01j9m95282e27t3n1tb7c5d96z` on : Limit 500000, Used 500114, Requested 411. Please try again in 1m30.7678s. Visit https://console.groq.com/docs/rate-limits for more information.', 'type': '', 'code': 'rate_limit_exceeded'}}\n"
     ]
    },
    {
     "name": "stderr",
     "output_type": "stream",
     "text": [
      "100%|██████████| 334/334 [08:58<00:00,  1.61s/it]"
     ]
    },
    {
     "name": "stdout",
     "output_type": "stream",
     "text": [
      "Number of processed sentiments: 153\n",
      "Missing sentiments for the following review indices: [9, 10, 11, 12, 13, 14, 18, 19, 20, 21, 22, 23, 30, 31, 32, 33, 34, 35, 36, 37, 38, 45, 46, 47, 48, 49, 50, 51, 52, 53, 60, 61, 62, 63, 64, 65, 66, 67, 68, 75, 76, 77, 84, 85, 86, 93, 94, 95, 105, 106, 107, 108, 109, 110, 114, 115, 116, 117, 118, 119, 132, 133, 134, 135, 136, 137, 141, 142, 143, 144, 145, 146, 147, 148, 149, 150, 151, 152, 159, 160, 161, 162, 163, 164, 171, 172, 173, 177, 178, 179, 180, 181, 182, 183, 184, 185, 186, 187, 188, 192, 193, 194, 198, 199, 200, 201, 202, 203, 204, 205, 206, 207, 208, 209, 210, 211, 212, 213, 214, 215, 219, 220, 221, 228, 229, 230, 231, 232, 233, 240, 241, 242, 243, 244, 245, 246, 247, 248, 249, 250, 251, 252, 253, 254, 258, 259, 260, 261, 262, 263, 264, 265, 266, 273, 274, 275, 279, 280, 281, 285, 286, 287, 288, 289, 290, 294, 295, 296, 303, 304, 305, 306, 307, 308, 309, 310, 311, 315, 316, 317, 327, 328, 329, 330, 331, 332, 333, 334, 335, 336, 337, 338, 339, 340, 341, 342, 343, 344, 345, 346, 347, 348, 349, 350, 351, 352, 353, 354, 355, 356, 357, 358, 359, 360, 361, 362, 363, 364, 365, 366, 367, 368, 372, 373, 374, 378, 379, 380, 381, 382, 383, 384, 385, 386, 387, 388, 389, 390, 391, 392, 393, 394, 395, 396, 397, 398, 399, 400, 401, 402, 403, 404, 405, 406, 407, 408, 409, 410, 411, 412, 413, 414, 415, 416, 417, 418, 419, 420, 421, 422, 423, 424, 425, 426, 427, 428, 429, 430, 431, 432, 433, 434, 435, 436, 437, 438, 439, 440, 441, 442, 443, 444, 445, 446, 447, 448, 449, 450, 451, 452, 453, 454, 455, 456, 457, 458, 459, 460, 461, 462, 463, 464, 465, 466, 467, 468, 469, 470, 471, 472, 473, 474, 475, 476, 477, 478, 479, 480, 481, 482, 483, 484, 485, 486, 487, 488, 489, 490, 491, 492, 493, 494, 495, 496, 497, 498, 499, 500, 501, 502, 503, 504, 505, 506, 507, 508, 509, 510, 511, 512, 513, 514, 515, 516, 517, 518, 519, 520, 521, 522, 523, 524, 525, 526, 527, 528, 529, 530, 531, 532, 533, 534, 535, 536, 537, 538, 539, 540, 541, 542, 543, 544, 545, 546, 547, 548, 549, 550, 551, 552, 553, 554, 555, 556, 557, 558, 559, 560, 561, 562, 563, 564, 565, 566, 567, 568, 569, 570, 571, 572, 573, 574, 575, 576, 577, 578, 579, 580, 581, 582, 583, 584, 585, 586, 587, 588, 589, 590, 591, 592, 593, 594, 595, 596, 597, 598, 599, 600, 601, 602, 603, 604, 605, 606, 607, 608, 609, 610, 611, 612, 613, 614, 615, 616, 617, 618, 619, 620, 621, 622, 623, 624, 625, 626, 627, 628, 629, 630, 631, 632, 633, 634, 635, 636, 637, 638, 639, 640, 641, 642, 643, 644, 645, 646, 647, 648, 649, 650, 651, 652, 653, 654, 655, 656, 657, 658, 659, 660, 661, 662, 663, 664, 665, 666, 667, 668, 669, 670, 671, 672, 673, 674, 675, 676, 677, 678, 679, 680, 681, 682, 683, 684, 685, 686, 687, 688, 689, 690, 691, 692, 693, 694, 695, 696, 697, 698, 699, 700, 701, 702, 703, 704, 705, 706, 707, 708, 709, 710, 711, 712, 713, 714, 715, 716, 717, 718, 719, 720, 721, 722, 723, 724, 725, 726, 727, 728, 729, 730, 731, 732, 733, 734, 735, 736, 737, 738, 739, 740, 741, 742, 743, 744, 745, 746, 747, 748, 749, 750, 751, 752, 753, 754, 755, 756, 757, 758, 759, 760, 761, 762, 763, 764, 765, 766, 767, 768, 769, 770, 771, 772, 773, 774, 775, 776, 777, 778, 779, 780, 781, 782, 783, 784, 785, 786, 787, 788, 789, 790, 791, 792, 793, 794, 795, 796, 797, 798, 799, 800, 801, 802, 803, 804, 805, 806, 807, 808, 809, 810, 811, 812, 813, 814, 815, 816, 817, 818, 819, 820, 821, 822, 823, 824, 825, 826, 827, 828, 829, 830, 831, 832, 833, 834, 835, 836, 837, 838, 839, 840, 841, 842, 843, 844, 845, 846, 847, 848, 849, 850, 851, 852, 853, 854, 855, 856, 857, 858, 859, 860, 861, 862, 863, 864, 865, 866, 867, 868, 869, 870, 871, 872, 873, 874, 875, 876, 877, 878, 879, 880, 881, 882, 883, 884, 885, 886, 887, 888, 889, 890, 891, 892, 893, 894, 895, 896, 897, 898, 899, 900, 901, 902, 903, 904, 905, 906, 907, 908, 909, 910, 911, 912, 913, 914, 915, 916, 917, 918, 919, 920, 921, 922, 923, 924, 925, 926, 927, 928, 929, 930, 931, 932, 933, 934, 935, 936, 937, 938, 939, 940, 941, 942, 943, 944, 945, 946, 947, 948, 949, 950, 951, 952, 953, 954, 955, 956, 957, 958, 959, 960, 961, 962, 963, 964, 965, 966, 967, 968, 969, 970, 971, 972, 973, 974, 975, 976, 977, 978, 979, 980, 981, 982, 983, 984, 985, 986, 987, 988, 989, 990, 991, 992, 993, 994, 995, 996, 997, 998, 999]\n"
     ]
    },
    {
     "name": "stderr",
     "output_type": "stream",
     "text": [
      "\n"
     ]
    }
   ],
   "source": [
    "import os\n",
    "import json\n",
    "from tqdm import tqdm\n",
    "from groq import Groq\n",
    "\n",
    "# Initialize Groq client with API key\n",
    "client = Groq(api_key=os.environ.get(\"GROQ_API_KEY\"))\n",
    "\n",
    "# Function for batch sentiment analysis\n",
    "def get_sentiments_batch_groq(reviews, batch_size=3):\n",
    "    all_sentiments = {}\n",
    "    \n",
    "    # Process the reviews in batches\n",
    "    for i in tqdm(range(0, len(reviews), batch_size)):\n",
    "        batch = reviews[i:i + batch_size]\n",
    "        \n",
    "        # Formatting reviews with numbering for batch prompt\n",
    "        formatted_reviews = \"\\n\".join([f\"{j + 1}. {review}\" for j, review in enumerate(batch)])\n",
    "        \n",
    "        # Define the prompt with clear instructions for JSON response\n",
    "        prompt = (\n",
    "            f\"Analyze the sentiment of each of the following customer reviews and return the results as a single JSON array where each review is an object:\\n\\n{formatted_reviews}\\n\\n\"\n",
    "            \"The JSON array should contain the following structure for each review:\\n\"\n",
    "            \"[\\n\"\n",
    "            \"  {\\n\"\n",
    "            \"    \\\"review_number\\\": \\\"integer\\\",\\n\"\n",
    "            \"    \\\"sentiment_analysis\\\": {\\n\"\n",
    "            \"      \\\"sentiment\\\": \\\"string (positive, negative, neutral)\\\",\\n\"\n",
    "            \"      \\\"confidence_score\\\": \\\"number (0-1)\\\"\\n\"\n",
    "            \"    }\\n\"\n",
    "            \"  },\\n\"\n",
    "            \"  ... (one object for each review)\\n\"\n",
    "            \"]\"\n",
    "        )\n",
    "\n",
    "        try:\n",
    "            # Send batch prompt to Groq API\n",
    "            chat_completion = client.chat.completions.create(\n",
    "                messages=[\n",
    "                    {\n",
    "                        \"role\": \"system\",\n",
    "                        \"content\": \"You are a customer review sentiment analyzer. Please analyze each review and return the results in a single JSON array.\"\n",
    "                    },\n",
    "                    {\n",
    "                        \"role\": \"user\",\n",
    "                        \"content\": prompt\n",
    "                    }\n",
    "                ],\n",
    "                model=\"llama3-8b-8192\",\n",
    "                # Enforce the response format to be JSON\n",
    "                response_format={\"type\": \"json_object\"}\n",
    "            )\n",
    " # Extract the raw response content\n",
    "            response_content = chat_completion.choices[0].message.content.strip()\n",
    "\n",
    "            # Parse the response, expecting it to be a JSON object with a \"reviews\" key\n",
    "            result = json.loads(response_content)\n",
    "\n",
    "            # Extract the list of reviews from the \"reviews\" key\n",
    "            reviews_list = result.get(\"reviews\", [])\n",
    "\n",
    "            if isinstance(reviews_list, list):\n",
    "                for item in reviews_list:\n",
    "                    # Calculate the absolute index in the main list of reviews.\n",
    "                    absolute_index = i + item['review_number'] - 1  # Adjust for 0-based indexing\n",
    "                    all_sentiments[absolute_index] = {\n",
    "                        'sentiment': item['sentiment_analysis']['sentiment'],\n",
    "                        'confidence_score': item['sentiment_analysis']['confidence_score']\n",
    "                    }\n",
    "            else:\n",
    "                print(f\"Unexpected response format for batch starting at index {i}.\")\n",
    "                print(f\"Raw response: {response_content}\")\n",
    "\n",
    "        except json.JSONDecodeError as json_error:\n",
    "            print(f\"Error parsing JSON response for batch starting at index {i}. Raw response content: {response_content}\")\n",
    "            print(f\"JSON error: {json_error}\")\n",
    "        except Exception as e:\n",
    "            print(f\"Error during sentiment analysis for batch starting at index {i}: {e}\")\n",
    "\n",
    "    return all_sentiments\n",
    "\n",
    "\n",
    "reviews_1k_groq = groq_df_b['review'][:1000].tolist() \n",
    "sentiments = get_sentiments_batch_groq(reviews_1k_groq)\n",
    "print(f\"Number of processed sentiments: {len(sentiments)}\")\n",
    "\n",
    "# Create a new 'sentiment' column in the original dataframe\n",
    "df['sentiment'] = df.index.map(sentiments)\n",
    "\n",
    "# For debugging, print out any missing reviews\n",
    "missing_reviews = [idx for idx in range(len(reviews_1k_groq)) if idx not in sentiments]\n",
    "if missing_reviews:\n",
    "    print(f\"Missing sentiments for the following review indices: {missing_reviews}\")\n"
   ]
  },
  {
   "cell_type": "markdown",
   "metadata": {},
   "source": [
    "Context length of the Groq API is small allows for very small batch size, and the need for constraint review size as well."
   ]
  },
  {
   "cell_type": "markdown",
   "metadata": {},
   "source": [
    "mistral, aws comprehend , amazon bedrock"
   ]
  }
 ],
 "metadata": {
  "kernelspec": {
   "display_name": "dsproj",
   "language": "python",
   "name": "python3"
  },
  "language_info": {
   "codemirror_mode": {
    "name": "ipython",
    "version": 3
   },
   "file_extension": ".py",
   "mimetype": "text/x-python",
   "name": "python",
   "nbconvert_exporter": "python",
   "pygments_lexer": "ipython3",
   "version": "3.9.18"
  }
 },
 "nbformat": 4,
 "nbformat_minor": 2
}
